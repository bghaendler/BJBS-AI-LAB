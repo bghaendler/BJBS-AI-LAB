{
  "nbformat": 4,
  "nbformat_minor": 0,
  "metadata": {
    "colab": {
      "provenance": [],
      "toc_visible": true,
      "authorship_tag": "ABX9TyPpjVbxdHVdhoJhsrkEi1jy",
      "include_colab_link": true
    },
    "kernelspec": {
      "name": "python3",
      "display_name": "Python 3"
    },
    "language_info": {
      "name": "python"
    }
  },
  "cells": [
    {
      "cell_type": "markdown",
      "metadata": {
        "id": "view-in-github",
        "colab_type": "text"
      },
      "source": [
        "<a href=\"https://colab.research.google.com/github/bghaendler/BJBS-AI-Lab/blob/master/Measuring_and_Managing_Liquidity_Risk.ipynb\" target=\"_parent\"><img src=\"https://colab.research.google.com/assets/colab-badge.svg\" alt=\"Open In Colab\"/></a>"
      ]
    },
    {
      "cell_type": "markdown",
      "source": [
        "# A New Era of Liquidity Risk Management\n",
        "\n",
        "*Shyam Venkat*"
      ],
      "metadata": {
        "id": "bOkda-HV9SWR"
      }
    },
    {
      "cell_type": "markdown",
      "source": [
        "\n",
        "## INTRODUCTION\n"
      ],
      "metadata": {
        "id": "mcB9RdQX9kq1"
      }
    },
    {
      "cell_type": "markdown",
      "source": [
        "\n",
        "- Liquidity risk management is essential for all financial institutions, including banks and insurance companies.\n",
        "- Banks fund themselves with **short-term liabilities and invest in longer-dated assets, while continuing to meet liability obligations as they come due**.\n",
        "- The period from the mid-1990s to the mid-2000s saw relatively **few advancements in the discipline of liquidity risk management**.\n",
        "- The global financial crisis beginning in mid-2007 brought a **renewed focus on the importance of liquidity risk management**, prompting financial firms to enhance their capabilities.\n",
        "- Liquidity risk management practices have **continued to evolve and are expected to continue to do so due to regulatory guidance**.\n",
        "- The chapter discusses **leading practices for liquidity risk management in the areas of governance and organization**, measuring and managing liquidity risk, and optimizing business practices.\n",
        "- Institutions should consider their business model, size, scale, and complexity when implementing leading practices for liquidity risk management.\n",
        "- The global financial **crisis started in mid-2007 due to liquidity events**.\n",
        "    - Financial institutions were unprepared for the crisis despite upgrading their liquidity risk management practices.\n",
        "    - Company **treasurers** and their functions became the center stage in managing enterprise funding and liquidity to keep institutions afloat.\n",
        "    - Safe **sources of funding** such as client cash and secured financing were evaporating, causing concerns of runs on banks.\n",
        "- Liquidity risk management gained renewed **focus and importance after the crisis**.\n",
        "    - **New rules and regulations** prompted financial firms to enhance their capital and liquidity positions and related risk management capabilities.\n",
        "    - Financial services firms concentrated on **de-risking balance sheets and enhancing capital management capabilities** with respect to risk governance, stress testing, capital planning, and capital actions.\n",
        "- **Liquidity risk management practices have evolved since the global financial crisis, with regulatory guidance raising the standards for strong capabilities.**\n",
        "    - Some of these practices may be considered \"leading\" in nature, but this discussion on leading practices is not exhaustive and there are other sources of guidance available.\n",
        "    - The focus of the discussed practices is **methodological and practical**, rather than principles-based guidance offered by supervisors and regulators.\n",
        "    - The leading practices are organized into three areas:\n",
        "        - governance and organization,\n",
        "        - measuring and managing liquidity risk, and\n",
        "        - optimizing business practices.\n",
        "- Institutions should consider their **business model, size, scale, and complexity, as well as their structure, cultural and social norms, operating processes, and supporting infrastructure when implementing these practices**.\n",
        "- Additional considerations for institutions to ponder are summarized at the end of the chapter.\n"
      ],
      "metadata": {
        "id": "qtzLHkfb9ttf"
      }
    },
    {
      "cell_type": "markdown",
      "source": [
        "\n",
        "## GOVERNANCE AND ORGANIZATION\n"
      ],
      "metadata": {
        "id": "P-0uTBlX9my5"
      }
    },
    {
      "cell_type": "markdown",
      "source": [
        "\n",
        "### Liquidity Risk Management Oversight and Accountability\n"
      ],
      "metadata": {
        "id": "i2AscDcO9od3"
      }
    },
    {
      "cell_type": "markdown",
      "source": [
        "\n",
        "- **Strengthen Board Knowledge, Capabilities, and Reporting**\n",
        "    - **The financial crisis highlighted the need for improved awareness and reporting of liquidity risk at the board of directors and executive management levels within financial institutions.**\n",
        "    - **Strong governance** is critical in effectively managing all aspects of an enterprise, and liquidity risk management is no exception.\n",
        "    - **The board of directors** has the ultimate authority and responsibility for approving, overseeing, and monitoring the overall risk appetite and various individual components of the risk profile, including liquidity risk.\n",
        "    - Leading institutions are expanding board oversight of liquidity risk management to ensure the board has both a broad understanding of liquidity risk management concepts and sufficient knowledge of underlying technical details.\n",
        "    - **Board reporting has improved to show greater depth and frequency** of liquidity risk information and integration between business performance, financial, and other risk metrics to give boards greater clarity and an integrated view into the changing business and risk profiles of their institutions.\n",
        "- **Leverage the Three Lines of Defense to Align and Integrate Management of Liquidity Risk**\n",
        "    - The three lines of defense model shows the internal risk management posture of an institution.\n",
        "    - Each line has specific responsibilities with respect to the end-to-end liquidity risk management process.\n",
        "    - **Corporate treasury and/or ALCO typically serve as the first line**, while the CRO's independent risk oversight team provides the second line, and internal audit provides the third line of defense.\n",
        "    - **Institutions should empower their second-line risk managers to perform independent liquidity risk monitoring** and challenge the views held by the first line.\n",
        "    - **Effective coordination and communication** across the organization are critical for the effectiveness of each line of defense.\n",
        "    - **Investing in appropriate staff resources and training is essential for continuous and well-informed effective challenge**.\n",
        "- **Overall Risk Culture**\n",
        "    - **Lead and Inspire by having the Right Tone at the Top**\n",
        "        - **Corporate culture plays a crucial role in effective risk management**\n",
        "        - Leaders must lead by example to gain buy-in and confidence from their teams\n",
        "        - Effective risk management requires instilling a risk management mindset into all employees\n",
        "        - Leading institutions use rewards and consequences to demonstrate that risk management is everyone’s responsibility\n",
        "        - A rigorous **recruiting** process embeds desired risk culture characteristics into hiring requirements\n",
        "        - Mechanisms are put in place to **encourage escalation, rapid response, investigation, and attention by all employees**\n",
        "        - Executive management must **review relevant information and make decisions in accordance with the institution’s risk strategy and appetite when risk management raises concerns** and objections to the actions or exposures taken by the business.\n",
        "    - **See the Independent Risk Function as a True Advisor and Partner to the Business**\n",
        "        - Effective risk management is achieved when **risks are controlled at the point of initiation by the business unit.**\n",
        "        - There is a **need for more collaboration between corporate risk and front office functions**.\n",
        "        - Mismatched incentives, objectives, and level of influence strain the corporate risk and front office relationship, making risk management more challenging.\n",
        "        - Leading institutions have **shifted towards independent risk groups acting as risk advisors and business partners**.\n",
        "        - These institutions have a **strong risk culture** and improved collaboration by ensuring the risk management function has a seat and voice at the table.\n",
        "        - There are organizational and communication changes in place to support stronger partnership and collaboration between the independent risk function and business units.\n",
        "        - **The risk groups are involved in key business decisions upfront, and key risk-related business decisions are assigned to those groups and individuals best equipped for execution.**"
      ],
      "metadata": {
        "id": "1mR7uPqv9vQp"
      }
    },
    {
      "cell_type": "markdown",
      "source": [
        "\n",
        "\n",
        "## MEASURING AND MANAGING LIQUIDITY RISK\n"
      ],
      "metadata": {
        "id": "U8LlLSmk9rWL"
      }
    },
    {
      "cell_type": "markdown",
      "source": [
        "\n",
        "### - Liquidity Stress Testing (LST)\n"
      ],
      "metadata": {
        "id": "mraT1u56-GE0"
      }
    },
    {
      "cell_type": "markdown",
      "source": [
        "\n",
        "- Align Liquidity, Capital, Risk, Financial, and Performance Approaches and Methodologies\n",
        "    - Leading institutions are taking an integrated approach to manage liquidity, capital, risk, financial and performance frameworks and tools\n",
        "    - Institutions recognize that liquidity risk is interdependent with market, credit, operational, and other risks and is addressing them holistically\n",
        "    - Integrated risk management operating models, processes, and platforms are aligned to address the changing scope and scale of business activities and meet evolving regulatory requirements\n",
        "    - Emerging technologies are leveraged to achieve alignment and meet regulatory requirements\n",
        "    - Results from this approach have helped improve business and financial performance management, forecasting analytics, data quality and reporting, and cost efficiencies through increased system automation.\n",
        "- Apply Rigorous and Effective Challenge in Development of Models and Assumptions\n",
        "    - The importance of forecasting and risk models and associated model management practices has risen significantly over the past several years.\n",
        "    - There is **significant emphasis on both the numeric values produced by models and the governance processes overseeing those values that are derived and/or determined by expert judgment.**\n",
        "    - Leading institutions apply **effective challenge to the models** by involving senior stakeholders from senior management, business, finance, risk, and other support groups.\n",
        "    - Assumptions are scrutinized and challenged to evaluate their robustness.\n",
        "    - Institutions focus on both the quantitative results and qualitative controls, including supporting documentation, to effectively demonstrate sound risk modeling practices.\n",
        "- Design a Strong LST Framework, Starting with Key Elements, and Enhance Continuously\n",
        "    - Leading institutions are **recognizing the complexity of managing liquidity risk and the importance of aligning liquidity, capital, risk, financial, and performance approaches and methodologies**.\n",
        "    - They are taking a more integrated approach to managing liquidity risk and designing more holistic risk management frameworks.\n",
        "    - Institutions are applying effective challenge to models by involving senior stakeholders and scrutinizing and challenging model assumptions to evaluate their robustness.\n",
        "    - Institutions are developing a strategic view of enhancing their liquidity risk management capabilities, focusing on key enhancements needed to address immediate issues and/or pending regulatory mandates.\n",
        "    - They are implementing changes in a modular or phased manner, with short-term goals and long-term vision, and seeing liquidity risk management enhancement initiatives as part of their continuous improvement efforts.\n"
      ],
      "metadata": {
        "id": "HBZ2v3yj-HWH"
      }
    },
    {
      "cell_type": "markdown",
      "source": [
        "\n",
        "### - Intraday Liquidity—Risk Measurement, Management, and Monitoring Tools for Financial Institutions\n"
      ],
      "metadata": {
        "id": "LX5SwkZO9-gk"
      }
    },
    {
      "cell_type": "markdown",
      "source": [
        "\n",
        "- Prioritize System Enhancements to Communicate Unanticipated Intraday Liquidity Events\n",
        "    - Institutions typically use batch processing to capture liquidity impacts, but this approach does not account for unanticipated liquidity events.\n",
        "    - Institutions are improving communication and linkages between treasury, operations, and cash management to better monitor and account for unexpected liquidity events during the business day.\n",
        "    - Developing linkages between monitoring systems allows for more efficient work and reduces potential intraday liquidity surprises.\n",
        "    - Firms should prioritize system enhancements for businesses that generate the most unanticipated liquidity activity, such as prime brokerage, securities clearance, and trading.\n",
        "- Establish Linkages between Intraday Credit and Liquidity Monitoring\n",
        "    - Banks have improved their intraday credit risk monitoring to understand risk concentrations across multiple asset classes, especially trading counterparties.\n",
        "    - Specialized groups now monitor counterparty credit quality throughout the day and alert businesses to declines in creditworthiness.\n",
        "    - Cross-pollinating information between liquidity, operations, and cash management personnel with credit risk monitoring functions helps firms understand how credit problems can affect projected liquidity and expected cash flows.\n",
        "    - Credit risk teams can alert liquidity managers to potential losses due to a decline in creditworthiness of a counterparty, allowing managers to respond effectively by altering liquidity composition and timing of payments.\n",
        "    - Credit considerations become particularly acute with respect to foreign currency exposure.\n",
        "- Incorporate Intraday Exposure Analysis to Size the Working Capital Reserve\n",
        "    - To estimate working capital, firms typically predict their daily cash inflows and outflows and then add in a buffer to account for potential disruptions.\n",
        "    - However, this method may not accurately estimate how much cash the firm will need during the day.\n",
        "    - To address this, some leading firms now use intraday data to better predict cash needs, including unexpected spikes in business activity.\n",
        "    - Current approaches to estimating working capital involve **projecting daily liquidity sources and uses and stress analysis of historical end-of-day exposures**.\n",
        "    - Stress analysis includes **accounting for potential disruptions in projected cash flows from events such as failures of agent banks**, FMI tightening of credit, failed trades, and delayed settlements.\n",
        "    - This approach may not appropriately estimate the magnitude of potential liquidity disruptions.\n",
        "    - Leading firms have started estimating working capital needs **using intraday exposures to account for large spikes in business activity and resulting liquidity needs throughout the business day that may not be reflected in end-of-day metrics.**\n"
      ],
      "metadata": {
        "id": "7L0SPGch-PwJ"
      }
    },
    {
      "cell_type": "markdown",
      "source": [
        "### - The Convergence of Collateral and Liquidity"
      ],
      "metadata": {
        "id": "oimLQjvV-MpI"
      }
    },
    {
      "cell_type": "markdown",
      "source": [
        "\n",
        "- Invest in Collateral Management Infrastructure to Gain Cost and Operational Efficiencies and also to Extract Liquidity Risk Management Benefits\n",
        "    - Upgrading collateral management capabilities can improve credit risk management, processing efficiency, cost savings, and liquidity risk management.\n",
        "        - This is leading to implementation of unified target operating models, rationalized technology platforms, and greater automation within collateral management.\n",
        "    - Heightened volatility in fast-moving capital markets can trigger unexpected collateral calls and increase exposure to firm-wide liquidity risk.\n",
        "    - Mobilizing eligible collateral effectively can become the key to economic survival in such instances.\n",
        "- Integrate Collateral Management more Closely with Front Office and Treasury Functions\n",
        "    - Market reforms are requiring more collateral to be posted for both centrally-cleared and non-cleared swap portfolios.\n",
        "    - Banks are required to hold more high-quality collateral due to stringent capital and liquidity regulations under Basel III.\n",
        "    - To meet these requirements, investment in cost-effective technology platforms and capabilities is needed.\n",
        "    - Collateral management function needs to move away from being solely a back-office function focused on credit risk to requiring closer collaboration between front office and treasury functions.\n",
        "    - Effective integration and management of collateral and liquidity require collaboration between front office and treasury functions to facilitate sound trade placement decisions and leverage collateral to its fullest liquidity potential.\n",
        "    - Dodd-Frank Act and European Market Infrastructure Regulation reforms require more collateral for swap portfolios, making market participation more expensive and complex.\n",
        "    - Basel III regulations require banks to hold greater quantities of high-quality collateral, increasing pressure on collateral management.\n",
        "    - To meet multiple business and regulatory requirements, cost-effective technology platforms and capabilities need to be invested in.\n",
        "    - Clearinghouse cross-product margining will continue to grow, requiring a focus on exploiting collateral eligibility of each available asset.\n",
        "    - Effective collateral and liquidity management requires closer collaboration between front office and treasury functions.\n",
        "- Optimizing Collateral Management Helps to Optimize Liquidity Risk Management\n",
        "    - Firms are focusing on achieving collateral optimization to source, fund, and allocate collateral efficiently.\n",
        "    - Optimizing collateral management helps to improve yield from each asset, minimize financing costs, reduce capital charges, reduce liquidity risk, and eliminate over-collateralization.\n",
        "    - Cross-functional teams, rationalized operating models, common technology platforms, and proper collateral management processes are being put in place to achieve optimization.\n",
        "    - Collateral and liquidity are viewed as two sides of the same coin, and combining capital and liquidity costs can lead to significant benefits.\n"
      ],
      "metadata": {
        "id": "DvPa9kyb-43h"
      }
    },
    {
      "cell_type": "markdown",
      "source": [
        "\n",
        "### - Early Warning Indicators"
      ],
      "metadata": {
        "id": "2kcUb3hD-bfS"
      }
    },
    {
      "cell_type": "markdown",
      "source": [
        "\n",
        "- Select Internal **Early Warning Indicators that Complement Market-Derived Measures**\n",
        "    - Early Warning Indicators are important to understand an institution's liquidity position and potential vulnerabilities.\n",
        "    - Leading institutions use a combination of internal and external EWIs to identify emerging risks.\n",
        "    - Internal EWIs should be tailored to a firm's specific business and funding profile.\n",
        "    - Selecting the right indicators can help management to identify market trends and potential risks.\n",
        "- Link the **EWI Dashboard to a Strong Escalation Process**\n",
        "    - Connect the EWI dashboard with a strong escalation process\n",
        "    - Choose and adjust EWIs to inform management of the need for corrective action based on changes in the business environment or potential problems\n",
        "    - The escalation process should help management review trends, identify causes, and take appropriate action\n",
        "    - Review the selection and calibration of EWIs to reflect changes in business mix, activities, and market conditions\n",
        "    - EWIs should be forward-looking, provide a mix of regular and stressed environment information, and be assessed at predetermined intervals\n",
        "    - Continued deterioration in EWIs should activate the firm's emergency response tools, such as the contingency funding plan.\n",
        "    - Leading institutions use EWIs and related thresholds to signal the need for corrective action in response to changes in the business environment or potential firm-specific distress.\n",
        "    - A well-established escalation process should be in place to ensure that management and the board review trends, understand causes, identify potential impacts, and take appropriate actions.\n",
        "    - EWIs should be reviewed and calibrated to reflect changes in business mix, activities, and the macroeconomic and market environments.\n",
        "    - EWIs should be forward-looking and provide a mix of business-as-usual and stressed environment information, assessed against limits at predetermined intervals.\n",
        "    - Continued deterioration in a single or combined set of EWIs should trigger the firm’s emergency response tools, such as the contingency funding plan."
      ],
      "metadata": {
        "id": "bJc8bFLW-hBE"
      }
    },
    {
      "cell_type": "markdown",
      "source": [
        "\n",
        "### - Contingency Funding Planning"
      ],
      "metadata": {
        "id": "ZEBlNz_c-m_Q"
      }
    },
    {
      "cell_type": "markdown",
      "source": [
        "\n",
        "- **Bring Contingency Planning to the Forefront** and Align to Business and Risk Strategy Development\n",
        "    \n",
        "    Here are the main points of the text in simpler language:\n",
        "    \n",
        "    - Contingency Funding Planning (CFP) is important for managing liquidity risk.\n",
        "    - The CFP should integrate risk measurement and monitoring systems, scenario development, stress testing, and limit structures into a strong escalation process.\n",
        "    - Institutions should update the CFP periodically and align it with their business and risk profiles and changing market conditions.\n",
        "    - Leading institutions are incorporating the CFP into their strategic planning exercises to make it more forward-looking and flexible.\n",
        "    - Collaboration among relevant stakeholders is necessary to discuss business forecasting assumptions and their impact on liquidity risk and operational strategies during severe stress periods and market disruptions.\n",
        "    - Contingency funding planning (CFP) is critical for managing liquidity risk, and should integrate risk assessment, stress testing, and limit structures\n",
        "    - CFPs should be regularly updated to remain relevant and effective, considering changes in the institution's business and risk profile and external market conditions\n",
        "    - Leading institutions are incorporating CFPs into strategic planning exercises to make them more forward-looking and flexible\n",
        "    - Collaboration among stakeholders from different functions allows for effective discussions of business forecasting assumptions and their impact on liquidity risk and operational strategies\n",
        "    - Effective CFPs should have escalation triggers, early warning indicators, contingent actions, and strategies tailored to the institution's current activities and projected areas of growth.\n",
        "- **Align and Integrate CFP to Business and Risk Continuity Strategies**\n",
        "    - CFP is not a stand-alone tool, but rather part of a suite of capabilities and resources for managing liquidity crises.\n",
        "    - Alignment and integration of capabilities such as BCP and RRP with CFP can enhance decision-making capabilities during market disruptions.\n",
        "    - Common data taxonomies and a comprehensive list of liquidity risk management applications are needed to ensure consistency across the enterprise and continuity of critical services.\n",
        "- **Planning, Preparing, and Practicing for the Unexpected**\n",
        "    - Effective execution of the CFP during a liquidity crisis is critical\n",
        "    - **People need to understand their roles and responsibilities** under a streamlined command structure and communication protocols\n",
        "    - **Periodic testing is necessary** to improve the CFP's operational effectiveness and response times\n",
        "    - **Frequent exercises that simulate potential liquidity crisis** environments are recommended\n",
        "    - Testing may also identify potential gaps and improvement opportunities that may have gone unnoticed\n"
      ],
      "metadata": {
        "id": "c9k9ryHy_Lmv"
      }
    },
    {
      "cell_type": "markdown",
      "source": [
        "### - Liquidity Risk Management Information Systems"
      ],
      "metadata": {
        "id": "l9k_xOJ8-rnl"
      }
    },
    {
      "cell_type": "markdown",
      "source": [
        "\n",
        "- **Enhance Ownership and Accountability** of Liquidity Risk Data\n",
        "    - Institutions face challenges in keeping up with increasing regulatory requirements for liquidity risk data\n",
        "    - This has resulted in data quality challenges and increased manual efforts in reconciling and enriching information for reporting\n",
        "    - Leading institutions designate **\"risk data czars\"** to lead and coordinate data management practices across the enterprise\n",
        "    - Risk data czars oversee the risk data management lifecycle, including data capture, enrichment, quality maintenance, analytics, reporting, and archiving.\n",
        "- Manage Liquidity Data Comprehensively: From End-to-End and Top-to-Bottom\n",
        "    - Leading institutions invest in a comprehensive view of liquidity information and improved data quality\n",
        "    - **Integration of risk, asset liability management, funds transfer pricing, transaction processing, and forecasting systems** to enable more comprehensive data sets and shared common analytic engines/modules\n",
        "    - **Standardization of liquidity data** definitions and attributes through improved reference and position data collection\n",
        "    - **Development of integrated analytics and reporting suites** for multiple purposes, including CFP dashboard metrics and thresholds, resolution planning, strategic planning, and forecasting.\n",
        "- **Develop a Vision and Continue to Build on a Scalable and Flexible Liquidity Risk\n",
        "Architecture**\n",
        "    - Institutions need to be mindful of the interconnections between liquidity risk systems and other IT initiatives.\n",
        "    - Leading institutions have a strong understanding of the IT systems and data blueprint, both current and future state.\n",
        "    - Leading institutions have an executive owner who provides oversight and coordination for liquidity risk data.\n",
        "    - Leading institutions have a strong business case and well-defined requirements for IT investments, with support from senior management.\n"
      ],
      "metadata": {
        "id": "q4oqWHWs_KWm"
      }
    },
    {
      "cell_type": "markdown",
      "source": [
        "### - Recovery and Resolution Planning\n"
      ],
      "metadata": {
        "id": "0nDp-is3-vrs"
      }
    },
    {
      "cell_type": "markdown",
      "source": [
        "\n",
        "- Embed Liquidity Needs for Resolution Planning into BAU Liquidity Reserves\n",
        "    - Resolution planning involves identifying and measuring the liquidity required to resolve a firm in an orderly manner.\n",
        "    - Leading institutions use liquidity estimates at the firm-wide and legal entity levels produced for resolution planning.\n",
        "    - These estimates help assess the size of liquidity reserves needed to support liquidity risk strategies during BAU, recovery, and resolution.\n",
        "    - Firms model liquidity needs for resolution strategies daily and adjust their BAU liquidity base accordingly.\n",
        "    - Limits are set using resolution liquidity estimates, and associated response actions are developed.\n",
        "    - Resolution planning considerations are integrated into liquidity risk management architecture.\n",
        "- Integrate LST and Contingency Funding Planning into the Resolution Plan\n",
        "    - Institutions should make assumptions about sources and uses of funding when developing a resolution plan and addressing resulting liquidity impacts.\n",
        "    - These assumptions include deposit runoffs, drawdowns on outstanding lines of commitment, and additional collateral demands.\n",
        "    - Many institutions use liquidity stress testing and contingency funding plans to forecast the aggregate amount of net liquidity needed to support their resolution strategies.\n",
        "    - Leveraging existing liquidity risk management and forecasting tools is similar to estimating required liquidity under the Liquidity Coverage Ratio (LCR).\n",
        "    - Leading institutions are embedding their own internal liquidity risk management tools into resolution planning by forecasting liquidity at set intervals.\n",
        "    - These projections better identify potential liquidity and funding mismatches that may not be apparent when analyzing point-in-time, aggregate liquidity requirements.\n",
        "- Understand Liquidity Traps and Frictions to Cash Transfer\n",
        "    - U.S. regulators require covered institutions to identify potential liquidity traps in their resolution plans.\n",
        "    - Most firms have provided only commentary regarding legal entities and national jurisdictions where liquidity could be trapped, but have not factored these impacts into their liquidity models and forecasts.\n",
        "    - Leading institutions estimate the potential amount of trapped liquidity and other frictions to liquidity transfer and include this impact in their resolution plan forecasts.\n",
        "    - They have developed liquidity risk triggers and response actions to ensure entities with national or jurisdictional liquidity requirements have adequate funding in different stress scenarios.\n"
      ],
      "metadata": {
        "id": "09Tqyf6Y_Iv_"
      }
    },
    {
      "cell_type": "markdown",
      "source": [
        "\n",
        "## OPTIMIZING BUSINESS PRACTICES\n"
      ],
      "metadata": {
        "id": "B1jEtYaQ-2kX"
      }
    },
    {
      "cell_type": "markdown",
      "source": [
        "\n",
        "### Strategic and Tactical Implications of the New Requirements\n"
      ],
      "metadata": {
        "id": "wgytS_tH-8DC"
      }
    },
    {
      "cell_type": "markdown",
      "source": [
        "\n",
        "- **Align and incorporate the institution’s strategic and business imperatives into\n",
        "regulatory initiatives.**\n",
        "    - The financial crisis forced banks to operate with excess liquidity, higher regulatory capital, greater capital buffers, and less leverage.\n",
        "    - Structural market reforms eliminated previously profitable businesses.\n",
        "    - Leaders need to employ **astute financial analysis and discipline over appropriately calibrated investment horizons**, rather than financial engineering and short-termism.\n",
        "    - **Banks seeking to be \"end-game players\"** need to structure optimal asset mixes to achieve higher returns while meeting minimum regulatory liquidity and capital requirements.\n",
        "    - **Strategies should be driven by**\n",
        "        - mission appropriateness,\n",
        "        - sound management practices,\n",
        "        - competitive positioning, and\n",
        "        - institutional capabilities that leverage technology and\n",
        "        - human capital.\n",
        "    - Leading institutions are starting to address regulatory requirements up front during strategy formulation rather than downstream as an afterthought or with just a compliance mindset.\n",
        "- Bigger may not Necessarily be Better—and the Answer is Different for each Institution\n",
        "    - Banks face strict rules and regulations for liquidity and capital, with higher thresholds for larger firms, particularly those deemed to be systemically important.\n",
        "    - Smaller firms may feel the need to increase their size to compete with larger firms, but across-the-board scale for its sake alone may not be the correct approach.\n",
        "    - **Achieving the optimum asset mix requires continual refinement** due to\n",
        "        - differences in business models,\n",
        "        - competitive positioning,\n",
        "        - barriers to entry,\n",
        "        - customer needs and preferences,\n",
        "        - institutional capabilities,\n",
        "        - legacy factors, and\n",
        "        - regulatory requirements.\n",
        "    - The liquidity rules under the LCR and Net Stable Funding Ratio favor banks that rely on retail deposits and long-term funding, while increased stress testing and regulatory capital requirements favor banks with portfolios that show less deterioration under market downturn scenarios.\n",
        "    - **Banks must optimize the relative levels of their risk-weighted assets and actual assets, known as RWA density**, to meet the leverage ratio constraints.\n",
        "    - Systemically important institutions must also hold a minimum amount of **Total Loss Absorbency Capacity (TLAC)**.\n",
        "    - Leading institutions have met the challenge of new regulatory requirements with conviction, ingenuity, and resolve, rather than copying their competitors' approaches.\n",
        "    - **Establishing the right strategic direction and identifying tactical steps for superior execution requires these attributes**, rather than a \"me too\" mindset.\n",
        "- Regulations may vary Across Jurisdictions, but Strong Risk Management is Fundamental and Good Business Practice\n",
        "    - Regulations in the financial services industry were created based on advances in risk management\n",
        "    - The financial crisis of 2007-08 exposed a gap between theory and practice in risk management\n",
        "    - Regulations post-crisis aimed to bridge this gap and strengthen the safety and soundness of individual banking sectors\n",
        "    - However, these regulations have added costs to banks without necessarily providing appropriate benefits\n",
        "    - Compliance challenges arise for global firms as regulations vary across jurisdictions and some areas remain open to interpretation\n",
        "    - Piecemeal approaches to meeting regulatory requirements are less cost-effective and efficient than taking a holistic view of regulatory requirements and business imperatives\n",
        "    - Effective risk management capabilities justify costs and enable firms to achieve business objectives while meeting regulatory requirements\n",
        "    - Firms that leverage sound risk management capabilities are better positioned than those that merely seek conformity to minimum compliance.\n",
        "\n"
      ],
      "metadata": {
        "id": "b8kUt6BT-9Pk"
      }
    },
    {
      "cell_type": "markdown",
      "source": [
        "### Funds Transfer Pricing (FTP) and the Basel III Liquidity Framework\n"
      ],
      "metadata": {
        "id": "Kug_5tT__Agw"
      }
    },
    {
      "cell_type": "markdown",
      "source": [
        "\n",
        "- Charge Business Units for Liquidity Costs—Liquidity can no Longer be Treated as a “Costless” Risk—and let Them Figure Out how to Generate Appropriate Returns\n",
        "    - Liquidity costs are becoming increasingly important for financial institutions and should be considered alongside capital costs.\n",
        "    - Stranded liquidity costs at the corporate center can disincentivize business units from innovating and pursuing profitable opportunities.\n",
        "    - The enhanced FTP framework should include both normal and stressed liquidity costs for measuring business unit performance.\n",
        "    - Corporate center managers alone cannot be responsible for improving enterprise profitability; they need to involve business unit partners in targeting strategies, products, services, and customer propositions.\n",
        "    - Early adoption of this approach can give a competitive advantage.\n",
        "- Leverage and Integrate Basel III and Liquidity Stress Testing\n",
        "    - The Basel III liquidity framework uses stressed cash outflows to determine the size of a bank's liquidity buffer.\n",
        "    - This concept can be useful for designing and integrating funds transfer pricing (FTP).\n",
        "    - Traditional FTP approaches indirectly addressed cash volatility through core and volatile splits and term liquidity premium assignments.\n",
        "    - The Basel III framework and internal stress testing allow for explicit linkage of product-level attributes to the sizing of the liquidity buffer.\n",
        "    - Leading banks are incorporating these attributes (such as the mix of operational and non-operational deposits) directly into their FTP models.\n",
        "    - The ultimate goal is to fully charge out the buffer to volatile and contingent liabilities.\n",
        "- More Granular is Better, but Directional Accuracy is Preferable to Pinpoint Precision\n",
        "    - Easy money and quick profits are no longer sustainable in the financial services industry.\n",
        "    - FTP (Funds Transfer Pricing) frameworks need to be more granular and differentiated across business lines, products, and customer segments.\n",
        "    - FTP frameworks should also account for individual clients as users or contributors of liquidity.\n",
        "    - Business units and corporate centers have conflicting interests that can hinder the development of finely tuned FTP frameworks.\n",
        "    - Existing FTP frameworks are imperfect but incorporating more details of liquidity costs can create better performance metrics.\n",
        "    - Improvements in the profitability of financial institutions will likely occur in marginal steps rather than quantum leaps.\n",
        "    - Adopting and applying the discipline of enhanced FTP frameworks can lead to real success.\n",
        "\n"
      ],
      "metadata": {
        "id": "c51qornb_FDc"
      }
    },
    {
      "cell_type": "markdown",
      "source": [
        "## FURTHER CONSIDERATIONS FOR THE PATH FORWARD"
      ],
      "metadata": {
        "id": "P0UrgDX0_CNU"
      }
    },
    {
      "cell_type": "markdown",
      "source": [
        "\n",
        "\n",
        "- Institutions should view regulatory requirements for liquidity risk management not just as compliance-only efforts but also as opportunities to drive strategy execution and enhance competitive positioning.\n",
        "- Liquidity risk management cannot be viewed in isolation and must be examined for its interplay with other risks faced by the institution, such as credit, market, and operational risks.\n",
        "- Effective liquidity risk management requires buy-in and involvement from stakeholders throughout the institution, including the board, management, business leads, finance, risk, treasury, operations, and other support functions.\n",
        "- Institutions should focus on designing and implementing a spectrum of capabilities to address liquidity strategy and risk appetite setting, risk culture and organization, stress testing frameworks, liquidity risk measures and early warning indicators, analytics, contingency funding plans, risk reporting, and information technology infrastructure."
      ],
      "metadata": {
        "id": "VS1hCUCz_DHM"
      }
    },
    {
      "cell_type": "code",
      "execution_count": null,
      "metadata": {
        "id": "xTJKsWuj9GrJ"
      },
      "outputs": [],
      "source": []
    }
  ]
}