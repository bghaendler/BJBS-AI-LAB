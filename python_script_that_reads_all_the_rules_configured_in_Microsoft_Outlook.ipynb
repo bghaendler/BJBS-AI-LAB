{
  "nbformat": 4,
  "nbformat_minor": 0,
  "metadata": {
    "colab": {
      "provenance": [],
      "authorship_tag": "ABX9TyPik8FC8gLIyEghxoiodJFL",
      "include_colab_link": true
    },
    "kernelspec": {
      "name": "python3",
      "display_name": "Python 3"
    },
    "language_info": {
      "name": "python"
    }
  },
  "cells": [
    {
      "cell_type": "markdown",
      "metadata": {
        "id": "view-in-github",
        "colab_type": "text"
      },
      "source": [
        "<a href=\"https://colab.research.google.com/github/bghaendler/BJBS-AI-Lab/blob/master/python_script_that_reads_all_the_rules_configured_in_Microsoft_Outlook.ipynb\" target=\"_parent\"><img src=\"https://colab.research.google.com/assets/colab-badge.svg\" alt=\"Open In Colab\"/></a>"
      ]
    },
    {
      "cell_type": "code",
      "execution_count": null,
      "metadata": {
        "id": "PMrRQBT4rFTU"
      },
      "outputs": [],
      "source": [
        "import win32com.client\n",
        "\n",
        "outlook = win32com.client.Dispatch(\"Outlook.Application\")\n",
        "rules = outlook.Session.DefaultStore.GetRules()\n",
        "\n",
        "for rule in rules:\n",
        "    print(\"Rule name: \", rule.Name)\n",
        "    print(\"Rule enabled: \", rule.Enabled)\n",
        "    #print(\"Rule conditions: \", rule.Conditions)\n",
        "    for i in range(1, rule.Conditions.Count + 1):\n",
        "      print(\"Rule conditions: \", rule.Conditions.Item(i))\n",
        "    for i in range(1, rule.Actions.Count + 1):\n",
        "      print(\"Rule actions: \", rule.Actions.Item(i))\n",
        "    print(\"-----------------------------\")"
      ]
    }
  ]
}