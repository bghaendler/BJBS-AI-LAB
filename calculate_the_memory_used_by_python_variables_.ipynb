{
  "nbformat": 4,
  "nbformat_minor": 0,
  "metadata": {
    "colab": {
      "provenance": [],
      "authorship_tag": "ABX9TyNIuwkUmItwIQx2qeS3cFBk"
    },
    "kernelspec": {
      "name": "python3",
      "display_name": "Python 3"
    },
    "language_info": {
      "name": "python"
    }
  },
  "cells": [
    {
      "cell_type": "markdown",
      "source": [
        "To calculate the memory used by Python variables, you can use the sys module's getsizeof() function. For example, to calculate the memory used by a variable x, you can use the following code:"
      ],
      "metadata": {
        "id": "k9_PZlQyxChk"
      }
    },
    {
      "cell_type": "code",
      "execution_count": 1,
      "metadata": {
        "colab": {
          "base_uri": "https://localhost:8080/"
        },
        "id": "NX2X4AM-xARL",
        "outputId": "c5789c30-7234-428f-bb00-f6f467dd89ac"
      },
      "outputs": [
        {
          "output_type": "stream",
          "name": "stdout",
          "text": [
            "59\n"
          ]
        }
      ],
      "source": [
        "import sys\n",
        "x = \"some value\"\n",
        "print(sys.getsizeof(x))"
      ]
    },
    {
      "cell_type": "markdown",
      "source": [
        "This will print the number of bytes used by the variable x.\n",
        "\n",
        "Note that, the getsizeof() function returns the size of the object in bytes, including the memory used by any objects it refers to. So, for example, if x is a list containing other objects, the getsizeof(x) will also include the memory used by those objects.\n",
        "\n",
        "Another way to achieve this would be to use the psutil library and use the virtual_memory() function to get the information of the virtual memory usage."
      ],
      "metadata": {
        "id": "WKKgcqGtxKj8"
      }
    },
    {
      "cell_type": "code",
      "source": [
        "import psutil\n",
        "mem = psutil.virtual_memory()\n",
        "print(f'Total memory: {mem.total}')\n",
        "print(f'Used memory: {mem.used}')\n"
      ],
      "metadata": {
        "colab": {
          "base_uri": "https://localhost:8080/"
        },
        "id": "670seGspxMaP",
        "outputId": "71bd9136-f70b-4f6d-e22f-1c4c65ac74eb"
      },
      "execution_count": 2,
      "outputs": [
        {
          "output_type": "stream",
          "name": "stdout",
          "text": [
            "Total memory: 13616332800\n",
            "Used memory: 526000128\n"
          ]
        }
      ]
    },
    {
      "cell_type": "code",
      "source": [
        "def check_memory():\n",
        "    for variable_name, variable in locals().items():\n",
        "        variable_size = sys.getsizeof(variable)\n",
        "        print(f'{variable_name}: {variable_size / 1024:.2f} KB')\n",
        "\n",
        "check_memory()\n"
      ],
      "metadata": {
        "id": "_0-irk5JxQos"
      },
      "execution_count": 5,
      "outputs": []
    },
    {
      "cell_type": "code",
      "source": [
        "def check_memory():\n",
        "    for variable_name in locals():\n",
        "        print(variable_name)\n",
        "        variable_size = sys.getsizeof(eval(variable_name))\n",
        "        print(f'{variable_name}: {variable_size / 1024:.2f} KB')"
      ],
      "metadata": {
        "id": "A7gZ94VFxfGz"
      },
      "execution_count": 10,
      "outputs": []
    },
    {
      "cell_type": "code",
      "source": [
        "x = 1\n",
        "y = \"hello\"\n",
        "z = [1, 2, 3]\n",
        "variable_size = sys.getsizeof(z)\n",
        "print(f'{z}: {variable_size / 1024:.2f} KB')"
      ],
      "metadata": {
        "colab": {
          "base_uri": "https://localhost:8080/"
        },
        "id": "TTeG4zdPyWkx",
        "outputId": "05406644-0819-4d88-9ffc-f5586d37399b"
      },
      "execution_count": 21,
      "outputs": [
        {
          "output_type": "stream",
          "name": "stdout",
          "text": [
            "[1, 2, 3]: 0.08 KB\n"
          ]
        }
      ]
    },
    {
      "cell_type": "code",
      "source": [
        "check_memory()"
      ],
      "metadata": {
        "id": "LCE1-et8xZyn"
      },
      "execution_count": 14,
      "outputs": []
    }
  ]
}