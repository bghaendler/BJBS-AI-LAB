{
  "nbformat": 4,
  "nbformat_minor": 0,
  "metadata": {
    "colab": {
      "name": "BJBS AI_Lab Session 03 House Price Prediction.ipynb",
      "provenance": [],
      "collapsed_sections": [
        "5y2dBW2cysJn",
        "dyVAuruziChu",
        "4JucgwC-ldEE",
        "5s1MMQRujBJr",
        "clie8t2dy5pP"
      ],
      "authorship_tag": "ABX9TyOK0WxkhbX+MlCEhGK9q3S/",
      "include_colab_link": true
    },
    "kernelspec": {
      "name": "python3",
      "display_name": "Python 3"
    }
  },
  "cells": [
    {
      "cell_type": "markdown",
      "metadata": {
        "id": "view-in-github",
        "colab_type": "text"
      },
      "source": [
        "<a href=\"https://colab.research.google.com/github/bghaendler/BJBS-AI-LAB/blob/master/BJBS_AI_Lab_Session_03_House_Price_Prediction.ipynb\" target=\"_parent\"><img src=\"https://colab.research.google.com/assets/colab-badge.svg\" alt=\"Open In Colab\"/></a>"
      ]
    },
    {
      "cell_type": "markdown",
      "metadata": {
        "id": "H6luBCkuHcVG",
        "colab_type": "text"
      },
      "source": [
        "<img width=\"300\" src=\"https://raw.githubusercontent.com/bghaendler/BJBS-AI-LAB/master/img/BJBSAILogo.png\" align=\"right\"> \n",
        "# House Price Prediction - Singapore HDB Resale Analysis"
      ]
    },
    {
      "cell_type": "markdown",
      "metadata": {
        "id": "fxEN7jfTEt0u",
        "colab_type": "text"
      },
      "source": [
        "Dear Colleagues, here I am trying to explain step by step the Analysis for Singapore HDB resale price \"prediction\". Although the data is quite good and accurate (it is coming from SG goverment), there are not enough datapoints to do an accurate prediction. In any case, is good to do an exercise.\n",
        "\n",
        "- **Section for Data Analyst**\n",
        "\n",
        "As you can see below, there are several steps. **I want you to focus on the first 3 steps** \n",
        "1. Download the data\n",
        "2. Understand the data (with some visualizations)\n",
        "3. Feature creation\n",
        "These steps are the ones that you will use the most in you daily BJB tasks\n",
        "\n",
        "- **Section for ML geeks**\n",
        "\n",
        "Finally, although still we haven't hace a session on Machine learning, I reproduce the process for modeling preditiction. \n",
        "\n",
        "In summary, the process for ML experimentation go throught\n",
        "- Split the data\n",
        "- Select the models and hyperparametrice\n",
        "- Review the results \n",
        "\n",
        "I have created some new features (step 3), then I delete those that are not useful (step 4). Step 5 correct feature skewness (necessary to improve the ML accuracy). Then it is necessary to split the data into train and test set to validate the accuracy of our model (step 6) and finally I go with the ML modeling ussing regresors (why regressors? well, we are looking a price, price is a continuous value, we need regression). Then finally the predicition.\n",
        "\n",
        "I am taking a new methodology to stack the models (still learning it) and finally, to evaluate the accuracy we use Root Mean Squared Logarithmic Error"
      ]
    },
    {
      "cell_type": "markdown",
      "metadata": {
        "id": "5y2dBW2cysJn",
        "colab_type": "text"
      },
      "source": [
        "# Section for Data Analyst"
      ]
    },
    {
      "cell_type": "markdown",
      "metadata": {
        "id": "Lu357H9XsvEn",
        "colab_type": "text"
      },
      "source": [
        "## Libraries"
      ]
    },
    {
      "cell_type": "code",
      "metadata": {
        "id": "9YVBUoSyiKnt",
        "colab_type": "code",
        "outputId": "5473c863-5ff9-4308-98e4-ee0372711d98",
        "colab": {
          "base_uri": "https://localhost:8080/",
          "height": 71
        }
      },
      "source": [
        "import pandas as pd\n",
        "import matplotlib.pyplot as plt\n",
        "import seaborn as sns\n",
        "import numpy as np\n",
        "from scipy.stats import norm\n",
        "from sklearn.preprocessing import StandardScaler\n",
        "from sklearn.base import clone\n",
        "from scipy import stats\n",
        "import warnings\n",
        "warnings.filterwarnings('ignore')\n",
        "%matplotlib inline"
      ],
      "execution_count": 0,
      "outputs": [
        {
          "output_type": "stream",
          "text": [
            "/usr/local/lib/python3.6/dist-packages/statsmodels/tools/_testing.py:19: FutureWarning: pandas.util.testing is deprecated. Use the functions in the public API at pandas.testing instead.\n",
            "  import pandas.util.testing as tm\n"
          ],
          "name": "stderr"
        }
      ]
    },
    {
      "cell_type": "markdown",
      "metadata": {
        "id": "dyVAuruziChu",
        "colab_type": "text"
      },
      "source": [
        "## 1st Step: Download the data"
      ]
    },
    {
      "cell_type": "markdown",
      "metadata": {
        "id": "IUxwa-1XVd9w",
        "colab_type": "text"
      },
      "source": [
        "Source of the data. Singapore goverment\n",
        "https://data.gov.sg/dataset/resale-flat-prices\n"
      ]
    },
    {
      "cell_type": "code",
      "metadata": {
        "id": "p2nOIDwth60i",
        "colab_type": "code",
        "outputId": "924b58af-b73d-409b-de20-d23cbdbd7c36",
        "colab": {
          "base_uri": "https://localhost:8080/",
          "height": 323
        }
      },
      "source": [
        "# Download only once\n",
        "!mkdir data #This line of code, creates a folder called \"data\"\n",
        "!wget https://storage.data.gov.sg/resale-flat-prices/resale-flat-prices.zip --directory-prefix=data/ #Here we donwload the Zip file from the web source\n",
        "!unzip data/resale-flat-prices.zip -d data/ # finally, we unzip the content into \"data\" folder"
      ],
      "execution_count": 0,
      "outputs": [
        {
          "output_type": "stream",
          "text": [
            "--2020-04-06 13:34:45--  https://storage.data.gov.sg/resale-flat-prices/resale-flat-prices.zip\n",
            "Resolving storage.data.gov.sg (storage.data.gov.sg)... 104.26.15.175, 104.26.14.175, 2606:4700:20::681a:eaf, ...\n",
            "Connecting to storage.data.gov.sg (storage.data.gov.sg)|104.26.15.175|:443... connected.\n",
            "HTTP request sent, awaiting response... 200 OK\n",
            "Length: 66716055 (64M) [application/zip]\n",
            "Saving to: ‘data/resale-flat-prices.zip’\n",
            "\n",
            "resale-flat-prices. 100%[===================>]  63.62M  26.3MB/s    in 2.4s    \n",
            "\n",
            "2020-04-06 13:34:48 (26.3 MB/s) - ‘data/resale-flat-prices.zip’ saved [66716055/66716055]\n",
            "\n",
            "Archive:  data/resale-flat-prices.zip\n",
            " extracting: data/metadata-resale-flat-prices.txt  \n",
            " extracting: data/resale-flat-prices-based-on-registration-date-from-jan-2017-onwards.csv  \n",
            " extracting: data/resale-flat-prices-based-on-registration-date-from-jan-2015-to-dec-2016.csv  \n",
            " extracting: data/resale-flat-prices-based-on-registration-date-from-mar-2012-to-dec-2014.csv  \n",
            " extracting: data/resale-flat-prices-based-on-approval-date-2000-feb-2012.csv  \n",
            " extracting: data/resale-flat-prices-based-on-approval-date-1990-1999.csv  \n"
          ],
          "name": "stdout"
        }
      ]
    },
    {
      "cell_type": "code",
      "metadata": {
        "id": "7d9hScPDiNZx",
        "colab_type": "code",
        "colab": {}
      },
      "source": [
        "path = \"data/\" #here we create a variable to indicate the \"path\" to the folder where our data will be stored"
      ],
      "execution_count": 0,
      "outputs": []
    },
    {
      "cell_type": "code",
      "metadata": {
        "id": "_ACOiILYiP4p",
        "colab_type": "code",
        "colab": {}
      },
      "source": [
        "df_train = pd.read_csv(path+'resale-flat-prices-based-on-registration-date-from-jan-2017-onwards.csv')"
      ],
      "execution_count": 0,
      "outputs": []
    },
    {
      "cell_type": "markdown",
      "metadata": {
        "id": "4JucgwC-ldEE",
        "colab_type": "text"
      },
      "source": [
        "## 2nd Step: Understand the data: Data Visualization"
      ]
    },
    {
      "cell_type": "markdown",
      "metadata": {
        "id": "RjpI4PQelfOQ",
        "colab_type": "text"
      },
      "source": [
        "- Before starting in a machine learning project, it is important that we carry out some standard visualization procedures to **understand our data**. \n",
        "- Only by understanding our data, we would know the right approach in cleaning and preprocessing our data.\n",
        "Below are the available columns in this data:"
      ]
    },
    {
      "cell_type": "markdown",
      "metadata": {
        "id": "d8y4n1lC3xDk",
        "colab_type": "text"
      },
      "source": [
        ""
      ]
    },
    {
      "cell_type": "code",
      "metadata": {
        "id": "elwioQyIL-0Y",
        "colab_type": "code",
        "outputId": "58711726-604d-417a-ca69-c088bea1419c",
        "colab": {
          "base_uri": "https://localhost:8080/",
          "height": 323
        }
      },
      "source": [
        "df_train.info() #This function, will help to check the Number of records, the number of Nulls, the Data Type"
      ],
      "execution_count": 0,
      "outputs": [
        {
          "output_type": "stream",
          "text": [
            "<class 'pandas.core.frame.DataFrame'>\n",
            "RangeIndex: 68161 entries, 0 to 68160\n",
            "Data columns (total 11 columns):\n",
            " #   Column               Non-Null Count  Dtype  \n",
            "---  ------               --------------  -----  \n",
            " 0   month                68161 non-null  object \n",
            " 1   town                 68161 non-null  object \n",
            " 2   flat_type            68161 non-null  object \n",
            " 3   block                68161 non-null  object \n",
            " 4   street_name          68161 non-null  object \n",
            " 5   storey_range         68161 non-null  object \n",
            " 6   floor_area_sqm       68161 non-null  float64\n",
            " 7   flat_model           68161 non-null  object \n",
            " 8   lease_commence_date  68161 non-null  int64  \n",
            " 9   remaining_lease      68161 non-null  object \n",
            " 10  resale_price         68161 non-null  float64\n",
            "dtypes: float64(2), int64(1), object(8)\n",
            "memory usage: 5.7+ MB\n"
          ],
          "name": "stdout"
        }
      ]
    },
    {
      "cell_type": "code",
      "metadata": {
        "id": "bLHQeupkMNFB",
        "colab_type": "code",
        "outputId": "fc0fd606-959c-4c61-aa73-dcf4fb644c8e",
        "colab": {
          "base_uri": "https://localhost:8080/",
          "height": 297
        }
      },
      "source": [
        "df_train.describe() #Here we can see an analysis of the Numerical values, this in fact gives a lot of information inmediately"
      ],
      "execution_count": 0,
      "outputs": [
        {
          "output_type": "execute_result",
          "data": {
            "text/html": [
              "<div>\n",
              "<style scoped>\n",
              "    .dataframe tbody tr th:only-of-type {\n",
              "        vertical-align: middle;\n",
              "    }\n",
              "\n",
              "    .dataframe tbody tr th {\n",
              "        vertical-align: top;\n",
              "    }\n",
              "\n",
              "    .dataframe thead th {\n",
              "        text-align: right;\n",
              "    }\n",
              "</style>\n",
              "<table border=\"1\" class=\"dataframe\">\n",
              "  <thead>\n",
              "    <tr style=\"text-align: right;\">\n",
              "      <th></th>\n",
              "      <th>floor_area_sqm</th>\n",
              "      <th>lease_commence_date</th>\n",
              "      <th>resale_price</th>\n",
              "    </tr>\n",
              "  </thead>\n",
              "  <tbody>\n",
              "    <tr>\n",
              "      <th>count</th>\n",
              "      <td>68161.000000</td>\n",
              "      <td>68161.000000</td>\n",
              "      <td>6.816100e+04</td>\n",
              "    </tr>\n",
              "    <tr>\n",
              "      <th>mean</th>\n",
              "      <td>97.770471</td>\n",
              "      <td>1993.733293</td>\n",
              "      <td>4.388635e+05</td>\n",
              "    </tr>\n",
              "    <tr>\n",
              "      <th>std</th>\n",
              "      <td>24.236236</td>\n",
              "      <td>12.543869</td>\n",
              "      <td>1.534390e+05</td>\n",
              "    </tr>\n",
              "    <tr>\n",
              "      <th>min</th>\n",
              "      <td>31.000000</td>\n",
              "      <td>1966.000000</td>\n",
              "      <td>1.400000e+05</td>\n",
              "    </tr>\n",
              "    <tr>\n",
              "      <th>25%</th>\n",
              "      <td>82.000000</td>\n",
              "      <td>1984.000000</td>\n",
              "      <td>3.300000e+05</td>\n",
              "    </tr>\n",
              "    <tr>\n",
              "      <th>50%</th>\n",
              "      <td>95.000000</td>\n",
              "      <td>1993.000000</td>\n",
              "      <td>4.080000e+05</td>\n",
              "    </tr>\n",
              "    <tr>\n",
              "      <th>75%</th>\n",
              "      <td>113.000000</td>\n",
              "      <td>2003.000000</td>\n",
              "      <td>5.100000e+05</td>\n",
              "    </tr>\n",
              "    <tr>\n",
              "      <th>max</th>\n",
              "      <td>249.000000</td>\n",
              "      <td>2016.000000</td>\n",
              "      <td>1.205000e+06</td>\n",
              "    </tr>\n",
              "  </tbody>\n",
              "</table>\n",
              "</div>"
            ],
            "text/plain": [
              "       floor_area_sqm  lease_commence_date  resale_price\n",
              "count    68161.000000         68161.000000  6.816100e+04\n",
              "mean        97.770471          1993.733293  4.388635e+05\n",
              "std         24.236236            12.543869  1.534390e+05\n",
              "min         31.000000          1966.000000  1.400000e+05\n",
              "25%         82.000000          1984.000000  3.300000e+05\n",
              "50%         95.000000          1993.000000  4.080000e+05\n",
              "75%        113.000000          2003.000000  5.100000e+05\n",
              "max        249.000000          2016.000000  1.205000e+06"
            ]
          },
          "metadata": {
            "tags": []
          },
          "execution_count": 32
        }
      ]
    },
    {
      "cell_type": "code",
      "metadata": {
        "id": "dMD9StI8lxcT",
        "colab_type": "code",
        "outputId": "b681fe8e-d7ae-4899-8afe-8edc4366a448",
        "colab": {
          "base_uri": "https://localhost:8080/",
          "height": 204
        }
      },
      "source": [
        "set(df_train.columns) #to check the columns names"
      ],
      "execution_count": 0,
      "outputs": [
        {
          "output_type": "execute_result",
          "data": {
            "text/plain": [
              "{'block',\n",
              " 'flat_model',\n",
              " 'flat_type',\n",
              " 'floor_area_sqm',\n",
              " 'lease_commence_date',\n",
              " 'month',\n",
              " 'remaining_lease',\n",
              " 'resale_price',\n",
              " 'storey_range',\n",
              " 'street_name',\n",
              " 'town'}"
            ]
          },
          "metadata": {
            "tags": []
          },
          "execution_count": 33
        }
      ]
    },
    {
      "cell_type": "markdown",
      "metadata": {
        "id": "Wv-N_OTpVN16",
        "colab_type": "text"
      },
      "source": [
        "- Let's examine the a sample 10 records (imagine this is similar to check in Excel the data)"
      ]
    },
    {
      "cell_type": "code",
      "metadata": {
        "id": "SyyBD3iXVKLC",
        "colab_type": "code",
        "outputId": "a9e1f0d3-8e47-4d51-ccb1-a54331ccc517",
        "colab": {
          "base_uri": "https://localhost:8080/",
          "height": 529
        }
      },
      "source": [
        "df_train.sample(10)"
      ],
      "execution_count": 0,
      "outputs": [
        {
          "output_type": "execute_result",
          "data": {
            "text/html": [
              "<div>\n",
              "<style scoped>\n",
              "    .dataframe tbody tr th:only-of-type {\n",
              "        vertical-align: middle;\n",
              "    }\n",
              "\n",
              "    .dataframe tbody tr th {\n",
              "        vertical-align: top;\n",
              "    }\n",
              "\n",
              "    .dataframe thead th {\n",
              "        text-align: right;\n",
              "    }\n",
              "</style>\n",
              "<table border=\"1\" class=\"dataframe\">\n",
              "  <thead>\n",
              "    <tr style=\"text-align: right;\">\n",
              "      <th></th>\n",
              "      <th>month</th>\n",
              "      <th>town</th>\n",
              "      <th>flat_type</th>\n",
              "      <th>block</th>\n",
              "      <th>street_name</th>\n",
              "      <th>storey_range</th>\n",
              "      <th>floor_area_sqm</th>\n",
              "      <th>flat_model</th>\n",
              "      <th>lease_commence_date</th>\n",
              "      <th>remaining_lease</th>\n",
              "      <th>resale_price</th>\n",
              "    </tr>\n",
              "  </thead>\n",
              "  <tbody>\n",
              "    <tr>\n",
              "      <th>11597</th>\n",
              "      <td>2017-08</td>\n",
              "      <td>BEDOK</td>\n",
              "      <td>4 ROOM</td>\n",
              "      <td>219B</td>\n",
              "      <td>BEDOK CTRL</td>\n",
              "      <td>01 TO 03</td>\n",
              "      <td>97.0</td>\n",
              "      <td>Model A</td>\n",
              "      <td>2010</td>\n",
              "      <td>91 years 10 months</td>\n",
              "      <td>646000.0</td>\n",
              "    </tr>\n",
              "    <tr>\n",
              "      <th>50724</th>\n",
              "      <td>2019-05</td>\n",
              "      <td>WOODLANDS</td>\n",
              "      <td>EXECUTIVE</td>\n",
              "      <td>405</td>\n",
              "      <td>WOODLANDS ST 41</td>\n",
              "      <td>07 TO 09</td>\n",
              "      <td>177.0</td>\n",
              "      <td>Apartment</td>\n",
              "      <td>1995</td>\n",
              "      <td>75 years 03 months</td>\n",
              "      <td>750000.0</td>\n",
              "    </tr>\n",
              "    <tr>\n",
              "      <th>30207</th>\n",
              "      <td>2018-07</td>\n",
              "      <td>BEDOK</td>\n",
              "      <td>3 ROOM</td>\n",
              "      <td>41</td>\n",
              "      <td>CHAI CHEE ST</td>\n",
              "      <td>04 TO 06</td>\n",
              "      <td>67.0</td>\n",
              "      <td>New Generation</td>\n",
              "      <td>1985</td>\n",
              "      <td>65 years 11 months</td>\n",
              "      <td>303000.0</td>\n",
              "    </tr>\n",
              "    <tr>\n",
              "      <th>36694</th>\n",
              "      <td>2018-10</td>\n",
              "      <td>ANG MO KIO</td>\n",
              "      <td>4 ROOM</td>\n",
              "      <td>634</td>\n",
              "      <td>ANG MO KIO AVE 6</td>\n",
              "      <td>10 TO 12</td>\n",
              "      <td>91.0</td>\n",
              "      <td>New Generation</td>\n",
              "      <td>1980</td>\n",
              "      <td>60 years 09 months</td>\n",
              "      <td>478000.0</td>\n",
              "    </tr>\n",
              "    <tr>\n",
              "      <th>40692</th>\n",
              "      <td>2018-12</td>\n",
              "      <td>BUKIT BATOK</td>\n",
              "      <td>4 ROOM</td>\n",
              "      <td>290E</td>\n",
              "      <td>BT BATOK ST 24</td>\n",
              "      <td>07 TO 09</td>\n",
              "      <td>102.0</td>\n",
              "      <td>Model A</td>\n",
              "      <td>1997</td>\n",
              "      <td>78 years 01 month</td>\n",
              "      <td>390000.0</td>\n",
              "    </tr>\n",
              "    <tr>\n",
              "      <th>42853</th>\n",
              "      <td>2019-01</td>\n",
              "      <td>CLEMENTI</td>\n",
              "      <td>3 ROOM</td>\n",
              "      <td>376</td>\n",
              "      <td>CLEMENTI AVE 4</td>\n",
              "      <td>04 TO 06</td>\n",
              "      <td>67.0</td>\n",
              "      <td>New Generation</td>\n",
              "      <td>1980</td>\n",
              "      <td>60 years 09 months</td>\n",
              "      <td>346888.0</td>\n",
              "    </tr>\n",
              "    <tr>\n",
              "      <th>36176</th>\n",
              "      <td>2018-09</td>\n",
              "      <td>TAMPINES</td>\n",
              "      <td>3 ROOM</td>\n",
              "      <td>807</td>\n",
              "      <td>TAMPINES AVE 4</td>\n",
              "      <td>01 TO 03</td>\n",
              "      <td>73.0</td>\n",
              "      <td>Model A</td>\n",
              "      <td>1984</td>\n",
              "      <td>64 years 07 months</td>\n",
              "      <td>305000.0</td>\n",
              "    </tr>\n",
              "    <tr>\n",
              "      <th>2778</th>\n",
              "      <td>2017-03</td>\n",
              "      <td>CLEMENTI</td>\n",
              "      <td>3 ROOM</td>\n",
              "      <td>507</td>\n",
              "      <td>WEST COAST DR</td>\n",
              "      <td>10 TO 12</td>\n",
              "      <td>67.0</td>\n",
              "      <td>New Generation</td>\n",
              "      <td>1978</td>\n",
              "      <td>60 years 05 months</td>\n",
              "      <td>305000.0</td>\n",
              "    </tr>\n",
              "    <tr>\n",
              "      <th>4424</th>\n",
              "      <td>2017-04</td>\n",
              "      <td>BUKIT BATOK</td>\n",
              "      <td>4 ROOM</td>\n",
              "      <td>290F</td>\n",
              "      <td>BT BATOK ST 24</td>\n",
              "      <td>07 TO 09</td>\n",
              "      <td>103.0</td>\n",
              "      <td>Model A</td>\n",
              "      <td>1997</td>\n",
              "      <td>79 years 07 months</td>\n",
              "      <td>430000.0</td>\n",
              "    </tr>\n",
              "    <tr>\n",
              "      <th>40025</th>\n",
              "      <td>2018-11</td>\n",
              "      <td>TAMPINES</td>\n",
              "      <td>3 ROOM</td>\n",
              "      <td>110</td>\n",
              "      <td>TAMPINES ST 11</td>\n",
              "      <td>10 TO 12</td>\n",
              "      <td>74.0</td>\n",
              "      <td>Model A</td>\n",
              "      <td>1984</td>\n",
              "      <td>64 years 04 months</td>\n",
              "      <td>315000.0</td>\n",
              "    </tr>\n",
              "  </tbody>\n",
              "</table>\n",
              "</div>"
            ],
            "text/plain": [
              "         month         town  ...     remaining_lease resale_price\n",
              "11597  2017-08        BEDOK  ...  91 years 10 months     646000.0\n",
              "50724  2019-05    WOODLANDS  ...  75 years 03 months     750000.0\n",
              "30207  2018-07        BEDOK  ...  65 years 11 months     303000.0\n",
              "36694  2018-10   ANG MO KIO  ...  60 years 09 months     478000.0\n",
              "40692  2018-12  BUKIT BATOK  ...   78 years 01 month     390000.0\n",
              "42853  2019-01     CLEMENTI  ...  60 years 09 months     346888.0\n",
              "36176  2018-09     TAMPINES  ...  64 years 07 months     305000.0\n",
              "2778   2017-03     CLEMENTI  ...  60 years 05 months     305000.0\n",
              "4424   2017-04  BUKIT BATOK  ...  79 years 07 months     430000.0\n",
              "40025  2018-11     TAMPINES  ...  64 years 04 months     315000.0\n",
              "\n",
              "[10 rows x 11 columns]"
            ]
          },
          "metadata": {
            "tags": []
          },
          "execution_count": 34
        }
      ]
    },
    {
      "cell_type": "markdown",
      "metadata": {
        "id": "zZIhh0ILl4yR",
        "colab_type": "text"
      },
      "source": [
        "Resale price would be the **target** label in this project, \n",
        "and the rest of the columns will form our **feature matrix**. Let’s go on and plot some graph."
      ]
    },
    {
      "cell_type": "markdown",
      "metadata": {
        "id": "J-WwzEuenxWv",
        "colab_type": "text"
      },
      "source": [
        "First let's have a look to the storey Range"
      ]
    },
    {
      "cell_type": "code",
      "metadata": {
        "id": "e2gWyJsviSCq",
        "colab_type": "code",
        "outputId": "ebbb51b9-fcdf-4ea1-f2ab-21184e200900",
        "colab": {
          "base_uri": "https://localhost:8080/",
          "height": 306
        }
      },
      "source": [
        "set(df_train['storey_range'].unique())"
      ],
      "execution_count": 0,
      "outputs": [
        {
          "output_type": "execute_result",
          "data": {
            "text/plain": [
              "{'01 TO 03',\n",
              " '04 TO 06',\n",
              " '07 TO 09',\n",
              " '10 TO 12',\n",
              " '13 TO 15',\n",
              " '16 TO 18',\n",
              " '19 TO 21',\n",
              " '22 TO 24',\n",
              " '25 TO 27',\n",
              " '28 TO 30',\n",
              " '31 TO 33',\n",
              " '34 TO 36',\n",
              " '37 TO 39',\n",
              " '40 TO 42',\n",
              " '43 TO 45',\n",
              " '46 TO 48',\n",
              " '49 TO 51'}"
            ]
          },
          "metadata": {
            "tags": []
          },
          "execution_count": 35
        }
      ]
    },
    {
      "cell_type": "markdown",
      "metadata": {
        "id": "b01nz3s7n47l",
        "colab_type": "text"
      },
      "source": [
        "Now to the Flat Model"
      ]
    },
    {
      "cell_type": "code",
      "metadata": {
        "id": "pCwUUE2oiVVI",
        "colab_type": "code",
        "outputId": "cee2c898-5cb4-4f20-8389-259b1a763769",
        "colab": {
          "base_uri": "https://localhost:8080/",
          "height": 357
        }
      },
      "source": [
        "set(df_train['flat_model'].unique())"
      ],
      "execution_count": 0,
      "outputs": [
        {
          "output_type": "execute_result",
          "data": {
            "text/plain": [
              "{'2-room',\n",
              " 'Adjoined flat',\n",
              " 'Apartment',\n",
              " 'DBSS',\n",
              " 'Improved',\n",
              " 'Improved-Maisonette',\n",
              " 'Maisonette',\n",
              " 'Model A',\n",
              " 'Model A-Maisonette',\n",
              " 'Model A2',\n",
              " 'Multi Generation',\n",
              " 'New Generation',\n",
              " 'Premium Apartment',\n",
              " 'Premium Apartment Loft',\n",
              " 'Premium Maisonette',\n",
              " 'Simplified',\n",
              " 'Standard',\n",
              " 'Terrace',\n",
              " 'Type S1',\n",
              " 'Type S2'}"
            ]
          },
          "metadata": {
            "tags": []
          },
          "execution_count": 36
        }
      ]
    },
    {
      "cell_type": "markdown",
      "metadata": {
        "id": "cKyTUfMEn8tr",
        "colab_type": "text"
      },
      "source": [
        "Let's plot Floor area vs Price"
      ]
    },
    {
      "cell_type": "code",
      "metadata": {
        "id": "8lbAPiDge_lT",
        "colab_type": "code",
        "outputId": "1366a68e-37f9-4a56-eaef-b0be284a0e21",
        "colab": {
          "base_uri": "https://localhost:8080/",
          "height": 280
        }
      },
      "source": [
        "#histogram to plot the floor_area_sqm\t\n",
        "sns.distplot(df_train['floor_area_sqm']);"
      ],
      "execution_count": 0,
      "outputs": [
        {
          "output_type": "display_data",
          "data": {
            "image/png": "[encoded data removed]",
            "text/plain": [
              "<Figure size 432x288 with 1 Axes>"
            ]
          },
          "metadata": {
            "tags": []
          }
        }
      ]
    },
    {
      "cell_type": "code",
      "metadata": {
        "id": "lVRW_8MXfOXR",
        "colab_type": "code",
        "outputId": "af71fc91-b24f-4e98-9f36-8217ecd51000",
        "colab": {
          "base_uri": "https://localhost:8080/",
          "height": 297
        }
      },
      "source": [
        "sns.distplot(np.log(df_train['floor_area_sqm'])) #Same but in log form"
      ],
      "execution_count": 0,
      "outputs": [
        {
          "output_type": "execute_result",
          "data": {
            "text/plain": [
              "<matplotlib.axes._subplots.AxesSubplot at 0x7f6e316c3780>"
            ]
          },
          "metadata": {
            "tags": []
          },
          "execution_count": 38
        },
        {
          "output_type": "display_data",
          "data": {
            "image/png": "[encoded data removed]",
            "text/plain": [
              "<Figure size 432x288 with 1 Axes>"
            ]
          },
          "metadata": {
            "tags": []
          }
        }
      ]
    },
    {
      "cell_type": "markdown",
      "metadata": {
        "id": "DaiZVYO3oFMS",
        "colab_type": "text"
      },
      "source": [
        "Also, let's do a histogram for Resale Prices"
      ]
    },
    {
      "cell_type": "code",
      "metadata": {
        "id": "0c9TwTDliXm5",
        "colab_type": "code",
        "outputId": "86fcc212-a970-4563-d77c-e5a8bda3f1cf",
        "colab": {
          "base_uri": "https://localhost:8080/",
          "height": 291
        }
      },
      "source": [
        "#histogram to plot the resale_prices\n",
        "sns.distplot(df_train['resale_price'],bins=30);"
      ],
      "execution_count": 0,
      "outputs": [
        {
          "output_type": "display_data",
          "data": {
            "image/png": "[encoded data removed]",
            "text/plain": [
              "<Figure size 432x288 with 1 Axes>"
            ]
          },
          "metadata": {
            "tags": []
          }
        }
      ]
    },
    {
      "cell_type": "code",
      "metadata": {
        "id": "itcITNYGickc",
        "colab_type": "code",
        "outputId": "ff65a9ea-3607-4833-906c-079ba26f82c8",
        "colab": {
          "base_uri": "https://localhost:8080/",
          "height": 298
        }
      },
      "source": [
        "sns.distplot(np.log(df_train['resale_price']),bins=30) #Same but in log form"
      ],
      "execution_count": 0,
      "outputs": [
        {
          "output_type": "execute_result",
          "data": {
            "text/plain": [
              "<matplotlib.axes._subplots.AxesSubplot at 0x7f6e3153df28>"
            ]
          },
          "metadata": {
            "tags": []
          },
          "execution_count": 40
        },
        {
          "output_type": "display_data",
          "data": {
            "image/png": "[encoded data removed]",
            "text/plain": [
              "<Figure size 432x288 with 1 Axes>"
            ]
          },
          "metadata": {
            "tags": []
          }
        }
      ]
    },
    {
      "cell_type": "markdown",
      "metadata": {
        "id": "VRrgLmIyMtu_",
        "colab_type": "text"
      },
      "source": [
        "Let's analyze the Skewness and Kurtosis of the data\n",
        "\n",
        "- A fundamental task in many statistical analyses is to characterize the location and variability of a data set. A further characterization of the data includes skewness and kurtosis.\n",
        "- **Skewness** is a measure of symmetry, or more precisely, the lack of symmetry. \n",
        "  - A distribution, or data set, is symmetric if it looks the same to the left and right of the center point.\n",
        "\n",
        "- **Kurtosis** is a measure of whether the data are heavy-tailed or light-tailed relative to a normal distribution. \n",
        "  - That is, data sets with high kurtosis tend to have heavy tails, or outliers. \n",
        "  - Data sets with low kurtosis tend to have light tails, or lack of outliers. \n",
        "  - A uniform distribution would be the extreme case.\n",
        "\n",
        "- The histogram is an effective graphical technique for showing both the skewness and kurtosis of data set.\n",
        "\n",
        "<img src=\"https://www.researchgate.net/profile/Attila_Bonyar/publication/298415862/figure/fig1/AS:340236723867648@1458130164255/Illustration-of-the-skewness-and-kurtosis-values-and-how-they-correlate-with-the-shape-of.png\">"
      ]
    },
    {
      "cell_type": "code",
      "metadata": {
        "id": "qM5wczV-ihrw",
        "colab_type": "code",
        "outputId": "8e6f7d6d-250a-496b-9751-a4075779927b",
        "colab": {
          "base_uri": "https://localhost:8080/",
          "height": 51
        }
      },
      "source": [
        "print(\"Skewness: %f\" % df_train['resale_price'].skew())\n",
        "print(\"Kurtosis: %f\" % df_train['resale_price'].kurt())"
      ],
      "execution_count": 0,
      "outputs": [
        {
          "output_type": "stream",
          "text": [
            "Skewness: 1.140718\n",
            "Kurtosis: 1.293331\n"
          ],
          "name": "stdout"
        }
      ]
    },
    {
      "cell_type": "code",
      "metadata": {
        "id": "nTMXhRXZiki0",
        "colab_type": "code",
        "outputId": "57287a5e-1b3a-45a3-ada0-c683dfc6cbc2",
        "colab": {
          "base_uri": "https://localhost:8080/",
          "height": 291
        }
      },
      "source": [
        "#scatter plot grlivarea/saleprice\n",
        "var = 'floor_area_sqm'\n",
        "data = pd.concat([df_train['resale_price'], df_train[var]], axis=1)\n",
        "data.plot.scatter(x=var, y='resale_price', alpha=0.041, norm='Normalize');"
      ],
      "execution_count": 0,
      "outputs": [
        {
          "output_type": "display_data",
          "data": {
            "image/png": "[encoded data removed]",
            "text/plain": [
              "<Figure size 432x288 with 1 Axes>"
            ]
          },
          "metadata": {
            "tags": []
          }
        }
      ]
    },
    {
      "cell_type": "markdown",
      "metadata": {
        "id": "S7KIaE_1mkJ2",
        "colab_type": "text"
      },
      "source": [
        "- We can infer from this graph that, the higher the floor area, the higher is the resale price of of the flat. By plotting distribution graph, we can spot if there are any outliers and remove them if they look too unusual.\n"
      ]
    },
    {
      "cell_type": "code",
      "metadata": {
        "id": "D1KG31Czfd06",
        "colab_type": "code",
        "outputId": "a212698e-cff3-420e-f3ca-d6fbb1e25d3e",
        "colab": {
          "base_uri": "https://localhost:8080/",
          "height": 291
        }
      },
      "source": [
        "#scatter plot lease_commence_date/saleprice\n",
        "var = 'lease_commence_date'\n",
        "data = pd.concat([df_train['resale_price'], df_train[var]], axis=1)\n",
        "data.plot.scatter(x=var, y='resale_price', alpha=0.041, norm='Normalize');"
      ],
      "execution_count": 0,
      "outputs": [
        {
          "output_type": "display_data",
          "data": {
            "image/png": "[encoded data removed]",
            "text/plain": [
              "<Figure size 432x288 with 1 Axes>"
            ]
          },
          "metadata": {
            "tags": []
          }
        }
      ]
    },
    {
      "cell_type": "markdown",
      "metadata": {
        "id": "9az__CS4myCe",
        "colab_type": "text"
      },
      "source": [
        "- Besides that, we can also use boxplot to understand the distribution of our data. Below is a simple diagram of boxplot, and it is helpful in showing us the distribution of the target label given a particular feature."
      ]
    },
    {
      "cell_type": "code",
      "metadata": {
        "id": "zZpgl90mi4Vo",
        "colab_type": "code",
        "outputId": "4ec816c0-770d-4400-d1be-cc4d5b3040e2",
        "colab": {
          "base_uri": "https://localhost:8080/",
          "height": 487
        }
      },
      "source": [
        "#box plot overallqual/saleprice\n",
        "var = 'flat_type'\n",
        "df_train = df_train.sort_values(var)\n",
        "data = pd.concat([df_train['resale_price'], df_train[var]], axis=1)\n",
        "f, ax = plt.subplots(figsize=(8, 6))\n",
        "plt.xticks(rotation=90)\n",
        "fig = sns.boxplot(x=var, y=\"resale_price\", data=data)"
      ],
      "execution_count": 0,
      "outputs": [
        {
          "output_type": "display_data",
          "data": {
            "image/png": "[encoded data removed]",
            "text/plain": [
              "<Figure size 576x432 with 1 Axes>"
            ]
          },
          "metadata": {
            "tags": []
          }
        }
      ]
    },
    {
      "cell_type": "code",
      "metadata": {
        "id": "iHS6NkHqvhJW",
        "colab_type": "code",
        "outputId": "e58ecd0f-7e7a-4073-85d8-c9cef86e1bdd",
        "colab": {
          "base_uri": "https://localhost:8080/",
          "height": 492
        }
      },
      "source": [
        "#box plot town/saleprice\n",
        "var = 'town'\n",
        "df_train = df_train.sort_values('resale_price')\n",
        "data = pd.concat([df_train['resale_price'], df_train[var]], axis=1)\n",
        "f, ax = plt.subplots(figsize=(8, 6))\n",
        "plt.xticks(rotation=90)\n",
        "fig = sns.boxplot(x=var, y=\"resale_price\", data=data)"
      ],
      "execution_count": 0,
      "outputs": [
        {
          "output_type": "display_data",
          "data": {
            "image/png": "[encoded data removed]",
            "text/plain": [
              "<Figure size 576x432 with 1 Axes>"
            ]
          },
          "metadata": {
            "tags": []
          }
        }
      ]
    },
    {
      "cell_type": "code",
      "metadata": {
        "id": "fuXA0vKgi6sa",
        "colab_type": "code",
        "outputId": "594fd598-c536-42fc-947b-58bb29391c53",
        "colab": {
          "base_uri": "https://localhost:8080/",
          "height": 542
        }
      },
      "source": [
        "#correlation matrix\n",
        "corrmat = df_train.corr()\n",
        "f, ax = plt.subplots(figsize=(12, 9))\n",
        "sns.heatmap(corrmat,square=True);"
      ],
      "execution_count": 0,
      "outputs": [
        {
          "output_type": "display_data",
          "data": {
            "image/png": "[encoded data removed]",
            "text/plain": [
              "<Figure size 864x648 with 2 Axes>"
            ]
          },
          "metadata": {
            "tags": []
          }
        }
      ]
    },
    {
      "cell_type": "markdown",
      "metadata": {
        "id": "zZvCET9Om41o",
        "colab_type": "text"
      },
      "source": [
        "- So what is the takeaway from this matrix? \n",
        " - The color between floor area and the resale price are the lightest among other combinations. \n",
        "   - It means that **floor area and resale price are highly correlated** in a positive way — higher floor area, higher resale price.\n",
        " - In contrast, **toilet number and resale price have very low correlation**, which means toilet number might not be very useful in predicting the resale price of the flat."
      ]
    },
    {
      "cell_type": "markdown",
      "metadata": {
        "id": "5s1MMQRujBJr",
        "colab_type": "text"
      },
      "source": [
        "## 3rd Feature Creation"
      ]
    },
    {
      "cell_type": "markdown",
      "metadata": {
        "id": "vGAkjxUhndqE",
        "colab_type": "text"
      },
      "source": [
        "- The features that are available in this data set are considerably small. \n",
        "  - But, nothing stop us from creating more!\n",
        "  - Having more features is definitely going to help the machine learning model to learn the patterns of this data set.\n",
        "- Some of the features that I think will be useful:\n",
        " - **Direction**. The town where the flat is located is given in this data set. \n",
        " - How could we improve on this feature? I create a new feature, that map the town to one of the direction/region listed below:"
      ]
    },
    {
      "cell_type": "markdown",
      "metadata": {
        "id": "bkPwmqCFwEs4",
        "colab_type": "text"
      },
      "source": [
        "### Creating Direction as Feature"
      ]
    },
    {
      "cell_type": "code",
      "metadata": {
        "id": "KbTGhjY9i-KC",
        "colab_type": "code",
        "colab": {}
      },
      "source": [
        "east = \"EAST\"\n",
        "west = \"WEST\"\n",
        "north = \"NORTH\"\n",
        "central = \"CENTRAL\"\n",
        "unknow = \"UNKNOWN\"\n",
        "\n",
        "town_to_geographical_region  = {\n",
        "    \"ANG MO KIO\" : north,\n",
        "    \"BEDOK\" : east,\n",
        "    \"BISHAN\" : central,\n",
        "    \"BUKIT BATOK\" : west,\n",
        "    \"BUKIT MERAH\" : central,\n",
        "    \"BUKIT PANJANG\" : west,\n",
        "    \"BUKIT TIMAH\" : central,\n",
        "    \"CENTRAL AREA\" : central,\n",
        "    \"CHOA CHU KANG\" : west,\n",
        "    \"CLEMENTI\" : west,\n",
        "    \"GEYLANG\" : central,\n",
        "    \"HOUGANG\" : north,\n",
        "    \"JURONG EAST\" : west,\n",
        "    \"JURONG WEST\" : west,\n",
        "    \"KALLANG/WHAMPOA\" : central,\n",
        "    \"MARINE PARADE\" : central,\n",
        "    \"PASIR RIS\" : east,\n",
        "    \"PUNGGOL\" : north,\n",
        "    \"QUEENSTOWN\" : west,\n",
        "    \"SEMBAWANG\" : north,\n",
        "    \"SENGKANG\" : north,\n",
        "    \"SERANGOON\" : north,\n",
        "    \"TAMPINES\" : east,\n",
        "    \"TOA PAYOH\" : central,\n",
        "    \"WOODLANDS\" : north,\n",
        "    \"YISHUN\" : north\n",
        "}"
      ],
      "execution_count": 0,
      "outputs": []
    },
    {
      "cell_type": "code",
      "metadata": {
        "id": "1s8ALm_-jE9q",
        "colab_type": "code",
        "colab": {}
      },
      "source": [
        "df_train['direction'] = df_train['town'].apply(lambda x : town_to_geographical_region[x])"
      ],
      "execution_count": 0,
      "outputs": []
    },
    {
      "cell_type": "markdown",
      "metadata": {
        "id": "gxFh0FSjySXU",
        "colab_type": "text"
      },
      "source": [
        "### Creating Room Number & Toilet Number"
      ]
    },
    {
      "cell_type": "markdown",
      "metadata": {
        "id": "SXvLEYa7nv51",
        "colab_type": "text"
      },
      "source": [
        "2. **Room number & toilet number**. \n",
        "  - Based on the flat type that is given, I check from the HDB website and find out the number of rooms and toilets and create two more new features."
      ]
    },
    {
      "cell_type": "code",
      "metadata": {
        "id": "cgVLC8MVipHI",
        "colab_type": "code",
        "outputId": "86fddb38-8563-45b7-e402-0b1e72cfcbd0",
        "colab": {
          "base_uri": "https://localhost:8080/",
          "height": 136
        }
      },
      "source": [
        "set(df_train['flat_type'].unique())"
      ],
      "execution_count": 0,
      "outputs": [
        {
          "output_type": "execute_result",
          "data": {
            "text/plain": [
              "{'1 ROOM',\n",
              " '2 ROOM',\n",
              " '3 ROOM',\n",
              " '4 ROOM',\n",
              " '5 ROOM',\n",
              " 'EXECUTIVE',\n",
              " 'MULTI-GENERATION'}"
            ]
          },
          "metadata": {
            "tags": []
          },
          "execution_count": 50
        }
      ]
    },
    {
      "cell_type": "code",
      "metadata": {
        "id": "91zc_jfrirw7",
        "colab_type": "code",
        "colab": {}
      },
      "source": [
        "df_train['room_number'] = df_train['flat_type'].map({\n",
        "    '2 ROOM': 2,\n",
        "    '3 ROOM': 3,\n",
        "    '4 ROOM': 4,\n",
        "    '5 ROOM': 5,\n",
        "    'EXECUTIVE': 3,\n",
        "    'MULTI-GENERATION': 4,\n",
        "    '1 ROOM': 1\n",
        "})"
      ],
      "execution_count": 0,
      "outputs": []
    },
    {
      "cell_type": "code",
      "metadata": {
        "id": "tHr6rgeiiufN",
        "colab_type": "code",
        "colab": {}
      },
      "source": [
        "df_train['toilet_number'] = df_train['flat_type'].map({\n",
        "    '1 ROOM': 1,\n",
        "    '2 ROOM': 1,\n",
        "    '3 ROOM': 2,\n",
        "    '4 ROOM': 2,\n",
        "    '5 ROOM': 2,\n",
        "    'EXECUTIVE': 2,\n",
        "    'MULTI-GENERATION': 3\n",
        "})"
      ],
      "execution_count": 0,
      "outputs": []
    },
    {
      "cell_type": "code",
      "metadata": {
        "id": "PqWRLPZwiyy-",
        "colab_type": "code",
        "outputId": "801a88c1-bf65-407b-c68d-34930be26ddf",
        "colab": {
          "base_uri": "https://localhost:8080/",
          "height": 291
        }
      },
      "source": [
        "#scatter plot grlivarea/saleprice\n",
        "var = 'room_number'\n",
        "data = pd.concat([df_train['resale_price'], df_train[var]], axis=1)\n",
        "data.plot.scatter(x=var, y='resale_price', alpha=0.041, norm='Normalize');\n"
      ],
      "execution_count": 0,
      "outputs": [
        {
          "output_type": "display_data",
          "data": {
            "image/png": "[encoded data removed]",
            "text/plain": [
              "<Figure size 432x288 with 1 Axes>"
            ]
          },
          "metadata": {
            "tags": []
          }
        }
      ]
    },
    {
      "cell_type": "code",
      "metadata": {
        "id": "y8RH7E2evTx9",
        "colab_type": "code",
        "outputId": "f31b6f05-8e95-47a0-e210-958ef5ecd63a",
        "colab": {
          "base_uri": "https://localhost:8080/",
          "height": 291
        }
      },
      "source": [
        "#scatter plot grlivarea/saleprice\n",
        "var = 'toilet_number'\n",
        "data = pd.concat([df_train['resale_price'], df_train[var]], axis=1)\n",
        "data.plot.scatter(x=var, y='resale_price', alpha=0.241, norm='Normalize');\n"
      ],
      "execution_count": 0,
      "outputs": [
        {
          "output_type": "display_data",
          "data": {
            "image/png": "[encoded data removed]",
            "text/plain": [
              "<Figure size 432x288 with 1 Axes>"
            ]
          },
          "metadata": {
            "tags": []
          }
        }
      ]
    },
    {
      "cell_type": "code",
      "metadata": {
        "id": "TnIOcpiFi1aP",
        "colab_type": "code",
        "outputId": "3e4ec9cb-1084-41ec-b698-fff1f20454be",
        "colab": {
          "base_uri": "https://localhost:8080/",
          "height": 459
        }
      },
      "source": [
        "set(df_train['town'].unique())"
      ],
      "execution_count": 0,
      "outputs": [
        {
          "output_type": "execute_result",
          "data": {
            "text/plain": [
              "{'ANG MO KIO',\n",
              " 'BEDOK',\n",
              " 'BISHAN',\n",
              " 'BUKIT BATOK',\n",
              " 'BUKIT MERAH',\n",
              " 'BUKIT PANJANG',\n",
              " 'BUKIT TIMAH',\n",
              " 'CENTRAL AREA',\n",
              " 'CHOA CHU KANG',\n",
              " 'CLEMENTI',\n",
              " 'GEYLANG',\n",
              " 'HOUGANG',\n",
              " 'JURONG EAST',\n",
              " 'JURONG WEST',\n",
              " 'KALLANG/WHAMPOA',\n",
              " 'MARINE PARADE',\n",
              " 'PASIR RIS',\n",
              " 'PUNGGOL',\n",
              " 'QUEENSTOWN',\n",
              " 'SEMBAWANG',\n",
              " 'SENGKANG',\n",
              " 'SERANGOON',\n",
              " 'TAMPINES',\n",
              " 'TOA PAYOH',\n",
              " 'WOODLANDS',\n",
              " 'YISHUN'}"
            ]
          },
          "metadata": {
            "tags": []
          },
          "execution_count": 55
        }
      ]
    },
    {
      "cell_type": "markdown",
      "metadata": {
        "id": "MNbwMU-VoVX8",
        "colab_type": "text"
      },
      "source": [
        "3. **Storey**. \n",
        "   - The storey range features provided in the data is in a string format: 4 TO 6, 7 TO 9, which I think is sub-optimal because if your features are ordinal, you should convert the feature to number.\n",
        "   - The reason being, floor 7 is lower than floor 9, and modeling the feature as number will help the model to learn this relationship. If we leave the feature as string without any processing, the model will miss out this great information.\n",
        "   - So I create a random generator that will generate a number between the lowest storey and highest storey given in the dataset. \n",
        "      - Look at the example below to understand better:"
      ]
    },
    {
      "cell_type": "code",
      "metadata": {
        "id": "HqZNwatYjH9N",
        "colab_type": "code",
        "colab": {}
      },
      "source": [
        "df_train['storey_low'] = df_train['storey_range'].apply(lambda x: x.split(\" \")[0]).astype('int')\n",
        "df_train['storey_high'] = df_train['storey_range'].apply(lambda x: x.split(\" \")[2]).astype('int')\n"
      ],
      "execution_count": 0,
      "outputs": []
    },
    {
      "cell_type": "code",
      "metadata": {
        "id": "CaV5r8g8umj-",
        "colab_type": "code",
        "outputId": "fe707175-6b2f-4eca-80f1-a0e3c334ccb8",
        "colab": {
          "base_uri": "https://localhost:8080/",
          "height": 326
        }
      },
      "source": [
        "df_train.head()"
      ],
      "execution_count": 0,
      "outputs": [
        {
          "output_type": "execute_result",
          "data": {
            "text/html": [
              "<div>\n",
              "<style scoped>\n",
              "    .dataframe tbody tr th:only-of-type {\n",
              "        vertical-align: middle;\n",
              "    }\n",
              "\n",
              "    .dataframe tbody tr th {\n",
              "        vertical-align: top;\n",
              "    }\n",
              "\n",
              "    .dataframe thead th {\n",
              "        text-align: right;\n",
              "    }\n",
              "</style>\n",
              "<table border=\"1\" class=\"dataframe\">\n",
              "  <thead>\n",
              "    <tr style=\"text-align: right;\">\n",
              "      <th></th>\n",
              "      <th>month</th>\n",
              "      <th>town</th>\n",
              "      <th>flat_type</th>\n",
              "      <th>block</th>\n",
              "      <th>street_name</th>\n",
              "      <th>storey_range</th>\n",
              "      <th>floor_area_sqm</th>\n",
              "      <th>flat_model</th>\n",
              "      <th>lease_commence_date</th>\n",
              "      <th>remaining_lease</th>\n",
              "      <th>resale_price</th>\n",
              "      <th>direction</th>\n",
              "      <th>room_number</th>\n",
              "      <th>toilet_number</th>\n",
              "      <th>storey_low</th>\n",
              "      <th>storey_high</th>\n",
              "    </tr>\n",
              "  </thead>\n",
              "  <tbody>\n",
              "    <tr>\n",
              "      <th>67892</th>\n",
              "      <td>2020-02</td>\n",
              "      <td>TOA PAYOH</td>\n",
              "      <td>3 ROOM</td>\n",
              "      <td>26</td>\n",
              "      <td>TOA PAYOH EAST</td>\n",
              "      <td>10 TO 12</td>\n",
              "      <td>67.0</td>\n",
              "      <td>Improved</td>\n",
              "      <td>1971</td>\n",
              "      <td>49 years 11 months</td>\n",
              "      <td>140000.0</td>\n",
              "      <td>CENTRAL</td>\n",
              "      <td>3</td>\n",
              "      <td>2</td>\n",
              "      <td>10</td>\n",
              "      <td>12</td>\n",
              "    </tr>\n",
              "    <tr>\n",
              "      <th>66129</th>\n",
              "      <td>2020-01</td>\n",
              "      <td>TOA PAYOH</td>\n",
              "      <td>2 ROOM</td>\n",
              "      <td>52</td>\n",
              "      <td>LOR 6 TOA PAYOH</td>\n",
              "      <td>01 TO 03</td>\n",
              "      <td>43.0</td>\n",
              "      <td>Standard</td>\n",
              "      <td>1983</td>\n",
              "      <td>62 years 05 months</td>\n",
              "      <td>150000.0</td>\n",
              "      <td>CENTRAL</td>\n",
              "      <td>2</td>\n",
              "      <td>1</td>\n",
              "      <td>1</td>\n",
              "      <td>3</td>\n",
              "    </tr>\n",
              "    <tr>\n",
              "      <th>59273</th>\n",
              "      <td>2019-10</td>\n",
              "      <td>GEYLANG</td>\n",
              "      <td>2 ROOM</td>\n",
              "      <td>68</td>\n",
              "      <td>CIRCUIT RD</td>\n",
              "      <td>04 TO 06</td>\n",
              "      <td>45.0</td>\n",
              "      <td>Standard</td>\n",
              "      <td>1969</td>\n",
              "      <td>48 years 03 months</td>\n",
              "      <td>150000.0</td>\n",
              "      <td>CENTRAL</td>\n",
              "      <td>2</td>\n",
              "      <td>1</td>\n",
              "      <td>4</td>\n",
              "      <td>6</td>\n",
              "    </tr>\n",
              "    <tr>\n",
              "      <th>66745</th>\n",
              "      <td>2020-02</td>\n",
              "      <td>BUKIT MERAH</td>\n",
              "      <td>1 ROOM</td>\n",
              "      <td>7</td>\n",
              "      <td>TELOK BLANGAH CRES</td>\n",
              "      <td>10 TO 12</td>\n",
              "      <td>31.0</td>\n",
              "      <td>Improved</td>\n",
              "      <td>1975</td>\n",
              "      <td>54 years 01 month</td>\n",
              "      <td>157000.0</td>\n",
              "      <td>CENTRAL</td>\n",
              "      <td>1</td>\n",
              "      <td>1</td>\n",
              "      <td>10</td>\n",
              "      <td>12</td>\n",
              "    </tr>\n",
              "    <tr>\n",
              "      <th>35254</th>\n",
              "      <td>2018-09</td>\n",
              "      <td>GEYLANG</td>\n",
              "      <td>2 ROOM</td>\n",
              "      <td>39</td>\n",
              "      <td>CIRCUIT RD</td>\n",
              "      <td>04 TO 06</td>\n",
              "      <td>47.0</td>\n",
              "      <td>Standard</td>\n",
              "      <td>1971</td>\n",
              "      <td>51 years 04 months</td>\n",
              "      <td>160000.0</td>\n",
              "      <td>CENTRAL</td>\n",
              "      <td>2</td>\n",
              "      <td>1</td>\n",
              "      <td>4</td>\n",
              "      <td>6</td>\n",
              "    </tr>\n",
              "  </tbody>\n",
              "</table>\n",
              "</div>"
            ],
            "text/plain": [
              "         month         town flat_type  ... toilet_number storey_low storey_high\n",
              "67892  2020-02    TOA PAYOH    3 ROOM  ...             2         10          12\n",
              "66129  2020-01    TOA PAYOH    2 ROOM  ...             1          1           3\n",
              "59273  2019-10      GEYLANG    2 ROOM  ...             1          4           6\n",
              "66745  2020-02  BUKIT MERAH    1 ROOM  ...             1         10          12\n",
              "35254  2018-09      GEYLANG    2 ROOM  ...             1          4           6\n",
              "\n",
              "[5 rows x 16 columns]"
            ]
          },
          "metadata": {
            "tags": []
          },
          "execution_count": 57
        }
      ]
    },
    {
      "cell_type": "code",
      "metadata": {
        "id": "DqhbK5NzuIJx",
        "colab_type": "code",
        "colab": {}
      },
      "source": [
        "from random import seed\n",
        "from random import randint\n",
        "\n"
      ],
      "execution_count": 0,
      "outputs": []
    },
    {
      "cell_type": "code",
      "metadata": {
        "id": "j1O8055QuJ8S",
        "colab_type": "code",
        "outputId": "81dc6f01-ef01-4a8b-92b1-dbe3344ab07d",
        "colab": {
          "base_uri": "https://localhost:8080/",
          "height": 698
        }
      },
      "source": [
        "seed(42)\n",
        "storey_low = [o for o in df_train['storey_low']]\n",
        "storey_high = [o for o in df_train['storey_high']]\n",
        "storey_random = [randint(low,high) for low, high in zip(storey_low,storey_high)]\n",
        "df_train['storey_random'] = storey_random\n",
        "\n",
        "df_train.drop('storey_range',axis=1,inplace=True)\n",
        "df_train.drop('storey_low',axis=1,inplace=True)\n",
        "df_train.drop('storey_high',axis=1,inplace=True)"
      ],
      "execution_count": 0,
      "outputs": [
        {
          "output_type": "error",
          "ename": "KeyError",
          "evalue": "ignored",
          "traceback": [
            "\u001b[0;31m---------------------------------------------------------------------------\u001b[0m",
            "\u001b[0;31mKeyError\u001b[0m                                  Traceback (most recent call last)",
            "\u001b[0;32m/usr/local/lib/python3.6/dist-packages/pandas/core/indexes/base.py\u001b[0m in \u001b[0;36mget_loc\u001b[0;34m(self, key, method, tolerance)\u001b[0m\n\u001b[1;32m   2645\u001b[0m             \u001b[0;32mtry\u001b[0m\u001b[0;34m:\u001b[0m\u001b[0;34m\u001b[0m\u001b[0;34m\u001b[0m\u001b[0m\n\u001b[0;32m-> 2646\u001b[0;31m                 \u001b[0;32mreturn\u001b[0m \u001b[0mself\u001b[0m\u001b[0;34m.\u001b[0m\u001b[0m_engine\u001b[0m\u001b[0;34m.\u001b[0m\u001b[0mget_loc\u001b[0m\u001b[0;34m(\u001b[0m\u001b[0mkey\u001b[0m\u001b[0;34m)\u001b[0m\u001b[0;34m\u001b[0m\u001b[0;34m\u001b[0m\u001b[0m\n\u001b[0m\u001b[1;32m   2647\u001b[0m             \u001b[0;32mexcept\u001b[0m \u001b[0mKeyError\u001b[0m\u001b[0;34m:\u001b[0m\u001b[0;34m\u001b[0m\u001b[0;34m\u001b[0m\u001b[0m\n",
            "\u001b[0;32mpandas/_libs/index.pyx\u001b[0m in \u001b[0;36mpandas._libs.index.IndexEngine.get_loc\u001b[0;34m()\u001b[0m\n",
            "\u001b[0;32mpandas/_libs/index.pyx\u001b[0m in \u001b[0;36mpandas._libs.index.IndexEngine.get_loc\u001b[0;34m()\u001b[0m\n",
            "\u001b[0;32mpandas/_libs/hashtable_class_helper.pxi\u001b[0m in \u001b[0;36mpandas._libs.hashtable.PyObjectHashTable.get_item\u001b[0;34m()\u001b[0m\n",
            "\u001b[0;32mpandas/_libs/hashtable_class_helper.pxi\u001b[0m in \u001b[0;36mpandas._libs.hashtable.PyObjectHashTable.get_item\u001b[0;34m()\u001b[0m\n",
            "\u001b[0;31mKeyError\u001b[0m: 'storey_low'",
            "\nDuring handling of the above exception, another exception occurred:\n",
            "\u001b[0;31mKeyError\u001b[0m                                  Traceback (most recent call last)",
            "\u001b[0;32m<ipython-input-63-3315773be212>\u001b[0m in \u001b[0;36m<module>\u001b[0;34m()\u001b[0m\n\u001b[1;32m      1\u001b[0m \u001b[0mseed\u001b[0m\u001b[0;34m(\u001b[0m\u001b[0;36m42\u001b[0m\u001b[0;34m)\u001b[0m\u001b[0;34m\u001b[0m\u001b[0;34m\u001b[0m\u001b[0m\n\u001b[0;32m----> 2\u001b[0;31m \u001b[0mstorey_low\u001b[0m \u001b[0;34m=\u001b[0m \u001b[0;34m[\u001b[0m\u001b[0mo\u001b[0m \u001b[0;32mfor\u001b[0m \u001b[0mo\u001b[0m \u001b[0;32min\u001b[0m \u001b[0mdf_train\u001b[0m\u001b[0;34m[\u001b[0m\u001b[0;34m'storey_low'\u001b[0m\u001b[0;34m]\u001b[0m\u001b[0;34m]\u001b[0m\u001b[0;34m\u001b[0m\u001b[0;34m\u001b[0m\u001b[0m\n\u001b[0m\u001b[1;32m      3\u001b[0m \u001b[0mstorey_high\u001b[0m \u001b[0;34m=\u001b[0m \u001b[0;34m[\u001b[0m\u001b[0mo\u001b[0m \u001b[0;32mfor\u001b[0m \u001b[0mo\u001b[0m \u001b[0;32min\u001b[0m \u001b[0mdf_train\u001b[0m\u001b[0;34m[\u001b[0m\u001b[0;34m'storey_high'\u001b[0m\u001b[0;34m]\u001b[0m\u001b[0;34m]\u001b[0m\u001b[0;34m\u001b[0m\u001b[0;34m\u001b[0m\u001b[0m\n\u001b[1;32m      4\u001b[0m \u001b[0mstorey_random\u001b[0m \u001b[0;34m=\u001b[0m \u001b[0;34m[\u001b[0m\u001b[0mrandint\u001b[0m\u001b[0;34m(\u001b[0m\u001b[0mlow\u001b[0m\u001b[0;34m,\u001b[0m\u001b[0mhigh\u001b[0m\u001b[0;34m)\u001b[0m \u001b[0;32mfor\u001b[0m \u001b[0mlow\u001b[0m\u001b[0;34m,\u001b[0m \u001b[0mhigh\u001b[0m \u001b[0;32min\u001b[0m \u001b[0mzip\u001b[0m\u001b[0;34m(\u001b[0m\u001b[0mstorey_low\u001b[0m\u001b[0;34m,\u001b[0m\u001b[0mstorey_high\u001b[0m\u001b[0;34m)\u001b[0m\u001b[0;34m]\u001b[0m\u001b[0;34m\u001b[0m\u001b[0;34m\u001b[0m\u001b[0m\n\u001b[1;32m      5\u001b[0m \u001b[0mdf_train\u001b[0m\u001b[0;34m[\u001b[0m\u001b[0;34m'storey_random'\u001b[0m\u001b[0;34m]\u001b[0m \u001b[0;34m=\u001b[0m \u001b[0mstorey_random\u001b[0m\u001b[0;34m\u001b[0m\u001b[0;34m\u001b[0m\u001b[0m\n",
            "\u001b[0;32m/usr/local/lib/python3.6/dist-packages/pandas/core/frame.py\u001b[0m in \u001b[0;36m__getitem__\u001b[0;34m(self, key)\u001b[0m\n\u001b[1;32m   2798\u001b[0m             \u001b[0;32mif\u001b[0m \u001b[0mself\u001b[0m\u001b[0;34m.\u001b[0m\u001b[0mcolumns\u001b[0m\u001b[0;34m.\u001b[0m\u001b[0mnlevels\u001b[0m \u001b[0;34m>\u001b[0m \u001b[0;36m1\u001b[0m\u001b[0;34m:\u001b[0m\u001b[0;34m\u001b[0m\u001b[0;34m\u001b[0m\u001b[0m\n\u001b[1;32m   2799\u001b[0m                 \u001b[0;32mreturn\u001b[0m \u001b[0mself\u001b[0m\u001b[0;34m.\u001b[0m\u001b[0m_getitem_multilevel\u001b[0m\u001b[0;34m(\u001b[0m\u001b[0mkey\u001b[0m\u001b[0;34m)\u001b[0m\u001b[0;34m\u001b[0m\u001b[0;34m\u001b[0m\u001b[0m\n\u001b[0;32m-> 2800\u001b[0;31m             \u001b[0mindexer\u001b[0m \u001b[0;34m=\u001b[0m \u001b[0mself\u001b[0m\u001b[0;34m.\u001b[0m\u001b[0mcolumns\u001b[0m\u001b[0;34m.\u001b[0m\u001b[0mget_loc\u001b[0m\u001b[0;34m(\u001b[0m\u001b[0mkey\u001b[0m\u001b[0;34m)\u001b[0m\u001b[0;34m\u001b[0m\u001b[0;34m\u001b[0m\u001b[0m\n\u001b[0m\u001b[1;32m   2801\u001b[0m             \u001b[0;32mif\u001b[0m \u001b[0mis_integer\u001b[0m\u001b[0;34m(\u001b[0m\u001b[0mindexer\u001b[0m\u001b[0;34m)\u001b[0m\u001b[0;34m:\u001b[0m\u001b[0;34m\u001b[0m\u001b[0;34m\u001b[0m\u001b[0m\n\u001b[1;32m   2802\u001b[0m                 \u001b[0mindexer\u001b[0m \u001b[0;34m=\u001b[0m \u001b[0;34m[\u001b[0m\u001b[0mindexer\u001b[0m\u001b[0;34m]\u001b[0m\u001b[0;34m\u001b[0m\u001b[0;34m\u001b[0m\u001b[0m\n",
            "\u001b[0;32m/usr/local/lib/python3.6/dist-packages/pandas/core/indexes/base.py\u001b[0m in \u001b[0;36mget_loc\u001b[0;34m(self, key, method, tolerance)\u001b[0m\n\u001b[1;32m   2646\u001b[0m                 \u001b[0;32mreturn\u001b[0m \u001b[0mself\u001b[0m\u001b[0;34m.\u001b[0m\u001b[0m_engine\u001b[0m\u001b[0;34m.\u001b[0m\u001b[0mget_loc\u001b[0m\u001b[0;34m(\u001b[0m\u001b[0mkey\u001b[0m\u001b[0;34m)\u001b[0m\u001b[0;34m\u001b[0m\u001b[0;34m\u001b[0m\u001b[0m\n\u001b[1;32m   2647\u001b[0m             \u001b[0;32mexcept\u001b[0m \u001b[0mKeyError\u001b[0m\u001b[0;34m:\u001b[0m\u001b[0;34m\u001b[0m\u001b[0;34m\u001b[0m\u001b[0m\n\u001b[0;32m-> 2648\u001b[0;31m                 \u001b[0;32mreturn\u001b[0m \u001b[0mself\u001b[0m\u001b[0;34m.\u001b[0m\u001b[0m_engine\u001b[0m\u001b[0;34m.\u001b[0m\u001b[0mget_loc\u001b[0m\u001b[0;34m(\u001b[0m\u001b[0mself\u001b[0m\u001b[0;34m.\u001b[0m\u001b[0m_maybe_cast_indexer\u001b[0m\u001b[0;34m(\u001b[0m\u001b[0mkey\u001b[0m\u001b[0;34m)\u001b[0m\u001b[0;34m)\u001b[0m\u001b[0;34m\u001b[0m\u001b[0;34m\u001b[0m\u001b[0m\n\u001b[0m\u001b[1;32m   2649\u001b[0m         \u001b[0mindexer\u001b[0m \u001b[0;34m=\u001b[0m \u001b[0mself\u001b[0m\u001b[0;34m.\u001b[0m\u001b[0mget_indexer\u001b[0m\u001b[0;34m(\u001b[0m\u001b[0;34m[\u001b[0m\u001b[0mkey\u001b[0m\u001b[0;34m]\u001b[0m\u001b[0;34m,\u001b[0m \u001b[0mmethod\u001b[0m\u001b[0;34m=\u001b[0m\u001b[0mmethod\u001b[0m\u001b[0;34m,\u001b[0m \u001b[0mtolerance\u001b[0m\u001b[0;34m=\u001b[0m\u001b[0mtolerance\u001b[0m\u001b[0;34m)\u001b[0m\u001b[0;34m\u001b[0m\u001b[0;34m\u001b[0m\u001b[0m\n\u001b[1;32m   2650\u001b[0m         \u001b[0;32mif\u001b[0m \u001b[0mindexer\u001b[0m\u001b[0;34m.\u001b[0m\u001b[0mndim\u001b[0m \u001b[0;34m>\u001b[0m \u001b[0;36m1\u001b[0m \u001b[0;32mor\u001b[0m \u001b[0mindexer\u001b[0m\u001b[0;34m.\u001b[0m\u001b[0msize\u001b[0m \u001b[0;34m>\u001b[0m \u001b[0;36m1\u001b[0m\u001b[0;34m:\u001b[0m\u001b[0;34m\u001b[0m\u001b[0;34m\u001b[0m\u001b[0m\n",
            "\u001b[0;32mpandas/_libs/index.pyx\u001b[0m in \u001b[0;36mpandas._libs.index.IndexEngine.get_loc\u001b[0;34m()\u001b[0m\n",
            "\u001b[0;32mpandas/_libs/index.pyx\u001b[0m in \u001b[0;36mpandas._libs.index.IndexEngine.get_loc\u001b[0;34m()\u001b[0m\n",
            "\u001b[0;32mpandas/_libs/hashtable_class_helper.pxi\u001b[0m in \u001b[0;36mpandas._libs.hashtable.PyObjectHashTable.get_item\u001b[0;34m()\u001b[0m\n",
            "\u001b[0;32mpandas/_libs/hashtable_class_helper.pxi\u001b[0m in \u001b[0;36mpandas._libs.hashtable.PyObjectHashTable.get_item\u001b[0;34m()\u001b[0m\n",
            "\u001b[0;31mKeyError\u001b[0m: 'storey_low'"
          ]
        }
      ]
    },
    {
      "cell_type": "code",
      "metadata": {
        "id": "Oc439FVHzurX",
        "colab_type": "code",
        "outputId": "3bb55858-cd36-46f1-87ae-471bd464b951",
        "colab": {
          "base_uri": "https://localhost:8080/",
          "height": 326
        }
      },
      "source": [
        "df_train.head()"
      ],
      "execution_count": 0,
      "outputs": [
        {
          "output_type": "execute_result",
          "data": {
            "text/html": [
              "<div>\n",
              "<style scoped>\n",
              "    .dataframe tbody tr th:only-of-type {\n",
              "        vertical-align: middle;\n",
              "    }\n",
              "\n",
              "    .dataframe tbody tr th {\n",
              "        vertical-align: top;\n",
              "    }\n",
              "\n",
              "    .dataframe thead th {\n",
              "        text-align: right;\n",
              "    }\n",
              "</style>\n",
              "<table border=\"1\" class=\"dataframe\">\n",
              "  <thead>\n",
              "    <tr style=\"text-align: right;\">\n",
              "      <th></th>\n",
              "      <th>month</th>\n",
              "      <th>town</th>\n",
              "      <th>flat_type</th>\n",
              "      <th>block</th>\n",
              "      <th>street_name</th>\n",
              "      <th>floor_area_sqm</th>\n",
              "      <th>flat_model</th>\n",
              "      <th>lease_commence_date</th>\n",
              "      <th>remaining_lease</th>\n",
              "      <th>resale_price</th>\n",
              "      <th>direction</th>\n",
              "      <th>room_number</th>\n",
              "      <th>toilet_number</th>\n",
              "      <th>storey_random</th>\n",
              "    </tr>\n",
              "  </thead>\n",
              "  <tbody>\n",
              "    <tr>\n",
              "      <th>67892</th>\n",
              "      <td>2020-02</td>\n",
              "      <td>TOA PAYOH</td>\n",
              "      <td>3 ROOM</td>\n",
              "      <td>26</td>\n",
              "      <td>TOA PAYOH EAST</td>\n",
              "      <td>67.0</td>\n",
              "      <td>Improved</td>\n",
              "      <td>1971</td>\n",
              "      <td>49 years 11 months</td>\n",
              "      <td>140000.0</td>\n",
              "      <td>CENTRAL</td>\n",
              "      <td>3</td>\n",
              "      <td>2</td>\n",
              "      <td>12</td>\n",
              "    </tr>\n",
              "    <tr>\n",
              "      <th>66129</th>\n",
              "      <td>2020-01</td>\n",
              "      <td>TOA PAYOH</td>\n",
              "      <td>2 ROOM</td>\n",
              "      <td>52</td>\n",
              "      <td>LOR 6 TOA PAYOH</td>\n",
              "      <td>43.0</td>\n",
              "      <td>Standard</td>\n",
              "      <td>1983</td>\n",
              "      <td>62 years 05 months</td>\n",
              "      <td>150000.0</td>\n",
              "      <td>CENTRAL</td>\n",
              "      <td>2</td>\n",
              "      <td>1</td>\n",
              "      <td>1</td>\n",
              "    </tr>\n",
              "    <tr>\n",
              "      <th>59273</th>\n",
              "      <td>2019-10</td>\n",
              "      <td>GEYLANG</td>\n",
              "      <td>2 ROOM</td>\n",
              "      <td>68</td>\n",
              "      <td>CIRCUIT RD</td>\n",
              "      <td>45.0</td>\n",
              "      <td>Standard</td>\n",
              "      <td>1969</td>\n",
              "      <td>48 years 03 months</td>\n",
              "      <td>150000.0</td>\n",
              "      <td>CENTRAL</td>\n",
              "      <td>2</td>\n",
              "      <td>1</td>\n",
              "      <td>4</td>\n",
              "    </tr>\n",
              "    <tr>\n",
              "      <th>66745</th>\n",
              "      <td>2020-02</td>\n",
              "      <td>BUKIT MERAH</td>\n",
              "      <td>1 ROOM</td>\n",
              "      <td>7</td>\n",
              "      <td>TELOK BLANGAH CRES</td>\n",
              "      <td>31.0</td>\n",
              "      <td>Improved</td>\n",
              "      <td>1975</td>\n",
              "      <td>54 years 01 month</td>\n",
              "      <td>157000.0</td>\n",
              "      <td>CENTRAL</td>\n",
              "      <td>1</td>\n",
              "      <td>1</td>\n",
              "      <td>12</td>\n",
              "    </tr>\n",
              "    <tr>\n",
              "      <th>35254</th>\n",
              "      <td>2018-09</td>\n",
              "      <td>GEYLANG</td>\n",
              "      <td>2 ROOM</td>\n",
              "      <td>39</td>\n",
              "      <td>CIRCUIT RD</td>\n",
              "      <td>47.0</td>\n",
              "      <td>Standard</td>\n",
              "      <td>1971</td>\n",
              "      <td>51 years 04 months</td>\n",
              "      <td>160000.0</td>\n",
              "      <td>CENTRAL</td>\n",
              "      <td>2</td>\n",
              "      <td>1</td>\n",
              "      <td>5</td>\n",
              "    </tr>\n",
              "  </tbody>\n",
              "</table>\n",
              "</div>"
            ],
            "text/plain": [
              "         month         town  ... toilet_number storey_random\n",
              "67892  2020-02    TOA PAYOH  ...             2            12\n",
              "66129  2020-01    TOA PAYOH  ...             1             1\n",
              "59273  2019-10      GEYLANG  ...             1             4\n",
              "66745  2020-02  BUKIT MERAH  ...             1            12\n",
              "35254  2018-09      GEYLANG  ...             1             5\n",
              "\n",
              "[5 rows x 14 columns]"
            ]
          },
          "metadata": {
            "tags": []
          },
          "execution_count": 64
        }
      ]
    },
    {
      "cell_type": "markdown",
      "metadata": {
        "id": "1EvjF-qkoZKf",
        "colab_type": "text"
      },
      "source": [
        "4. **Sales Year & Month**. \n",
        "  - The month originally given in the data set are in this format: 2018–4, so by breaking them up to ‘year’ and ‘month’ will allow the model to pick up the ordinal relationship.\n"
      ]
    },
    {
      "cell_type": "code",
      "metadata": {
        "id": "PciDj2J6jLFt",
        "colab_type": "code",
        "colab": {}
      },
      "source": [
        "df_train['sale_year'] = df_train['month'].apply(lambda x: x.split(\"-\")[0]).astype('int')\n",
        "df_train['sale_month'] = df_train['month'].apply(lambda x: x.split(\"-\")[1]).astype('int')"
      ],
      "execution_count": 0,
      "outputs": []
    },
    {
      "cell_type": "code",
      "metadata": {
        "id": "gAe964wsyc7a",
        "colab_type": "code",
        "outputId": "c00603b7-08af-437b-8b0a-f0e3e23e0ec5",
        "colab": {
          "base_uri": "https://localhost:8080/",
          "height": 645
        }
      },
      "source": [
        "#correlation matrix\n",
        "corrmat = df_train.corr()\n",
        "f, ax = plt.subplots(figsize=(12, 9))\n",
        "sns.heatmap(corrmat,square=True);"
      ],
      "execution_count": 0,
      "outputs": [
        {
          "output_type": "display_data",
          "data": {
            "image/png": "[encoded data removed]",
            "text/plain": [
              "<Figure size 864x648 with 2 Axes>"
            ]
          },
          "metadata": {
            "tags": []
          }
        }
      ]
    },
    {
      "cell_type": "markdown",
      "metadata": {
        "id": "mW7Hhbc7odQT",
        "colab_type": "text"
      },
      "source": [
        "- How effective are the newly created features in improving our model’s performance? \n",
        "  - I will be running multiple experiments and do some comparison with the base model. \n",
        "  - I will cover that in the later section of Results."
      ]
    },
    {
      "cell_type": "markdown",
      "metadata": {
        "id": "LAUwXz44jO8d",
        "colab_type": "text"
      },
      "source": [
        "## 4th Delete feature that is not helpful"
      ]
    },
    {
      "cell_type": "code",
      "metadata": {
        "id": "nqm2ShBQjgmO",
        "colab_type": "code",
        "colab": {}
      },
      "source": [
        "df_train = df_train.drop(['block'],axis=1)\n",
        "df_train = df_train.drop(['month'],axis=1)\n"
      ],
      "execution_count": 0,
      "outputs": []
    },
    {
      "cell_type": "code",
      "metadata": {
        "id": "jY6dSGPdjdbk",
        "colab_type": "code",
        "outputId": "0fe90a9f-b9c3-4995-be81-45368c137b32",
        "colab": {
          "base_uri": "https://localhost:8080/",
          "height": 34
        }
      },
      "source": [
        "len(df_train)"
      ],
      "execution_count": 0,
      "outputs": [
        {
          "output_type": "execute_result",
          "data": {
            "text/plain": [
              "68161"
            ]
          },
          "metadata": {
            "tags": []
          },
          "execution_count": 69
        }
      ]
    },
    {
      "cell_type": "markdown",
      "metadata": {
        "id": "clie8t2dy5pP",
        "colab_type": "text"
      },
      "source": [
        "# Section for Machine Learning Geeks"
      ]
    },
    {
      "cell_type": "markdown",
      "metadata": {
        "id": "gvwe4n6EjnJR",
        "colab_type": "text"
      },
      "source": [
        "## 5th Correct feature skewness"
      ]
    },
    {
      "cell_type": "code",
      "metadata": {
        "id": "BnR4spEGjj2P",
        "colab_type": "code",
        "colab": {}
      },
      "source": [
        "from scipy.special import boxcox1p\n",
        "from scipy.stats import norm, skew #for some statistics"
      ],
      "execution_count": 0,
      "outputs": []
    },
    {
      "cell_type": "code",
      "metadata": {
        "id": "EBlhgE0sjp0I",
        "colab_type": "code",
        "outputId": "e74c8f53-676f-4155-f314-2c580b7d0816",
        "colab": {
          "base_uri": "https://localhost:8080/",
          "height": 170
        }
      },
      "source": [
        "numeric_feats = df_train.select_dtypes(include=['number']).columns\n",
        "skew_feats = df_train[numeric_feats].apply(lambda x: skew(x)).sort_values(ascending=False)\n",
        "skew_feats.head(10)"
      ],
      "execution_count": 0,
      "outputs": [
        {
          "output_type": "execute_result",
          "data": {
            "text/plain": [
              "storey_random          1.507340\n",
              "resale_price           1.140692\n",
              "floor_area_sqm         0.248286\n",
              "sale_year              0.166564\n",
              "lease_commence_date    0.099564\n",
              "room_number           -0.015996\n",
              "sale_month            -0.028786\n",
              "toilet_number         -7.340712\n",
              "dtype: float64"
            ]
          },
          "metadata": {
            "tags": []
          },
          "execution_count": 71
        }
      ]
    },
    {
      "cell_type": "code",
      "metadata": {
        "id": "MJnWYP1xjsMx",
        "colab_type": "code",
        "colab": {}
      },
      "source": [
        "df_train['storey_random'] = boxcox1p(df_train['storey_random'],0.15)"
      ],
      "execution_count": 0,
      "outputs": []
    },
    {
      "cell_type": "markdown",
      "metadata": {
        "id": "XiCmQheIjwd-",
        "colab_type": "text"
      },
      "source": [
        "## 6th Train test split"
      ]
    },
    {
      "cell_type": "markdown",
      "metadata": {
        "id": "VWzhe6YMokTD",
        "colab_type": "text"
      },
      "source": [
        "- We would need to split our data into train and test set to validate the accuracy of our model before we actually push this model into production. Something important to note when creating our train test set:\n",
        " - **The distribution of train and test set should be similar**. A bad example of train and test set will be, the flat in the train set are all from the east region and the flat in the test set are all from the west region. Clearly, the model that is being trained under such condition would not be very effective.\n",
        " - **The distribution of test set and the data in real life should be similar**. Test set serves as a safe estimate for you to know how well your system will perform before rolling out to production. If your test set do not capture what the distribution of real life data will be, then the results you get from the test set will not give you much confidence. There is a good chance that your system will perform badly in production.\n",
        "- To produce a good train and test data set, we can use **Stratified Sampling**. Before we do stratified sampling, we need to decide a key feature that is important and would make sure that your train and test set distribution are similar based on this feature.\n",
        "- For example, in our project, I have chosen location as the key feature to do stratified sampling. It is a good idea that the flat in train and test set are having a similar distribution in terms of location. Which means if your train set has 50% of flat in central, 30% of flat in west and 20% in east, you should maintain this ratio in your test set."
      ]
    },
    {
      "cell_type": "code",
      "metadata": {
        "id": "19alz1-Cjyyb",
        "colab_type": "code",
        "colab": {}
      },
      "source": [
        "from sklearn.model_selection import train_test_split"
      ],
      "execution_count": 0,
      "outputs": []
    },
    {
      "cell_type": "code",
      "metadata": {
        "id": "FOSfaJ7wj1uZ",
        "colab_type": "code",
        "outputId": "e598e9a8-df4b-4c7c-efb4-e3564909d894",
        "colab": {
          "base_uri": "https://localhost:8080/",
          "height": 292
        }
      },
      "source": [
        "x_all = df_train.drop('resale_price',axis=1)\n",
        "x_all.head()"
      ],
      "execution_count": 0,
      "outputs": [
        {
          "output_type": "execute_result",
          "data": {
            "text/html": [
              "<div>\n",
              "<style scoped>\n",
              "    .dataframe tbody tr th:only-of-type {\n",
              "        vertical-align: middle;\n",
              "    }\n",
              "\n",
              "    .dataframe tbody tr th {\n",
              "        vertical-align: top;\n",
              "    }\n",
              "\n",
              "    .dataframe thead th {\n",
              "        text-align: right;\n",
              "    }\n",
              "</style>\n",
              "<table border=\"1\" class=\"dataframe\">\n",
              "  <thead>\n",
              "    <tr style=\"text-align: right;\">\n",
              "      <th></th>\n",
              "      <th>town</th>\n",
              "      <th>flat_type</th>\n",
              "      <th>street_name</th>\n",
              "      <th>floor_area_sqm</th>\n",
              "      <th>flat_model</th>\n",
              "      <th>lease_commence_date</th>\n",
              "      <th>remaining_lease</th>\n",
              "      <th>direction</th>\n",
              "      <th>room_number</th>\n",
              "      <th>toilet_number</th>\n",
              "      <th>storey_random</th>\n",
              "      <th>sale_year</th>\n",
              "      <th>sale_month</th>\n",
              "    </tr>\n",
              "  </thead>\n",
              "  <tbody>\n",
              "    <tr>\n",
              "      <th>67892</th>\n",
              "      <td>TOA PAYOH</td>\n",
              "      <td>3 ROOM</td>\n",
              "      <td>TOA PAYOH EAST</td>\n",
              "      <td>67.0</td>\n",
              "      <td>Improved</td>\n",
              "      <td>1971</td>\n",
              "      <td>49 years 11 months</td>\n",
              "      <td>CENTRAL</td>\n",
              "      <td>3</td>\n",
              "      <td>2</td>\n",
              "      <td>3.128239</td>\n",
              "      <td>2020</td>\n",
              "      <td>2</td>\n",
              "    </tr>\n",
              "    <tr>\n",
              "      <th>66129</th>\n",
              "      <td>TOA PAYOH</td>\n",
              "      <td>2 ROOM</td>\n",
              "      <td>LOR 6 TOA PAYOH</td>\n",
              "      <td>43.0</td>\n",
              "      <td>Standard</td>\n",
              "      <td>1983</td>\n",
              "      <td>62 years 05 months</td>\n",
              "      <td>CENTRAL</td>\n",
              "      <td>2</td>\n",
              "      <td>1</td>\n",
              "      <td>0.730463</td>\n",
              "      <td>2020</td>\n",
              "      <td>1</td>\n",
              "    </tr>\n",
              "    <tr>\n",
              "      <th>59273</th>\n",
              "      <td>GEYLANG</td>\n",
              "      <td>2 ROOM</td>\n",
              "      <td>CIRCUIT RD</td>\n",
              "      <td>45.0</td>\n",
              "      <td>Standard</td>\n",
              "      <td>1969</td>\n",
              "      <td>48 years 03 months</td>\n",
              "      <td>CENTRAL</td>\n",
              "      <td>2</td>\n",
              "      <td>1</td>\n",
              "      <td>1.820334</td>\n",
              "      <td>2019</td>\n",
              "      <td>10</td>\n",
              "    </tr>\n",
              "    <tr>\n",
              "      <th>66745</th>\n",
              "      <td>BUKIT MERAH</td>\n",
              "      <td>1 ROOM</td>\n",
              "      <td>TELOK BLANGAH CRES</td>\n",
              "      <td>31.0</td>\n",
              "      <td>Improved</td>\n",
              "      <td>1975</td>\n",
              "      <td>54 years 01 month</td>\n",
              "      <td>CENTRAL</td>\n",
              "      <td>1</td>\n",
              "      <td>1</td>\n",
              "      <td>3.128239</td>\n",
              "      <td>2020</td>\n",
              "      <td>2</td>\n",
              "    </tr>\n",
              "    <tr>\n",
              "      <th>35254</th>\n",
              "      <td>GEYLANG</td>\n",
              "      <td>2 ROOM</td>\n",
              "      <td>CIRCUIT RD</td>\n",
              "      <td>47.0</td>\n",
              "      <td>Standard</td>\n",
              "      <td>1971</td>\n",
              "      <td>51 years 04 months</td>\n",
              "      <td>CENTRAL</td>\n",
              "      <td>2</td>\n",
              "      <td>1</td>\n",
              "      <td>2.055642</td>\n",
              "      <td>2018</td>\n",
              "      <td>9</td>\n",
              "    </tr>\n",
              "  </tbody>\n",
              "</table>\n",
              "</div>"
            ],
            "text/plain": [
              "              town flat_type  ... sale_year  sale_month\n",
              "67892    TOA PAYOH    3 ROOM  ...      2020           2\n",
              "66129    TOA PAYOH    2 ROOM  ...      2020           1\n",
              "59273      GEYLANG    2 ROOM  ...      2019          10\n",
              "66745  BUKIT MERAH    1 ROOM  ...      2020           2\n",
              "35254      GEYLANG    2 ROOM  ...      2018           9\n",
              "\n",
              "[5 rows x 13 columns]"
            ]
          },
          "metadata": {
            "tags": []
          },
          "execution_count": 86
        }
      ]
    },
    {
      "cell_type": "code",
      "metadata": {
        "id": "pHqij5ES1Iep",
        "colab_type": "code",
        "outputId": "3ba8c351-7887-4bbb-ee78-68d9c97dce69",
        "colab": {
          "base_uri": "https://localhost:8080/",
          "height": 119
        }
      },
      "source": [
        "y_all = np.log(df_train['resale_price'])\n",
        "y_all.head()"
      ],
      "execution_count": 0,
      "outputs": [
        {
          "output_type": "execute_result",
          "data": {
            "text/plain": [
              "67892    11.849398\n",
              "66129    11.918391\n",
              "59273    11.918391\n",
              "66745    11.964001\n",
              "35254    11.982929\n",
              "Name: resale_price, dtype: float64"
            ]
          },
          "metadata": {
            "tags": []
          },
          "execution_count": 87
        }
      ]
    },
    {
      "cell_type": "code",
      "metadata": {
        "id": "q6r5U1D8j4EJ",
        "colab_type": "code",
        "outputId": "9fe1ec64-a253-4f97-e26b-fdaabc54a8fc",
        "colab": {
          "base_uri": "https://localhost:8080/",
          "height": 270
        }
      },
      "source": [
        "x_all = pd.get_dummies(x_all)\n",
        "x_all.head()"
      ],
      "execution_count": 0,
      "outputs": [
        {
          "output_type": "execute_result",
          "data": {
            "text/html": [
              "<div>\n",
              "<style scoped>\n",
              "    .dataframe tbody tr th:only-of-type {\n",
              "        vertical-align: middle;\n",
              "    }\n",
              "\n",
              "    .dataframe tbody tr th {\n",
              "        vertical-align: top;\n",
              "    }\n",
              "\n",
              "    .dataframe thead th {\n",
              "        text-align: right;\n",
              "    }\n",
              "</style>\n",
              "<table border=\"1\" class=\"dataframe\">\n",
              "  <thead>\n",
              "    <tr style=\"text-align: right;\">\n",
              "      <th></th>\n",
              "      <th>floor_area_sqm</th>\n",
              "      <th>lease_commence_date</th>\n",
              "      <th>room_number</th>\n",
              "      <th>toilet_number</th>\n",
              "      <th>storey_random</th>\n",
              "      <th>sale_year</th>\n",
              "      <th>sale_month</th>\n",
              "      <th>town_ANG MO KIO</th>\n",
              "      <th>town_BEDOK</th>\n",
              "      <th>town_BISHAN</th>\n",
              "      <th>town_BUKIT BATOK</th>\n",
              "      <th>town_BUKIT MERAH</th>\n",
              "      <th>town_BUKIT PANJANG</th>\n",
              "      <th>town_BUKIT TIMAH</th>\n",
              "      <th>town_CENTRAL AREA</th>\n",
              "      <th>town_CHOA CHU KANG</th>\n",
              "      <th>town_CLEMENTI</th>\n",
              "      <th>town_GEYLANG</th>\n",
              "      <th>town_HOUGANG</th>\n",
              "      <th>town_JURONG EAST</th>\n",
              "      <th>town_JURONG WEST</th>\n",
              "      <th>town_KALLANG/WHAMPOA</th>\n",
              "      <th>town_MARINE PARADE</th>\n",
              "      <th>town_PASIR RIS</th>\n",
              "      <th>town_PUNGGOL</th>\n",
              "      <th>town_QUEENSTOWN</th>\n",
              "      <th>town_SEMBAWANG</th>\n",
              "      <th>town_SENGKANG</th>\n",
              "      <th>town_SERANGOON</th>\n",
              "      <th>town_TAMPINES</th>\n",
              "      <th>town_TOA PAYOH</th>\n",
              "      <th>town_WOODLANDS</th>\n",
              "      <th>town_YISHUN</th>\n",
              "      <th>flat_type_1 ROOM</th>\n",
              "      <th>flat_type_2 ROOM</th>\n",
              "      <th>flat_type_3 ROOM</th>\n",
              "      <th>flat_type_4 ROOM</th>\n",
              "      <th>flat_type_5 ROOM</th>\n",
              "      <th>flat_type_EXECUTIVE</th>\n",
              "      <th>flat_type_MULTI-GENERATION</th>\n",
              "      <th>...</th>\n",
              "      <th>remaining_lease_93 years 10 months</th>\n",
              "      <th>remaining_lease_93 years 11 months</th>\n",
              "      <th>remaining_lease_94 years</th>\n",
              "      <th>remaining_lease_94 years 01 month</th>\n",
              "      <th>remaining_lease_94 years 02 months</th>\n",
              "      <th>remaining_lease_94 years 03 months</th>\n",
              "      <th>remaining_lease_94 years 04 months</th>\n",
              "      <th>remaining_lease_94 years 05 months</th>\n",
              "      <th>remaining_lease_94 years 06 months</th>\n",
              "      <th>remaining_lease_94 years 07 months</th>\n",
              "      <th>remaining_lease_94 years 08 months</th>\n",
              "      <th>remaining_lease_94 years 09 months</th>\n",
              "      <th>remaining_lease_94 years 10 months</th>\n",
              "      <th>remaining_lease_94 years 11 months</th>\n",
              "      <th>remaining_lease_95 years</th>\n",
              "      <th>remaining_lease_95 years 0 months</th>\n",
              "      <th>remaining_lease_95 years 01 month</th>\n",
              "      <th>remaining_lease_95 years 02 months</th>\n",
              "      <th>remaining_lease_95 years 03 months</th>\n",
              "      <th>remaining_lease_95 years 04 months</th>\n",
              "      <th>remaining_lease_95 years 05 months</th>\n",
              "      <th>remaining_lease_95 years 06 months</th>\n",
              "      <th>remaining_lease_95 years 07 months</th>\n",
              "      <th>remaining_lease_95 years 08 months</th>\n",
              "      <th>remaining_lease_95 years 09 months</th>\n",
              "      <th>remaining_lease_95 years 10 months</th>\n",
              "      <th>remaining_lease_95 years 11 months</th>\n",
              "      <th>remaining_lease_96 years</th>\n",
              "      <th>remaining_lease_96 years 01 month</th>\n",
              "      <th>remaining_lease_96 years 02 months</th>\n",
              "      <th>remaining_lease_96 years 03 months</th>\n",
              "      <th>remaining_lease_96 years 04 months</th>\n",
              "      <th>remaining_lease_96 years 05 months</th>\n",
              "      <th>remaining_lease_96 years 06 months</th>\n",
              "      <th>remaining_lease_96 years 07 months</th>\n",
              "      <th>remaining_lease_96 years 08 months</th>\n",
              "      <th>direction_CENTRAL</th>\n",
              "      <th>direction_EAST</th>\n",
              "      <th>direction_NORTH</th>\n",
              "      <th>direction_WEST</th>\n",
              "    </tr>\n",
              "  </thead>\n",
              "  <tbody>\n",
              "    <tr>\n",
              "      <th>67892</th>\n",
              "      <td>67.0</td>\n",
              "      <td>1971</td>\n",
              "      <td>3</td>\n",
              "      <td>2</td>\n",
              "      <td>3.128239</td>\n",
              "      <td>2020</td>\n",
              "      <td>2</td>\n",
              "      <td>0</td>\n",
              "      <td>0</td>\n",
              "      <td>0</td>\n",
              "      <td>0</td>\n",
              "      <td>0</td>\n",
              "      <td>0</td>\n",
              "      <td>0</td>\n",
              "      <td>0</td>\n",
              "      <td>0</td>\n",
              "      <td>0</td>\n",
              "      <td>0</td>\n",
              "      <td>0</td>\n",
              "      <td>0</td>\n",
              "      <td>0</td>\n",
              "      <td>0</td>\n",
              "      <td>0</td>\n",
              "      <td>0</td>\n",
              "      <td>0</td>\n",
              "      <td>0</td>\n",
              "      <td>0</td>\n",
              "      <td>0</td>\n",
              "      <td>0</td>\n",
              "      <td>0</td>\n",
              "      <td>1</td>\n",
              "      <td>0</td>\n",
              "      <td>0</td>\n",
              "      <td>0</td>\n",
              "      <td>0</td>\n",
              "      <td>1</td>\n",
              "      <td>0</td>\n",
              "      <td>0</td>\n",
              "      <td>0</td>\n",
              "      <td>0</td>\n",
              "      <td>...</td>\n",
              "      <td>0</td>\n",
              "      <td>0</td>\n",
              "      <td>0</td>\n",
              "      <td>0</td>\n",
              "      <td>0</td>\n",
              "      <td>0</td>\n",
              "      <td>0</td>\n",
              "      <td>0</td>\n",
              "      <td>0</td>\n",
              "      <td>0</td>\n",
              "      <td>0</td>\n",
              "      <td>0</td>\n",
              "      <td>0</td>\n",
              "      <td>0</td>\n",
              "      <td>0</td>\n",
              "      <td>0</td>\n",
              "      <td>0</td>\n",
              "      <td>0</td>\n",
              "      <td>0</td>\n",
              "      <td>0</td>\n",
              "      <td>0</td>\n",
              "      <td>0</td>\n",
              "      <td>0</td>\n",
              "      <td>0</td>\n",
              "      <td>0</td>\n",
              "      <td>0</td>\n",
              "      <td>0</td>\n",
              "      <td>0</td>\n",
              "      <td>0</td>\n",
              "      <td>0</td>\n",
              "      <td>0</td>\n",
              "      <td>0</td>\n",
              "      <td>0</td>\n",
              "      <td>0</td>\n",
              "      <td>0</td>\n",
              "      <td>0</td>\n",
              "      <td>1</td>\n",
              "      <td>0</td>\n",
              "      <td>0</td>\n",
              "      <td>0</td>\n",
              "    </tr>\n",
              "    <tr>\n",
              "      <th>66129</th>\n",
              "      <td>43.0</td>\n",
              "      <td>1983</td>\n",
              "      <td>2</td>\n",
              "      <td>1</td>\n",
              "      <td>0.730463</td>\n",
              "      <td>2020</td>\n",
              "      <td>1</td>\n",
              "      <td>0</td>\n",
              "      <td>0</td>\n",
              "      <td>0</td>\n",
              "      <td>0</td>\n",
              "      <td>0</td>\n",
              "      <td>0</td>\n",
              "      <td>0</td>\n",
              "      <td>0</td>\n",
              "      <td>0</td>\n",
              "      <td>0</td>\n",
              "      <td>0</td>\n",
              "      <td>0</td>\n",
              "      <td>0</td>\n",
              "      <td>0</td>\n",
              "      <td>0</td>\n",
              "      <td>0</td>\n",
              "      <td>0</td>\n",
              "      <td>0</td>\n",
              "      <td>0</td>\n",
              "      <td>0</td>\n",
              "      <td>0</td>\n",
              "      <td>0</td>\n",
              "      <td>0</td>\n",
              "      <td>1</td>\n",
              "      <td>0</td>\n",
              "      <td>0</td>\n",
              "      <td>0</td>\n",
              "      <td>1</td>\n",
              "      <td>0</td>\n",
              "      <td>0</td>\n",
              "      <td>0</td>\n",
              "      <td>0</td>\n",
              "      <td>0</td>\n",
              "      <td>...</td>\n",
              "      <td>0</td>\n",
              "      <td>0</td>\n",
              "      <td>0</td>\n",
              "      <td>0</td>\n",
              "      <td>0</td>\n",
              "      <td>0</td>\n",
              "      <td>0</td>\n",
              "      <td>0</td>\n",
              "      <td>0</td>\n",
              "      <td>0</td>\n",
              "      <td>0</td>\n",
              "      <td>0</td>\n",
              "      <td>0</td>\n",
              "      <td>0</td>\n",
              "      <td>0</td>\n",
              "      <td>0</td>\n",
              "      <td>0</td>\n",
              "      <td>0</td>\n",
              "      <td>0</td>\n",
              "      <td>0</td>\n",
              "      <td>0</td>\n",
              "      <td>0</td>\n",
              "      <td>0</td>\n",
              "      <td>0</td>\n",
              "      <td>0</td>\n",
              "      <td>0</td>\n",
              "      <td>0</td>\n",
              "      <td>0</td>\n",
              "      <td>0</td>\n",
              "      <td>0</td>\n",
              "      <td>0</td>\n",
              "      <td>0</td>\n",
              "      <td>0</td>\n",
              "      <td>0</td>\n",
              "      <td>0</td>\n",
              "      <td>0</td>\n",
              "      <td>1</td>\n",
              "      <td>0</td>\n",
              "      <td>0</td>\n",
              "      <td>0</td>\n",
              "    </tr>\n",
              "    <tr>\n",
              "      <th>59273</th>\n",
              "      <td>45.0</td>\n",
              "      <td>1969</td>\n",
              "      <td>2</td>\n",
              "      <td>1</td>\n",
              "      <td>1.820334</td>\n",
              "      <td>2019</td>\n",
              "      <td>10</td>\n",
              "      <td>0</td>\n",
              "      <td>0</td>\n",
              "      <td>0</td>\n",
              "      <td>0</td>\n",
              "      <td>0</td>\n",
              "      <td>0</td>\n",
              "      <td>0</td>\n",
              "      <td>0</td>\n",
              "      <td>0</td>\n",
              "      <td>0</td>\n",
              "      <td>1</td>\n",
              "      <td>0</td>\n",
              "      <td>0</td>\n",
              "      <td>0</td>\n",
              "      <td>0</td>\n",
              "      <td>0</td>\n",
              "      <td>0</td>\n",
              "      <td>0</td>\n",
              "      <td>0</td>\n",
              "      <td>0</td>\n",
              "      <td>0</td>\n",
              "      <td>0</td>\n",
              "      <td>0</td>\n",
              "      <td>0</td>\n",
              "      <td>0</td>\n",
              "      <td>0</td>\n",
              "      <td>0</td>\n",
              "      <td>1</td>\n",
              "      <td>0</td>\n",
              "      <td>0</td>\n",
              "      <td>0</td>\n",
              "      <td>0</td>\n",
              "      <td>0</td>\n",
              "      <td>...</td>\n",
              "      <td>0</td>\n",
              "      <td>0</td>\n",
              "      <td>0</td>\n",
              "      <td>0</td>\n",
              "      <td>0</td>\n",
              "      <td>0</td>\n",
              "      <td>0</td>\n",
              "      <td>0</td>\n",
              "      <td>0</td>\n",
              "      <td>0</td>\n",
              "      <td>0</td>\n",
              "      <td>0</td>\n",
              "      <td>0</td>\n",
              "      <td>0</td>\n",
              "      <td>0</td>\n",
              "      <td>0</td>\n",
              "      <td>0</td>\n",
              "      <td>0</td>\n",
              "      <td>0</td>\n",
              "      <td>0</td>\n",
              "      <td>0</td>\n",
              "      <td>0</td>\n",
              "      <td>0</td>\n",
              "      <td>0</td>\n",
              "      <td>0</td>\n",
              "      <td>0</td>\n",
              "      <td>0</td>\n",
              "      <td>0</td>\n",
              "      <td>0</td>\n",
              "      <td>0</td>\n",
              "      <td>0</td>\n",
              "      <td>0</td>\n",
              "      <td>0</td>\n",
              "      <td>0</td>\n",
              "      <td>0</td>\n",
              "      <td>0</td>\n",
              "      <td>1</td>\n",
              "      <td>0</td>\n",
              "      <td>0</td>\n",
              "      <td>0</td>\n",
              "    </tr>\n",
              "    <tr>\n",
              "      <th>66745</th>\n",
              "      <td>31.0</td>\n",
              "      <td>1975</td>\n",
              "      <td>1</td>\n",
              "      <td>1</td>\n",
              "      <td>3.128239</td>\n",
              "      <td>2020</td>\n",
              "      <td>2</td>\n",
              "      <td>0</td>\n",
              "      <td>0</td>\n",
              "      <td>0</td>\n",
              "      <td>0</td>\n",
              "      <td>1</td>\n",
              "      <td>0</td>\n",
              "      <td>0</td>\n",
              "      <td>0</td>\n",
              "      <td>0</td>\n",
              "      <td>0</td>\n",
              "      <td>0</td>\n",
              "      <td>0</td>\n",
              "      <td>0</td>\n",
              "      <td>0</td>\n",
              "      <td>0</td>\n",
              "      <td>0</td>\n",
              "      <td>0</td>\n",
              "      <td>0</td>\n",
              "      <td>0</td>\n",
              "      <td>0</td>\n",
              "      <td>0</td>\n",
              "      <td>0</td>\n",
              "      <td>0</td>\n",
              "      <td>0</td>\n",
              "      <td>0</td>\n",
              "      <td>0</td>\n",
              "      <td>1</td>\n",
              "      <td>0</td>\n",
              "      <td>0</td>\n",
              "      <td>0</td>\n",
              "      <td>0</td>\n",
              "      <td>0</td>\n",
              "      <td>0</td>\n",
              "      <td>...</td>\n",
              "      <td>0</td>\n",
              "      <td>0</td>\n",
              "      <td>0</td>\n",
              "      <td>0</td>\n",
              "      <td>0</td>\n",
              "      <td>0</td>\n",
              "      <td>0</td>\n",
              "      <td>0</td>\n",
              "      <td>0</td>\n",
              "      <td>0</td>\n",
              "      <td>0</td>\n",
              "      <td>0</td>\n",
              "      <td>0</td>\n",
              "      <td>0</td>\n",
              "      <td>0</td>\n",
              "      <td>0</td>\n",
              "      <td>0</td>\n",
              "      <td>0</td>\n",
              "      <td>0</td>\n",
              "      <td>0</td>\n",
              "      <td>0</td>\n",
              "      <td>0</td>\n",
              "      <td>0</td>\n",
              "      <td>0</td>\n",
              "      <td>0</td>\n",
              "      <td>0</td>\n",
              "      <td>0</td>\n",
              "      <td>0</td>\n",
              "      <td>0</td>\n",
              "      <td>0</td>\n",
              "      <td>0</td>\n",
              "      <td>0</td>\n",
              "      <td>0</td>\n",
              "      <td>0</td>\n",
              "      <td>0</td>\n",
              "      <td>0</td>\n",
              "      <td>1</td>\n",
              "      <td>0</td>\n",
              "      <td>0</td>\n",
              "      <td>0</td>\n",
              "    </tr>\n",
              "    <tr>\n",
              "      <th>35254</th>\n",
              "      <td>47.0</td>\n",
              "      <td>1971</td>\n",
              "      <td>2</td>\n",
              "      <td>1</td>\n",
              "      <td>2.055642</td>\n",
              "      <td>2018</td>\n",
              "      <td>9</td>\n",
              "      <td>0</td>\n",
              "      <td>0</td>\n",
              "      <td>0</td>\n",
              "      <td>0</td>\n",
              "      <td>0</td>\n",
              "      <td>0</td>\n",
              "      <td>0</td>\n",
              "      <td>0</td>\n",
              "      <td>0</td>\n",
              "      <td>0</td>\n",
              "      <td>1</td>\n",
              "      <td>0</td>\n",
              "      <td>0</td>\n",
              "      <td>0</td>\n",
              "      <td>0</td>\n",
              "      <td>0</td>\n",
              "      <td>0</td>\n",
              "      <td>0</td>\n",
              "      <td>0</td>\n",
              "      <td>0</td>\n",
              "      <td>0</td>\n",
              "      <td>0</td>\n",
              "      <td>0</td>\n",
              "      <td>0</td>\n",
              "      <td>0</td>\n",
              "      <td>0</td>\n",
              "      <td>0</td>\n",
              "      <td>1</td>\n",
              "      <td>0</td>\n",
              "      <td>0</td>\n",
              "      <td>0</td>\n",
              "      <td>0</td>\n",
              "      <td>0</td>\n",
              "      <td>...</td>\n",
              "      <td>0</td>\n",
              "      <td>0</td>\n",
              "      <td>0</td>\n",
              "      <td>0</td>\n",
              "      <td>0</td>\n",
              "      <td>0</td>\n",
              "      <td>0</td>\n",
              "      <td>0</td>\n",
              "      <td>0</td>\n",
              "      <td>0</td>\n",
              "      <td>0</td>\n",
              "      <td>0</td>\n",
              "      <td>0</td>\n",
              "      <td>0</td>\n",
              "      <td>0</td>\n",
              "      <td>0</td>\n",
              "      <td>0</td>\n",
              "      <td>0</td>\n",
              "      <td>0</td>\n",
              "      <td>0</td>\n",
              "      <td>0</td>\n",
              "      <td>0</td>\n",
              "      <td>0</td>\n",
              "      <td>0</td>\n",
              "      <td>0</td>\n",
              "      <td>0</td>\n",
              "      <td>0</td>\n",
              "      <td>0</td>\n",
              "      <td>0</td>\n",
              "      <td>0</td>\n",
              "      <td>0</td>\n",
              "      <td>0</td>\n",
              "      <td>0</td>\n",
              "      <td>0</td>\n",
              "      <td>0</td>\n",
              "      <td>0</td>\n",
              "      <td>1</td>\n",
              "      <td>0</td>\n",
              "      <td>0</td>\n",
              "      <td>0</td>\n",
              "    </tr>\n",
              "  </tbody>\n",
              "</table>\n",
              "<p>5 rows × 1221 columns</p>\n",
              "</div>"
            ],
            "text/plain": [
              "       floor_area_sqm  lease_commence_date  ...  direction_NORTH  direction_WEST\n",
              "67892            67.0                 1971  ...                0               0\n",
              "66129            43.0                 1983  ...                0               0\n",
              "59273            45.0                 1969  ...                0               0\n",
              "66745            31.0                 1975  ...                0               0\n",
              "35254            47.0                 1971  ...                0               0\n",
              "\n",
              "[5 rows x 1221 columns]"
            ]
          },
          "metadata": {
            "tags": []
          },
          "execution_count": 90
        }
      ]
    },
    {
      "cell_type": "code",
      "metadata": {
        "id": "H1fdPyioj8il",
        "colab_type": "code",
        "outputId": "d25be594-a569-404a-b309-f666c87495cd",
        "colab": {
          "base_uri": "https://localhost:8080/",
          "height": 309
        }
      },
      "source": [
        "dum_x_train,_,_,_ = train_test_split(df_train,y_all,stratify=df_train['town'],random_state=42)\n",
        "dum_x_train.head()"
      ],
      "execution_count": 0,
      "outputs": [
        {
          "output_type": "execute_result",
          "data": {
            "text/html": [
              "<div>\n",
              "<style scoped>\n",
              "    .dataframe tbody tr th:only-of-type {\n",
              "        vertical-align: middle;\n",
              "    }\n",
              "\n",
              "    .dataframe tbody tr th {\n",
              "        vertical-align: top;\n",
              "    }\n",
              "\n",
              "    .dataframe thead th {\n",
              "        text-align: right;\n",
              "    }\n",
              "</style>\n",
              "<table border=\"1\" class=\"dataframe\">\n",
              "  <thead>\n",
              "    <tr style=\"text-align: right;\">\n",
              "      <th></th>\n",
              "      <th>town</th>\n",
              "      <th>flat_type</th>\n",
              "      <th>street_name</th>\n",
              "      <th>floor_area_sqm</th>\n",
              "      <th>flat_model</th>\n",
              "      <th>lease_commence_date</th>\n",
              "      <th>remaining_lease</th>\n",
              "      <th>resale_price</th>\n",
              "      <th>direction</th>\n",
              "      <th>room_number</th>\n",
              "      <th>toilet_number</th>\n",
              "      <th>storey_random</th>\n",
              "      <th>sale_year</th>\n",
              "      <th>sale_month</th>\n",
              "    </tr>\n",
              "  </thead>\n",
              "  <tbody>\n",
              "    <tr>\n",
              "      <th>50950</th>\n",
              "      <td>ANG MO KIO</td>\n",
              "      <td>5 ROOM</td>\n",
              "      <td>ANG MO KIO AVE 5</td>\n",
              "      <td>121.0</td>\n",
              "      <td>Improved</td>\n",
              "      <td>1980</td>\n",
              "      <td>60 years 05 months</td>\n",
              "      <td>520000.0</td>\n",
              "      <td>NORTH</td>\n",
              "      <td>5</td>\n",
              "      <td>2</td>\n",
              "      <td>0.730463</td>\n",
              "      <td>2019</td>\n",
              "      <td>6</td>\n",
              "    </tr>\n",
              "    <tr>\n",
              "      <th>38700</th>\n",
              "      <td>ANG MO KIO</td>\n",
              "      <td>5 ROOM</td>\n",
              "      <td>ANG MO KIO AVE 3</td>\n",
              "      <td>119.0</td>\n",
              "      <td>Improved</td>\n",
              "      <td>1979</td>\n",
              "      <td>59 years 02 months</td>\n",
              "      <td>595800.0</td>\n",
              "      <td>NORTH</td>\n",
              "      <td>5</td>\n",
              "      <td>2</td>\n",
              "      <td>1.820334</td>\n",
              "      <td>2018</td>\n",
              "      <td>11</td>\n",
              "    </tr>\n",
              "    <tr>\n",
              "      <th>59031</th>\n",
              "      <td>BUKIT PANJANG</td>\n",
              "      <td>3 ROOM</td>\n",
              "      <td>SEGAR RD</td>\n",
              "      <td>67.0</td>\n",
              "      <td>Model A</td>\n",
              "      <td>2015</td>\n",
              "      <td>94 years 09 months</td>\n",
              "      <td>310000.0</td>\n",
              "      <td>WEST</td>\n",
              "      <td>3</td>\n",
              "      <td>2</td>\n",
              "      <td>2.750250</td>\n",
              "      <td>2019</td>\n",
              "      <td>10</td>\n",
              "    </tr>\n",
              "    <tr>\n",
              "      <th>64501</th>\n",
              "      <td>YISHUN</td>\n",
              "      <td>4 ROOM</td>\n",
              "      <td>YISHUN RING RD</td>\n",
              "      <td>84.0</td>\n",
              "      <td>Simplified</td>\n",
              "      <td>1985</td>\n",
              "      <td>64 years 02 months</td>\n",
              "      <td>288000.0</td>\n",
              "      <td>NORTH</td>\n",
              "      <td>4</td>\n",
              "      <td>2</td>\n",
              "      <td>1.194318</td>\n",
              "      <td>2019</td>\n",
              "      <td>12</td>\n",
              "    </tr>\n",
              "    <tr>\n",
              "      <th>52507</th>\n",
              "      <td>WOODLANDS</td>\n",
              "      <td>4 ROOM</td>\n",
              "      <td>WOODLANDS AVE 1</td>\n",
              "      <td>92.0</td>\n",
              "      <td>Model A</td>\n",
              "      <td>2013</td>\n",
              "      <td>93 years 05 months</td>\n",
              "      <td>398000.0</td>\n",
              "      <td>NORTH</td>\n",
              "      <td>4</td>\n",
              "      <td>2</td>\n",
              "      <td>1.820334</td>\n",
              "      <td>2019</td>\n",
              "      <td>6</td>\n",
              "    </tr>\n",
              "  </tbody>\n",
              "</table>\n",
              "</div>"
            ],
            "text/plain": [
              "                town flat_type  ... sale_year  sale_month\n",
              "50950     ANG MO KIO    5 ROOM  ...      2019           6\n",
              "38700     ANG MO KIO    5 ROOM  ...      2018          11\n",
              "59031  BUKIT PANJANG    3 ROOM  ...      2019          10\n",
              "64501         YISHUN    4 ROOM  ...      2019          12\n",
              "52507      WOODLANDS    4 ROOM  ...      2019           6\n",
              "\n",
              "[5 rows x 14 columns]"
            ]
          },
          "metadata": {
            "tags": []
          },
          "execution_count": 92
        }
      ]
    },
    {
      "cell_type": "code",
      "metadata": {
        "id": "hYu-VMUG1wjb",
        "colab_type": "code",
        "colab": {}
      },
      "source": [
        "x_train,x_test,y_train,y_test = train_test_split(x_all,y_all,stratify=df_train['town'],random_state=42)"
      ],
      "execution_count": 0,
      "outputs": []
    },
    {
      "cell_type": "code",
      "metadata": {
        "id": "HfPXxTvLj_RJ",
        "colab_type": "code",
        "colab": {}
      },
      "source": [
        "# Get smaller sample size to perform experiment\n",
        "\n",
        "x_train, _ , y_train, _ = train_test_split(x_train,y_train,test_size=0.95,\n",
        "                                           random_state=42,stratify=dum_x_train['town'])"
      ],
      "execution_count": 0,
      "outputs": []
    },
    {
      "cell_type": "markdown",
      "metadata": {
        "id": "zPPgOsBgkGJ5",
        "colab_type": "text"
      },
      "source": [
        "## 7th Modeling"
      ]
    },
    {
      "cell_type": "code",
      "metadata": {
        "id": "GehBi2pLkInG",
        "colab_type": "code",
        "colab": {}
      },
      "source": [
        "#!pip install mlflow"
      ],
      "execution_count": 0,
      "outputs": []
    },
    {
      "cell_type": "markdown",
      "metadata": {
        "id": "3bbMVQ202Jag",
        "colab_type": "text"
      },
      "source": [
        "- MLflow is an open source platform for managing the end-to-end machine learning lifecycle. It tackles three primary functions:\n",
        "  - **Tracking experiments** to record and compare parameters and results (MLflow Tracking).\n",
        "  - **Packaging ML code** in a reusable, reproducible form in order to share with other data scientists or transfer to production (MLflow Projects).\n",
        "  - **Managing and deploying models from a variety of ML libraries** to a variety of model serving and inference platforms (MLflow Models).\n",
        "- MLflow is library-agnostic. You can use it with any machine learning library, and in any programming language, since all functions are accessible through a REST API and CLI. For convenience, the project also includes a Python API, R API, and Java API."
      ]
    },
    {
      "cell_type": "code",
      "metadata": {
        "id": "CSLX1ddU2inr",
        "colab_type": "code",
        "outputId": "a3fbb5b8-c742-4776-8f07-485ec7f338f3",
        "colab": {
          "base_uri": "https://localhost:8080/",
          "height": 17
        }
      },
      "source": [
        "import mlflow\n",
        "import mlflow.sklearn"
      ],
      "execution_count": 0,
      "outputs": [
        {
          "output_type": "display_data",
          "data": {
            "text/html": [
              "<script src='https://www.gstatic.com/external_hosted/mathjax/latest/MathJax.js?config=default'></script>"
            ],
            "text/plain": [
              "<IPython.core.display.HTML object>"
            ]
          },
          "metadata": {
            "tags": []
          }
        },
        {
          "output_type": "display_data",
          "data": {
            "text/html": [
              "<script src='https://www.gstatic.com/external_hosted/mathjax/latest/MathJax.js?config=default'></script>"
            ],
            "text/plain": [
              "<IPython.core.display.HTML object>"
            ]
          },
          "metadata": {
            "tags": []
          }
        }
      ]
    },
    {
      "cell_type": "markdown",
      "metadata": {
        "id": "I_synnDy2tyr",
        "colab_type": "text"
      },
      "source": [
        "- XGBoost is an optimized distributed gradient boosting library designed to be highly efficient, flexible and portable. \n",
        "- It implements machine learning algorithms under the Gradient Boosting framework. \n",
        "  - XGBoost provides a parallel tree boosting (also known as GBDT, GBM) that solve many data science problems in a fast and accurate way. \n",
        "  - The same code runs on major distributed environment (Hadoop, SGE, MPI) and can solve problems beyond billions of examples."
      ]
    },
    {
      "cell_type": "code",
      "metadata": {
        "id": "5fLK2I1z28QJ",
        "colab_type": "code",
        "colab": {}
      },
      "source": [
        "import as xgb"
      ],
      "execution_count": 0,
      "outputs": []
    },
    {
      "cell_type": "markdown",
      "metadata": {
        "id": "KEsz_kCD3VyU",
        "colab_type": "text"
      },
      "source": [
        "- Scikit-learn is a free machine learning library for Python. \n",
        "  - It features various algorithms like support vector machine, random forests, and k-neighbours, and it also supports Python numerical and scientific libraries like NumPy and SciPy."
      ]
    },
    {
      "cell_type": "code",
      "metadata": {
        "id": "H2w0QqFlkCq6",
        "colab_type": "code",
        "outputId": "ee9a8fb2-675c-4bb8-dc21-c93dc57d6905",
        "colab": {
          "base_uri": "https://localhost:8080/",
          "height": 17
        }
      },
      "source": [
        "from sklearn.linear_model import ElasticNet, Lasso,  BayesianRidge, LassoLarsIC\n",
        "from sklearn.svm import SVR\n",
        "from sklearn.ensemble import RandomForestRegressor,  GradientBoostingRegressor, ExtraTreesRegressor\n",
        "from sklearn.kernel_ridge import KernelRidge\n",
        "from sklearn.pipeline import make_pipeline\n",
        "from sklearn.preprocessing import RobustScaler\n",
        "from sklearn.base import BaseEstimator, TransformerMixin, RegressorMixin, clone\n",
        "from sklearn.model_selection import KFold, cross_val_score, train_test_split\n",
        "from sklearn.metrics import mean_squared_error"
      ],
      "execution_count": 0,
      "outputs": [
        {
          "output_type": "display_data",
          "data": {
            "text/html": [
              "<script src='https://www.gstatic.com/external_hosted/mathjax/latest/MathJax.js?config=default'></script>"
            ],
            "text/plain": [
              "<IPython.core.display.HTML object>"
            ]
          },
          "metadata": {
            "tags": []
          }
        },
        {
          "output_type": "display_data",
          "data": {
            "text/html": [
              "<script src='https://www.gstatic.com/external_hosted/mathjax/latest/MathJax.js?config=default'></script>"
            ],
            "text/plain": [
              "<IPython.core.display.HTML object>"
            ]
          },
          "metadata": {
            "tags": []
          }
        }
      ]
    },
    {
      "cell_type": "markdown",
      "metadata": {
        "id": "EXyvfLan4ODW",
        "colab_type": "text"
      },
      "source": [
        "Creating a Class Called SklearnModelWithName"
      ]
    },
    {
      "cell_type": "code",
      "metadata": {
        "id": "LYQPPV8okVGY",
        "colab_type": "code",
        "outputId": "ae3243c6-c590-4713-f340-c614cdce9d55",
        "colab": {
          "base_uri": "https://localhost:8080/",
          "height": 17
        }
      },
      "source": [
        "class SklearnModelWithName:\n",
        "    def __init__(self,model_name,model_definition):\n",
        "        self.model_name = model_name\n",
        "        self.model_definition = model_definition"
      ],
      "execution_count": 0,
      "outputs": [
        {
          "output_type": "display_data",
          "data": {
            "text/html": [
              "<script src='https://www.gstatic.com/external_hosted/mathjax/latest/MathJax.js?config=default'></script>"
            ],
            "text/plain": [
              "<IPython.core.display.HTML object>"
            ]
          },
          "metadata": {
            "tags": []
          }
        },
        {
          "output_type": "display_data",
          "data": {
            "text/html": [
              "<script src='https://www.gstatic.com/external_hosted/mathjax/latest/MathJax.js?config=default'></script>"
            ],
            "text/plain": [
              "<IPython.core.display.HTML object>"
            ]
          },
          "metadata": {
            "tags": []
          }
        }
      ]
    },
    {
      "cell_type": "code",
      "metadata": {
        "id": "UWly_puMkXbi",
        "colab_type": "code",
        "colab": {}
      },
      "source": [
        "n_folds = 3\n",
        "\n",
        "def rmsle_cv(model):\n",
        "    kf = KFold(\n",
        "        n_folds, \n",
        "        shuffle=True, \n",
        "        random_state=42).get_n_splits(x_train.values)\n",
        "    rmse= np.sqrt(\n",
        "        -cross_val_score(\n",
        "            model, \n",
        "            x_train.values, \n",
        "            y_train.values, \n",
        "            scoring=\"neg_mean_squared_error\", \n",
        "            cv = kf))\n",
        "    return(rmse)\n",
        "\n",
        "def log_result(model_name,model_score,print_result=True):\n",
        "    if print_result:\n",
        "        print(\"{:s}: {:.4f} ({:.4f})\\n\".format(model_name,model_score.mean(), model_score.std()))\n",
        "    model_score_mean_name = f\"{model_name}_loss_score\"\n",
        "    model_score_std_name = f\"{model_name}_std\"\n",
        "    mlflow.log_metric(\n",
        "        model_score_mean_name,\n",
        "        model_score.mean())\n",
        "#   mlflow.log_metric(model_score_std_name,model_score.std())\n",
        "\n",
        "def run_experiment(models,descriptions):\n",
        "    mlflow.start_run(run_name=\"HDB Price Prediction\")\n",
        "    for i,o in enumerate(descriptions):\n",
        "        mlflow.log_param(f\"Description {i}\",o)\n",
        "    mlflow.log_param(\"Train data size\", len(x_train))\n",
        "    for model in models:\n",
        "        score = rmsle_cv(model.model_definition)\n",
        "        log_result(model.model_name,score)\n",
        "    mlflow.end_run()"
      ],
      "execution_count": 0,
      "outputs": []
    },
    {
      "cell_type": "markdown",
      "metadata": {
        "id": "vGEZdt5m5e6-",
        "colab_type": "text"
      },
      "source": [
        "#### ElasticNet\n",
        "https://scikit-learn.org/stable/modules/linear_model.html#elastic-net\n",
        "\n",
        "\n",
        "\n"
      ]
    },
    {
      "cell_type": "markdown",
      "metadata": {
        "id": "ffaL4lkc9stG",
        "colab_type": "text"
      },
      "source": [
        "- ElasticNet is a linear regression model trained with both l1 and l2 -norm regularization of the coefficients. \n",
        "  - This combination allows for learning a sparse model where few of the weights are non-zero like Lasso, while still maintaining the regularization properties of Ridge. \n",
        "  - We control the convex combination of l1 and l2 using the l1_ratio parameter.\n",
        "\n",
        "- Elastic-net is useful when there are multiple features which are correlated with one another. \n",
        "  - Lasso is likely to pick one of these at random, while elastic-net is likely to pick both.\n",
        "\n",
        "- A practical advantage of trading-off between Lasso and Ridge is that it allows Elastic-Net to inherit some of Ridge’s stability under rotation.\n",
        "\n",
        "- The objective function to minimize is in this case"
      ]
    },
    {
      "cell_type": "markdown",
      "metadata": {
        "id": "MJhsrzUV9Wn5",
        "colab_type": "text"
      },
      "source": [
        "![image.png](data:image/png;base64,iVBORw0KGgoAAAANSUhEUgAAA5YAAAKCCAYAAACqO0ZHAAAgAElEQVR4AeydB5gcxbW2uf+9vtH32iRjggkmGuOMbRwJJhgTbQzYBIPBYAQYTM5IQgkhCSEhoSxAGQkhCaGcc1zlnMOKlVbSJuXE+Z+v4LRqantmenZiT3/1PLvd011d4a3qrv66qk4dI3QkQAIkQAIkQAIkQAIkQAIkQAIkkAaBY9K4lpeSAAmQAAmQAAmQAAmQAAmQAAmQgFBYshKQAAmQAAmQAAmQAAmQAAmQAAmkRYDCMi18vJgESIAESIAESIAESIAESIAESIDCknWABEiABEiABEiABEiABEiABEggLQIUlmnh48UkQAIkQAIkQAIkQAIkQAIkQAIUlqwDJEACJEACJEACJEACJEACJEACaRGgsEwLHy8mARIgARIgARIgARIgARIgARKgsGQdIAESIAESIAESIAESIAESIAESSIsAhWVa+HgxCZAACZAACZAACZAACZAACZAAhSXrAAmQAAmQAAmQAAmQAAmQAAmQQFoEKCzTwseLSYAESIAESIAESIAESIAESIAEKCxZB0iABEiABEiABEiABEiABEiABNIiQGGZFj5eTAIkQAIkQAIkQAIkQAIkQAIkQGHJOkACJEACJEACJEACJEACJEACJJAWAQrLtPDxYhIgARIgARIgARIgARIgARIgAQpL1gESIAESIAESIAESIAESIAESIIG0CFBYpoWPF5MACZAACZAACZAACZAACZAACVBYsg6QAAmQAAmQAAmQAAmQAAmQAAmkRYDCMi18vJgESIAESIAESIAESKCQCRw4cEBeeOlVueKqa2X9+g2FnNTQp62yqkquvvZ6uee+B2T79h2hzw8zkBoBCsvUeNE3CZAACZAACZAACZBASAh89tln8ujjT8hZ537LCMvq6pqQpDycyTx8+LDc98BDHu+qqupwZoSprhMBCss6YeNFJEACJEACJEACJEAChU7gnY6djMiBsFy5clWhJ7co0odey5/96nLD/Y6775WDBw8WRb6YieQEKCyTM6KPEBDo3fcDefKZ56SisjIEqWUSSYAESIAESIAEsk1gwqTJnqgcMPCjlKPbu3efNG/RSpo0eyPla6N+wYKFizz2z77wkqDnmK74CVBYFn8ZF20O8ZCaPmOmGcePL5H449yJoi1uZowESIAESIAEAhNYu26dXPT9i827wTPPvRj4Onjcv3+/DBr8sRk6i3eLiy/5RUrX0/PnBHr06u2Jy569+hBLBAhQWEagkIsli5s2b5bJU6YKHk6Nmr7uPfBVVFJYFktJMx8kQAIkQAIkUHcC+PB8w823eKImmRGZJUuXyegx46RLt+7y4sv1PUGq7xcUlnUriyNHjnjvahD5u3btqltAvCo0BCgsQ1NUTOjrb7T0Ggl92Ltb9liynpAACZAACZBAtAnMnDXbe1+AUEzmbBHqvlfgN4VlMoLxz/cfMNAri/YdOsX3yDNFQYDCsiiKMRqZaPN2e/MV8Y+332l6LD8aNERu+sOt3gMLD38Ky2jUBeaSBEiABEiABOIRqPfo4967wapVq+N5847DwAzE41/vf1DefKutjBw12ruewtLDVKcdzFPVIcnY0kpsnTCG5iIKy9AUFRPqR+C5F1+OefhTWPpR4jESIAESIAESiAYBTJvRXkcIxbo6tWpKYVlXgkevQ8eAlknbdu8cPcG9oiNAYVl0RRqtDFFYRqu8mVsSIAESIAESSEQAVlxVxMAAT10dhWVdydW+bvWatV6ZXHv9zbU98EjREKCwLJqijGZGKCyjWe7MNQmQAAmQAAm4BPbtOzrsEuISlmHr6igs60qu9nUw4qPDYVEuyYwp1Q6BR8JCgMIyLCXFdPoSoLD0xcKDJEACJEACJBAaAtXVNbJm7VopLd0ihw8frnO6581f4PWMQciks3YihWXtYkDZYMoRBHtlVVVtDwmO3PfAQ17ZDB02PIFPngozAQrLMJce0y4UlqwEJEACJEACJBA+AjDqgnUOr7jqWk9w6BDWP991j8wtKUk5U/a6iQ/WeyTl6+0LKCyP0tiwYaPUb9jYGDjSMsIWc1gXL1l61GOCvXc6dvLKGe9udMVJgMKyOMs1MrmisIxMUTOjJEACJEACRUIAAtAeGgmRgrl37rHmLd+sleONGzfJ9BkzZc+ePbXOPfnMc5546di5a63zqRygsBTTewyOtpjE0iyuRf7xEyYmRYsy03DAlq44CVBYFme5RiZXFJaRKWpmlARIgARIIOQEMJTy5VcbeAIDQqNDpy5SXr7d5OzgwYNir3uI8wMGfhSTayw5huMzZs6KOY4fl15xtRf2sOEja51P5UDUhSXKyhbqEP5Lli7zEPbrP8BjjfIoKyvzzvntoNcT/vQvnWHKfuHzWGEQoLAsjHJgKupIwBWW6UzUr2MSeBkJkAAJkAAJkEASAhAqf/v7w56wgMD4eOgnvlfZ/tCLuX//fuNPxQmOwVCP7SBUVLRgO3nKVPt0yvtRF5bPPPeixxOi0l1/Evxt3n69yzb0nTt3xvjHvFq64iNAYVl8ZRqpHFFYRqq4mVkSIAESIIGQEujUpVuMsHB7Iu1s2cMmIV7U2Mvb7TuYMDDfz3UQKrbQmb9goeslpd9RFpYjR42OYQlB7+cwLFaZX33t9X5evGMHDhzw/OKajZs2eee4UzwEKCyLpywjmRMKy0gWOzNNAiRAAiQQIgKrVq+JERUQJFiCIp7bVl4e4//pZ18w8/10qOuChYtqXbp127aYa2BlNh1nC0v0kEbFwajSxZf8wmOZqCfSnWuZbHirilBsFy5aHBWkkconhWWkirv4MusKy3QbkuIjxByRQPgJwKw9XhoTvYiGP5fMAQkULwFYaLVFRbwhsDYB25DPbX++SwYN/tiEASuyfm5zaWlMHHhmpOOyJSwhqJ54+tms/LV7p2M6WTbXoifZLqstWz6NG6btD/volUzkbME6YdLkRF55LqQEKCxDWnBM9ucEXGG5ek16XyjJlQRIoDAIYD5Wl27dxX65w4vLsy+8JJirQ0cCJBAOAu4QVdzH7nw9v5zYy5DgOaCiBALTz23avDlGEKW6zqIbpv3syWSP5YAPY4WbK87S/Z3uBzh7eCv247lPPy2L4Y3ySea0xxl5HDFyVDLvPB9CAhSWISw0JvkoAVdYYrgNHQmQQLgJQFTecfe95qXl0cefEKx/hq2+cOEljy8l4S5jpj46BNA7qfcutnffe3+gzMNgjH0d9rG+ZbzhlhCrtv/S0i2B4onnKVvCEkZvMIc0G3/pvgPBsqvN8M232sbDI4OHDI3xi17lZM7uhU7XuFKyuKJ8Hr31FZWVeUFAYZkX7Iw0UwQoLDNFkuGQQOEQ0HXT3OFy48ZP8F5k8IJSU0OrgoVTakwJCfgTaNSkmXffQrQEHa6py4rYQifRqCT01Nl+l69Y4Z+ggEezJSwDRp8Xb65YnDptetx0YPSIzRuGlRI512rvvPkLEnnnuRQJoIceS/nY4h37aE+xjE+uHIVlrkgznqwQqCUsV63OSjwMlARIIHcEYF0QLyzYbt++IyZizE3Sl5nOXbvHnOMPEiCBwiNgr4WIexc9dUEcejb1Xsc2Ue+ZhqfDZeF/9py5erhO2ygKS/edavfu3b7sMJfSFjDgnayHGGHZ5bmK72u+bOtyED2UqPsok5frN5Q2b7cX+8MM2tIVK1fWJeiUr6GwTBkZLygkAu5DcOXKVYWUPKaFBEggRQJYr85++cB8JNsNHzHKO4/5OnQkQAKFTQAWXe17euPGYMtM3PfAQ951eGFOZhgGFOzhsxjhkI6LorC0hfkfbv1TXHyYimCXab1HH4/rV0+Ubd0acw3maNJlhsA99z1gRKUtHtGD37xFK485hpHnwlFY5oIy48gaAVdY2jdV1iJlwCRAAlklYBt4WLQ41iT9tOkzvIYyiLGIrCaUgZMACSQl0P29Ht49CzESb01EOyDMD7ON9+C6eHMr7evwgq2C56NBQ+xTKe9HTVhC8Cs7bCFK/BwEC+ZTql+IfojGZA4f/vUabHM5PDNZ2sJ8HsbslOsjj/0z5j4BY7sep7u2axBOFJZBKNFPwRJwhWW6cyoKNqNMGAlEiAAMSHR7933xW6vuvR69vEY00Rf1COFiVkmgoAmsXbfOu2fxAjx23PiE6cUyFPbLsL40qyVZrLMYb351w0ZNvLiaNHsjYTzJTtppgHgqducuM4I1Kv3EPIypaZlgG89Kr8vr40+GeddhmCZdZghgaLldHuvXb4gJuH7Dxt75Vxq8FnMuGz8oLLNBlWFmhQBMlsPiGXol0YsxbPhIsXs2cGNhMvnckhLjB5P83flZWUlYEQRaUjJPYFY8yNcszJeBoKcjAZdA0LqRSn1z4/jb3x/2GkkYJaDLP4GevfoYK75BloEJWkdymatU6mMhpj+XrOoaF7jpyy+Gq6pI1PAgYGDMBT0u6s8eloljWP+xvHy7t+yI3/w/iFa9HsIoqMMcNbxf4OM00tGjV28vHA0Pc7rxsQtzA/F+sWfPnqDBh8LfM8+9WCvPeM9ShzKyP+yBCzgFdbYRp3i9oUHDgr+w37eZSj/WGdU6ig8gmE5iu7fatvPO4z7MtqOwzDZhhp8xAq7Jcr2REm05BysY/g/6f2gePEFe1PHgAnM6EnAJBK0bqdQ3O44ZM2d5DSTu7WJ7sbPzGqZ9NagUxMpj0DqSy/ynUh8LMf25ZFXXuPBh2B7aCtHYrHkLYyEWHyrtj8Q4h14wDLm0Dfigl0vDwAcmP+eumYnezSDuxZfre8+WRO8U9rlc9P4ESXum/LhCXvMKwdm6zduCESJ6DPdB0J5KTZ+9PmYmlosK+32byfTjg8f7PXvJ5tJSxe1tH6z3iFduQQxgeRfWcYfCso7geFnuCaiwxAMND0D8YaiK+4fj2vhTWAYrp379B5gHTzaF5a5du2T8hImCtatmzpptvgovXrzEfIXGC+ms2XMEps3hB+sYqsOwDgyNwty6OXNLzBfjxUuWml5r9E7jmnTX7tK4uE2PgN53yUJJpb5pWDDcodZiEU+iZQf0Gm5zQ+DxJ58xz4+wCstU6mPQOp4b8uGKBSLP7rVSkaJbCEcMl7R7XDCM1h6SCr+Y3xdvKCyI2NYw0SsUxKmwRPnGe7dAOuz3C4yQKhaHea9aDtjCqmiLVq1jjuE4+KDn1q+3OBGLPXv3xoSF94F0Xdjv21ykH/ecPrNQfkGe0emWC4XlFwRHjhpthmA89PA/Ag0HTBc8ryeBQiKQiwdc/wEDYxoWuxFz97eVl3t4bCMBrj/9jfuWLv8EtAFLlpJU6puGZb/4LVm6TA9zWwAEKCwLoBBClAR8JILgGzhosMDKM4afJupZxDksHTJ02PBAhn+wnqK2DR06dg4Rmfwl1Z1fqUvCYAkRfOyF4MdHYQjEujjb6Fqjpq/XJYha16TSjgRtm2pFksUDuUh/23bvePfCY/98Kou5ORo0haWI4CVFH0K6xUKjdCQQFQJ9P+hv7oFs9ljiJQLDmPDFV+8zvy2EpN1j6Zqqd6/BV2SIVrr8EwjaeKdS35CrDp26mDqD+rNxU7ClCvJPIzopCLuwTKU+Bq3j0Sn9wsupbd0U7YPdnhReagsjRe78ylR7JJPlAsuRaNuNXuhMuLDft9lOv30fYBhyrqaOUFiK+Hb3Y+gdHQlEhUC2H3AuR9dKIBocmInft89/PszoMeO8Rgl+MWcAQ2cTfeV24+Tv7BMI+tKdSn3DPB6UOeb3YAkCdahDGGlCl38CFJb5LwOmIJYAFolXIYNeUbrEBOwPvqkYPUoc6udn7WG2WJs0Uy6VdiRo25SptAUJJ5vph4jUNV3Rduays4zCUkTcNZbwMHLXTgtSSeiHBMJKoE+/D0wjnM0eS5cNhq9qw48tviz7mTbHMbvX0rZS54bJ3/klELTxDlrfMPQKdeOOu++t9bW1cdPmpgc8FznWYWC5iCuMcWCIFcopyPydoHUklxyC1kekqRDTH48V1rDr1v09yVQPUbx4CvH4p5+Wee1LpoVSIeY3nTTB4IvdFrdq3Sad4Gpdi6GvGj6e6ZlyYb9vs5V+9NBDwIM5PsLn+gM8haWIwEQ6Hjxa8V9+tYGxRpapys9wSKDQCWTrAZco37AKp/ecbmFO3nWYI6PnBw8Z6p7m7wIiEPSlO0h9g2EnlDusP/r1ZONrLJYmyIULmq9cpKUQ46CwLMRSETN3EfcQXi6j6GxBgxEudP4E7PUlUV9gEC9TbseOnV77jWkusPSbKRekHdG4CvEZno3040P8Cy+9apij194eBo55yjB4mG1HYWkRxhcue6iVdYq7JFDUBHr3zX2PJb6iqWDUrbu21cjRYzw/WJSZrrAJBG28k9U3zKPUoVmYG4IXEvzB2iM+AurSBG+0bJ0TIFo/cxJZCCN59PEnzH0a1h7LZPXRLpKgddy+Jl/7y5avMOUSVWGJ9zl9VmCLpUjoahOo37Cx187iWVdXAz1uyBA1f73/QRM2nueZXlc87PdtNtKPZWFQhniXckeA4WNsw0ZN3GLK+G8Ky4wjZYAkED4C2XjABaFgD3HFwxCNj37R1B4rHMc6Z3SFTyDoS3ei+oaXEV2rDmWf6G/Ahx/lBIqmISeRhTASCsvCLDQ1TBhVYYlSwTBgfS5hhIP7sl2YJZfbVNkj9rBuaKZc+w6dvOd3NqaXJWpH3DxoHXCP5/N3ptOvPaCwiuw6jMxEO9azVx/3VMZ/U1hmHCkDJIHwEejVp5956ORyjiUowUiWvrTrFmtVlpWVeT1WmF+HuUJ0hU8gaOOdqL5hfTOtC8m28xcszAkUTUdOIgthJGEXlonqo1scQeu4e10+fmO9X9TdKAtLcMcwWL2He/TqnY+iKOg432rbzvDBh91MDYOdMXOWxxwG2LLhwn7fZjL948ZP8HhjZI89ygejfnQE0MRJU7JRFDFhFpSwxJfqiooK84XJXTwVFo5gWQp/9uK5Mbn54sfWbduMv1QnrCJ+jAfHF65E1+KLF4ZUYLiWvd4eosf6TFj3B4u682XYr3R4rBAJZPIBl0r+cI/oi5o2/E8+85xnzQw9V1VV1akE6esX97Per3X9Yg2ralhvDc+JYnV4dpaXb69z9rQskwWQSn1LFlYuzmvdzEVcieJAu7Nm7VrTxmSzHiJstGFoC4NYE8y2sCzbutXcv4na5UTckJ/Va9bGHYqXSn0MWscTpSdX59BLRGH5OW17HiHqNt1RArg/8OzP1DtrTU2N165nc7pCtu/bsDx38JzWNirZNhd1P6/CEkPedL6MPqwVCtQ3Knu3d9+vNSwKfl9/o6Vs2fKpd2fgpREGBFSVazh4McXXEh1e510gYqwMIn5Yo3Tjd42INHitsUmH669Z8xYmSKT3z3fdU6tw8dUgyLwTO13cJ4FcE+jVu6+pu7nusUQ+YSxL71d7i3sNH5LScRCRXbu/G3N/wxptPLGKHlR83cfkd7uRtZc7yeRQoXTylslrkW88B5U/LMqtXLnKNwowhSVtcMDz2Xb6fLSP+e2nUt/8rs/1MeWS63gRH8QUeln8hgejzcmkMQbcb5hv5bajmCeF3q94DkMMwShIWxe0jiAuiGjUM+WPa8eMHe+bDHx8hrEW+Ld7XQ4dOmTm5moYMGDhulTqYyrpd+PJ9W+8xyDfUe+xVO4YDYNnl9shoOe5zQwB3HN4ZsFAXzZdtu7bsD13/EZ+6fPO3drvNdkqm7wKSwhHN9P6G+sOqaU5HENXrj7Q1Q8mY6PRxeLoegwNoq7dosew7dSlWy2G+BJr+7H3XWHpJxrhH8LyvR69vHDQ+OtkcTu8kpJ5teLnARIoFALZekAHyd+06TO8+8e+Z/xeAIOEZ/vBByEN035ZxmLQrrPN0+MaHWaJj1LuSz2+7haLw9AYP0bIs5/Dci/qH1vb6TPaPua3n0p987s+18c0v7mOFy9nylTTgPbNPda85Zu1kobFsafPmFlrmZZaHkXMR1x8VNI4sEWba8+9wrHxEyb6XW6s8+J8JoUlXu7sfNr7fh+cbAMkEMLq7J4qpBH+XJdKfdR0uGEU4u8FCxeZMqWwLMTSYZrSJZCN+5bPnXRLRSSvwhIvbAMGfiRo0NwXNzQA+Kv36OOeJS8IUZ2cquf1Ojzs0WuoDtanrr72+piG0s8iFV6S2rZ7J6YBQ9iusMQXgfd79jKLuGvc9hZxoUKq00nz6gfn6UigUAlgQjfqaj56LHFf68ua3i/oVUzXQRhqeOjBwFA4/Y343FEMeBbpeWwxzxMOw9vd9OF5UAwOX+41b1jWxS0Lvxd42+CS+1zTsJKxSaW+JQsrF+e1XuQiLsSBcnB78jt06uINU8ZXZ/uDKtKH+ms7zLPBccx1SuQQF4afax4hXNF+qevXf4B3Dn70vtDz2Gajx1KtSeIdAEPrHn/yGS8dWFjcdfaHI7BTh151zRu2EMyuS6U+Bq3jbhz5+E1hmQ/qjDNXBLJx3/K5k37p5VVY2sm3XwK1EYDRDjR6tsNvFZPqD1u/xvPjoZ/ENCjoBY3n3K+arrDU62CGWRsWjR+//USr+2JQTL0cyoPb4iCQjQd0KmSefeGlmHsV91S6QzYgTnGPwjABnNvThqFztrNfrjEs1HYY8aD3O7b2UDvbX9j2W7RqbfKFIfsY4opnlJ1PdzFr+LFf4F9p8FpMlvXZGHPQ50cq9c3n8pwfUia5iBhtHNbu1DixRVvm52x/YK/2B/BBANfhmN8aoHZY6L3XuCAq3WHiuF7PY+vXO5ppYakfZpF+2F2As9t91FvbYd6QnUZ7vVvMS7Xr7B9u/ZN9qdlPpT4GreO1IsnDAQrLPEBnlDkjkOn7ls+dzBRdwQhLNYVrNw72HEo7u1j00/Znf520/WHire2vzdvt7dMx+3hRtP3GE5a4yO0JhSj1c0OHDY8JE8OS6EigEAlgyB3qf5AeS71PMpUP9CTqy5qGjW06vYKrVq327j2dT6MGRhA2XjRt5womzLG0nftBy+7Rsf2FaR8iRLmPHDXaJB2jMuwycHssMSrDPu8++/RcMg6p1LdkYeXifNB8ZSIt7kcMtyfSjgNtiqYNW7Q5cDA3j99+wz7t61Hu9vVueatf9PKpP7eXGn7Qq4jzQYbCajgatt9Wp8Hommv2/YzrXSZu7y0M6NnO/nDsNxoilfoYJP123Pncp7DMJ33GnW0Cmb5v+dzJTIkVjLDEQrb6wMYWczviOTQ2tt945nPRi2j7e/OttvGCNHNRbL+JhKU7hzPeortuo10svRxxIfJEaAlk+gEdFASsMNtGY+x7ED2IdXXoVUFY99z3gAnCXcJCjW5p+K5gsns81A8Mg2j63N5O9ROmrT3hX3u1bAGB55zr3GGRmJdqO+VjH/PbT6W++V2f62NB85VuulatXuPVMcSJ8nCHbNtx4KOJpg1bDFPGRxCd5w9hEc/BPoHdk+fXE6nXunMt8SHGdpkUlmhPNU8qVHU5BD2OD9G2s4fJuqMN4M9+v/B7D0ilPmoa7PgLdZ/CslBLhunKBIFM3rd87mSiRD4Po2CEJYbf6AMbWxjdiOfsFzz49RuGimvdXtBWrdvEC9IMpbXjDyosMTwnnrMtSSJsd1hZvOt4nARyTSCTD+igaYeY0XlgeBm0exT1Xqzr8gKwlIk8ac8ihKKGia0e17S6gslvtASeH7jWb46WhhNv+9GgIfLE089m5W/k6DHxok14fNPmzWbeuM5Nd4cTovfSdfYLPMSL65Sxe9z9nUp9c6/NxG8sTJ1KeWi+UrnG7+NEsrTDyIrGhW28IbB2ONrrDP8Y0gwr6NhP1DbhendOsV+d13jsNGEf845tp8POVQja59x9Dcs9rr8RNuoH7ClAVEPE2h+fXEM07miDF1+ur0F5W0xh0Xj9DBClUh81HC/wHO6AR6MmzQLXXXxY0/SmUncTWQDOYXYZFQkkJJDJ+5bPnYSoUzpZMMLS/lqAB6Hbo2DnqkmzN7yHJfy6c0LUr2v1NVPCMtlXfY1/7LjxMelMR1hq48Dt50adyCE1Dlon420z+YCOF4d9HC9ItkjB0ha65ppdtpkyV64T8hG23ws3Xro0Xr8eD6RdX9Lw/EnV2fM3NZ5MbbE0SCbcOx07eQyQNh1CrGEHeYHXPOk18bap1Ld4YaRz3J6bqGnO9BYfTVJxbhuI9MRr2+xw7bmHqLvaC5lsUXK7HUv0scS1luwOI0daMiks7bxhH2LVLhvMlbadu4abnxi3w0DvpetSqY+aFjeMXPzGMg72hwRNS6a3Oi+9rnnKdHoYXmrtfbHwSlb/snnf2s8M8IzycydZObjnC0ZYwuqbfTM0b9HKTav3G2tY2n5xrZ9ze0GzISwTNcj4Mmqnk8Iymg9Huw7ka9/v/rCP6QPab1ke2x/2NQ/u8VR+t27ztheO3hcQLjqET+OAUZB0nfscgBVo2wURTPiaqWny6/Gww/Pbh0jDfLhs/GXKKJg9xB+G01znDhd251fCvzJyr3V/p1LfcC0+EiKfiYaFunEk+g3LpqmUheYrlWvcYcKJ0oNzrrG5oOul2uWm6cTyWKjX8Rzyr36x9Rseqte6vf3oFXVdNoWlDmvX9LrD0N35lX49r7qUSrz2OpX6qOlwGST6jfq7e/fuRF4Cn1u+YkXgutu+w+cfi2CwKJW6m25alRG3fOdJpw4kuymyed+G/bmD9tLvI1oyppk4X7jC0mddLs0wRKddWTF/ys+5X4BdS3L2NbAqa4eZaCis/aU30VxQew4TwtYXaDte7pNAIRDI5gPazd/AQYO9ew3rUNnOnUuF+ybehyP7ukT7rjVYdxisOwTUr6dn1uw5XprTTU+itObrnGvoDPXBde5wYT/hpM9Q91r3d5D6hrmCXbp1jxkGifBhQdidY+eGn+nfQfOVTrwY4qjxYNvunY6BgtPh5Pa1MIiVyLliMdH8f9diMwwDuS6bwtLukXWHwSId9miAeKMNdLbtWS0AACAASURBVB3qeB+Xg9RHzbNy1t+JthiCm4rlykRh1eUc51jWhRqvCQuBbN23yH8Ynzv4gAVjpvaoBuzjw1q6VvZTqRMFIyxdEfhGy1hz4namXGEZ7+uaG2a8RgVhU1jahLkfNQLZfEDbLO37DC/SrnOtP+Ilzk/oudcl+m3PycZDFoLFdpj/qC+L2PpZxsTzCOeC9iLZ4Ydh37WKjV4R19lDl/3mV8K/cnSvdX8nq28oI/SaIjzMvcUwXXsOLsoxU8Ok3bT5/Q6aL79rgx6zBRLiQw9TEIc6qenDNlHvo4b33Isvx1wTrw1FT739koLwXYurCDNbwhJLjdh585v3q0N/4Q9Lp7jOHrFQUjLPPW1+J6uP9kWaHvuYvY8PyPhABguTNrsgFrftcDKxT2GZCYoMo1AJZPK+tfMYxucOeijxLMQzBytnYBUM+6MjrHmvWLnSzmbW9gtGWNoPfzy4E1moc4UleyyzVj8YcEQIZOsBbePDXCh90cKcR1fgqV93OR/4TcdhDqK+DGJunevsYblIn+swpFCNh6DXrhidlr9ycsvGHS6MhsvP6fV+5+xjGl+8odc6dNGdLwdDQxoHyipXvccap52HTO/DoqvGg+3GjZsCRWHXbzCBGEzmbDHmt66jXg/xbqcJ1l/9XLaEpQojTQPmYdsOxr30HLZ+96caM0Ke3XqtYSWrj+oPW43PPmbv6wcY9HjoxxFcQ2FpU+I+CaRPIJP3rZ2aMD53YAMCz39bPGLqiK2XMHIjF65ghKVraAcw4jkbFB7Y6Jn0c65YTTQUFl+HtcHANtFQWHtOS7w5G0iPO8cy3rIofmnnMRLIJYFsPaA1D+Xl2735k3jhSiQIOnTqEnMv4n6MZ/lZw0+01WFwCAc9Na7D0BG99/2GttvPhngfsdwww/bb7tVF+bjOnV/pGjJQ/8pRf8fbJqtv+nEBW7fsbUNLnbt2jxdFRo8HzVc6kXZ/r4dXDxGfX8+5Gz7m0NhDtnBdormVuB6CVfODbby2Fi8lmE+pfvHSgiHTfi5bwnLmrNle/EgHLBnbzp0r6tfG6ld7d261HU6y+mj7VR72MXsfzzYMgYXDS576p7C0KXGfBNInkMn71k5N2J479goYsEthtwEYAqsfxvEsmr9goZ3VrOwXjLC0wSDziSwvulZhIUr9XC2xmmDe5rTpM7wGAPEnEpb60gN/fmu9aVpcq7DpLPiuYXJLAtkgkK0HNNKKem/3kCTricELNe4t+w/pq6uzhxi69ysErx0PXp7tXg08oFWYJltsvq7pK4TrMGxGObjz1MBAe2HUTzyDQXo+WZ4S1bf9+/d7aUF4Az78KCa44SOO9qLFG5Ibc0EGfgTNVzpRudZN0X4kcriv7BcGTSM+qMKhN8/vA467zAg+ptgvIhqnayU40ZD0bAlLd/6zy0SHqGve3Tnb9tB7iNB4LlF9dK/RuNzjfr8pLP2o8BgJZIZAtu7bsD137I/feD4h/bbDu4s+t15p8Jp9Kiv7eRWWaMxgZADGNLp2f9fLOACgJ3DO3BLBnCsobghPPKTRULhfaLu9+74sW77ChIUwscj04sVLjPEDhYktvlxijgXCwRhqNLwIHyIS62bafvEVF2FiAXe4zaWl5jqsTYmXT/WL/TFjx5tzaNA1THwVwJcD9YctChdd7IgT/uhIoFAIZPIBjXsVc/bwYmov86H3AtZd9Kv/EHSY2+f23OA6CAiMAMCzYuOmYEMEle17PXrF3IdqdAbx2b1fmj7byJYOycR9jnwVq7PFGjgoI+S3Q8fOMfz8ejSVizLU3/G2yeqbbR3YHf5ofwTEB4tcuKD5Sjct7kcQFYkaLto3mMG32xb7ow3SifYMH0z0uDt/EvMQNT+6tXugEYd7z6C8ErlsCUt3jidGF6jDs0LTr1u08Wo5GL2rWo/8DA5pONgmq4+2X43LPhZvn8IyHhkeJ4H0CWTrvg3bcweWsPW5hHcVfJy1nW0UEW1Mtl1ehSVe7BRGoi1EJ4axJPKj59yv3Xrc3eKl1x1H7frBb/ROwmmvhZ8fPYa5Lm4Xup5zt1jAnY4ECoVAph7QeCnVF1q3ztu//dZJc62O2v7dfXdIXCKOGJZmpwm9PJhXqetSumHjNx6+9mL1I0eNThRF6M/h452+hCP/4IVlnVzDMDjXsFGTuPlVlnE9fHEiWX1D7xI+GOIZ7Tpb9CSaH+hel87voPlKJw5ci2kd9odTlAPWdIaFWAzjdssIvYgQUnY5QVxpGH5ziu17QfOFLQQn7gsw1eN4SUnUU6n5zZawRPgw2KPpwRZGcdx50fZ55B1DuzWf+EiN9R8TuWT10b5W47KPxdunsIxHhsdJIH0C2bpvkbKwPXfQViLN6ARznf0uE8S4m3t9qr8LQlii8UIjgBc++08bBqzFhJcMPNDj+UMYOK9iNVmYKAAVln5+EQ+O69d5FZbx4kfcmKiPnlLsJwoT590lD1ItOPongUwSyNQDGj2Reu/gHrD/UO/1z+4h0XxgvpzeO/Z19r6ex32eikMPnG1IQ9OBsDHiACMT9OVYz2GLvKCHNQoODRKGRdr599tPxEP9J+OVSn1zw4JY0nhyNW9N43PTko3fuIfcpUc0fmwhHLGGqP1VGsNo3WGxmB/pDoV1h5ljCDRsD9jhYx/3Be5Ht7czXn713kFvajKncSXzZ59HfUGa9Frd4oUJH45g2Rn3qh7XLT4QBRlpkEp91LDt9MXbp7CMR4bHSSB9Atm6bzVlYX3uaPqxRXtiPzuDPKPt6+uyn1dhWZcE85rEBPAigaF8eOGClUG8oEBEY2hiqi/jiWPi2WIikO0HdKGwwvA4GPiAsMVLH3pYbYchJbA8irU2MeSyWI312Hl29zE/A0P+8Qceusi6vlAnelFXP26Y7u9U6pt9rT1nDr13e/bssU9nbT9ovjKZAAzHwtQN1EUMVcbQT78h5Bonzs2eM1eGDhse1/CPO79SlzTBEiIYag7BivZDjc9o2Mm22RaWiB/tF16K8GED80tdo304j+kzsCSM+xtTToK6VOpjKnXBFpYwSpZrpx/P/db/zHVaohwf38uyU/rZum/t1IbxuWOn3x7tidEeuXAUlrmgnKM48EJhf5nQBlC3+KLdf8DAHKWG0YSJQC4e0GHiEaW0zpo9R7DGb59+H3jz0zT/GEJo9wQla5j0WaPXx9umUt80DAgtNZyG5xzm5+fKBc1XrtJT13jc+ZVBeySTxZcLYZksDemcT6U+plIXYoRlx87pJLFO11JY1glbRi/ie1lGccYElq37NiaSLP7IdvptC+CYEpCrD7EUllmsNLkM+oWXXvWGAeFFEIuJw3CKn9B88eX6Seec5DLtjCv/BLL9gMt/DpkCPwLoAdIXZWzdYa7owbLPY9mRRE79JvKDc6nUNw0Lzy2Ej2darqcSYEqEzrfX9IRxa38k8Ftap655orD0J5dvYYkXS9wvmHNKl3sCfC/LLvNU2pGgbVN2UxwbejbTDxGpSyNi3ny81TNiU5SZXxSWmeGY11Aw9EdvGhi2sIf3YR7Osy+85J1Xf5hbQ0cCSiCbDziNg9vCI9C4afOYZ8MH/T/0EgnLovaHKQi7ZE6fL8n8pVLfEJaubQqBl6pV4GRpCXIevaX4C7PDHFotH2zRS50pR2HpT9IWljAYmA+HXmn7nSAfaYhinHwvy36pp9KO6LMv+6kKHkO20o/huzAmijxjGHyiKRTBUxvcJ4VlcFYF6RNzYfTlD2vNoUL5OVgU1BtLt8l6H/zC4bHiJJCtB1xx0iqeXNkGjfAc0XlreBlVg2V4XsCfbSwmHgF9tsQ7r8dTqW+wSopw8dW1orJSgxAYrCl2a71eZjOw4/Y+Y959phyFpT9JW1hirjJdNAjwvSw35ZxKOxK0bcpNyj+PJRvpx0ck7Sl/uX7DGE2AOfi5WJGCwjKXtSgLcaGS6A2DLb5SYOkA19nr3Kh/vyUf3Ov4OxoEsvGAiwa5cOdSLfHimYBRDBhiCgGicxlxHIIu6Fw8fbYkoxK0vsGQDMKEsHXnh6C3Va12J4uP58Wso6zlg22qBnoSMaSw9KdjC0ssGUMXDQJ8L8tNOQdtR5AaffblJmXBYslG+nUppuYtWtUaqYChsYmWCwuW6uS+KCyTMypoH926v+fdMHrjwHKin3MXqy+GOUN++eSx1Alk4wGXeip4Ra4JYIhMoiVGur/XI6X52PoMSpaPIPVNl27C8iL79u2rFSQayUce+2et4zzgT8AuZ6x7mUlHYelP0xaWb7fv4O+JR4uOAN/LclOkQdoRTUnQtkn952Kb6fTDAB/y6fesgTV3nOvZq0/Ws0ZhmXXE2Y3ANiWsN86IkaN8I/VbG83XIw9GjkCmH3CRAxjiDGP4POZWwmLoPfc9YAx9YPgp5lim6vQZlOy6ZPUN8yjV0Ays2WFNRvxhDUcIJCw1grjeaNk6WVQ8/wUBjFABM3DN5DBYBE9h6V/NKCz9uRT7Ub6X5aaEk7UjdiqCtk32Ndnez2T6sUya5hHtpN1mog3V9hTLrWXbUVhmm3CWw3etOqJiuUPGNAmuoQ74TeTwwokFteOFh2vR44G5mon8JIqD5wqDgD7gMDQymdOHVzJ/PB89AkHrRqL6hucOhrhqWIm2Az78KHqQ65hjcN26bZvvVIk6BuldVu/Rx015zV+w0DsWb0fLM975fBxPVB/d9CRLP0T7m2+1lWbNW5hh5OofL3b4uIuhalhbmq54CWTzvax4qaWes0zet6nHnv4VmUo/7A3ocybZFutUZ9tFRlhuKy+PMfyQDCwa4LA4LBaN3gY0ZInWdsMXDLvS4StGPIcHo37hwDUw5IHKC4e5OS1atRZc74anfuKFy+OFSQCGWcaOGx/IehgWas/1cg+FSY2pcgkErRuJ6tuuXbtiniv2M8bdDyJk3DTyd+YJoL2EoApifTRoHcl8KuOHmKg+ulclSz9EJeopjGHhD+0o/vQ3zmVyqRc3ffxdGASy8V5WGDkrnFRk8r7NR64ylX7UNbdtjPfbzwZLpvNe9MISPWovv9rAg+4arKmoqDAGbyDMtFHUIaNYpqNYHL5WuxUNlmL9HF4S0AjCvy0u0YswZ25JTG8ChqTZhj5wDUWHH1UeIwESIAESIAESIIHPCaTyXkZmJBAWAkUvLNHTBnE0YOBHnrCCmFTXtfu73nHc5FDztgDDsWJwo8eMi8kX8rhq1WrfrDVp9obxi3HayL8tLpUNeivRw6V87GUL0JtJRwIkQAIkQAIkQAIk4E8glfcy/xB4lAQKj0BRC8tZs+cYgTR+wkRZuXKVJ6wWLFzklYRaSoUAVYe1X1RAqXDSc2Hcotf2Z7+63MsT8oZeXD8H64vaW4nJwOjF1d/KBL2UVVXVMZfDlLqeTzTENuYi/iABEiABEiABEiCBiBFI5b0sYmiY3ZATKGphCTP16G2DOIT5XRU+mMMDZ/dO2uZ5YQ0RfnFtMTisT6d5xxbr0mFst5+zx2ofOHDAGO+xr8W+X08n1sxRf1xb7vM142ApEfNawYO9uH61jcdIgARIgARIIHoEUnkvix4d5jjMBIpaWGItoVFjxpryUfP0jz/5jFdetuUu9G6qO3LkiBFJsHQXdgdDAyr4sIXI2b59R9xsvf5GS+Mfohxu4KDBMdd/NGiI77W2YaBHH3/C10+UDrrDh+s3bByl7DOvJEACJEACJEACPgRSfS/zCYKHSKBgCRS1sFTqi5cs9cQRhsWq69i5q3fcXoB71eo15jhMAYfZYUFUewgshqjiWCI3t6TEmEIHMzgYMFJhiiGxhw4dqnU5hnSoH2zxJY5OjBVd5UJhyRpBAiRAAiRAAtEmUJf3smgTY+7DRiASwtIecmALSL/5lSjAXr37GqGE9RnD6iD2MORVhc19DzxUp7UmbWH65DPP+eKYMXOWFw/iy/Ti276RhuSg8qOwDEmBMZkkQAIkQAIkkAUCmXovy0LSGCQJZIxAJIQlhnVC8EBIqtPhrjjuLkECfxAEYXWYU/pgvUc8sQdjRHUxQrRp82YvDHCCZV0/p8uzwA/+4s3f9Lu22I9RWBZ7CTN/JEACJEACJJCYQKbeyxLHwrMkkH8CkRCWmFcIwdOqdRuPeEVlpSeaYPJZHdZwhN/Wbd7WQ6HawopronU7kRmI6g6dukijpq8nzNugwR97jMBkw4aNtfzjYWnPJ3zksX/W8hPlAzq3lz2WUa4FzDsJkAAJkEBUCWTyvSyqDJnv8BCIhLCEdU4II3sop72upd0TBwEAv5tLS8NTilZK7WG/WKPTzyFvyGOyXtnnXnzZE5bxLOTOmVvi+UGYI0aOMlHCsi6WdamsqopJwoqVK2XylKkCw0l79u41nNeuWxfjBz8gfj/9tEwwzBbzPYP0gmKYSVlZmdjDnbFfWrrFt8cWVoHLtm6tFbd7AOIZ8yJqamq8UziGjxC7d+/2jvntBBGWSHdJyTyZOWu2gFsiByYYajx7zlzjF/HjWjoSIAESIAESIIHCI5DJ97LCyx1TRAKxBCIhLGHJFKIHxmdgJXb+goUxazPCqA0Ej1pADavxmb4f9PdEXp9+H8SWtPULDMAD8y4TOR3GCb+2KLevcYfBQizCYV1QXNepSzfzG3Hacz5xTv9efLm+HaS4PaXq7+5776/VawrranaPKfxCaCH/f7z9Ti8O+FGhvXrNWkFYGi7y2eC1xkaA2glBHuw1PDG8GB8hrr3+Zu9ahIHjfr25CCuRsIQhpM5du8fEgfDQw26vtYpwlixdJrC2q2nWLdKX7AOBnSfukwAJkAAJkAAJ5IZApt/LcpNqxkICdScQCWGJHiF7HUu8lF997fUyfcbMWiIB8xHRkxU2B2u3KjYGDxkaN/lggSVX4Ldx0+Zx/W3Z8qkXHvwO+LD2/Er02tnC64mnnzXhaY8orlu2fIVo2u64+16BqIOggvVZDJuFH1tYojcTx/DXvOWbxi96RXGtHt+4aZOXbgg6CGQ7HSpgYYQJPZ4oU71WhTAYTJs+w3xM0Gtv+sOtXrjYgdjUYdR6Pbboyf34k2GCBsMWteiFdV08YQl2j/3zKZMuCEP0VlZUVHhMEM/ixUtMcOhVxW/EBRbovYVhqTffautd78bL3yRAAiRAAiRAAvkjoO8+aL8z8V6Wv5wwZhIITiASwlJxVFVVmyGYGzceFSYY+75q1WojQMI6/HXhosWecMIDDELJ/cNx969Xn36KptYWwsn2v379hlp+XOM+48ZPMH5gDAnXqrGkZ5570fxGmLaDQEI6bWEJAavx2scx7FQFoN86mViHVK/DFsJVHYSsLQDd3tcOHTt712LYrO0gAO2e2wmTJtunxV6PCnG4Q2PjCcv3evTy4oTYVof4tKcVYhpOh21j7qzrYJiKPZYuFf4mARIgARIggfwRyMZ7Wf5yw5hJIDiBSAnL4FjC4xMiWQWXLayC7KN3MJ6zDQBBMPk5zAe046murhFdAxTH0QsHp8NOIYAgxGz3wkuvxqx7CfEP4Vjv0cfNOpC2X+1p9UsPei41LX4GhO657wHvvDuv0v6q6DdfUXtAb/vzXXZyvH2dl4v40YtpOz9heeDAAU/o+oX5TsdOXloxtNgWviNHj4mZL/pB/w89AW/Hy30SIAESIAESIIHcE8jWe1nuc8IYSSB1AhSWqTMrqCswXFQFVarbePMCkUF7COizL7wUN8/2fEN7DqDdq9ijV++YNEJgPv3sC2YYKkRWIgfDPhMnTTGCDUNVkUcIadfhQa75R2+g63TNUr/ePfRC6rUYauo67UH0E4HwC0M6ej3mW9rOT1javZwQrUiv/adDZBHmypWrzPxKDR9b5B8Gqbp06y47duy0o+M+CZAACZAACZBAHglk670sj1li1CQQmACFZWBUhenx9TdaeqLGFh9B9jHsMp7DHFQNw09s6XWYw2gPM8U1GMJqz1NFr5vdY6jhYguxiPmctoNYwnIvKsps/9j3FZabjgpLt9cQYWMeJq6FYHadPa/TL6/JhCUstWoawc12mgd7uZGRo0Z7/sEODOL9YS4lHJbK0TjsLVhoz7AdL/dJgARIgARIgARyTyBb72W5zwljJIHUCVBYps4sEldg/iSs6fotBeIC2LVrl2B+5dBhw41RGfc8fkPE9us/wFdg6lxC+ENvHsSSiicYqIGFVPRsYtgsjvsJS3u+J4aHug5zEXGtK/zgD8t3aHx+whI9lTgfr8fS7i2FkLSdn7BUq7wIs1nzFrb3hPtIJ3qCXSEPHvZSKAkD4UkSIAESIAESIAESIAESyAIBCsssQGWQsQS6vfu+WUJEj0JkYvkMFXsQWFjuBYaU7CG4w0d8viamXgejO/CrwhLXaM8oLMXiHP76Dxiol3hbjSsbwtLu8XSXcPETlvY8VLWk6yXUZwdDgd9o2TrmDIwM4ZjmGRZw6UiABEiABEiABEiABEggXwQoLPNFPkLxokcSvWzu0FuIQsx5hDjCUh2wPKtCyc8Ajy5PAmGJsOBXxadtvAc9o65LJCxtYYj5kq5L1mNpG+9x49b8vdLgNS9YpB1rpyL9mhfv5Bc7ZWVlZngsRGi7dzoav7Be7DoIU4Sj64W65/mbBEiABEiABEiABEiABHJBgMIyF5QjHsef77rHiJ9hw0fGkMAQWhWS2LeFJeYc2g6iSv1iu2/fPvN7xMjPezXta/v0+8C+1OwnmmOJHkENG8uWuE6FJfxgXU7b2YZ40DuJdUJtp8LSXSpk0eKjS8Q0avq6fYnZh2DU8HQNVnuepl6gbJEHOhIgARIgARIgARIgARLIFwEKy3yRj1C8Kn4gzDBMFcZuIKx0ziTWuYQ7cuSImceoIq/N2+3NHE8sLGwbE8J57YGcNm2GYB6mCkecg18ME0UcWKuzYaMmnnDE+ZfrNxRYqsVwXPjT3kOcQ+8qjsEaqzpbWKLnFetKwuAQ5jzqfEeIQHspFYhBd8kWzKf8eOgnGqyoYES8EJIQyUhT8xatTHrnL1ho/Nr+EAbmveKv+3s9jD/kF8KcjgRIgARIgARIgARIgATyRYDCMl/kIxQvhCXmTmJtSogo/cMwUAwRtYfI7ty5U3S9SvWHLZYn2VZebozX4DeuhTiEYR/9jWMQetjiGNZ/RM8nftvn9DcEa7xrYYxInQpL5AG9i7jG/mvwWmOB5VvbaRz2Ftcgb7ZbvGSpqNVZDRN5gCEkdRCWCAeCWP3oFmuEghkdCZAACZAACZAACZAACeSTAIVlPulHJG705FVVVZvcVlZVycJFiwVzImGsJ56D2MR1mHup16pf9BbaYlSPZ2urwg8CEw4icvHiJSZtFZWVaUcLDhjKi2VDMKdSDRJpwJhvCeNEcBhqCy74O3TokHrhlgRIgARIgARIgARIgATySoDCMq/4GXkYCLjCMgxpZhpJgARIgARIgARIgARIIJcEKCxzSZtxhZLAH279kxmCCoFJRwIkQAIkQAIkQAIkQAIkUJsAhWVtJjxCAoYAjPPAUA/mN2JOI7aDBn8sWJ6EjgRIgARIgARIgARIgARI4CgBCsujLLhHAjEEYOlVjeTYWxynIwESIAESIAESIAESIAESOEqAwvIoC+6RQAwBGNTZtHmzlG3dKlu3bTNb87usLMYff5AACZAACZAACZAACZBA1AlQWEa9BjD/JEACJEACJEACJEACJEACJJAmAQrLNAHychIgARIgARIgARIgARIgARKIOgEKy6jXAOafBEiABEiABEiABEiABEiABNIkQGGZJkBeTgIkQAIkQAIkQAIkQAIkQAJRJ0BhGfUawPyTAAmQAAmQAAmQAAmQAAmQQJoEKCzTBMjLSYAESIAESIAESIAESIAESCDqBCgso14DmH8SIAESIAESIAESIAESIAESSJMAhWWaAHk5CZAACZAACZAACZAACZAACUSdAIVl1GsA808CJEACJEACJEACJEACJEACaRKgsEwTIC8nARIgARIgARIgARIgARIggagToLCMeg1g/kmABEiABEiABEiABEiABEggTQIUlmkC5OUkQAIkQAIkQAIkQAIkQAIkEHUCFJZRrwHMPwmQAAmQAAmQAAmQAAmQAAmkSYDCMk2AvJwESIAESIAESIAESIAESIAEok6AwjLqNYD5JwESIAESIAESIAESIAESIIE0CVBYpgmQl5MACZAACZAACZAACZAACZBA1AlQWEa9BjD/JEACJEACJEACJEACJEACJJAmAQrLNAHychIgARIgARIgARIgARIgARKIOgEKy6jXAOafBEiABEiABEiABEiABEiABNIkQGGZJkBeTgIkQAIkQAIkQAIkQAIkQAJRJ0BhGfUawPyTAAmQAAmQAAmQAAmQAAmQQJoEKCzTBMjLSYAESIAESIAESIAESIAESCDqBCgso14DmH8SIAESIAESIAESIAESIAESSJMAhWWaAHk5CZAACZAACZAACZAACZAACUSdAIVl1GsA808CJEACJEACJEACJEACJEACaRKgsEwTIC8nARIgARIgARIgARIgARIggagToLCMeg1g/kmABEiABEiABEiABEiABEggTQIUlmkC5OUkQAIkQAIkQAIkQAIkQAIkEHUCFJZRrwHMPwmQAAmQAAmQAAmQAAmQAAmkSYDCMk2AvJwESIAESIAESIAESIAESIAEok6AwjLqNYD5JwESIAESIAESIAESIAESIIE0CVBYpgmQl5MACZAACZAACZAACZAACZBA1AlQWEa9BjD/JEACJEACJEACJEACJEACJJAmAQrLNAHychIgARIgARIgARIgARIgARKIOgEKy6jXAOafBEiABEiABEiABEiABEiABNIkQGGZJkBeTgIkQAIkQAIkQAIkQAIkQAJRJ0BhGfUawPyTAAmQAAmQAAmQAAmQAAmQQJoEKCzTBMjLSYAESIAESIAESIAESIAESCDqBCgso14DmH8SIAESIAESIAESTjCGwQAAIABJREFUIAESIAESSJMAhWWaAHk5CZAACZAACZAACZAACZAACUSdAIVl1GsA808CJEACJEACJEACJEACJEACaRKgsEwTIC8nARIgARIgARIgARIgARIggagToLCMeg1g/kmABEiABEiABEiABEiABEggTQIUlmkC5OUkQAIkQAIkQAIkQAIkQAIkEHUCFJZRrwHMPwmQAAmQAAmQAAmQAAmQAAmkSYDCMk2AvJwESIAESIAESIAESIAESIAEok6AwjLqNYD5JwESIAESIAESIAESIAESIIE0CVBYpgmQl5MACZAACZAACZAACZAACZBA1AlQWEa9BjD/JEACJEACJEACJEACJEACJJAmAQrLNAHychIgARIgARIgARIgARIgARKIOgEKy6jXAOafBEiABEiABEiABEiABEiABNIkQGGZJkBeTgIkQAIkQAIkQAIkQAIkQAJRJ0BhGfUawPyTAAmQAAmQAAmQAAmQAAmQQJoEKCzTBMjLSYAESIAESIAESIAESIAESCDqBCgso14DmH8SIAESIAESIAESIAESIAESSJMAhWWaAHk5CZAACZAACZAACZAACZAACUSdAIVl1GsA808CJEACJEACJEACJEACJEACaRKgsEwTIC8nARIgARIgARIgARIgARIggagToLCMeg1g/kmABEiABEiABEiABEiABEggTQIUlmkC5OUkQAIkQAIkQAIkQAIkQAIkEHUCFJZRrwHMPwmQAAmQAAmQAAmQAAmQAAmkSYDCMk2AvJwESIAESIAESIAESIAESIAEok6AwjLqNYD5JwESIAESIAESIAESIAESIIE0CVBYpgmQl5MACZAACZAACZAACZAACZBA1AlQWEa9BjD/JEACJEACJEACJEACJEACJJAmAQrLNAHychIgARIgARIgARIgARIgARKIOgEKy6jXAOafBEiABEiABEiABEiABEiABNIkQGGZJkBeTgIkQAIkQAIkQAIkQAIkQAJRJ0BhGfUawPyTAAmQAAmQAAmQAAmQAAmQQJoEKCzTBMjLSYAESIAESIAESIAESIAESCDqBCgso14DmH8SIAESIAESIAESIAESIAESSJMAhWWaAHk5CZAACZAACZAACZAACZAACUSdAIVl1GsA808CJEACJEACJEACJEACJEACaRKgsEwTIC8nARIggUwTePfdd+WYY46ROXPmZDroog9P2a1fvz5hXuvXr28Yg7Pfn309zsN/NtzSpUtN2HZ8Gs8999wjZ5xxhv5Me4vwkJcLL7xQDh8+XCs8nHvkkUdqHQ9yoEmTJjJo0KAgXo0fl/n//d//yaWXXiqffPJJ4DBsj71795bWrVvbh8w+uCKuFi1a1DrHAyRAAiRAApklQGGZWZ4MjQRIgATSJqDiiMIydZTKzk+o2aGpsBw5cqTMmDGj1t/+/fs97xAm2RKWAwYMMMJnwoQJXny6s2bNGpk3b57+THurwhL56dq1a63wcLyuwvJ//ud/BOEHdYjrj3/8o+E+bdo06dmzp5x//vnyL//yL3USl9ddd52vCKewDFoi9EcCJEAC6ROgsEyfIUMgARIggYwSUHFEYZk6VmUXVFhu3749aST5EpZJE5aiBwg/CMBf/epXcuqpp8revXtjQsi1sHRFLIQ00nDllVfGpCvIDwrLIJTohwRIgASyS4DCMrt8GToJkAAJpExAxVEiYblv3z558skn5Xvf+55gGOGxxx4rl1xyiQwePLhWfP3795ef/OQnxt9//dd/yVlnnSV//etfPX9HjhyRRo0ayXnnnSf/+Z//KV/5ylfkO9/5jrz11lueH+xMmTJFrrjiCvnyl78sCOdnP/tZ4N6lBg0amDQgnf/7v/8rP/jBD0yv2WeffRYTB4Z+QiSMGDHC+EF60JPVrVu3GH/4gZ7Gn//85/If//EfcvLJJ8vzzz8vnTt3NuIkm8KyvLxc6tWrJ9/61reMUDvxxBPl8ssvl8mTJ9dK4zvvvCPf/e53jT9wQ15eeOEF40/LGWLK/sNxOAhBdygsyqpt27am3LWsfvrTn8qQIUNqxe0eUGE5ffp0E1+zZs1ivPgJy+rqannqqafkzDPPlC996UtyyimnyOOPPy67d+/2rrXTrvsY1prI+cUF/2B57rnnepe2a9fOCGEc/+///m+56KKLpHnz5nLw4EHPD+LSeO0tPNg9lq1atTL5gLjGvYL6Y7u1a9fK7bffburSv//7v8vXvvY1U9/nz59ve+M+CZAACZBAHAIUlnHA8DAJkAAJ5IuACo5EwrKqqkruvfdeM4Rw/PjxgiGdTz/9tPy///f/5P333/eSDhGB4YV/+tOfZPjw4QK/CP/uu+/2/EBg/Ou//qsZ7jlu3DgTFkQlxKC6iRMnGmHxox/9SD744AMjYK+++moTdr9+/dRb3C3SCnE4ZswY8wchC3HasGHDmGsgpE477TQzD7BHjx4yatQoufXWW41wmDRpkucXcxMhNDBfsG/fvkZYXXPNNXL66acbv0GF5datW+XQoUMxf+78Q4gVeyjsihUrjLBEvsEF8wLvv/9+w94e0op04dp//OMfMnr0aBk7dqx07NhRHnvsMZMPCNSmTZsaP+3bt/eG4+I4nJ+wRLmhPP/2t7+ZPEOAY35jmzZtPDbxdlRY4vzvf/97+epXvyo7d+70vCOtdi/inj175Pvf/76ccMIJ8uabb5r0Ix58eMAHBv0oAIGGsvzd737n5QHlk8i5ccFvRUWFYYiPBeqeeOIJ6dChg6mTqLuYR4n02B9GENcvfvEL+frXv+7Fr6JRhSWE8W9/+1tTb/HxBR9O8JED95E6iP5zzjnH3FOoawMHDjSi2i5T9cstCZAACZBAbQIUlrWZ8AgJkAAJ5JVAEGHpJhBiCAIJAge9gepatmxphIv9Aq3ndHv99dcbAaG//bbo4UEPzq5du7zTiBM9SBCCKjK8kwl20OuGtL722mty/PHHx1wLYYmeuI0bN3ohoHf2uOOOk7///e/eMfQsQcxAGKpDei644IKUhCUEjvt39tlna5Bmi/O2sIw5KWIM4SA/v/nNb4xg0/OPPvqoEW/622+baI6lKyzRI4q0vPTSS35BJT1mC0uIY3xMQG+kOoRtC0t8cMCHCvcDx4cffmjSgQ8V6uoyx/Lhhx829QC9j8uXL5drr73WhAuR7ee03uCDA9IOIaou2VBYCEn7g8Hs2bNNXBD/cDt27DC/3V56DZ9bEiABEiCB5AQoLJMzog8SIAESyCmBoMISQ1zRu4OXelscQZipQ88LzqF3ET2NpaWlesrbQuChFwzDO9HzieGPtsOwR5yHEHAdhiUifAiDRA49oRBeGLZrpxX7tjiEsISIdR2OocdJHUQuBLHr1ChP0B5L9CJCONl/ixcvjgkWaXSFJXrRIOAxDNfOD4StOgggnENvMXrJ/OZzpiIsMYQW4X366acaRa2tii/thbXFlC0sceGDDz5o0q8iHmHbwhK9gBjGq2HpFh8XUB+effZZL/66CEubG/bRE4q6aDsYL7rhhhvMhwXX/8yZMz2vyYQlhknbDsaZEN7rr79uDuPDCD4oYO4phswiXrCkIwESIAESCE6AwjI4K/okARIggZwQCCIsMUwPL8YYJoplHjD0D+LovvvuM8fthELUYOiiiqBvf/vb0qdPH88LBANepiGUIBj+7d/+zfjXnqrNmzebMDF81XWw5ol0TJ061T3l/Z41a5bpYYKwhLiFFVCEjZ43XGuLQAhLiATXYR6dPW8PPVYYDuo6CD43TNcPfqsA9RN7rn+EZwtLsMKxhx56yAyDhcBBfiB8kX7bde/e3cxFRXrBFnNdMSxWXSrCEvlFOIl6hzVfSB/+7PS4whICFcOJ//KXv5jkwL8tLDEsVMPx26KuqauLsLztttsMt7lz58rKlStjehQRLgQvwv3hD39ohqdiji84o0cT6bGHqCYTln7LjSAMu1w3bNhg7p+TTjrJhI9ecgxjrqmp0WxySwIkQAIkkIAAhWUCODxFAiRAAvkgEERYYo4cjPC4IuPOO+80L8V+6UYvDeYEYi4iXqox/9J1lZWVArEDAyp4scY8O/RYYkhkoh5LDK2M5zBPDr2oGNJqu3SEZaZ6LOsiLCHAL7vsMjsrZh89fLaQsz2AIYaO/vjHPxYYhoGIgUtFWAbpsdyyZYsRXxBg+Fu0aJGXDFdY4sSLL75oynbhwoWmTtjCEr3EGEKqYblb+4NAXYSlHZeXSGsH8zlRT5WVnurSpYs5nmlhqeFjC6GLDykQ8vYQbNsP90mABEiABGIJUFjG8uAvEiABEsg7gSDC8g9/+IOxMGontqyszFhsxct4IrdgwQLzYh5vLhuuxVwzhKNGWGABFsZR7CUqMFQQwiPZHEtYr4VFVNuSJ8LxM7QTtMcyU3Ms6yIs0YMGcW47CDOI73jCUv2i9xhchw0bZg59/PHH5rc9X1H9Qgja4ekcy1deeUW9pLT1E5YY9gxjODq/0RZ7jRs3Nj2a69atSxoPPkKgBzKoAwM7Lr/rYP0W/lCv1eFDCnp9cdwWlrgf8LHBdWq8J0iPpXstfsN4ET4G0JEACZAACSQnkPjtI/n19EECJEACJJBhAiosMX8RPVruH3oRMcQSL9eYF4n5i++9956ZI4aeRhxXBxECC5q9evUyvZUQNlgaA0tHLFmyxHjDXEXMQYNRFszJxNxAWNGEqFExqFZhsbQF0oPlLSCuMLwzmVVYpA9p+uMf/2iGgcJgCqzLalrtnq+gwhLzIGG8B1ZhET8EGtLzjW98w8Rlh6ks7K0OGcWcUgwjdv/seaZIuz1k8tVXXzX5xhZ5w5IiEN2Yo2cLQQxdxVBKpA9cMQwYQgVzCdXyK0Qbwr/55pvNci7oFYQhGThXWOKYWoXF/EjkGVZzMU8QIiyZ8xOWuAaWVpEG/NliD72s6J3FhwMM/4VFX8SHHkMMwbbnOGKYMoQd0oQ8JOrBRpxuXH5px7xd9O6idxjC+6OPPpKrrrrKqze2sNTyRFlg6DXSABdUWOLDANb3BEdY2kW5okcdHwvQq0tHAiRAAiSQnMDRt4/kfumDBEiABEggBwRUWOrLvrtV0QRBAQGIuZNYUxEv/PqCrcnEUhjojYJREl2bD8tCYL6aOogGGAFCzxX8oCcR1mXdIYi6jiWGPULUYajk0KFDNZiEWwhhLOeAtH7zm98UWBzF8iPIm+YHAQQVlvCLuZpIA8KEsHvmmWdSXsfSZau/IaLU4ZgtLA8cOGCWdgFTDPFFDyYEuysEsewLRDzm7IEr1oBEr549PBVxoHcYw5ox7BJxofzh3PBwDL3EEIKwxoswIVLRmxykHOIJS+QH8SNuW1giPojLl19+2ZSdxodeagxvto0uoRccQ4ExZxPh2PNhTWacf35xOV7MT+QLa7WCM3ijjCH8cL0tLGEhFh8usIQKPnbgPFxQYblt2zazfA+ML6F+o4cdhovA2jaA5JdGHiMBEiABEvicAIUlawIJkAAJkAAJkAAJkAAJkAAJkEBaBCgs08LHi0mABEiABEiABEiABEiABEiABCgsWQdIgARIgARIgARIgARIgARIgATSIkBhmRY+XkwCJEACJEACJEACJEACJEACJEBhyTpAAiRAAiRAAiRAAiRAAiRAAiSQFgEKy7Tw8WISIAESIAESIAESIAESIAESIAEKS9YBEiABEiABEiABEiABEiABEiCBtAhQWKaFjxeTAAmQAAmQAAmQAAmQAAmQAAlQWLIOkECeCGCh882bN0tVVZVUV1fzjwxYB1gHWAdYB1gHQlAH0G6j/UY7TkcCJHCUAIXlURbcI4GcEkCjdMwxx/CPDFgHWAdYB1gHWAdCWAfQjtORAAkcJUBheZQF90ggpwTwxRPCEg0TeyzZY8s6wDrAOsA6wDoQjjqgH4bRjtORAAkcJUBheZQF90ggpwTwAgFhiS0dCZAACZAACZBAOAiw/Q5HOTGVuSdAYZl75oyRBAwBNkysCCRAAiRAAiQQPgJsv8NXZkxxbghQWOaGM2MhgVoE2DDVQsIDJEACJEACJFDwBNh+F3wRMYF5IkBhmSfwjJYE2DCxDpAACZAACZBA+Aiw/Q5fmTHFuSFAYZkbzoyFBGoRYMNUCwkPkAAJkAAJkEDBE2D7XfBFxATmiQCFZZ7AM1oSYMPEOkACJEACJEAC4SPA9jt8ZcYU54YAhWVuODMWEqhFgA1TLSQ8QAIkQAIkQAIFT4Dtd8EXEROYJwIUlnkCz2hJgA0T6wAJkAAJkAAJhI8A2+/wlRlTnBsCFJa54cxYSKAWATZMtZDwAAmQAAmQAAkUPAG23wVfRExgnghQWOYJPKMlATZMrAMkQAIkQAIkED4CbL/DV2ZMcW4IUFjmhjNjIYFaBNgw1ULCAyRAAiRAAiRQ8ATYfhd8ETGBeSJAYZkn8IyWBNgwsQ6QAAmQAAmQQPgIsP0OX5kxxbkhQGGZG86MhQRqEWDDVAsJD5AACZAACZBAxggc+eyzjIVlB8T226bBfRI4SoDC8igL7pFATgmwYcopbkZGAiRAAiQQIQLzamrkZ7NnyZo9ezKea7bfGUfKAIuEAIVlkRQksxE+AmyYwldmTDEJkAAJkEDhE5hdXS3nTZksZ0wYL3cuWZzxBLP9zjhSBlgkBCgsi6QgmY3wEWDDFL4yY4pJgARIgAQKm8CMqio5Z/IkIyqvKpkrNYcOZTzBbL8zjpQBFgkBCssiKUhmI3wE2DCFr8yYYhIgARIggcIlMKWy0hOVv51XIruyICqRe7bfhVsHmLL8EqCwzC9/xh5hAmyYIlz4zDoJkAAJkEBGCUyoqJCzJ000PZXXL5gvew4fzmj4dmBsv20a3CeBowQoLI+y4B4J5JQAG6ac4mZkJEACJEACRUpgkiUqb164QPZmUVQCIdvvIq1IzFbaBCgs00bIAEigbgTYMNWNG68iARIgARIgASUwrbLS66n8w8IFsv/IET2VtS3b76yhZcAhJ0BhGfICZPLDS4ANU3jLjiknARIgARLIPwHbUM+NC+bLviz3VGqO2X4rCW5JIJYAhWUsD/4igZwRYMOUM9SMiARIgARIoMgIzK2ulnO/sP563fx5WR/+auNj+23T4D4JHCVAYXmUBfdIIKcE2DDlFDcjIwESIAESKAICn332mXy4bZu3TuU180pkd456KhUf228lwS0JxBKgsIzlwV8kYAg0bdpULr74Yvnyl78sJ554otx0002yYsWKGDqXXnqpHHPMMTF/t99+e4yfRD/YMCWiw3MkQAIkQAIkEEtg4759csvCBcby6xkTxgvWqczWkiKxMcf+Yvsdy4O/SEAJUFgqCW5JwCJwzTXXyLvvvitLliyRBQsWyHXXXSenn3667N692/MFYfnAAw9IWVmZ91dVVeWdT7bDhikZIZ4nARIgARKIIoEjn31mlgupOHhQyvbvl/V790qbTZs8Iz1nTZwgr61bm7M5lW4ZsP12ifA3CXxOgMKSNYEEAhAoLy83PZOTJk3yfENYPv74497vVHfYMKVKjP5JgARIgATyQQDDT2FtFUKvdN8+Wblnj8yvqRFYZB2zc6cMKS+Xvlu3SvctW6Td5s3SYsMGI/xeWLNa/rlyhTy0fJncs3SJ3L54kdy0YL78dl6JXDZ3jvx89iz50cwZ8p3p0+SCqVPknMmTBKIRvZHx/q6eVyLLrY+8+eDB9jsf1BlnGAhQWIahlJjGvBNYvXq1EZaLFy/20gJhecIJJ8jxxx8vF154oTz11FNSU1PjnU+2w4YpGSGeJwESIIFoEjjy2RHZf2i/7DqwSyr2Vkj57nLZUr1FNlRukNU7Vsuy8mWyaOsiKdlSIjM3z5QpG6bIhHUTZMyaMTJ81XAZtOxj6bV4kHRY8KG0KOkvDeb0k6dn9pF603vLvVN7y+2Te8uNk3rLNRN6y2Xje8vPJ/SVi8d/IN8bP0C+PW6gXDBusJw7bqh8c9xwOWv8SDlj/Ni4Qi+eAMzU8dPHj5HTxw6Xb4zoJ6d0vU1OaXa6nN78TDmrxdlyfutvyXff/r78pMMl8usul8rV710jN/S8UW7te6vcNeBu+dugB2TIsiEZr0RsvzOOlAEWCQEKyyIpSGYjewTwpfaGG26QX/7ylzGRdO7cWcaMGSMQm3379pUzzzxTrrzyyhg/9o/9+/ebRZXRIOFv8+bNRqxin44ESIAESCB3BGzhtnNvhWzdtVU2Vm6UVTtWyeKti2VO6RyZunGqjF07VoatHCYDl3wkfRb2lfdK3pOOszpKm+lt5I3Jb0ijCY3llbGvyrMjn5N/Dvun1BtST+4f9De5+8O/yG39bpff9/69XNfjernq3avlsq6Xy887/UJ+/M5P5Htvf1++3eYiOe/N8+WsFt+U014/Xb7e5BQ5sdFJcmyDE+QrDU6Urzb5hhzb/Hw5rtUP5fg2v5IT2v9WTux0i3yt291y0vv15Ou9npaT+zWQUz5sIacObi+nffKefGNkfzl9zLCsisDTx42Ub4z+2MR12rAecurQLnLqoLfllIGt5OT+TeTkfvXl632ek5N6PiEnvf+wfO3d+02aT+x8u5zY8WY54Z3r5IR2V8rxbX8tx791icnfcS2/K8c2v0CObXa2fLXJGfLVRqfIV1/7unyl/vHylfrHpfWHMsq0o7DMNFGGVywEKCyLpSSZj6wRePjhh+WMM84wQjBRJHPnzjVCsaSkxNdb/fr1zXnX4A+FpS8uHiQBEigiAoePHJbdB3bL9j07pLS61PS6qYBDbxt62oYuHyoDFn8ovRb0lm5zu8k7M9+RN6e+Kc0mNZP64xrI86NekCeHPymPfPyI6Yn6y4f3yO0f/MkTb1e+e5Vc2vUyuaTjz+RH7S+W77T9nnzrrQvlnFbnyhlvnCWnNDtNvtb4ZDmu4YlpCZXUhM7x8tXGp8qxzc+T4968WI5/+3I5ocON8rWud30uDns/Kyf3bySnfNRGTh3a7XNhOHZ45oTh+DFy5thhctaYQfLN0R/IuaN6y/kj35Nvj+gq3xvRSX404h352Yh2cumINnLVyNbyu5Gt5PejWsodo1vIvWNayENj35B/jm8hz09oIQ0ntZTmk1tJ62mt5e0Zb5vy6TS7k3Sd01XeLXlXeszrYcqu78J+0n/xACPGBy0dLB8v/9iI85GrR8roNaNl3Npxpnd18obJMm3jNJmxaYbM2jxL5m6ZK/M/nW96YpdsWyLLy5fLyu0rZc3ONbKuYp2sr1hv9ldsXyE4D7+4buL6iYKwBy8bIoj7/XnvC9IF8d98cnPzgSDTtxKFZaaJMrxiIUBhWSwlyXxkhcCjjz4qp512mqxbty5p+OjZ/NKXviT9+vXz9cseS18sPEgCJJBnAgcOHxD02m2q2mRe5tFbh5d19NRBIKCXDiKv5ZSW0nD8a/LcqOflsU8eM+Lujv53GmF3zXu/NaIOQxLRG4chime+cZac3PRUOT6nQq7uvVvoLTyl6WlGhJ7b6jy5qM13jED9Waefy+XdrhDk8YZeN8lN/e6SGwc+ItcPeV6uHdZErhr5llw2pov8fFxPuXjCAPnuhCFywcQRcvaE0XLGhHF1FolnThgv50+ZJD+cMV0unTtHsFbjHYsXmfmKz61eJU3XrzPzGXuVlZk5jhMrKmReTY2s2bNHyg8cMHMi81y1ijZ6CsuiLVpmLE0CFJZpAuTlxUkAIvGRRx6RU045RVatWhUokxgSi95I28BPogvZMCWiw3MkQALxCOD5tPfgXjN8E0M3IQTRC4TeIfQatZvRTppObCovjH5RHh36qNwz8F65pc8tRhj9ovMv5fvtfiAQTqc2+0ZeRB+EJgQn5slhKOhFbb8rF7/zYzNM9Iruv5Fr3/+dEat/+uDPJu0PDv67/GPoP+SpEU/Li6NfMuL29Umvm54zCF70bvac31P6LfrAMPhkxSemBxQ9Yph/iHmI6OECK8xR/LTmUynfvV2q9lXJnoN75NCRQ3LwyBH5dP9+mVtdLZ9s3y5dtmyRRuvWyiMrlsutixYaQzMwMJPMsEy8eYXnT5ksF8+cIb8pmSu3LFooDyxbKhCHzTdskE6lpTJg2zYZt3OnEYawgFp96JDAMipdYRJg+12Y5cJU5Z8AhWX+y4ApKEAC9erVk6985SsyceJEbykRLCuyd+9ek9o1a9ZIw4YNZc6cObJ+/XoZNmyYXHDBBfKDH/xADgdcqJkNUwEWPJNEAjkigKGhGBYKsQPxA4MrvRf0kfYz20vjCU2MiILhkdv63WYMkmB454VvfVu+0fyMrInBE177mpnrB9EJgyiIE0IPxlAw5PSvH91nhCrmE2JoKuYYQsRC2CHtELYjVo0wvZ3I08KyhSZ/m6s2m7xiKCzynQ8HMb7z4EGZXV0t/bZuldc3rDc9f7+bP0++N32aoHcwnij0O37u5ElGKMJCKXoRH1+5QhqvXycdS0vlw23bZFJFhSzdvdv0HB46ciQfWWacWSTA9juLcBl0qAlQWIa6+Jj4bBFw50Hqb6xtCbdp0yb59a9/Lccdd5z8+7//u5x99tny2GOPyc6dOwMniQ1TYFT0SAIZJwChUbO/xgz/hADC0E8II8wVwxwyCCcYY4G4U0MsN/f+vfyux3VG6EFwYT7fLzv/yggwGGT5YfsfmWGgGEKJuX3ojTu75blmSCgEIXoI0VOHeX6pzdPzH9751frHmaGbiAdxIz3X97xB/tz/DkEvH3r4GoxrKK2mtpLOszsb4zOYx4i8Yj4b5qpB9FXuq5SDhw9mnHE+Aqw8eFBmVlVJ77Iyabhurfxl6RL59ZzZAiHoJxDtYxCX35421Qw7/eOihaa3Er2W6L0cun27EaWb9u3L29qJ+eDJOP0JsP3258KjJEBhyTpAAnkiwIYpT+AZbdERwFBGLMeAJRgw/PGjpYOky5wuxujL0yOekfs+ul8gCiG80BMHQy65NeBnHJOjAAAgAElEQVTiLwwhLiE0MR/xpx0vMUNV0TP40JCHjKEaDPfsMKuDEYSY7wgrpRjSCTFYvb9aYNk0ig5DRDFcdMSOHdJ60yapt2K5oOcQ6yDaQtFv/6JpU+WaeSXy4PJlZo4iBOj0qiozDPYwh55GsTrVKc9sv+uEjRdFgACFZQQKmVksTAJsmAqzXJiqwiKA4ZOwGoqlHmA85olhT5hlHGBMBVY/sUwDeu7q2gOI4Z8wMgPBiXXwbux1k+mhxJy+l8e8YqxKvjXtLWO8RufywfIkrJdCwGKNPAxjHbV6lJnnOGn9JCMAMRQUcx/VyuXSbUtNDyHWIISFSwjhYuklzFaNQa/yxn37ZPiOHdJy40a5f9lS+eWc2XL2pIkJBSTE47Xz55kexzc3bpSPt283w1L3BJymkK38MNziIcD2u3jKkjnJLAEKy8zyZGgkEJgAG6bAqOgxQgT2Hdon49eNl1fH1jfr/gW1KApxCZEJQzDomcT6gRjGivmAmAsIUQghCOGHheWx5AVEK8QLXf4J7Dp0SGZUVUnn0lJ5bOUKuapkrpyTYPgqjOhcMnuW3LVksRny2nfrVmP4BuHQhYMAetxhSAkfYfChBh9wmkxsEorEs/0ORTExkXkgQGGZB+iMkgRAgA0T6wEJiBnOiV69FlNaGGugWPLB7X3EOoRYoxDrFsLSKQzG4EUUcwXRE4jePwyHpQsHgYqDB2Xszp2mF/LuJYuNERy/Yas4pgIScyVhcGdIebms3gNLrtEcBhyOEv48lVjGBmtQYq1K2z388cNyQesLfY1QYQRBGD72sP22S5T7JHCUAIXlURbcI4GcEmDDlFPcjKyACMAaKqyIYhkMLDnhCsmzWpxtRGT3ud3NsNEwvGgWEN6CSgp6EGEhFUNZ71yyWL4/Y3rcYawwnHPzwgXy0prVgh7IJbt2mWVACipDTIwvgZGrR5rexvsH/U1+0/1KY7jq2AbHm3v7hNdOipkPfFu/2717/tgGJ5ilby7rerncOeAuM8Jg/6H9vnEU0kG234VUGkxLIRGgsCyk0mBaIkWADVOkijvSmYUwnPfpPHltfCPBOorunMiTGp8sN/W6WdpOb2sM8FBIhrO6wKgOxGC3LVvMUh6XzJoZV0T+cMZ0M4y1xYYNMnrnTtl24EA4Mx2BVGO9z9mls6XXgt7GyvBdA+4WzHG271Msi+N+IMLvrzX6urGUXLG3wiOFEQrTN003w9HDOtKA7bdXnNwhgRgCFJYxOPiDBHJHgA1T7lgzptwTwFxJLFRfb0g9+WbLc2q9dGJ5DgxrxZxHDJmjCx+B3YcPy4SKCmmyfp3cuGB+3CU9vjt9mumtRK/l+IoKwZIgdIVFAPMdN1RuiBGLL45+yVhQ9hOMOIb5keqwnA16K7EGK0YjzNg0Q7bu2hoTnvothi3b72IoReYhGwQoLLNBlWGSQAACbJgCQKKXUBFAzwast2LJDPRC2i+k+H1r31sFw1vtF9JQZTDiia06eFA+2b5dnl+9Si6bO8fMf3TnRsJiKyyyvrJ2jVn7cev+wh/WGKViVQGJ9UybT24u9w78q1nqBj2LuF8xX1ndc6Oe9+5hDE/HPGcshQPrzIOXDZFdB3ap18ht2X5HrsiZ4YAEKCwDgqI3Esg0ATZMmSbK8PJBAEPc3p/3vlmmw7XgCqM7j33ymFmKAz2YdOEigPmRWOrjudWr5FdzZvsOa/3O9Glyz9Il0qG0VObX1NCoTgEVceW+SrNUz96De71UYV1X+4OPvQ/DOVgiR93anWulZEuJ1Oyv0UPcfkGA7TerAgn4E6Cw9OfCoySQdQJsmLKOmBFkiUD1/mrpOb+nr5j83tvfN+s/4gXVnoOVpaQw2AwSOHjkiEytrDTLd1xZMte3R/JHM2fIwyuWS++yMrPGJMs4gwVQx6BQBpuqNpk1VTGP+ZY+t8h5b17gCUgs56Gu65yuxhrrxe/8WDBXsunEpjJo6WBZtWMVLSsrpABbtt8BINFLJAlQWEay2JnpQiDAhqkQSoFpCEoAlhox/O1PH/xZ3CVBftj+R9JoQmNZXr48aHD0VyAE1u/dK51KS+W2RQt91438wYzpRkj227pVPuWw1ryXGkTkxsqNgmHn6t6e8bYnIu0eSOyf9+b5MmLVCPUqGDlw8DDnuHpA6rjD9ruO4HhZ0ROgsCz6ImYGC5UAG6ZCLRmmSwngJRa9HY98/Iic0uy0mJfX77T9nrHySjGptMKxPXDkiDG4g+GtP/ax2nrB1CmCNSPf/fRT2bD36BDKcOSu+FK5Y89OIwzREwnLybo8Dyy0qoMBLCzb8aP2F8tfP7pP2kxvY4xi2ZZY1S+3mSHA9jszHBlK8RGgsCy+MmWOQkKADVNICiqCySytLjVD5C5q+90YMXl2y3PNOnNYLoBDIMNTMWCFtc/WrWZ5j3MmT4qZK3nmhPFyzbwSab5hg5TU1AiWDKHLP4G5W+bKRW2+E3P/aW/kcQ1PlBZTWniJxJIdnMPs4cjJDtvvnGBmJCEkQGEZwkJjkouDABum4ijHYskFhsd9tHSQmTepC5vjRfZrjU82vSDj1o6LWeS8WPJdrPko3bdP2m3eLL+bP08gHm3rrd+aOkUeXL5MPty2TaoPHSpWBAWfL8xVHrV6lFkb8pr3fitvTXvLSzMsJ6uQhMC8Z+C9giGvGEFAEelhytsO2++8oWfEBU6AwrLAC4jJK14CbJiKt2zDlLN1Fevk+VEv1Fqv7jfdr5Qe83pEekmBMJUj0rpu715ptXGjXD53ToyQhKi8ZNZMeXXtGpldXc1eyTwVLNZrhaGcp4Y/ZZb4sD/gQETe0PPGmJSNXTtWdu6tiDkWhR97Dx8u+BERbL+jUBOZx7oQoLCsCzVeQwIZIMCGKQMQGUSdCBw+cliwjh1eZL9a/zivZ+SsFt8ULIq+esfqOoXLi3JPYPO+fdJ60yazrqTdK4n9q0rmylubNslazpXMfcGIyPY9O2RB2QIvbowKwAgA7YnE9vzW3zK9kZ1md5Jl5cs8v1HagTXiTfuOLkeEZW42Wr8LkQXb70IsFaapEAhQWBZCKTANkSTAhimSxZ7XTMOYBxY3t5ciwMvt73pcZyy+0lpkXosncOQ7Dx40llyvmlcS0zOJIa/XzZ8nHUtLpYwWXAPzzJTHXQd2yfBVwwVrRf74nZ8YAYnld2xXb0g9eXToo9J3YT/BXOaoui379xsDUXcsXiTnTp5k1km1WRT6xxC233ZpcZ8EjhKgsDzKgnskkFMCbJhyijvSka3YvsK8zNq9Jae9froxxLNm55pIswlL5vcdPiwDt20zy4KcNXFCjKCE8R2IyfIDB8KSnaJKZ8dZHeWKblcIjOrYvZHY/0G7H8qeg3uKKr91zcyMqip5cc1q+dnsWTH1F73rsEaMnsqwOLbfYSkppjPXBCgsc02c8ZHAFwTYMLEqZJMArLZiGYIbe90U87KLJQneLXlX9h7kUhLZ5J+JsFGGc6ur5fGVK+S8KZNjXsZ/OWe2GQILIz10uSNQVlMmPef3jDFk9eDgv3v32AWtL5S/D/679Fv0gWzbtS13CSvAmDC81bYefc/SJTF1+IqSudJ4/Toz7/dwyKwRs/0uwArHJBUEAQrLgigGJiKKBNgwRbHUs59nzJ/8cMlA+XmnX3gvu5hHeUufW2TCugkxL3rZTw1jqAsBDHVtu2lTrZ6d70yfJi+vXSNLd++uS7C8pg4EcD9N2zjNzD3+cYefevfU7NLZXmg433l2Z4EhrCi7/UeOyLidOwVrpP7kizVSl+za5SEZXF4uf1u2VPpt3Sqo42F2bL/DXHpMezYJUFhmky7DJoEEBNgwJYDDUykTgMVJ9ER+u81F3svviY1Okkc+foTGeFKmmfsL0LMztbJS/rp0iXzTGuqKffT04IWda0zmrlxgdAdLfGDIuD28FR9p8NFm4vqJuUtMAce0df9+6VBaKrcsWihnT5oY0yOJOb+9y8oKOPV1Txrb77qz45XFTYDCsrjLl7krYAJsmAq4cEKUNKxp12FWBznvzfO9F2C8DNcf10DKd5eHKCfRTGrNoUPSfvNm+ekXPTxq2RVDXTFvsjLkPTthKdXNVZtlY+VGL7mTN0z27qdTmp0mdw64S3ot6C3lu7d7fqK4g6VAKqw6OWbnzhgx+e1pU+XvX6yRWsx1l+13FGs/8xyEAIVlEEr0QwJZIMCGKQtQIxQkBGW7Ge3krBZney/AWC6k9bTWXHsyBPVg2e7dZu7kOZMneS/m6PF5aPkymVNdzSHLOSjD5eXLpenEpmZNSfRK/mPoP7xYDx05JC+PeUUgMLEfZYf1UU2v5MIFplfy+dWrPBwwKnXDgvnScuNGWbhrV2TqLdtvrwpwhwRiCFBYxuDgDxLIHQE2TLljXUwxYcgr1rw7p9W5nqBEbyV6LSE26TJLAMNPqw4elA1798qCmhqZXFkpI3fskEHl5dJn61bpvmWL6XHEi3WT9evMHMhnVq+SR1cslweWLZW7lyw2llxvXDBfYL31srlzvPln2juJ+Wh4ca8OkVXMzFLOTWgYbowhrq+MfVW++/b3vfsHovLYBsfLHf3vzE1CCjwW1PmxO3cK6vHFM2d4Hz60vmJJm6g7tt9RrwHMfzwCFJbxyPA4CWSZABumLAMusuBhROT9ee/HrEF5bqvzpMucLgKxSVc3AnsOHxb0Hg7fscOIu+fXrJa7liw2AvBbU6fUeqnWl+t0t5h/9qfFi2RCRUVkennqVkKZuwrC0h4yfnzDE+WGnjdK97ndIz9s3P6oAU4Y0qp1HMvbXDt/numVXByhXslENY/tdyI6PBdlAhSWUS595j2vBNgw5RV/aCLHS97Q5UPNenhqRATDX9vPbC/7D+0PTT7ylVDw237ggGANPRgSabRurdy3bKn8pmSuXJiCcMQwVbxsowcH8x+vLJkr1y+YL39ctND0SsLaJXop0csDy63ovUQvZrvNm6Xrli0m7g+3bZNPtm8XzEvjMiHZrRErt6+UhuNfk193uVQOHj5qgRS9lbf2vVV6L+gjVfuqspuIAg794JEjpvcd60peMnuW4COKbRzqpTWrzbBs9MzborOAs5TTpLH9ziluRhYiAhSWISosJrW4CLBhKq7yzEZuZmyaIZd3u8Ibsndqs29Iq6mtuAalD2wsrl5SUyN9t26V19atlb8sXSK/njNbzrXmMGoPjLuFn1/MniW3L15khCGW+hhSXi7za2pk24EDgmUU6AqfQGl1qbk/ftLhEu+ewceY0WtGF37ic5DC8gMHpGdZmemRd+8L9KBzGZvghcD2Ozgr+owWAQrLaJU3c1tABNgwFVBhFFhSNlRukD/3v8N7OcayIS+Ofkkq91UWWEpznxysfzepokI6lZbKk6tWml7Di6xhe65o1N9YA/J38+dJvRXL5Y0NG2TAtm1GiMLCJXo16cJLAGtKXvPebwVLgWiv/nFfDHPtOb+X1OyvCW/m0kg56rXbC6n3A7YXTJ0i9y9bKh9s3Rpj6TWNKCNzKdvvyBQ1M5oiAQrLFIHROwlkigAbpkyRLJ5w8AL80piX5YTXTjIvyHhRfmDQg7KlekvxZDKFnJTt3y8YPgorlLA8ac/7sl+QdR/D+a6aV2KG8GEYKnod0QuDJRLoiocA5htX7K3wMjT/0/meoLyi2xXGuNX2PTu881HawZzhYdu3m2HZ+OAyYsdRDtMqK80w7gbr1srMqio5zA8qda4abL/rjI4XFjkBCssiL2Bmr3AJ/H/2rgNKiipro2te/RUQERAUDEgQ0UUFRFHMgrKIyLqKqKCYdRezruQgIoooIBJEsmQUQdLMMDnnHJmccw7c/3zPqaK66Z7p6VhVfd85faq66tWr975X3fd9dRMLJvXOjSt6tj9uP123pK+8QH5ow8MUmRfpiq645J7QriTV1NC6nByCv+Jt/n5y8BCJOErbof5+NDEyghBo5+fcXOE/qeeceS6ZEBXeNKk4Sbx4uX7pjfTynmlyD/HsrAxYSdD0u2PJqa+nn3JyaGJUJPXz8jT43byXmOCOkDh8zCy/HQ4x30CjCDCx1OjEcbe1jwALJu3PoT1GgBQh7/z+jkwoBy0fTCCZejfPxPgSa2qESStScgw0Y86KQDnvJiYIwgktC3wpubgPAtUN1SIastLXGOauiIjs7vkl8RSk1tYaEEm8fBni5yt+M38WFxPyTHKxPwIsv+2PKbeoDwSYWOpjHnkUGkSABZMGJ83OXU4oSqBhK++QSeWHhz/SdaTXrLo62pibK6KymjJr7efpQY+GhRJM9RA5tZJJpJ2fOG01N89jPl29oKf8+0CuyfGb/0m7Ynbr+ndiapYaWlrEbwIvWd5PSpSr4AXNPwL8aUxoCH2ZkUGcDkSGxqE7LL8dCi83rmEEmFhqePK469pGgAWTtufP1t5vjthCV83vIRbNfb68jg4lHbK1SdVdD+0i8kPOTEqkOwIDztKsgEgioM7C9DTyLitj7YrqZtC5HYKPsTI1yALPBeL3MfDbQbTYazHlVuY6t0Muvlt5YyNtz88X6WyUUVyxD6IpFdZKSkg4b8vy23lY8520hQATS23NF/fWSQgsXLiQhg0bRpdeeil169aNxo8fTwkJhr4q9fX19NZbb1HXrl3pkksuoSeeeIKysrIs7iELJouh0lVFaBigiZGiVyKaZV5lni7GKJm3Ls/MFNFakVhd8ovEFikN7g8JplmpKeRRWspBdXQx67YPIjo/mt488KbQTkIbKZX8qnzyTPekltNnSJR0Tu9bvIwx/v3AXPyNhHgRnAd5KLm4DgGW367Dnu+sbgSYWKp7frh3LkLgkUceoQ0bNlBMTAxFRETQ2LFjqU+fPlRdXS336LXXXqNevXrR0aNHKSwsjO6//3669dZbqdlCnxYWTDKUbrMDn7AZ+2bIpBIpRLS+aMYCFyQR5nmmAu4g0M5bCfGEROscYMdtHvV2B9rQ3EDbo3YQorhKL1mwnbZ3ervX6q0CfI2RAkfpPwwtPl7G3BkYQJ+nplBgRYVB6hC9YaC18bD81tqMcX+dhQATS2chzffRNAKFhYXUqVMn8vLyEuMoLy+n888/n7Zv3y6PKycnh84991w6fPiwfKytHRZMbaGjv3NVDVX05ObxYhENX7HVgas1O0gsgH8tKKAXYmNIaaKHhTC0LEgNAq0lFszQYnJhBCQE8HJl7ol51PerfjKh7Dz7Spq84190Iu2EWzwv+E2EV1YKzT2Io6TVR25VqSDVDqIkc1EnAiy/1Tkv3CvXI8DE0vVzwD3QAALJycmCWEZHR4veHj9+XHwvLT2TSw0nhgwZQl988YXJEcF0FsJI+sBsFmQV37noG4HC6kIavnqEWEhfNe9qOhB/QHMDLmlsFIF3REoDIxNXJFp/LT5O5I1Ual00N0jusFMQGLXmHvFb6PvV9TTnxFy3ydOaXVdHHyUnEbT4EpmUXsaMjwinE0byxCmTwTexCgEmllbBxhe5AQJMLN1gknmItiGAt8vwnxw1apTc0JYtW+iCCy6Qv0s7Dz30EL366qvSV4PtrFmzBJEEmVR+mFgawKS7L5nlmTT4uyFiId37y2spMCtQM2MsbWwUeSKx6IV/pHIxjEiUn6UkixySnGhdM1Pq1I5CO7kzehfBj7i09sxLuKMpR2lH1K8GgXqc2jEn3Qy/i6KGBvlup+rq5N/Q9V6e9Gx0FG3NzycE6eGiLQSYWGprvri3zkOAiaXzsOY7aRSBN954g6699lqDwDzmiOWDDz5IM2bMMDlS1liahEXXBxOLEkW+PfiO3bSsPyHBu9pLdXOzWOw+FRlxVvCQu4MCRQTX2OpqtzBZVPtcqbV/5XXltMxnGd207GbZ3HWp91K1dteu/QKZ9CwtpbcTE2iAjzdBw68sCFy1r7CQaiz0xVdey/vqQYCJpXrmgnuiLgSYWKprPrg3KkMAUV+vueYaSktLM+iZNaawBg0QCRNYNoU1RkU/38NzwwlpREAqh6wYSlnllkcMdjYKTS0thGTqL8XGEDQpSs3kyKBAWpyRTsns7+XsadHc/fCMv3/oA4Pck/gNwNy1oOqM/6DmBtZOh0EmvUpL6Z1WMqn8/SCSqzI1SDtN8WmNIMDEUiMTxd10OgJMLJ0OOd9QCwjA/PXNN9+knj17UlLS2VomKXjPjh075OHk5uZy8B4ZDffe8T3lSz0W9hKk8q7Vw6mwukiVgEDz+HFKMg308TYgk7f7+9HctFRKUERBVuUAuFOqQaCsrozgPyxFeB36/W20PmQ91TXVqaaPjurIM1GRBr+fm7xPCp/jIyUlxGlBHIW6a9tlYula/Pnu6kWAiaV654Z75kIEXn/9dbr88svJ09OT8vLy5E9tba3cK6QbgTbz2LFjIt3ImDFjON2IjI777nile1H3+T3EAnvM+geool5dwZngz7U6O5tGhwQbLIYRgOc/SYkirQFHcnXf59fSkeMZiSuMM6g+ZdcL9NCGh+lQ0iFdmkpjzKGVlfRxchIhmJVUfsjKIpDJGfFxxGRSQkXfWyaW+p5fHp31CDCxtB47vlLHCCiD6yj3kdtSKnV1dQRT2S5dutDFF19M48aNo8zMTOl0u1sWTO1CpLkKx1OPy1qbxzY+TjWN6kgXgAWxX3k5vRIXa2DqitQgk6Oj6LeiItasaO5pc02HkXf1t/jfaPTa+8TLk/jCeLkjyE2pxwLN/Zy0VELAKsnMdW1OjjxU+EuyuasMh1vssPx2i2nmQVqBABNLK0DjSxgBeyDAgskeKKqnjSMpR6jbvO5isf3EpidVYQJY2dREK7OyaLgiVx4Wxvj+XWamQcRK9SDJPVEjAs0tzbQ9agfd/sM/ZHPXK+d2p03hm9TYXZv7BM3+N5mZNCo4SCaT+O3AB3lKTDT5lpXZfA9uQLsIsPzW7txxzx2LABNLx+LLrTMCZhFgwWQWGs2dgOkfFtnwL/vnlglU31Tv0jHAdxKBRG446SUvirEghqmef3m5Ls0UXQq4jm/e2NxIG8M20uDlt8iE8uoFPemTI59SflW+rkauNAEvaGiQU+xAsz8xMoK25ecT52nV1ZRbPRiW31ZDxxfqHAEmljqfYB6eehFgwaTeuelIz5CT78q5V4lF99PbniZXmQO2nD5NvxcV0ePhYTKZhIbljsAAobWsaGrqyLC4LiMgEKhuqKbei/uI5/uaxX1ogecCQqAevRQE18Hv5vmYaJoQGWEwrE9SkmlNdjYVK3JRGlTgL26LAMtvt516Hng7CDCxbAcgPs0IOAoBFkyOQtZ57SJQjxQJc9K2SS5J+I68k6uysw38v67zOCGSr3uUlrJ20nmPgy7uhBcjMHlVau9WBa6ir32+pqqGKl2MUQrCMzMpkRC0SvKbxDan3rXWBroA2A0GwfLbDSaZh2gVAkwsrYKNL2IEbEeABZPtGLqyBf9Mfzlf35ObxztdU1nY0EBIto5olNLC+MaTXgQtS2ad/lM8uHLu9XhvEMo1QWvoxq9vEtrJA/EH9DhM2llQQHcZ+Rwj3c6HyUkUXllpQKh1CQAPyi4IsPy2C4zciA4RYGKpw0nlIWkDARZM2pgnU70Myw2jnguvEQvwR35+1KmBetJqa4X/ZD8vT5lQ3h7gL8xd2f/L1GzxsbYQaGppop9Df6b+3wwQzzP8hPstvYF2Ru9q6zLNnKtrbiZo9aWyKS9P/G7w+3khNoYOFxdTU0uLdJq3jIBFCLD8tggmruSGCDCxdMNJ5yGrAwEWTOqYh472IrYgluBrhgX4mHVjCD5ozihx1dX0YmyMHFAEWsr7QoJpb2EhNZ8+7Ywu8D10hADShmyN3EaDlg+WCeV1S/rSCv8VTn1R4ihIoX1EXlZo9L9VpIHCy5f1OTnEPseOQt492mX57R7zzKPsOAJMLDuOGV/BCNgFARZMdoHRqY2cKjtF1y+9USzE714ziirqKxx+/+iqKpHeQDJ3xXZ8RDh5sv+kw7HX8w1ALIetvEM8y72/vFb4UKol76q1uJc2NtIPWVlnpQjB74ULI2BPBFh+2xNNbktPCDCx1NNs8lg0hQALJk1NFxVWF9Hg74aIhfjQ72+jktpShw4AKUOejY6SzV1BKCdHR1FoZaVD78uN6xcBz3RPUpLHP5P/pIWeC6myXtvPFILxvBofR/08PeTfC1KEIN/k0ZIS1ujr95F22chYfrsMer6xyhFgYqnyCeLu6RcBFkzamVssvEf8OFKQSgQ3ya7IdljnU2pq6KXYGHmBDEKJVAhRVfqIyOkw4LhhswiE54bT47+MFc/vkpNLzNbT0omyxkaD7uI3gt/KyKBAobWE9pILI+AoBFh+OwpZblfrCDCx1PoMcv81iwALJm1MHaJlPrrxsb9MBhf3oYSiBId0vKihgd5IiDfwofx3dBRBc8mFEbAGgdSSVHpu5/Pi2YVPcNc53eiLY7OsaUoV1yBX67GSEnouJpqgkUysqZH7FVNVRSEVFRzVVUaEdxyJAMtvR6LLbWsZASaWWp497rumEWDBpP7pgx/a8zuniIV59/k9KCg7yCGd/rO4mAb6+shaSiRqD2OTV4dg7Q6NFtUU03sH36Muc7rJpHLKrhcorTRNk8PHS5elp07Rbf5+8m8E2snvFEF5NDkw7rRmEWD5rdmp4447GAEmlg4GmJtnBMwhwILJHDLqOf750f+JhTkW6EdSjti9Y0iF8H5SorxYRn4937Iyu9+HG3QvBEAioaHEZ+wv4wimsFosBQ0NIhIytJMgkvggVyuivbJpuBZnVD99Zvmtn7nkkdgXASaW9sWTW2MELEaABZPFULmk4rqQdfLifGPYRrv3AaZ7w4MC5QUzFsu1inx7dr8hN6hbBKBZr2o444ObWJRIiFp8PPW45saMQDxSwe+hv/dJ8RtBap2NublUw78RCR7euhABlt8uBJ9vrWoEmFiqenq4c3pGgAWTemcX2snOsx9E8SkAACAASURBVK8UxHL28Tl27yj8xG446SUWzAN8vOlQcbHd78ENugcCXuledNfq4fTK3lcNBqwkaAYnVPoFeVrfS0yg0SHBBF9KqewqKOBIyBIYvFUNAiy/VTMV3BGVIcDEUmUTwt1xHwRYMKlzrqPyo+jqBT0FqXxx90t2DwayOS9PBB6BWd9j4WEEcz8ujEBHEUgpSaFJ2ybJWvWei65xeAqcjvaxvfrNp0/T/sJCGhseJmvu8bvwKnVsKp/2+sXnGYH2EGD53R5CfN5dEWBi6a4zz+N2OQIsmFw+BWd1oLS2lJBOBL5pD254iBAR1l4FGqQvMzLkBfTU2Biqb2mxV/PcjpsgUF5XTh8c/lBEeMVz2nl2V3rrt7eosLpQMwiUNDaKYDy3+vnKv4frPE7QM1GRdLykxEBjqZlBcUfdCgGW32413TzYDiDAxLIDYHFVRsCeCLBgsiea9mlr2t7pglQOWj6YQDLtVaCZeScxQV5Ef5KSzItne4HrRu34ZfpRny+vk7WU4zY9QbEFsZpDwLO0VP4twIfys5RkOlVXp7lxcIfdFwGW3+479zzythFgYtk2PnyWEXAYAiyYHAatVQ0fTj4sFuxXzOpCWMDbqzS0tJCUvB1mfj9kZdmraW7HzRDAy47ei/vQkBVDCc+rFkpVUxP9nJtLq7Kz5e5Cez8lJloc54BVMiy8oyEEWH5raLK4q05FgImlU+HmmzECZxBgwXQGC1fvVdRX0A1f3yiI5cw/ZtqtO4hg+c/ICKGdQcoEBCLhwghYikB6aTrNOTHXwM8XPsCNzY2WNuGSeiCOJ8vK6JW4WLrey1M8/zd5n+SIri6ZDb6pIxBg+e0IVLlNPSDAxFIPs8hj0CQCLJjUM21vHHhDkMoB3w6k6oZqu3SsoqmJHgoLFYtqLK6PlJTYpV1uRP8IIHUIcqheObe7eC53x+zRxKDz6utpSUYG3e7vJ5u6Qks/LMCfvsrIIGgvuTACekCA5bceZpHH4AgEmFg6AlVukxGwAAEWTBaA5IQqJ9JOiMU7AqF4pnva5Y6FDQ00KjhILK6R0N2/vNwu7XIj+kYA+Sg3hW+ivl9dLz+Tj/z8qGb8KOErCSKJD9LpvJ4QL559raU+0fdTxqOzBwIsv+2BIrehRwSYWOpxVnlMmkCABZPrpwmaoZu/GSgW8YisaY+SX19PdwUGiMU1clRGVp1JXG+P9rkNfSIQmBVId68ZJRNKaM/3x+03MINV08iz6upoXloqeZeVyd1Krqmhh0JD6JfcXKpubpaP8w4joDcEWH7rbUZ5PPZCgImlvZDkdhiBDiLAgqmDgDmg+oeHPxIL+ZuW9afK+kqb7wBTwDtaSeUtfr6UVFNjc5vcgP4RgKbytu9vF88icqguObmE6pvqVTdwRDf+o7iYJkZFEtKDQDP5bHSU6vrJHWIEHI0Ay29HI8ztaxUBJpZanTnut+YRYMHk2imMK4yjLnO6icX8wcSDNncmp75e+JJhsQ1SmVpba3Ob3IB+EUCOVGUQnqMpRwnpbvIq81Q3aJh2w0dyqJHv5GPhYRyQSnWzxR1yBgIsv52BMt9DiwgwsdTirHGfdYEACybXTSN8vh7a8LAglU9tfcrmjsAsUApYgqTv6UwqbcZUzw0gVcjg74bQUu+lmhim5C+MlyaI7vpRchIlsjZeE3PHnXQMAiy/HYMrt6p9BJhYan8OeQQaRYAFk+smbkfUr4JUdpvXnZDSwZYCTaVEKqHR4UTvtqCp72vxrE3cOlE8ewgWNWj5YGpqUVekVOSVhI8kUuVIBblX7wsJFsc576SECm/dGQGW3+48+zz2thBgYtkWOnyOEXAgAiyYHAhuG03Dl7Lf0hvE4n6ex/w2arZ/CiaCkk/lbf5+lFlX1/5FXMPtEKhrqiM8a3iRAUIJE+z3D31A5XXqiRYMrTuiuvb3Pil8Jzfk5srz1HL6tLzPO4wAI0DE8pufAkbANAJMLE3jwkcZAYcjwILJ4RCbvMFHf34sFveIuokFv7WltLGRRgYFikU4fCoz2PzVWih1fZ1fph/hWQOhxAcm2PDvVUOBSbhvWRk9FxMtB+OBuSvMubfkqc/XUw2YcR8YASDA8pufA0bANAJMLE3jwkcZAYcjwILJ4RCfdQN7BeypaGqi0SHBglQO9PUhpFngwgiYQiC+MF5oKKElhwm2WnI6wqRVeoZBJvF5PDyM9hcWEqK/cmEEGAHzCLD8No8Nn3FvBJhYuvf88+hdiAALJueCjwU9ks1Da2RLwB7k50OuPizEb/bxprjqaucOhO+magQQ7RURXpUFUYftkc5G2aY1+8b+keMjwqmflye9nhBP0Zxv1RpI+Ro3RYDlt5tOPA+7XQSYWLYLEVdgBByDAAsmx+BqrtUD8QcEqbxyrvUBexpbWmhCZIQglYiOGV5pe+5Lc/3l49pDwCvdi4Z+fxt1nt2VwnLDVDMApL55LzGBbjzpRQg2JZWUmhoqbmiQvvKWEWAELESA5beFQHE1t0OAiaXbTTkP2BIEvLy8aNy4cdSjRw/q1KkT7d271+CyqVOniuM4J33uuusugzrtfWHB1B5C9jsPLdLg5bcIYvnZ0c+tahgBTF6OixWk8novT/IvV0/gFasGxBfZDYGimmJ6ec808XxBI97ny+voUNIhu7VvbUN4Rp+NjhLPrGTuujwz09rm+DpGgBFoRYDlNz8KjIBpBJhYmsaFj7o5An/88Qd99tlntHv3brPE8tFHH6W8vDz5U1JS0iHUWDB1CC6bKn/r+61Y9F+3pK9VJokwo/0wOUks0K/zOEGHiott6g9frA8EWk630IbQDXTN4j7i+bpiVhd648AbVFpb6rIB4gXIb0VFsrm2RCifiowgz9JS1fh4ugwgvjEjYAcEWH7bAURuQpcIMLHU5bTyoOyJgDmN5fjx4226DQsmm+Cz+GJok3ouukYs/NeHrLf4OmXFpadOyVofjpapRMa99ydsmSBrKe9YeScFZAW4HBBEK4ZGHYSyr6cHvRYfx37ALp8V7oDeEGD5rbcZ5fHYCwEmlvZCktvRLQLmiOXll19O3bp1oxtvvJGmT59OBQUFHcKABVOH4LK68ju/vyMW/3esuouaW84kfbe0QSSLl7Q+37IZoaWwuUW91YGrqfv8HrTMZxk1tTS5ZMxVTU20LT/f4N6z01JFTso8hT+lQQX+wghoHAFYkTS0tFB5YyPl1tcT/IWjqqqEi8KxkhIR3Xhrfj79lJNDoQ7whWf5rfEHiLvvMASYWDoMWm5YLwiYIpbbt2+n33//naKjo+nAgQN066230qBBg6i+jYUczkEYSZ+srCxhZovvXByDANKLdJ59pSCWHmkeHb7J8ZISofUBsfw0JbnD1/MF+kIAz5DyOYIpbHZFtksGiaA7c9NSCUGk8Hyyz69LpoFvaoQATLHxsqOgoYHSamtFtOHAigphhv1HcTHtLCggvKxbnZ1N32Rm0sL0NPpfagq9n5RIbybECz/2f0dHEUy3kf7mgdAQGhUcRMMC/GmIn6+IxH3DSS+DvKvSiz9z2wXpaUa9tP0rE0vbMeQW9IkAE0t9ziuPyo4ImCKWxs3n5ubS+eefL3wyjc9J32fNmiUH+kGb0oeJpYSQ/bfjNj0hSOXT257ucOOx1dUiiiYWKy/GxrBvWocR1M8FJbWlNH3vK+JZumnZzVTd4LoUM4jq+kFykmzuiufzHwH+BC0NF0agowhA61fS2EjptbUUWVVFPmVlwod8R34+rcvJIVhpzE9Po49TkumthHh6KTaGnomKpLHhYXR/SDANDwygW1sJn2SCbY7gOeo4/N5BNgf6eNNQfz8aERRIY0JDaFxEuOjrdiONfkcxMlWfiaUpVPgYI0DExJKfAkagHQQsIZZo4oYbbqDFixebbY01lmahccgJ5BJEhM6uc7pRSklKh+6RX18vFktYCD0UFkr1LS0dup4r6wMBmNttj9pB1y7pK54lPE9vHnjTqgBQtiJS0dQkNDrwm5QW6NDk7CoooObTp21tnq/XIAJ4PpFXN7uuTmgGvcvKROCmzXl59H1WFkFTh6Bj8LNFdGCQwdEhweJFxAAfb5HDVHqWHLEF0USuXxDPuwID6L6QYHo0LFSkbEJ/EGUbWkpoKz9PTRHay2WnTtGq7Gz6OTeXQAj3FxbSkZISwtiCKioopqqKkD4H5q9ljY3CHBY4OLswsXQ24nw/rSDAxFIrM8X9dBkClhDL4uJiuvDCC2njxo0W95MFk8VQdbgiTBTvXDVckIH//vHfDl1f09wsFkBYaEEThLf5XNwPgczyTHpy83iZUN66Yij5nvJ1GRDIoQptDJ5LvOz4s7iYtegumw373xjzC/NRECev0lLaU1go/AO/zMigj5KT6NX4OJoUFSmi/d4ZGCC0c8qXDLYSQ5DAgb4+4j/vnuAgeiw8jJ6OihTWGtBUfpycJDSXMF9dm5Mj/HoRfdijtJRg6op+Z9TWUlFDA+E/1BayB79J4KHmwvJbzbPDfXMlAkwsXYk+31u1CFRVVVF4eLj4gFguW7ZM7J86dYpwbubMmeTn50fp6enk4eFBI0aMoF69elFlB4IEsGBy3PRvi9wuCMHVC3oSosJaWrAY+ldr3r/+3idFQAhLr+V6+kEgoyyD8OxAQ3nl3Ktonsd8qm+qd+oAYZb4dmKCwQIbaW6gueGifgTwX4IIvfHV1YIo/lpQQD9kZdGs1BShpZscHSVIIl5eSX6y1pJDmIJCM4i2oBV8MiKcpsREC9NV+IYvycgQPo0IZnOwqEiYuyLQDYggtH5NTiBxuN++wkJBSkGWoUmdFhcrfCnhR6kkotBmhqg89gDLb/X/BrmHrkGAiaVrcOe7qhwBkEXJB1K5nTp1KtXW1tLDDz8sIsLCr7JPnz6E45kdjBjKgskxD0FDcwPd/M1AQQoWei7s0E3gU4TFHTQBfuXlHbqWK+sLgUnbJtF9a++n+MJ4pw4suKJCaKYkkrExN9ep9+ebtY0AgtPAVD6sspJ+LyoSRAk+iNDqQcMHYneLn68c9EuaR0u3eKGFQDUPhYaI52BGfJzwb/wqI0PcC5pM5CONqKykzLo6EShHScra7r19zyJgFExW0Tf4/U6NjRHmtvBxBAbKfoEstoUBTL2l8kZCPCFwmpoLy281zw73zZUIMLF0Jfp8b7dGgAWTY6b/e//vBans+1W/DgVZyaqrEwEgsPjhtCKOmRu1ttrY3EhLTi6hwupCuYuV9ZUEk2pnFbzIGB8RbrD4htYJQaS4OAcBmF+CrIEwQcMIs08QpudiokUwGGsII7SRIIqPhIWKdt5NTBAmpT9mZ9PuggKhgY6rrhYmpGrwlYVmEX67K7KyRCRsaBWfiAin4UGBNMjXp0NkESatUkEEYwTUAfkGWYYmFfmBQUwPFBUZ+LErCal0vdq2LL/VNiPcH7UgwMRSLTPB/XA7BFgw2X/KK+orqPeX1wpiuSZojcU3wEIG4e1BKrH4UcMCz+LOc0WbEAjNCaVhK+8Qz8zzO6fY1JY1FyP4CtIqSNocmDVOj4ulxJoaa5rja0wgUNfcLKKegjBC4weT1C9SU0RQG/zu7w0OEqQJ2Evz0N4W/ojwRZwYFUnQsM1LSxU+kSBJCDIDgqqWoF9I/wGTXEQOhgYcKT7QZ4wdwXyURK49zSLMe6UCYvjPyAh6JS5WEEW8kNuSl0dHS0qERlXtfpLSOKzZsvy2BjW+xh0QYGLpDrPMY1QlAiyY7D8ts4/PEQRh8PJbCFooSwsWQ1hIwgQWCzAu+kegtrGWPjnyqZznFC8ktkZuc8nAEa0Tzx4W+8j9x8UyBECIoBWLrqqiw8XFIj0GNGOIggrtL0wyYVraHklUnsc8IEgSAiTBtPOTlGQRYXVvYaEIUoMIrM7wSbQMARKkEKa5Aa1aVpC9/yYlGpBFyW9cOU7lPgLuSAWRZGGG+3xMNM1MShRaRUSZBVkEzmoau9RnV2xZfrsCdb6nFhBgYqmFWeI+6hIBFkz2ndb8qnzqPr+HIJa7YnZb3DgWZVLwDAS54KJ/BBDddfB3Q8SzggA9z+18ngqrixw+cBAhLNBBJAsVi/mE6mqh4XJ4BzR2A1gOgMj5lpURAs8g6AvSU0BLhvQVyF2oJEht7fdrJYwPhobQv6Oj6L3EBFqckU4bcnNFQBsEi8F/AXwo1VTwzEBLGFpZaUAWQQBhYtvPy9MkBkqyiHQeN570EuaswO71hHhhjrs+J0cQ8trmZjUNWRN9YfmtiWniTroAASaWLgCdb8kIAAEWTPZ9Dt79/V1BFO5eM8pgAdbWXbBok97mw6xNz6ZbbeHgTud+jd5JV8zqIp6Vvl9dTwfiDzh8+BKhRPRLifzAx4wLEYK2IBAO/PqgbQNxhE/f7QH+FgfAgVby7qBAmhgZIYLowNQTvnvIfwgtG1IGYQ7UXtBXkD3kdITGEP9JIITSM1OseBkB30/pOEx44f8JLetLsTHCzFdZl7WM9p95lt/2x5Rb1AcCTCz1MY88Cg0iwILJfpOGnINICwHt0/HU4xY3jOAZWJzB/A1BK7joH4HyunK64esbafreV6i0ttShAzZFKKFhQqqFvHrnpi9x6EDbabyyqUmkj9iWn0/QtL0cF0v3hwRbZKYqmaYiryJ8+WDqCtIIf0H4oSJnolYKCC78PDfl5Qnyh6BAygA3MGGVyKLxFj6dCPIjFQR1QnTY9NpafiEmgeLELctvJ4LNt9IUAkwsNTVd3Fk9IcCCyX6z+fr+1wWpfHDDQxY3ioAWg319xEJuTlqqxddxRW0hgOiuiBSs1Fg5mlACIZhUKoPySIQS5pZ6LBjvqbo6oSX8LjNTaA4fDQsVQXGMSZLx9wE+3gRtLggniOMvubl0sqxMmAdrLZAWcFCa08J/G5pE5Jk0Hje+I9CPVFAXvqEw012emUm/FRWJqMBaIs/SWPS+Zfmt9xnm8VmLABNLa5Hj6xgBGxFgwWQjgK2Xp5emU5c53QSx9M7wtrjRz1KSxUIPgTrYx8hi2DRVEdrrm5bdLJ6N9SHrnd53EAQQSpgt6oVQgqAj4umh4mL6+tQpoUVEVNXrzfj6SWRqoI83PRwWKgLrIO8horNGVlWJPIxOnxg73BDkMbW2VpA/+GbDBHVUKw7hlZXyHZC2Q8IAW7zMgo/t24kJBAKeo9MXDTIAOt1h+a3TieVh2YwAE0ubIeQGGAHrEGDBZB1uxlfBpBEmsI9tfNz4lNnvCJYCEzss9A4WOT5oi9mO8AmHIAAt5ZsH3hTPBZ6N/t8MII80D4fcS2oUeShBGBBkRSoIoKJlk1ekQkG00TXZ2fROYoLQvCl9/pSECfv4Td0ZGEBIWYF0HtDAQSMHP0otFwRaAhZSQcqOtog0Ag1JJbmmhmACDD9SWElw0QcCLL/1MY88CvsjwMTS/phyi4yARQiwYLIIpjYrJRcny+kiArMC26wrnYTGZVxrInrkoOOiLwSUWkqQyrd/e5uqGhznPxtcUSHMFyWSNUmjzxQijx4vKREBdKbERIuIo9KYjLcgkMMDAwj14DMJ7SNe1mg9+BWC3MCPEcQQaUaejAgnaFoxfoxRKn8UF4tjiDSLoEEvxsaIiLX7CwsJRJKD5UhI6XfL8lu/c8sjsw0BJpa24cdXMwJWI8CCyWro5Aun7n5RaKXGb/6nfKy9HUSfxEIRi0LOGdgeWto6v8hrkdO0lAj2BBIpkS6QLeShhJmo2gs0Z16lpYJEIoAMzMGlcRhvETQGfn+IYgvChXE3tLSofYjt9q+uudlAg4g0MOZSdwAT+DxKBfghcBATSAkR99uy/Ha/OecRW4YAE0vLcOJajIDdEWDBZBuk8YXxctqIsNwwixrDghBh+bFQnMcBeyzCTEuV/DP9hQbb0VpK5AWUCBhSPSBaqVpfUiD4DdJYrMvJoRnxcSL/o9R34+3t/n5CC4m0H0jVoRe/0PqWFoJm+cfsbOHjCS0jXgTAR1QqSTU1Yk6RG/Oh0BARQAeYBVZUGJjBSvV5694IsPx27/nn0ZtHgImleWz4DCPgUARYMNkG779/fU5opyZtm2RxQ8gPh8U0B+yxGDJVV6xuqKYTaScM+phWmmbw3RFfVrYGZIEpKExA1VTw8gQmrXhxApNvECVjAonvQ/x8CdpKkEiP0lKDtBdqGo8tfUGUWgQWAok0hQGItlQQjAdmrMqIrtI53jICxgiw/DZGhL8zAn8hwMSSnwRGwEUIsGCyHniltjIqP8qihhDBUVpg/s4BeyzCTM2VEAF4wLcDqdu87pRYlOiwrhY0NBDyCyLnqVSgAUNEUzUU5EaEbx8iz94THETQoBqTKJBLBBZCQB08+whGo5dS3NBA8Hmc3Uqk4RspFZi7Sr/5/t4nhUnvrNQU2ldYKEyWlSlopGt4ywhYggDLb0tQ4jruiAATS3ecdR6zKhBgwWT9NLy4+6UOaysRqRILbgTk4AWl9di7+sraxlqaeeh92Qz6xq9vIr9MP7t3C4nrQcSk6J//CPBXhU8d+nWgqIhmJiXS8KDAs0gknvFb/XxF+guYfsInUmu5INuaTGgUYaL6anycyQBDINfKAt/J9Npa/s0rQeF9mxFg+W0zhNyAThFgYqnTieVhqR8BFkzWzVFqSaocCTY0J9SiRpBsHQtuaHNiVKJpsqjjXMkAAUT+veW7W+UAPa/sfZXK68oN6tj6BcnoYR56k/dJmbTdFxJMJ0pLbW3aquuhHYWpKvKujg4JNqmRRIoP5EXckZ9P2RoIHmQpENA4+paV0a8KbTGuNQ42dEdggCCaP+XkCCJtaftcjxGwFgGW39Yix9fpHQEmlnqfYR6fahFgwWTd1Ly2/zVBLJ7Y9KRFDUBbg8TlIJbIxcdFmwjMOTGXOs/uKua+71fX08HEg3YfCEwkB/n6yIQSKTWgHXSmhhv3iq+uFlFI/xkZIWtM8fxKn2EB/uJZhnmunsxa4R8KDSPMVR8OC5XNWJE7U+n7uCQjQ9Q5XFxMZY2Ndn8OuEFGoD0EWH63hxCfd1cEmFi668zzuF2OAAumjk9BVnkWdZ3TTZALS80fkcwcC3IsTpGwnos2EVjguUDM+5RdL1BJrWO0h8dKSsSzAo3Ylrw8p5mQQksKP8F3ExPO0sbh2UXKj2lxsaJPOfX12pzAdnr9VkK8SW0sxo4gQ0wg2wGQTzsVAZbfToWbb6YhBJhYamiyuKv6QoAFU8fn872D7wly8dCGhy26GBoQLEyxOF+mSC1g0cVcyaUINLU0UW5lrtwHfD+cfFj+bo8dRE/9JffMPaAthBYQ5qeOLnn19cJX8OmoyLPyJyLgzBMR4fRtZqZIFeJMjakjxw0CDcz/l5pCY0JDqFShbZyTliqTeqRv+Tk3V0Rp1cvYHYkrt+18BFh+Ox9zvqM2EGBiqY154l7qEAEWTB2b1PyqfBEB9PJZXc5KMWGuJZjUgVQiP58zyIK5fvDxjiGQXJxM9/x0L/3jh2FU32R/DV1oZaVIxYFnAxFTnaXJRq5L5E68PyRYPJe4v/RBflX4SSJqK16I6KE0trSQX3k5LUhPo0cVpq3SmGFmLBUQ7Uwd+YdK4+KtPhFg+a3PeeVR2Y4AE0vbMeQWGAGrEGDB1DHYPvrzY6GtBOGwRIuBRWo/L0+xcIfvHBf1I4B5XRW4iq6a30PMdY+FvSgkJ8RuHUfKmRdiY2QyB83g+0mJBpozu92stSHkRvwyI0P285VIFbYICrQoPV0EnLHkmbZ33+zdHvwgGxTa3vU5OTLW0rgH+/rQ9LhY2pSXpyv/UHtjye2pGwGW3+qeH+6d6xBgYuk67PnObo4ACybLH4DimhLq3ko2LA3agnQEWMw+EhZqERG1vDdc0xEI5FTk0OO/jBWEElrph39+hDLLM+1yK+Q6RC5KKachnouX42JFGgq73MCoEbzUgOn1va1BoyRShajEyCe5JjuboKHTQ0EUWvgxT42NoQE+3rQyK0seFjS0N/t40/Mx0WLMINl6INDyAHnHbRFg+e22U88DbwcBJpbtAMSnGQFHIcCCyXJk53nMF4TjjlV3WbQwja6qkjUlgRUVlt+Ia7oEge1RO6jXot5ijrvN604r/FdQy2n7+Tmm1NTIpHJ8RDhFVFbafZwILrM2J0dEM5WIJLYgk8iduiE3l0BwtV6gkTxSUkIfJicRouYqx4r9f0dHyUMEiVRGc5VP8A4joHEEWH5rfAK5+w5DgImlw6DlhhmBthFgwdQ2PtLZmsYa6v3ltYJ0gIBYUiZGRYoFr3KRa8l1XMf5CIBAjlk3RszviB9HUkKR7SlhmlpayNMo7+R3mZl2z0UJH0L4CeI5U2pDQbDgUwjNpLP8Nx05c5UKn0/sG48VJr2z01LJu6zMwBTWkX3ithkBVyLA8tuV6PO91YwAE0s1zw73TdcIsGCybHpXB64WpKP/NwMIkUHbK1jcSpqixJqa9qrzeRchoDSJTC9Np/keC6ix2bachGjzYFER3dWqSYusqnLI6GKrq+nj5CRh+qnU2I0IChTBeWAequVS19wstJIzkxJF4CsQR2WB2etr8XG0s6DAof6pynvyPiOgJgRYfqtpNrgvakKAiaWaZoP74lYIsGBqf7qbW5pp4LeDBLH83v/7di8AsUAaAyz2kRePi/oQgAb6nd/fof8c/I9dOxdSUUGPhYfJppn9vU8KbaK9boJUGUiBAZKlJJMDfbwFyXQUibVX/9trBz6fCLYzKSqSrm8NeiWNs5+nBym1lu21xecZAb0jwPJb7zPM47MWASaW1iLH17kEgebmZgoPD6dSIzM3l3TGxpuyYGofwF0xuwWpvGZxH6puqG73AkR/xWIYC2O9BEdpd9AaqhCUHUSDvxsi5vSKWV0osSjR5t5n1NaKwDFKEvRZSjKVK3Ik2nITBJyBP+FN3idlQglT0MnRUSI1CMxhtViUGmP0/7mYaHl8wHKQrw+9nhBPZI+9yQAAIABJREFU+E3pJf2JFueJ+6xOBFh+q3NeuFeuR4CJpevngHvQBgLvvvsurV27VtQAqbz77rvpnHPOob///e/k4eHRxpXqP8WCqe05wsJ35I93CxIy6/jstisTEfzq7mg1gUT+Si7qQQAmrnNOzKXOs68U83n90hvpSMoRmzuIOUf+R4lUIo2FvXIh+pSV0YTICLlt3GOovx8tPXWKCjQahAck+ERpKcHE9VY/X1Kaim/JyxPa2IXpaRReWWlRkCybJ5AbYAQ0igDLb41OHHfb4QgwsXQ4xHwDWxDo1asXBQf/5d+zd+9e6tmzJyUmJtJnn31GI0eOtKVpl1/LgqntKfBK9xIkBFFCC6vbz0Mp5cyDCWSFIthI23fhs45GAMF4EJQHKUTweX7nFCqtLbX6tohKqtS2rcrOFik8QIZsLWj3cHExPRQWakAoJ0ZG0KHiYmo+fdrWWzj9epjwQus4LS7WQOsKogySLBUlptIx3jICjIBpBFh+m8aFjzICTCz5GVA1AhdeeCFlteZFe+WVVwgaTJS0tDS67LLLVN339jrHgqlthJ7cPF4QkTcPvNl2RSKqV2iuvs20T+7Ddm/KFdpFoL6pnvotvUHMI9KJ7Ij6td1rzFUA8dlTWCiCyWArFaSzsJUU4fr9hYU0SpF3EuaubybEE1KVaLUEVVSc5S+JvJIIvPNbURGBdHJhBBiBjiPA8rvjmPEV7oEAE0v3mGfNjrJPnz70559/Esxge/fuTb/99psYS0xMDF1xxRWaHRc6zoLJ/PTFFMQIMgI/vJSS9s1aobWS/MJqebFsHlgXnNkWuZ3G/jKOcipyrL47CJJSi4h9exQQSqQLURJK+Oci4mtufb09buG0NkoaG0WuzK35+fI98VvAeGDCCz9RmPdqUesqD4h3GAGVIMDyWyUTwd1QHQJMLFU3JdwhJQKzZs2iyy+/nG6++WYCyaxvXeytW7eOhg8frqyquX0WTOanbNre6YJYPrN9svlKrWeweEagERBLEEwurkMARG1zxBY6lHRI7gSO4WNNgb/ki7ExslkqSNKctFSbg8mgP38UFxsQyhtOehF8c0HQtFKKGxpEJNcnIsLpOo8TAqc7AwMMun+qrs5q/A0a4i+MACMgI8DyW4aCdxgBAwSYWBrAwV/UiMDOnTtp2bJlskks+vjzzz/Tvn371Nhdi/vEgsk0VAVVBXTl3KsEsfTP9DddSXEUie9BKhHEBSaxXFyDQFFNMU3e8S8xb9ct6Uv4bkv5MTub+inSXrwSF0v2yA/pW1ZGD7WmpMFzA0L5hcYI5fb8fFKSSYwDn7uDAmlReroIZGUL9nwtI8AItI0Ay++28eGz7osAE0v3nXtNjHzjxo2yllLZ4YaGBsI5RxUvLy8aN24c9ejRgzp16kQIHKQs0HhAm4rzF110EY0ePZpgntuRwoLJNFrzPOYLcnL3mlGmKyiOVjc3y0nq1+VYb2qpaJJ3rUDgYOJB6vtVPzFvXeZ0owWeC6ippcmKls5ccrSkRJAl5KYMs0NgnqiqKkIQHomEgbR+mpJM0PqpvSDdh1LrC5ItjQNmvF9mZBDSonBhBBgB5yDA8ts5OPNdtIcAE0vtzZlb9fjcc8+lgoKCs8ZcXFxMOOeo8scff4jIs7t37zZJLBcvXiyCB+F8dHQ0TZ48WZDMyg4sgFkwnT17CPYiERT45rVXvj51Siywb/P3I63mE2xvjGo+X9VQRa/tf00QSkR8vXXFUArNsc7/EURyU16ewXD9yssNCJXBSQu/wFdyRnycTMRgMvpWQjzlqNyHEoF1dhUU0LPRUdTP08OAXAMXJpMWPgBcjRFwAAIsvx0AKjepCwSYWOpiGvU7COSsLFREgJRGGhERQZ07d5a+OnRrrLGE5uDqq68mkEupwPcTvqCrV6+WDrW7ZcF0NkSbwjcLkoJIosh92FaBFgepRaC5MSYkbV3H5+yDQFldGQ34dqBMKmceep9qG2s73Hh8dTU91apJhFlqoZ00iNBmz0tLNYiKOiUmWtWaPaRSOVhURC/FxggTXUkrie1XGRkdxpYvYAQYAccgwPLbMbhyq9pHgIml9udQlyMYOnQo3XbbbUIrecstt4h9fMdnyJAhQls4adIkp4zdmFimpqYKLWZYWJjB/Z988kl64YUXDI4pv4B8QhhJH6RRQdv4zoWEZmr46hGCqCzyWtQuJNDYYME9LMCffcraRcsxFV7eM41uWtafPNI8OnwDmKC+l5ggB51Beo8PkpOo3MbgOUg/siUvTw7ohGfkwdAQClT57wwEW3pRIhFKRHP9PDWFIquqbNbcdniC+AJGgBEwiwATS7PQ8Ak3R4CJpZs/AGod/uzZswkfaCzff/99sS8dW7hwIW3dupXgZ+mMYkwsfX19BSHMMfLpQ57Nhx9+2GyX4JOJtow/TCz/gsz3lK8gld3mdW838EtlU5Oc7H2bIr2CWfD5hF0QiMyLpLzKM+aqFfUVVF5X3qG2oZVDrtEbT3rJ5qnPREVSkh18BOGL+YAiMA+I2e6CAtWRMlg9oK/QTkqlqaWFkGNyoK8PzUxKJH87mAFLbfOWEWAE7IsAE0v74smt6QcBJpb6mUtdjgTRX+vq6lw6NnPEMjc316Bf06dPp0ceecTgmPILayyVaJy9/68dzwpi+eq+GWefNDqytNW38o7AAM7LZ4SNI74iEM9ir8XUdU43enLzeJuIWmJNDUE7Ca0coph6lpba3GVoP99MiJeJKtKSwHRUbVGC02traWF6mtCyY/yDfX0IGlapIAAP55mU0OAtI6BeBJhYqnduuGeuRYCJpWvx57tbiAC0kzAdPXXqlMHHwsttqmZMLK01hTXuBAumM4hklmdS59lXCmIZnR995oSJPQQ1gWYHC3OYPHJxLALJxcl070+jxdwgQM/T256mmsaORSA1DpSzID2NNuTm2kyioPnbmJtrYEI6NTZGVYF5Shsb6aecHIMUJ3h2EZX2+ZhownkujAAjoC0EWH5ra764t85DgIml87DmO1mBQFJSEo0aNUr4WiIKrPSBiawjo8Iqu2pMLKXgPV9++aVcDcSXg/fIcHR45+M/PxHE5eGfzWt8pUZXZGUJUgkzR5gPcnEMAi2nW2hlwEq6an4PMTc9FvaiX8J+6ZC2Mr++nl6LjxMaSvgJ2rPAJ/GRsFBZSzk8KJC8y8rseQu7tAU/UhBJ6TMuIpx+yc0lmHNzYQQYAW0iwMRSm/PGvXY8AkwsHY8x38EGBEaOHEn33nsvIf1HeHg4IRqs8mND021eWlVVJe6He4JYLlu2THyHxhQFEWFBJPfs2SPSjTz77LOcbqRNRM2fhPar16LegrwciD9gviKRMG0c5OsjFulrjXxc27yQT3YIgcLqQnp042OylhKEH1plS0ttc7NIh4EorxKhgvmyPQranp2WKpvTwuwVaWdcnW5G8pv8b1KiQaAgBA0aGRRIy06dUpUm1R5zwW0wAu6KABNLd515Hnd7CDCxbA8hPu9SBC655BKKj493eh88PDzOCrIDgjl16lTRFywiEYwHaUcuvPBCQX6Rz7IjhQXTX2htCN0gCMzN3wyk5pbmNiGESSGICnzT1OY/12bHNXayuqGaBn47iK6adzV97/89QXtpScHvYmdBAd3q5ysTyvtDgkUgGkuub6/OsZISut3fT257YmQEZdR2PMVJe/fpyPmChgYRjGhEUKDcrzcSzvxnARMujAAjoC8EWH7raz55NPZDgIml/bDklhyAwLBhw8jb29sBLbu+SRZMf83BiB9HCmL5lfdXbU4KNFIwfwWx/D4rq826fLLjCBTVFBsQyLDcMEosSuxQQ4juKmkob/Hzpa35+QbBaTrUmKIyTGrhOym1Da31nsLCDpnlKpqzeRcBdvYXFtLTUZFyuhT0rZ+nByFX5gk7BCSyuZPcACPACDgMAZbfDoOWG9Y4AkwsNT6Beu/+8ePHacSIEQQNYnFxsZwDEn/q+Gi5sGAiCs4OFqTyyrlXUWH1mdQLpuZ1U16eIBYDfLwJAXy42A+B3TF7qPeX19J3ft/Z1OgPWVkE01QE57HHHEEb+UVqipya5DqPEyIVh6v9ExHJdYiRVnZNdjaVcSAem54fvpgR0AoCLL+1MlPcT2cjwMTS2Yjz/TqEAIL0SIF6pMA92ErHOtSYyiqzYCKavvcVQSyn7n6xzdmBhmhYgL8glvby1Wvzhm5ysqS2lKbsekHMASK+3vPTvQZay7ZgAHFE6gxlLkZolY0jwLbVhqlzCMh0oKiI/hkZIWsooQ28NziIQisrTV3i0GNVTU0igu1TkREGfpzQmn+SkkwIIsSFEWAE3AsBlt/uNd88WssRYGJpOVZc0wUIeHp6UlsfF3TJbrd0d8EEUtNtXndBavwy/drEdVdBgSAZN3mfJCz0udiOwMHEg9T3q+sF/p1nd6X/HfuCGpob2m0YPoM78vMJpq4gfPB5tIe/a2FDgwj4I7Urmb2ODQ8jzL8z8ztijAHl5SKiLTSwUl/2FRa2iw9XYAQYAf0j4O7yW/8zzCO0FgEmltYix9cxAjYi4O6C6VvfbwWpuWPlnW36ymGRPzokWCzu56Sl2og6X15eVy5riqGlHLJiKAVlB1kETFBFBT0QGiITLZiD/lpQ0Ob8tddwSEUFTY+LlaO8gsQhTym0gSk1HcuX2d692jtf3tgo/HeRukQik9hCWw5NOQL1cGEEGAFGwN3lNz8BjIA5BJhYmkOGj6sGgZMnT9Jzzz0nfC2zs7NFv3755RfNB/VxZ8GEKKODl98iiOWaoDVtPmtepaVikY+E8kW8sG8TK0tORuRFUJc53eiKWV3o/UMfUG1j+1FVYd46LS5WJlvQ4i3OSCek/rCmSMFvHlLkoQSBuy8kmLbk5VGdle1a0xflNVFVVQZjBOH1LSuziTgr2+d9RoAR0AcC7iy/9TGDPApHIcDE0lHIcrt2QWDXrl108cUX0/Tp00Vaj9TUvzRWP/zwAz322GN2uYerGnFnwXQs9ZgglVcv6ElVDVVtTsGEVl+7dxIT2qzHJ80jYJzGZXXgavLOsDza8p/FxTLhejU+jnLr683frI0z8MtclZ1Nt7f6y4JM9vX0oJdiYwxyP7bRhN1OlTY20vLMTDLWgmN86CO0l1wYAUaAETCFgDvLb1N48DFGQEKAiaWEBG9VicDQoUNp48aNom+XXnopScQyPDycunfvrso+W9opdxZMz2x/RhDLd35/p024ohUaJGebRbbZMQ2d9EjzoMHfDSFoKi0tMD9ONDJD/Tw1hWC2ak1BtFQE+oGJq2RiCn/Z/6WmWE1SrekHxuVfXi5Mb5EaBH3BFiSTCyPACDACliLgzvLbUoy4nnsiwMTSPeddM6OGtjI9PV30V0ksQTAvvPBCzYzDVEfdVTDlVORQ59lXCmIZWxBrChr5GEwRsfh/LiZaPsY7liEATfC7v78rcIYv5YQtEyy6MLDVj/LGk142mx7n1dfTxynJdMNJL5lQ3ubvJzSC1U40d0V6kh+zs2mkke/kqOAgQpoQe6RGsQhcrsQIMAK6QMBd5bcuJo8H4VAEmFg6FF5u3FYE+vXrR0ePHhXNKIkltJgDBgywtXmXXu+ugmmex3xBdsasG9Mm/tl1dXJAFwSN4WI5Ap7pnnTzNwNlUvn6/tepsr7tVB3A+2UjP8rDxcWW31RREz6Z/01KFNpASUMJUrc9P5+QTsTZZUlGhkxs4R86Iz6O8ExBg8mFEWAEGIGOIuCu8rujOHF990OAiaX7zbmmRvzll1/SwIEDKSAggC677DIRsGfz5s3UrVs3WrFihabGYtxZdxRM8PW7aVl/QXi2RGw1hsTgOzRdICWPhoUaHOcv5hGobqg20FICa/iztlWgrZufnkbKtBrW+lGCUP7HiFA+GBpCfxQXO43EIfXJ1vx88iwtlYeNaK4gtiuysghmuVwYAUaAEbAFAXeU37bgxde6DwJMLN1nrjU70k8//VQE8DnnnHMIn4suuog+//xzzY5H6rg7CqYjKUcEqey56Jo2o5FWNDXJ5pMgJVwsQ2Bt8FoDLWVFfduaXkR1HervJ2vzEKU1tLJtzaapniAH5QfJSQYaSrR1orTUaYTyVF0dwQ9U8uN8PDzMVFf5GCPACDACNiPgjvLbZtC4AbdAgImlW0yz9gdZU1NDwcHBFBgYSFVVbUcR1cpo3VEw/WvHs4L4wPevrYKcgdBWDg8MoBY2V2wLKoNzSOPy/M4pdDTlL/Nxg5NmvsBk9VY/X9plRT5KvABAVFWlDyUIpYeTCCWejWMlJTQpKpKu8zghE+Rb/HxpUXo6Pztm5pwPMwKMgG0IuKP8tg0xvtpdEGBi6S4zzeNUHQLuJpgKq4uo65xuglhG5UeZnY/GlhYCMQCx3Jiba7YenyBh5vroxseoprHGIjgy6+pEag9E25VKVVNTh/NGwtz0m8xM6u99UiZzo0OCBclzpt/i1NgY+f54XsaGh9G+wkKX+HFKePKWEWAE9I+Au8lv/c8oj9BeCDCxtBeS3I7dEJgwYQLhTxsF+2197HZTFzTkboLpG99vBKkc+ePdbaL9a0GBIAsDfLwJBIbL2QiU15XTjH0zZLPXOSfmnl1JcQTkEZrFfl6eAtsnIsIVZy3fBWnE/CjNZ+8MDKC9hYVOMXmNq642yC+5JS9PaEuhdU2orrZ8IFyTEWAEGAEbEHA3+W0DVHypmyHAxNLNJlwLw33xxRepstXPC/ttfbQwHnN9dCfBBEJy64qhggj9FPyTOUjE8QdCQwT5mZeW2mY9dz15MPEgXb/0RplUIhcoUouYKjAV3ZSXR4N8fWTNHoIhhVnhR+lXXk73hwTL7aDNn3NzqdnBpspo/0BRkdBGQisJTalUGlpaCKSZCyPACDACzkTAneS3M3Hle2kfASaW2p9DHoFGEXAnweSX6SeI0FXze1BbAWWQAgLkoa+nB+XX12t0Zh3T7eKaEpq6+0WZUA5aPphOZpw0ezP/8nK6NzhIJoLIH2mNZjGrro5eUJicInrswvQ0cnQeSkRy/Sojw0A7Cj/KmUmJZsfMJxgBRoARcAYC7iS/nYEn30M/CDCx1M9c6nIkaWlplJSUdNbYcCw9Pf2s41o64E6CafreVwQhwrat8mIrgZkWF9tWNbc89/KeaQLDzrO70oeHP2rXrxKpNUDSEVgHwZA6alZc19xMizPSDdKQvJ4Q73DCD+025h8vF9B/fODL+WlKMiHyKxdGgBFgBFyNgDvJb1djzffXFgJMLLU1X27X23vvvZd+/vnns8a9adMmGj169FnHtXTAXQQTNJTQVF4+qwtBc2mu5NbXy2TCmpQX5trVy/GcihwavfY+CsgKMDmkyqYmUgblQRCk2WmphFQgHS1I8aL0o3woNMQq81lL74u+K8uUmGhBKMeEhghTXqRF4cIIMAKMgFoQcBf5rRa8uR/aQYCJpXbmyi17etlll1FycvJZY8exyy+//KzjWjrgLoIJPpUglfCxbCtiKEgQtFNIV+HuBTitD1lP7aVlAU5NLS30U06OyN/4jwB/gt+htSW7ro6ejY6SNYWDfX1oW35+m/Nm7b0wRt+yMno5LlYEFYpXBN/BfrgVfqDW9oWvYwQYAUagIwi4i/zuCCZclxEAAkws+TlQNQL/93//R2FhZyc6DwkJoUsvvVTVfW+vc+4imO5eM0oQS0SFNVdgdikltt9dUGCumlscTylJoYc2PCwwAyH3SvcyO27kcBweFCgTwWEB/pRaW2u2vrkTIKfLMzPlfJTwZfwkJdkhgXGgnVyVnW3Qb7xQgLkuF0aAEWAEtICAu8hvLcwF91FdCDCxVNd8cG+MEBg7dixNmjSJmhWmcNifOHEiPfroo0a1tfXVHQRTfGG8IEhd5nSjwupCsxOE6KIgF0P8fN02B2FTSxMtObmEus3rLjC7at7V9LXP14TjxgUavaciI2RCCR/EH7KyCOavHS0RlZV0jyLIz4OhIQYmtR1tz1z94oYGeiMh3sBnE4GAXouPo+CKCodoRc31hY8zAowAI2ALAu4gv23Bh691XwSYWLrv3Gti5LGxsdS1a1e6/vrr5bQj2O/WrRtFR0drYgzmOukOgumTI58KkvTU1qfMwSAIxchWrdvXbqq1Cs0JpTtXDZe1lI9ufIzSStNMYgZSCY0iiDgC3HyQnESljY0m67Z1EFriWakpsl/rTd4naX1ODiFFib2K0vQZ9wMBRr+R+xJEuNyKfturb9wOI8AIMALWIuAO8ttabPg690aAiaV7z78mRp+Tk0OffPIJPf7440JTOWfOHCopKdFE39vqpN4FU3NLs5xvcXfMHrNQ+JSVCbIB7VWZGxKNxuZGumlZf0Eqey3qTRvDNp6lvVMSNOw/GRFOk6OjKKmmxiyubZ1AKpI7AgNkjedzMdGE9B72Khm1tfRZSjJB+6kkqtvz8+lkWdlZ47PXfbkdRoARYAScgYDe5bczMOR76BMBJpb6nFcelQYQ0LtgOppyVCZL9U3mc1JObU0xglQW7lr2xu6j53Y+TwVVhv6lIJE7CwpoVHAQFSmIn7VRUqE1hO8ktIb4DPTxFrkt7YE7COSRkhJ6OipSbh/3OFFaao/muQ1GgBFgBFSDgN7lt2qA5o5oDgEmlpqbMv13ODIyklpafcWw39ZHy2joXTC9sGuqIJZv//a22WmClkzKVxjmJlFA86vy6fmdU+iXsF/M4oITAeXl9EBoiEzSoAG0pcCXUhno55W4WLtoiCuamgg5MxGRViKs2I6LCKf9hYVu6zNry1zxtYwAI6BuBPQuv9WNPvdOzQgwsVTz7Lhp38455xwqaI0Miv1zzz2XsDX+4LiWi54Fk8hdOe9qQSyDsoPMTtOSjAxBRu4PCTZbRy8nWk63EFKv9Fx0jcClz5fXUW3j2RFc02prScrjCIIGE+EF6WlUrQhg1RFMEPF1cUa6TOAH+HjTb0VFHWmizbowbZUI5Y0nvWhmUiIlWmmi2+aN+CQjwAgwAipBQM/yWyUQczc0igATS41OnJ67nZGRIftgYb+tj5Zx0LNg2hC6QZCnIW3krmw+fVpEgQUp2ZSXp+WpbLfvsQWxdN/a+wUmSCFy1+rhhIA9xuVzRTAd4DIjPo5y682bERtfb/z9VF0dPaTQev4rOsrApNa4fnvfQVL3FRbS2pwcuSrMdZ+PiaY12dkOSU8i34h3GAFGgBFQCQJ6lt8qgZi7oVEEmFhqdOL03O3bbruNSlv9shCop0an2g89C6Yx6x8QJGqx12Kzj+rBoiKh6UKkUGt9Bs02rpITNY019OmRzwjpVkAou8/vQcv9lptMIYIuv5eYIDB5IiKcIquqbBrFroICggYRBBXbzXl58gubjjZc0tgo8kwiHYzUXlXT2WlQOtou12cEGAFGQIsI6Fl+a3E+uM/qQYCJpXrmgnvSisBFF11EWVlZ4hvMXSWzWL0BpFfBlF6aLkjUFbO6UHZFttlpk/IwfpycZLaO1k8EZgXKWkqkXMkq/+u5xrig6QP5i1EQSAToOVxcbDUBRLswmUUgJBBAfMaEhlB67dkmt5ZgG1VVJdrq5+Upt4cXAdCscqoQSxDkOowAI6BHBPQqv/U4Vzwm5yLAxNK5ePPdLEBg+PDh9OCDD9Ls2bOFX+UHH3xA0Fya+ljQnGqr6FUwzT0xT5Ap5GI0V0B0JOKTrDONNLSUyjL7+BzaH7dfeYj8yssF4QMGSB1irxJXXS1yRErYfpGaQo2tgbA6eo+VWVnyHKE9RKbdmJurW+1yR/Hh+owAI+C+COhVfrvvjPLI7YUAE0t7Icnt2A2BhIQEmjx5Mg0bNkwE7hk8eDANHTr0rA9MZrVc9CiYoIUb8O1AQSw3R2wxOz2IcGpvUmX2Zk46gXyUS72XUu/FfSilJMXkXRHUBn6OEvFDYJ55aakEf1Nby9b8fBHoB20P8vUhjw6m+UAOUeSflArIPyL2IpAQiDDmlgsjwAgwAlpBAOmb1oWso7TSNLt3WY/y2+4gcYNuiQATS7ecdu0MWhkhVk29njVrFnXq1Mng07179w51UY+CyS/TT5DKqxf0pOqGapN41Le00M0+3oJcIR2FHsrJjJN02/e3y2avH/35scGwChsa6N3EBLqu1TwVW5ir2hKYR7oBclO+3eqbCVKJNB+4n6UlvrpaXA+SOzk6yuCy0sZGg+/8hRFgBBgBNSOQXJxMX/t8LYKlwR0Dvu2LvBbZvct6lN92B4kbdEsEmFi65bSre9DK4D0wh1Vj8B4Qy0GDBlFeXp78KewgSdKjYHrn93eEIH9x90tmH7Jt+fmCVN7i56v5HIfISTl194syoez95bW0MWwjIbWIsijNSp+OiiSYrNqjIOrrvcFBsgZ0roXaz5bTp+lQcTEhSJCkPcUW5q4g/lwYAUaAEdAKAnGFcQQXjNt/+If8XwxCic+IH0e2mzPYmnHqUX5bgwNfwwgYI8DE0hgR/u5yBLQQvAfE8tZbb7UJK70JJpiCIjcjhPnh5MNmsXksPEyQmfnp9jdPMntTB5xYHbiaeizsJcaLN+NvHHiDSmpLxZ3g14h8lFJpaGkRKTm8OmieKl1vaou2JM0vAuocKSkxVe2sY78WFNCwAH8DQglNJdpjc9ez4OIDjAAjoDIE8OIuJCeEZh2fTbeuGGpAJhGBG/79KwNWGgRLs/cQ9Ca/7Y0Pt+e+CDCxdN+5V+3ItRC8B8TykksuoR49etB1110nfEJTU1M7hKneBBPIJEglyCVIpqmCQD2Shiyrrs5UFc0cW+C5QIx35I93U3B2sOg3iNmewkJB3P4R4G914Jy2QMA9fsjKks1q7wkOoswOYLkqO1vMAVKQfJScZHXE2Lb6yOcYAUaAEbAnAnhpty9uP726bwb1/aqfAZm8cu5V9M8tE4RmsrT15Z49722qLb3Jb1Nj5GOMgDUIMLG0BjW+xqEIaCF4zx/XynrBAAAgAElEQVR//EG7du2iqKgoOnr0KI0ePZrgY1lcXGwWm/r6eoIwkj5IqQI/TXzXQ3lpz8tC2MMc1lxBmgoQywmREeaqqPZ4TkUOReWf8UGsa6qjTeGbZbNXaPzuCwmWiTO0idGKVCL2GBj8KWfEx8n3eCk2xmyUVhBQ77IyejY6ijbl5cm3R/7J1dnZxHkoZUh4hxFgBFSEAP5b/TP9Rc7f53dOoUHLBxsQSbzAhB//M9sni//g8rpyp/eeiaXTIecbagQBJpYamSh37aZag/cYz0d1dbUgll9//bXxKfm7qYA/eiGWtY21QtBD4COAj6kC89CBvj6CFO3toD+qqfacday+qZ4Wey2m7vN70LCVd1BTS5PBrSOrqgRRljSxCIIzJy2VKpsM6xlcZMUXBOR5IDRE4IfgP99kZpo0XYWP5Oa8POEvKfXp7qBAk3Wt6AZfwggwAoyAXRFAft8dUb/Sf//4L41acw91ndPtLCIJ2TL4uyGizrHUY4T/ZVcWJpauRJ/vrWYEmFiqeXa4b5pCALk3X3vtNbN91rPGcmf0LrEQ6P/NALME5kBRkSBFA3y8HWIiahZ4K09A4/db/G8Gb8tHr72PELBHKjFVVbL2EKk5EPk1v97+C57Y6moa6u8n7nWT90k6ZsKfsqChgeC3OrA14i5IJUjuWwnxhOu5MAKMACPgagTgHxmRF0Hf+39Pz+18nm78+iaTJPLaJX1pwpYJtNBzIR1NOUrOMnG1FB8mlpYixfXcDQEmlu424xoc7y+//EIjR44U/owZGRliBMuWLaN9+/apZjQgjb169aI5c+ZY3Cc9Caantz0tFgefHf3c7PgnRkUKYvRpSrLZOmo5gSiDj/8yVl7w9P3qekJeTpBN46ipSO+BXI/wH3VEOVpSQvCHBFG83d+PkAvTVJkYGSGT3MG+PvRVRgaVcLoQU1DxMUaAEXASAs0tzSLQzjKfZYIo9lx0jfy/Ci0kPlfM6iqsQV7ePU3kAoYvZWV9pZN6aN1t9CS/rUOAr2IETCPAxNI0LnxUJQisXLmSrrzySpo/fz5dfPHFJAXI2bBhA913330u6+XMmTPJ09OT0tLSKCAggMaNG0eXXXYZScTXko7pRTDhTTKCJ2CBEJ0fbXLoOfX1crCZJDPEyOSFLjgYnhtOnWdfKcaDcX1y5FOxyClrbKT/paYIc95iRZ5IRHx1VPkpJ0fG7eGwUJLu23z6NCEHaJ5CO3q4uJjGhIbQjvx8TWiEHYWZFtrFC4qmpiaqq6ujWkX0YPS9pKSE8vPzKScnhzIzMyk9PZ1SUlIIvueJiYkGw4uIiBD/Q8ePHxe+3n/++ScdPnyY4AMO329lCQwMpEOHDonzR44coWPHjtGJEyfE9b6+vsqqdOrUKYqPj6fk5GTxn5abmyv8x/GfhT6j/1zcBwGYnSJ4TnZFNiFPZGReJAVkBdCJtBPCqgM+kVL5M/lPESH7oQ0PU/9lA0yatcI/cuwv4+iB9Q+aPA9ZEpgVKDWpyq1e5LcqweVOaRoBJpaanj79d37AgAG0d+9eMdBLL71UJpbR0dHUtWtXlwEwefJkoUE9//zzqWfPnvTUU09RbGxsh/qjF8G0PmS9IGHIIWauLM5IF9q0R8JCzVVRzXEsmu9fN4Ymbp1IqSWpVN3cTEsyMggmqJLP4reZmQ7tL/rwRWugI9xzelys0JTCb/O7zEzZLHZWaorcD17sy1DYZaehoYEKCgoEmQMpCwsLM2h3yZIl9MEHH9Drr79OL7zwAj399NP02GOPiUBeL71kmMd12LBh1LlzZ/r73/9O+M+Ab7X0ufnmmw3aHTx4sHxOqiNte/fubVD3zjvvNFsX91OWMWPGmK17wQUXKKvSk08+abYu+gJspDJjxgzxX9i3b1/C/zXyEI8YMYLuv/9+evzxx6my8ozmafv27fT+++/TZ599RvPmzaOvvvqKVqxYQT/99BNt2rTJIGcxyG14eLjAHwQbgdFAwt31OYfmr7qhWhC83MpcSitNo/jCeGkaxDY0J5T2xu6jrZHbaEPoBloVuIq+8f2GFnktoi+OzTLwD8e5Sdsm0bhNTwiCB99G+JAjUM71S2+ksroyue3X9r8m/uMlDaPxFvfdFL6JXtg1la6ad3WbdeFLKfmpzzkx16AuXuRds7gP3bSsvwjeI3dAhTt6kd8qhJa7pHEEmFhqfAL13n3ktJS0gEpimZSURDin5aIXwfTIz4+KxQEC3JgqLadPy0RoiyI6qam6rjh2KOkQjVn/ACkjC2IBB5NXpPVQ+iwODwwg+Io6cnGLIEfKyK8L0tOEme3MpES6odUkFmQTRHfpqVOugMyl94SG/HjqcdoTu1csnr/1/ZawQP3g8If05oE3CRoTqcCk+d6fRtOdq4bTrcuGUv/ZA6jve/2o50u9qNvTV9GUeS9IVcVLhIv7XkzndTmPzr3o3LOI1Q1Db5Dr4vm4tMulZ9WRCODgWwbLdbFzww03mK2Lc8pyyy23iLp/+9vfCIQPlhr477v88stp0KBByqoizRGIKY7jOuTWBbG7/fbbz7LoAAHEuaFDh9KQIUMIBBbX4XpcqyzPPvusIMKwwsD/LPoijQ1b5fMPQq08Z7yPwGZSmTp1apt1oamVyptvvmm2LlI9SdYrqP/DDz/QPffcQ48++ihNnDiRpkyZIvzdYVnyxRdfCA2w1C40v9Dq+vj4EDS+0Mrm5eVRVVUVtRhZH4DM1TTWCP8++FZnlGVQYlGiiA4NrZ2yQHsHQvdz6M+EHLfL/ZbTkpNLaJ7HfEHslHVB9P6141l6autTwuQemrt7frpXPKd3rR6urErPbH+GkJvRmMxJ3+GzKJVnf/232XqoX1F/JgL5K3tfbbMuyKtU/nPwP6Iu+gFtI9J99Ft6A/X+8lqTRBL14G8P2fDu7+/SCv8VApdfo3caEFZoQRG4B9uG5jMvK6T7qnmrF/mtZoy5b9pEgImlNufNbXqNN+CSL6WSWC5fvlwsnrQMhB4EU15lHl3R6ieTXppucjpOlJYKTR/8BGuam03WccXBmIIYYY4lLdDwRl8qMG+FP6OkoUTgHJBimKA6skA7+lSrryQiv67LzqapsTFyP9CfOwMDCCayasKyI5hgAYnULUoiD+3L3BPzCAvYF3e/JHLS3bf2frrt+9vFAnZdyDr5Fp7pnoYL4i8602UfXE6XzLiULvzXxTRt6TS5blhOGJ3T/RzqdNEZDaGS+Fwz+IwGMKEogTpdaqLehZ2o0/91opvuvklu91TZKfrbPefR30acR+eNPp/Oe+B8Ov+xC+iCJy+kCydeRGPnjpPrImLyqMWjaPzy8fTKhlfpf3v+Rz8cX0m/hf9GEekRVFJRItfFjpK0GZxw8Zfm5mZhBov/LWWBNhHaXH9/f/Lw8BDmtnv27KGtW7fS+vXrDcjajh07hMbyrbfeomnTptHzzz8vNL1wJUDwM5A7qXz00Ud09dVXC0INgq2cN+zDVFgqT0x54qzzyvogk1IZNvmONusGB/+Vkxb1r51yHZ3T+xw65/pz6dwB59K5Q/9Gf7vzb/S3UefRFY92FqbKUrt3LRlOF7/4d7rk1Uvp72//H10683L6v0+uoMu/6Ew9FvaSqontYxsfN3yGW/9D8V/UeXZXg2cAWkXpP0raog6iVPde3IfwfEll9vE5hN8NCN2Tm8eLdBzQIs7YN4OQBqqq4Qy+IMIgwBvDNoqIrAfiD4ggOT6nfAgaSCXRw35BVYHwM//3r8+RsZ8kZMDw1SMIPvb4fSqvlfqmt60e5Lfe5oTHow4EmFiqYx64F2YQwMIEQXFgQgUzsm3btgl/S2nfzGWaOKwHwfSd33di0YNoqebKC63ECBFT1VBAhmHahcUZFmoIbf/h4Y/Oijr4TmICDfL1oTXZ2eRIP0oJE/hPSnkwEc3196IicertxARBLJH780hJicGiU7pWLVslKUoqTqLPj/6PXt4zjbCQHvr9bQYLUixqpeKV7nXW4llaRGM799hcqaow/7vy/m7U5dYudOk1l9J5F51nQBRuGXZG+wby2vXqrvL5Cy68gK6+5moadNsguvfhe+ndD96V28UCfeXOlbR672raeGwj7QreRfti9hEiHiNfaUhOiFy3sLpQaGIwNgSuenDDQ3THyjvppmU3C40O/HKlghcuyrEY70/bO12qKhbk0Lz+EPCDuC+0r0jfg5cgMMsurP7rmcAF8GsDOTicfFj4ue2O2UPbo3aIxT+0Zr6nzvhNQuu21HupSJuzwHOBIPGzjs8W8/Ppkc8EsZA60djcSO8dfE+M7+3f3qa3fntLaILfOPAGvb7/dfox6EepqtjiGIiL8Qe/Mfw/KAvqIi8htHDjN/9TECD8d9yx6i6avvcVZVW6bklfA9z+7/POdNnHVwjC9o8Fw4SPqnRB75l96MKnL6ILxl8oCP55D54vCP/fRp5HXe/pKvxWpbo9J/b662VD53Oo0987UacLDF8mxMXFSVXpmnG95WdHSVSlfZhIS+We6fearHvOuefQBZdcQF5eXlJV+mzlZzT47sF058N30n0T7qNxL4yjya9PpmkfTKP35r4nW+nggvhTCXTM7xiFxYVRRk4GVdVUOe0/AP6UeG7GrBsj/19Kzy9MVqfseoG2RGw1eC7lQep8Rw/yW+dTxMNzEQJMLF0EPN/WcgTWrFlDffr0IeS0xOeaa66htWvXWt6ASmvqQTBhQY2FhvECUoIcAW/6eXoIYhSm8LWSzjtzC9KDRTXe9EuLo8k7/kVJxcm0q6CAYOYaruhjeWMj1TpJw5pVV2egIV2v0MZk1tWZjQTrTPxwL2AIk8CTGScJWkSQEpjfQVvRa1Fv+in4J7lLZ2kWDbQyV4oFq1QZGsAp61+g5796np75+BkaO20s3TP2Hhpw2wDqcmUXGjFqhFRVbOFrKC3upW23bt2EFcOrr75qUDcoKEgEoikvL3faglxJsEFusfhGVEy8wIAGCYFNBi+/RZgRKjXlII/Ss2lq+/6hD+SxZZZntlkXJE4qMDU01Z50DH2SCgK1SMdNbUGklUUKdGWqLiIrKws0d6bq4ZjxyymYWirrwv8O14Nwwi9QWaDlfmLTk8JnECksQFJBiGceep++9jHMLbwrZrfQ0oGEI/ooiPmJ1BPkkehBntGeBoQ1ODKYNu/YTGvXr6XvvvuOFi9eLPxD3333XXr55ZcNNJarV68WJs/QsuLFp/RcSltodKWCfMfScVNbBGGSCvxPjevANBmm0fDvR0AmqYC8Tpo0iV588UWCVhhaX/iyIor6jz/+aGA+XFZWRpGRkSIwFEyB4QsLrTRMfKH5hM+8En/swwcTL4vwsgNmwu5c9CC/3Xn+eOyOQ4CJpeOw5ZbtjEBRUZEIpmHnZl3WnNYFE3zdpEWlOTNYmGzCfHN4UKDTFvVtTSi0Q1ggIVCFT4aP8JccGRQom5rC7NSZBQQEUVyhoZTMbrF9z8XaXQTXgLZif9x+oS2TMIFvo/FiU/n9f8e+kKoSNMMwv4PvLQJ7IBedR6QH7Tu0j1atXkWrVq2S62IHlgnGC2jpO84pCxbxWChjAQ4zR+PIqsq6at7H/ENDKBVE3QQZgvkjtETQ5A34diD1+fI6oQn9+M9PpKpCSwRTYdS5e80oYQKJFz3QDsMMEnkCpQKN5Ut7XhaEC5pE+KJibmB6PPOPmYL4SnVBGDCP0GiCYMB/FX6C+Mz3WEDwk1MWzC98BpUf5B7ESxz4HCoLfO3ge4jAMQj6hfMINgNyB/NLZcELjOKaEuHjqEUSA39NkDVE1EVMAOUzGhMTI16Ofvvtt4L4gQDCpxRBoCZMmEA4L5V169YRXprAr1T6PSi38BeVCl64Ks8Z78MUWSq//vqr6brndaJOF3eiC566SPh24nn6YN2HNPqB0bL/Kvx1//vf/9Lnn39OCxcuFEGWpHYRZAlkFyQXL3UwFvjDgrzi5Q6iIeuhaF1+62EOeAzqRICJpTrnhXtlhEBhYSF5e3uLgAsgmHooWhdMWBSCVGBxa648GBoiCNMyFwSZwaIdfkMgSFKBb9/2yF/pQGEhjQoOkskc/D/np6dRhZMWPU0tLbQ1P19oSZWE8v6QYNpbWEg476wC0gHSh+iRMO1EoJsr53aXCaSSLCLQBkyIQXaQLgDkBMFzJAKKoDbKgqAqCNiC6KUIBKNc6BpHOH3ggQeExufhhx8WkVYRdXXXrl0UGhpK0K5wYQTcHQFoFEFW4V8KsgrfVpA1qSAyOaLsLlq0SGhW33vvPXrllVcIwZgQ6RepsaTyzdpv6JIrLqFzLjjH4Hcp/UbfXPym7B6A36F03NQWVkVSwcseU3WkY9CeSgX+rLBG6t+/vwgqhWjCiF48duxYioqKkqqpcqt1+a1KULlTukCAiaUuplG/g0BEQYTuh+mPZAp73nnnCTOkGpXnQ2xvVrQumGByBmKJgA2mSnJNjSBuCEKjzLdoqq69j8G/DClD0D/4cynLxKhImVAiyirSepQ2ntEaKes6ah9BgJTRZvt7nySPEsMgLva+N4g2iDVIIAJ0SAXEW6l1lPaRNgAkExomqaANmEpKBTkXEbAFmheYBiLtjrKMGjXKYJGJ3/GNN94o0lD85z//MdBio20ujAAj4DgE8PuHaTC03NLvHFu8SHpq40T6yXMtxSbFitRZypc5iMyO3NHff/+9SBEzZ84c+vDDD4W5LeQzXvpKBZpKRB8GWQRpRB5qaFshv0EulZYKyKUqEU7jrXFuVal9tWy1Lr/VgiP3Q38IMLHU35zqakTwl+rXr59I+I0/cnwOHjxI119/vQgnr+XBalkwwXyv58JrxOLEP/OM75ByPmanpQoCh6AzzioIcjJhywR50dRtXnf69Ojn1KTwB1qRlSVMTz9PTSEEzHFGCa6oIAQDkoIA/VlcTH1bfU+h1UV+SnsXmCoj+AtMGP+5ZYJIESAtJhHZUSpIV4CF5jPbJ4ugLjBNTClJIWUaA6kutlgYIoonfJ2NF4NYPCpf+MA0Dz5e0HhAm6LMf6hsk/cZAUbAMQggKBWsS2DSKkXwxv8AgpYh3Ql8TZXRYh3Ti7/8s+vq6gz+AyADEQDJ09NTjia8ZcsWYSYMKyU1Fy3LbzXjyn3TPgJMLLU/h7oeQdeuXYVGxHiQJ06cEG9CjY9r6buWBROiUWJxAt8vU/5PyF05xM9XEMtfCwocPi3w8YQPmbRwgu/njP2v0bpT8cLkFX6MUqlrbqYiJxBKkEiYu0qRXmHyuj0/n/YXFsqkEtpT9MfWgjmAT5pUoFXEwlEiktIWuCAAh9K8VbpG2kJziBQSSBnx6aefCrM0pV+UcS7Cvn370vjx40W+wJ07d4qUFFJbvGUEGAHnI4DfcEBWgIjiaxwwCZYca4LWiNyRzu+Zfu6oZfmtn1ngkagRASaWapwV7pOMAJKDK8O/SycQEADmNVouWhZM//3jv4K0GKcIkObDU5G70hmRVRESXyJPz2z/Fy1PCaMRiqA88F10Vsmtr6e5aakGpq7QTk6Li6WlGRkE02CQzOdjomUNZkf7Br9IkHtoIxF5E4vHkT/ebdAMIrUOWj5YRCFF0BREcsR1pgp8tebPny/8sBDV0lgTqfR3Onr0qIiQCfM3PMNcGAFGQB0IINgRTNfh9y79H2Lb/5sBwhrBXJA1dfReW73QsvzWFtLcW60hwMRSazPmZv2FIz/Cp8OERiqIrodjCPah5aJVwYS34QjeggULzCZNlVfiYgV5eiMh3tRpm49hARWdHy23A8L07M4pNDfOl+4IDBD3BnmDD+Ws1BQqcZIPJdKGSCauuD/yYC5KT6eChgbamJsr9wsk05oAPYjAiYi2XUxoI5HuQxlhFHkOjQsiVeJFDSJNKoNg/T971wEmNdVFf9qC0rvAso2lLNJEmqB0BKQLAiKIVKWIIkV67wpIbwJSpCnSEUGQ3hGQ3ntfemfycv7vvmySye7ssmVKMvPyffmSyby8ct7svpzce88dNGiQgUxSLGSRIkXQunVrkALrLTdYnSP3VXwWCAgEXo8A/T+m9D8U804pWVRCSTHS5MVBaX+ic2t/fe2OS5AHA+kf3Lt3j6u9Xrp0iYsJ0QtfEtui1CoUa0kvoSh0ZdmyZSBF2nnz5vH/PeROT+lbfvzxRy40RP9/+vbty9OjkNrs119/zUNdKG6blHJJfKhBgwaoW7cuatWqxWO0q1atisqVK6NChQooV64cKJ67dOnSKFmyJN59910ULlwYBQoUQL58+UAiYs7erLp+OxsHUZ9AIDICglhGRkR8NhUCZCmhVAPkEkskk8gknVP+LntJdlN1OpadserCdPz2cf7wQg8xjmJzHttsWvqMnXaKhbGEJcZi95/f52kQ3hqaHe9OKmZ4YPri2FGNuOXZtpWrvFIeTVduTyUJW+7dMzTx4b8HUOXAfpAL8KsIddfZdqSyw8kTIFfhmDYaJynakssqPTiqW+PFn2oPjqGjc/Nk85S6gXLPOXJJphcy9IBHKQFIaTFDhgwagSRXV3Uj62Pjxo15vjsSzbBPjaCWEUeBgEDAPAg8ePYA4zePR6ERhZGyUxqkbJcab7ZJhbAu+dFpwjf4dcmvWLRoERfdmTx5Mv/bHjp0KCdwXbt25cI7rVq1wmeffcZJG8VNE1Ejgla8eHEULFgQefLk4QI8WbNmRbp06UAeRIkTJ9b+h0T2bDDr5759+zt94qy6fjsdCFGhQCASAoJYRgJEfDQfAvSQS3Lm9CaTlCQpYbQ3PPhadWEauXUkJzeUkNzRNv/GDU7wiu7eZSBFjsrG9trDFw95Dj1VMIjeyr879X2cvn9Vq4IEcfJt34YfLl50iRiO1hCAs0+f4vszp0EEliyU9jGbRKztt7l2pLLL6VMOMSGL6/qz69FzfS/u0kopPVTLw+nw01p1/5z/B/MOzsfF+xcd1qMVBLilwM/PL8pDID0cli1blgti2ZcX5wIBgYDzESDBKsrteOHCBZ5CY+fOnVi/fj2PYZ47dy63po0cOZLHKHfp0gWUI7Jp06Y8nyWl3ilTpgz3HiCSRy9Z06ZLiyTJkkT5u/YUqSPBruTJkyNNmjRc94D6GBQUxFVhiZyS9bBUqVLcqlilShVubSTLI3kdEaklVVkS6aM8nrS+k9ps7969MWDAAP5CjNIOjR07livSkvcErf+zZs3CnDlzMH/+fCxcuBCUk5MEwsgyumLFCv6/jdKe1GuwHn5vbUK9huecPrFWXb+dDoSoUCAQCQFBLCMBIj6aCwGytJDbXuSNro0YMSLyZUt9turCVO7n8pz0TN0z1SHeNQ7+y4nlsAvnHX4fl4sPnj/gidbJzVMlWoWnvo9me9eAUnRQLKO6kWWPLIiu2ihFyJo7d0Aqt+Tmqu7v7NqJPdHEGqokm8p2joZUTto9yeDCpo6zwPhCaL+yPVdojW5MlO5j+fLl/IGMJP7HjdNTg1BScnrYJGtD/fr1ucWCFBhfudiKG11fxXWBgJUQILdxyhFJqTYOHTrElUuJtBAZpFyRFJPcrVs3TgTJVZM8Aj744APugkmCVpRmw9GLHVcQQHpZRN4IpNRM6XwKFSrEXULLly+P6tWrc5LapEkTnhKICBxZLPv06cPHMHr0aE5uScGZiBoJcK1atYq7sW7dupWrth4+fBgnT57k5Pj69eug/zvkCkv/S+w9Ksw0v7duy8iQ14aUoTb8vdH5eYGtun6baY5EX7wTAUEsvXNevWZUgYGBcJTPihI901tRK29WXJhuP7mtKa9eeXAlCvwUY6gSrovPnkX5Pq4X1p5eqxHKt6eURd1dqzU3W2qHFFfd8WCz68EDFI5QuVXHRwTzz/DwaN1aSRFWLUupRs7fPc/VGCmvpn0eyTWn1vAx5h6dB62WteYWyasPdUusPWYvXrzgb+Qp8TnFQKq54dSHVVJnVTfC5ezZs27BR21THAUCZkVAkiTcvHmTk8R169bhl19+AVkKyROGLGdkTStWrBhPb5U+ffoof1vq31h8jylSpEDmzJlBpJOIH8UDkkWScr82a9YM7dq140SVLHU//PADyH111uxZ6Dy6M/J2zIs3vkjJXV1Ttk+NimMrYfGexXj85DGIAIstKgK9+0mcVJaqYINdNEHUgvG8YsX1O55DFbcJBOKEgCCWcYJLFHY3AuRic/58VMsXWWPoOytvVlyY5vw7h5OgElNKOYR+9KVLnExRnGF8trvP7nGxCfVeIkd1lnXChzvXGERx3t+3F5RCJD4COGrdMR2pXfv4THJ1JZdXspL2OHuGu8LGdP9vt24h4O+1yLZkGIrOb8bVWVVLJB17re+t3U555s6En3FIAMkqcPq07gpLOSKTJUtmcIMLCwvjQhcLFizAtWvXtHrFiUDAFxAgYkXiUqRsTJa2adOmcbfSNm3acCti0aJFQUrH8Y0NJKsjWf3JFZViD4mAkpAMxScSKR04cCB31SQvGrL2kQsmideQBgCl7bl//z7s0/XEZk7ofwLFTucbq4ik0f8MEuPpsLIDTtx2jSBabPpllTIPHgKZwxRr5fIVriHeVly/rTJ/op/WRkAQS2vPn9f3PjQ0lCvJRR4ouSPRm18rb1ZcmMjaRg85AzYOdAg9ET6y0s2II8G59fgWevzVEyTKQ26vFFOpbiR2o1r+Pjr4L9bfveuQhKnlE3J8ZLNhytWrKLV3D6pGIsfb7t9HbFKnkBUzYO18pB2QSbO2Emak5FpxZkXu2muvaGvfX3ItIws9PaxSHCSRSHJxtd9IJZHisEiYgywwYhMIeCsC9IKHlEfJFXXlypU8zo5i8Mj1lNxOaQ2Ii7spWfizZMnCLYZEECmWkeIaKY6PLJhETLdv345jx46BXD7t1cjdgTH93yPlZ8oPTP8zaM85MpDHl5MStthih8CIHxRrZcH3bHCVQdeK63fs0BOlBAIJQ0AQy4ThJ+52MQIUR0kqsLm0UkgAACAASURBVBSsT7EutNObYbpG8ZdW3qy2MJFkvZpse9/VqHkhTzx5wgkgWfZim96D3Gk7r+nM38YrD1IZkW9eK6y8fFib2tNPn6LJkf+ijWPUCibgZP/Dh2h38oTBzTbXls08TUhM1dKD4B/HluHL5V9y4Z3t9+8jZMtmBGz6G5mH5eRpWTqu6ogVx1cYyHLkOkmIgmT0U6dObbBGktsduXy7+wE3cv/EZ4GAqxAgix6lqCDxFXIBpRhAilekVBGpUqWK8vfgyBWVCCNZFck6SX9H9OKFXs6Q6Nvq1at5/UQU42o5dNWYI9d779k9nmfSPpY8z5h8oPjr6HLPRq5DfFYQoAgM/wKKtXLefNfF3Ftt/Ra/D4GAuxAQxNJdSIt24oUAvbGmN9QUn0KuTLS/+eab/KEhXhWa6CarLUzHbh3jb9CzDMkGGzMqnxKsA8+f48Sy/n86KYwObiKUbZa1RcaIfIzpBr2FsCXdkG/r37yOz48dje5Wp14n6+IHEVZW1SpaYs9uTLpyBQ8ciNzQ75Fc0UZvH40qsz805JPMOSoYoVv+UTA4fAjXH91y2FfKH0kuc1SXupGwhvrATCIcpJhICohnzjh2kVXvE0eBgNkRoN85uWhv3ryZK3r27NkTDRs25GqhlMJC/d3HdKTYRFIXrVevHjp16sTzH5LFnqyLlEPRqoJUlFao39/9tRd29HKt4PjCmHdwniEnrdnn2Ez9mzRFsVaGFrXBwb9wp3XVauu30wYuKhIIvAYBQSxfA5D42hwIPH78GHv37sWRI0dAAibesFltYZq1fxYnlpVmVY4CPz08Ft21k5OqhbFwz6SYQkqpkW5YMPIvG45cmzfye4ncUcqQERcvRGnDWRfs4zIXRQjskJWV8mCSxdGe8EVus+a8WpqLmuqqVmBcQXyxoiOCl49BwKYN3IXW3mWWHnoplyRJ6JM4iCq4Qzla1Y3issg6v3//fiHGoYIijpZCgP6f0f/oefPmccVRejlCSepTpkz5WvJI1kZKSUEurkQ8KU6SBHZOnDgBiiv2to3y/w7bPAzZh/tr/0+KTnoXi/9b4jAfrbeN31XjISIZ8o5irZwyzXXWSuq/1dZvV2Eu6hUIREZAEMvIiIjPAgE3IWC1hYncPYlMUa7FyNvehw85MST30ch5HKnstovb8OO2Hw23VdmyCEF2aTvIUjjr2rVYxTEaKorFh4c2G6Zfvcqtkz9euqTd8YIxjL98GeEvX2rX6OTaw2uYsW8GKKaUhDTU7fu/eiDToKz4aG4NTNg1gYvuXH3+HAUjFGPL7tur5dCkWElSaXXk3kr53ciCIzaBgNUQIIs7/XZJtbRjx46oVKkSsmXLFiN5JE+TkJAQroLavn17UIoLSt1BLwpJoMpXtue25/hpx0+GGEoilOROT6EGYksYAnPmKdZK/4I2PH+esLped7fV1u/XjUd8LxBwFgKCWDoLSVGPQCCOCFhtYXp3UjFOLJcfXxFlpF1Pn+LEsrmdCytZ/ihdSIWZFfl96QZkwok7usLpmAgF2ZqHDsaYtiNKY7G8QO3vuH8fbY4fM8ROltqzO0oN9FC39+pe7pZWfEpJzYpARPrP039q5UlA48lL/UGYCOt7e/cg559rETpmDHYcOqSVJSuk6t5HOe3IGkMCIRTrJTaBgNkRIMJHeU8pIf3XX3+NihUrcuEb9Tft6Ejqq+XKleMJ74k8khgO5T98GenFjdnH7uz+0f+XXw8tAMVNqp4Ob48rgAWHFwoLpZPAJpGeAqUUa+UPo11rraQuW239dhLMohqBwGsREMTytRCJAgIB1yBgpYXp0YtHWv7KG49uGACRZBn5d2znxHLNnTs8Nmj+oV+hElGKn8z6cxPk2rgKky8c1+4lUvbf48faZ2eeUIxksd27NPdacrEtuWc3xl2+HEVYiIhj0Khg7YGPHvzS9c+AsjPKcXe1i/cvRukakdbDx44hrEsXJClWDP/z8+MkkhQm1Y0Ed4YOHSrcW1VAxNGUCNBvmWIg16xZgyFDhvBUGrlz59Zcth0RSFJjJYGdbt26cWE1Sq/x4MEDU47P053aeG4jKD2TSihDfgzFzP0zRQylkydm9RrG81ZmCbPhoS4q7uRW9OqstH7rvRZnAgHXIyCIpesxFi0IBBwiYKWFadP5TfzBiN64R9423bvHCRzleNx3/aD2Vp7iJ7PP/xbBm/7SCF7tQwcj3+6Uz/Zxk1Rhy+PHeJvkmvvViePY/eABj50k0SDKD/fP+X+0do/fPs7HRqlOGi1ujLn/zsXtJ3e07+1PyIpDicxJqTXyA3dAQAB/MLcvL84FAmZCgEjklStXsGzZMh4HWb169RitkJSao3LlyujcuTMnkBRDSfHuYns9AqfunELt+XU0Qkn/X4ZvGS5UXl8PXbxKVKiuWCt79Ha9tZI6aKX1O16AipsEAvFEQBDLeAInbhMIJBQBKy1M9EBEb9w/XdIkyrC/PKGQuI4nT4BEKbJPKIucv49A4D+6IE/xPbvxswviJ48+fozvz5xG2PZtOGz3wEvpQyhe8+Grl7qL6+QS2kNekyWfaeOgh+0tF7bgpWSMs6Trx48fx9q1aw1ltXiyZMmQtFgxfDl4MC9H5cUmEDATApTKY/369fyFR+3atUGuqpFfiNBnioHMnz8/SJ2YcjrSPSJHavxmklKHdFnbRVOMpvy13675NtqXVfFrRdxlj8DefYq1Mm0eG65ec8//YSut3/ZYiXOBgKsREMTS1QiL+gUC0SBgpYWp3q/1OCkj4Ql1I2XXtis7IvDvtdw6uO3+ff7V+7u3GCyUlNKDOZF0UY7MyVeugIRy1BQhdOx99ozaNR639NWKrxD8Q4hGJokYkxJt+Z8rYPLuyVpZ+xOySFIidrJKBgYG8odwSnXA7LJstxw3DhmGDUPOtWsw/4bRLdi+LnEuEHAnAvQbPXr0KI+JbNmyJcLCwhySyCRJkqBQoUJo0aIFJk6cCHJj9UblVXdiT21JTMK0vdOQc0SA9j+n7q/1cDpcjyt3d598pb1PP1eslc1bR02D5SoMrLR+uwoDUa9AwBECglg6QkVcEwi4AQGrLExkiQsYGcQflnZd3oXdV3ZztVSKQ8w06SNO7vJu2aSRR4qzbH/yBI45We3x9suXaHzkP1BqEJVQ0jldm3PhPyyLJCr03rTSvM+qiyvlhrvzNNzhzC5cuJArVvpFxEqqVp3kyZPz67dv3+b3bbx7V1OyHX7BdSlRHHZSXBQI2CFAaZcojyOlqalZsybSp0/vkEiSGisJR40dOxakVCxIpB2ITjrdd3UfSk19TyOURSa+g/Vn1zupdlFNTAhcuCgjVW6FWB7+zz3WSuqPVdbvmLAT3wkEXIGAIJauQFXUKRCIBQJWWZgu3LvAH5jSD8jErX3c8jcyH976tSsCNv3NSV6VA/tjMeK4FSFCe90uZ+krxrjLK5HKMnv3oPu/q/H9hv4oOVURxsg4MDMevtBVG9adWccf7l7YjHlP6cGahErs0xz06NFDeyin+ElKiUCKlvZlTj19ijzbtvLxtjp+LMZ8l3EbqSgtEHg9AiQGRWk+BgwYgAoVKiBFihTab1Z9EfLmm2+ifPnyPBckWd7VFyKvr12UiA8C5PbaYWUHTdgs+zB/TNo9CTbmPstZfPrtTfd821VJMVKtjnsxt8r67U1zLcZiDQQEsbTGPIleeiECVlmYFh5epL2Jz/hTaeRY+qNmMVQth5Qj0lnbuWfPMOzCea7qSvkh7d1oRx9Zh8ZLW4OUFVWVRTqS9fSDGWVx8s5Jh904ffo0xo0bh2rVqmkP5EQc1e3QoUM8tx4lZHcUK0nut0UjVGYrH9gPyn8pNoGAKxGw2WzYvXs3VxamXJGOiCS5aX/88ccYM2YMSFjnFWWIF5vLEaD/EZQ+RPXkoP9BXyxtgVuPb7m8bdGAjsC9+0DGfIq1csPf7v2fbJX1W0dLnAkE3IOAIJbuwVm0IhCIgoCZF6bLDy6DLH60dV7TGWn7Z0TAmtkaoQz6ZxOK7trJP9c/rOdujDLIWF4gN1eKm6x4YL/WBpHW4PW/Y8/da1otZA1QCWWWIdnwycJP8MuBXxw+0J0/f57n3wsNDY1i2cmZMycWLFig1RvTyUvGUO3fA7xfRXbtBPVVbAIBVyBAv9mpU6dyspg2bdoov1sS32ncuDGmTJkiBKNcMQGxqJPSD9WYW1P7P0Rur5svbI7FnaKIsxEYPkqxVr7zvg1ODOOPVTfNvH7HagCikEDARQgIYukiYEW1AoHXIWC2hYnewtMDEpE1ErnJMaYAnr16hjLT3+cPUR/uWIPQrVvQ/cxprsBK50T+KO4wIdvUq1e1uEVyrc2xfDLeXvAV8k54l7c7fe90rXoivJ1Wd+Kk97ntuXadTs6cOYNjx45p1ygxu+oimDRpUu4+SIqXJHDiyCqp3RjppMPJE3ycNF5SoRWbQMBZCJB767p16/gLEModqf5e1SORy7p162LChAmCSDoL9HjWQ+I8JF5GL7To5VamQVl5ntvIatLxrF7cFkcEKEoiZ0HFWjlvvntSjNh30Wzrt33fxLlAwJMICGLpSfRF2z6NgFkWpkcvHmHqnql4d1IxbpnMOL48ske4u668cgQUu0gPUntuncFjmxLHMuHKFU62SuzZHSeSRi6kq+7cwRE7grYl/CayLR6IoBl18dbwQN6WapUkF9du67o7/J2osZIdO3aEapVs0KCBVpbIY/fu3fHHH39woQXtizicUIoU1d2X1G3FJhBICAIvX77kLqvjx49HrVq1QDGRKomkI70A+eCDDzB48GDuBitJ7n9gTsj4vPVecrFXX7DR/6ZKsyoLtVcPT3b/QYq1MqiwDZ5wIjHL+u3haRDNCwSiICCIZRRIxAWBgHsQMMPC9PvRpSDV1HRDA5Fl1hfIue43jUgRoer631ZO9CiWSLXyUcyj6gYbm9hKiSyh9+6h3ckTmvhN2yMHNJDvPr0LEgZSyST1p+GiRpj771zcfqKosWqFAR4r+eGHH4IUW+0fypMlS8atO/ZlE3K+68EDTYH2h4sXE1KVuNdHEbh8+TIWLVqEb775BqVKlYrym6Xfb44cOdCmTRssW7Ys3i9AfBRelw+byYxbKTMPzsr/P5E4z8z9M0HXxeY5BDZuUvJWpgy1YcFCz8yFGdZvz82AaFkgED0CglhGj434RiDwWgQmTZoEUhElklO0aFFs3br1tfeoBTyxMD15+QRXH+pCOztuHEf234Zp6q5EJvNt34Y+587iwrNnGLdzHH+gojyW6rY2PJyTT1JIfRKNRYVI6L6HD7nb7Ns7tvP6cyyfhCw/N0OmUfmQZ2IptTp+bPlHK3T5sys2ntsIe9eyBw8eYNOmTYay9ICuEsqAgAB8+eWXWL58OR49emQol5APN168APWb8Pjs6BGNVCekTnGvdyNA1sUDBw7gp59+QsOGDeHv76/9TtXfKx0zZMiA6tWrY9iwYTh8+LD4bZn0Z3H+3nlUnFVJe+FFcZX2/ztN2m2v79aNmzL8I1xg23ZwrxKsPbieWL/t2xfnAgGzIiCIpVlnRvTL9AiQJYKsZDNmzODxT2SVSJkyJS5duhSrvrtrYSKSt//afrRf2Z5bJ+sv+VzrH6XwyLdVyQtJAjWLbt40KJ42WfIZf7AavmW4dk+tQwc54epx9ox2LfIJtVl4xxZk/30UMk+ti/RD9aThZJnMNCgLHjx/EPk20MP5nj17MGjQIJQpUwaUzJ12IpjqNn/+fK6CSfGUqhVV/c4ZRxLrIeVXIpWl9uzW3H+dUbeow3sQILdWygs5dOhQVK1aFalTp45CJOm3Sy+cOnToAPrdUhywK36z3oOq50fy9NVTDPlnqBZLSR4UP+/7Wcyb56cG9B6zck0lrrJIGRuePfNcp9y1fntuhKJlgUD8EBDEMn64ibsEAihRogS++uorAxL58uUD5USMzebqhenKnbsYvWUi3p1YHOkGZUOmKbWQY9k4BK7/A/cf68qmf4WH4+Cdp3jyBFH23KPzcWK56bxiNTz+5AknXKQKe/zuM15+/50n6HPqHMru2Yt7j/U3yMVm19Pe9hOZpAe0TxY0wey9C3E1/D6ePtVR2rhxI+rXb8itOfbWHTrPnTsvdu8+rBcG+AOFo/6q1+wL08OHet3RUS1L8aPrb95Dk8NH+Bhzb92Cw+FGXNSydHz+POZ67VUKSWjCUdvqtbiUtc90QrFFah2OjnEpa298fl299mUpw4WjttVrEWG5HLq4lKX71DocHe0za8SlLPXdUX3qNft4Lfuyly6FY9WqDRgwYBgqVfowSnwk/VbTpEmDKlWqoV+/IVi79h/cuvVEa8u+XpoXtT1HR7v0rVzt0lEZ9VpcytJv1n5T63B0jEvZyA/4jupTr0UuS/8H1O8iH+3/R1C/41I2tn/3VC+VffxY5v+bQn/Mo/3fqvBzFRy7et4estf+3dsXFv8jFDTi8nevlrXHUT0fOESJq6QUIydOyupljxxdvX57ZFCiUYGAExAQxNIJIIoqfA8BslaQNYKEYey3Tp06oWzZsvaXtPMXL17wGCpakGi/cuUKt3DQubO33A3rImWFMnjjw4pIXuMj+NWubdiLftRLa7Je5WrIHpQqyp4uV3okyZ4Rb7yTD6nLvMt3v+JFkCgoCIlzZEGydIn4njRDIiTOmAiJMidCOn8/rZ40gcmQKJNS5o3UiZEyZVK+v5kyGZKnSIqMb72plU2bQY+XTJTof0jxRlKkzZACmbOnQraANMgWmEYrmz0wtXKNrjva41E2W1Bq8N1RfRHXsgekRo6AVNrusG2tbBqtHN0TXdksAemRIsAffoH+8AvyR7JAfyQKyBXtnjggmJehsrR7pmyIoQ+JA0Ki7Qd9R2NS+xtT2UTRlg1FogB1z41EAbSHInFQEJIEK3uiQMJM/S7yMS5lc0eqNwSJsubA/1IYRXa0lx9+fkiSPRv8ChdEsrKV4fdRI/jV+NThnqJWHaT+WNlT1GoAvxpN4FejmcM9Vd3WyNL0K76n++Qz+NWoE+2eqm4rrWz6hk2jLUd1pKzTUiuboRG1HX29Keu00MpmbPx5jGXfrP2FXdnm0ZStC78ajfCGXR9ojG/U/grJazre36ijYKBiQZ+jLVvbWPbNGMqmqGUsm7LuV3iz1XsaoUz1TS74vfMrUoa+AsXxFXpP3zNF5E2k6452+7KZwxyXUe8rUEqvN2v+mMu+XTL2ZcOK62WzvR1zvXmL6WVzFIi5bJ539bKqO6o6lsjH0KJ62YBCMdcb8o5eNjCirD2OdE7jV9uoUtOG9p2UveO3Er7pIqHL9xK695LQd4CEkT9KmDRFwtz5Ev5YxnDylPNJqCCW2iOEOBEIGBAQxNIAh/ggEIgdAteuXeOkkFzh7Ddyi8uTJ4/9Je28f//+UVzl6AHVFcQyS+X3HbalPhCXLFBF61fBsKAYy6r3iOP/BE7/83EM0iVC4vyJkayaH978KhXS9E2vkRFVfEocM1gWkzQ9s8Kv3CC8GfpIIzEqmRFHndhZDQtSkHX2JoilsxEV9XkLAoJYestMinG4FQGVWO7cudPQ7pAhQ5A3b17DNfWDOy2WVRo2RpYy7yB78TAEFApGcN5syBWaWdsHdx+gdgvNP26kXbcvkzVvVvjlyoY0pQoiY4X3+J6mxNtIEZQBqbIm1fY0WZIifaZkyJTBDwH+aRCSKzPfA3OkxVvpkuOtdH7InjYZcqZNgsC0iRCUNhFyZ0iEXP6ptbJ5QjIiLCgDgoOyIijorSh7cEgWrSydOyqjXgsO1suGxLJsrlyZERqcGcGBb0W7hwRlRu7gTHx/fdksWlm6J7p6CwemQfnAJNpeMigFMgSGImlQEYe7X1ABpMqVF6kj9ujK0XW/oIIJKFvYYftUb7KgQoZ6kwXFpWyhGOotbKiX+p80sDCS2e30mfqQJPgdvJG3CN6M2JOEFEXi4Oh3+7JJQ955TdnCWr1Jc72DJHneQ7J3ayJ5+eZ4o3Jbw56x9ufIVKc531NVbWH4LnLZDLU+R8Y6yp6yanMkK0/750hW4QukrNIeqat10vaAz3oh9Iv+fE9VtSf8KvTT9uSVeiFV1W+QoVYrZKzdHEFNe2plczTuxK/RdUd74Gc9tLL+n37rsIx6X8Bn3bWyOT/tHHPZJt30sk2+c1g2Q63PkKpqHeRs0lUrm6VeKyQtV47vKavURIZaTZGtYUcEN+uNkOb9+a7iQEf1WnTHhJTN3XQkSn10GeWq2qLsFT+yQd0dfW9/TS1HR/vrjs4rVNfrLV8t5vLeXJbGruKm4qB+tj/W+cTGLZLkEkv7gMES+g2U0LufhB69JXTtIYEsmC3a2vBJExuq17Xhgw9tmDNPEEttwRcnAgEXIyCIpYsBFtV7JwLxcYWNjIRPvvF89QryseNg4ycogU0RoLDuPSClzgEpYyBYrbpgU6YCly5HhswrP8snT4F9/Q2kzMEKBukDIC9d6pVjjdegrlwF+64rpLQ5FXxS5wCrXDVeVZnpJlKELVCggGYFJ4GfJxRkGGmjS9t3MP7g7B/JVbF2Axvs42gj3Wr6j1OnTgXFpUf2hqB8niTede7cOdOPQXTQNxHwyfXbN6dajDqOCAhiGUfARHGBgIoAife0a9dO/ciPYWFhphHvMXTM5B/YsOGQQvJrxIGTTCKaRUuC9e6rqHaYfAwJ7t7Dh2CfNI7AwB9s2vQEV+lVFVy4CCkwn4JPjtyQz5xVhnftOmSKdbZXFLLIwJ8/f45vv/1WI1ahoaHYtm1btL0nAaDflzJUra24JTZupotl0U1Xrjo/lizazjjxC/IAIdXcVq1a8fRNRDRJcfupnXrP9OnTMXz4cOzdu5erRzuxeVGVQCDOCAhiGWfIxA0+goAglj4y0WKYzkdATTcyc+ZMnm6EHhAp3cjFixdj1ZhYmCLBJMuQ/zsCNmIkpLIVIaXxV0hEzjywN8vI+w8ATsxZGakXnv0oSWBfddAINhsyDFwW1LO9Mk/rN25CKlBUwSckP3D5ClivPsrn3AXAxv4EuEAMy9UArF+/Xst7mShRIk427UmVo/bPnZdx6rROJEklk2LfKtWwYeEixtVLHd1nhWvnz5/HypUrDV0tUqSIRsDTpk2LOnXqYPz48XBV2iFD4+KDQCASAmL9jgSI+CgQiEBAEEvxUxAIJACBSZMmITAwEH5+fjxf3ZYtW2Jdm1iYXgNVeDjYrwvAps/QCzIGKWceSOkDwKrXAps8hZMLvYAXnMkyWL8BOrn8+htLWuNcNhM3b0F6O4JcFigKNmAQpOyhGl5SlmCwzl0gn7/gsi64omLK1dqyZUuNPOXOnTtG62XkPkz/WUnFoAqrvJXfhs7dJBw9ppPPyPdY5TPl/pw4cSInk0QqI7vOUq5QsQkE3ImAWL/dibZoy0oICGJppdkSffUqBMTCFI/pvHIVUlhhnUSQuyztxUqD9R8I+cjReFRqzlsoDlV1CWb1GijJ/szZVff36tJl3XX6vbLA7Tv8BYRU8F0NM7J4sxat3N+3BLa4du1aZM+eXSNPlCv3/v37sar14iUZpIAZXMSo4Fmmsg3nL1ifYBIINpuNu8OSW2zlypWRIkUKNG3aVMOHMYb33nuPhyksXboU9+7d074TJwIBZyEg1m9nISnq8TYEBLH0thkV47EMAmJhiudUkcvsiZNgo36AVK6S7jJLoi7dvtcrtdkA+6z0+jeWOZOX/AYpQ4BClkq+D9y4aZm+u7qj8vETmqWSVa0BvHjB3Yblv/4Cq1aTY8Y6djJ2wyJxmEQkKd5Qtcxly5YNv//+O8hyF5uNhrlmLUO9Rjakzm0DWS+fP9fvvHVb9hoPa4pTvXlT/7sgUSQVNzqSa3Hx4sXRs2dPbNy4EVRebAKBhCIg1u+EIiju91YEBLH01pkV4zI9AmJhctIUkbVqzlyw+g0h79ylVSqvWwcpazBYk2aQFy+xZOwdDUbesUMjUFJoAa6qqw3Sx0/kPXshZQ5SSGSjJgaXYW69vnxFQ0jetRtS3kJgEydZxvr7zz//8Ly4KlGqXbs2LlyIm4vvjZsy/t7INBxIRTZvMRsKl7bhp/ESwu9qX3nFCSnrrlixAl9//TVITE3FTj326NFDG6dEMc1WltXVRiJO3I2AWL/djbhozyoICGJplZkS/fQ6BMTC5NopZV266W6R5C6rxmVOnQZcu+7axp1cOymgai7AWUMgr1/v5BasW5389998bsltmLVsbRB6sh8VucWqrsVStlxgffpZwgJMFrY+ffqAUnAQOXrjjTdA+XIpL258tuMnZKTPq7vKpstjQ6OmNqz7i1lRWPe1EFy9ehVz585Fs2bNQJbfv//+W7uH3I4zZ86MTz/9FLNnzwaVFZtAIDYIiPU7NiiJMr6IgCCWvjjrYsymQEAsTC6eBsa4BZP16KWLvagxmalzQD59xsUdcHL1d8IVtVwaA8UPjhsvFGMjIKZ0I2qeS1LVdejn+eQJSOxJymcXo0svG9p+xV2rnTxbTq/u6NGjKF++vGaBo9Qkf/75Z7zauf8AmDxVQvFyOsEk0R+KzfxjmW7djFflJr6JXIntLZRdu3bV8FQtmvnz5+eqvEQ6nz17ZuLRiK55EgGxfnsSfdG2mREQxNLMsyP65tUIiIXJvdMrnzwFNnIUpDLlufXPnnxQygrKlynv3eeYlLi3q9G39uIFt8qpljfW5ksltjD6O3zmG7ZwEaTUSooa9k3n6OdRkiAvWwbp/fK6BTNPwWgtnWYCkIjRggULuOVNJUK1atXCqVOn4t3Ng4dkfNNF4nGYRC63btOJ5e07wOPH8a7a9De+fPkSpOTdu3dvUF7ixIkTG4jm8ePHtTHQ/+vYxrhqN4kTr0VArN9eO7ViYAlEQBDLBAIobhcIxBcBsTDFFzkn3GeXeJ0EfigWUyVrUkh+sK+/gbxpE0lQBUiSHwAAIABJREFUOqExJ1dBVpexP+miRWUrAjdvObkRa1bHfpmjzSPr3iN6chkxPIpfJcVdNmGiPuBXryCvXm1qokn/O7777jvNPZbcZDt37pwgBVTyrF2xktm/b0Gn7yRkzGdDi7Y2bN7C7NPJ6nh50dndu3fx22+/oU2bNihdurSBSDZq1IgT+ubNm2PhwoUIDw/3opGLocQVAbF+xxUxUd5XEBDE0ldmWozTdAiIhckkU/LyJcjaxRp+qgnBaCQzey6wwUNN0lFjN0j9VMoaohCp4DCDcJGxpG99YtOm6+SyV5/XkkuOjp3aKpv/q3L/20XBZs4ytUX4xIkTqFGjhmZly5gxIyZMmACyxCV0I0goTYmaF5OOoUVtPJ3J2XOxU6dNaB/Mcj9ZKgMCAjScyVpMarNk5ezfvz92795tlq6KfrgJAbF+uwlo0YzlEBDE0nJTJjrsLQiIhcmEM/n8ObdWsdZtNSVWNmiI3tHHj8F+XQA8eKBf8+AZufdKBYoqRIjiBUnx1I4kebBrHm3akAOUUtDEARM2ZapO2CmeNTAfT21jljl3BOy6desMCqi5cuXCokWLDPGEju573TWCbfsOhrYdbMgcZiSZjZuZ0Jr/ugEl4HsSSyLhn27duqFgwYIGklmsWDFDzY8ePTJ8Fh+8DwGxfnvfnIoROQcBQSydg6OoRSAQZwTEwhRnyNx7g80GecsW4NJlrV35t991EvdRbbDpMzzvhvroEVijJrqVrllzy6TT0IB1wQmRbNXyHGPMpaO2CdPRYyAFh2l18NQ13/c0p3s0qFs2TJ48GVmzZtVIDxEeyt3ojI10bBYuYqhWx4ZUuW34vpekVUse45Q389Ur7ZLXn5CC7MyZM/HJJ59g1KhR2njp/3ry5MlRqlQpDBo0CAcOHDC41GoFxYmlERDrt6WnT3TehQgIYulCcEXVAoGYEBALU0zomPM7TixVC6GmMOsPqVwlHvcIT8VdUdzlmLGaMqpUpATk4yfMCaIbe2Vwi23/ddzjJslNmuI2C77LCSarVNWNvY9fU48fP8bAgQORKlUqjWBWrFgRO3bsiF+FDu66ek0G5cdUN0pVQq6y2d+2oeO3EnbvMcZqquV84bh+/XoNd1VgidKctGrVCn/88QdofsTmGAESi1q8hOHLjjaY3egr1m/HcyiuCgQEsRS/AYGAhxAQC5OHgHdCs/KJk2DDR0Aq+b5u0UqdA7hwUa+dHiDj4IKp3xj/M3nrVkg58yh9yhQENvsXt/ch/r13zZ1s1mxdLbZ1W8QrWSOlrlm1CvLOnXonb98Ba9JMURLWr5rm7ObNm+jYsSOSJUumEZ1q1aph7969Tu/jrwsY/AsaXWXzFVfiMU+e0gmo0xs2aYVkzZwxYwbq1q2LlClTavgT0Rw/frzWa19XmQ2/CyxfwdC5m4R33jf+fv5cp6sTa4CZ6ESs3yaaDNEVUyEgiKWppkN0xpcQEAuTl8z2pcugmD72ZTvDgFjtepDyvwPKoynv3hN3a5mhtjh8uHET7MOPNMLLyDXW7K//4zC8+BTlgjxpIlKRNPzUKYI8rN8AHeMq1SBv2GBKEn/x4kW0bt0aSZIk0QjORx99hF27dsUHymjvIXfYv9YzNGtpQ4a8RpJw/ITvkUsVKIrNJCtmp06dQLGv58+fV7/C9OnTebxmnz59sG/fPq92maV3bBcuyrBPDdqtp2QQhyKrd5EyNk40jxw1929GrN/az1icCAQMCAhiaYBDfBAIuA8BsTC5D2u3t/TihVEAhtxmg8PAOnaCTDFvrg5GYwxs2HDdNTasMOR9+90Og5kalJcuhZQ+gJNBVrVGghM0ykePgX3RElK6nBrBlIqVhrx4Sfysoi4G6+zZs/j8888NuRorV66MzZs3O71lMtaTFbPmxzZuibI33H/6uQ0f1rJhwGCJx2WSW639907vjIkqjGyhrF27tkb2yZqZI0cOtGvXDn/99ZdTlH09OXT6DVBO1NFjJTT8zIbAQsrLBnr5oG6r1zAUKGVDu69tWLSY4dZtc5NJtd90FOu3PRriXCCgIyCIpY6FOBMIuBUBsTC5FW73N0YJ1RcvAfu0KaTMdnkyU+cAq1XXLf2hPI2Ul5OL2KTLCTZkmGnFZ9wBiPz333pKmdLl4JSYWLJYf/sdpExBOsEsXNy0OJ8+fRotWrTQcmASoSlTpgxWrlyZYBVZR3No/w6FMSBrfqM1k6xU2d62oXJNGwYP0wWBHNXlbdcoF+bcuXNRv379KC6zGTJkwFP7fLsmHrz9iwEik4VLKwJPNLf2e5rcNkyd7h1zLNZvE/8gRdc8ioAglh6FXzTuywiIhcmHZp/SmKxZA9bmS0g5coP9NE4f/J1wsAaNwObNB+7d06876+zuXbDGn+mk5/3ykM+ec1btlqtH3rMXUvZcCh6FigFXrjpnDDSPAwbxuiO7RePJE+e04cRaLly4wK1jfn5+mtUsLCwMs2bNArlvumIjAnL4PxlTpkncZbbQezakzq2Tjyo1jSlMylezoc4nigLtnHkS9uxlePjQFT3zfJ3Pnz/HmjVr0LZtW67sW65cOUOnevbsidmzZ+Pu3buG6+78IEnA6TMy/ljGMHCIhAaf2kCxtBMn62SR5lclk8FFbKj/qQ0jfpCwdTszuMG6s9+uaEus365AVdTpDQgIYukNsyjGYEkExMJkyWlLeKcpGM0u0EgRl8mhWxWrVAebNNl5hId6TKqx838Fpczg1svMwWA/zzRlTGDCAX59DfKx43oqkeAwyIf/e/1NsS1BJJLkLSM2+cC/HHeKtcX1G+pl0xyvXbuG77//HmnSpNEIJqmYDhkyBHfu6ONwVYefPwf2H5Axc7bECYvazv0H0AiKSlTUIwkFfdtVJzN0DxGaB15COhljuHXrlgoFP0+cODGfn6RJk6JKlSqYNm0abt++rZVx5gmFZN8J12s8f0HmLs3pI8XOqvPRoq3+QoD+va1YyXDtunXcWvWRxv5MrN+xx0qU9C0EBLH0rfkWozURAmJhMtFkeLAr8qnT4EIwRUroVkU1lUmpDyAfOuy83l28BFahitYOq1bTkKfTeQ1ZoKaLlyAVKqZgkSUY5Cbrio116abhTTGe7Mv2kE+fcUVTCaqT/h/9+OOPPM5PTZORIkUKLvxz5MiRBNUdn5vJaLrpH4ZJUySewoRcZXPaKc9SSgp1Iy6vkhxyqy1RzoZPmtjQ5XsJEyZJ2LVbj+tT77HSkQjkgAEDuNCPOjd0JEGmSpUqYe3atXEezsuXCr6z50joP0hC89Y2lK1q09R9Ke5R3SheUsWXyCXhS2RyzE8SNvzNDCRUvcfbj2L99vYZFuOLLwKCWMYXOXGfQCCBCIiFKYEAeuHt8pmzYD+OhvRBBSVFRhp/o/Vr2zZQ3GS8UmaoeEkS2OgxkDIGKoSHrJfTpvum9fLePbCKHyo4UAzqnLkqSs47RqQqUeY0wjKd2h+sURPI+w84rx0n1fTy5UvMnz8f7777rmbBJBJTvnx5LFmyBK/sgyad1GZcqiFXWLJwnjipW8TOnpORo4DuUquSIPXYtoORJIUWtaFMZRt35aS8m0NHSJgxU+KpL+zrjUu/3FWWYmSHDx+OokWLavMzc+ZM3jzFsB749yHW/nkXK1cxTJshcZdVIon1GtkwbKRu5SUcVXwcHcnN1X5bv4HhzFk5Qf967Ouz+rlYv60+g6L/rkJAEEtXISvqFQi8BgGxML0GIF//+sZNyMuXG1DQSJB/brDWbSGvXAnEU+BDPnkqgsAqZIdRyowzZw3t+cSHFy/APmumWRUpTtJVMqXy9u1cuIm7I0coBYN8B024kYLp9u3b0aBBA4OSLLnJ9uvXD1euXDFdr8mF89BhmZOq8RMlbrEkgjTrF51QEXF0RKTUa/aWOnIHJbGhvMVsKFneBooBpfrIWvdNFwlL/9AtoWQBnP+rhCW/MU5QKQ/jxk0Mm7cwHl9IsYnqRrGKe/cxvu/ew7BtO8M/mxmIvK1ZyzhxVssSj/9htIR+AyV8111Cm/Y2kLJutTo2FH3/McpV3gESAaKN3IrVcTg6flTP+FsrVUGph6y/w0dJWLiIYd9+GeSGLLaYERDrd8z4iG99FwFBLH137sXIPYyAWJg8PAFWa55SiFB6i7dCNBLECUrGQLC69cF+XRD3EZH18qdxuvWS6ho+wvXpUOLeU9feQdj26qPhSmJH8SXssemo/N8RsOYtwMaN14vbbJCXLTOlmuzly5dBuRazZs2qWcko5q9mzZpYvnw5bCYlxzq4+hm9h9mxk/F4TnKz7dNfQquvbKjdwIbSlWwYN0EnoadOx0xCO3yjEzVKleGIzKnX7OMQiQCr1x0dP/tCr5egdVRGvUYpXey39KF3kCLgFPyy70SyzEuRPONU5C+8AF+224cNfz+zLyrOE4CAWL8TAJ641asREMTSq6dXDM7MCIiFycyzY+K+vXrFc2GyTt9CyvW2ToZq1zN0mlsf7fMAGL41fuAuuFWqa3VJRUpA3rnLWMgHPrGZs7Rcl1LJ94Gr19w2akpNw18U5C0ENnmKS4ltfAdFbrKLFi1C2bJlNYJJbrJkxSTV0pMnT8a3alPeR1bI4ydkbN/BsGo1w4KFjKfLGPmjhN79JG4ZVTtOxLJqbRsqVFcIavFyNpDq7dslbQgrbkPPPjphpZjQXO/Y+E5uufR9wffIAqlYRnv11ctS/V+0sYFI7Pe9JAwZLnHySyq55O568JBuCVX7curUKQwaNAj58uUzzFOWLFlcpvirtu0rR7F++8pMi3HGFQFBLOOKmCgvEHASAmJhchKQvlyNLHNxHzZ4KOQVK3QkLlxUSEq+wmCdu0DetOn1VkhSjp03n6dDUVw1/bnQjK8pc8hbt+oYBOaDvHefjqsLz9jsXyBlD9XJPbk7DxrinFybLug3kchu3bohc+bMBvJSqlQpTJ48GfdckTrHBePw5irJnfngwYPo3r07cubMiXr1jC+fJk6ciGPHjnkzBC4bm1i/XQatqNjiCAhiafEJFN23LgJiYbLu3Jm950QySYFUi+WjeL6sIWCfNlVcZmN66Kd8jC1b6/dmzwU2dVrCBIPMDlik/snnL0AqXFzBgNyD5/8aqYSLPj59CjZxEqTcBXT8MwWBff0NQOYzE25kxfz999/x0UcfcZVSsmDSTvkx69evj6VLl4JyNIrNswhQChM1FpN6cubMGe2FAAk1/fTTT4YUJ57trflbF+u3+edI9NAzCAhi6RncRasCAYiFSfwIXIrA48c8Zo+1aAXJP7dOVFLngLx0qd40ERYHLrPytm2QipbU7yte2rfcYx8+BKtdTxs/pQ1xm9COzQa2aDGk4qWV9stW1OfLxGc3btzgKUsKFiyokRYimZQjs0WLFtiwYYOl4jFNDHWCu0YpZGrXrg3Ki6m+DKDzOnXq8LhZT6v/JniALq5ArN8uBlhUb1kEBLG07NSJjlsdAbEwWX0GLdR/SeKkkPXuC6lYaYByDURsbOBgSKEFwNp/DXnNGmNsHxGcCRO5tVO1frImzYCLl9TbvftIoj59++vkskp197qmkqvzxo2Qd+7UcQ4PB6teC/Lq1QDllzDhprpgkqusv7+/RlyIwGTKlAlt27bF33//LUimCeaOcmSOHz8exYoVM8wTxdKKLXoExPodPTbiG99GQBBL355/MXoPIiAWJg+CL5rWEDDmV8zBFWJZjTrcJVM+d14pd+s2T28ipfZXSFaGAK6iCpK39IGNLLxS5iBl7HkKQj54yGOjZkOHaURXKlAUbMbPSp4Jj/Uo5obJBXPLli348ssvkTFjRgN5IZLZqlUrrF69WojKxAyjW749evQounbtirx58+LZM11BduHChZg1axaekOqQ2DgCYv0WPwSBgGMEBLF0jIu4KhBwOQJiYXI5xKKB2CDw9Cm3fpHF0l5lllso3woxuH/K+w+AVaqqE5ucecAVTCnZnpdvlCJEyltIGTvFXc7+xTMjvnIVrHsPSFmD9XkgoZ+Bg4HbdzzTp1i2SmlJyB22TZs2UUhmqlSp0LBhQyxYsEAI/8QST1cVI4uzutF57ty5+QuB1KlT8xcE//77r/q1zx7F+u2zUy8G/hoEBLF8DUDia4GAqxAQC5OrkBX1xhsBcr08egxs1A+cQLJmzfWqZBncQkbWzLZfGUkoqc8uWmxa10x9EAk8u3sXrGZdjdCxNl8CdpadBNYet9spBnTsT8Z5yBoMPH4ct3o8VJpIJrnDdujQAdmzZzdYMpMkSYLy5ctj9OjROH36tId6KJolBEicafjw4ciVK5dhjkqUKIGZM2f6rBVTrN/i70Mg4BgBQSwd4yKuCgRcjoBYmFwOsWggoQjYWy5OnNQIlRpvydNjZAzUrxcrDfnPPx2KASW0K6a5n+Iuh5A7aoRbMI1ZdRn2RCdVoZ+S74OEmuw3sjA7EmayL2OGc3KX3b17N77//nvkz5/fQGAoLpNIDRFQcpl9+vSpGbrsc32gOdq0aRMaN26MZMmSaXP0+eef+xwWNGCxfvvktItBxwIBQSxjAZIoIhBwBQJiYXIFqqJOlyFA1swjR8F+HA1WpVrUdCb26U1Kl4O8bp0lSE188ZI3bNDzXWYNhrx4SXyrcs599BLAznoqH/5PIfzvlACbNdvUcZiRATh79ixPf1GpUiUDiSGSmTx5ctD1kSNHglwyifCIzb0I3Lp1CyNGjEBISAg2b96sNU7ztnjxYviCoqxYv7VpFycCAQMCglga4BAfBALuQ0AsTO7DWrTkAgQoncnq1TzHohRWBGzBQlBKDsnegpk9FOy7rpDPnnNBB0xQ5eUrsBc/IhdhmMSiRvOhCQ5RHlOKhx0wCLh5ywTAxb4Ljx494ukvSPwnICBAs5QRyaQ9c+bMaNSoEaZOncrdZu3jA2PfiigZHwSI1Nvj/c033/A5IdfmQYMG4ebNm/Gp1hL3iPXbEtMkOukBBASx9ADookmBACEgFibxO/AqBFS32es3IL1XVnePJVJDe0BesC/bQf7td0O6E8tjQK6offrprrEF3wUJ/Zhiu3ePW5gNokzpA8C+aAncCTdFF+PSCSIxx48fx7hx41CzZk2Q4I9KMNVjjhw50LRpU8yYMQOnTp0yEJ+4tCXKxh2BUaNGIWvWrNqc+Pn5gVxl9+/fH/fKTH6HWL9NPkGiex5DQBBLj0EvGrYyAoGBgdriqT7QUHxQXDaxMMUFLVHWUgjYbJBXrowgmBGxiCrBTJ0DPPZPHdC165YRnFG77Ogob9oEKTCfQqIpHctP48wjZkTzseQ3SGXKK/3LmQd48cLRMCx1jVwut27digEDBqBcuXIgIqP+P1aPb731FlebJTJKBIdEg8TmOgRI7Gf+/PkoWbKkYS5q1arlukY9ULNYvz0AumjSEggIYmmJaRKdNBsCRCzJ1efGjRva/jiOaoxiYTLbrIr+uASBGzfBvv0OUoYA3YpJKrJTpnK3Uda8BaR0OSGVrQjWfyDkLVtIitIlXXF5pbfvgNWyU42tUg24dNnlzcalAXnPXsjLlum3SBJYxQ/BRoy0pBVTHwj9nJ5ypdnevXujbNmyPB5TJZjqMWXKlKhYsSL69OnDxYDu3DF3ihb78VntnASZPvvsMyRNmhTdu3fXuk+W57iul9rNJjkR67dJJkJ0w3QICGJpuikRHbICAkQsx44dm6CuioUpQfCJm62GQHg4J45Stlw6wcyRG1JIfv2zatXMFMTTerBx460nACTLYNOmQ8oUpIwrawjY/F9NOw551Sodf8rP2bot5IOHrPbrctjf58+fc4vm4MGDUa1aNaRNm9ZgRVPJJqnONmvWjCvTOqxIXEwQAteuXcPt27e1OijNTLp06dCjRw9cv35du26lE7F+W2m2RF/diYAglu5EW7TlNQgQsSQXqwwZMqBw4cIYMmQIz/cV0wBfvHjB4yppQaL9ypUr/CGHzsUmEPAZBJ48AZswEVLuAjqhIUVZslh+VJuLzGjpTN4pYYBFPnTYMtZM+fQZ3fU0dQ6w+g2BGyYUM3n+HGzOXEjFS+vzQQSf5oNyk1rVemz45SgfSGzmyJEjXOinefPmyJs3bxSiWbduXV7Gwe3ikpMQaN26tYY7uS+3bNmSx846qXq3VCOIpVtgFo1YEAFBLC04aaLLnkdgzJgxXGb98OHDXCQiU6ZMaNXKmEMuci/79++vLabqm3I6CmIZGSnx2ScQUOP+Sn1gJDTlKyspTUaOApvxsw7F06eK4mzWYLBPm3IVWty/r39vxjMS9qGcl+TqS2QtWy6wefPNab2kdDI7d3Jstf5SPOzOXWZE1ml9unfvHtatWwcimokTJ+b/oxMlSsQFgM6d81I1Y6ehF7+KiOAvX74cZcqUMayJROr37NkTv0rdfJcglm4GXDRnGQQEsbTMVImOuhqB6IifPQnct2+fw278/vvvfIEMD49eaVFYLB1CJy4KBCDv2g3WpJlOwIiEBebjrrO4cpUjRNZKSpmhWTOpTLqcPKcmd5k1WSyj/bTyvttZBFnNulDHZV/ONOfXb4ANHMzdkaGq/QJgP88EiRTZXzNNn53QEVKcbdCggUZ2yJrWs2dPy8cDOgEal1Wxc+dOEKFU11myIlshN6kgli77SYiKLY6AIJYWn0DRfechQCIOJ06ciHGnmB1H29WrV/nCSGIFsd3EwhRbpEQ5n0Hg6jWw3n2NBDJtTrCPPwG5loLy5u3cBdarD6RCxQwkk/04Wofp1SvzKLKqvSLr5YiRkMjtl0hx5iCw4SOAaP6nqLeZ5vjwIaTMwUrf3y6qqN7eu2ea7jmzI6QeW6lSJY3sZMuWDXPnzrUE4XEmDu6si0j9F198gTlz5riz2Xi3JdbveEMnbvRyBASx9PIJFsNzDwKrVq3iDyGXLl2KdYNiYYo1VKKgryHw8iXkxUu4WqlmocwaDBKasd/kM2fBxv4EVqkq5JOntK/Y3Hl63szVq4Fnz7TvPH0iHz/B4xe1ceUtBHnFCvNbAW/dBuvQSSeXRI5J7Kdla25x9jYrJimXkrtmSEiIRjBLlSqFHTt2ePonJNo3AQJi/TbBJIgumBIBQSxNOS2iU2ZGgFx3KMby4MGDOH/+PBYvXozs2bOjdu3aceq2WJjiBJco7KMIyMeOQypXSbNOUkoSslzGtLGmn2vlOYEjAlSvAdis2cDNWzHd6p7vSDn21wWQgiLyXpK4T9UakP874p72E9LKo0dgU6dBKlrSgDEbPyEhtZr2XvJSGTZsGChNiequ+fHHH+PUKf1Fhmk7LzoGXIz9y964wCXW77igJcr6EgKCWPrSbIuxOgWBAwcO8OTPJF2fIkUKrixI8ZmUQy0um1iY4oKWKOvTCLx8Cfb1NxqR4TGKMblhksVzwwblnlxva/dxkpk2J3D3rjngfPxYcetV3WPT+PN0H7hmgRQMJPZDsbEtWnG3Xvt8nfL+A1wIyJusmJQyg9RMVYGfJEmSoH379rh504RKv+b4dXu8FxQTTK7nXN3Yyb0R67eTARXVeQ0Cglh6zVSKgVgNAbEwWW3GRH89jQB3cc0YqBDFfIUhHz32+i4RATp4CGzwUEglykB6v7zhHtaqDViXbpC3bAFsNsN37vognz0H1qiJToApj2e/AcCjR+7qQsLaefLEcD8Rf07iCxXjrsq4E72omeFGC3w4evQoatasqVkv33zzTS7wQ+qyYjMPAvLq1ZDSKmrMrE8/p3dMrN9Oh1RU6CUICGLpJRMphmE9BMTCZL05Ez32PALyvwchhUbkwMwcDHn58rh1yl4s59497eGTEyFKB/L5F5B//90jpI7SfRDx5X2hGEb/3IpIjn2f4zZa95dmjFtdKf5SGwdZjRo1gbx+/WvdmN3f4fi1+M8//6BEiRIawSQPFspn/Pjx4/hVKO5yGgLy7j1KaiJyMW/Z2iXxy2L9dtp0iYq8DAFBLL1sQsVwrIOAWJisM1eipyZD4E44WOWqGnFhAwbFj7A8fw75jz8Ud87soVp9nBARGSKrobs3srAuXQoprIjen5D8PNWHpyyq8YLgwQOwadMhlXxfHwc96H/8SbyqM+NNJPCzYsUKFChQQCOYlNN4+PDheGQVa7MZgU1An+RTpyFF/C2zGnUAUoh2wSbWbxeAKqr0CgQEsfSKaRSDsCICYmGy4qyJPpsGgVevwL79TiMtJM6DBw/i3z2bDfK2bWBdu0MKK8zrJZEabaNUKIOGgHJSuiV2kMZHMWIh+bUxEtkkd2BLEUxAcUWmGNm3QsCmz9Agxb17SvyblSyyeu+1M8q7uGDBAoSGhmoEM0OGDBg8eDAeJOQ3qbUgTmKFwI2bkHJHeDOUfB9wofVYrN+xmhFRyAcREMTSByddDNkcCIiFyRzzIHphbQTYL3MgZYjIDRlWmJOYBI+IrIYnThpEftjkKTrBCy0A1ulbyBs3uswioo3h+XMepyjlyK23H1YYNG6rEUye9sWORGqYEuHs0Anyvv3uIe0auM49sdlsmDdvHhd0UxVkyUW2V69euHXLBGrEzh2uuWp78gRS8dLK30hYYeDWbZf2T6zfLoVXVG5hBASxtPDkia5bGwGxMFl7/kTvzYOAvHefHndJqUUorYiTN4oPJKuoIXaQ4iCzhoB91gz2qqhOblqpjtJ8jBwFA8HMW0ixAL544ZImXV1pFIss4UmCP6N+gCWUcaMBSJIkLFy4EPnz59csmKQgTiqylKJKbE5GQJLA6tZXSKV/bpAYlqs3sX67GmFRv1UREMTSqjMn+m15BMTCZPkpFAMwEwLh4dDUSFXRjjimAIrVcJ4+hbxqFVibLyHlzKM8zKbLaXDDlQ/8C1y5Gqvq4lyIUpSM+oEL+2jiOIH5wH74EXj4MM7VefwGSVJSw3zWzEjaMwQYMPV4P+PRAXKRXbZsmUHkh9KUNGrUCHv27IlHjeIWRwiQqjP/W8gQAHnnLkdFnH7QQrkxAAAgAElEQVRNrN9Oh1RU6CUICGLpJRMphmE9BMTCZL05Ez02OQKkSDp8BKQ0/sqDZqFikA//57pOEynaudMYNwhAeq+s0n7J98GGDoN85KjzXTyfPOGKsYYYTHIp7dXHutY+EvyZ8TOkshW5Bcp+4jiOGzYAkmR/2RLnJPJDKrJVq1bVLJjkKlumTBksJaEmC47JLMBTHLT6gkVevMRt3RLrt9ugFg1ZDAFBLC02YaK73oOAWJi8Zy7FSMyFgPzPP5AC8mpWDDZpsvOJXXRDfvGCEyMpdQS5JfdO2vMVVvJlOtui8vIl2OxfIL1dVHvA5knhm7dwTrxpdON09fWXL/UWLlzUxxaQF6xzF5D7s1tElPReOOXs0KFDaN68OZIlS6aRzKCgIIwcORLh4d6T79MpYL2mEvmvv7R0QWzIsNeUdu7XYv12Lp6iNu9BQBBL75lLMRKLISAWJotNmOiutRC4fcfoGlu3PnDHjQ/uN25yVVdWq64uLkQuug0/NeJoJ2Zj/CKOnxiDvGwZpHKVdBJG7VWuyq9bTujHfvgXL4G1/xpS9lyGsXGV3P4DIZ+zXtzi9evX0bt3b5B6rCr0kzx5ck469+7daz96ce4AAXnzZkhZg/nvgX3R0u0vGcT67WBSxCWBAABBLMXPQCDgIQTEwuQh4EWzvoOALIONGw+y4HGrYWA+yOvWuX/8jx8r+TLJirhsmdY+Kc9KmYLAGjQCmzcflH7DGZu8Zy9Yk2aaNYePPdfbYCNGupdcO2Mw9nW8fKnEt9LYMgZqJJMtXKSXYkw/t8DZ06dPMXPmTBQtWlQjmEQ06fO0adNEPszIc0h/0xRjHOHuzipUATwgXiXW78gTIz4LBBQEBLEUvwSBgIcQEAuTh4AXzfocAvLBQ5AK6K6irF1Hl+a4iy3AnPSqrrJ0TJsTrEp1cNfdy1diW0305S5dBuvZW0sYzwlmhgCwz7+AvH2726080Xc0Ht+QiNH8X8E+/sQwl0SepRJluIKulSyZFIe5a9cuNG3aFH5+fhrJTJUqFdq2bQuyYlIZn94ePuQvYfjvmKzxZKl0hUBXLEAW63csQBJFfBIBQSx9ctrFoM2AgFiYzDALog8+g8DTp2DffqdZuSjmUd6xw7PDp3yZB/4F69sfUpESet8iyCa5+zllo1yYlO9TzfOnkllK7TFuvCFfp1Pa82AlUcZYvDQXdJJPnfZgr+LW9J07d/Djjz8iT548GsEkKyalLxk1ahTIjdYnNiLSV69B3rKFu5VL+d9R/kbSB4BEezwZYyvWb5/4BYpBxgMBQSzjAZq4RSDgDATEwuQMFEUdAoG4ISBv2gRdSdUf7LuuHrN6RO65fOYs2OgxivhP5mDg2TOtCBs2HKxRE66aigsXtetxOiEiu3sPWOu23AVXtfxIZMX8tCkoV6cVVVcNGFBs7fQZYB9+pLlLauN8v7xHyYihn7H4QBbKzZs3o0mTJqA8mGosZuLEiVG9enUsWLAA5Epr+e3uXZ4mhM2ZC9a7L49DloqWNLg7a3MYkp//hj09ZrF+e3oGRPtmRUAQS7POjOiX1yMgFiavn2IxQLMiQGktWrbWLYR5C4GUZE21PXli6I5UuLjeX7I4hhXmgjbyH3/ELzaTMJg8BfwBXrVg0jEkP1iffpBPnjK0b8kPKsmsXgtSupw87lQbB8XqDR4KeetWS5DpBw8eYPr06ShdurRGMIlokqssqcxu2LDB3GlLyPp46TKPcaaXJzwPLAlN+ec2/q7tf4t0njanoqhcvRZYt++B23e0KfTkiVi/PYm+aNvMCAhiaebZEX3zagTEwuTV0ysGZwEE5LVr7ayXOcC+bA88eGDKnvN8mQMHK9ZMeti2fwAPyW+0xNlssR+D6o7bsROkbJFUV0t9ADZ+AnDzVuzrM2tJEka6eEnrnXzsuI5hjtz8RQMn6Y8fa2XMenLq1Cn07dsXwcHBBpKZJUsWtG/fnls5PZYbkwjktevc+s3GjAVr1UbJ65pZUXA1/G4j/YZ5fHH7r3l+Vvrb5O7L9mlnTDQhYv020WSIrpgKAUEsTTUdojO+hIBYmHxptsVYTYsACYJQKgv1ITcgL3iidTMLpTx8CHnlSrBvOkMq+K4iYqICzBikoHxgFT9ULHIURxrbh/PnzyEv+Q08RYo9eSVRoWo1eb5MZynXqt311JEUeUn8JQqZpvi9j2orlkxPdS6W7ZKr7I4dO9CuXTtkzJjRQDLfeustdOjQAZs2bYItLi8aYtk2L/bqFeT/joDNncdztLIq1YxCUerflHokdebCxRWX7gGDQGq+8r8HDeJLcWnek2XF+u1J9EXbZkZAEEszz47om1cjIBYmr55eMTiLIUAukZQXUSWYrHotyGfPWWMUr15p/ZQPHdbGoI5FyhwEGg+laSBLXay2W7fBJk6CVLqcsT4iXrXrcUVWs1p3YzU+tZDNxt2gKdaWBJ1UzOQ//1RLgGJfSUAGdjhrX5rk5NWrV1i3bh1atmyJdOnSGUhmpkyZ0KpVK6xduxYv4pua48ULyPsPKPGrX3WAVOoDQ35WFTd+pFQgBYqCfdIYbMAgyL//Dvn4CVPjF9dpFOt3XBET5X0FAUEsfWWmxThNh4BYmEw3JaJDvo4AqacOGqI/MJOozaAhBhEd00NErq2nToNNmaqIoOQwxrBR/KS2UX7NffuB11i0uKjQ0GFRlWuJZNaoAzZzlrXzY6qAEHbHT/BUJQbhpO49FMKZNVjJOfrzTODKVfUu0x1fvnyJNWvWcJIZ2ZJJMZn169fHnDlzEB4e7rjvkgT56DE+r+QeTulbtFywqvVRPRImFaqAdfoWbNZsTj7x/Lnjer3oqli/vWgyxVCcioAglk6FU1QmEIg9AmJhij1WoqRAwJ0IyKfPKKqi6sNz7gKQly41xjG6s0MJaYsxyIf/43FrrG59g4unvGqVTphq1lUsmrv3xGhZ4oSj3wDughvZSsUJxpix1rH0xhJXIuNS9lDNmqmNm9K1dO4CRBJaimW1bilGbrAbN27ksZc5cuQwWDJJXbZMmTIY3asXzowfD6lXH55HVcoSTTxk9lxgVWvw3KjkMk0vHMCYW8ZhtkbE+m22GRH9MQsCgliaZSZEP3wOAbEw+dyUiwFbCQFSDV202CjuU6kqyNXUWzb280xIWR2QCHKdrVoD8sFDMQ6VW/fIklmstGPS1aMX5G3bXmsRjbERs3xJVrw9exWL9vvl9VQmOfMYXjjIK1ZA3rvPlEqzFJO5f98+jGnfAX1zBuLnZKlw/I3MUecudQ7YMgWBVaoKRnNIrqznLxjGaZZp8VQ/xPrtKeRFu2ZHQBBLs8+Q6J/XIiAWJq+dWjEwb0LgyROw/gP1nHpp/HmqBErc7hUbEaYD/4KN/QmsXgODmA1ZbtWNFFNZz94gtU6HsZUXLnIFWS7gYi/8Q1bft0J4nkzKU4jrN9QqrX2k3Iu//a64AasjkWVIOfMoRI3G/PEnYBMmcrdSeEoMSnXvnTyFi+ZIAXkdEskTb2bhRLN14mQo+L9ESPq//6FYsWLo1asXt3g+s8upqg7Xl49i/fbl2RdjjwkBQSxjQkd8JxBwIQJiYXIhuKJqgYCzEbh4CazxZ/pDecZAsL79gYcPnd2SZ+sj11lS+pw+w2ChYo2a6GNP7c/zX5KaLvt1AXDhoqEsKceyBQvBmn4OKXukFCZENIuWBOveA/Lff8Or4vHu3+dkUsoaYodVDuU8Zx7l9+KG2ZXPnQeb8TPP2+mQSJI6a7lKYL36QF6zBggP56I+lAuza9euKFiwoMFllvJlJk+eHOXLl8egQYOwbdu2+IsAuWH87mhCrN/uQFm0YUUEBLG04qyJPnsFAmJh8oppFIPwMQQon6T0QQWdOPjn5lYpxFdt0yL4kTskz0kYpiunarGG6XIaBY5I2EZVUCWL6M6dYL37KiIwatyqeiSBpCrVwIYNh7xrt3e4zZLS7O49fEzsw480azf7vqc+248eKaqp4ycoKTckSf8urmd3wrnbNmvzJaTcBfTfpooxvQQhjAcPVWJsYyGuc/36dS7w07RpU2TPnj0K0UyRIgUqVKiAgQMH4p9//oGvWTTF+h3XH6ko7ysICGLpKzMtxmk6BGK7MFGi6+fPn4vdizHwWDJz0/1VWKRD5F64bBmk/O/oD/G53lbcIl+jsGqREcbczRs3uZgRT9HxXllIZSsaynMV0YyBilWMLJPLlikusOQOevsOz1/IWrbm+TY1cqqSoCzBPI8kGzlKIZoqQTW0YLEPlKpj2zYYXIvXrdN/OzR2GjelhBkyjKc/iVEQiMj6rt2KizbhTxZkFT86kkWyfGUl1QelSUngSw+KzTx16hSmTJmCBg0aIHPmzFGIZrJkyVCqVClu8Vy+fDlu3bplsUmKW3dju37HrVZRWiBgfQQEsbT+HIoRWBSB1y1MtJjTW+Pjx4+L3QcwoLmmORebhRB49Qps6jQjQQorwokTEmKBshAEvKv2yqCvXulxhvZkh86z5QL7oqU+OiLof/4JNmYsWP2GPBbTQJDoHhKRIWsb5UMk19nHj/X7LXxGYjhs+AhOoh0JKLFp0/XRUTznwUPc7Tha9+J3SoB17c7xdDVG9H+K1qXJkyejUaNGyJYtWxSiSe6zISEhaNKkCcaPH489e/Z4lfvs69ZvffLEmUDAtxAQxNK35luM1kQIvG5hUkkl5RojNyNhtfROqy3NLc0xPajRnIvNggg8ewY2egwk+5yRlCCe4g99wYIZecooTvPESbBf5oDnQXynhGZVo1hNbWNMzxnqnxtSqQ/AqtXkRJLiMB2mvSBhoHffA4/vnDdfSXlh9RcyZIEk4jhxkhLHG5Kfx7nyWEn6XeVz4H6cOZiTcTb7F3haSIqI5vnz5zF37ly0bdsW+fPnR6JEiaKQTbJqFi9eHB06dMAvs2fj+LZtsJ09p/0cKHUJ5UWVworwXKz6F+Y7e936bb4eix4JBNyDgCCW7sFZtCIQiIJATAsTuUYS0Yg2gXWU2sQFqyOgkkvhFmvhmaS4ucFDDcqq9JDM1VC9waUzIVPz7BlP1SIfOarXcifccX7ICEsn+6QxqDxZhbmljlw8I1tB6XPWEJ5/kQ0crFjs7oTrbVjpjCy4hw4rLq6cjEcI/zgas3qtQFFQ2hdtMwnJfvDgAdavX8/FfkYUeQeDU6XHpKQpsdIvLQ69kQn3U2bjc/lPigwoWbIk2rVrh+nTp+MZvWBInUOZR21Q5juJaf02X29FjwQC7kNAEEv3YS1aEggYEIhpYSLrJBFLXxNEMADkYx9ormnOae7FZnEEHj7kwi0GRVSKwZwwEXj61OKDc0H3HzzgAjYUi8nTnnz7HU99Qi6y2nbjpmNSqRKsyEeK8cz1thJr+GU7bg2U162DvP8AcNNE8X9EJvft5/kipcjCSGlzKm7AlLLk5CnIO3cp+JA6cZ6CEXj4G9K/kNquVKQEWItWPP0LzyP66JEGo7NO5PXrFYv0yFFgnbuAfdYMrHJVSAXf5VZH+3ak4LBo525PiowGy2b1RElQPklSlAoLAwkHjRo1CuvWrePeHGYKFYhp/bYfuzgXCPgaAoJY+tqMi/GaBoGYFiaVWAqSYZrpcnlHxJy7HGL3N0AWzFE/GGMOs4eCDRoCXBNuz3GaELJ4EpmZNZtbhdlXHcBq1YX0bime0oRIDWveAtLbRaMlMZq1s3BxkMqtfOo0T3cikXWQxG7q1lcIGRHbAYM4iZM3bNC7SSSQLK6UXiU8XEmVEk8LIU/p0quPHUGMsE6Sgivlv5w7D7h7V2/b0dntO4rQj913rEIVB+P3B5FWimPFxUuQz57jrrfUB/uNjZ8AUq5lRMQbfsqtwOR2LIXkB6tU1b6oQtojk3n1c56ChrKs07cgsSbWbwDYzzMh//UXJ8rsyRMuCrRw4UIu+lO5cmVkzGgkmhSrqe65cuXC0aN2Fm9DK+79ENP67d6eiNYEAuZCQBBLc82H6I0PIRDTwiRIhg/9ECKGKubci+ecYjCnTIWUt5DxoZ9yG5ISaM/ekBcvUVwafTEm0xlTb0/wrlxVCBLF65Fyb+ZgI+4qAaIjWTbtP0c6Z82a67178SJq2TT+Sv00l1+218sCoFQj7KPaCmElolavAaTipY2u0tRepiBOiIkos286g3X7ngvxsC7dwPep04z1ElH7oqViJfyksVI//Y4qfsjJtbxypUKM69aHlC5n1D6rY8yeixNG3ubPMyEF5ou+bL7Cxj58/oUyNuoHkdGxP/HcpfLGjZw0GgrH4QNZJa9cuYKVK1diyJAhXBwoLCwMiRMn5gTzgw8+MIXIWUzrdxyGK4oKBLwOAUEsvW5KxYCsgkBMC5MgGVaZRef1U8y587A0bU2U33DxEkiUIoIIifqAb3/MEMDJB3dlHD2GW3e4OIs9cTLtAE3csUePIO/YATZpMni+x5Lvx0wqswYrlrpadXm6FLLykZVSohjAaMgouYNqG6nj2s9rlHN/bpmUl/zG3aN5ipAoZRQrJqni2m+krhtt3e+VtS/q2LJIRDsgry6cFLndt0IglXwfbP6v4O7D+/YrIkmGmt374dKlS3jjjTc4ufztt9/c27iD1mJavx0UF5cEAj6DgCCWPjPVYqBxQYDelL733nt8IUubNq3DW2mhq1mzJt58803uvvP111/j5cuXDss6uhjTwmRlktG8eXPUqVPH0ZDFtRgQsPKcxzAs8VV0CDx9CnnPXlBaCdauI6Qy5SFlDoqeMGQNgfRBBbC2X/H0HPTAT26NpKQptngiQGqsFLv42+9gffqB1a7HyWS0pI3m572yYK3bgv3wo0I4D/zLSRe5lZKKK9/IZXbjRu5eG4Uw5isM1qARuJqrXbdZ776K5Y+sld17KDtZAnv0Apvxs11JgP00jrfPxo0HmzyFf0+us0RS5c2bDWUpdyalNsGNm+C5Me1+L/KBf5U4SbKMfviR0WX7gwqGerjlN3cBHj/Jragzfua5OSkvKdz00mPAgAGcWAYFBXk8Fj2m9dsAnPggEPAxBASx9LEJF8ONHQL9+vXDmDFj8N1338ERsSTlzgIFCqBChQr4999/sWHDBmTPnh0dO3aMXQMAYlqYrEwyBLGM9U/AUNDKc24YiPgQfwQoTQfFv5GIDcX4NfyUi6FIlGIjslVJ/UzWs6IlQWk8WN/+YJSCY9duJQYw/j3x7TvDwzkx5O6dLVsr7qtkSVYxj3zMEqwQzsafcdfmKC6l+d8BGzpMeRFgdmTvhEPessUYu/n8efQW9tQ5uMCQ/bDk1atBpBUPH9pfTvD506dP4e/vz8nl8OHDE1xfQiqIaf1OSL3iXoGA1REQxNLqMyj671IEZs+e7ZBYrl27lsd8XLt2TWufBAiSJ0/OCaN2MYaTmBYmK5OMmIjl6NGjOSEnKy89IJDE/GO7hOcXL17kVuB06dJxSzDlQ1uzZg1H8d69ezzZdqZMmZAiRQqEhoZi1qxZGsL//fcfJ/r0XYYMGdCmTRtD3VpBk55Yec5NCqn3dOvFC8iH/wNbtJinouCEs3BxRLGGRSY85DJJFramnyvCKXPmQt6+XREOsrNceQ9QLhwJuTEfP8FFfzjp/6SxIhQUnUsznwt/xZ22Zl1FOXXyFJAYELcgWi2Wlgjn1q1g02eAfddVyTeZuwDPT8o+/0IHnlyA7V+E5MyjWNopFnPQEMW1Wy8d57P58+dzYpkqVSrcuHEjzvc764aY1m9ntSHqEQhYEQFBLK04a6LPbkMgOmLZt29fFCpUyNAPIj6kXrdp0ybD9eg+xLQwOSIZJGrw5MkTt+9xlXiPiViOHTuW40PJtDdu3Ii8efNycqliVKNGDVSpUgVEEs+dO4dVq1Zhy5Yt/GtKql2kSBHs27cPFy5c4FZiEnigjd5kk8X4448/xpEjR3jdwcHBoL5YZXM051bpu+inhxAgsnPmLOQ1a8BGj1HUPCtVRUzpHTSrG1ngChRVXBvbf83Va7kr5e49SjoON7k3egi5hDd79y7Yj6Mh5StstGRSDGZoAUWQJzLRt/9MojqU45TEfTp24vNHlmr54CFD+pCEd9TFNTx7BtjnDb19hxNJHotqP96Ic0Mcqs0GUp0lUSOesmTceMgrVvBcnqB6HWyMMZ73ktbaVq1aOSjhnksxrd/u6YFoRSBgTgQEsTTnvIhemQSB6IglWcOIAEXe/Pz8sGDBgsiX+ecXL15wayYtSLST8h0tjnQeeXNEMohUUnl379RuXLaYiGXkepYsWcLjU9XrBQsWBMXRONpq1aqFFi1aOPqKJ9ZOnz49J91qAbJ0kpLgzZs31UumPjqac1N3WHTO3Ag8ecKtnPLSpZw0kmIpq1IdElmZ7C1KDh7+Ofkk4kkpKqpU01NFTJ8B+f/t3QmUFNW9x3EQEJBNWVQkgELAoEZeICGoeULEAHEjypNNhCCQ4IKgPAx58YkIBDEeAX0o4iEYN0xQwsMNE+KCIioRXJBdQUSIiMADUcSZ+b/zu2011T09Nd1Db9XzrXP6THV1Lbc+t5niN/fWrWefNfeYit27s3ZvXT5B69z1OI6YAXxOOMX0SI2S99ccLqqC+bZPrOSFFyL30f7nTVbc6zIX5sttaVadqLX5h2e7R4S40DV9hpUsWOCeeWmf7gyHvZ5PqoF//vwX91zX4qHD3eNiokibt8SGct93Ud+zsqbly5e762DVqlXdrShlrZfJ5QTLTOqy7zALECzDXHuUPSWB8ePHlxvK1Brmn4KCZffu3f2ruvkaNWqYusQmmso6fmUKlmrN1bPK1Lqorkzqtqqg7IXXBx54wKpXr25nn3226T7Xd955J0qp7scaFbB9+/Y2duxYW7ZsWfSzG264wbp27Rp9r5m9e/e6fXstnjEf5uEbgmUeVkqhFunQITfQjAaY0XMF3cA1Vw62onPP+3bwmjJGrPX9x9+FT93fqfCpx1you60Gnpk2PfLolKVLTQPHmK+re2g5de/r//6vezRHtMVXFh07RwbWSfGPb1ZUZPbRVncfowbm0eNmivsPjIwW3KxNmWEr5tgK/hoIqFvk+Z3F/3WzG/G2ZOFCK3lzRaS7s46Tz5P++LF4cWSkXg1Y1HeAFXX+dzfybkxIT3AOAwYMcL/fL7jgggSfZn4RwTLzxhwhnAIEy3DWG6WugMBnn31ma9euDXzpP/f+qaxgWZGusEfaYhn2rrC6f1JBcvTo0aa/OK9fv97mzJnj/nOwZ8+eKPvWrVvtvvvus0svvdQU1O++++7oZzt37jTVyRVXXOH2NWbMGPeZ9qmBlPyTFyyXLl3qX5y38wTLvK2aylcwjW69eUvknrpHHnUDz2jkWjdqasezrOik7yYXfrwgqtFU1WX03PMiI6Kq660GJ7pvlqlFteSVV6xk7Tqzzz/Pr1Fuv/rK3VPoRkT1zqVBczeoksqcsdFQ9++3ktXvR7o46/EoCuz9roiMHHyynjWZZPDX/Z9av9M5rrXUtVrLfdb95gLo8tcj93seOBC67/iGDRvctUO9UnJxryXBMnRfGQqcJQGCZZagOUw4BcoKlt7gPdu3b4+e2OOPP87gPWbuvsZEjxt54oknXGuk7pHxpokTJ5YKlt5n+jlu3DhT99hE06xZs6xevXruo9mzZxtdYRMpsQyBDAl89VWk1fOVVyKDCukeTz22YsCVVvzTn7mWzMDHp3hBLf6nuulqwJf2P4q0xvXp7x7H4ka81WM29GzF556zktffiLSI7tplrgUwnaf50VY30Iwrh1e+E1q5R3/Y1o/TeaSK7evrr10gdIPpPDbPiqfeYcUjR7lus+4Zqae0CxzFNabl0zs/PdtS4V+PtLnscnMhVI9gufseK573eGTQId3/ue0Ts4MHK1buNG+lR4Kpx4vu3c/2RLDMtjjHC4sAwTIsNUU5syqgZ1SuWrXKJkyY4Lpsal4vbwRT73Ej3bp1c/d4LFmyxI1yyuNGIsFS3VI9M++nuqTqPwHTp093A/M89NBD1qxZs5hgOWrUKFu8eLFpcJ+33nrLOnXqZH369HF1r1bihQsX2saNG2316tVu9Fh9rkmD9zRt2tR69+7tBu9Rl9tWrVoxeE9W/9VwMAQSCKj1TQMMvfpqZERVtcDdcqsVj7jWBRgFGQ1iU6TndHohJ+Wf37GiE1tZ0alnRlrnelwYefyK7ivVsyBvn+pa6TSqrgulry2P3A+pkKSuurof8v/+z93/p66lMeVodZrr3mv79iU4uTxepG6w23dYyT/fspKnn46M5jphYiSkX/ofVnR2FytqfboVBT1GJageFEQ1SJFaQ3teFPmDggYhGj/B3PM19dgbPXbktdcirdH/+jTtgXTmzJnu+tGhQ4esVwTBMuvkHDAkAgTLkFQUxcyugAagSTRIzosvvhgtiMKnRjHVfX96vIVCpbq7JjsFXZjC3C2yLDst17NBFQBl1qNHD1O4lLPXFVaGrVu3di2/TZo0sSuvvNJ2qUXCzNS62a5du6i3WkUVQL2Jx414EvxEIKQC+v2pAW/efsdKlixxLWXF9/xPpNusQotaQ7tfEHmupAYh0vMjg8JPsp+plVSjtPrWd/cuPvqY2aFDIcVMstgK1RpkZ/2GSJfkBQsiIfy2SZHRavV8VIXtf+sUaUlOZuAnn6Pf1M3rvlx1z9XjctQ1+uJfWPGVgyPH+t1/R1pfZ90faSXVQFH6g8Q770aeAaoBo3z3jer2Ft2Tr2vI+++/n+QJp2e1oOt3eo7AXhAIpwDBMpz1RqkLQCDowhTmYFkAVZOTU6DOc8LOQcMuoPtBP93pWsVc65gevfLwI+YCqcLRDWOseMjQSPdOBSTdI9r2+5FRV+OfQanHr0y53Q2sE3aWjJVfQXTPnkgrtLojy/tPD7lWXdddWffP9rvCintc6FoznfURtUY3iwn8Lpye8G1racfOdnGjxi5Yjmv/b1askXcn/96K/wwKbJwAAByjSURBVGem+w6UPPWUu0/YPt6Wdo6g63faD8YOEQiRAMEyRJVFUQtLIOjCRMgorLpO5myo82SUWAeBNAooJKkrrLrEbvkoc4PxpLHIod2VWhp3747cl6vuuUuWuIGbiv8414rvmhbpHj3qhsN/BDi/RySYtmsfaSlVS2eCltDHa9R3wbJFlSp2qG6CEFqvmRv1ON1uQdfvdB+L/SEQJgGCZZhqi7IWlEDQhYmQUVBVndTJUOdJMbESAghUVgF1lVbrtLrtvvGmlTz/vB146GGr/+1jq17o19+Kh//ajdrrWkzPOtc0oq9GH073FHT9Tvex2B8CYRIgWIaptihrQQkEXZgIGQVV1UmdDHWeFBMrIYAAAjECQ4cOda2Ww4YNi1meyTdB1+9MHpd9I5DvAgTLfK8hylewAkEXJkJGwVZ7mSdGnZdJwwcIIIBAmQIaVE8D+DRo0MD0ezQbU9D1OxvH5xgI5KsAwTJfa4ZyFbxA0IWJkFHw1V/qBKnzUiQsQAABBMoV0LORmzdv7sLl/Pnzy10/HSsEXb/TsX/2gUBYBQiWYa05yh16gaALEyEj9NWb8glQ5ymTsQECCCDgBMaNG+eC5SWXXJIVkaDrd1YKwEEQyFMBgmWeVgzFKnyBoAsTIaPw6z/+DKnzeBHeI4AAAskJrF692gVLPddSz7fM9BR0/c70sdk/AvksQLDM59qhbAUtEHRhImQUdNUnPDnqPCELCxFAAIGkBDp06ODC5YwZM5Ja/0hWCrp+H8l+2RaBsAsQLMNeg5Q/tAJBFyZCRmirtcIFp84rTMeGCCCAgN1zzz0uWLZv3z7jGkHX74wfnAMgkMcCBMs8rhyKVtgCQRemQg4ZGr3vr3/9a0Yrt2XLljZt2rSMHiPdOy/kOk+3FftDAAEE4gU+//xzO/roo124XLlyZfzHaX0fdP1O64HYGQIhEyBYhqzCKG7hCARdmMIcMgYPHuwu7AqQ/lePHj1c5aUzWM6dO9cNMR//rdi5c6cdOHAgfnHS77VfldMrs7fhnj173HINb5/sJI9evXqVu3qY67zck2MFBBBAIAsCl19+ufsdPXLkyIweLej6ndEDs3ME8lyAYJnnFUTxClcg6MIU5pChINWzZ0/bsWNHzGv37t2uMrMRLI/0W6NgqUEg9HrhhReiuyNYRimYQQABBPJO4Nlnn3XBsmHDhnbw4MGMlS/o+p2xg7JjBEIgQLAMQSVRxMIUCLowhT1YBrXQxQfLm266ydq0aWO1a9e2U045xW6++WY7dOhQtNLffvtt69q1q9WtW9fq1atnGqBhxYoV5j0UW/vzXuPHj3fbxXeFVSAcPny4HX/88VazZk07/fTT7amnnooeI37GawnVNp06dYp+nChYbtu2zfr06WPHHnus6T8zGu5+8+bNbhuVxyub97Os1s4w13kUiBkEEEAghwJFRUXWrFkz93s3k8+0DLp+5/D0OTQCORcgWOa8CihAZRUIujAFhYwvvvjCynppO/9U1npa/uWXX/pXTbjPmBWSfFNe108FLP89lhMnTrRly5a5MLZo0SI74YQTbOrUqdGjKQQOHDjQ1q5daxs2bLC//OUvprD59ddf2/Tp061+/frRltH9+/e77fzBUg/P7ty5swuTf/vb3+yDDz5woVJ/2S5r8oLlJ5984gKv9x+U+GCp7rYKxVdddZW9++67tmbNGhswYICdeuqprnwqj0KnvwVX5U40BdV5ovVZhgACCCBQWuC3v/2tC5YXXHBB6Q/TtCTo+p2mQ7AbBEIpQLAMZbVR6EIQCLowBYUMr+Ur0c/4C+kxxxxTqsXM265Lly4xjI0bNy61bswKSb5RsKxWrZrVqVMn5nXbbbe5PcQHy/jd3nHHHdaxY8foYrVSPvjgg9H3/hkvAPqXad4fLJ9//nk76qijbP369fGrlfnev189eLtt27b2zTffWHywnDNnjguRJSUl0X0pOKr1VcfVVF7Q9jYMqnNvHX4igAACCAQL6He9rjP6va8/DmZiCrp+Z+J47BOBsAgQLMNSU5Sz4ASCLkxBIcMLhol+5kuwPP/8823jxo0xL43Ypyk+WKo18JxzznEtlQqj6qrapEmTaH2rO6nudezWrZtNmTLFNm3aFP3MHwCjC+OCpVo/W7Ro4f84Zt4fgH/961+7z/z7VZg87rjj7P777y8VLK+55pqEIbpq1ap27733un0RLGO4eYMAAghkXOAnP/mJu9bompGJKej6nYnjsU8EwiJAsAxLTVHOghMIujAFBcug7q3azj8FrZsPXWGXL1/ugtmkSZPcfZPq6qqWzQYNGvhPw7U23nXXXfazn/3MDSe/YMEC97k/APo38LdY3n333YHB0h+AP/3004T7VSvqSSed5P76rWDs3Sc5YsQIdw+mfx/e/N69e92+CJb+mmEeAQQQyLyAepPod7V6m/h7lKTryEHX73Qdg/0gEEYBgmUYa40yF4RA0IUpKFjm+8mXF6T8LZZ33nmntWrVKuaUhg4dWipY+lfo16+fXXzxxW7Ro48+6gb18X+ueX+wfOmll46oK6z2p/r4zne+YxpoyB8sZ8+e7VozVZdlTRoA6KKLLirr4+jyMNd59CSYQQABBPJAYN++febdCqJ7+NM9BV2/030s9odAmAQIlmGqLcpaUAJBF6YwhwwFS/9gNd5jRz777DNXf/5guXDhQtfNdd68ea6L64wZM9zIql6LpVpVr732WtdCuGXLFnv11VetdevWLuBpZ/oPg/a3ZMkS0/69Z1f6g6XW06iyZ5xxhmnwng8//NA0cM9zzz1X5vcpUUuo/gJeq1atmGDpDd6j/S9dutTtW0H2+uuvt48//tjtf/Lkya7FdN26da6M/hFv/QUIc537z4N5BBBAIB8EdC3S9WHYsGFpL07Q9TvtB2OHCIRIgGAZosqiqIUlEHRhCnPI8C7muqD7XxopVZOW+UeFHTt2rDVq1Mi1PPbt29emTZsWbbHUQDhqoWzevLnrAqvuqNddd51rQfS+DeqOqu2137IeN6L7O4cMGeLWUzhUyHz66ae9XZT6mShYahj70047zR3H6wqrDRWcBw0aZBr8SPeHqgVWrZSqX007d+50XXj1uBSV0b+t/8BhrnP/eTCPAAII5IPA66+/brfeemv08U/pLFPQ9Tudx2FfCIRNgGAZthqjvAUjEHRhImQUTDUnfSLUedJUrIgAAgjkVCDo+p3TgnFwBHIsQLDMcQVw+MorEHRhImRUvu8FdV756pwzRgCBcAoEXb/DeUaUGoH0CBAs0+PIXhBIWSDowkTISJkz9BtQ56GvQk4AAQQqiUDQ9buSEHCaCCQUIFgmZGEhApkXCLowETIy759vR6DO861GKA8CCCCQWCDo+p14C5YiUDkECJaVo545yzwUCLowETLysMIyXCTqPMPA7B4BBBBIk0DQ9TtNh2A3CIRSgGAZymqj0IUgEHRh8kKGHrfBVDkEVNdr1qyJGfG2cpw5Z4kAAgiESyDo+h2uM6G0CKRXgGCZXk/2hkDSAkEXJj3aQiFj165dSe+PFcMtoLpWnavumRBAAAEE8lcg6Pqdv6WmZAhkXoBgmXljjoBAQoHyLkzbt2+Phku1ZqkVk1fhGahuvVCpOmdCAAEEEMhvgfKu3/ldekqHQOYECJaZs2XPCAQKlHdhKikpMS9cqiWLV2EbqK5V50wIIIAAAvktUN71O79LT+kQyJwAwTJztuwZgUCBZC9M6hpJS2XhtVT665Tur4H/VPgQAQQQyCuBZK/feVVoCoNAFgQIlllA5hAIJBLgwpRIhWUIIIAAAgjktwDX7/yuH0qXOwGCZe7sOXIlF+DCVMm/AJw+AggggEAoBbh+h7LaKHQWBAiWWUDmEAgkEuDClEiFZQgggAACCOS3ANfv/K4fSpc7AYJl7uw5ciUX4MJUyb8AnD4CCCCAQCgFuH6HstoodBYECJZZQOYQCCQS2Lt3r1WpUsU+/vhj00WKFwZ8B/gO8B3gO8B3IP+/A7pu6/qt6zgTAggcFiBYHrZgDoGsCngXJl2ceGHAd4DvAN8BvgN8B8L1HdB1nAkBBA4LECwPWzCHQFYFiouLXWul/uLJX6gP/4XaC9z6icthl0xb4J49a39d4o67//tQ6POF8n3XdVvnous4EwIIHBYgWB62YA4BBPJAQP+x0l/t9ZMpewK4Z8/afyTc/RrZm8c9e9b+I+Hu12AegcITIFgWXp1yRgiEWoD/eOSm+nDHPTcCuTkq33fccyPAUREobAGCZWHXL2eHQOgE+A9fbqoMd9xzI5Cbo/J9xz03AhwVgcIWIFgWdv1ydgiETuDgwYM2fvx400+m7Angnj1r/5Fw92tkbx737Fn7j4S7X4N5BApPgGBZeHXKGSGAAAIIIIAAAggggAACWRUgWGaVm4MhgAACCCCAAAIIIIAAAoUnQLAsvDrljBBAAAEEEEAAAQQQQACBrAoQLLPKzcEQQAABBBBAAAEEEEAAgcITIFgWXp1yRggggAACCCCAAAIIIIBAVgUIllnl5mAIIBAvMGnSJDvrrLOsdu3a1qBBg/iPE74fPHiwValSJeb14x//OOG6LCxboCL2JSUlbtTepk2bWq1ataxLly62evXqsg/CJ6UEdu/ebQMHDrT69eu7l+b37NlTaj3/AjnHf+f79u3rX4X5OIGZM2faySefbDVr1rQOHTrY0qVL49aIffvEE09Yu3bt7Oijj3Y/FyxYELsC75ISSMV97ty5pb7X+p5/9dVXSR2LlRBAIL8ECJb5VR+UBoFKJ3DLLbfYXXfdZTfeeGNKwbJnz562Y8eO6Ovzzz+vdHZHesIVsb/99tutXr169uSTT9p7771nCjcKmfv27TvS4lSa7fXdPeOMM+y1115zL81fdNFFgeevYDl8+PDo913f/b179wZuU5k/fPzxx61GjRr2wAMP2Jo1a2zUqFFWp04d++ijjxKyqC6qVatmv//9723t2rXuZ/Xq1e31119PuD4LEwuk6q5gqT+w+H+Xa54JAQTCKUCwDGe9UWoECk5A/8FIpcWyV69eBWeQqxNK1l6tlSeeeKIpXHqTnkuneps1a5a3iJ8BAgo5apHxB5bly5e7ZevWrStzSwVLhSOm5AQ6depkI0aMiFn5e9/7no0bNy5mmfemT58+psDvn3r06GH9+vXzL2K+HIFU3ZP93VPOYfkYAQTyRIBgmScVQTEQqOwCqfwHQ11hFWaaNGlibdq0sWHDhtmnn35a2QkrfP7J2n/wwQcuAK1cuTLmWJdccokNGjQoZhlvEgvMmTMn4R9Q9H3+4x//mHgjM9fluHHjxtaoUSM77bTTbMyYMbQSl6H19ddfu9bH+K6s119/vZ177rkJt2revLnrOeH/UD0pWrRo4V/EfIBARdz1u0ctxXJu1qyZXXjhhRb/+yXgkHyEAAJ5JkCwzLMKoTgIVFaBZMONfNTd6umnn3ZdMRctWmTt27e3008/3dR6xpS6QLL2y5Ytc8Hyk08+iTmIumh27949ZhlvEgtMnjzZ/TEk/lP9gUTdMMuaZs+ebX//+9/dd37evHnu3sHzzz+/rNUr9XJ9P9UqrO+rf5J927Zt/Yui8+o2++ijj0bfa0bvdb8lU3ICFXFXa/3DDz9sb7/9trsHtnfv3u5++w0bNiR3UNZCAIG8EiBY5lV1UBgECkNg/Pjx7j928YON+N+vWLEi5mSTDTcxG337Zvv27e5+Kt33V9mnTNp7wVLe/kktxuo2WJmnZN3LCjff/e53bcqUKUkT/vOf/3T/xt56662kt6ksK3oBR/dN+icNVnXqqaf6F0XnFSwfe+yx6HvNPPLII27gn5iFvClToCLu8TsrLi52fygcOXJk/Ee8RwCBEAgQLENQSRQRgbAJfPbZZ24ADA2CUdYrftS/IwmW8tF/zP33/oXNLF3lzaQ9XWHLrqVk3SvaFTb+yLrfVWFIrfdMsQIV6ZJJV9hYw4q8q4h7ouPoD1Xx97smWo9lCCCQfwIEy/yrE0qEQKUUOJJguWvXLtey8Kc//alS2h3pSSdr7w3eM3Xq1Ogh9Z9JBu+JcpQ74w3e88Ybb0TX1UA+as0PGrwnuvK3MxqRV9u8/PLL8R/x3sw0iMzVV18dY6FHiQQN3vPzn/88Zn2FGwbviSEp902q7vE71O+YH/7whzZkyJD4j3iPAAIhECBYhqCSKCIChSyg4f9XrVplEyZMsLp167p5vd+/f3/0tNV9zRuIQ8s1cIm6uW3evNlefPFF9xxMDfzAIy+iZEnNpGqvnapVWEFS9aFw079/fx43kpT24ZUUWM4880zT/WV6ff/734953Mi2bdtcl00vfG7atMn9+1D3cX3nn3nmGdMIpz/4wQ+sqKjo8I6Ziwp4j71QC7HC/OjRo93jRrZs2eLWufLKK2NCprp5axAZfb/Vy0I/edxIlDPpmVTdb731Vlu8eLGpN4R+7ytQyt377id9YFZEAIG8ECBY5kU1UAgEKq+ARnj133vpzSswepOWqVVN05dffukGitGIsOoKqNEEtY+tW7d6q/MzSYFU7bVbtSjofkI9dkQPntcomwqYTMkL6JmrV1xxhXseqJ4Jqvk9e/ZEd6DwqO+8929A3205N2zY0A0m07p1a9MIpzy7NUqWcGbmzJnWsmVLZ9ahQ4eY1l09vkXff/80f/58F+j1e0XBnXu2/TrJz6firsCv3+EaJEm/0zUIWPy9sckfmTURQCDXAgTLXNcAx0cAAQQQQAABBBBAAAEEQi5AsAx5BVJ8BBBAAAEEEEAAAQQQQCDXAgTLXNcAx0cAAQQQQAABBBBAAAEEQi5AsAx5BVJ8BBBAAAEEEEAAAQQQQCDXAgTLXNcAx0cAAQQQQAABBBBAAAEEQi5AsAx5BVJ8BBBAAAEEEEAAAQQQQCDXAgTLXNcAx0cAAQQQQAABBBBAAAEEQi5AsAx5BVJ8BBBAAAEEEEAAAQQQQCDXAgTLXNcAx0cAAQQQCKXArl273EPdN2/enHT5Bw8ebL169Up6fa3YsmVLmzZtWkrbxK98zz332MUXXxy/mPcIIIAAAgikTYBgmTZKdoQAAgggkA8CXbp0sVGjRmW8KGPGjLGrrroqpePkKlgePHjQTjzxRHvllVdSKi8rI4AAAgggkKwAwTJZKdZDAAEEEAiFQDaC5ZdffmnHHnusvfbaaymZ5CpYqpA33nij9enTJ6XysjICCCCAAALJChAsk5ViPQQQQACBUAiUFyzfffdd++lPf2q1atWyhg0b2vDhw23//v3Rc/vmm29s5MiR1qBBA/f5TTfdZIMGDYrpwvrkk09a48aNo9topqioyLVgnnzyyW7fbdu2tenTp8esEx8sVdZrr73Wvbzj/e53v7OSkpLoduoKO3nyZBsyZIjVrVvXmjdvbvfff3/0c82ojG3atLHatWvbKaecYjfffLMdOnQoZp2XXnrJjj76aFMoZkIAAQQQQCDdAgTLdIuyPwQQQACBnAoEBcsDBw7YSSedZJdddpm999579o9//MMFMQU+b5o0aZILlAsWLLC1a9faiBEjrH79+jHBUl1te/bs6W3ifirI3XLLLfbmm2/ahx9+aI888ogdc8wx9uc//zm6XqJgqbCo/a1bty66zezZs6PbKFgqAM+cOdM2btxoU6ZMsaOOOsqVzVtp4sSJtmzZMtP9nosWLbITTjjBpk6d6n3sfn7xxRdWtWpVU8BkQgABBBBAIN0CBMt0i7I/BBBAAIGcCgQFSwW24447zhSyvOmZZ55xQe1f//qXW6RQ9oc//MH72LVEtmjRIiZYagCeZO6vvOaaa6x3797RfSUKlu3atYtpofzNb35jWuZNCpYDBw703rp1jz/+eLvvvvuiy+Jn7rjjDuvYsWP8YnfuDz74YKnlLEAAAQQQQOBIBQiWRyrI9ggggAACORNQq2CdOnWir6VLl1pQsLzhhhusa9euMeXdu3evValSxV5++WXzz/tXuvTSS2OCZffu3U2hMX5S2FOgUzdZlatGjRr2ox/9KLpaomCpLq7+aeHChVa9enUXaLVcwVJB0T+deeaZNmHChOii+fPn2znnnONaKnXcmjVruhFroyt8O6PW2nvvvTd+Me8RQAABBBA4YgGC5RETsgMEEEAAgVwJ7Nu3z3UPVRdRvXT/YFCwHD16tLu/0l9eL0wqlPrn/ev84he/iAmWAwYMsP79+/tXcV1edd+muqyuXLnSledXv/qVtW/fPrpeRYNl/ONGtM/x48e7/S5fvtyqVatm6sK7YsUK27Bhg912223uHtHogb+dUfkUQpkQQAABBBBItwDBMt2i7A8BBBBAIKcCQcEy2a6wd955Z/QcNCiPWg39z59UV1l/YNTK1113nZ133nnR7TTTrVu3mPUSBUt/t1dtM27cuFJdYYOCpcraqlWrmOMOHTq0VLDctGmTa5nVTyYEEEAAAQTSLUCwTLco+0MAAQQQyKmAgqVaFFetWhXz2rFjh2nwnqZNm7r7HjV4zwsvvOBCmQKfN6nlr1GjRqYuqRpQR6O2avAetVp6k0aWVXfV3bt3e4vcCLBab/HixbZ+/Xo3Mqve+wNoomCpwXvURVfHeuyxx1wX2lmzZkX3q1AbFCy9rrPz5s0zhcYZM2a4wX40yqx/mjt3bqkA6v+ceQQQQAABBI5EgGB5JHpsiwACCCCQdwIKlrpnMv7ldR1N5nEjan1UKNRAPxpM5/LLL7d+/frFnGvnzp3NHwAPHjxov/zlL11LoZ5xefXVV7vWx/KCpe7V9Eae1fHUYhn/uJGgYKlCjR071oVhhdS+ffu6IBofLHVfqEaUZUIAAQQQQCATAgTLTKiyTwQQQACBghEoLi42PZNSz4b0TxpNVt1Y9XlFp6BuuxXdZ6Lt1DqrkWR1DykTAggggAACmRAgWGZClX0igAACCIRWYMuWLaZ7MdWdVa2bGoBHo7uuWbOm1DlNnz7dtm7dWmp5sguyFSyff/5510U32XKxHgIIIIAAAqkKECxTFWN9BBBAAIGCFlBQPPvss11X2Hr16tlZZ53lHkWSiZPOVrDMRNnZJwIIIIAAAn4BgqVfg3kEEEAAAQQQQAABBBBAAIGUBQiWKZOxAQIIIIAAAggggAACCCCAgF+AYOnXYB4BBBBAAAEEEEAAAQQQQCBlAYJlymRsgAACCCCAAAIIIIAAAggg4BcgWPo1mEcAAQQQQAABBBBAAAEEEEhZgGCZMhkbIIAAAggggAACCCCAAAII+AUIln4N5hFAAAEEEEAAAQQQQAABBFIWIFimTMYGCCCAAAIIIIAAAggggAACfgGCpV+DeQQQQAABBBBAAAEEEEAAgZQFCJYpk7EBAggggAACCCCAAAIIIICAX4Bg6ddgHgEEEEAAAQQQQAABBBBAIGUBgmXKZGyAAAIIIIAAAggggAACCCDgFyBY+jWYRwABBBBAAAEEEEAAAQQQSFmAYJkyGRsggAACCCCAAAIIIIAAAgj4BQiWfg3mEUAAAQQQQAABBBBAAAEEUhYgWKZMxgYIIIAAAggggAACCCCAAAJ+AYKlX4N5BBBAAAEEEEAAAQQQQACBlAUIlimTsQECCCCAAAIIIIAAAggggIBfgGDp12AeAQQQQAABBBBAAAEEEEAgZQGCZcpkbIAAAggggAACCCCAAAIIIOAXIFj6NZhHAAEEEEAAAQQQQAABBBBIWYBgmTIZGyCAAAIIIIAAAggggAACCPgFCJZ+DeYRQAABBBBAAAEEEEAAAQRSFiBYpkzGBggggAACCCCAAAIIIIAAAn6B/wd+gMdduJUHZgAAAABJRU5ErkJggg==)"
      ]
    },
    {
      "cell_type": "code",
      "metadata": {
        "id": "_TWEp2Trn5hN",
        "colab_type": "code",
        "outputId": "a87bf9c6-5200-464d-a00a-c4430071f9d2",
        "colab": {
          "base_uri": "https://localhost:8080/",
          "height": 17
        }
      },
      "source": [
        "elasticnet = make_pipeline(RobustScaler(), ElasticNet(alpha =0.00001, random_state=1))\n",
        "elasticnet = SklearnModelWithName(\"elasticnet\",elasticnet)"
      ],
      "execution_count": 0,
      "outputs": [
        {
          "output_type": "display_data",
          "data": {
            "text/html": [
              "<script src='https://www.gstatic.com/external_hosted/mathjax/latest/MathJax.js?config=default'></script>"
            ],
            "text/plain": [
              "<IPython.core.display.HTML object>"
            ]
          },
          "metadata": {
            "tags": []
          }
        },
        {
          "output_type": "display_data",
          "data": {
            "text/html": [
              "<script src='https://www.gstatic.com/external_hosted/mathjax/latest/MathJax.js?config=default'></script>"
            ],
            "text/plain": [
              "<IPython.core.display.HTML object>"
            ]
          },
          "metadata": {
            "tags": []
          }
        }
      ]
    },
    {
      "cell_type": "markdown",
      "metadata": {
        "id": "4Jhqbvfn6Dxp",
        "colab_type": "text"
      },
      "source": [
        "#### SuporVectorMachine\n",
        "- https://monkeylearn.com/blog/introduction-to-support-vector-machines-svm/\n",
        "- https://scikit-learn.org/stable/modules/svm.html\n",
        "\n"
      ]
    },
    {
      "cell_type": "markdown",
      "metadata": {
        "id": "pCgR6eSh-LoJ",
        "colab_type": "text"
      },
      "source": [
        "- A support vector machine (SVM) is a supervised machine learning model that uses classification algorithms for two-group classification problems. \n",
        " - After giving an SVM model sets of labeled training data for each  category, they’re able to categorize new text.\n",
        "- So you’re working on a text classification problem. \n",
        "  - You’re refining your training data, and maybe you’ve even tried stuff out using Naive Bayes. \n",
        "  - But now you’re feeling confident in your dataset, and want to take it one step further. Enter Support Vector Machines (SVM): \n",
        "     - a fast and dependable classification algorithm that performs very well with a limited amount of data.\n",
        "- Perhaps you have dug a bit deeper, and ran into terms like linearly separable, kernel trick and kernel functions. \n",
        "  - But fear not! The idea behind the SVM algorithm is simple, and applying it to natural language classification doesn’t require most of the complicated stuff.\n",
        "- Before continuing, we recommend reading our guide to Naive Bayes classifiers first, since a lot of the things regarding text processing that are said there are relevant here as well."
      ]
    },
    {
      "cell_type": "markdown",
      "metadata": {
        "id": "Xcb12llG-W8v",
        "colab_type": "text"
      },
      "source": [
        "- **Support vector machines (SVMs)** are a set of supervised learning methods used for classification, regression and outliers detection.\n",
        "- The advantages of support vector machines are:\n",
        "  - **Effective** in high dimensional spaces.\n",
        "  - Still effective in cases where number of dimensions is greater than the number of samples.\n",
        "  - Uses a **subset** of training points in the decision function (called support vectors), so it is also memory efficient.\n",
        "  - **Versatile**: different Kernel functions can be specified for the decision function. Common kernels are provided, but it is also possible to specify custom kernels.\n",
        "\n",
        "- **The disadvantages of support vector machines include**:\n",
        "  - If the number of features is much greater than the number of samples, avoid over-fitting in choosing Kernel functions and regularization term is crucial.\n",
        "  - SVMs do not directly provide probability estimates, these are calculated using an expensive five-fold cross-validation (see Scores and probabilities, below).\n",
        "\n",
        "- The support vector machines in scikit-learn support both dense (numpy.ndarray and convertible to that by numpy.asarray) and sparse (any scipy.sparse) sample vectors as input. \n",
        "  - However, to use an SVM to make predictions for sparse data, it must have been fit on such data. For optimal performance, use C-ordered numpy.ndarray (dense) or scipy.sparse.csr_matrix (sparse) with dtype=float64."
      ]
    },
    {
      "cell_type": "code",
      "metadata": {
        "id": "lblcxUHGn7D1",
        "colab_type": "code",
        "outputId": "1e0d8601-ab3e-401e-de51-8cd6bdc93b04",
        "colab": {
          "base_uri": "https://localhost:8080/",
          "height": 17
        }
      },
      "source": [
        "svm = make_pipeline(RobustScaler(),SVR(C=140))\n",
        "svm  = SklearnModelWithName(\"svm\",svm)"
      ],
      "execution_count": 0,
      "outputs": [
        {
          "output_type": "display_data",
          "data": {
            "text/html": [
              "<script src='https://www.gstatic.com/external_hosted/mathjax/latest/MathJax.js?config=default'></script>"
            ],
            "text/plain": [
              "<IPython.core.display.HTML object>"
            ]
          },
          "metadata": {
            "tags": []
          }
        },
        {
          "output_type": "display_data",
          "data": {
            "text/html": [
              "<script src='https://www.gstatic.com/external_hosted/mathjax/latest/MathJax.js?config=default'></script>"
            ],
            "text/plain": [
              "<IPython.core.display.HTML object>"
            ]
          },
          "metadata": {
            "tags": []
          }
        }
      ]
    },
    {
      "cell_type": "markdown",
      "metadata": {
        "id": "wZIwczqo_O-h",
        "colab_type": "text"
      },
      "source": [
        "#### Lasso\n",
        "https://scikit-learn.org/stable/modules/linear_model.html#lasso"
      ]
    },
    {
      "cell_type": "markdown",
      "metadata": {
        "id": "hr1AnGlK_XAN",
        "colab_type": "text"
      },
      "source": [
        "- **The Lasso is a linear model that estimates sparse coefficients**. \n",
        "  - It is useful in some contexts due to its tendency to prefer solutions with fewer non-zero coefficients, effectively reducing the number of features upon which the given solution is dependent. \n",
        "  - For this reason Lasso and its variants are fundamental to the field of compressed sensing. \n",
        "  - Under certain conditions, it can recover the exact set of non-zero coefficients (see Compressive sensing: tomography reconstruction with L1 prior (Lasso)).\n",
        "- Mathematically, it consists of a linear model with an added regularization term. The objective function to minimize is:"
      ]
    },
    {
      "cell_type": "markdown",
      "metadata": {
        "id": "mlRbmHb8_c-c",
        "colab_type": "text"
      },
      "source": [
        "![image.png](data:image/png;base64,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)"
      ]
    },
    {
      "cell_type": "markdown",
      "metadata": {
        "id": "HF1DjwuO_jk2",
        "colab_type": "text"
      },
      "source": [
        "- The lasso estimate thus solves the minimization of the least-squares penalty with <math xmlns=\"http://www.w3.org/1998/Math/MathML\">\n",
        "  <mi>&#x3B1;</mi>\n",
        "  <mrow>\n",
        "    <mo stretchy=\"false\">|</mo>\n",
        "  </mrow>\n",
        "  <mrow>\n",
        "    <mo stretchy=\"false\">|</mo>\n",
        "  </mrow>\n",
        "  <mi>w</mi>\n",
        "  <mrow>\n",
        "    <mo stretchy=\"false\">|</mo>\n",
        "  </mrow>\n",
        "  <msub>\n",
        "    <mo stretchy=\"false\">|</mo>\n",
        "    <mn>1</mn>\n",
        "  </msub>\n",
        "</math> added, where  is a constant and <math xmlns=\"http://www.w3.org/1998/Math/MathML\">\n",
        "  <mo stretchy=\"false\">|</mo>\n",
        "  <mrow>\n",
        "    <mo stretchy=\"false\">|</mo>\n",
        "  </mrow>\n",
        "  <mi>w</mi>\n",
        "  <mrow>\n",
        "    <mo stretchy=\"false\">|</mo>\n",
        "  </mrow>\n",
        "  <msub>\n",
        "    <mo stretchy=\"false\">|</mo>\n",
        "    <mn>1</mn>\n",
        "  </msub>\n",
        "</math> is the <math xmlns=\"http://www.w3.org/1998/Math/MathML\">\n",
        "  <msub>\n",
        "    <mi>&#x2113;</mi>\n",
        "    <mn>1</mn>\n",
        "  </msub>\n",
        "</math>-norm of the coefficient vector.\n",
        "\n",
        "The implementation in the class Lasso uses coordinate descent as the algorithm to fit the coefficients. See Least Angle Regression for another implementation:"
      ]
    },
    {
      "cell_type": "code",
      "metadata": {
        "id": "_WiAL90an8t8",
        "colab_type": "code",
        "outputId": "0bcdab58-7028-43b5-e309-321108000680",
        "colab": {
          "base_uri": "https://localhost:8080/",
          "height": 17
        }
      },
      "source": [
        "lasso = make_pipeline(RobustScaler(), Lasso(alpha =0.0005, random_state=1))\n",
        "lasso = SklearnModelWithName(\"lasso\",lasso)"
      ],
      "execution_count": 0,
      "outputs": [
        {
          "output_type": "display_data",
          "data": {
            "text/html": [
              "<script src='https://www.gstatic.com/external_hosted/mathjax/latest/MathJax.js?config=default'></script>"
            ],
            "text/plain": [
              "<IPython.core.display.HTML object>"
            ]
          },
          "metadata": {
            "tags": []
          }
        },
        {
          "output_type": "display_data",
          "data": {
            "text/html": [
              "<script src='https://www.gstatic.com/external_hosted/mathjax/latest/MathJax.js?config=default'></script>"
            ],
            "text/plain": [
              "<IPython.core.display.HTML object>"
            ]
          },
          "metadata": {
            "tags": []
          }
        }
      ]
    },
    {
      "cell_type": "markdown",
      "metadata": {
        "id": "1Hghual4BTLS",
        "colab_type": "text"
      },
      "source": [
        "#### GBoost"
      ]
    },
    {
      "cell_type": "markdown",
      "metadata": {
        "id": "CFiLPXA6EDVL",
        "colab_type": "text"
      },
      "source": [
        "https://www.analyticsvidhya.com/blog/2016/03/complete-guide-parameter-tuning-xgboost-with-codes-python/"
      ]
    },
    {
      "cell_type": "markdown",
      "metadata": {
        "id": "hTS84YaCBTes",
        "colab_type": "text"
      },
      "source": [
        "GradientBoostingRegressor supports a number of different loss functions for regression which can be specified via the argument loss; the default loss function for regression is least squares ('ls')."
      ]
    },
    {
      "cell_type": "markdown",
      "metadata": {
        "id": "zfMbuRWgCiqx",
        "colab_type": "text"
      },
      "source": [
        "The figure below shows the results of applying GradientBoostingRegressor with least squares loss and 500 base learners to the Boston house price dataset (sklearn.datasets.load_boston). The plot on the left shows the train and test error at each iteration. The train error at each iteration is stored in the train_score_ attribute of the gradient boosting model. The test error at each iterations can be obtained via the staged_predict method which returns a generator that yields the predictions at each stage. Plots like these can be used to determine the optimal number of trees (i.e. n_estimators) by early stopping. The plot on the right shows the feature importances which can be obtained via the feature_importances_ property.\n",
        "<img src=\"https://scikit-learn.org/stable/_images/sphx_glr_plot_gradient_boosting_regression_0011.png\">"
      ]
    },
    {
      "cell_type": "code",
      "metadata": {
        "id": "jxoX7x_uoCrP",
        "colab_type": "code",
        "outputId": "9e84cc9b-8a20-46d4-a254-ee8ba306ff10",
        "colab": {
          "base_uri": "https://localhost:8080/",
          "height": 17
        }
      },
      "source": [
        "GBoost = GradientBoostingRegressor(loss='huber',min_samples_split=10,n_estimators=200)\n",
        "GBoost = SklearnModelWithName(\"gboost\",GBoost)"
      ],
      "execution_count": 0,
      "outputs": [
        {
          "output_type": "display_data",
          "data": {
            "text/html": [
              "<script src='https://www.gstatic.com/external_hosted/mathjax/latest/MathJax.js?config=default'></script>"
            ],
            "text/plain": [
              "<IPython.core.display.HTML object>"
            ]
          },
          "metadata": {
            "tags": []
          }
        },
        {
          "output_type": "display_data",
          "data": {
            "text/html": [
              "<script src='https://www.gstatic.com/external_hosted/mathjax/latest/MathJax.js?config=default'></script>"
            ],
            "text/plain": [
              "<IPython.core.display.HTML object>"
            ]
          },
          "metadata": {
            "tags": []
          }
        }
      ]
    },
    {
      "cell_type": "markdown",
      "metadata": {
        "id": "yeWeSXHxEb35",
        "colab_type": "text"
      },
      "source": [
        "#### XGBRegressor\n",
        "- https://www.datacamp.com/community/tutorials/xgboost-in-python\n",
        "- https://xgboost.readthedocs.io/en/latest/tutorials/model.html"
      ]
    },
    {
      "cell_type": "markdown",
      "metadata": {
        "id": "Z3SkaCI27Wd_",
        "colab_type": "text"
      },
      "source": [
        "Boosting is a **sequential technique which works on the principle of an ensemble**. \n",
        "- It combines a set of weak learners and delivers improved prediction accuracy. \n",
        "  - At any instant t, the model outcomes are weighed based on the outcomes of previous instant t-1. \n",
        "  - The outcomes predicted correctly are given a lower weight and the ones miss-classified are weighted higher. \n",
        "  - Note that a weak learner is one which is slightly better than random guessing. \n",
        "  - For example, a decision tree whose predictions are slightly better than 50%. Let's understand boosting in general with a simple illustration.\n",
        "\n",
        "<img src=\"http://res.cloudinary.com/dyd911kmh/image/upload/f_auto,q_auto:best/v1528107577/output_1_0_ilvuyr.png\">\n",
        "\n",
        "Four classifiers (in 4 boxes), shown above, are trying to classify + and - classes as homogeneously as possible.\n",
        "\n",
        "1. **Box 1**: The first classifier (usually a decision stump) creates a vertical line (split) at D1. It says anything to the left of D1 is + and anything to the right of D1 is -. However, this classifier misclassifies three + points.\n",
        "\n",
        "Note a Decision Stump is a Decision Tree model that only splits off at one level, therefore the final prediction is based on only one feature.\n",
        "\n",
        "2. **Box 2**: The second classifier gives more weight to the three + misclassified points (see the bigger size of +) and creates a vertical line at D2. Again it says, anything to the right of D2 is - and left is +. Still, it makes mistakes by incorrectly classifying three - points.\n",
        "\n",
        "3. **Box 3**: Again, the third classifier gives more weight to the three - misclassified points and creates a horizontal line at D3. Still, this classifier fails to classify the points (in the circles) correctly.\n",
        "\n",
        "4. **Box 4**: This is a weighted combination of the weak classifiers (Box 1,2 and 3). As you can see, it does a good job at classifying all the points correctly.\n",
        "\n"
      ]
    },
    {
      "cell_type": "markdown",
      "metadata": {
        "id": "Fd57zpKv8Z8q",
        "colab_type": "text"
      },
      "source": [
        "- That's the basic idea behind boosting algorithms is building a weak model, making conclusions about the various feature importance and parameters, and then using those conclusions to build a new, stronger model and capitalize on the misclassification error of the previous model and try to reduce it. \n",
        "- Now, let's come to XGBoost. \n",
        "  - To begin with, you should know about the default base learners of XGBoost: tree ensembles. The tree ensemble model is a set of classification and regression trees (CART). \n",
        "  - Trees are grown one after another ,and attempts to reduce the misclassification rate are made in subsequent iterations. \n",
        "  - Here’s a simple example of a CART that classifies whether someone will like computer games straight from the XGBoost's documentation.\n",
        "- If you check the image in Tree Ensemble section, you will notice each tree gives a different prediction score depending on the data it sees and the scores of each individual tree are summed up to get the final score."
      ]
    },
    {
      "cell_type": "code",
      "metadata": {
        "id": "7oNGNBVqoGCN",
        "colab_type": "code",
        "outputId": "e2f213ed-9f47-4fad-e8e9-6f8d955ab308",
        "colab": {
          "base_uri": "https://localhost:8080/",
          "height": 17
        }
      },
      "source": [
        "model_xgb = xgb.XGBRegressor(colsample_bytree=0.4603, gamma=0.0468, \n",
        "                             learning_rate=0.05, max_depth=3, \n",
        "                             min_child_weight=1.7817, n_estimators=2200,\n",
        "                             reg_alpha=0.4640, reg_lambda=0.8571,\n",
        "                             subsample=0.5213, silent=1,\n",
        "                             random_state =7, nthread = -1)\n",
        "model_xgb = SklearnModelWithName(\"model_xgb\",model_xgb)"
      ],
      "execution_count": 0,
      "outputs": [
        {
          "output_type": "display_data",
          "data": {
            "text/html": [
              "<script src='https://www.gstatic.com/external_hosted/mathjax/latest/MathJax.js?config=default'></script>"
            ],
            "text/plain": [
              "<IPython.core.display.HTML object>"
            ]
          },
          "metadata": {
            "tags": []
          }
        },
        {
          "output_type": "display_data",
          "data": {
            "text/html": [
              "<script src='https://www.gstatic.com/external_hosted/mathjax/latest/MathJax.js?config=default'></script>"
            ],
            "text/plain": [
              "<IPython.core.display.HTML object>"
            ]
          },
          "metadata": {
            "tags": []
          }
        }
      ]
    },
    {
      "cell_type": "markdown",
      "metadata": {
        "id": "XJsJ_LOtEfMU",
        "colab_type": "text"
      },
      "source": [
        "#### ExtraTreesRegressor\n",
        "https://scikit-learn.org/stable/modules/generated/sklearn.ensemble.ExtraTreesClassifier.html"
      ]
    },
    {
      "cell_type": "markdown",
      "metadata": {
        "id": "noa3kuMn9ln8",
        "colab_type": "text"
      },
      "source": [
        "An “extra trees” classifier, otherwise known as an “Extremely randomized trees” classifier, is a variant of a random forest. \n",
        "- Unlike a random forest, at each step the entire sample is used and decision boundaries are picked at random, rather than the best one. \n",
        "- In real world cases, performance is comparable to an ordinary random forest, sometimes a bit better.\n",
        "https://orbi.uliege.be/handle/2268/9357"
      ]
    },
    {
      "cell_type": "markdown",
      "metadata": {
        "id": "7zWzf81v93xR",
        "colab_type": "text"
      },
      "source": [
        "- The Extra-Tree method (standing for extremely randomized trees) was proposed in [GEW06], with the main objective of f**urther randomizing tree building in the context of numerical input features**, where the choice of the optimal cut-point is responsible for a large proportion of the variance of the induced tree.\n",
        "\n",
        "- With respect to random forests, the method drops the idea of using bootstrap copies of the learning sample, and instead of trying to find an optimal cut-point for each one of the K randomly chosen features at each node, it **selects a cut-point at random**.\n",
        "\n",
        "- This idea is rather productive in the context of many problems characterized by a large number of numerical features varying more or less continuously: it **leads often to increased accuracy thanks to its smoothing and at the same time significantly reduces computational burdens linked to the determination of optimal cut-points in standard trees and in random forests**.\n",
        "\n",
        "- From a statistical point of view, dropping the bootstrapping idea leads to an advantage in terms of bias, whereas the cut-point randomization has often an excellent variance reduction effect. This method has yielded state-of-the-art results in several high-dimensional complex problems.\n",
        "\n",
        "- From a functional point of view, the Extra-Tree method produces piece-wise multilinear approximations, rather than the piece-wise constant ones of random forests [GEW06]."
      ]
    },
    {
      "cell_type": "code",
      "metadata": {
        "id": "UTXovRYOoJRA",
        "colab_type": "code",
        "outputId": "25a8c8d9-ae6f-4a02-e709-425ed2e400be",
        "colab": {
          "base_uri": "https://localhost:8080/",
          "height": 17
        }
      },
      "source": [
        "extra_tree = ExtraTreesRegressor(n_estimators=100,n_jobs=4,min_samples_split=10)\n",
        "extra_tree = SklearnModelWithName(\"extra_tree\",extra_tree)"
      ],
      "execution_count": 0,
      "outputs": [
        {
          "output_type": "display_data",
          "data": {
            "text/html": [
              "<script src='https://www.gstatic.com/external_hosted/mathjax/latest/MathJax.js?config=default'></script>"
            ],
            "text/plain": [
              "<IPython.core.display.HTML object>"
            ]
          },
          "metadata": {
            "tags": []
          }
        },
        {
          "output_type": "display_data",
          "data": {
            "text/html": [
              "<script src='https://www.gstatic.com/external_hosted/mathjax/latest/MathJax.js?config=default'></script>"
            ],
            "text/plain": [
              "<IPython.core.display.HTML object>"
            ]
          },
          "metadata": {
            "tags": []
          }
        }
      ]
    },
    {
      "cell_type": "markdown",
      "metadata": {
        "id": "P45UN2WUEh9z",
        "colab_type": "text"
      },
      "source": [
        "#### RandomForestRegressor\n",
        "https://scikit-learn.org/stable/modules/ensemble.html#forests-of-randomized-trees"
      ]
    },
    {
      "cell_type": "markdown",
      "metadata": {
        "id": "SF2atf4e-6Xg",
        "colab_type": "text"
      },
      "source": [
        "A random forest regressor.\n",
        "\n",
        "- A random forest is a meta estimator that **fits a number of classifying decision trees on various sub-samples of the dataset and uses averaging to improve the predictive accuracy and control over-fitting**. \n",
        "- The sub-sample size is always the same as the original input sample size but the samples are drawn with replacement if bootstrap=True (default)."
      ]
    },
    {
      "cell_type": "markdown",
      "metadata": {
        "id": "mt4-GN9H-xmy",
        "colab_type": "text"
      },
      "source": [
        "In random forests, each tree in the ensemble is built from a sample drawn with replacement (i.e., a bootstrap sample) from the training set.\n",
        "\n",
        "- Furthermore, when splitting each node during the construction of a tree, the best split is found either from all input features or a random subset of size max_features. (See the parameter tuning guidelines for more details).\n",
        "- The purpose of these two sources of randomness is to **decrease the variance of the forest estimator**. \n",
        "  - Indeed, individual decision trees typically exhibit high variance and tend to overfit. \n",
        "  - The injected randomness in forests yield decision trees with somewhat decoupled prediction errors. \n",
        "  - By taking an average of those predictions, some errors can cancel out. \n",
        "  - Random forests achieve a reduced variance by **combining diverse trees**, sometimes at the cost of a slight increase in bias. In practice the variance reduction is often significant hence yielding an overall better model.\n",
        "- In contrast to the original publication [B2001], the scikit-learn implementation combines classifiers by **averaging their probabilistic prediction**, instead of letting each classifier vote for a single class."
      ]
    },
    {
      "cell_type": "code",
      "metadata": {
        "id": "AlUdEgVXoMhu",
        "colab_type": "code",
        "outputId": "f4363e54-5cd5-461c-ba8b-00c41c80ef4f",
        "colab": {
          "base_uri": "https://localhost:8080/",
          "height": 17
        }
      },
      "source": [
        "random_forest = RandomForestRegressor(n_estimators=100,n_jobs=4,min_samples_split=10)\n",
        "random_forest = SklearnModelWithName(\"random_forest\",random_forest)"
      ],
      "execution_count": 0,
      "outputs": [
        {
          "output_type": "display_data",
          "data": {
            "text/html": [
              "<script src='https://www.gstatic.com/external_hosted/mathjax/latest/MathJax.js?config=default'></script>"
            ],
            "text/plain": [
              "<IPython.core.display.HTML object>"
            ]
          },
          "metadata": {
            "tags": []
          }
        },
        {
          "output_type": "display_data",
          "data": {
            "text/html": [
              "<script src='https://www.gstatic.com/external_hosted/mathjax/latest/MathJax.js?config=default'></script>"
            ],
            "text/plain": [
              "<IPython.core.display.HTML object>"
            ]
          },
          "metadata": {
            "tags": []
          }
        }
      ]
    },
    {
      "cell_type": "markdown",
      "metadata": {
        "id": "7awAETRhEklU",
        "colab_type": "text"
      },
      "source": [
        "#### KernelRidge\n",
        "https://scikit-learn.org/stable/modules/kernel_ridge.html#"
      ]
    },
    {
      "cell_type": "markdown",
      "metadata": {
        "id": "BEFaUdFAAHsu",
        "colab_type": "text"
      },
      "source": [
        "- Kernel ridge regression (KRR) [M2012] combines Ridge regression and classification (linear least squares with l2-norm regularization) with the kernel trick. \n",
        "  - It thus learns a linear function in the space induced by the respective kernel and the data. \n",
        "  - For non-linear kernels, this corresponds to a non-linear function in the original space.\n",
        "\n",
        "- **The form of the model learned by KernelRidge is identical to support vector regression (SVR)**. \n",
        "  - However, different loss functions are used: \n",
        "     - KRR uses squared error loss while support vector regression uses -insensitive loss, both combined with l2 regularization. \n",
        "     - In contrast to SVR, fitting KernelRidge can be done in closed-form and is typically faster for medium-sized datasets. \n",
        "     - On the other hand, the learned model is non-sparse and thus slower than SVR, which learns a sparse model for , at prediction-time.\n",
        "\n",
        "The following figure compares KernelRidge and SVR on an artificial dataset, which consists of a sinusoidal target function and strong noise added to every fifth datapoint. \n",
        "- The learned model of KernelRidge and SVR is plotted, where both complexity/regularization and bandwidth of the RBF kernel have been optimized using grid-search. \n",
        "- The learned functions are very similar; however, fitting KernelRidge is approx. seven times faster than fitting SVR (both with grid-search). However, prediction of 100000 target values is more than three times faster with SVR since it has learned a sparse model using only approx. 1/3 of the 100 training datapoints as support vectors.\n",
        "\n",
        "<img src=\"https://scikit-learn.org/stable/_images/sphx_glr_plot_kernel_ridge_regression_0011.png\">\n",
        "\n",
        "- The next figure compares the time for fitting and prediction of KernelRidge and SVR for different sizes of the training set. \n",
        " - Fitting KernelRidge is faster than SVR for medium-sized training sets (less than 1000 samples); however, for larger training sets SVR scales better. With regard to prediction time, SVR is faster than KernelRidge for all sizes of the training set because of the learned sparse solution. Note that the degree of sparsity and thus the prediction time depends on the parameters  and  of the SVR;  would correspond to a dense model.\n",
        "\n",
        "<img src=\"https://scikit-learn.org/stable/_images/sphx_glr_plot_kernel_ridge_regression_0021.png\">\n",
        "\n",
        "*Ref: “Machine Learning: A Probabilistic Perspective” Murphy, K. P. - chapter 14.4.3, pp. 492-493, The MIT Press, 2012*"
      ]
    },
    {
      "cell_type": "code",
      "metadata": {
        "id": "GOIGzq7EoN8x",
        "colab_type": "code",
        "outputId": "8a99a676-acd0-4741-df0d-3b3ac556a662",
        "colab": {
          "base_uri": "https://localhost:8080/",
          "height": 17
        }
      },
      "source": [
        "krr = KernelRidge(alpha=1e-5,kernel='polynomial',degree=3)\n",
        "krr = SklearnModelWithName(\"krr\",krr)"
      ],
      "execution_count": 0,
      "outputs": [
        {
          "output_type": "display_data",
          "data": {
            "text/html": [
              "<script src='https://www.gstatic.com/external_hosted/mathjax/latest/MathJax.js?config=default'></script>"
            ],
            "text/plain": [
              "<IPython.core.display.HTML object>"
            ]
          },
          "metadata": {
            "tags": []
          }
        },
        {
          "output_type": "display_data",
          "data": {
            "text/html": [
              "<script src='https://www.gstatic.com/external_hosted/mathjax/latest/MathJax.js?config=default'></script>"
            ],
            "text/plain": [
              "<IPython.core.display.HTML object>"
            ]
          },
          "metadata": {
            "tags": []
          }
        }
      ]
    },
    {
      "cell_type": "markdown",
      "metadata": {
        "id": "tGnJPdbcoP01",
        "colab_type": "text"
      },
      "source": [
        "## 8th Stacking Classifier"
      ]
    },
    {
      "cell_type": "code",
      "metadata": {
        "id": "sne9mggXoTpV",
        "colab_type": "code",
        "outputId": "8263f944-3df8-496d-937b-4124559a0fbd",
        "colab": {
          "base_uri": "https://localhost:8080/",
          "height": 17
        }
      },
      "source": [
        "class StackClassifer(BaseEstimator, TransformerMixin, RegressorMixin):\n",
        "    def __init__(self,base_models,meta_model):\n",
        "        self.base_models = base_models\n",
        "        self.meta_model = meta_model\n",
        "\n",
        "    def fit_model(self,_model,_x,_y):\n",
        "        _model.fit(_x,_y)\n",
        "        return _model\n",
        "        \n",
        "    def fit(self,X,y):\n",
        "        self.base_models_ = clone(self.base_models)\n",
        "        self.meta_model_ = clone(self.meta_model)\n",
        "        for base_model in self.base_models_:\n",
        "            base_model.fit(X,y)\n",
        "        y_pred = np.array([base_model.predict(X) for base_model in self.base_models_])\n",
        "        meta_train = y_pred.mean(axis=0,keepdims=True).T\n",
        "        self.meta_model_.fit(meta_train,y)\n",
        "        return self\n",
        "    \n",
        "    def predict(self,X):\n",
        "        y_pred = np.array([base_model.predict(X) for base_model in self.base_models_])\n",
        "        meta_train = y_pred.mean(axis=0,keepdims=True).T\n",
        "        return self.meta_model_.predict(meta_train)"
      ],
      "execution_count": 0,
      "outputs": [
        {
          "output_type": "display_data",
          "data": {
            "text/html": [
              "<script src='https://www.gstatic.com/external_hosted/mathjax/latest/MathJax.js?config=default'></script>"
            ],
            "text/plain": [
              "<IPython.core.display.HTML object>"
            ]
          },
          "metadata": {
            "tags": []
          }
        },
        {
          "output_type": "display_data",
          "data": {
            "text/html": [
              "<script src='https://www.gstatic.com/external_hosted/mathjax/latest/MathJax.js?config=default'></script>"
            ],
            "text/plain": [
              "<IPython.core.display.HTML object>"
            ]
          },
          "metadata": {
            "tags": []
          }
        }
      ]
    },
    {
      "cell_type": "code",
      "metadata": {
        "id": "KQ_c1CUhoWO7",
        "colab_type": "code",
        "outputId": "1c51dd17-b9b4-44b7-8105-bb2efb2324d8",
        "colab": {
          "base_uri": "https://localhost:8080/",
          "height": 479
        }
      },
      "source": [
        "experiment_description = [\n",
        "    'Combination of every thing'\n",
        "]\n",
        "base_models_w_name = [elasticnet,svm,extra_tree,model_xgb]\n",
        "meta_model_w_name = lasso\n",
        "base_models = [o.model_definition for o in base_models_w_name]\n",
        "meta_model = meta_model_w_name.model_definition\n",
        "stack_clf = StackClassifer(base_models,meta_model)\n",
        "stack_clf = SklearnModelWithName(\"stack_clf\",stack_clf)\n",
        "run_experiment([elasticnet,svm,lasso,\n",
        "                GBoost,model_xgb,extra_tree,random_forest],experiment_description)"
      ],
      "execution_count": 0,
      "outputs": [
        {
          "output_type": "display_data",
          "data": {
            "text/html": [
              "<script src='https://www.gstatic.com/external_hosted/mathjax/latest/MathJax.js?config=default'></script>"
            ],
            "text/plain": [
              "<IPython.core.display.HTML object>"
            ]
          },
          "metadata": {
            "tags": []
          }
        },
        {
          "output_type": "display_data",
          "data": {
            "text/html": [
              "<script src='https://www.gstatic.com/external_hosted/mathjax/latest/MathJax.js?config=default'></script>"
            ],
            "text/plain": [
              "<IPython.core.display.HTML object>"
            ]
          },
          "metadata": {
            "tags": []
          }
        },
        {
          "output_type": "stream",
          "text": [
            "elasticnet: 0.1095 (0.0021)\n",
            "\n",
            "svm: 0.1080 (0.0048)\n",
            "\n",
            "lasso: 0.1124 (0.0055)\n",
            "\n",
            "gboost: 0.1052 (0.0029)\n",
            "\n"
          ],
          "name": "stdout"
        },
        {
          "output_type": "stream",
          "text": [
            "/usr/local/lib/python3.6/dist-packages/xgboost/sklearn.py:242: DeprecationWarning: The nthread parameter is deprecated as of version .6.Please use n_jobs instead.nthread is deprecated.\n",
            "  'nthread is deprecated.', DeprecationWarning)\n",
            "/usr/local/lib/python3.6/dist-packages/xgboost/sklearn.py:249: DeprecationWarning: The silent parameter is deprecated.Please use verbosity instead.silent is depreated\n",
            "  'silent is depreated', DeprecationWarning)\n",
            "/usr/local/lib/python3.6/dist-packages/xgboost/sklearn.py:242: DeprecationWarning: The nthread parameter is deprecated as of version .6.Please use n_jobs instead.nthread is deprecated.\n",
            "  'nthread is deprecated.', DeprecationWarning)\n",
            "/usr/local/lib/python3.6/dist-packages/xgboost/sklearn.py:249: DeprecationWarning: The silent parameter is deprecated.Please use verbosity instead.silent is depreated\n",
            "  'silent is depreated', DeprecationWarning)\n",
            "/usr/local/lib/python3.6/dist-packages/xgboost/sklearn.py:242: DeprecationWarning: The nthread parameter is deprecated as of version .6.Please use n_jobs instead.nthread is deprecated.\n",
            "  'nthread is deprecated.', DeprecationWarning)\n",
            "/usr/local/lib/python3.6/dist-packages/xgboost/sklearn.py:249: DeprecationWarning: The silent parameter is deprecated.Please use verbosity instead.silent is depreated\n",
            "  'silent is depreated', DeprecationWarning)\n"
          ],
          "name": "stderr"
        },
        {
          "output_type": "stream",
          "text": [
            "model_xgb: 0.1050 (0.0036)\n",
            "\n",
            "extra_tree: 0.1111 (0.0007)\n",
            "\n",
            "random_forest: 0.1178 (0.0062)\n",
            "\n"
          ],
          "name": "stdout"
        }
      ]
    },
    {
      "cell_type": "markdown",
      "metadata": {
        "id": "4ij5Hk7-ofhT",
        "colab_type": "text"
      },
      "source": [
        "## 9th Prediction"
      ]
    },
    {
      "cell_type": "code",
      "metadata": {
        "id": "MgBAF6Znogka",
        "colab_type": "code",
        "outputId": "68dfb0fe-f8d2-4a16-f1fc-72712c7ae35f",
        "colab": {
          "base_uri": "https://localhost:8080/",
          "height": 17
        }
      },
      "source": [
        "def rmsle(y, y_pred):\n",
        "    return np.sqrt(mean_squared_error(y, y_pred))"
      ],
      "execution_count": 0,
      "outputs": [
        {
          "output_type": "display_data",
          "data": {
            "text/html": [
              "<script src='https://www.gstatic.com/external_hosted/mathjax/latest/MathJax.js?config=default'></script>"
            ],
            "text/plain": [
              "<IPython.core.display.HTML object>"
            ]
          },
          "metadata": {
            "tags": []
          }
        },
        {
          "output_type": "display_data",
          "data": {
            "text/html": [
              "<script src='https://www.gstatic.com/external_hosted/mathjax/latest/MathJax.js?config=default'></script>"
            ],
            "text/plain": [
              "<IPython.core.display.HTML object>"
            ]
          },
          "metadata": {
            "tags": []
          }
        }
      ]
    },
    {
      "cell_type": "code",
      "metadata": {
        "id": "OCQ8hMGHok51",
        "colab_type": "code",
        "outputId": "7998f508-7cf2-4c83-bd2c-8b2b59e39fb5",
        "colab": {
          "base_uri": "https://localhost:8080/",
          "height": 734
        }
      },
      "source": [
        "base_models_w_name = [elasticnet,svm,extra_tree,model_xgb]\n",
        "meta_model_w_name = lasso\n",
        "base_models = [o.model_definition for o in base_models_w_name]\n",
        "meta_model = meta_model_w_name.model_definition\n",
        "\n",
        "stack_clf = StackClassifer(base_models,meta_model)\n",
        "stack_clf.fit(x_train,y_train)"
      ],
      "execution_count": 0,
      "outputs": [
        {
          "output_type": "display_data",
          "data": {
            "text/html": [
              "<script src='https://www.gstatic.com/external_hosted/mathjax/latest/MathJax.js?config=default'></script>"
            ],
            "text/plain": [
              "<IPython.core.display.HTML object>"
            ]
          },
          "metadata": {
            "tags": []
          }
        },
        {
          "output_type": "display_data",
          "data": {
            "text/html": [
              "<script src='https://www.gstatic.com/external_hosted/mathjax/latest/MathJax.js?config=default'></script>"
            ],
            "text/plain": [
              "<IPython.core.display.HTML object>"
            ]
          },
          "metadata": {
            "tags": []
          }
        },
        {
          "output_type": "stream",
          "text": [
            "/usr/local/lib/python3.6/dist-packages/xgboost/sklearn.py:242: DeprecationWarning: The nthread parameter is deprecated as of version .6.Please use n_jobs instead.nthread is deprecated.\n",
            "  'nthread is deprecated.', DeprecationWarning)\n",
            "/usr/local/lib/python3.6/dist-packages/xgboost/sklearn.py:249: DeprecationWarning: The silent parameter is deprecated.Please use verbosity instead.silent is depreated\n",
            "  'silent is depreated', DeprecationWarning)\n"
          ],
          "name": "stderr"
        },
        {
          "output_type": "execute_result",
          "data": {
            "text/plain": [
              "StackClassifer(base_models=[Pipeline(memory=None,\n",
              "                                     steps=[('robustscaler',\n",
              "                                             RobustScaler(copy=True,\n",
              "                                                          quantile_range=(25.0,\n",
              "                                                                          75.0),\n",
              "                                                          with_centering=True,\n",
              "                                                          with_scaling=True)),\n",
              "                                            ('elasticnet',\n",
              "                                             ElasticNet(alpha=1e-05,\n",
              "                                                        copy_X=True,\n",
              "                                                        fit_intercept=True,\n",
              "                                                        l1_ratio=0.5,\n",
              "                                                        max_iter=1000,\n",
              "                                                        normalize=False,\n",
              "                                                        positive=False,\n",
              "                                                        precompute=False,\n",
              "                                                        random_state=1,\n",
              "                                                        selection='cyclic',\n",
              "                                                        tol=0.0001,...\n",
              "                                         verbosity=1)],\n",
              "               meta_model=Pipeline(memory=None,\n",
              "                                   steps=[('robustscaler',\n",
              "                                           RobustScaler(copy=True,\n",
              "                                                        quantile_range=(25.0,\n",
              "                                                                        75.0),\n",
              "                                                        with_centering=True,\n",
              "                                                        with_scaling=True)),\n",
              "                                          ('lasso',\n",
              "                                           Lasso(alpha=0.0005, copy_X=True,\n",
              "                                                 fit_intercept=True,\n",
              "                                                 max_iter=1000, normalize=False,\n",
              "                                                 positive=False,\n",
              "                                                 precompute=False,\n",
              "                                                 random_state=1,\n",
              "                                                 selection='cyclic', tol=0.0001,\n",
              "                                                 warm_start=False))],\n",
              "                                   verbose=False))"
            ]
          },
          "metadata": {
            "tags": []
          },
          "execution_count": 139
        }
      ]
    },
    {
      "cell_type": "code",
      "metadata": {
        "id": "aoiCM5Bqom4K",
        "colab_type": "code",
        "outputId": "07218b29-8cd2-46c1-ac4c-552ab6a25f3c",
        "colab": {
          "base_uri": "https://localhost:8080/",
          "height": 17
        }
      },
      "source": [
        "y_pred = stack_clf.predict(x_test)"
      ],
      "execution_count": 0,
      "outputs": [
        {
          "output_type": "display_data",
          "data": {
            "text/html": [
              "<script src='https://www.gstatic.com/external_hosted/mathjax/latest/MathJax.js?config=default'></script>"
            ],
            "text/plain": [
              "<IPython.core.display.HTML object>"
            ]
          },
          "metadata": {
            "tags": []
          }
        },
        {
          "output_type": "display_data",
          "data": {
            "text/html": [
              "<script src='https://www.gstatic.com/external_hosted/mathjax/latest/MathJax.js?config=default'></script>"
            ],
            "text/plain": [
              "<IPython.core.display.HTML object>"
            ]
          },
          "metadata": {
            "tags": []
          }
        }
      ]
    },
    {
      "cell_type": "code",
      "metadata": {
        "id": "bVq4pRwvGgCm",
        "colab_type": "code",
        "outputId": "8ad4fa79-ba9c-4dd7-adce-e71284d3533c",
        "colab": {
          "base_uri": "https://localhost:8080/",
          "height": 51
        }
      },
      "source": [
        "y_pred"
      ],
      "execution_count": 0,
      "outputs": [
        {
          "output_type": "display_data",
          "data": {
            "text/html": [
              "<script src='https://www.gstatic.com/external_hosted/mathjax/latest/MathJax.js?config=default'></script>"
            ],
            "text/plain": [
              "<IPython.core.display.HTML object>"
            ]
          },
          "metadata": {
            "tags": []
          }
        },
        {
          "output_type": "display_data",
          "data": {
            "text/html": [
              "<script src='https://www.gstatic.com/external_hosted/mathjax/latest/MathJax.js?config=default'></script>"
            ],
            "text/plain": [
              "<IPython.core.display.HTML object>"
            ]
          },
          "metadata": {
            "tags": []
          }
        },
        {
          "output_type": "execute_result",
          "data": {
            "text/plain": [
              "array([12.9801284 , 13.41274664, 12.7840558 , ..., 12.6773927 ,\n",
              "       13.31042009, 12.51573999])"
            ]
          },
          "metadata": {
            "tags": []
          },
          "execution_count": 147
        }
      ]
    },
    {
      "cell_type": "code",
      "metadata": {
        "id": "pZ45qNHLEzSO",
        "colab_type": "code",
        "outputId": "8f62b62c-f95c-47c3-bcbc-35d6bace73d2",
        "colab": {
          "base_uri": "https://localhost:8080/",
          "height": 34
        }
      },
      "source": [
        "stack_clf.predict(x_test.head(1))"
      ],
      "execution_count": 0,
      "outputs": [
        {
          "output_type": "display_data",
          "data": {
            "text/html": [
              "<script src='https://www.gstatic.com/external_hosted/mathjax/latest/MathJax.js?config=default'></script>"
            ],
            "text/plain": [
              "<IPython.core.display.HTML object>"
            ]
          },
          "metadata": {
            "tags": []
          }
        },
        {
          "output_type": "display_data",
          "data": {
            "text/html": [
              "<script src='https://www.gstatic.com/external_hosted/mathjax/latest/MathJax.js?config=default'></script>"
            ],
            "text/plain": [
              "<IPython.core.display.HTML object>"
            ]
          },
          "metadata": {
            "tags": []
          }
        },
        {
          "output_type": "execute_result",
          "data": {
            "text/plain": [
              "array([12.9801284])"
            ]
          },
          "metadata": {
            "tags": []
          },
          "execution_count": 145
        }
      ]
    },
    {
      "cell_type": "markdown",
      "metadata": {
        "id": "xxB2PgFEFGqM",
        "colab_type": "text"
      },
      "source": [
        "#### Root Mean Squared Logarithmic Error (RMSLE)\n",
        "https://www.kaggle.com/c/ashrae-energy-prediction/discussion/113064\n",
        "\n",
        "https://medium.com/analytics-vidhya/root-mean-square-log-error-rmse-vs-rmlse-935c6cc1802a\n",
        "\n",
        "<img src=\"https://miro.medium.com/max/1400/0*AUzyQ1rc6mpQVYfn\" width=\"400\">\n",
        "\n",
        "```python\n",
        "import math\n",
        "\n",
        "def rmsle(y, y_pred):     \n",
        "    assert len(y) == len(y_pred)\n",
        "    terms_to_sum = [(math.log(y_pred[i] + 1) - math.log(y[i] + 1)) ** 2.0 for i,pred in enumerate(y_pred)]\n",
        "    return (sum(terms_to_sum) * (1.0/len(y))) ** 0.5\n",
        "```\n",
        "\n"
      ]
    },
    {
      "cell_type": "markdown",
      "metadata": {
        "id": "UPlxDa9iIwo1",
        "colab_type": "text"
      },
      "source": [
        "https://peltarion.com/knowledge-center/documentation/modeling-view/build-an-ai-model/loss-functions/mean-squared-logarithmic-error-(msle)\n",
        "\n",
        "- Mean squared logarithmic error (MSLE) can be interpreted as a **measure of the ratio between the true and predicted values**.\n",
        "\n",
        "  - Mean squared logarithmic error is, as the name suggests, a variation of the Mean Squared Error.\n",
        "\n",
        "  - **MSLE only care about the percentual difference**\n",
        "\n",
        "- The introduction of the logarithm makes MSLE only care about the relative difference between the true and the predicted value, or in other words, it only cares about the percentual difference between them.\n",
        "\n",
        "   - **This means that MSLE will treat small differences between small true and predicted values approximately the same as big differences between large true and predicted values**.\n",
        "\n",
        "**MSLE penalizes underestimates more than overestimates**\n",
        "\n",
        "MSLE also penalizes underestimates more than overestimates, **introducing an asymmetry in the error curve**."
      ]
    },
    {
      "cell_type": "code",
      "metadata": {
        "id": "751ovVeZookP",
        "colab_type": "code",
        "outputId": "71ebd6b4-bded-4e71-8d14-2ba3adfdfbaf",
        "colab": {
          "base_uri": "https://localhost:8080/",
          "height": 62
        }
      },
      "source": [
        "rmsle(y_test,y_pred)"
      ],
      "execution_count": 0,
      "outputs": [
        {
          "output_type": "display_data",
          "data": {
            "text/html": [
              "<script src='https://www.gstatic.com/external_hosted/mathjax/latest/MathJax.js?config=default'></script>"
            ],
            "text/plain": [
              "<IPython.core.display.HTML object>"
            ]
          },
          "metadata": {
            "tags": []
          }
        },
        {
          "output_type": "display_data",
          "data": {
            "text/html": [
              "<script src='https://www.gstatic.com/external_hosted/mathjax/latest/MathJax.js?config=default'></script>"
            ],
            "text/plain": [
              "<IPython.core.display.HTML object>"
            ]
          },
          "metadata": {
            "tags": []
          }
        },
        {
          "output_type": "execute_result",
          "data": {
            "image/png": "[encoded data removed]",
            "text/latex": "$$0.08522576797669508$$",
            "text/plain": [
              "0.08522576797669508"
            ]
          },
          "metadata": {
            "tags": []
          },
          "execution_count": 146
        }
      ]
    },
    {
      "cell_type": "markdown",
      "metadata": {
        "id": "8gQCtEHQvPmX",
        "colab_type": "text"
      },
      "source": [
        "# More Information and sources"
      ]
    },
    {
      "cell_type": "markdown",
      "metadata": {
        "id": "kjkuj36kDohp",
        "colab_type": "text"
      },
      "source": [
        "https://elearn.hackwagon.com/projects/eXDXM4HrHiE43TQtP\n",
        "https://github.com/leexa90/HDB-prices/blob/master/Analysis.ipynb\n",
        "https://simply-python.com/2016/02/21/retrieving-singapore-housing-hdb-resale-prices-with-python/\n",
        "https://medium.com/@tianjie1112/singapore-hdb-resale-price-prediction-data-preparation-ae674e65b4d\n",
        "https://www.kaggle.com/chenzhiliang/predicting-the-prices-of-hdb-flats-in-sg\n"
      ]
    }
  ]
}