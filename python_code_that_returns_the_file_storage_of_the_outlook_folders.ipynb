{
  "nbformat": 4,
  "nbformat_minor": 0,
  "metadata": {
    "colab": {
      "provenance": [],
      "authorship_tag": "ABX9TyMx0gLAMozMCZbwXcLdaVGF",
      "include_colab_link": true
    },
    "kernelspec": {
      "name": "python3",
      "display_name": "Python 3"
    },
    "language_info": {
      "name": "python"
    }
  },
  "cells": [
    {
      "cell_type": "markdown",
      "metadata": {
        "id": "view-in-github",
        "colab_type": "text"
      },
      "source": [
        "<a href=\"https://colab.research.google.com/github/bghaendler/BJBS-AI-Lab/blob/master/python_code_that_returns_the_file_storage_of_the_outlook_folders.ipynb\" target=\"_parent\"><img src=\"https://colab.research.google.com/assets/colab-badge.svg\" alt=\"Open In Colab\"/></a>"
      ]
    },
    {
      "cell_type": "code",
      "execution_count": null,
      "metadata": {
        "id": "5IHAreMEBSrW"
      },
      "outputs": [],
      "source": [
        "import win32com.client\n",
        "\n",
        "outlook = win32com.client.Dispatch(\"Outlook.Application\").GetNamespace(\"MAPI\")\n",
        "\n",
        "root_folder = outlook.Folders[0]\n",
        "\n",
        "def folder_size(folder):\n",
        "    size = 0\n",
        "    items = folder.Items\n",
        "    for item in items:\n",
        "        size += item.Size\n",
        "    return size\n",
        "\n",
        "def traverse_folders(folder):\n",
        "    print(\"Folder:\", folder.Name, \"Size:\", folder_size(folder), \"bytes\")\n",
        "    for subfolder in folder.Folders:\n",
        "        traverse_folders(subfolder)\n",
        "\n",
        "traverse_folders(root_folder)\n"
      ]
    },
    {
      "cell_type": "markdown",
      "source": [
        "This code uses the win32com library to access the Microsoft Outlook application and retrieve the size of each folder in the mailbox by adding up the size of all the items in each folder. The folder_size function takes a folder as input and returns the total size of all the items in that folder. The traverse_folders function takes a folder as input and prints the name and size of that folder, as well as calling itself recursively on any subfolders. Finally, the code starts the process by calling traverse_folders on the root folder of the mailbox."
      ],
      "metadata": {
        "id": "DUHcoh-HBar_"
      }
    }
  ]
}