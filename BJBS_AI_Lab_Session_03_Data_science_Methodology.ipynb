{
  "nbformat": 4,
  "nbformat_minor": 0,
  "metadata": {
    "colab": {
      "name": "BJBS AI_Lab Session 03 Data science Methodology.ipynb",
      "provenance": [],
      "collapsed_sections": [
        "4P6l8Qf28j6H",
        "BoKJkh1B6QXM",
        "d0AufjooS1Oz",
        "2yyagsScS5C7",
        "Q_gU31rMFp21",
        "EhWSlhjLY-vY",
        "E1T0vVYMZx0F",
        "5gUEbozzGDBu",
        "Tlb7csZtZhLP",
        "B0QT7wVUZktO",
        "1rteRZ_6MMlw",
        "TVqa3LSaNNjS",
        "YuU9tnobNweN"
      ],
      "authorship_tag": "ABX9TyNtnFmQ8gaAf91yA6nUZOry",
      "include_colab_link": true
    },
    "kernelspec": {
      "name": "python3",
      "display_name": "Python 3"
    }
  },
  "cells": [
    {
      "cell_type": "markdown",
      "metadata": {
        "id": "view-in-github",
        "colab_type": "text"
      },
      "source": [
        "<a href=\"https://colab.research.google.com/github/bghaendler/BJBS-AI-LAB/blob/master/BJBS_AI_Lab_Session_03_Data_science_Methodology.ipynb\" target=\"_parent\"><img src=\"https://colab.research.google.com/assets/colab-badge.svg\" alt=\"Open In Colab\"/></a>"
      ]
    },
    {
      "cell_type": "markdown",
      "metadata": {
        "id": "H0KWnf1SN2sR",
        "colab_type": "text"
      },
      "source": [
        "<img width=\"300\" src=\"https://raw.githubusercontent.com/bghaendler/BJBS-AI-LAB/master/img/BJBSAILogo.png\" align=\"right\"> \n",
        "# BJBS AI Data science Methodology\n",
        "#### (BJBS AI Session 3 - 28 May 2020)\n"
      ]
    },
    {
      "cell_type": "markdown",
      "metadata": {
        "id": "3wYVM9Kc7KW9",
        "colab_type": "text"
      },
      "source": [
        "\n",
        "Understanding the Data Science Life-cycle…"
      ]
    },
    {
      "cell_type": "markdown",
      "metadata": {
        "id": "4CLKEFXL7Edh",
        "colab_type": "text"
      },
      "source": [
        "\n",
        "Source: \n",
        "- [Medium](https://medium.com/towards-artificial-intelligence/the-data-science-methodology-50d60175a06a)\n",
        "- [IBM](https://www.ibmbigdatahub.com/blog/why-we-need-methodology-data-science)\n",
        "- [Coursera](https://www.coursera.org/learn/data-science-methodology)"
      ]
    },
    {
      "cell_type": "markdown",
      "metadata": {
        "id": "ydwYPojs7Jqx",
        "colab_type": "text"
      },
      "source": [
        "- The Data Science Methodology is an **iterative system of methods** that guides data scientists on the **ideal approach to solving problems** with data science, through a prescribed sequence of steps."
      ]
    },
    {
      "cell_type": "markdown",
      "metadata": {
        "id": "4P6l8Qf28j6H",
        "colab_type": "text"
      },
      "source": [
        "## **Why Data Science Methodology**?"
      ]
    },
    {
      "cell_type": "markdown",
      "metadata": {
        "id": "JwbU3H3A8mnf",
        "colab_type": "text"
      },
      "source": [
        "In a nutshell, the Data Science Methodology aims to **answer 10 basic questions in a prescribed sequence**, that cover the five main aspects of data science projects. These aspects are:\n",
        "1. **From Problem to Approach**\n",
        " - 1. **What is the problem** you are trying to solve?\n",
        " - 2. **How can you use data** to answer the question?\n",
        "2. **From Requirements to Collection**\n",
        " - 3. **What data** do you need to answer the question?\n",
        " - 4. Where is the data coming from (Identify all **sources**) and how to get it?\n",
        "3. **From Understanding to Preparation**\n",
        " - 5. Is the Data that you collected **representative** of the problem to be solved?\n",
        " - 6. What **additional work **is required to manipulate and work with the data?\n",
        "4. **From Modelling to Evaluation**\n",
        " - 7. In what way can the data be **visualized** to get to the answer that is required?\n",
        " - 8. Does the model used really answer the initial question or does it need to be **adjusted**?\n",
        "5. **From Deployment to Feedback**\n",
        " - 9. Can you put **the model into practice**?\n",
        " - 10. Can you get constructive **feedback** into answering the question?"
      ]
    },
    {
      "cell_type": "markdown",
      "metadata": {
        "id": "FFotZGgZZUrq",
        "colab_type": "text"
      },
      "source": [
        "![texto alternativo](http://www.ibmbigdatahub.com/sites/default/files/figure01_revised.jpg)"
      ]
    },
    {
      "cell_type": "markdown",
      "metadata": {
        "id": "BoKJkh1B6QXM",
        "colab_type": "text"
      },
      "source": [
        "## **From Problem to Approach**:\n",
        "\n",
        "\n"
      ]
    },
    {
      "cell_type": "markdown",
      "metadata": {
        "id": "d0AufjooS1Oz",
        "colab_type": "text"
      },
      "source": [
        "### **Step 1. Business Understanding.** \n",
        "**What is the problem** you are trying to solve?\n"
      ]
    },
    {
      "cell_type": "markdown",
      "metadata": {
        "id": "mJ2HLYKrS3Lk",
        "colab_type": "text"
      },
      "source": [
        "\n",
        "- For example, if a Business owner asks ‘How can we reduce the cost of performing an activity?’… \n",
        "  - The Data Scientist needs to **understand if the goal** is to improve the efficiency of the activity or to increase business profitability.\n",
        "  - Asking the right questions as a Data Scientist starts with understanding the goal of the business owner in this case.\n",
        "- The **right questions** will inform the ideal analytical approach for solving the problem.\n",
        "\n"
      ]
    },
    {
      "cell_type": "markdown",
      "metadata": {
        "id": "2yyagsScS5C7",
        "colab_type": "text"
      },
      "source": [
        "### - **Step 2. Analytical Approach**\n",
        "**How can you use data** to answer the question?\n",
        "\n"
      ]
    },
    {
      "cell_type": "markdown",
      "metadata": {
        "id": "v2TlXZahS6du",
        "colab_type": "text"
      },
      "source": [
        "- Selecting the right analytical approach depends on the question being asked. This entails having a clear business understanding. The analytical options may include:-\n",
        "  1. **Statistical analysis**\n",
        "  2. **Predictive** Model\n",
        "  3. **Descriptive** Model\n",
        "  4. **Classification** or other forms of Machine Learning models."
      ]
    },
    {
      "cell_type": "markdown",
      "metadata": {
        "id": "Q_gU31rMFp21",
        "colab_type": "text"
      },
      "source": [
        "## **From Requirements to Collection**:\n",
        "\n"
      ]
    },
    {
      "cell_type": "markdown",
      "metadata": {
        "id": "EhWSlhjLY-vY",
        "colab_type": "text"
      },
      "source": [
        "### **Step 3. Data Requirements**\n",
        "**What data do you need** to answer the question?"
      ]
    },
    {
      "cell_type": "markdown",
      "metadata": {
        "id": "XU-VjZj_ZAAk",
        "colab_type": "text"
      },
      "source": [
        " - If the problem that needs to be resolved from steps 1 and 2 is The ‘Recipe’ and data is the ‘ingredient’, Then the data scientist needs to know which ingredients are required, how to source and collect them, and how to prepare the data to meet the desired outcome.\n",
        " - The task here includes:\n",
        "\n",
        "<img src=\"https://miro.medium.com/max/880/1*WFe_-G4jeO3BHuSTKHS7zg.jpeg\" width=\"400\">\n",
        "\n",
        "\n",
        "\n",
        "  - Identifying the necessary data contents, format and sources for initial data collection\n"
      ]
    },
    {
      "cell_type": "markdown",
      "metadata": {
        "id": "E1T0vVYMZx0F",
        "colab_type": "text"
      },
      "source": [
        "### **Step 4: Data Collection**\n",
        "**Where is the data coming from** (Identify all sources) and how to get it?\n"
      ]
    },
    {
      "cell_type": "markdown",
      "metadata": {
        "id": "eDib0mWaZDFp",
        "colab_type": "text"
      },
      "source": [
        " \n",
        " - In this stage, the data requirements are revised and decisions are made as to whether or not the collection requires more data. Once data ingredients are collected, The data scientist would have a good understanding of what they’d be working with.\n",
        " - Collecting data requires that you to know where you can find the data elements. These could be from existing public data repositories (check date stamps as old data abound!), web-scraping, or if your project involves Geo-location data, API calls to retrieve such real-time data can be done on a portal like foursquare.com.\n",
        " - The data requirements and data **collection stages are extremely important because the more relevant data you collect, the better your model**."
      ]
    },
    {
      "cell_type": "markdown",
      "metadata": {
        "id": "5gUEbozzGDBu",
        "colab_type": "text"
      },
      "source": [
        "## **From Understanding to Preparation:**\n",
        "\n"
      ]
    },
    {
      "cell_type": "markdown",
      "metadata": {
        "id": "Tlb7csZtZhLP",
        "colab_type": "text"
      },
      "source": [
        "### **Step 5: Data Understanding**\n",
        "Is the **Data that you collected representative** of the problem to be solved?\n"
      ]
    },
    {
      "cell_type": "markdown",
      "metadata": {
        "id": "1OJuEyE4ZjIk",
        "colab_type": "text"
      },
      "source": [
        " - In other to understand the data, we use **descriptive statistics** on the variables or columns. These statistics may include univariates, mean, median, mode, minimum, maximum and standard deviation. The ```pandas.describe()``` function provides a good descriptive statistics summary.\n",
        " - A **firmographic** data understanding is also relevant at this stage as well as pairwise correlation to see how closely related variables are, dropping variables that may be highly correlated, hence redundant, leaving only one of such for modeling.\n",
        " - **Visualization** libraries such as Matplotlib and Seaborn could be used to gain better insights about the data. Missing values evaluation is also done now.\n"
      ]
    },
    {
      "cell_type": "markdown",
      "metadata": {
        "id": "B0QT7wVUZktO",
        "colab_type": "text"
      },
      "source": [
        "### **Step 6: Data Preparation Concepts**\n",
        "What **additional work** is required to manipulate and work with the data?\n",
        "\n"
      ]
    },
    {
      "cell_type": "markdown",
      "metadata": {
        "id": "0CotOp-vZl4b",
        "colab_type": "text"
      },
      "source": [
        " - In a sense, data preparation is similar to washing freshly picked veggies in so far as unwanted elements are removed… Together with data collection and understanding, data preparation **is the most time-consuming aspect of data science** projects **taking up to 70% or even 90% of the overall project time**.\n",
        "\n",
        "> - Transforming data in this stage is a process of getting the data into a state where it may be easier to work with. Data cleansing involves addressing:\n",
        ">> - **Missing Data**\n",
        ">> - **Invalid Values**\n",
        ">> - **Remove Duplicates**\n",
        ">> - **Formatting**\n",
        ">> - **Feature Engineering**\n",
        "\n",
        " - It is imperative to get this phase right, otherwise, you risk going back to the drawing board if this phase is haphazardly done."
      ]
    },
    {
      "cell_type": "markdown",
      "metadata": {
        "id": "1rteRZ_6MMlw",
        "colab_type": "text"
      },
      "source": [
        "## **From Modelling to Evaluation**:\n",
        "\n"
      ]
    },
    {
      "cell_type": "markdown",
      "metadata": {
        "id": "zOcs_Kj3Zojy",
        "colab_type": "text"
      },
      "source": [
        "### **Step 7: Modeling Concepts**\n",
        "In what way can the data be **visualized** to get to the answer that is required?\n",
        "\n"
      ]
    },
    {
      "cell_type": "markdown",
      "metadata": {
        "id": "1dirZcPWZp8T",
        "colab_type": "text"
      },
      "source": [
        "- Modeling is geared towards **answering two key questions**:-\n",
        "  - A. What is the **purpose** of data modeling?\n",
        "  - B. What are the **characteristics** of the process?\n",
        "- Modeling focuses on developing models that are either descriptive or predictive\n",
        "  - For example, \n",
        "      - a **descriptive model** can tell what new service a customer may prefer based on the customer’s existing preferences… \n",
        "        - Some examples of such algorithms are recommender systems and clustering algorithms.\n",
        "      - While predictive modeling can tell a future value or class based on present data, \n",
        "        - some examples are classification and linear or logistic regression algorithms.\n",
        "- The choice of model is based on the analytical approach chosen in step 2 for the problem stated in step 1.\n"
      ]
    },
    {
      "cell_type": "markdown",
      "metadata": {
        "id": "ijSKHt-XZr0r",
        "colab_type": "text"
      },
      "source": [
        "### **Step 8: Evaluating The Model**\n",
        "Does the model used **really answer the initial question or does it need to be adjusted**?\n"
      ]
    },
    {
      "cell_type": "markdown",
      "metadata": {
        "id": "7tTo92klZs5v",
        "colab_type": "text"
      },
      "source": [
        " - The model evaluation goes hand in hand with the model building. As such model creation and evaluation are **done iteratively**.\n",
        " - Model evaluation is performed during model development and before the model is deployed.  \n",
        " - Evaluation allows the quality of the model to be assessed and it’s also a way to see if it meets the initial request.\n",
        " - A model evaluation has **two main phases**:\n",
        "    1. The **Diagnostic** Measures phase\n",
        "    2. The Statistical **Significance** phase.\n",
        " - The former is concerned with the actual performance of the model, given a test data set, while the latter is concerned about how True or Confident is the model prediction or description."
      ]
    },
    {
      "cell_type": "markdown",
      "metadata": {
        "id": "TVqa3LSaNNjS",
        "colab_type": "text"
      },
      "source": [
        "## **From Deployment to Feedback**:\n"
      ]
    },
    {
      "cell_type": "markdown",
      "metadata": {
        "id": "nbaRBfNDZvW3",
        "colab_type": "text"
      },
      "source": [
        "### **Step 9: Deploying The Model**\n",
        "**Can you put the model into practice**?\n",
        "\n"
      ]
    },
    {
      "cell_type": "markdown",
      "metadata": {
        "id": "nYIOo-q8Zw3J",
        "colab_type": "text"
      },
      "source": [
        " - While the data science model may present a solution, the key to making that solution relevant and useful to solve the initial problem is to get the relevant stakeholders acquainted with the tool produced.\n",
        " - This stage requires effective communication skills for onboarding.\n",
        " - The model may be deployed to a limited number of stakeholders initially or to a test environment to build up confidence in applying it for use across the board.\n",
        " - The model must be relatively intuitive to use, and staff members who may be responsible to apply the model to solving similar problems must be trained. It is important to document teething problems that may arise at this stage.\n"
      ]
    },
    {
      "cell_type": "markdown",
      "metadata": {
        "id": "aGzFMVinZyHf",
        "colab_type": "text"
      },
      "source": [
        "### **Step 10: Feedback**\n",
        "Can you get **constructive feedback** into answering the question?\n",
        "\n"
      ]
    },
    {
      "cell_type": "markdown",
      "metadata": {
        "id": "dR7pJps5ZzYg",
        "colab_type": "text"
      },
      "source": [
        " - Once deployed, feedback from the users will be used to refine the model and assess it for performance and impact. This will continue for as long as the solution is required.\n",
        "The feedback process is based on the notion that ‘The more you know, The more you’d want to know’ … And this involves gathering new data from the field to further develop the model."
      ]
    },
    {
      "cell_type": "markdown",
      "metadata": {
        "id": "YuU9tnobNweN",
        "colab_type": "text"
      },
      "source": [
        "## **Conclusion**:\n"
      ]
    },
    {
      "cell_type": "markdown",
      "metadata": {
        "id": "54JWTbtjZ1e4",
        "colab_type": "text"
      },
      "source": [
        "- Remember, **The Data Science Methodology is an Iterative process that follows a Prescribed Sequence**. Thus it provides a structure.\n",
        "  - **Iterative** means it’s a continuous cycle… The model gets trained, evaluated and deployed. The client provides feedback to the data scientist, who collects new data, processes and further updates the model to perform better.\n",
        "  - Prescribed **Sequence** means, step-by-step.\n",
        "- Note: It is possible to have multiple steps co-occurring, like data requirements and collection steps together, but the good thing is the Structure of The Data \n",
        "-  Science Methodology points us to the most effective exertion of our time and resources as we solve problems with data science.\n",
        "- Finally\n",
        "  - By answering Ten(10) simple questions Methodically, we’ve seen that a methodology can help us to solve not only data science problems but also any other problems."
      ]
    }
  ]
}