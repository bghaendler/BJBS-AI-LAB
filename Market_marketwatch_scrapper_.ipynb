{
  "nbformat": 4,
  "nbformat_minor": 0,
  "metadata": {
    "colab": {
      "provenance": [],
      "authorship_tag": "ABX9TyM3Ii2bz13uZg8Mu7lLKT7u",
      "include_colab_link": true
    },
    "kernelspec": {
      "name": "python3",
      "display_name": "Python 3"
    },
    "language_info": {
      "name": "python"
    }
  },
  "cells": [
    {
      "cell_type": "markdown",
      "metadata": {
        "id": "view-in-github",
        "colab_type": "text"
      },
      "source": [
        "<a href=\"https://colab.research.google.com/github/bghaendler/BJBS-AI-Lab/blob/master/Market_marketwatch_scrapper_.ipynb\" target=\"_parent\"><img src=\"https://colab.research.google.com/assets/colab-badge.svg\" alt=\"Open In Colab\"/></a>"
      ]
    },
    {
      "cell_type": "code",
      "source": [
        "import requests\n",
        "import pandas as pd\n",
        "from bs4 import BeautifulSoup\n",
        "\n",
        "def get_stock_data(ticker):\n",
        "    url = f\"https://www.marketwatch.com/investing/stock/{ticker}/downloaddatapartial?startdate=07/27/2023&enddate=07/27/2023\"\n",
        "    headers = {\n",
        "        \"User-Agent\": \"Mozilla/5.0 (Windows NT 10.0; Win64; x64) AppleWebKit/537.36 (KHTML, like Gecko) Chrome/58.0.3029.110 Safari/537.3\"\n",
        "    }\n",
        "\n",
        "    response = requests.get(url, headers=headers)\n",
        "    soup = BeautifulSoup(response.content, 'html.parser')\n",
        "    data = [row.text.split(\"\\n\") for row in soup.find_all(\"tr\")]\n",
        "\n",
        "    # Filter out empty lists and header rows\n",
        "    data = [row for row in data if len(row) > 1 and row[1].strip() != \"Date\"]\n",
        "\n",
        "    return pd.DataFrame(data[1:], columns=data[0])\n",
        "\n",
        "def main():\n",
        "    # List of stock tickers for which you want to fetch data\n",
        "    stock_tickers = [\"AAPL\", \"GOOGL\", \"MSFT\", \"AMZN\"]\n",
        "\n",
        "    # Initialize an empty list to store individual DataFrames for each stock\n",
        "    data_frames = []\n",
        "\n",
        "    for ticker in stock_tickers:\n",
        "        df = get_stock_data(ticker)\n",
        "        df[\"Ticker\"] = ticker  # Add a column to store the stock ticker\n",
        "        data_frames.append(df)\n",
        "\n",
        "    # Concatenate all individual DataFrames into a single DataFrame\n",
        "    consolidated_df = pd.concat(data_frames, ignore_index=True)\n",
        "\n",
        "    # Print the consolidated DataFrame\n",
        "    print(consolidated_df)\n",
        "\n",
        "if __name__ == \"__main__\":\n",
        "    main()\n"
      ],
      "metadata": {
        "colab": {
          "base_uri": "https://localhost:8080/"
        },
        "id": "xsojm27tfBEN",
        "outputId": "a4620ebf-faa6-4699-8235-6c059f9dda44"
      },
      "execution_count": 19,
      "outputs": [
        {
          "output_type": "stream",
          "name": "stdout",
          "text": [
            "             Date        Date       Open     High      Low    Close  \\\n",
            "0      07/27/2023  07/27/2023    $196.02  $197.20  $192.55  $193.22   \n",
            "1      07/27/2023  07/27/2023    $131.67  $133.24  $128.79  $129.40   \n",
            "2      07/27/2023  07/27/2023    $340.48  $341.33  $329.05  $330.72   \n",
            "3      07/27/2023  07/27/2023    $131.00  $132.63  $127.79  $128.25   \n",
            "\n",
            "       Volume   Ticker  \n",
            "0  46,933,900     AAPL  \n",
            "1  44,750,600    GOOGL  \n",
            "2  39,426,100     MSFT  \n",
            "3  52,064,100     AMZN  \n"
          ]
        }
      ]
    }
  ]
}