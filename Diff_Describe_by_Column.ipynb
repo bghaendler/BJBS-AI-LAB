{
  "nbformat": 4,
  "nbformat_minor": 0,
  "metadata": {
    "colab": {
      "provenance": [],
      "authorship_tag": "ABX9TyM499l81ZmWCXligRvkGM6b",
      "include_colab_link": true
    },
    "kernelspec": {
      "name": "python3",
      "display_name": "Python 3"
    },
    "language_info": {
      "name": "python"
    }
  },
  "cells": [
    {
      "cell_type": "markdown",
      "metadata": {
        "id": "view-in-github",
        "colab_type": "text"
      },
      "source": [
        "<a href=\"https://colab.research.google.com/github/bghaendler/BJBS-AI-Lab/blob/master/Diff_Describe_by_Column.ipynb\" target=\"_parent\"><img src=\"https://colab.research.google.com/assets/colab-badge.svg\" alt=\"Open In Colab\"/></a>"
      ]
    },
    {
      "cell_type": "code",
      "execution_count": 56,
      "metadata": {
        "colab": {
          "base_uri": "https://localhost:8080/"
        },
        "id": "VeehOUJoIWM-",
        "outputId": "83e6fe39-aa54-442b-a4e5-2be72a50717e"
      },
      "outputs": [
        {
          "output_type": "stream",
          "name": "stdout",
          "text": [
            "Column: A\n",
            "count    0.0\n",
            "mean     0.0\n",
            "std      0.0\n",
            "max      0.0\n",
            "dtype: float64\n",
            "\n",
            "\n",
            "Column: B\n",
            "count    0.0\n",
            "mean    -1.0\n",
            "std     -1.0\n",
            "max     -2.0\n",
            "dtype: float64\n",
            "\n",
            "\n",
            "Column: C\n",
            "count    0.000000\n",
            "mean    -0.333333\n",
            "std      0.422650\n",
            "max      0.000000\n",
            "dtype: float64\n",
            "\n",
            "\n"
          ]
        }
      ],
      "source": [
        "import pandas as pd\n",
        "\n",
        "def diff_describe_by_col(df1, df2):\n",
        "    res = {}\n",
        "    object_cols = [col for col in df1.columns if df1[col].dtype != 'object']\n",
        "    for col in object_cols:\n",
        "        #print(col)\n",
        "        desc_df1 = df1[col].describe()\n",
        "        desc_df2 = df2[col].describe()\n",
        "        diff_count = desc_df1['count'] - desc_df2['count']\n",
        "        diff_mean = desc_df1['mean'] - desc_df2['mean']\n",
        "        diff_std = desc_df1['std'] - desc_df2['std']\n",
        "        diff_max = desc_df1['max'] - desc_df2['max']\n",
        "        res[col] = pd.Series([diff_count, diff_mean, diff_std, diff_max],index=['count', 'mean', 'std', 'max'])\n",
        "    return res\n",
        "\n",
        "df1 = pd.DataFrame({'A': [1, 2, 3], 'B': [1, 2, 3], 'C': [1, 2, 3]})\n",
        "df2 = pd.DataFrame({'A': [1, 2, 3], 'B': [1, 5, 3], 'C': [2, 2, 3]})\n",
        "\n",
        "diff_describe_by_col_dict = diff_describe_by_col(df1, df2)\n",
        "\n",
        "for col, df in diff_describe_by_col_dict.items():\n",
        "    print(f\"Column: {col}\")\n",
        "    print(df)\n",
        "    print(\"\\n\")\n"
      ]
    },
    {
      "cell_type": "code",
      "source": [
        "diff_describe_by_col(df1, df2)"
      ],
      "metadata": {
        "colab": {
          "base_uri": "https://localhost:8080/"
        },
        "id": "mCaYMzIXJFss",
        "outputId": "6208e075-5bcd-41f7-d32e-0c94bcfaab81"
      },
      "execution_count": 54,
      "outputs": [
        {
          "output_type": "execute_result",
          "data": {
            "text/plain": [
              "{'A': count    0.0\n",
              " mean     0.0\n",
              " std      0.0\n",
              " max      0.0\n",
              " dtype: float64, 'B': count    0.0\n",
              " mean    -1.0\n",
              " std     -1.0\n",
              " max     -2.0\n",
              " dtype: float64, 'C': count    0.000000\n",
              " mean    -0.333333\n",
              " std      0.422650\n",
              " max      0.000000\n",
              " dtype: float64}"
            ]
          },
          "metadata": {},
          "execution_count": 54
        }
      ]
    },
    {
      "cell_type": "code",
      "source": [],
      "metadata": {
        "id": "VFGCOkJtJJgc"
      },
      "execution_count": null,
      "outputs": []
    }
  ]
}