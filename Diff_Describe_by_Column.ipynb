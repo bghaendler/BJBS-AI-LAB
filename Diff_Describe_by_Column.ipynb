{
  "nbformat": 4,
  "nbformat_minor": 0,
  "metadata": {
    "colab": {
      "provenance": [],
      "authorship_tag": "ABX9TyM3xSqHE7OJrCMHtI+GmDQg",
      "include_colab_link": true
    },
    "kernelspec": {
      "name": "python3",
      "display_name": "Python 3"
    },
    "language_info": {
      "name": "python"
    }
  },
  "cells": [
    {
      "cell_type": "markdown",
      "metadata": {
        "id": "view-in-github",
        "colab_type": "text"
      },
      "source": [
        "<a href=\"https://colab.research.google.com/github/bghaendler/BJBS-AI-Lab/blob/master/Diff_Describe_by_Column.ipynb\" target=\"_parent\"><img src=\"https://colab.research.google.com/assets/colab-badge.svg\" alt=\"Open In Colab\"/></a>"
      ]
    },
    {
      "cell_type": "code",
      "execution_count": 56,
      "metadata": {
        "colab": {
          "base_uri": "https://localhost:8080/"
        },
        "id": "VeehOUJoIWM-",
        "outputId": "83e6fe39-aa54-442b-a4e5-2be72a50717e"
      },
      "outputs": [
        {
          "output_type": "stream",
          "name": "stdout",
          "text": [
            "Column: A\n",
            "count    0.0\n",
            "mean     0.0\n",
            "std      0.0\n",
            "max      0.0\n",
            "dtype: float64\n",
            "\n",
            "\n",
            "Column: B\n",
            "count    0.0\n",
            "mean    -1.0\n",
            "std     -1.0\n",
            "max     -2.0\n",
            "dtype: float64\n",
            "\n",
            "\n",
            "Column: C\n",
            "count    0.000000\n",
            "mean    -0.333333\n",
            "std      0.422650\n",
            "max      0.000000\n",
            "dtype: float64\n",
            "\n",
            "\n"
          ]
        }
      ],
      "source": [
        "import pandas as pd\n",
        "\n",
        "def diff_describe_by_col(df1, df2):\n",
        "    res = {}\n",
        "    object_cols = [col for col in df1.columns if df1[col].dtype != 'object']\n",
        "    for col in object_cols:\n",
        "        #print(col)\n",
        "        desc_df1 = df1[col].describe()\n",
        "        desc_df2 = df2[col].describe()\n",
        "        diff_count = desc_df1['count'] - desc_df2['count']\n",
        "        diff_mean = desc_df1['mean'] - desc_df2['mean']\n",
        "        diff_std = desc_df1['std'] - desc_df2['std']\n",
        "        diff_max = desc_df1['max'] - desc_df2['max']\n",
        "        res[col] = pd.Series([diff_count, diff_mean, diff_std, diff_max],index=['count', 'mean', 'std', 'max'])\n",
        "    return res\n",
        "\n",
        "df1 = pd.DataFrame({'A': [1, 2, 3], 'B': [1, 2, 3], 'C': [1, 2, 3]})\n",
        "df2 = pd.DataFrame({'A': [1, 2, 3], 'B': [1, 5, 3], 'C': [2, 2, 3]})\n",
        "\n",
        "diff_describe_by_col_dict = diff_describe_by_col(df1, df2)\n",
        "\n",
        "for col, df in diff_describe_by_col_dict.items():\n",
        "    print(f\"Column: {col}\")\n",
        "    print(df)\n",
        "    print(\"\\n\")\n"
      ]
    },
    {
      "cell_type": "code",
      "source": [
        "diff_describe_by_col(df1, df2)"
      ],
      "metadata": {
        "colab": {
          "base_uri": "https://localhost:8080/"
        },
        "id": "mCaYMzIXJFss",
        "outputId": "6208e075-5bcd-41f7-d32e-0c94bcfaab81"
      },
      "execution_count": 54,
      "outputs": [
        {
          "output_type": "execute_result",
          "data": {
            "text/plain": [
              "{'A': count    0.0\n",
              " mean     0.0\n",
              " std      0.0\n",
              " max      0.0\n",
              " dtype: float64, 'B': count    0.0\n",
              " mean    -1.0\n",
              " std     -1.0\n",
              " max     -2.0\n",
              " dtype: float64, 'C': count    0.000000\n",
              " mean    -0.333333\n",
              " std      0.422650\n",
              " max      0.000000\n",
              " dtype: float64}"
            ]
          },
          "metadata": {},
          "execution_count": 54
        }
      ]
    },
    {
      "cell_type": "code",
      "source": [
        "def diff_describe_by_col(df1, df2):\n",
        "    res = {}\n",
        "    object_cols = [col for col in df1.columns if df1[col].dtype == 'object']\n",
        "    for col in object_cols:\n",
        "        desc_df1 = df1[col].describe()\n",
        "        desc_df2 = df2[col].describe()\n",
        "        diff_count = desc_df1['count'] - desc_df2['count']\n",
        "        diff_mean = desc_df1['mean'] - desc_df2['mean']\n",
        "        diff_std = desc_df1['std'] - desc_df2['std']\n",
        "        diff_max = desc_df1['max'] - desc_df2['max']\n",
        "        res[col] = pd.Series([diff_count, diff_mean, diff_std, diff_max],index=['count', 'mean', 'std', 'max'])\n",
        "    return pd.DataFrame(res)\n"
      ],
      "metadata": {
        "id": "VFGCOkJtJJgc"
      },
      "execution_count": 57,
      "outputs": []
    },
    {
      "cell_type": "code",
      "source": [
        "df = diff_describe_by_col(df1, df2)"
      ],
      "metadata": {
        "id": "-BJQp8XGOPgD"
      },
      "execution_count": 59,
      "outputs": []
    },
    {
      "cell_type": "code",
      "source": [
        "df1 = pd.DataFrame({'A': [1.1, 2.1, 3.1], 'B': [1.1, 2.1, 3.1], 'C': [1.1, 2.1, 3.1]})\n",
        "df2 = pd.DataFrame({'A': [1.1, 2.1, 3.1], 'B': [1.1, 5.1, 3.1], 'C': [2.1, 2.1, 3.1]})\n",
        "\n",
        "\n",
        "def diff_describe_float(df1, df2):\n",
        "    res = {}\n",
        "    float_cols = [col for col in df1.columns if df1[col].dtype == 'float64']\n",
        "    for col in float_cols:\n",
        "        desc_df1 = df1[col].describe()\n",
        "        desc_df2 = df2[col].describe()\n",
        "        diff_count = desc_df1['count'] - desc_df2['count']\n",
        "        diff_mean = desc_df1['mean'] - desc_df2['mean']\n",
        "        print(diff_mean)\n",
        "        diff_std = desc_df1['std'] - desc_df2['std']\n",
        "        diff_min = desc_df1['min'] - desc_df2['min']\n",
        "        diff_25 = desc_df1['25%'] - desc_df2['25%']\n",
        "        diff_50 = desc_df1['50%'] - desc_df2['50%']\n",
        "        diff_75 = desc_df1['75%'] - desc_df2['75%']\n",
        "        diff_max = desc_df1['max'] - desc_df2['max']\n",
        "        res[col] = pd.Series([diff_count, diff_mean, diff_std, diff_min, diff_25, diff_50, diff_75, diff_max],\n",
        "                            index=['count', 'mean', 'std', 'min', '25%', '50%', '75%', 'max'])\n",
        "    if not res:\n",
        "        print(\"No differences found between the two dataframes' .describe() results for columns of type 'float64'\")\n",
        "    return pd.DataFrame(res)"
      ],
      "metadata": {
        "id": "rfBuYquHORnL"
      },
      "execution_count": 68,
      "outputs": []
    },
    {
      "cell_type": "code",
      "source": [
        "diff_describe_float(df1, df2)"
      ],
      "metadata": {
        "colab": {
          "base_uri": "https://localhost:8080/",
          "height": 352
        },
        "id": "5vy5mFf-PX3R",
        "outputId": "b6f3a04f-3857-4114-f6eb-c0ce77534e9a"
      },
      "execution_count": 69,
      "outputs": [
        {
          "output_type": "stream",
          "name": "stdout",
          "text": [
            "0.0\n",
            "-0.9999999999999996\n",
            "-0.3333333333333335\n"
          ]
        },
        {
          "output_type": "execute_result",
          "data": {
            "text/plain": [
              "         A    B         C\n",
              "count  0.0  0.0  0.000000\n",
              "mean   0.0 -1.0 -0.333333\n",
              "std    0.0 -1.0  0.422650\n",
              "min    0.0  0.0 -1.000000\n",
              "25%    0.0 -0.5 -0.500000\n",
              "50%    0.0 -1.0  0.000000\n",
              "75%    0.0 -1.5  0.000000\n",
              "max    0.0 -2.0  0.000000"
            ],
            "text/html": [
              "\n",
              "  <div id=\"df-37b9a4f7-a3e1-4caf-86f4-5ff075bc9c65\">\n",
              "    <div class=\"colab-df-container\">\n",
              "      <div>\n",
              "<style scoped>\n",
              "    .dataframe tbody tr th:only-of-type {\n",
              "        vertical-align: middle;\n",
              "    }\n",
              "\n",
              "    .dataframe tbody tr th {\n",
              "        vertical-align: top;\n",
              "    }\n",
              "\n",
              "    .dataframe thead th {\n",
              "        text-align: right;\n",
              "    }\n",
              "</style>\n",
              "<table border=\"1\" class=\"dataframe\">\n",
              "  <thead>\n",
              "    <tr style=\"text-align: right;\">\n",
              "      <th></th>\n",
              "      <th>A</th>\n",
              "      <th>B</th>\n",
              "      <th>C</th>\n",
              "    </tr>\n",
              "  </thead>\n",
              "  <tbody>\n",
              "    <tr>\n",
              "      <th>count</th>\n",
              "      <td>0.0</td>\n",
              "      <td>0.0</td>\n",
              "      <td>0.000000</td>\n",
              "    </tr>\n",
              "    <tr>\n",
              "      <th>mean</th>\n",
              "      <td>0.0</td>\n",
              "      <td>-1.0</td>\n",
              "      <td>-0.333333</td>\n",
              "    </tr>\n",
              "    <tr>\n",
              "      <th>std</th>\n",
              "      <td>0.0</td>\n",
              "      <td>-1.0</td>\n",
              "      <td>0.422650</td>\n",
              "    </tr>\n",
              "    <tr>\n",
              "      <th>min</th>\n",
              "      <td>0.0</td>\n",
              "      <td>0.0</td>\n",
              "      <td>-1.000000</td>\n",
              "    </tr>\n",
              "    <tr>\n",
              "      <th>25%</th>\n",
              "      <td>0.0</td>\n",
              "      <td>-0.5</td>\n",
              "      <td>-0.500000</td>\n",
              "    </tr>\n",
              "    <tr>\n",
              "      <th>50%</th>\n",
              "      <td>0.0</td>\n",
              "      <td>-1.0</td>\n",
              "      <td>0.000000</td>\n",
              "    </tr>\n",
              "    <tr>\n",
              "      <th>75%</th>\n",
              "      <td>0.0</td>\n",
              "      <td>-1.5</td>\n",
              "      <td>0.000000</td>\n",
              "    </tr>\n",
              "    <tr>\n",
              "      <th>max</th>\n",
              "      <td>0.0</td>\n",
              "      <td>-2.0</td>\n",
              "      <td>0.000000</td>\n",
              "    </tr>\n",
              "  </tbody>\n",
              "</table>\n",
              "</div>\n",
              "      <button class=\"colab-df-convert\" onclick=\"convertToInteractive('df-37b9a4f7-a3e1-4caf-86f4-5ff075bc9c65')\"\n",
              "              title=\"Convert this dataframe to an interactive table.\"\n",
              "              style=\"display:none;\">\n",
              "        \n",
              "  <svg xmlns=\"http://www.w3.org/2000/svg\" height=\"24px\"viewBox=\"0 0 24 24\"\n",
              "       width=\"24px\">\n",
              "    <path d=\"M0 0h24v24H0V0z\" fill=\"none\"/>\n",
              "    <path d=\"M18.56 5.44l.94 2.06.94-2.06 2.06-.94-2.06-.94-.94-2.06-.94 2.06-2.06.94zm-11 1L8.5 8.5l.94-2.06 2.06-.94-2.06-.94L8.5 2.5l-.94 2.06-2.06.94zm10 10l.94 2.06.94-2.06 2.06-.94-2.06-.94-.94-2.06-.94 2.06-2.06.94z\"/><path d=\"M17.41 7.96l-1.37-1.37c-.4-.4-.92-.59-1.43-.59-.52 0-1.04.2-1.43.59L10.3 9.45l-7.72 7.72c-.78.78-.78 2.05 0 2.83L4 21.41c.39.39.9.59 1.41.59.51 0 1.02-.2 1.41-.59l7.78-7.78 2.81-2.81c.8-.78.8-2.07 0-2.86zM5.41 20L4 18.59l7.72-7.72 1.47 1.35L5.41 20z\"/>\n",
              "  </svg>\n",
              "      </button>\n",
              "      \n",
              "  <style>\n",
              "    .colab-df-container {\n",
              "      display:flex;\n",
              "      flex-wrap:wrap;\n",
              "      gap: 12px;\n",
              "    }\n",
              "\n",
              "    .colab-df-convert {\n",
              "      background-color: #E8F0FE;\n",
              "      border: none;\n",
              "      border-radius: 50%;\n",
              "      cursor: pointer;\n",
              "      display: none;\n",
              "      fill: #1967D2;\n",
              "      height: 32px;\n",
              "      padding: 0 0 0 0;\n",
              "      width: 32px;\n",
              "    }\n",
              "\n",
              "    .colab-df-convert:hover {\n",
              "      background-color: #E2EBFA;\n",
              "      box-shadow: 0px 1px 2px rgba(60, 64, 67, 0.3), 0px 1px 3px 1px rgba(60, 64, 67, 0.15);\n",
              "      fill: #174EA6;\n",
              "    }\n",
              "\n",
              "    [theme=dark] .colab-df-convert {\n",
              "      background-color: #3B4455;\n",
              "      fill: #D2E3FC;\n",
              "    }\n",
              "\n",
              "    [theme=dark] .colab-df-convert:hover {\n",
              "      background-color: #434B5C;\n",
              "      box-shadow: 0px 1px 3px 1px rgba(0, 0, 0, 0.15);\n",
              "      filter: drop-shadow(0px 1px 2px rgba(0, 0, 0, 0.3));\n",
              "      fill: #FFFFFF;\n",
              "    }\n",
              "  </style>\n",
              "\n",
              "      <script>\n",
              "        const buttonEl =\n",
              "          document.querySelector('#df-37b9a4f7-a3e1-4caf-86f4-5ff075bc9c65 button.colab-df-convert');\n",
              "        buttonEl.style.display =\n",
              "          google.colab.kernel.accessAllowed ? 'block' : 'none';\n",
              "\n",
              "        async function convertToInteractive(key) {\n",
              "          const element = document.querySelector('#df-37b9a4f7-a3e1-4caf-86f4-5ff075bc9c65');\n",
              "          const dataTable =\n",
              "            await google.colab.kernel.invokeFunction('convertToInteractive',\n",
              "                                                     [key], {});\n",
              "          if (!dataTable) return;\n",
              "\n",
              "          const docLinkHtml = 'Like what you see? Visit the ' +\n",
              "            '<a target=\"_blank\" href=https://colab.research.google.com/notebooks/data_table.ipynb>data table notebook</a>'\n",
              "            + ' to learn more about interactive tables.';\n",
              "          element.innerHTML = '';\n",
              "          dataTable['output_type'] = 'display_data';\n",
              "          await google.colab.output.renderOutput(dataTable, element);\n",
              "          const docLink = document.createElement('div');\n",
              "          docLink.innerHTML = docLinkHtml;\n",
              "          element.appendChild(docLink);\n",
              "        }\n",
              "      </script>\n",
              "    </div>\n",
              "  </div>\n",
              "  "
            ]
          },
          "metadata": {},
          "execution_count": 69
        }
      ]
    },
    {
      "cell_type": "code",
      "source": [
        "import pandas as pd\n",
        "\n",
        "df1 = pd.DataFrame({'A': [1, 2, 3, 4], 'B': [1.1, 2.2, 3.3, 4.4], 'C': [1.5, 2.5, 3.5, 4.5]})\n",
        "df2 = pd.DataFrame({'A': [1, 2, 3], 'B': [1.1, 2.2, 3.3], 'C': [1.5, 2.5, 3.5]})\n",
        "\n",
        "merged_df = pd.merge(df1, df2, on=['A', 'B', 'C'], how='outer', indicator=True)\n",
        "not_in_df1 = merged_df[merged_df['_merge'] == 'right_only']\n",
        "not_in_df2 = merged_df[merged_df['_merge'] == 'left_only']\n",
        "\n",
        "print(not_in_df1)\n",
        "print(not_in_df2)\n"
      ],
      "metadata": {
        "colab": {
          "base_uri": "https://localhost:8080/"
        },
        "id": "O7C76o3CPwHn",
        "outputId": "8a71a180-a57d-4d37-d2d1-44ba9b6a5f61"
      },
      "execution_count": 70,
      "outputs": [
        {
          "output_type": "stream",
          "name": "stdout",
          "text": [
            "Empty DataFrame\n",
            "Columns: [A, B, C, _merge]\n",
            "Index: []\n",
            "   A    B    C     _merge\n",
            "3  4  4.4  4.5  left_only\n"
          ]
        }
      ]
    },
    {
      "cell_type": "code",
      "source": [
        "import matplotlib.pyplot as plt\n",
        "import pandas as pd\n",
        "\n",
        "df1 = pd.DataFrame({'A': [1, 2, 3, 4], 'B': [1.1, 2.2, 3.3, 4.4], 'C': [1.5, 2.5, 3.5, 4.5]})\n",
        "df2 = pd.DataFrame({'A': [1, 2, 3], 'B': [1.1, 2.2, 3.3], 'C': [1.5, 2.5, 3.5]})\n",
        "\n",
        "plt.figure(figsize=(10,5))\n",
        "\n",
        "plt.subplot(131)\n",
        "plt.hist(df1['A'], alpha=0.5, label='df1')\n",
        "plt.hist(df2['A'], alpha=0.5, label='df2')\n",
        "plt.legend()\n",
        "plt.title('Column A')\n",
        "\n",
        "plt.subplot(132)\n",
        "plt.hist(df1['B'], alpha=0.5, label='df1')\n",
        "plt.hist(df2['B'], alpha=0.5, label='df2')\n",
        "plt.legend()\n",
        "plt.title('Column B')\n",
        "\n",
        "plt.subplot(133)\n",
        "plt.hist(df1['C'], alpha=0.5, label='df1')\n",
        "plt.hist(df2['C'], alpha=0.5, label='df2')\n",
        "plt.legend()\n",
        "plt.title('Column C')\n",
        "\n",
        "plt.tight_layout()\n",
        "plt.show()\n"
      ],
      "metadata": {
        "colab": {
          "base_uri": "https://localhost:8080/",
          "height": 369
        },
        "id": "0DIsTKNObYQV",
        "outputId": "d474e0db-a4a4-48e1-cb9a-e67db241508a"
      },
      "execution_count": 71,
      "outputs": [
        {
          "output_type": "display_data",
          "data": {
            "text/plain": [
              "<Figure size 720x360 with 3 Axes>"
            ],
            "image/png": "[encoded data removed]"
          },
          "metadata": {
            "needs_background": "light"
          }
        }
      ]
    },
    {
      "cell_type": "code",
      "source": [
        "df1 = pd.DataFrame({'A': [1, 2, 3, 4], 'B': [1.1, 2.2, 3.3, 4.4], 'C': [1.5, 2.5, 3.5, 4.5]})\n",
        "df2 = pd.DataFrame({'A': [1, 2, 3], 'B': [1.1, 2.2, 3.3], 'C': [1.5, 2.5, 3.5]})\n",
        "\n",
        "plt.scatter(df1['C'].sample(3), df2['C'].sample(3))\n",
        "plt.xlabel('df1[\\'C\\']')\n",
        "plt.ylabel('df2[\\'C\\']')\n",
        "plt.title('Scatter plot of df1[\\'C\\'] vs df2[\\'C\\']')\n",
        "plt.show()"
      ],
      "metadata": {
        "colab": {
          "base_uri": "https://localhost:8080/",
          "height": 295
        },
        "id": "MczuUtardDVr",
        "outputId": "25c59d2a-d106-4ba3-f8d9-421c87c7cb84"
      },
      "execution_count": 73,
      "outputs": [
        {
          "output_type": "display_data",
          "data": {
            "text/plain": [
              "<Figure size 432x288 with 1 Axes>"
            ],
            "image/png": "[encoded data removed]"
          },
          "metadata": {
            "needs_background": "light"
          }
        }
      ]
    },
    {
      "cell_type": "code",
      "source": [
        "import numpy as np"
      ],
      "metadata": {
        "id": "bDRC0x7kfjOK"
      },
      "execution_count": 75,
      "outputs": []
    },
    {
      "cell_type": "code",
      "source": [
        "bins = 20\n",
        "df2_C_hist, bin_edges = np.histogram(df2['C'], bins=bins)\n",
        "df2_C_hist = pd.DataFrame({'bin_edges_left': bin_edges[:-1], 'bin_edges_right': bin_edges[1:], 'count': df2_C_hist})\n"
      ],
      "metadata": {
        "id": "n2lClzZ5dDxI"
      },
      "execution_count": 76,
      "outputs": []
    },
    {
      "cell_type": "code",
      "source": [],
      "metadata": {
        "id": "UJh32NASfh2s"
      },
      "execution_count": null,
      "outputs": []
    }
  ]
}