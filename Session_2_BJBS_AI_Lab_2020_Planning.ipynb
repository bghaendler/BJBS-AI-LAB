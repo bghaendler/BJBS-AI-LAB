{
  "nbformat": 4,
  "nbformat_minor": 0,
  "metadata": {
    "colab": {
      "name": "Session 2 - BJBS AI_Lab 2020 - Planning.ipynb",
      "provenance": [],
      "collapsed_sections": [
        "woPRDZt8PL_Q",
        "qjleYa-ERJq_",
        "cCXqyJTNaCq-",
        "ApJwM86FONi9",
        "qO2KtJN9RNps",
        "EBoHXgRcUuEL",
        "9pxJTuoOVYzG",
        "hzMgA5EoVxH6",
        "ADWWC12SWZ1-",
        "AZzJxBJ1W9Vj",
        "1BrghZLwYSKj",
        "u0sfRO2pYWpK",
        "5zmQOsFOYaSx",
        "GSiWDg8fYbXq",
        "zMNW3sbBYcc5",
        "WM5Mq_nAYPQR",
        "r-3ZvmhIYYRw",
        "aaxdNn2TXfmU",
        "RkApWWm8dnaJ",
        "OL8ElVfDtBkh",
        "6NdnZYW3wsaN",
        "jbgUsCT5eiaV",
        "gJRo-Qrlkxx6",
        "-x5thIddpuJJ",
        "x63M2kPLOHE0",
        "bC8Lem9XPfQn",
        "p4cUGoauQkgG",
        "c_y75lZaSkyL",
        "iJrMvghDSsbS",
        "uxyMtOW7Wdj7",
        "V-M_JWqGbOZx",
        "2cExFiMOcBPS",
        "AIRdL5WrdPHj",
        "Rcv412ntdYtj",
        "pmpD0GVZdtSD",
        "_gEmXJLpeRBP",
        "KmEttwrTgmBn",
        "tpT7X8tSQJGd",
        "fIHoyAj6Qy6s",
        "-hmoGcjZQ0br",
        "1cm8buFhQ5v2",
        "dxeFE2C5Q7fY",
        "UPWwz3bZQ8if",
        "7bi3ihthQ9mW",
        "NRXhdz9rQ-_l",
        "uqMhE9FIRADT",
        "Z0N3ruN9RBHT",
        "G1hJ_v8uRFeu",
        "mqpKTYX8RGh0",
        "W4U1dw2WRHyk"
      ],
      "authorship_tag": "ABX9TyMredRFHA2XFMfSy0m15A1H",
      "include_colab_link": true
    },
    "kernelspec": {
      "name": "python3",
      "display_name": "Python 3"
    }
  },
  "cells": [
    {
      "cell_type": "markdown",
      "metadata": {
        "id": "view-in-github",
        "colab_type": "text"
      },
      "source": [
        "<a href=\"https://colab.research.google.com/github/bghaendler/BJBS-AI-LAB/blob/master/Session_2_BJBS_AI_Lab_2020_Planning.ipynb\" target=\"_parent\"><img src=\"https://colab.research.google.com/assets/colab-badge.svg\" alt=\"Open In Colab\"/></a>"
      ]
    },
    {
      "cell_type": "markdown",
      "metadata": {
        "id": "tpBPLQOext68",
        "colab_type": "text"
      },
      "source": [
        "<img width=\"600\" src=\"https://raw.githubusercontent.com/bghaendler/BJBS-AI-LAB/master/img/BJBSAILogo.png\" class=\"center\"> "
      ]
    },
    {
      "cell_type": "markdown",
      "metadata": {
        "id": "qMvxOwbex0Hy",
        "colab_type": "text"
      },
      "source": [
        "# Planning\n"
      ]
    },
    {
      "cell_type": "markdown",
      "metadata": {
        "id": "woPRDZt8PL_Q",
        "colab_type": "text"
      },
      "source": [
        "## 1. Introduction (7 Feb)\n"
      ]
    },
    {
      "cell_type": "markdown",
      "metadata": {
        "id": "qjleYa-ERJq_",
        "colab_type": "text"
      },
      "source": [
        "### Why AI\n",
        "### Why BJBS AI Laboratory"
      ]
    },
    {
      "cell_type": "markdown",
      "metadata": {
        "id": "V4DFV6s1QL1h",
        "colab_type": "text"
      },
      "source": [
        "## <img src=\"https://image.flaticon.com/icons/svg/395/395841.svg\" width=\"20\"> 2. Introduction to Python Programming for Data Science (28 Feb)"
      ]
    },
    {
      "cell_type": "markdown",
      "metadata": {
        "id": "cCXqyJTNaCq-",
        "colab_type": "text"
      },
      "source": [
        "### Why Data Scientists Love Python? [link](https://www.cbtnuggets.com/blog/technology/data/why-data-scientists-love-python)"
      ]
    },
    {
      "cell_type": "markdown",
      "metadata": {
        "id": "bwLCNZgObQi2",
        "colab_type": "text"
      },
      "source": [
        "- The numbers don't lie. **According to recent studies**, Python is the preferred programming language for data scientists. \n",
        "- They need an \n",
        "  1. **easy-to-use language** that has \n",
        "  2. **decent library availability** and \n",
        "  3. **great community participation**. "
      ]
    },
    {
      "cell_type": "markdown",
      "metadata": {
        "id": "81BILrkVZSvr",
        "colab_type": "text"
      },
      "source": [
        "\n",
        "\n",
        "#### Why Python is the Best\n",
        "\n",
        "\n",
        "\n",
        "\n"
      ]
    },
    {
      "cell_type": "markdown",
      "metadata": {
        "id": "r_bcQyEObVCs",
        "colab_type": "text"
      },
      "source": [
        "- Python has long been known as a **simple programming language** to pick up, from a syntax point of view, anyway. \n",
        "- Python also has an **active community with a vast selection of libraries and resources**. \n",
        "- The result? \n",
        " - You have a programming platform that makes sense to use with emerging technologies like machine learning and data science.\n",
        "\n",
        "- Professionals working with data science applications **don't want to be bogged down with complicated programming requirements**. \n",
        " - They want to use programming languages like Python and Ruby to perform tasks hassle-free.\n",
        "  - **Ruby** is excellent for performing tasks such as data cleaning and data munging, along with other data pre-processing tasks. \n",
        "  - However, it doesn't feature as many machine learning libraries as Python. \n",
        "  - This gives Python the edge when it comes to data science and machine learning\n",
        "\n",
        "- Python also enables developers to roll out programs and get prototypes running, making the development process much **faster**. \n",
        "- Once a project is on its way to becoming an analytical tool or application, **it can be ported to more sophisticated languages such as Java or C if necessary**.\n",
        "\n",
        "- Newer data scientists gravitate toward Python because of its ease of use, which makes it accessible. So popular in fact, a staggering 48 percent of data scientists with five or fewer years experience rated Python their preferred programming language.\n",
        "\n",
        "- This number tapers off as the experience level increases and the analytics become more intensive. \n",
        "- Python has proven itself to be an **excellent starting point for data scientists**."
      ]
    },
    {
      "cell_type": "markdown",
      "metadata": {
        "id": "0Bd27EO2bNyq",
        "colab_type": "text"
      },
      "source": [
        "#### Why Data Science and Python Mesh Well\n"
      ]
    },
    {
      "cell_type": "markdown",
      "metadata": {
        "id": "LaKug7fqbX88",
        "colab_type": "text"
      },
      "source": [
        "- Data science **involves extrapolating useful information from massive stores of statistics, registers, and data**. \n",
        " - These data are usually unsorted and difficult to correlate with any meaningful accuracy. \n",
        " - Machine learning can make connections between disparate datasets but requires serious computational sophistry and power.\n",
        "\n",
        "- Python fills this need by being a general-purpose programming language. \n",
        " - It allows you to create CSV output for easy data reading in a spreadsheet.   \n",
        " - Alternatively, more complicated file outputs that can be ingested by machine learning clusters for computation.\n",
        "\n"
      ]
    },
    {
      "cell_type": "markdown",
      "metadata": {
        "id": "dAOC-g3UbZ1I",
        "colab_type": "text"
      },
      "source": [
        "#### Consider the following example:\n",
        "\n",
        "\n"
      ]
    },
    {
      "cell_type": "markdown",
      "metadata": {
        "id": "U2rxCFO9busd",
        "colab_type": "text"
      },
      "source": [
        "- Weather forecasts rely on past readings from a century's worth of weather records. \n",
        "- Machine learning can help make more accurate predictive models based on past weather events. \n",
        "- **Python can do this because it is lightweight and efficient at executing code**, but it is also multi-functional. Also, Python can support object-oriented, structured and functional programming styles, meaning it can find an application anywhere.\n",
        "\n",
        "There are now over 70,000 libraries in the Python Package Index, and that number continues to grow. As previously mentioned, Python offers many libraries geared toward data science. A simple Google search reveals plenty of Top 10 Python libraries for data science lists. Arguably, the most popular data analysis library is an open source library called pandas. It is a high-performance set of applications that make data analysis in Python a much simpler task.  \n",
        "\n",
        "No matter what scientists are looking to do with Python, be it predictive causal analytics or prescriptive analytics, Python has the toolset to perform a variety of powerful functions. It's no wonder why data scientists embraced Python."
      ]
    },
    {
      "cell_type": "markdown",
      "metadata": {
        "id": "WxXDDF9abbEa",
        "colab_type": "text"
      },
      "source": [
        "\n",
        "#### Final thoughts\n"
      ]
    },
    {
      "cell_type": "markdown",
      "metadata": {
        "id": "s0TJIDM0bcJn",
        "colab_type": "text"
      },
      "source": [
        "When you think that Python couldn't get any cooler (relatively speaking), you discover it's named after Monty Python's Flying Circus, a classic comedy series from the late 1960's to the mid-1970's. Python documentation is littered with comedic references to Monty Python.\n",
        "\n",
        "Better yet, Python is still under development, meaning it receives regular updates and releases. So, you can rest assured that learning Python for data science is time well spent. As big data and machine learning become more common in business and government, the demand for more Python-skilled practitioners is set to rise."
      ]
    },
    {
      "cell_type": "markdown",
      "metadata": {
        "id": "ApJwM86FONi9",
        "colab_type": "text"
      },
      "source": [
        "### Python for Data Science [link](https://www.geeksforgeeks.org/python-for-data-science/)"
      ]
    },
    {
      "cell_type": "markdown",
      "metadata": {
        "id": "1atzn6x1Osrf",
        "colab_type": "text"
      },
      "source": [
        "- Python is **open source, interpreted, high level language and provides great approach for object-oriented programming**. \n",
        " - It is one of the best language used by data scientist for various data science projects/application. \n",
        " - Python provide great functionality to deal with **mathematics, statistics and scientific function**. \n",
        " - It provides great libraries to deals with data science application.\n",
        "\n",
        "- One of the main reasons why Python is widely used in the scientific and research communities is because of its ease of use and **simple syntax** which makes it easy to adapt for people who do not have an engineering background. It is also more suited for quick prototyping.\n",
        "\n",
        "- According to engineers coming from academia and industry, deep learning frameworks available with Python APIs, in addition to the scientific packages have made Python incredibly productive and versatile. There has been a lot of evolution in deep learning Python frameworks and it’s rapidly upgrading."
      ]
    },
    {
      "cell_type": "markdown",
      "metadata": {
        "id": "3TJZ51NlO8Mq",
        "colab_type": "text"
      },
      "source": [
        "- In terms of application areas, ML scientists prefer Python as well. \n",
        " - When it comes to areas like building fraud detection algorithms and network security, developers leaned towards Java, while for applications like natural language processing (NLP) and sentiment analysis, developers opted for Python, because it provides large collection of libraries that help to solve complex business problem easily, build strong system and data application.\n",
        "\n"
      ]
    },
    {
      "cell_type": "markdown",
      "metadata": {
        "id": "FfYMNFhyfKqZ",
        "colab_type": "text"
      },
      "source": [
        "#### Following are some useful features of Python language:\n",
        "\n"
      ]
    },
    {
      "cell_type": "markdown",
      "metadata": {
        "id": "mLj4VKHjfNxO",
        "colab_type": "text"
      },
      "source": [
        "- It uses the elegant syntax, hence the programs are **easier to read**.\n",
        "- It is a **simple to access** language, which makes it easy to achieve the program working.\n",
        "- The large standard library and community support.\n",
        "- The interactive mode of Python makes its simple to test codes.\n",
        "- In Python, it is also simple to extend the code by appending new modules that are implemented in other compiled language like C++ or C.\n",
        "- Python is an expressive language which is possible to embed into applications to offer a programmable interface.\n",
        "- Allows developer to run the code anywhere, including Windows, Mac OS X, UNIX, and Linux.\n",
        "- It is free software in a couple of categories. It does not cost anything to use or download Pythons or to add it to the application.\n",
        "Most Commonly used libraries for data science :\n",
        "\n"
      ]
    },
    {
      "cell_type": "markdown",
      "metadata": {
        "id": "ffLNU2u7f3WY",
        "colab_type": "text"
      },
      "source": [
        "##### Numpy: \n",
        "\n",
        "- Numpy is Python library that provides mathematical function to handle large dimension array. It provides various method/function for Array, Metrics, and linear algebra.\n",
        "- NumPy stands for Numerical Python. It provides lots of useful features for operations on n-arrays and matrices in Python. The library provides vectorization of mathematical operations on the NumPy array type, which enhance performance and speeds up the execution. It’s very easy to work with large multidimensional arrays and matrices using NumPy.\n",
        "\n",
        "\n",
        "##### Pandas: \n",
        "- Pandas is one of the most popular Python library for data manipulation and analysis. \n",
        "- Pandas provide useful functions to manipulate large amount of structured data. Pandas provide easiest method to perform analysis. - It provide large data structures and manipulating numerical tables and time series data. Pandas is a perfect tool for data wrangling. \n",
        "- Pandas is designed for quick and easy data manipulation, aggregation, and visualization. \n",
        "- There two data structures in Pandas –\n",
        " - Series – It Handle and store data in one-dimensional data.\n",
        " - DataFrame – It Handle and store Two dimensional data.\n",
        "\n",
        "#####Matplotlib: \n",
        "\n",
        "- Matplolib is another useful Python library for Data Visualization. \n",
        "- Descriptive analysis and visualizing data is very important for any organization. \n",
        "- Matplotlib provides various method to Visualize data in more effective way. \n",
        "- Matplotlib allows to quickly make line graphs, pie charts, histograms, and other professional grade figures. Using Matplotlib, one can customize every aspect of a figure. Matplotlib has interactive features like zooming and planning and saving the Graph in graphics format.\n",
        "\n",
        "##### Scipy: \n",
        "\n",
        "- Scipy is another popular Python library for data science and scientific computing. \n",
        "- Scipy provides great functionality to scientific mathematics and computing programming. \n",
        "- SciPy contains sub-modules for optimization, linear algebra, integration, interpolation, special functions, FFT, signal and image processing, ODE solvers, Statmodel and other tasks common in science and engineering.\n",
        "\n",
        "##### Scikit – learn: \n",
        "\n",
        "- Sklearn is Python library for machine learning. \n",
        "- Sklearn provides various algorithms and functions that are used in machine learning. \n",
        "- Sklearn is built on NumPy, SciPy, and matplotlib. \n",
        "- Sklearn provides easy and simple tools for data mining and data analysis. It provides a set of common machine learning algorithms to users through a consistent interface. Scikit-Learn helps to quickly implement popular algorithms on datasets and solve real-world problems."
      ]
    },
    {
      "cell_type": "markdown",
      "metadata": {
        "id": "qO2KtJN9RNps",
        "colab_type": "text"
      },
      "source": [
        "### Data Analysis: Python vs Excel [link](https://cambridgespark.com/python-vs-excel/)"
      ]
    },
    {
      "cell_type": "markdown",
      "metadata": {
        "id": "PlphzsF4USem",
        "colab_type": "text"
      },
      "source": [
        "#### Introduction"
      ]
    },
    {
      "cell_type": "markdown",
      "metadata": {
        "id": "lB0xD3taRVtj",
        "colab_type": "text"
      },
      "source": [
        "- Excel has been a firm favourite for working professionals for many years and for good reason. \n",
        " - It has a large number of capabilities and its **ease of use** has meant that it’s played a **critical role in all manners of business, education, finance and research**. \n",
        "- Enter Python. \n",
        " - This programming language has gained traction over recent years. \n",
        " - [One report](https://www.sigmarrecruitment.eu/blog/2019/01/the-most-in-demand-coding-languages-for-2019) states that the demand for Python skills, as a requisite in job postings, has increased by 27.6% in the last year and shows no signs of slowing down. \n",
        " - It was initially built as a way to write scripts that ‘**automate the boring stuff**’, but over time Python has become a **leader in web development, data analysis and infrastructure management**. \n",
        " "
      ]
    },
    {
      "cell_type": "markdown",
      "metadata": {
        "id": "c4oYJzPFR9ap",
        "colab_type": "text"
      },
      "source": [
        "#### Demand for Excel"
      ]
    },
    {
      "cell_type": "markdown",
      "metadata": {
        "id": "ZKYQnY12SD-r",
        "colab_type": "text"
      },
      "source": [
        "- Microsoft Excel skills are still in [high-demand](https://www.goskills.com/Excel/Articles/Jobs-require-Excel). \n",
        " - After 34 years, in this fast-changing tech world, the **spreadsheet software is still going strong**. \n",
        " - The seasoned data analysis tool is still used a lot in the [financial sector](https://www.mytotalretail.com/article/6-reasons-why-excel-still-matters-in-the-workplace/) to organise and present large amounts of data. \n",
        " - Excel has been developed and updated recently which means it boasts more user-friendly features and more effective functionalities for all businesses. \n",
        "\n",
        "- [According to Microsoft](https://medium.com/grid-spreadsheets-run-the-world/excel-vs-google-sheets-usage-nature-and-numbers-9dfa5d1cadbd), there are 1.2 billion people that own Excel, of which 800 million people currently use it. \n",
        " - In comparison, it’s been estimated that the number of people that use Python is around [8.2 million people](https://www.zdnet.com/article/programming-languages-python-developers-now-outnumber-java-ones/). \n",
        " The odds are that if someone you work with sends you a report, it will be in Excel, so it’s useful to know how to use it."
      ]
    },
    {
      "cell_type": "markdown",
      "metadata": {
        "id": "GqgleIMuS5Y2",
        "colab_type": "text"
      },
      "source": [
        "#### The time for change "
      ]
    },
    {
      "cell_type": "markdown",
      "metadata": {
        "id": "ojDW7vISS7DE",
        "colab_type": "text"
      },
      "source": [
        "- However, consultants and [IT experts](https://siliconangle.com/2019/06/27/120m-users-risk-serious-vulnerability-microsoft-excel/) have voiced their concerns over how fragile the spreadsheet software can be. Excel is working to overcome challenges such as: \n",
        " - **Data Volume**: Companies, small and large, have most likely used Excel at some point in their development. However, as the organisations generate data, they find themselves dealing with an increasing number of spreadsheets, resulting in complex analytical issues. \n",
        " - **Syntax Errors**: Excel has been considered notorious when copying and pasting data in specific cell ranges. This can create lots of errors when inputting formulas manually.\n",
        " - **Security Risks**: Companies have to be cautious about the kind of information that is stored in Excel sheets, in case of misuse and cyber attacks. Excel has some security policies that need to be addressed."
      ]
    },
    {
      "cell_type": "markdown",
      "metadata": {
        "id": "R-S99ahnTMw1",
        "colab_type": "text"
      },
      "source": [
        "#### Python says, (“Hello, World!”)."
      ]
    },
    {
      "cell_type": "markdown",
      "metadata": {
        "id": "Ht7HqzSaTQOn",
        "colab_type": "text"
      },
      "source": [
        "- First released in 1991, Python has become one of the most ubiquitous programming languages out there. \n",
        " - Although Python and Excel technically have different functionalities, Python has developed a **strong following as people have realised its capabilities and potential**. \n",
        " - It’s been deemed as a **better data analysis tool** by many developers and the wider data science [community](https://www.datasciencecentral.com/profiles/blogs/why-excel-users-should-learn-python). \n",
        "- While Python **needs basic programming skills**, it has been looked upon as a prerequisite for many quantitative roles. \n",
        " - Companies are looking to hire new candidates with Python skills with **at least beginner-level proficiency**. \n",
        "- Its avid practitioners, known as **Pythonistas**, have uploaded **145,000 custom-built software packages to an online repository**.  \n",
        " - These cover [everything](https://www.economist.com/graphic-detail/2018/07/26/python-is-becoming-the-worlds-most-popular-coding-language) from game development to astronomy and can be installed and inserted into a Python program in a matter of seconds. \n",
        "- This versatility means that the \n",
        " - Central Intelligence Agency has used it for hacking, \n",
        " - Google for crawling web pages, \n",
        " - Pixar for producing movies and \n",
        " - Spotify for recommending songs. \n",
        "- Some of the most popular packages harness “machine learning”, by crunching large quantities of data to pick out patterns that would otherwise be imperceptible."
      ]
    },
    {
      "cell_type": "markdown",
      "metadata": {
        "id": "EBoHXgRcUuEL",
        "colab_type": "text"
      },
      "source": [
        "#### So how popular is it?"
      ]
    },
    {
      "cell_type": "markdown",
      "metadata": {
        "id": "Fso8J5ZTUxGB",
        "colab_type": "text"
      },
      "source": [
        "- According to the ‘[Popularity of Programming Language](http://pypl.github.io/PYPL.html)’ index, Python is the world’s most popular language. \n",
        " - It’s grown 18.7% in the last five years. \n",
        " - With a popularity share of 29.21%, Python beats the closest competitor, Java, by 9.31%. \n",
        " - Whilst these numbers might not be an accurate metric to measure value, consider that Uber, PayPal, Google, Facebook, Instagram, Netflix, Dropbox, and Reddit all use Python in their development and testing. \n",
        " - Moreover, Python is also used extensively in robotics and embedded systems. \n",
        "- In 2012, [Stack Overflow](https://stackoverflow.com/), the largest and most trusted online community for developers, saw questions relating to Python account for less than 4%. \n",
        " - Today, [over 10% of questions on the site are related to Python](https://qz.com/1408660/the-rise-of-python-as-seen-through-a-decade-of-stack-overflow/). "
      ]
    },
    {
      "cell_type": "markdown",
      "metadata": {
        "id": "9pxJTuoOVYzG",
        "colab_type": "text"
      },
      "source": [
        "#### Income boost "
      ]
    },
    {
      "cell_type": "markdown",
      "metadata": {
        "id": "MIjLUEv1VemB",
        "colab_type": "text"
      },
      "source": [
        "- **Not only can it increase your productivity, but it can also have a positive impact on your income**. \n",
        "- The average salary in the UK for jobs that require Python as a skill is £57,075, compared to £37,504 for jobs using Excel. \n",
        "- This means that by learning Python, you can expect to earn a higher salary on average. It’s also a great way to future-proof your career by keeping your skillset up-to-date and relevant.\n",
        "\n",
        "<img src=\"https://cambridgespark.com/wp-content/uploads/2019/09/Python-Growth-Projection-2.png\">"
      ]
    },
    {
      "cell_type": "markdown",
      "metadata": {
        "id": "hzMgA5EoVxH6",
        "colab_type": "text"
      },
      "source": [
        "#### Who can benefit from learning Python?"
      ]
    },
    {
      "cell_type": "markdown",
      "metadata": {
        "id": "OeTJE4kuV_bA",
        "colab_type": "text"
      },
      "source": [
        "- Python is such a diverse tool that can be used in multiple applications in plenty of jobs. Some of the most interesting things that you can do with Python are: \n",
        "\n",
        "- **Automate the boring stuff**: \n",
        " - Updating spreadsheets, renaming files, gathering and formatting data, check for spelling, automate excel reports using Python, and grammar mistakes and compiling reports. \n",
        " - These are just a few examples.\n",
        "- Build a **Bitcoin notification service** to see when might be a good time to purchase the highly talked about cryptocurrency. \n",
        " - If Ethereum is more your thing, the code can be replicated for other currencies.\n",
        "- **Mine data from Twitter** to build a sentiment analysis tool. \n",
        " - This project would lead nicely into learning more about text processing and speech recognition.\n",
        "- **Build a Blockchain **to use for almost any financial transaction. \n",
        "\n",
        "- Alex Zhivitov is a Data Analyst at TransferWise, who is currently hiring for Data Analysts that have experience with Python. \n",
        " - In a recent interview, he spoke about the importance of learning Python over the use of Excel. \n",
        " - His response was “**There are many tasks that you can use Excel or SQL to get the job done but Python allows you more freedom to build the tools yourself and easily cover the data pipeline of data analytics from start to finish**”."
      ]
    },
    {
      "cell_type": "markdown",
      "metadata": {
        "id": "ADWWC12SWZ1-",
        "colab_type": "text"
      },
      "source": [
        "#### Jobs that Python can benefit"
      ]
    },
    {
      "cell_type": "markdown",
      "metadata": {
        "id": "MN3MEyz9Wbqw",
        "colab_type": "text"
      },
      "source": [
        "- **Account Managers**, Accountants and anyone working with large datasets can benefit from learning and using Python. \n",
        " - Programming knowledge will allow you to extract and manipulate data from multiple reports, to then, filter and detect any inconsistencies in the data on a very large scale, which would take you a long time if using Excel. \n",
        "\n",
        "- **Data Analysts** can benefit from learning Python as the majority of their work involves trawling through data and Python can help automate that process, saving ones time and effort. \n",
        " - As mentioned earlier, TransferWise are hiring Data Analysts that have experience in Python. \n",
        " - Alex described that “with Python, you can do so much more because of its general-purpose. \n",
        " - It gives you the freedom to build tools for yourself and you can easily cover the entire pipeline of Data Analytics work from start to finish.”\n",
        "\n",
        "- Good news if you work in **Marketing**: \n",
        " - Python can help you too. It can help by automating data collection (SEO indexation, email and SMS responses, and trend information), automate SEO processes, monitor campaigns more effectively and automate customised error checks. \n",
        " - The jobs you would generally go to Excel for, you can automate by writing simple Python code.\n",
        "\n",
        "- **Journalism**: \n",
        " - This is particularly relevant within journalism that uses data to tell stories. \n",
        " - Those who know Python are in demand as they can rapidly sort through information, making them much more efficient when it comes to writing for deadlines."
      ]
    },
    {
      "cell_type": "markdown",
      "metadata": {
        "id": "AZzJxBJ1W9Vj",
        "colab_type": "text"
      },
      "source": [
        "#### What makes Python a better option?"
      ]
    },
    {
      "cell_type": "markdown",
      "metadata": {
        "id": "14ONl51DXB-v",
        "colab_type": "text"
      },
      "source": [
        "- There are many things that Excel can do, and it’s a great tool for basic data analysis, however, Python allows you to do more in terms of analysis. Here are a few reasons… \n",
        "\n"
      ]
    },
    {
      "cell_type": "markdown",
      "metadata": {
        "id": "1BrghZLwYSKj",
        "colab_type": "text"
      },
      "source": [
        "##### Python for Data Analysis \n",
        "\n"
      ]
    },
    {
      "cell_type": "markdown",
      "metadata": {
        "id": "ZWTkJH8rYUuK",
        "colab_type": "text"
      },
      "source": [
        "- Python can handle** much larger volumes of data** and therefore analysis, and it forms a basic requirement for most data science teams. \n",
        "- It can **easily overcome mundane tasks and bring in automation**. - Furthermore, it has **better efficiency and scalability**. \n",
        "- Python is faster than Excel for data pipelines, automation and calculating complex equations and algorithms.\n",
        "\n"
      ]
    },
    {
      "cell_type": "markdown",
      "metadata": {
        "id": "u0sfRO2pYWpK",
        "colab_type": "text"
      },
      "source": [
        "##### Python is free!\n",
        "\n"
      ]
    },
    {
      "cell_type": "markdown",
      "metadata": {
        "id": "84SFEjWxYiZ6",
        "colab_type": "text"
      },
      "source": [
        "- Although no programming language costs money to use, Python is free in another sense: it’s open-source. This means that the code can be inspected and modified by anyone. Python is a progressive language that is constantly being developed, collaboratively, by a group of volunteers. Microsoft Excel costs around £100 to download for one license. For businesses (dependant on the number of employees) it could be thousands, and Excel is developed solely by Microsoft employees. \n",
        "\n"
      ]
    },
    {
      "cell_type": "markdown",
      "metadata": {
        "id": "5zmQOsFOYaSx",
        "colab_type": "text"
      },
      "source": [
        "##### Leveraging the latest research\n",
        "\n"
      ]
    },
    {
      "cell_type": "markdown",
      "metadata": {
        "id": "mcGn8EEXYgax",
        "colab_type": "text"
      },
      "source": [
        "- Excel has a large user base that offers a wide variety of tips and tricks in an open forum. But the Python community does the same, and more. With its strong ethos of collaboration, academics and Data Scientists often publish and share their code. This means that the latest techniques developed in Python are available for free to the community.\n",
        "\n"
      ]
    },
    {
      "cell_type": "markdown",
      "metadata": {
        "id": "GSiWDg8fYbXq",
        "colab_type": "text"
      },
      "source": [
        "##### Python Libraries\n",
        "\n"
      ]
    },
    {
      "cell_type": "markdown",
      "metadata": {
        "id": "vwynEVrsYfF3",
        "colab_type": "text"
      },
      "source": [
        "- A Python library is a collection of functions and methods that allows you to perform many actions without writing your code from scratch. \n",
        " - This makes a Data Analyst’s work **more efficient** seeing as they don’t have to waste time on writing out code, instead, they can just import a library. \n",
        " - Different libraries have different functionalities. \n",
        "  - For example, **TensorFlow** (developed by Google) is used for machine learning projects and SciKit Learn is a library used when working with complex datasets. \n",
        "\n"
      ]
    },
    {
      "cell_type": "markdown",
      "metadata": {
        "id": "zMNW3sbBYcc5",
        "colab_type": "text"
      },
      "source": [
        "##### Integrations\n",
        "\n"
      ]
    },
    {
      "cell_type": "markdown",
      "metadata": {
        "id": "JKg1xFvAYnd0",
        "colab_type": "text"
      },
      "source": [
        "- Python is referred to as a ‘glue’ language, which means that it is particularly useful for **connecting different scripts together and interact with different systems including different forms of databases** (e.g. SQL and NoSQL databases), **data formats** (JSON, Parquet etc) and **web services**. \n",
        "- The Python community also contributes to many packages that allow you to interact with a range of public APIs. This is often useful for Data Scientists given they have to read data from different places and process it.\n",
        "\n"
      ]
    },
    {
      "cell_type": "markdown",
      "metadata": {
        "id": "WM5Mq_nAYPQR",
        "colab_type": "text"
      },
      "source": [
        "##### Deep Learning and Machine Learning\n",
        "\n"
      ]
    },
    {
      "cell_type": "markdown",
      "metadata": {
        "id": "zUJ0poMoYoWi",
        "colab_type": "text"
      },
      "source": [
        "- Python is the de **facto language of machine learning**. \n",
        " - Researchers and Academics are all using Python for deep learning to create predictive and simulative models that find new insights into their data. \n",
        " - Most notably, Google’s TensorFlow works mostly with Python.\n",
        "\n"
      ]
    },
    {
      "cell_type": "markdown",
      "metadata": {
        "id": "r-3ZvmhIYYRw",
        "colab_type": "text"
      },
      "source": [
        "##### Python is widely supported\n",
        "\n"
      ]
    },
    {
      "cell_type": "markdown",
      "metadata": {
        "id": "MhtDa9YwYpRz",
        "colab_type": "text"
      },
      "source": [
        "- Python is backed by a large community of developers (8.2 million) and therefore has a strong support system. There are many tutorials covering Python concepts all over the web. Even Python programming experts can find guidance if necessary when working on complex problems. As mentioned earlier, Excel does have a many more people using the software, and it’s well supported online in tutorials and guides.\n",
        "\n",
        "- Python is not only supported online but offline too, at conferences, meetups, hackathons and events around the world. PyCon 2019 in Cleveland, for example, had just shy of 4,000 attendees. PyCon is an international set of conferences, held at multiple locations around the world. They aim to bring together developers and data science enthusiasts to discuss and promote the Python programming language.\n",
        "\n",
        "- Another is PyData, a leading conference which focuses on the community of users and developers of data analysis tools to share and learn together with chapters in cities all over the world. (PyData Cambridge will be running in November 2019). \n",
        "\n",
        "- In the business world, Python proficiency has been on the rise. Cambridge Spark CEO, Dr Raoul-Gabriel Urma had an interview with eFinancialCareers about the future for traders if they don’t learn Python. He said, “If you want to get an edge today, you need to create new strategies with Python. This is why all the traders at trading companies are increasing their Python proficiency.” Dr. Urma’s experience and knowledge in Python comes from his Masters in Engineering in computer science and a PhD in computer science from Cambridge University, he followed this by working with Google and Goldman Sachs before starting his own tech company."
      ]
    },
    {
      "cell_type": "markdown",
      "metadata": {
        "id": "aaxdNn2TXfmU",
        "colab_type": "text"
      },
      "source": [
        "#### Excel vs Python: Who wins?"
      ]
    },
    {
      "cell_type": "markdown",
      "metadata": {
        "id": "G7M2KbfKXjDT",
        "colab_type": "text"
      },
      "source": [
        "- The evidence suggests that both the software tools have their places with certain jobs. \n",
        " - Excel is a great entry level tool and is a quick and easy way to do some analysis. \n",
        " - But for the modern era, with **large data sets** and more **complex analytics** and **automation**, Python provides the tools, techniques, and processing power that Excel in, many instances, lacks. \n",
        " - After all, Python is more powerful, faster, capable of better data analysis and it benefits from a more inclusive, collaborative support system.\n",
        "\n",
        "- **Python is a must-have skill for Data Analysts and now is the time to learn**. Alex Zhivotov, also commented “You can be a good Data Analyst without knowing Python but if you want to stand out above the rest, be a star data analyst and progress then you need to learn Python”.\n",
        "- If you want to reap the benefits such as a higher salary, better career opportunities and keeping your skills relevant for the [fourth industrial revolution](https://www.weforum.org/focus/fourth-industrial-revolution), then learn Python."
      ]
    },
    {
      "cell_type": "markdown",
      "metadata": {
        "id": "RkApWWm8dnaJ",
        "colab_type": "text"
      },
      "source": [
        "### Excel vs Python: How to Do Common Data Analysis Tasks [link](https://www.dataquest.io/blog/excel-vs-python/)"
      ]
    },
    {
      "cell_type": "markdown",
      "metadata": {
        "id": "ADIFIbkzdwJZ",
        "colab_type": "text"
      },
      "source": [
        "#### Introduction"
      ]
    },
    {
      "cell_type": "markdown",
      "metadata": {
        "id": "xwJWQcl0eSsL",
        "colab_type": "text"
      },
      "source": [
        "- In this tutorial, we’ll compare Excel and Python by looking at how to perform basic analysis tasks across both platforms.\n",
        "\n",
        "- Excel is the most commonly used data analysis software in the world. \n",
        " - Why? It’s easy to get the hang of and fairly powerful once you master it. \n",
        " - In contrast, Python’s reputation is that it’s more difficult to use, though what you can do with it is once you’ve learned it is almost unlimited.\n",
        "\n",
        "- But how do these two data analysis tools actually compare? \n",
        " - Their reputations don’t really reflect reality. In this tutorial, we’ll take a look at some common data analysis tasks to demonstrate how accessible Python data analysis can be.\n",
        "\n",
        "- This tutorial assumes you have an intermediate-level knowledge of Excel, including using formulas and pivot tables.\n",
        "\n",
        "- We’ll be using the Python library pandas, which is designed facilitate data analysis in Python, but you don’t need any Python or pandas knowledge for this tutorial."
      ]
    },
    {
      "cell_type": "markdown",
      "metadata": {
        "id": "OL8ElVfDtBkh",
        "colab_type": "text"
      },
      "source": [
        "### Why Use Python vs Excel?"
      ]
    },
    {
      "cell_type": "markdown",
      "metadata": {
        "id": "-yBmCj4CtFjy",
        "colab_type": "text"
      },
      "source": [
        "- Before we start, you might be wondering why Python is even worth considering. Why couldn’t you just keep using Excel?\n",
        "\n",
        "- Even though Excel is great, **there are some areas that make a programming language like Python better for certain types of data analysis**. \n",
        " - Here are some reasons from our post [9 Reasons Excel Users Should Consider Learning Programming](https://www.dataquest.io/blog/9-reasons-excel-users-should-consider-learning-programming/):\n",
        "\n",
        "- You can read and work with almost any kind of data.\n",
        " - **Automated and repetitive** tasks are easier.\n",
        " - Working with **large data sets** is much faster and easier.\n",
        " - It’s easier for others to reproduce and **audit your work**.\n",
        " - **Finding and fixing errors** is easier.\n",
        " - Python is **open source**, so **you can see what’s behind the libraries you use**.\n",
        " - **Advanced statistics and machine learning capabilities**.\n",
        " - Advanced** data visualization capabilities**.\n",
        " - **Cross-platform stability** — your analysis can be run on any computer.\n",
        "- To be clear, we don’t advocate leaving Excel behind – it’s a powerful tool with many uses! But as an Excel user, being able to also leverage the power of Python can save you hours of time and open up career advancement opportunities.\n",
        "\n",
        "- It’s worth remembering the two tools can **work well in tandem**, and you may find that some tasks are best left in Excel, while others would benefit from the power, flexibility, and transparency that’s offered by Python.cv "
      ]
    },
    {
      "cell_type": "markdown",
      "metadata": {
        "id": "fFWTUVoqyObW",
        "colab_type": "text"
      },
      "source": [
        "\n",
        "\n",
        "### <img src=\"https://image.flaticon.com/icons/svg/395/395841.svg\" width=\"20\"> Common Excel Tasks Demonstrated in Pandas [link](https://pbpython.com/excel-pandas-comp.html) "
      ]
    },
    {
      "cell_type": "markdown",
      "metadata": {
        "id": "ZwlB-4ZivNxh",
        "colab_type": "text"
      },
      "source": [
        "#### Adding a Sum to a Row"
      ]
    },
    {
      "cell_type": "markdown",
      "metadata": {
        "id": "ua_U40FRvVe9",
        "colab_type": "text"
      },
      "source": [
        "The first task I’ll cover is summing some columns to add a total column.\n",
        "\n",
        "We will start by importing our excel data into a pandas dataframe."
      ]
    },
    {
      "cell_type": "code",
      "metadata": {
        "id": "3lM3A5LBvalK",
        "colab_type": "code",
        "outputId": "41a82f61-c29d-4c41-abb6-01fd7057131e",
        "colab": {
          "base_uri": "https://localhost:8080/",
          "height": 191
        }
      },
      "source": [
        "import pandas as pd\n",
        "import numpy as np\n",
        "df = pd.read_excel(\"https://pbpython.com/extras/excel-comp-data.xlsx\")\n",
        "df.head()"
      ],
      "execution_count": 1,
      "outputs": [
        {
          "output_type": "execute_result",
          "data": {
            "text/html": [
              "<div>\n",
              "<style scoped>\n",
              "    .dataframe tbody tr th:only-of-type {\n",
              "        vertical-align: middle;\n",
              "    }\n",
              "\n",
              "    .dataframe tbody tr th {\n",
              "        vertical-align: top;\n",
              "    }\n",
              "\n",
              "    .dataframe thead th {\n",
              "        text-align: right;\n",
              "    }\n",
              "</style>\n",
              "<table border=\"1\" class=\"dataframe\">\n",
              "  <thead>\n",
              "    <tr style=\"text-align: right;\">\n",
              "      <th></th>\n",
              "      <th>account</th>\n",
              "      <th>name</th>\n",
              "      <th>street</th>\n",
              "      <th>city</th>\n",
              "      <th>state</th>\n",
              "      <th>postal-code</th>\n",
              "      <th>Jan</th>\n",
              "      <th>Feb</th>\n",
              "      <th>Mar</th>\n",
              "    </tr>\n",
              "  </thead>\n",
              "  <tbody>\n",
              "    <tr>\n",
              "      <th>0</th>\n",
              "      <td>211829</td>\n",
              "      <td>Kerluke, Koepp and Hilpert</td>\n",
              "      <td>34456 Sean Highway</td>\n",
              "      <td>New Jaycob</td>\n",
              "      <td>Texas</td>\n",
              "      <td>28752</td>\n",
              "      <td>10000</td>\n",
              "      <td>62000</td>\n",
              "      <td>35000</td>\n",
              "    </tr>\n",
              "    <tr>\n",
              "      <th>1</th>\n",
              "      <td>320563</td>\n",
              "      <td>Walter-Trantow</td>\n",
              "      <td>1311 Alvis Tunnel</td>\n",
              "      <td>Port Khadijah</td>\n",
              "      <td>NorthCarolina</td>\n",
              "      <td>38365</td>\n",
              "      <td>95000</td>\n",
              "      <td>45000</td>\n",
              "      <td>35000</td>\n",
              "    </tr>\n",
              "    <tr>\n",
              "      <th>2</th>\n",
              "      <td>648336</td>\n",
              "      <td>Bashirian, Kunde and Price</td>\n",
              "      <td>62184 Schamberger Underpass Apt. 231</td>\n",
              "      <td>New Lilianland</td>\n",
              "      <td>Iowa</td>\n",
              "      <td>76517</td>\n",
              "      <td>91000</td>\n",
              "      <td>120000</td>\n",
              "      <td>35000</td>\n",
              "    </tr>\n",
              "    <tr>\n",
              "      <th>3</th>\n",
              "      <td>109996</td>\n",
              "      <td>D'Amore, Gleichner and Bode</td>\n",
              "      <td>155 Fadel Crescent Apt. 144</td>\n",
              "      <td>Hyattburgh</td>\n",
              "      <td>Maine</td>\n",
              "      <td>46021</td>\n",
              "      <td>45000</td>\n",
              "      <td>120000</td>\n",
              "      <td>10000</td>\n",
              "    </tr>\n",
              "    <tr>\n",
              "      <th>4</th>\n",
              "      <td>121213</td>\n",
              "      <td>Bauch-Goldner</td>\n",
              "      <td>7274 Marissa Common</td>\n",
              "      <td>Shanahanchester</td>\n",
              "      <td>California</td>\n",
              "      <td>49681</td>\n",
              "      <td>162000</td>\n",
              "      <td>120000</td>\n",
              "      <td>35000</td>\n",
              "    </tr>\n",
              "  </tbody>\n",
              "</table>\n",
              "</div>"
            ],
            "text/plain": [
              "   account                         name  ...     Feb    Mar\n",
              "0   211829   Kerluke, Koepp and Hilpert  ...   62000  35000\n",
              "1   320563               Walter-Trantow  ...   45000  35000\n",
              "2   648336   Bashirian, Kunde and Price  ...  120000  35000\n",
              "3   109996  D'Amore, Gleichner and Bode  ...  120000  10000\n",
              "4   121213                Bauch-Goldner  ...  120000  35000\n",
              "\n",
              "[5 rows x 9 columns]"
            ]
          },
          "metadata": {
            "tags": []
          },
          "execution_count": 1
        }
      ]
    },
    {
      "cell_type": "markdown",
      "metadata": {
        "id": "f-4RKE6XviF1",
        "colab_type": "text"
      },
      "source": [
        "We want to add a total column to show total sales for Jan, Feb and Mar.\n",
        "\n",
        "This is straightforward in Excel and in pandas. For Excel, I have added the formula `sum(G2:I2)` in column J. Here is what it looks like in Excel:\n",
        "\n",
        "<img src=\"https://pbpython.com/images/excel-1.png\">\n",
        "\n",
        "Next, here is how we do it in pandas:"
      ]
    },
    {
      "cell_type": "code",
      "metadata": {
        "id": "0NVDIXcdvhdv",
        "colab_type": "code",
        "outputId": "2b40ebbd-a585-4aec-f0e3-52ebd892678e",
        "colab": {
          "base_uri": "https://localhost:8080/",
          "height": 191
        }
      },
      "source": [
        "df[\"total\"] = df[\"Jan\"] + df[\"Feb\"] + df[\"Mar\"]\n",
        "df.head()"
      ],
      "execution_count": 2,
      "outputs": [
        {
          "output_type": "execute_result",
          "data": {
            "text/html": [
              "<div>\n",
              "<style scoped>\n",
              "    .dataframe tbody tr th:only-of-type {\n",
              "        vertical-align: middle;\n",
              "    }\n",
              "\n",
              "    .dataframe tbody tr th {\n",
              "        vertical-align: top;\n",
              "    }\n",
              "\n",
              "    .dataframe thead th {\n",
              "        text-align: right;\n",
              "    }\n",
              "</style>\n",
              "<table border=\"1\" class=\"dataframe\">\n",
              "  <thead>\n",
              "    <tr style=\"text-align: right;\">\n",
              "      <th></th>\n",
              "      <th>account</th>\n",
              "      <th>name</th>\n",
              "      <th>street</th>\n",
              "      <th>city</th>\n",
              "      <th>state</th>\n",
              "      <th>postal-code</th>\n",
              "      <th>Jan</th>\n",
              "      <th>Feb</th>\n",
              "      <th>Mar</th>\n",
              "      <th>total</th>\n",
              "    </tr>\n",
              "  </thead>\n",
              "  <tbody>\n",
              "    <tr>\n",
              "      <th>0</th>\n",
              "      <td>211829</td>\n",
              "      <td>Kerluke, Koepp and Hilpert</td>\n",
              "      <td>34456 Sean Highway</td>\n",
              "      <td>New Jaycob</td>\n",
              "      <td>Texas</td>\n",
              "      <td>28752</td>\n",
              "      <td>10000</td>\n",
              "      <td>62000</td>\n",
              "      <td>35000</td>\n",
              "      <td>107000</td>\n",
              "    </tr>\n",
              "    <tr>\n",
              "      <th>1</th>\n",
              "      <td>320563</td>\n",
              "      <td>Walter-Trantow</td>\n",
              "      <td>1311 Alvis Tunnel</td>\n",
              "      <td>Port Khadijah</td>\n",
              "      <td>NorthCarolina</td>\n",
              "      <td>38365</td>\n",
              "      <td>95000</td>\n",
              "      <td>45000</td>\n",
              "      <td>35000</td>\n",
              "      <td>175000</td>\n",
              "    </tr>\n",
              "    <tr>\n",
              "      <th>2</th>\n",
              "      <td>648336</td>\n",
              "      <td>Bashirian, Kunde and Price</td>\n",
              "      <td>62184 Schamberger Underpass Apt. 231</td>\n",
              "      <td>New Lilianland</td>\n",
              "      <td>Iowa</td>\n",
              "      <td>76517</td>\n",
              "      <td>91000</td>\n",
              "      <td>120000</td>\n",
              "      <td>35000</td>\n",
              "      <td>246000</td>\n",
              "    </tr>\n",
              "    <tr>\n",
              "      <th>3</th>\n",
              "      <td>109996</td>\n",
              "      <td>D'Amore, Gleichner and Bode</td>\n",
              "      <td>155 Fadel Crescent Apt. 144</td>\n",
              "      <td>Hyattburgh</td>\n",
              "      <td>Maine</td>\n",
              "      <td>46021</td>\n",
              "      <td>45000</td>\n",
              "      <td>120000</td>\n",
              "      <td>10000</td>\n",
              "      <td>175000</td>\n",
              "    </tr>\n",
              "    <tr>\n",
              "      <th>4</th>\n",
              "      <td>121213</td>\n",
              "      <td>Bauch-Goldner</td>\n",
              "      <td>7274 Marissa Common</td>\n",
              "      <td>Shanahanchester</td>\n",
              "      <td>California</td>\n",
              "      <td>49681</td>\n",
              "      <td>162000</td>\n",
              "      <td>120000</td>\n",
              "      <td>35000</td>\n",
              "      <td>317000</td>\n",
              "    </tr>\n",
              "  </tbody>\n",
              "</table>\n",
              "</div>"
            ],
            "text/plain": [
              "   account                         name  ...    Mar   total\n",
              "0   211829   Kerluke, Koepp and Hilpert  ...  35000  107000\n",
              "1   320563               Walter-Trantow  ...  35000  175000\n",
              "2   648336   Bashirian, Kunde and Price  ...  35000  246000\n",
              "3   109996  D'Amore, Gleichner and Bode  ...  10000  175000\n",
              "4   121213                Bauch-Goldner  ...  35000  317000\n",
              "\n",
              "[5 rows x 10 columns]"
            ]
          },
          "metadata": {
            "tags": []
          },
          "execution_count": 2
        }
      ]
    },
    {
      "cell_type": "markdown",
      "metadata": {
        "id": "gf0MkM3zv9I9",
        "colab_type": "text"
      },
      "source": [
        "Next, let’s get some totals and other values for each month. Here is what we are trying to do as shown in Excel:"
      ]
    },
    {
      "cell_type": "markdown",
      "metadata": {
        "id": "l0-j4C1nv_sv",
        "colab_type": "text"
      },
      "source": [
        "As you can see, we added a `SUM(G2:G16)` in row 17 in each of the columns to get totals by month.\n",
        "\n",
        "Performing column level analysis is easy in pandas. Here are a couple of examples."
      ]
    },
    {
      "cell_type": "code",
      "metadata": {
        "id": "iC35rf8jwDF_",
        "colab_type": "code",
        "outputId": "2b4823d9-9fe9-411f-f565-a374bf13b447",
        "colab": {
          "base_uri": "https://localhost:8080/",
          "height": 33
        }
      },
      "source": [
        "df[\"Jan\"].sum(), df[\"Jan\"].mean(),df[\"Jan\"].min(),df[\"Jan\"].max()"
      ],
      "execution_count": 3,
      "outputs": [
        {
          "output_type": "execute_result",
          "data": {
            "text/plain": [
              "(1462000, 97466.66666666667, 10000, 162000)"
            ]
          },
          "metadata": {
            "tags": []
          },
          "execution_count": 3
        }
      ]
    },
    {
      "cell_type": "markdown",
      "metadata": {
        "id": "wCqSGN9zwJwK",
        "colab_type": "text"
      },
      "source": [
        "Now, we want to add a total by month and grand total. This is where pandas and Excel diverge a little. It is very simple to add totals in cells in Excel for each month. Because pandas need to maintain the integrity of the entire DataFrame, there are a couple more steps.\n",
        "\n",
        "First, create a sum for the month and total columns."
      ]
    },
    {
      "cell_type": "code",
      "metadata": {
        "id": "oTcFPpXdwL2N",
        "colab_type": "code",
        "outputId": "2678c084-eec8-4360-d06a-ea87bc0b59e1",
        "colab": {
          "base_uri": "https://localhost:8080/",
          "height": 98
        }
      },
      "source": [
        "sum_row=df[[\"Jan\",\"Feb\",\"Mar\",\"total\"]].sum()\n",
        "sum_row"
      ],
      "execution_count": 4,
      "outputs": [
        {
          "output_type": "execute_result",
          "data": {
            "text/plain": [
              "Jan      1462000\n",
              "Feb      1507000\n",
              "Mar       717000\n",
              "total    3686000\n",
              "dtype: int64"
            ]
          },
          "metadata": {
            "tags": []
          },
          "execution_count": 4
        }
      ]
    },
    {
      "cell_type": "markdown",
      "metadata": {
        "id": "hrX9wyTtwQd0",
        "colab_type": "text"
      },
      "source": [
        "This is fairly intuitive however, if you want to add totals as a row, you need to do some minor manipulations.\n",
        "\n",
        "We need to transpose the data and convert the Series to a DataFrame so that it is easier to concat onto our existing data. The `T` function allows us to switch the data from being row-based to column-based."
      ]
    },
    {
      "cell_type": "code",
      "metadata": {
        "id": "LvfL0XPgwWSN",
        "colab_type": "code",
        "outputId": "cf4db348-071c-4540-b8a2-d0592b7230d1",
        "colab": {
          "base_uri": "https://localhost:8080/",
          "height": 76
        }
      },
      "source": [
        "df_sum=pd.DataFrame(data=sum_row).T\n",
        "df_sum"
      ],
      "execution_count": 5,
      "outputs": [
        {
          "output_type": "execute_result",
          "data": {
            "text/html": [
              "<div>\n",
              "<style scoped>\n",
              "    .dataframe tbody tr th:only-of-type {\n",
              "        vertical-align: middle;\n",
              "    }\n",
              "\n",
              "    .dataframe tbody tr th {\n",
              "        vertical-align: top;\n",
              "    }\n",
              "\n",
              "    .dataframe thead th {\n",
              "        text-align: right;\n",
              "    }\n",
              "</style>\n",
              "<table border=\"1\" class=\"dataframe\">\n",
              "  <thead>\n",
              "    <tr style=\"text-align: right;\">\n",
              "      <th></th>\n",
              "      <th>Jan</th>\n",
              "      <th>Feb</th>\n",
              "      <th>Mar</th>\n",
              "      <th>total</th>\n",
              "    </tr>\n",
              "  </thead>\n",
              "  <tbody>\n",
              "    <tr>\n",
              "      <th>0</th>\n",
              "      <td>1462000</td>\n",
              "      <td>1507000</td>\n",
              "      <td>717000</td>\n",
              "      <td>3686000</td>\n",
              "    </tr>\n",
              "  </tbody>\n",
              "</table>\n",
              "</div>"
            ],
            "text/plain": [
              "       Jan      Feb     Mar    total\n",
              "0  1462000  1507000  717000  3686000"
            ]
          },
          "metadata": {
            "tags": []
          },
          "execution_count": 5
        }
      ]
    },
    {
      "cell_type": "markdown",
      "metadata": {
        "id": "WyltEArxwbXi",
        "colab_type": "text"
      },
      "source": [
        "The final thing we need to do before adding the totals back is to add the missing columns. We use reindex to do this for us. The trick is to add all of our columns and then allow pandas to fill in the values that are missing."
      ]
    },
    {
      "cell_type": "code",
      "metadata": {
        "id": "w9LhjWaiweSL",
        "colab_type": "code",
        "outputId": "326573d3-5632-4fa6-ac7a-9f52a5481b28",
        "colab": {
          "base_uri": "https://localhost:8080/",
          "height": 76
        }
      },
      "source": [
        "df_sum=df_sum.reindex(columns=df.columns)\n",
        "df_sum"
      ],
      "execution_count": 6,
      "outputs": [
        {
          "output_type": "execute_result",
          "data": {
            "text/html": [
              "<div>\n",
              "<style scoped>\n",
              "    .dataframe tbody tr th:only-of-type {\n",
              "        vertical-align: middle;\n",
              "    }\n",
              "\n",
              "    .dataframe tbody tr th {\n",
              "        vertical-align: top;\n",
              "    }\n",
              "\n",
              "    .dataframe thead th {\n",
              "        text-align: right;\n",
              "    }\n",
              "</style>\n",
              "<table border=\"1\" class=\"dataframe\">\n",
              "  <thead>\n",
              "    <tr style=\"text-align: right;\">\n",
              "      <th></th>\n",
              "      <th>account</th>\n",
              "      <th>name</th>\n",
              "      <th>street</th>\n",
              "      <th>city</th>\n",
              "      <th>state</th>\n",
              "      <th>postal-code</th>\n",
              "      <th>Jan</th>\n",
              "      <th>Feb</th>\n",
              "      <th>Mar</th>\n",
              "      <th>total</th>\n",
              "    </tr>\n",
              "  </thead>\n",
              "  <tbody>\n",
              "    <tr>\n",
              "      <th>0</th>\n",
              "      <td>NaN</td>\n",
              "      <td>NaN</td>\n",
              "      <td>NaN</td>\n",
              "      <td>NaN</td>\n",
              "      <td>NaN</td>\n",
              "      <td>NaN</td>\n",
              "      <td>1462000</td>\n",
              "      <td>1507000</td>\n",
              "      <td>717000</td>\n",
              "      <td>3686000</td>\n",
              "    </tr>\n",
              "  </tbody>\n",
              "</table>\n",
              "</div>"
            ],
            "text/plain": [
              "   account  name  street  city  ...      Jan      Feb     Mar    total\n",
              "0      NaN   NaN     NaN   NaN  ...  1462000  1507000  717000  3686000\n",
              "\n",
              "[1 rows x 10 columns]"
            ]
          },
          "metadata": {
            "tags": []
          },
          "execution_count": 6
        }
      ]
    },
    {
      "cell_type": "markdown",
      "metadata": {
        "id": "T3UFdLU3wiIU",
        "colab_type": "text"
      },
      "source": [
        "Now that we have a nicely formatted DataFrame, we can add it to our existing one using append "
      ]
    },
    {
      "cell_type": "code",
      "metadata": {
        "id": "majikqqmwlDG",
        "colab_type": "code",
        "outputId": "272ac5be-2d04-4502-bbe9-f0eaa95634a2",
        "colab": {
          "base_uri": "https://localhost:8080/",
          "height": 191
        }
      },
      "source": [
        "df_final=df.append(df_sum,ignore_index=True)\n",
        "df_final.tail()"
      ],
      "execution_count": 7,
      "outputs": [
        {
          "output_type": "execute_result",
          "data": {
            "text/html": [
              "<div>\n",
              "<style scoped>\n",
              "    .dataframe tbody tr th:only-of-type {\n",
              "        vertical-align: middle;\n",
              "    }\n",
              "\n",
              "    .dataframe tbody tr th {\n",
              "        vertical-align: top;\n",
              "    }\n",
              "\n",
              "    .dataframe thead th {\n",
              "        text-align: right;\n",
              "    }\n",
              "</style>\n",
              "<table border=\"1\" class=\"dataframe\">\n",
              "  <thead>\n",
              "    <tr style=\"text-align: right;\">\n",
              "      <th></th>\n",
              "      <th>account</th>\n",
              "      <th>name</th>\n",
              "      <th>street</th>\n",
              "      <th>city</th>\n",
              "      <th>state</th>\n",
              "      <th>postal-code</th>\n",
              "      <th>Jan</th>\n",
              "      <th>Feb</th>\n",
              "      <th>Mar</th>\n",
              "      <th>total</th>\n",
              "    </tr>\n",
              "  </thead>\n",
              "  <tbody>\n",
              "    <tr>\n",
              "      <th>11</th>\n",
              "      <td>231907.0</td>\n",
              "      <td>Hahn-Moore</td>\n",
              "      <td>18115 Olivine Throughway</td>\n",
              "      <td>Norbertomouth</td>\n",
              "      <td>NorthDakota</td>\n",
              "      <td>31415.0</td>\n",
              "      <td>150000</td>\n",
              "      <td>10000</td>\n",
              "      <td>162000</td>\n",
              "      <td>322000</td>\n",
              "    </tr>\n",
              "    <tr>\n",
              "      <th>12</th>\n",
              "      <td>242368.0</td>\n",
              "      <td>Frami, Anderson and Donnelly</td>\n",
              "      <td>182 Bertie Road</td>\n",
              "      <td>East Davian</td>\n",
              "      <td>Iowa</td>\n",
              "      <td>72686.0</td>\n",
              "      <td>162000</td>\n",
              "      <td>120000</td>\n",
              "      <td>35000</td>\n",
              "      <td>317000</td>\n",
              "    </tr>\n",
              "    <tr>\n",
              "      <th>13</th>\n",
              "      <td>268755.0</td>\n",
              "      <td>Walsh-Haley</td>\n",
              "      <td>2624 Beatty Parkways</td>\n",
              "      <td>Goodwinmouth</td>\n",
              "      <td>RhodeIsland</td>\n",
              "      <td>31919.0</td>\n",
              "      <td>55000</td>\n",
              "      <td>120000</td>\n",
              "      <td>35000</td>\n",
              "      <td>210000</td>\n",
              "    </tr>\n",
              "    <tr>\n",
              "      <th>14</th>\n",
              "      <td>273274.0</td>\n",
              "      <td>McDermott PLC</td>\n",
              "      <td>8917 Bergstrom Meadow</td>\n",
              "      <td>Kathryneborough</td>\n",
              "      <td>Delaware</td>\n",
              "      <td>27933.0</td>\n",
              "      <td>150000</td>\n",
              "      <td>120000</td>\n",
              "      <td>70000</td>\n",
              "      <td>340000</td>\n",
              "    </tr>\n",
              "    <tr>\n",
              "      <th>15</th>\n",
              "      <td>NaN</td>\n",
              "      <td>NaN</td>\n",
              "      <td>NaN</td>\n",
              "      <td>NaN</td>\n",
              "      <td>NaN</td>\n",
              "      <td>NaN</td>\n",
              "      <td>1462000</td>\n",
              "      <td>1507000</td>\n",
              "      <td>717000</td>\n",
              "      <td>3686000</td>\n",
              "    </tr>\n",
              "  </tbody>\n",
              "</table>\n",
              "</div>"
            ],
            "text/plain": [
              "     account                          name  ...     Mar    total\n",
              "11  231907.0                    Hahn-Moore  ...  162000   322000\n",
              "12  242368.0  Frami, Anderson and Donnelly  ...   35000   317000\n",
              "13  268755.0                   Walsh-Haley  ...   35000   210000\n",
              "14  273274.0                 McDermott PLC  ...   70000   340000\n",
              "15       NaN                           NaN  ...  717000  3686000\n",
              "\n",
              "[5 rows x 10 columns]"
            ]
          },
          "metadata": {
            "tags": []
          },
          "execution_count": 7
        }
      ]
    },
    {
      "cell_type": "markdown",
      "metadata": {
        "id": "6NdnZYW3wsaN",
        "colab_type": "text"
      },
      "source": [
        "#### Additional Data Transforms"
      ]
    },
    {
      "cell_type": "markdown",
      "metadata": {
        "id": "AVi46KRhwvid",
        "colab_type": "text"
      },
      "source": [
        "For another example, let’s try to add a state abbreviation to the data set.\n",
        "\n",
        "From an Excel perspective the easiest way is probably to add a new column, do a vlookup on the state name and fill in the abbreviation.\n",
        "\n",
        "I did this and here is a snapshot of what the results looks like:\n",
        "<img src=\"https://pbpython.com/images/excel-3.png\">"
      ]
    },
    {
      "cell_type": "markdown",
      "metadata": {
        "id": "rtpyldKuw5Vr",
        "colab_type": "text"
      },
      "source": [
        "You’ll notice that after performing the vlookup, there are some values that are not coming through correctly. That’s because we misspelled some of the states. Handling this in Excel would be really challenging (on big data sets).\n",
        "\n",
        "Fortunately with pandas we have the full power of the python ecosystem at our disposal. In thinking about how to solve this type of messy data problem, I thought about trying to do some fuzzy text matching to determine the correct value.\n",
        "\n",
        "Fortunately someone else has done a lot of work in this are. The [fuzzy wuzzy library](https://chairnerd.seatgeek.com/fuzzywuzzy-fuzzy-string-matching-in-python/) has some pretty useful functions for this type of situation. Make sure to get it and install it first.\n",
        "\n",
        "The other piece of code we need is a state name to abbreviation mapping. Instead of trying to type it myself, a little googling found this code.\n",
        "\n",
        "Get started by importing the appropriate fuzzywuzzy functions and define our state map dictionary."
      ]
    },
    {
      "cell_type": "code",
      "metadata": {
        "id": "fbZu0ZRJxRhE",
        "colab_type": "code",
        "outputId": "2b2a80f0-eb45-4510-e5ff-ac5966b7797c",
        "colab": {
          "base_uri": "https://localhost:8080/",
          "height": 0
        }
      },
      "source": [
        "!pip install fuzzywuzzy"
      ],
      "execution_count": 8,
      "outputs": [
        {
          "output_type": "stream",
          "text": [
            "Collecting fuzzywuzzy\n",
            "  Downloading https://files.pythonhosted.org/packages/43/ff/74f23998ad2f93b945c0309f825be92e04e0348e062026998b5eefef4c33/fuzzywuzzy-0.18.0-py2.py3-none-any.whl\n",
            "Installing collected packages: fuzzywuzzy\n",
            "Successfully installed fuzzywuzzy-0.18.0\n"
          ],
          "name": "stdout"
        }
      ]
    },
    {
      "cell_type": "code",
      "metadata": {
        "id": "UNxlwbb_xNfD",
        "colab_type": "code",
        "outputId": "a17bcfed-ecca-4d6e-dbd7-030d98b6503e",
        "colab": {
          "base_uri": "https://localhost:8080/",
          "height": 0
        }
      },
      "source": [
        "from fuzzywuzzy import fuzz\n",
        "from fuzzywuzzy import process\n",
        "state_to_code = {\"VERMONT\": \"VT\", \"GEORGIA\": \"GA\", \"IOWA\": \"IA\", \"Armed Forces Pacific\": \"AP\", \"GUAM\": \"GU\",\n",
        "                 \"KANSAS\": \"KS\", \"FLORIDA\": \"FL\", \"AMERICAN SAMOA\": \"AS\", \"NORTH CAROLINA\": \"NC\", \"HAWAII\": \"HI\",\n",
        "                 \"NEW YORK\": \"NY\", \"CALIFORNIA\": \"CA\", \"ALABAMA\": \"AL\", \"IDAHO\": \"ID\", \"FEDERATED STATES OF MICRONESIA\": \"FM\",\n",
        "                 \"Armed Forces Americas\": \"AA\", \"DELAWARE\": \"DE\", \"ALASKA\": \"AK\", \"ILLINOIS\": \"IL\",\n",
        "                 \"Armed Forces Africa\": \"AE\", \"SOUTH DAKOTA\": \"SD\", \"CONNECTICUT\": \"CT\", \"MONTANA\": \"MT\", \"MASSACHUSETTS\": \"MA\",\n",
        "                 \"PUERTO RICO\": \"PR\", \"Armed Forces Canada\": \"AE\", \"NEW HAMPSHIRE\": \"NH\", \"MARYLAND\": \"MD\", \"NEW MEXICO\": \"NM\",\n",
        "                 \"MISSISSIPPI\": \"MS\", \"TENNESSEE\": \"TN\", \"PALAU\": \"PW\", \"COLORADO\": \"CO\", \"Armed Forces Middle East\": \"AE\",\n",
        "                 \"NEW JERSEY\": \"NJ\", \"UTAH\": \"UT\", \"MICHIGAN\": \"MI\", \"WEST VIRGINIA\": \"WV\", \"WASHINGTON\": \"WA\",\n",
        "                 \"MINNESOTA\": \"MN\", \"OREGON\": \"OR\", \"VIRGINIA\": \"VA\", \"VIRGIN ISLANDS\": \"VI\", \"MARSHALL ISLANDS\": \"MH\",\n",
        "                 \"WYOMING\": \"WY\", \"OHIO\": \"OH\", \"SOUTH CAROLINA\": \"SC\", \"INDIANA\": \"IN\", \"NEVADA\": \"NV\", \"LOUISIANA\": \"LA\",\n",
        "                 \"NORTHERN MARIANA ISLANDS\": \"MP\", \"NEBRASKA\": \"NE\", \"ARIZONA\": \"AZ\", \"WISCONSIN\": \"WI\", \"NORTH DAKOTA\": \"ND\",\n",
        "                 \"Armed Forces Europe\": \"AE\", \"PENNSYLVANIA\": \"PA\", \"OKLAHOMA\": \"OK\", \"KENTUCKY\": \"KY\", \"RHODE ISLAND\": \"RI\",\n",
        "                 \"DISTRICT OF COLUMBIA\": \"DC\", \"ARKANSAS\": \"AR\", \"MISSOURI\": \"MO\", \"TEXAS\": \"TX\", \"MAINE\": \"ME\"}"
      ],
      "execution_count": 9,
      "outputs": [
        {
          "output_type": "stream",
          "text": [
            "/usr/local/lib/python3.6/dist-packages/fuzzywuzzy/fuzz.py:11: UserWarning: Using slow pure-python SequenceMatcher. Install python-Levenshtein to remove this warning\n",
            "  warnings.warn('Using slow pure-python SequenceMatcher. Install python-Levenshtein to remove this warning')\n"
          ],
          "name": "stderr"
        }
      ]
    },
    {
      "cell_type": "markdown",
      "metadata": {
        "id": "n-TxvH1QxaH6",
        "colab_type": "text"
      },
      "source": [
        "Here are some example of how the fuzzy text matching function works."
      ]
    },
    {
      "cell_type": "code",
      "metadata": {
        "id": "mewVjA7yxZie",
        "colab_type": "code",
        "outputId": "09a830cf-0874-419d-a852-80076c91ab51",
        "colab": {
          "base_uri": "https://localhost:8080/",
          "height": 0
        }
      },
      "source": [
        "process.extractOne(\"Minnesotta\",choices=state_to_code.keys())"
      ],
      "execution_count": 10,
      "outputs": [
        {
          "output_type": "execute_result",
          "data": {
            "text/plain": [
              "('MINNESOTA', 95)"
            ]
          },
          "metadata": {
            "tags": []
          },
          "execution_count": 10
        }
      ]
    },
    {
      "cell_type": "code",
      "metadata": {
        "id": "c-QTybcaxhWF",
        "colab_type": "code",
        "colab": {}
      },
      "source": [
        "process.extractOne(\"AlaBAMMazzz\",choices=state_to_code.keys(),score_cutoff=80)"
      ],
      "execution_count": 0,
      "outputs": []
    },
    {
      "cell_type": "markdown",
      "metadata": {
        "id": "JWcdt5RvxlPw",
        "colab_type": "text"
      },
      "source": [
        "Now that we know how this works, we create our function to take the state column and convert it to a valid abbreviation. We use the 80 score_cutoff for this data. You can play with it to see what number works for your data. You’ll notice that we either return a valid abbreviation or an np.nan so that we have some valid values in the field."
      ]
    },
    {
      "cell_type": "code",
      "metadata": {
        "id": "Q06YpRnZxuek",
        "colab_type": "code",
        "colab": {}
      },
      "source": [
        "def convert_state(row):\n",
        "    abbrev = process.extractOne(row[\"state\"],choices=state_to_code.keys(),score_cutoff=80)\n",
        "    if abbrev:\n",
        "        return state_to_code[abbrev[0]]\n",
        "    return np.nan"
      ],
      "execution_count": 0,
      "outputs": []
    },
    {
      "cell_type": "markdown",
      "metadata": {
        "id": "KEiAC8yYxw-s",
        "colab_type": "text"
      },
      "source": [
        "Add the column in the location we want and fill it with NaN values"
      ]
    },
    {
      "cell_type": "code",
      "metadata": {
        "id": "I-lLbBS1xzmR",
        "colab_type": "code",
        "outputId": "e5c88949-b2e8-497c-f0a1-f104c127644b",
        "colab": {
          "base_uri": "https://localhost:8080/",
          "height": 0
        }
      },
      "source": [
        "df.insert(6, \"abbrev\", np.nan)\n",
        "df.head(16)"
      ],
      "execution_count": 13,
      "outputs": [
        {
          "output_type": "execute_result",
          "data": {
            "text/html": [
              "<div>\n",
              "<style scoped>\n",
              "    .dataframe tbody tr th:only-of-type {\n",
              "        vertical-align: middle;\n",
              "    }\n",
              "\n",
              "    .dataframe tbody tr th {\n",
              "        vertical-align: top;\n",
              "    }\n",
              "\n",
              "    .dataframe thead th {\n",
              "        text-align: right;\n",
              "    }\n",
              "</style>\n",
              "<table border=\"1\" class=\"dataframe\">\n",
              "  <thead>\n",
              "    <tr style=\"text-align: right;\">\n",
              "      <th></th>\n",
              "      <th>account</th>\n",
              "      <th>name</th>\n",
              "      <th>street</th>\n",
              "      <th>city</th>\n",
              "      <th>state</th>\n",
              "      <th>postal-code</th>\n",
              "      <th>abbrev</th>\n",
              "      <th>Jan</th>\n",
              "      <th>Feb</th>\n",
              "      <th>Mar</th>\n",
              "      <th>total</th>\n",
              "    </tr>\n",
              "  </thead>\n",
              "  <tbody>\n",
              "    <tr>\n",
              "      <th>0</th>\n",
              "      <td>211829</td>\n",
              "      <td>Kerluke, Koepp and Hilpert</td>\n",
              "      <td>34456 Sean Highway</td>\n",
              "      <td>New Jaycob</td>\n",
              "      <td>Texas</td>\n",
              "      <td>28752</td>\n",
              "      <td>NaN</td>\n",
              "      <td>10000</td>\n",
              "      <td>62000</td>\n",
              "      <td>35000</td>\n",
              "      <td>107000</td>\n",
              "    </tr>\n",
              "    <tr>\n",
              "      <th>1</th>\n",
              "      <td>320563</td>\n",
              "      <td>Walter-Trantow</td>\n",
              "      <td>1311 Alvis Tunnel</td>\n",
              "      <td>Port Khadijah</td>\n",
              "      <td>NorthCarolina</td>\n",
              "      <td>38365</td>\n",
              "      <td>NaN</td>\n",
              "      <td>95000</td>\n",
              "      <td>45000</td>\n",
              "      <td>35000</td>\n",
              "      <td>175000</td>\n",
              "    </tr>\n",
              "    <tr>\n",
              "      <th>2</th>\n",
              "      <td>648336</td>\n",
              "      <td>Bashirian, Kunde and Price</td>\n",
              "      <td>62184 Schamberger Underpass Apt. 231</td>\n",
              "      <td>New Lilianland</td>\n",
              "      <td>Iowa</td>\n",
              "      <td>76517</td>\n",
              "      <td>NaN</td>\n",
              "      <td>91000</td>\n",
              "      <td>120000</td>\n",
              "      <td>35000</td>\n",
              "      <td>246000</td>\n",
              "    </tr>\n",
              "    <tr>\n",
              "      <th>3</th>\n",
              "      <td>109996</td>\n",
              "      <td>D'Amore, Gleichner and Bode</td>\n",
              "      <td>155 Fadel Crescent Apt. 144</td>\n",
              "      <td>Hyattburgh</td>\n",
              "      <td>Maine</td>\n",
              "      <td>46021</td>\n",
              "      <td>NaN</td>\n",
              "      <td>45000</td>\n",
              "      <td>120000</td>\n",
              "      <td>10000</td>\n",
              "      <td>175000</td>\n",
              "    </tr>\n",
              "    <tr>\n",
              "      <th>4</th>\n",
              "      <td>121213</td>\n",
              "      <td>Bauch-Goldner</td>\n",
              "      <td>7274 Marissa Common</td>\n",
              "      <td>Shanahanchester</td>\n",
              "      <td>California</td>\n",
              "      <td>49681</td>\n",
              "      <td>NaN</td>\n",
              "      <td>162000</td>\n",
              "      <td>120000</td>\n",
              "      <td>35000</td>\n",
              "      <td>317000</td>\n",
              "    </tr>\n",
              "    <tr>\n",
              "      <th>5</th>\n",
              "      <td>132971</td>\n",
              "      <td>Williamson, Schumm and Hettinger</td>\n",
              "      <td>89403 Casimer Spring</td>\n",
              "      <td>Jeremieburgh</td>\n",
              "      <td>Arkansas</td>\n",
              "      <td>62785</td>\n",
              "      <td>NaN</td>\n",
              "      <td>150000</td>\n",
              "      <td>120000</td>\n",
              "      <td>35000</td>\n",
              "      <td>305000</td>\n",
              "    </tr>\n",
              "    <tr>\n",
              "      <th>6</th>\n",
              "      <td>145068</td>\n",
              "      <td>Casper LLC</td>\n",
              "      <td>340 Consuela Bridge Apt. 400</td>\n",
              "      <td>Lake Gabriellaton</td>\n",
              "      <td>Mississipi</td>\n",
              "      <td>18008</td>\n",
              "      <td>NaN</td>\n",
              "      <td>62000</td>\n",
              "      <td>120000</td>\n",
              "      <td>70000</td>\n",
              "      <td>252000</td>\n",
              "    </tr>\n",
              "    <tr>\n",
              "      <th>7</th>\n",
              "      <td>205217</td>\n",
              "      <td>Kovacek-Johnston</td>\n",
              "      <td>91971 Cronin Vista Suite 601</td>\n",
              "      <td>Deronville</td>\n",
              "      <td>RhodeIsland</td>\n",
              "      <td>53461</td>\n",
              "      <td>NaN</td>\n",
              "      <td>145000</td>\n",
              "      <td>95000</td>\n",
              "      <td>35000</td>\n",
              "      <td>275000</td>\n",
              "    </tr>\n",
              "    <tr>\n",
              "      <th>8</th>\n",
              "      <td>209744</td>\n",
              "      <td>Champlin-Morar</td>\n",
              "      <td>26739 Grant Lock</td>\n",
              "      <td>Lake Juliannton</td>\n",
              "      <td>Pennsylvania</td>\n",
              "      <td>64415</td>\n",
              "      <td>NaN</td>\n",
              "      <td>70000</td>\n",
              "      <td>95000</td>\n",
              "      <td>35000</td>\n",
              "      <td>200000</td>\n",
              "    </tr>\n",
              "    <tr>\n",
              "      <th>9</th>\n",
              "      <td>212303</td>\n",
              "      <td>Gerhold-Maggio</td>\n",
              "      <td>366 Maggio Grove Apt. 998</td>\n",
              "      <td>North Ras</td>\n",
              "      <td>Idaho</td>\n",
              "      <td>46308</td>\n",
              "      <td>NaN</td>\n",
              "      <td>70000</td>\n",
              "      <td>120000</td>\n",
              "      <td>35000</td>\n",
              "      <td>225000</td>\n",
              "    </tr>\n",
              "    <tr>\n",
              "      <th>10</th>\n",
              "      <td>214098</td>\n",
              "      <td>Goodwin, Homenick and Jerde</td>\n",
              "      <td>649 Cierra Forks Apt. 078</td>\n",
              "      <td>Rosaberg</td>\n",
              "      <td>Tenessee</td>\n",
              "      <td>47743</td>\n",
              "      <td>NaN</td>\n",
              "      <td>45000</td>\n",
              "      <td>120000</td>\n",
              "      <td>55000</td>\n",
              "      <td>220000</td>\n",
              "    </tr>\n",
              "    <tr>\n",
              "      <th>11</th>\n",
              "      <td>231907</td>\n",
              "      <td>Hahn-Moore</td>\n",
              "      <td>18115 Olivine Throughway</td>\n",
              "      <td>Norbertomouth</td>\n",
              "      <td>NorthDakota</td>\n",
              "      <td>31415</td>\n",
              "      <td>NaN</td>\n",
              "      <td>150000</td>\n",
              "      <td>10000</td>\n",
              "      <td>162000</td>\n",
              "      <td>322000</td>\n",
              "    </tr>\n",
              "    <tr>\n",
              "      <th>12</th>\n",
              "      <td>242368</td>\n",
              "      <td>Frami, Anderson and Donnelly</td>\n",
              "      <td>182 Bertie Road</td>\n",
              "      <td>East Davian</td>\n",
              "      <td>Iowa</td>\n",
              "      <td>72686</td>\n",
              "      <td>NaN</td>\n",
              "      <td>162000</td>\n",
              "      <td>120000</td>\n",
              "      <td>35000</td>\n",
              "      <td>317000</td>\n",
              "    </tr>\n",
              "    <tr>\n",
              "      <th>13</th>\n",
              "      <td>268755</td>\n",
              "      <td>Walsh-Haley</td>\n",
              "      <td>2624 Beatty Parkways</td>\n",
              "      <td>Goodwinmouth</td>\n",
              "      <td>RhodeIsland</td>\n",
              "      <td>31919</td>\n",
              "      <td>NaN</td>\n",
              "      <td>55000</td>\n",
              "      <td>120000</td>\n",
              "      <td>35000</td>\n",
              "      <td>210000</td>\n",
              "    </tr>\n",
              "    <tr>\n",
              "      <th>14</th>\n",
              "      <td>273274</td>\n",
              "      <td>McDermott PLC</td>\n",
              "      <td>8917 Bergstrom Meadow</td>\n",
              "      <td>Kathryneborough</td>\n",
              "      <td>Delaware</td>\n",
              "      <td>27933</td>\n",
              "      <td>NaN</td>\n",
              "      <td>150000</td>\n",
              "      <td>120000</td>\n",
              "      <td>70000</td>\n",
              "      <td>340000</td>\n",
              "    </tr>\n",
              "  </tbody>\n",
              "</table>\n",
              "</div>"
            ],
            "text/plain": [
              "    account                              name  ...     Mar   total\n",
              "0    211829        Kerluke, Koepp and Hilpert  ...   35000  107000\n",
              "1    320563                    Walter-Trantow  ...   35000  175000\n",
              "2    648336        Bashirian, Kunde and Price  ...   35000  246000\n",
              "3    109996       D'Amore, Gleichner and Bode  ...   10000  175000\n",
              "4    121213                     Bauch-Goldner  ...   35000  317000\n",
              "5    132971  Williamson, Schumm and Hettinger  ...   35000  305000\n",
              "6    145068                        Casper LLC  ...   70000  252000\n",
              "7    205217                  Kovacek-Johnston  ...   35000  275000\n",
              "8    209744                    Champlin-Morar  ...   35000  200000\n",
              "9    212303                    Gerhold-Maggio  ...   35000  225000\n",
              "10   214098       Goodwin, Homenick and Jerde  ...   55000  220000\n",
              "11   231907                        Hahn-Moore  ...  162000  322000\n",
              "12   242368      Frami, Anderson and Donnelly  ...   35000  317000\n",
              "13   268755                       Walsh-Haley  ...   35000  210000\n",
              "14   273274                     McDermott PLC  ...   70000  340000\n",
              "\n",
              "[15 rows x 11 columns]"
            ]
          },
          "metadata": {
            "tags": []
          },
          "execution_count": 13
        }
      ]
    },
    {
      "cell_type": "markdown",
      "metadata": {
        "id": "00m2eaFMx4c9",
        "colab_type": "text"
      },
      "source": [
        "We use apply to add the abbreviations into the approriate column."
      ]
    },
    {
      "cell_type": "code",
      "metadata": {
        "id": "M8g6rDU6x5U-",
        "colab_type": "code",
        "outputId": "6ae53f45-880f-43bd-b2bf-4c9785b7dda3",
        "colab": {
          "base_uri": "https://localhost:8080/",
          "height": 0
        }
      },
      "source": [
        "df['abbrev'] = df.apply(convert_state, axis=1)\n",
        "df.tail()"
      ],
      "execution_count": 14,
      "outputs": [
        {
          "output_type": "execute_result",
          "data": {
            "text/html": [
              "<div>\n",
              "<style scoped>\n",
              "    .dataframe tbody tr th:only-of-type {\n",
              "        vertical-align: middle;\n",
              "    }\n",
              "\n",
              "    .dataframe tbody tr th {\n",
              "        vertical-align: top;\n",
              "    }\n",
              "\n",
              "    .dataframe thead th {\n",
              "        text-align: right;\n",
              "    }\n",
              "</style>\n",
              "<table border=\"1\" class=\"dataframe\">\n",
              "  <thead>\n",
              "    <tr style=\"text-align: right;\">\n",
              "      <th></th>\n",
              "      <th>account</th>\n",
              "      <th>name</th>\n",
              "      <th>street</th>\n",
              "      <th>city</th>\n",
              "      <th>state</th>\n",
              "      <th>postal-code</th>\n",
              "      <th>abbrev</th>\n",
              "      <th>Jan</th>\n",
              "      <th>Feb</th>\n",
              "      <th>Mar</th>\n",
              "      <th>total</th>\n",
              "    </tr>\n",
              "  </thead>\n",
              "  <tbody>\n",
              "    <tr>\n",
              "      <th>10</th>\n",
              "      <td>214098</td>\n",
              "      <td>Goodwin, Homenick and Jerde</td>\n",
              "      <td>649 Cierra Forks Apt. 078</td>\n",
              "      <td>Rosaberg</td>\n",
              "      <td>Tenessee</td>\n",
              "      <td>47743</td>\n",
              "      <td>TN</td>\n",
              "      <td>45000</td>\n",
              "      <td>120000</td>\n",
              "      <td>55000</td>\n",
              "      <td>220000</td>\n",
              "    </tr>\n",
              "    <tr>\n",
              "      <th>11</th>\n",
              "      <td>231907</td>\n",
              "      <td>Hahn-Moore</td>\n",
              "      <td>18115 Olivine Throughway</td>\n",
              "      <td>Norbertomouth</td>\n",
              "      <td>NorthDakota</td>\n",
              "      <td>31415</td>\n",
              "      <td>ND</td>\n",
              "      <td>150000</td>\n",
              "      <td>10000</td>\n",
              "      <td>162000</td>\n",
              "      <td>322000</td>\n",
              "    </tr>\n",
              "    <tr>\n",
              "      <th>12</th>\n",
              "      <td>242368</td>\n",
              "      <td>Frami, Anderson and Donnelly</td>\n",
              "      <td>182 Bertie Road</td>\n",
              "      <td>East Davian</td>\n",
              "      <td>Iowa</td>\n",
              "      <td>72686</td>\n",
              "      <td>IA</td>\n",
              "      <td>162000</td>\n",
              "      <td>120000</td>\n",
              "      <td>35000</td>\n",
              "      <td>317000</td>\n",
              "    </tr>\n",
              "    <tr>\n",
              "      <th>13</th>\n",
              "      <td>268755</td>\n",
              "      <td>Walsh-Haley</td>\n",
              "      <td>2624 Beatty Parkways</td>\n",
              "      <td>Goodwinmouth</td>\n",
              "      <td>RhodeIsland</td>\n",
              "      <td>31919</td>\n",
              "      <td>RI</td>\n",
              "      <td>55000</td>\n",
              "      <td>120000</td>\n",
              "      <td>35000</td>\n",
              "      <td>210000</td>\n",
              "    </tr>\n",
              "    <tr>\n",
              "      <th>14</th>\n",
              "      <td>273274</td>\n",
              "      <td>McDermott PLC</td>\n",
              "      <td>8917 Bergstrom Meadow</td>\n",
              "      <td>Kathryneborough</td>\n",
              "      <td>Delaware</td>\n",
              "      <td>27933</td>\n",
              "      <td>DE</td>\n",
              "      <td>150000</td>\n",
              "      <td>120000</td>\n",
              "      <td>70000</td>\n",
              "      <td>340000</td>\n",
              "    </tr>\n",
              "  </tbody>\n",
              "</table>\n",
              "</div>"
            ],
            "text/plain": [
              "    account                          name  ...     Mar   total\n",
              "10   214098   Goodwin, Homenick and Jerde  ...   55000  220000\n",
              "11   231907                    Hahn-Moore  ...  162000  322000\n",
              "12   242368  Frami, Anderson and Donnelly  ...   35000  317000\n",
              "13   268755                   Walsh-Haley  ...   35000  210000\n",
              "14   273274                 McDermott PLC  ...   70000  340000\n",
              "\n",
              "[5 rows x 11 columns]"
            ]
          },
          "metadata": {
            "tags": []
          },
          "execution_count": 14
        }
      ]
    },
    {
      "cell_type": "markdown",
      "metadata": {
        "id": "vbNLopdOyNk7",
        "colab_type": "text"
      },
      "source": [
        "I think this is pretty cool. We have developed a very simple process to intelligently clean up this data. Obviously when you only have 15 or so rows, this is not a big deal. However, what if you had 15,000? You would have to do something manual in Excel to clean this up."
      ]
    },
    {
      "cell_type": "markdown",
      "metadata": {
        "id": "jbgUsCT5eiaV",
        "colab_type": "text"
      },
      "source": [
        "#### Subtotals"
      ]
    },
    {
      "cell_type": "markdown",
      "metadata": {
        "id": "Nq_ehoE9elHY",
        "colab_type": "text"
      },
      "source": [
        "For the final section of this article, let’s get some subtotals by state.\n",
        "\n",
        "In Excel, we would use the subtotal tool to do this for us.\n",
        "<img src=\"https://pbpython.com/images/excel-4.png\">\n",
        "\n",
        "The output would look like this:\n",
        "\n",
        "<img src=\"https://pbpython.com/images/excel-5.png\">"
      ]
    },
    {
      "cell_type": "markdown",
      "metadata": {
        "id": "ggIWElJEe03-",
        "colab_type": "text"
      },
      "source": [
        "Creating a subtotal in pandas, is accomplished using groupby"
      ]
    },
    {
      "cell_type": "code",
      "metadata": {
        "id": "xezAxLRoervV",
        "colab_type": "code",
        "outputId": "5c28de7b-2ebe-482f-9fee-64d587d71dfc",
        "colab": {
          "base_uri": "https://localhost:8080/",
          "height": 0
        }
      },
      "source": [
        "df_sub=df[[\"abbrev\",\"Jan\",\"Feb\",\"Mar\",\"total\"]].groupby('abbrev').sum()\n",
        "df_sub"
      ],
      "execution_count": 15,
      "outputs": [
        {
          "output_type": "execute_result",
          "data": {
            "text/html": [
              "<div>\n",
              "<style scoped>\n",
              "    .dataframe tbody tr th:only-of-type {\n",
              "        vertical-align: middle;\n",
              "    }\n",
              "\n",
              "    .dataframe tbody tr th {\n",
              "        vertical-align: top;\n",
              "    }\n",
              "\n",
              "    .dataframe thead th {\n",
              "        text-align: right;\n",
              "    }\n",
              "</style>\n",
              "<table border=\"1\" class=\"dataframe\">\n",
              "  <thead>\n",
              "    <tr style=\"text-align: right;\">\n",
              "      <th></th>\n",
              "      <th>Jan</th>\n",
              "      <th>Feb</th>\n",
              "      <th>Mar</th>\n",
              "      <th>total</th>\n",
              "    </tr>\n",
              "    <tr>\n",
              "      <th>abbrev</th>\n",
              "      <th></th>\n",
              "      <th></th>\n",
              "      <th></th>\n",
              "      <th></th>\n",
              "    </tr>\n",
              "  </thead>\n",
              "  <tbody>\n",
              "    <tr>\n",
              "      <th>AR</th>\n",
              "      <td>150000</td>\n",
              "      <td>120000</td>\n",
              "      <td>35000</td>\n",
              "      <td>305000</td>\n",
              "    </tr>\n",
              "    <tr>\n",
              "      <th>CA</th>\n",
              "      <td>162000</td>\n",
              "      <td>120000</td>\n",
              "      <td>35000</td>\n",
              "      <td>317000</td>\n",
              "    </tr>\n",
              "    <tr>\n",
              "      <th>DE</th>\n",
              "      <td>150000</td>\n",
              "      <td>120000</td>\n",
              "      <td>70000</td>\n",
              "      <td>340000</td>\n",
              "    </tr>\n",
              "    <tr>\n",
              "      <th>IA</th>\n",
              "      <td>253000</td>\n",
              "      <td>240000</td>\n",
              "      <td>70000</td>\n",
              "      <td>563000</td>\n",
              "    </tr>\n",
              "    <tr>\n",
              "      <th>ID</th>\n",
              "      <td>70000</td>\n",
              "      <td>120000</td>\n",
              "      <td>35000</td>\n",
              "      <td>225000</td>\n",
              "    </tr>\n",
              "    <tr>\n",
              "      <th>ME</th>\n",
              "      <td>45000</td>\n",
              "      <td>120000</td>\n",
              "      <td>10000</td>\n",
              "      <td>175000</td>\n",
              "    </tr>\n",
              "    <tr>\n",
              "      <th>MS</th>\n",
              "      <td>62000</td>\n",
              "      <td>120000</td>\n",
              "      <td>70000</td>\n",
              "      <td>252000</td>\n",
              "    </tr>\n",
              "    <tr>\n",
              "      <th>NC</th>\n",
              "      <td>95000</td>\n",
              "      <td>45000</td>\n",
              "      <td>35000</td>\n",
              "      <td>175000</td>\n",
              "    </tr>\n",
              "    <tr>\n",
              "      <th>ND</th>\n",
              "      <td>150000</td>\n",
              "      <td>10000</td>\n",
              "      <td>162000</td>\n",
              "      <td>322000</td>\n",
              "    </tr>\n",
              "    <tr>\n",
              "      <th>PA</th>\n",
              "      <td>70000</td>\n",
              "      <td>95000</td>\n",
              "      <td>35000</td>\n",
              "      <td>200000</td>\n",
              "    </tr>\n",
              "    <tr>\n",
              "      <th>RI</th>\n",
              "      <td>200000</td>\n",
              "      <td>215000</td>\n",
              "      <td>70000</td>\n",
              "      <td>485000</td>\n",
              "    </tr>\n",
              "    <tr>\n",
              "      <th>TN</th>\n",
              "      <td>45000</td>\n",
              "      <td>120000</td>\n",
              "      <td>55000</td>\n",
              "      <td>220000</td>\n",
              "    </tr>\n",
              "    <tr>\n",
              "      <th>TX</th>\n",
              "      <td>10000</td>\n",
              "      <td>62000</td>\n",
              "      <td>35000</td>\n",
              "      <td>107000</td>\n",
              "    </tr>\n",
              "  </tbody>\n",
              "</table>\n",
              "</div>"
            ],
            "text/plain": [
              "           Jan     Feb     Mar   total\n",
              "abbrev                                \n",
              "AR      150000  120000   35000  305000\n",
              "CA      162000  120000   35000  317000\n",
              "DE      150000  120000   70000  340000\n",
              "IA      253000  240000   70000  563000\n",
              "ID       70000  120000   35000  225000\n",
              "ME       45000  120000   10000  175000\n",
              "MS       62000  120000   70000  252000\n",
              "NC       95000   45000   35000  175000\n",
              "ND      150000   10000  162000  322000\n",
              "PA       70000   95000   35000  200000\n",
              "RI      200000  215000   70000  485000\n",
              "TN       45000  120000   55000  220000\n",
              "TX       10000   62000   35000  107000"
            ]
          },
          "metadata": {
            "tags": []
          },
          "execution_count": 15
        }
      ]
    },
    {
      "cell_type": "markdown",
      "metadata": {
        "id": "qpoaqDjdhcT9",
        "colab_type": "text"
      },
      "source": [
        "Next, we want to format the data as currency by using applymap to all the values in the data frame."
      ]
    },
    {
      "cell_type": "code",
      "metadata": {
        "id": "WlRMxIL6hfst",
        "colab_type": "code",
        "outputId": "0660fd1f-55fe-47e7-b1de-333e3fe0c358",
        "colab": {
          "base_uri": "https://localhost:8080/",
          "height": 0
        }
      },
      "source": [
        "def money(x):\n",
        "    return \"${:,.0f}\".format(x)\n",
        "\n",
        "formatted_df = df_sub.applymap(money)\n",
        "formatted_df"
      ],
      "execution_count": 16,
      "outputs": [
        {
          "output_type": "execute_result",
          "data": {
            "text/html": [
              "<div>\n",
              "<style scoped>\n",
              "    .dataframe tbody tr th:only-of-type {\n",
              "        vertical-align: middle;\n",
              "    }\n",
              "\n",
              "    .dataframe tbody tr th {\n",
              "        vertical-align: top;\n",
              "    }\n",
              "\n",
              "    .dataframe thead th {\n",
              "        text-align: right;\n",
              "    }\n",
              "</style>\n",
              "<table border=\"1\" class=\"dataframe\">\n",
              "  <thead>\n",
              "    <tr style=\"text-align: right;\">\n",
              "      <th></th>\n",
              "      <th>Jan</th>\n",
              "      <th>Feb</th>\n",
              "      <th>Mar</th>\n",
              "      <th>total</th>\n",
              "    </tr>\n",
              "    <tr>\n",
              "      <th>abbrev</th>\n",
              "      <th></th>\n",
              "      <th></th>\n",
              "      <th></th>\n",
              "      <th></th>\n",
              "    </tr>\n",
              "  </thead>\n",
              "  <tbody>\n",
              "    <tr>\n",
              "      <th>AR</th>\n",
              "      <td>$150,000</td>\n",
              "      <td>$120,000</td>\n",
              "      <td>$35,000</td>\n",
              "      <td>$305,000</td>\n",
              "    </tr>\n",
              "    <tr>\n",
              "      <th>CA</th>\n",
              "      <td>$162,000</td>\n",
              "      <td>$120,000</td>\n",
              "      <td>$35,000</td>\n",
              "      <td>$317,000</td>\n",
              "    </tr>\n",
              "    <tr>\n",
              "      <th>DE</th>\n",
              "      <td>$150,000</td>\n",
              "      <td>$120,000</td>\n",
              "      <td>$70,000</td>\n",
              "      <td>$340,000</td>\n",
              "    </tr>\n",
              "    <tr>\n",
              "      <th>IA</th>\n",
              "      <td>$253,000</td>\n",
              "      <td>$240,000</td>\n",
              "      <td>$70,000</td>\n",
              "      <td>$563,000</td>\n",
              "    </tr>\n",
              "    <tr>\n",
              "      <th>ID</th>\n",
              "      <td>$70,000</td>\n",
              "      <td>$120,000</td>\n",
              "      <td>$35,000</td>\n",
              "      <td>$225,000</td>\n",
              "    </tr>\n",
              "    <tr>\n",
              "      <th>ME</th>\n",
              "      <td>$45,000</td>\n",
              "      <td>$120,000</td>\n",
              "      <td>$10,000</td>\n",
              "      <td>$175,000</td>\n",
              "    </tr>\n",
              "    <tr>\n",
              "      <th>MS</th>\n",
              "      <td>$62,000</td>\n",
              "      <td>$120,000</td>\n",
              "      <td>$70,000</td>\n",
              "      <td>$252,000</td>\n",
              "    </tr>\n",
              "    <tr>\n",
              "      <th>NC</th>\n",
              "      <td>$95,000</td>\n",
              "      <td>$45,000</td>\n",
              "      <td>$35,000</td>\n",
              "      <td>$175,000</td>\n",
              "    </tr>\n",
              "    <tr>\n",
              "      <th>ND</th>\n",
              "      <td>$150,000</td>\n",
              "      <td>$10,000</td>\n",
              "      <td>$162,000</td>\n",
              "      <td>$322,000</td>\n",
              "    </tr>\n",
              "    <tr>\n",
              "      <th>PA</th>\n",
              "      <td>$70,000</td>\n",
              "      <td>$95,000</td>\n",
              "      <td>$35,000</td>\n",
              "      <td>$200,000</td>\n",
              "    </tr>\n",
              "    <tr>\n",
              "      <th>RI</th>\n",
              "      <td>$200,000</td>\n",
              "      <td>$215,000</td>\n",
              "      <td>$70,000</td>\n",
              "      <td>$485,000</td>\n",
              "    </tr>\n",
              "    <tr>\n",
              "      <th>TN</th>\n",
              "      <td>$45,000</td>\n",
              "      <td>$120,000</td>\n",
              "      <td>$55,000</td>\n",
              "      <td>$220,000</td>\n",
              "    </tr>\n",
              "    <tr>\n",
              "      <th>TX</th>\n",
              "      <td>$10,000</td>\n",
              "      <td>$62,000</td>\n",
              "      <td>$35,000</td>\n",
              "      <td>$107,000</td>\n",
              "    </tr>\n",
              "  </tbody>\n",
              "</table>\n",
              "</div>"
            ],
            "text/plain": [
              "             Jan       Feb       Mar     total\n",
              "abbrev                                        \n",
              "AR      $150,000  $120,000   $35,000  $305,000\n",
              "CA      $162,000  $120,000   $35,000  $317,000\n",
              "DE      $150,000  $120,000   $70,000  $340,000\n",
              "IA      $253,000  $240,000   $70,000  $563,000\n",
              "ID       $70,000  $120,000   $35,000  $225,000\n",
              "ME       $45,000  $120,000   $10,000  $175,000\n",
              "MS       $62,000  $120,000   $70,000  $252,000\n",
              "NC       $95,000   $45,000   $35,000  $175,000\n",
              "ND      $150,000   $10,000  $162,000  $322,000\n",
              "PA       $70,000   $95,000   $35,000  $200,000\n",
              "RI      $200,000  $215,000   $70,000  $485,000\n",
              "TN       $45,000  $120,000   $55,000  $220,000\n",
              "TX       $10,000   $62,000   $35,000  $107,000"
            ]
          },
          "metadata": {
            "tags": []
          },
          "execution_count": 16
        }
      ]
    },
    {
      "cell_type": "markdown",
      "metadata": {
        "id": "o9k90B6xhyuL",
        "colab_type": "text"
      },
      "source": [
        "The formatting looks good, now we can get the totals like we did earlier."
      ]
    },
    {
      "cell_type": "code",
      "metadata": {
        "id": "vIwVzGNdh0xh",
        "colab_type": "code",
        "outputId": "7744450c-d0f2-4377-cc92-7b779e589fbb",
        "colab": {
          "base_uri": "https://localhost:8080/",
          "height": 0
        }
      },
      "source": [
        "sum_row=df_sub[[\"Jan\",\"Feb\",\"Mar\",\"total\"]].sum()\n",
        "sum_row"
      ],
      "execution_count": 17,
      "outputs": [
        {
          "output_type": "execute_result",
          "data": {
            "text/plain": [
              "Jan      1462000\n",
              "Feb      1507000\n",
              "Mar       717000\n",
              "total    3686000\n",
              "dtype: int64"
            ]
          },
          "metadata": {
            "tags": []
          },
          "execution_count": 17
        }
      ]
    },
    {
      "cell_type": "markdown",
      "metadata": {
        "id": "fSNLd7wJh3a3",
        "colab_type": "text"
      },
      "source": [
        "Convert the values to columns and format it."
      ]
    },
    {
      "cell_type": "code",
      "metadata": {
        "id": "zuCSRcwzh5rw",
        "colab_type": "code",
        "outputId": "b6ef6651-4ed7-42f8-8aa7-527d49a59b9c",
        "colab": {
          "base_uri": "https://localhost:8080/",
          "height": 0
        }
      },
      "source": [
        "df_sub_sum=pd.DataFrame(data=sum_row).T\n",
        "df_sub_sum=df_sub_sum.applymap(money)\n",
        "df_sub_sum"
      ],
      "execution_count": 18,
      "outputs": [
        {
          "output_type": "execute_result",
          "data": {
            "text/html": [
              "<div>\n",
              "<style scoped>\n",
              "    .dataframe tbody tr th:only-of-type {\n",
              "        vertical-align: middle;\n",
              "    }\n",
              "\n",
              "    .dataframe tbody tr th {\n",
              "        vertical-align: top;\n",
              "    }\n",
              "\n",
              "    .dataframe thead th {\n",
              "        text-align: right;\n",
              "    }\n",
              "</style>\n",
              "<table border=\"1\" class=\"dataframe\">\n",
              "  <thead>\n",
              "    <tr style=\"text-align: right;\">\n",
              "      <th></th>\n",
              "      <th>Jan</th>\n",
              "      <th>Feb</th>\n",
              "      <th>Mar</th>\n",
              "      <th>total</th>\n",
              "    </tr>\n",
              "  </thead>\n",
              "  <tbody>\n",
              "    <tr>\n",
              "      <th>0</th>\n",
              "      <td>$1,462,000</td>\n",
              "      <td>$1,507,000</td>\n",
              "      <td>$717,000</td>\n",
              "      <td>$3,686,000</td>\n",
              "    </tr>\n",
              "  </tbody>\n",
              "</table>\n",
              "</div>"
            ],
            "text/plain": [
              "          Jan         Feb       Mar       total\n",
              "0  $1,462,000  $1,507,000  $717,000  $3,686,000"
            ]
          },
          "metadata": {
            "tags": []
          },
          "execution_count": 18
        }
      ]
    },
    {
      "cell_type": "markdown",
      "metadata": {
        "id": "1o6AuE2mh8sw",
        "colab_type": "text"
      },
      "source": [
        "Finally, add the total value to the DataFrame."
      ]
    },
    {
      "cell_type": "code",
      "metadata": {
        "id": "KwIW-IGRh9sD",
        "colab_type": "code",
        "outputId": "e3908063-8f10-43e2-ff81-78158f5f9315",
        "colab": {
          "base_uri": "https://localhost:8080/",
          "height": 0
        }
      },
      "source": [
        "final_table = formatted_df.append(df_sub_sum)\n",
        "final_table"
      ],
      "execution_count": 19,
      "outputs": [
        {
          "output_type": "execute_result",
          "data": {
            "text/html": [
              "<div>\n",
              "<style scoped>\n",
              "    .dataframe tbody tr th:only-of-type {\n",
              "        vertical-align: middle;\n",
              "    }\n",
              "\n",
              "    .dataframe tbody tr th {\n",
              "        vertical-align: top;\n",
              "    }\n",
              "\n",
              "    .dataframe thead th {\n",
              "        text-align: right;\n",
              "    }\n",
              "</style>\n",
              "<table border=\"1\" class=\"dataframe\">\n",
              "  <thead>\n",
              "    <tr style=\"text-align: right;\">\n",
              "      <th></th>\n",
              "      <th>Jan</th>\n",
              "      <th>Feb</th>\n",
              "      <th>Mar</th>\n",
              "      <th>total</th>\n",
              "    </tr>\n",
              "  </thead>\n",
              "  <tbody>\n",
              "    <tr>\n",
              "      <th>AR</th>\n",
              "      <td>$150,000</td>\n",
              "      <td>$120,000</td>\n",
              "      <td>$35,000</td>\n",
              "      <td>$305,000</td>\n",
              "    </tr>\n",
              "    <tr>\n",
              "      <th>CA</th>\n",
              "      <td>$162,000</td>\n",
              "      <td>$120,000</td>\n",
              "      <td>$35,000</td>\n",
              "      <td>$317,000</td>\n",
              "    </tr>\n",
              "    <tr>\n",
              "      <th>DE</th>\n",
              "      <td>$150,000</td>\n",
              "      <td>$120,000</td>\n",
              "      <td>$70,000</td>\n",
              "      <td>$340,000</td>\n",
              "    </tr>\n",
              "    <tr>\n",
              "      <th>IA</th>\n",
              "      <td>$253,000</td>\n",
              "      <td>$240,000</td>\n",
              "      <td>$70,000</td>\n",
              "      <td>$563,000</td>\n",
              "    </tr>\n",
              "    <tr>\n",
              "      <th>ID</th>\n",
              "      <td>$70,000</td>\n",
              "      <td>$120,000</td>\n",
              "      <td>$35,000</td>\n",
              "      <td>$225,000</td>\n",
              "    </tr>\n",
              "    <tr>\n",
              "      <th>ME</th>\n",
              "      <td>$45,000</td>\n",
              "      <td>$120,000</td>\n",
              "      <td>$10,000</td>\n",
              "      <td>$175,000</td>\n",
              "    </tr>\n",
              "    <tr>\n",
              "      <th>MS</th>\n",
              "      <td>$62,000</td>\n",
              "      <td>$120,000</td>\n",
              "      <td>$70,000</td>\n",
              "      <td>$252,000</td>\n",
              "    </tr>\n",
              "    <tr>\n",
              "      <th>NC</th>\n",
              "      <td>$95,000</td>\n",
              "      <td>$45,000</td>\n",
              "      <td>$35,000</td>\n",
              "      <td>$175,000</td>\n",
              "    </tr>\n",
              "    <tr>\n",
              "      <th>ND</th>\n",
              "      <td>$150,000</td>\n",
              "      <td>$10,000</td>\n",
              "      <td>$162,000</td>\n",
              "      <td>$322,000</td>\n",
              "    </tr>\n",
              "    <tr>\n",
              "      <th>PA</th>\n",
              "      <td>$70,000</td>\n",
              "      <td>$95,000</td>\n",
              "      <td>$35,000</td>\n",
              "      <td>$200,000</td>\n",
              "    </tr>\n",
              "    <tr>\n",
              "      <th>RI</th>\n",
              "      <td>$200,000</td>\n",
              "      <td>$215,000</td>\n",
              "      <td>$70,000</td>\n",
              "      <td>$485,000</td>\n",
              "    </tr>\n",
              "    <tr>\n",
              "      <th>TN</th>\n",
              "      <td>$45,000</td>\n",
              "      <td>$120,000</td>\n",
              "      <td>$55,000</td>\n",
              "      <td>$220,000</td>\n",
              "    </tr>\n",
              "    <tr>\n",
              "      <th>TX</th>\n",
              "      <td>$10,000</td>\n",
              "      <td>$62,000</td>\n",
              "      <td>$35,000</td>\n",
              "      <td>$107,000</td>\n",
              "    </tr>\n",
              "    <tr>\n",
              "      <th>0</th>\n",
              "      <td>$1,462,000</td>\n",
              "      <td>$1,507,000</td>\n",
              "      <td>$717,000</td>\n",
              "      <td>$3,686,000</td>\n",
              "    </tr>\n",
              "  </tbody>\n",
              "</table>\n",
              "</div>"
            ],
            "text/plain": [
              "           Jan         Feb       Mar       total\n",
              "AR    $150,000    $120,000   $35,000    $305,000\n",
              "CA    $162,000    $120,000   $35,000    $317,000\n",
              "DE    $150,000    $120,000   $70,000    $340,000\n",
              "IA    $253,000    $240,000   $70,000    $563,000\n",
              "ID     $70,000    $120,000   $35,000    $225,000\n",
              "ME     $45,000    $120,000   $10,000    $175,000\n",
              "MS     $62,000    $120,000   $70,000    $252,000\n",
              "NC     $95,000     $45,000   $35,000    $175,000\n",
              "ND    $150,000     $10,000  $162,000    $322,000\n",
              "PA     $70,000     $95,000   $35,000    $200,000\n",
              "RI    $200,000    $215,000   $70,000    $485,000\n",
              "TN     $45,000    $120,000   $55,000    $220,000\n",
              "TX     $10,000     $62,000   $35,000    $107,000\n",
              "0   $1,462,000  $1,507,000  $717,000  $3,686,000"
            ]
          },
          "metadata": {
            "tags": []
          },
          "execution_count": 19
        }
      ]
    },
    {
      "cell_type": "markdown",
      "metadata": {
        "id": "h-aLZjKYkJaT",
        "colab_type": "text"
      },
      "source": [
        "You’ll notice that the index is ‘0’ for the total line. We want to change that using rename ."
      ]
    },
    {
      "cell_type": "code",
      "metadata": {
        "id": "DA7jVMq-kLoC",
        "colab_type": "code",
        "outputId": "1e76a34a-a14d-481c-b80b-ac170d22eebf",
        "colab": {
          "base_uri": "https://localhost:8080/",
          "height": 0
        }
      },
      "source": [
        "final_table = final_table.rename(index={0:\"Total\"})\n",
        "final_table"
      ],
      "execution_count": 20,
      "outputs": [
        {
          "output_type": "execute_result",
          "data": {
            "text/html": [
              "<div>\n",
              "<style scoped>\n",
              "    .dataframe tbody tr th:only-of-type {\n",
              "        vertical-align: middle;\n",
              "    }\n",
              "\n",
              "    .dataframe tbody tr th {\n",
              "        vertical-align: top;\n",
              "    }\n",
              "\n",
              "    .dataframe thead th {\n",
              "        text-align: right;\n",
              "    }\n",
              "</style>\n",
              "<table border=\"1\" class=\"dataframe\">\n",
              "  <thead>\n",
              "    <tr style=\"text-align: right;\">\n",
              "      <th></th>\n",
              "      <th>Jan</th>\n",
              "      <th>Feb</th>\n",
              "      <th>Mar</th>\n",
              "      <th>total</th>\n",
              "    </tr>\n",
              "  </thead>\n",
              "  <tbody>\n",
              "    <tr>\n",
              "      <th>AR</th>\n",
              "      <td>$150,000</td>\n",
              "      <td>$120,000</td>\n",
              "      <td>$35,000</td>\n",
              "      <td>$305,000</td>\n",
              "    </tr>\n",
              "    <tr>\n",
              "      <th>CA</th>\n",
              "      <td>$162,000</td>\n",
              "      <td>$120,000</td>\n",
              "      <td>$35,000</td>\n",
              "      <td>$317,000</td>\n",
              "    </tr>\n",
              "    <tr>\n",
              "      <th>DE</th>\n",
              "      <td>$150,000</td>\n",
              "      <td>$120,000</td>\n",
              "      <td>$70,000</td>\n",
              "      <td>$340,000</td>\n",
              "    </tr>\n",
              "    <tr>\n",
              "      <th>IA</th>\n",
              "      <td>$253,000</td>\n",
              "      <td>$240,000</td>\n",
              "      <td>$70,000</td>\n",
              "      <td>$563,000</td>\n",
              "    </tr>\n",
              "    <tr>\n",
              "      <th>ID</th>\n",
              "      <td>$70,000</td>\n",
              "      <td>$120,000</td>\n",
              "      <td>$35,000</td>\n",
              "      <td>$225,000</td>\n",
              "    </tr>\n",
              "    <tr>\n",
              "      <th>ME</th>\n",
              "      <td>$45,000</td>\n",
              "      <td>$120,000</td>\n",
              "      <td>$10,000</td>\n",
              "      <td>$175,000</td>\n",
              "    </tr>\n",
              "    <tr>\n",
              "      <th>MS</th>\n",
              "      <td>$62,000</td>\n",
              "      <td>$120,000</td>\n",
              "      <td>$70,000</td>\n",
              "      <td>$252,000</td>\n",
              "    </tr>\n",
              "    <tr>\n",
              "      <th>NC</th>\n",
              "      <td>$95,000</td>\n",
              "      <td>$45,000</td>\n",
              "      <td>$35,000</td>\n",
              "      <td>$175,000</td>\n",
              "    </tr>\n",
              "    <tr>\n",
              "      <th>ND</th>\n",
              "      <td>$150,000</td>\n",
              "      <td>$10,000</td>\n",
              "      <td>$162,000</td>\n",
              "      <td>$322,000</td>\n",
              "    </tr>\n",
              "    <tr>\n",
              "      <th>PA</th>\n",
              "      <td>$70,000</td>\n",
              "      <td>$95,000</td>\n",
              "      <td>$35,000</td>\n",
              "      <td>$200,000</td>\n",
              "    </tr>\n",
              "    <tr>\n",
              "      <th>RI</th>\n",
              "      <td>$200,000</td>\n",
              "      <td>$215,000</td>\n",
              "      <td>$70,000</td>\n",
              "      <td>$485,000</td>\n",
              "    </tr>\n",
              "    <tr>\n",
              "      <th>TN</th>\n",
              "      <td>$45,000</td>\n",
              "      <td>$120,000</td>\n",
              "      <td>$55,000</td>\n",
              "      <td>$220,000</td>\n",
              "    </tr>\n",
              "    <tr>\n",
              "      <th>TX</th>\n",
              "      <td>$10,000</td>\n",
              "      <td>$62,000</td>\n",
              "      <td>$35,000</td>\n",
              "      <td>$107,000</td>\n",
              "    </tr>\n",
              "    <tr>\n",
              "      <th>Total</th>\n",
              "      <td>$1,462,000</td>\n",
              "      <td>$1,507,000</td>\n",
              "      <td>$717,000</td>\n",
              "      <td>$3,686,000</td>\n",
              "    </tr>\n",
              "  </tbody>\n",
              "</table>\n",
              "</div>"
            ],
            "text/plain": [
              "              Jan         Feb       Mar       total\n",
              "AR       $150,000    $120,000   $35,000    $305,000\n",
              "CA       $162,000    $120,000   $35,000    $317,000\n",
              "DE       $150,000    $120,000   $70,000    $340,000\n",
              "IA       $253,000    $240,000   $70,000    $563,000\n",
              "ID        $70,000    $120,000   $35,000    $225,000\n",
              "ME        $45,000    $120,000   $10,000    $175,000\n",
              "MS        $62,000    $120,000   $70,000    $252,000\n",
              "NC        $95,000     $45,000   $35,000    $175,000\n",
              "ND       $150,000     $10,000  $162,000    $322,000\n",
              "PA        $70,000     $95,000   $35,000    $200,000\n",
              "RI       $200,000    $215,000   $70,000    $485,000\n",
              "TN        $45,000    $120,000   $55,000    $220,000\n",
              "TX        $10,000     $62,000   $35,000    $107,000\n",
              "Total  $1,462,000  $1,507,000  $717,000  $3,686,000"
            ]
          },
          "metadata": {
            "tags": []
          },
          "execution_count": 20
        }
      ]
    },
    {
      "cell_type": "markdown",
      "metadata": {
        "id": "gJRo-Qrlkxx6",
        "colab_type": "text"
      },
      "source": [
        "#### Another example"
      ]
    },
    {
      "cell_type": "markdown",
      "metadata": {
        "id": "a55TbKMilBgm",
        "colab_type": "text"
      },
      "source": [
        "Load in the Excel data that represents a year’s worth of sales for our sample company."
      ]
    },
    {
      "cell_type": "code",
      "metadata": {
        "id": "FgIjQHd1kzTr",
        "colab_type": "code",
        "outputId": "b82ab8b5-544c-4e6e-d9fd-1312e9c7fbf7",
        "colab": {
          "base_uri": "https://localhost:8080/",
          "height": 0
        }
      },
      "source": [
        "df = pd.read_excel(\"https://github.com/chris1610/pbpython/blob/master/data/sample-salesv3.xlsx?raw=true\")\n",
        "df.dtypes"
      ],
      "execution_count": 21,
      "outputs": [
        {
          "output_type": "execute_result",
          "data": {
            "text/plain": [
              "account number      int64\n",
              "name               object\n",
              "sku                object\n",
              "quantity            int64\n",
              "unit price        float64\n",
              "ext price         float64\n",
              "date               object\n",
              "dtype: object"
            ]
          },
          "metadata": {
            "tags": []
          },
          "execution_count": 21
        }
      ]
    },
    {
      "cell_type": "code",
      "metadata": {
        "id": "sCVHdIaTlNIS",
        "colab_type": "code",
        "outputId": "084b01e2-5547-4c86-9d2c-4f99f1d0a3ea",
        "colab": {
          "base_uri": "https://localhost:8080/",
          "height": 0
        }
      },
      "source": [
        "df.head()"
      ],
      "execution_count": 22,
      "outputs": [
        {
          "output_type": "execute_result",
          "data": {
            "text/html": [
              "<div>\n",
              "<style scoped>\n",
              "    .dataframe tbody tr th:only-of-type {\n",
              "        vertical-align: middle;\n",
              "    }\n",
              "\n",
              "    .dataframe tbody tr th {\n",
              "        vertical-align: top;\n",
              "    }\n",
              "\n",
              "    .dataframe thead th {\n",
              "        text-align: right;\n",
              "    }\n",
              "</style>\n",
              "<table border=\"1\" class=\"dataframe\">\n",
              "  <thead>\n",
              "    <tr style=\"text-align: right;\">\n",
              "      <th></th>\n",
              "      <th>account number</th>\n",
              "      <th>name</th>\n",
              "      <th>sku</th>\n",
              "      <th>quantity</th>\n",
              "      <th>unit price</th>\n",
              "      <th>ext price</th>\n",
              "      <th>date</th>\n",
              "    </tr>\n",
              "  </thead>\n",
              "  <tbody>\n",
              "    <tr>\n",
              "      <th>0</th>\n",
              "      <td>740150</td>\n",
              "      <td>Barton LLC</td>\n",
              "      <td>B1-20000</td>\n",
              "      <td>39</td>\n",
              "      <td>86.69</td>\n",
              "      <td>3380.91</td>\n",
              "      <td>2014-01-01 07:21:51</td>\n",
              "    </tr>\n",
              "    <tr>\n",
              "      <th>1</th>\n",
              "      <td>714466</td>\n",
              "      <td>Trantow-Barrows</td>\n",
              "      <td>S2-77896</td>\n",
              "      <td>-1</td>\n",
              "      <td>63.16</td>\n",
              "      <td>-63.16</td>\n",
              "      <td>2014-01-01 10:00:47</td>\n",
              "    </tr>\n",
              "    <tr>\n",
              "      <th>2</th>\n",
              "      <td>218895</td>\n",
              "      <td>Kulas Inc</td>\n",
              "      <td>B1-69924</td>\n",
              "      <td>23</td>\n",
              "      <td>90.70</td>\n",
              "      <td>2086.10</td>\n",
              "      <td>2014-01-01 13:24:58</td>\n",
              "    </tr>\n",
              "    <tr>\n",
              "      <th>3</th>\n",
              "      <td>307599</td>\n",
              "      <td>Kassulke, Ondricka and Metz</td>\n",
              "      <td>S1-65481</td>\n",
              "      <td>41</td>\n",
              "      <td>21.05</td>\n",
              "      <td>863.05</td>\n",
              "      <td>2014-01-01 15:05:22</td>\n",
              "    </tr>\n",
              "    <tr>\n",
              "      <th>4</th>\n",
              "      <td>412290</td>\n",
              "      <td>Jerde-Hilpert</td>\n",
              "      <td>S2-34077</td>\n",
              "      <td>6</td>\n",
              "      <td>83.21</td>\n",
              "      <td>499.26</td>\n",
              "      <td>2014-01-01 23:26:55</td>\n",
              "    </tr>\n",
              "  </tbody>\n",
              "</table>\n",
              "</div>"
            ],
            "text/plain": [
              "   account number                         name  ... ext price                 date\n",
              "0          740150                   Barton LLC  ...   3380.91  2014-01-01 07:21:51\n",
              "1          714466              Trantow-Barrows  ...    -63.16  2014-01-01 10:00:47\n",
              "2          218895                    Kulas Inc  ...   2086.10  2014-01-01 13:24:58\n",
              "3          307599  Kassulke, Ondricka and Metz  ...    863.05  2014-01-01 15:05:22\n",
              "4          412290                Jerde-Hilpert  ...    499.26  2014-01-01 23:26:55\n",
              "\n",
              "[5 rows x 7 columns]"
            ]
          },
          "metadata": {
            "tags": []
          },
          "execution_count": 22
        }
      ]
    },
    {
      "cell_type": "markdown",
      "metadata": {
        "id": "nwvu0ih6lD7M",
        "colab_type": "text"
      },
      "source": [
        "You’ll notice that our date column is showing up as a generic object . We are going to convert it to datetime object to make some future selections a little easier."
      ]
    },
    {
      "cell_type": "code",
      "metadata": {
        "id": "2oOqVBz-lJ7d",
        "colab_type": "code",
        "outputId": "b81f99e5-7fe5-40b9-9002-66e2ff2f7e4d",
        "colab": {
          "base_uri": "https://localhost:8080/",
          "height": 0
        }
      },
      "source": [
        "df['date'] = pd.to_datetime(df['date'])\n",
        "df.head()"
      ],
      "execution_count": 23,
      "outputs": [
        {
          "output_type": "execute_result",
          "data": {
            "text/html": [
              "<div>\n",
              "<style scoped>\n",
              "    .dataframe tbody tr th:only-of-type {\n",
              "        vertical-align: middle;\n",
              "    }\n",
              "\n",
              "    .dataframe tbody tr th {\n",
              "        vertical-align: top;\n",
              "    }\n",
              "\n",
              "    .dataframe thead th {\n",
              "        text-align: right;\n",
              "    }\n",
              "</style>\n",
              "<table border=\"1\" class=\"dataframe\">\n",
              "  <thead>\n",
              "    <tr style=\"text-align: right;\">\n",
              "      <th></th>\n",
              "      <th>account number</th>\n",
              "      <th>name</th>\n",
              "      <th>sku</th>\n",
              "      <th>quantity</th>\n",
              "      <th>unit price</th>\n",
              "      <th>ext price</th>\n",
              "      <th>date</th>\n",
              "    </tr>\n",
              "  </thead>\n",
              "  <tbody>\n",
              "    <tr>\n",
              "      <th>0</th>\n",
              "      <td>740150</td>\n",
              "      <td>Barton LLC</td>\n",
              "      <td>B1-20000</td>\n",
              "      <td>39</td>\n",
              "      <td>86.69</td>\n",
              "      <td>3380.91</td>\n",
              "      <td>2014-01-01 07:21:51</td>\n",
              "    </tr>\n",
              "    <tr>\n",
              "      <th>1</th>\n",
              "      <td>714466</td>\n",
              "      <td>Trantow-Barrows</td>\n",
              "      <td>S2-77896</td>\n",
              "      <td>-1</td>\n",
              "      <td>63.16</td>\n",
              "      <td>-63.16</td>\n",
              "      <td>2014-01-01 10:00:47</td>\n",
              "    </tr>\n",
              "    <tr>\n",
              "      <th>2</th>\n",
              "      <td>218895</td>\n",
              "      <td>Kulas Inc</td>\n",
              "      <td>B1-69924</td>\n",
              "      <td>23</td>\n",
              "      <td>90.70</td>\n",
              "      <td>2086.10</td>\n",
              "      <td>2014-01-01 13:24:58</td>\n",
              "    </tr>\n",
              "    <tr>\n",
              "      <th>3</th>\n",
              "      <td>307599</td>\n",
              "      <td>Kassulke, Ondricka and Metz</td>\n",
              "      <td>S1-65481</td>\n",
              "      <td>41</td>\n",
              "      <td>21.05</td>\n",
              "      <td>863.05</td>\n",
              "      <td>2014-01-01 15:05:22</td>\n",
              "    </tr>\n",
              "    <tr>\n",
              "      <th>4</th>\n",
              "      <td>412290</td>\n",
              "      <td>Jerde-Hilpert</td>\n",
              "      <td>S2-34077</td>\n",
              "      <td>6</td>\n",
              "      <td>83.21</td>\n",
              "      <td>499.26</td>\n",
              "      <td>2014-01-01 23:26:55</td>\n",
              "    </tr>\n",
              "  </tbody>\n",
              "</table>\n",
              "</div>"
            ],
            "text/plain": [
              "   account number                         name  ... ext price                date\n",
              "0          740150                   Barton LLC  ...   3380.91 2014-01-01 07:21:51\n",
              "1          714466              Trantow-Barrows  ...    -63.16 2014-01-01 10:00:47\n",
              "2          218895                    Kulas Inc  ...   2086.10 2014-01-01 13:24:58\n",
              "3          307599  Kassulke, Ondricka and Metz  ...    863.05 2014-01-01 15:05:22\n",
              "4          412290                Jerde-Hilpert  ...    499.26 2014-01-01 23:26:55\n",
              "\n",
              "[5 rows x 7 columns]"
            ]
          },
          "metadata": {
            "tags": []
          },
          "execution_count": 23
        }
      ]
    },
    {
      "cell_type": "code",
      "metadata": {
        "id": "-6HYTbUOlRvE",
        "colab_type": "code",
        "outputId": "99f6e17c-0614-40d0-ae33-bc82938ce45d",
        "colab": {
          "base_uri": "https://localhost:8080/",
          "height": 0
        }
      },
      "source": [
        "df.dtypes"
      ],
      "execution_count": 24,
      "outputs": [
        {
          "output_type": "execute_result",
          "data": {
            "text/plain": [
              "account number             int64\n",
              "name                      object\n",
              "sku                       object\n",
              "quantity                   int64\n",
              "unit price               float64\n",
              "ext price                float64\n",
              "date              datetime64[ns]\n",
              "dtype: object"
            ]
          },
          "metadata": {
            "tags": []
          },
          "execution_count": 24
        }
      ]
    },
    {
      "cell_type": "markdown",
      "metadata": {
        "id": "HRNhHbCllIi2",
        "colab_type": "text"
      },
      "source": [
        "The date is now a datetime object which will be useful in future steps."
      ]
    },
    {
      "cell_type": "markdown",
      "metadata": {
        "id": "-x5thIddpuJJ",
        "colab_type": "text"
      },
      "source": [
        "#### Filtering the data"
      ]
    },
    {
      "cell_type": "markdown",
      "metadata": {
        "id": "oaHAGt0wpqRe",
        "colab_type": "text"
      },
      "source": [
        "I think one of the handiest features in Excel is the filter. I imagine that almost anytime someone gets an Excel file of any size and they want to filter the data, they use this function.\n",
        "\n",
        "Here is an image of using it for this data set:\n",
        "\n",
        "<img src=\"https://pbpython.com/images/excel-filter.png\">\n",
        "\n",
        "Similar to the ilter function in Excel, you can use pandas to filter and select certain subsets of data.\n",
        "\n",
        "For instance, if we want to just see a specific account number, we can easily do that with Excel or with pandas.\n",
        "\n",
        "Here is the Excel filter solution:\n",
        "\n",
        "<img src=\"https://pbpython.com/images/excel-filter2.png\">\n",
        "\n",
        "It is relatively straightforward to do in pandas. Note, I am going to use the head function to show the top results. This is purely for the purposes of keeping the article shorter."
      ]
    },
    {
      "cell_type": "code",
      "metadata": {
        "id": "st6Rqs3DqI4W",
        "colab_type": "code",
        "outputId": "c970fc98-0254-4468-d603-7f49abf11bd8",
        "colab": {
          "base_uri": "https://localhost:8080/",
          "height": 0
        }
      },
      "source": [
        "df[df[\"account number\"]==307599].head()"
      ],
      "execution_count": 25,
      "outputs": [
        {
          "output_type": "execute_result",
          "data": {
            "text/html": [
              "<div>\n",
              "<style scoped>\n",
              "    .dataframe tbody tr th:only-of-type {\n",
              "        vertical-align: middle;\n",
              "    }\n",
              "\n",
              "    .dataframe tbody tr th {\n",
              "        vertical-align: top;\n",
              "    }\n",
              "\n",
              "    .dataframe thead th {\n",
              "        text-align: right;\n",
              "    }\n",
              "</style>\n",
              "<table border=\"1\" class=\"dataframe\">\n",
              "  <thead>\n",
              "    <tr style=\"text-align: right;\">\n",
              "      <th></th>\n",
              "      <th>account number</th>\n",
              "      <th>name</th>\n",
              "      <th>sku</th>\n",
              "      <th>quantity</th>\n",
              "      <th>unit price</th>\n",
              "      <th>ext price</th>\n",
              "      <th>date</th>\n",
              "    </tr>\n",
              "  </thead>\n",
              "  <tbody>\n",
              "    <tr>\n",
              "      <th>3</th>\n",
              "      <td>307599</td>\n",
              "      <td>Kassulke, Ondricka and Metz</td>\n",
              "      <td>S1-65481</td>\n",
              "      <td>41</td>\n",
              "      <td>21.05</td>\n",
              "      <td>863.05</td>\n",
              "      <td>2014-01-01 15:05:22</td>\n",
              "    </tr>\n",
              "    <tr>\n",
              "      <th>13</th>\n",
              "      <td>307599</td>\n",
              "      <td>Kassulke, Ondricka and Metz</td>\n",
              "      <td>S2-10342</td>\n",
              "      <td>17</td>\n",
              "      <td>12.44</td>\n",
              "      <td>211.48</td>\n",
              "      <td>2014-01-04 07:53:01</td>\n",
              "    </tr>\n",
              "    <tr>\n",
              "      <th>34</th>\n",
              "      <td>307599</td>\n",
              "      <td>Kassulke, Ondricka and Metz</td>\n",
              "      <td>S2-78676</td>\n",
              "      <td>35</td>\n",
              "      <td>33.04</td>\n",
              "      <td>1156.40</td>\n",
              "      <td>2014-01-10 05:26:31</td>\n",
              "    </tr>\n",
              "    <tr>\n",
              "      <th>58</th>\n",
              "      <td>307599</td>\n",
              "      <td>Kassulke, Ondricka and Metz</td>\n",
              "      <td>B1-20000</td>\n",
              "      <td>22</td>\n",
              "      <td>37.87</td>\n",
              "      <td>833.14</td>\n",
              "      <td>2014-01-15 16:22:22</td>\n",
              "    </tr>\n",
              "    <tr>\n",
              "      <th>70</th>\n",
              "      <td>307599</td>\n",
              "      <td>Kassulke, Ondricka and Metz</td>\n",
              "      <td>S2-10342</td>\n",
              "      <td>44</td>\n",
              "      <td>96.79</td>\n",
              "      <td>4258.76</td>\n",
              "      <td>2014-01-18 06:32:31</td>\n",
              "    </tr>\n",
              "  </tbody>\n",
              "</table>\n",
              "</div>"
            ],
            "text/plain": [
              "    account number                         name  ... ext price                date\n",
              "3           307599  Kassulke, Ondricka and Metz  ...    863.05 2014-01-01 15:05:22\n",
              "13          307599  Kassulke, Ondricka and Metz  ...    211.48 2014-01-04 07:53:01\n",
              "34          307599  Kassulke, Ondricka and Metz  ...   1156.40 2014-01-10 05:26:31\n",
              "58          307599  Kassulke, Ondricka and Metz  ...    833.14 2014-01-15 16:22:22\n",
              "70          307599  Kassulke, Ondricka and Metz  ...   4258.76 2014-01-18 06:32:31\n",
              "\n",
              "[5 rows x 7 columns]"
            ]
          },
          "metadata": {
            "tags": []
          },
          "execution_count": 25
        }
      ]
    },
    {
      "cell_type": "markdown",
      "metadata": {
        "id": "WLn5IR0TNOET",
        "colab_type": "text"
      },
      "source": [
        "You could also do the filtering based on numeric values. I am not going to show any more Excel-based samples. I am sure you get the idea."
      ]
    },
    {
      "cell_type": "code",
      "metadata": {
        "id": "DrfnImlzNQ-i",
        "colab_type": "code",
        "outputId": "eb439e64-a67f-44ef-c460-99ea99ad4e36",
        "colab": {
          "base_uri": "https://localhost:8080/",
          "height": 0
        }
      },
      "source": [
        "df[df[\"quantity\"] > 22].head()"
      ],
      "execution_count": 26,
      "outputs": [
        {
          "output_type": "execute_result",
          "data": {
            "text/html": [
              "<div>\n",
              "<style scoped>\n",
              "    .dataframe tbody tr th:only-of-type {\n",
              "        vertical-align: middle;\n",
              "    }\n",
              "\n",
              "    .dataframe tbody tr th {\n",
              "        vertical-align: top;\n",
              "    }\n",
              "\n",
              "    .dataframe thead th {\n",
              "        text-align: right;\n",
              "    }\n",
              "</style>\n",
              "<table border=\"1\" class=\"dataframe\">\n",
              "  <thead>\n",
              "    <tr style=\"text-align: right;\">\n",
              "      <th></th>\n",
              "      <th>account number</th>\n",
              "      <th>name</th>\n",
              "      <th>sku</th>\n",
              "      <th>quantity</th>\n",
              "      <th>unit price</th>\n",
              "      <th>ext price</th>\n",
              "      <th>date</th>\n",
              "    </tr>\n",
              "  </thead>\n",
              "  <tbody>\n",
              "    <tr>\n",
              "      <th>0</th>\n",
              "      <td>740150</td>\n",
              "      <td>Barton LLC</td>\n",
              "      <td>B1-20000</td>\n",
              "      <td>39</td>\n",
              "      <td>86.69</td>\n",
              "      <td>3380.91</td>\n",
              "      <td>2014-01-01 07:21:51</td>\n",
              "    </tr>\n",
              "    <tr>\n",
              "      <th>2</th>\n",
              "      <td>218895</td>\n",
              "      <td>Kulas Inc</td>\n",
              "      <td>B1-69924</td>\n",
              "      <td>23</td>\n",
              "      <td>90.70</td>\n",
              "      <td>2086.10</td>\n",
              "      <td>2014-01-01 13:24:58</td>\n",
              "    </tr>\n",
              "    <tr>\n",
              "      <th>3</th>\n",
              "      <td>307599</td>\n",
              "      <td>Kassulke, Ondricka and Metz</td>\n",
              "      <td>S1-65481</td>\n",
              "      <td>41</td>\n",
              "      <td>21.05</td>\n",
              "      <td>863.05</td>\n",
              "      <td>2014-01-01 15:05:22</td>\n",
              "    </tr>\n",
              "    <tr>\n",
              "      <th>14</th>\n",
              "      <td>737550</td>\n",
              "      <td>Fritsch, Russel and Anderson</td>\n",
              "      <td>B1-53102</td>\n",
              "      <td>23</td>\n",
              "      <td>71.56</td>\n",
              "      <td>1645.88</td>\n",
              "      <td>2014-01-04 08:57:48</td>\n",
              "    </tr>\n",
              "    <tr>\n",
              "      <th>15</th>\n",
              "      <td>239344</td>\n",
              "      <td>Stokes LLC</td>\n",
              "      <td>S1-06532</td>\n",
              "      <td>34</td>\n",
              "      <td>71.51</td>\n",
              "      <td>2431.34</td>\n",
              "      <td>2014-01-04 11:34:58</td>\n",
              "    </tr>\n",
              "  </tbody>\n",
              "</table>\n",
              "</div>"
            ],
            "text/plain": [
              "    account number                          name  ... ext price                date\n",
              "0           740150                    Barton LLC  ...   3380.91 2014-01-01 07:21:51\n",
              "2           218895                     Kulas Inc  ...   2086.10 2014-01-01 13:24:58\n",
              "3           307599   Kassulke, Ondricka and Metz  ...    863.05 2014-01-01 15:05:22\n",
              "14          737550  Fritsch, Russel and Anderson  ...   1645.88 2014-01-04 08:57:48\n",
              "15          239344                    Stokes LLC  ...   2431.34 2014-01-04 11:34:58\n",
              "\n",
              "[5 rows x 7 columns]"
            ]
          },
          "metadata": {
            "tags": []
          },
          "execution_count": 26
        }
      ]
    },
    {
      "cell_type": "markdown",
      "metadata": {
        "id": "IGC7FfDnNWx6",
        "colab_type": "text"
      },
      "source": [
        "If we want to do more complex filtering, we can use map to filter on various criteria. In this example, let’s look for items with sku’s that start with B1."
      ]
    },
    {
      "cell_type": "code",
      "metadata": {
        "id": "8k4esw3ANhF3",
        "colab_type": "code",
        "outputId": "7bf725b5-ba40-4488-e876-849ac21c8108",
        "colab": {
          "base_uri": "https://localhost:8080/",
          "height": 0
        }
      },
      "source": [
        "df[df[\"sku\"].map(lambda x: x.startswith('B1'))].head()"
      ],
      "execution_count": 27,
      "outputs": [
        {
          "output_type": "execute_result",
          "data": {
            "text/html": [
              "<div>\n",
              "<style scoped>\n",
              "    .dataframe tbody tr th:only-of-type {\n",
              "        vertical-align: middle;\n",
              "    }\n",
              "\n",
              "    .dataframe tbody tr th {\n",
              "        vertical-align: top;\n",
              "    }\n",
              "\n",
              "    .dataframe thead th {\n",
              "        text-align: right;\n",
              "    }\n",
              "</style>\n",
              "<table border=\"1\" class=\"dataframe\">\n",
              "  <thead>\n",
              "    <tr style=\"text-align: right;\">\n",
              "      <th></th>\n",
              "      <th>account number</th>\n",
              "      <th>name</th>\n",
              "      <th>sku</th>\n",
              "      <th>quantity</th>\n",
              "      <th>unit price</th>\n",
              "      <th>ext price</th>\n",
              "      <th>date</th>\n",
              "    </tr>\n",
              "  </thead>\n",
              "  <tbody>\n",
              "    <tr>\n",
              "      <th>0</th>\n",
              "      <td>740150</td>\n",
              "      <td>Barton LLC</td>\n",
              "      <td>B1-20000</td>\n",
              "      <td>39</td>\n",
              "      <td>86.69</td>\n",
              "      <td>3380.91</td>\n",
              "      <td>2014-01-01 07:21:51</td>\n",
              "    </tr>\n",
              "    <tr>\n",
              "      <th>2</th>\n",
              "      <td>218895</td>\n",
              "      <td>Kulas Inc</td>\n",
              "      <td>B1-69924</td>\n",
              "      <td>23</td>\n",
              "      <td>90.70</td>\n",
              "      <td>2086.10</td>\n",
              "      <td>2014-01-01 13:24:58</td>\n",
              "    </tr>\n",
              "    <tr>\n",
              "      <th>6</th>\n",
              "      <td>218895</td>\n",
              "      <td>Kulas Inc</td>\n",
              "      <td>B1-65551</td>\n",
              "      <td>2</td>\n",
              "      <td>31.10</td>\n",
              "      <td>62.20</td>\n",
              "      <td>2014-01-02 10:57:23</td>\n",
              "    </tr>\n",
              "    <tr>\n",
              "      <th>14</th>\n",
              "      <td>737550</td>\n",
              "      <td>Fritsch, Russel and Anderson</td>\n",
              "      <td>B1-53102</td>\n",
              "      <td>23</td>\n",
              "      <td>71.56</td>\n",
              "      <td>1645.88</td>\n",
              "      <td>2014-01-04 08:57:48</td>\n",
              "    </tr>\n",
              "    <tr>\n",
              "      <th>17</th>\n",
              "      <td>239344</td>\n",
              "      <td>Stokes LLC</td>\n",
              "      <td>B1-50809</td>\n",
              "      <td>14</td>\n",
              "      <td>16.23</td>\n",
              "      <td>227.22</td>\n",
              "      <td>2014-01-04 22:14:32</td>\n",
              "    </tr>\n",
              "  </tbody>\n",
              "</table>\n",
              "</div>"
            ],
            "text/plain": [
              "    account number                          name  ... ext price                date\n",
              "0           740150                    Barton LLC  ...   3380.91 2014-01-01 07:21:51\n",
              "2           218895                     Kulas Inc  ...   2086.10 2014-01-01 13:24:58\n",
              "6           218895                     Kulas Inc  ...     62.20 2014-01-02 10:57:23\n",
              "14          737550  Fritsch, Russel and Anderson  ...   1645.88 2014-01-04 08:57:48\n",
              "17          239344                    Stokes LLC  ...    227.22 2014-01-04 22:14:32\n",
              "\n",
              "[5 rows x 7 columns]"
            ]
          },
          "metadata": {
            "tags": []
          },
          "execution_count": 27
        }
      ]
    },
    {
      "cell_type": "markdown",
      "metadata": {
        "id": "-m0jSGlVNkrF",
        "colab_type": "text"
      },
      "source": [
        "It’s easy to chain two or more statements together using the &."
      ]
    },
    {
      "cell_type": "code",
      "metadata": {
        "id": "ff8pPZU1NnVj",
        "colab_type": "code",
        "outputId": "234cefba-5dbb-4b1a-e89b-947782868690",
        "colab": {
          "base_uri": "https://localhost:8080/",
          "height": 0
        }
      },
      "source": [
        "df[df[\"sku\"].map(lambda x: x.startswith('B1')) & (df[\"quantity\"] > 22)].head()\n"
      ],
      "execution_count": 28,
      "outputs": [
        {
          "output_type": "execute_result",
          "data": {
            "text/html": [
              "<div>\n",
              "<style scoped>\n",
              "    .dataframe tbody tr th:only-of-type {\n",
              "        vertical-align: middle;\n",
              "    }\n",
              "\n",
              "    .dataframe tbody tr th {\n",
              "        vertical-align: top;\n",
              "    }\n",
              "\n",
              "    .dataframe thead th {\n",
              "        text-align: right;\n",
              "    }\n",
              "</style>\n",
              "<table border=\"1\" class=\"dataframe\">\n",
              "  <thead>\n",
              "    <tr style=\"text-align: right;\">\n",
              "      <th></th>\n",
              "      <th>account number</th>\n",
              "      <th>name</th>\n",
              "      <th>sku</th>\n",
              "      <th>quantity</th>\n",
              "      <th>unit price</th>\n",
              "      <th>ext price</th>\n",
              "      <th>date</th>\n",
              "    </tr>\n",
              "  </thead>\n",
              "  <tbody>\n",
              "    <tr>\n",
              "      <th>0</th>\n",
              "      <td>740150</td>\n",
              "      <td>Barton LLC</td>\n",
              "      <td>B1-20000</td>\n",
              "      <td>39</td>\n",
              "      <td>86.69</td>\n",
              "      <td>3380.91</td>\n",
              "      <td>2014-01-01 07:21:51</td>\n",
              "    </tr>\n",
              "    <tr>\n",
              "      <th>2</th>\n",
              "      <td>218895</td>\n",
              "      <td>Kulas Inc</td>\n",
              "      <td>B1-69924</td>\n",
              "      <td>23</td>\n",
              "      <td>90.70</td>\n",
              "      <td>2086.10</td>\n",
              "      <td>2014-01-01 13:24:58</td>\n",
              "    </tr>\n",
              "    <tr>\n",
              "      <th>14</th>\n",
              "      <td>737550</td>\n",
              "      <td>Fritsch, Russel and Anderson</td>\n",
              "      <td>B1-53102</td>\n",
              "      <td>23</td>\n",
              "      <td>71.56</td>\n",
              "      <td>1645.88</td>\n",
              "      <td>2014-01-04 08:57:48</td>\n",
              "    </tr>\n",
              "    <tr>\n",
              "      <th>26</th>\n",
              "      <td>737550</td>\n",
              "      <td>Fritsch, Russel and Anderson</td>\n",
              "      <td>B1-53636</td>\n",
              "      <td>42</td>\n",
              "      <td>42.06</td>\n",
              "      <td>1766.52</td>\n",
              "      <td>2014-01-08 00:02:11</td>\n",
              "    </tr>\n",
              "    <tr>\n",
              "      <th>31</th>\n",
              "      <td>714466</td>\n",
              "      <td>Trantow-Barrows</td>\n",
              "      <td>B1-33087</td>\n",
              "      <td>32</td>\n",
              "      <td>19.56</td>\n",
              "      <td>625.92</td>\n",
              "      <td>2014-01-09 10:16:32</td>\n",
              "    </tr>\n",
              "  </tbody>\n",
              "</table>\n",
              "</div>"
            ],
            "text/plain": [
              "    account number                          name  ... ext price                date\n",
              "0           740150                    Barton LLC  ...   3380.91 2014-01-01 07:21:51\n",
              "2           218895                     Kulas Inc  ...   2086.10 2014-01-01 13:24:58\n",
              "14          737550  Fritsch, Russel and Anderson  ...   1645.88 2014-01-04 08:57:48\n",
              "26          737550  Fritsch, Russel and Anderson  ...   1766.52 2014-01-08 00:02:11\n",
              "31          714466               Trantow-Barrows  ...    625.92 2014-01-09 10:16:32\n",
              "\n",
              "[5 rows x 7 columns]"
            ]
          },
          "metadata": {
            "tags": []
          },
          "execution_count": 28
        }
      ]
    },
    {
      "cell_type": "markdown",
      "metadata": {
        "id": "9lDa5smsNqKA",
        "colab_type": "text"
      },
      "source": [
        "Another useful function that pandas supports is called isin . It allows us to define a list of values we want to look for.\n",
        "\n",
        "In this case, we look for all records that include two specific account numbers."
      ]
    },
    {
      "cell_type": "code",
      "metadata": {
        "id": "5POeQ6oeNtNJ",
        "colab_type": "code",
        "outputId": "c2bf620a-91cd-455b-a98a-0ed9813e5283",
        "colab": {
          "base_uri": "https://localhost:8080/",
          "height": 0
        }
      },
      "source": [
        "df[df[\"account number\"].isin([714466,218895])].head()"
      ],
      "execution_count": 29,
      "outputs": [
        {
          "output_type": "execute_result",
          "data": {
            "text/html": [
              "<div>\n",
              "<style scoped>\n",
              "    .dataframe tbody tr th:only-of-type {\n",
              "        vertical-align: middle;\n",
              "    }\n",
              "\n",
              "    .dataframe tbody tr th {\n",
              "        vertical-align: top;\n",
              "    }\n",
              "\n",
              "    .dataframe thead th {\n",
              "        text-align: right;\n",
              "    }\n",
              "</style>\n",
              "<table border=\"1\" class=\"dataframe\">\n",
              "  <thead>\n",
              "    <tr style=\"text-align: right;\">\n",
              "      <th></th>\n",
              "      <th>account number</th>\n",
              "      <th>name</th>\n",
              "      <th>sku</th>\n",
              "      <th>quantity</th>\n",
              "      <th>unit price</th>\n",
              "      <th>ext price</th>\n",
              "      <th>date</th>\n",
              "    </tr>\n",
              "  </thead>\n",
              "  <tbody>\n",
              "    <tr>\n",
              "      <th>1</th>\n",
              "      <td>714466</td>\n",
              "      <td>Trantow-Barrows</td>\n",
              "      <td>S2-77896</td>\n",
              "      <td>-1</td>\n",
              "      <td>63.16</td>\n",
              "      <td>-63.16</td>\n",
              "      <td>2014-01-01 10:00:47</td>\n",
              "    </tr>\n",
              "    <tr>\n",
              "      <th>2</th>\n",
              "      <td>218895</td>\n",
              "      <td>Kulas Inc</td>\n",
              "      <td>B1-69924</td>\n",
              "      <td>23</td>\n",
              "      <td>90.70</td>\n",
              "      <td>2086.10</td>\n",
              "      <td>2014-01-01 13:24:58</td>\n",
              "    </tr>\n",
              "    <tr>\n",
              "      <th>5</th>\n",
              "      <td>714466</td>\n",
              "      <td>Trantow-Barrows</td>\n",
              "      <td>S2-77896</td>\n",
              "      <td>17</td>\n",
              "      <td>87.63</td>\n",
              "      <td>1489.71</td>\n",
              "      <td>2014-01-02 10:07:15</td>\n",
              "    </tr>\n",
              "    <tr>\n",
              "      <th>6</th>\n",
              "      <td>218895</td>\n",
              "      <td>Kulas Inc</td>\n",
              "      <td>B1-65551</td>\n",
              "      <td>2</td>\n",
              "      <td>31.10</td>\n",
              "      <td>62.20</td>\n",
              "      <td>2014-01-02 10:57:23</td>\n",
              "    </tr>\n",
              "    <tr>\n",
              "      <th>8</th>\n",
              "      <td>714466</td>\n",
              "      <td>Trantow-Barrows</td>\n",
              "      <td>S1-50961</td>\n",
              "      <td>22</td>\n",
              "      <td>84.09</td>\n",
              "      <td>1849.98</td>\n",
              "      <td>2014-01-03 11:29:02</td>\n",
              "    </tr>\n",
              "  </tbody>\n",
              "</table>\n",
              "</div>"
            ],
            "text/plain": [
              "   account number             name  ... ext price                date\n",
              "1          714466  Trantow-Barrows  ...    -63.16 2014-01-01 10:00:47\n",
              "2          218895        Kulas Inc  ...   2086.10 2014-01-01 13:24:58\n",
              "5          714466  Trantow-Barrows  ...   1489.71 2014-01-02 10:07:15\n",
              "6          218895        Kulas Inc  ...     62.20 2014-01-02 10:57:23\n",
              "8          714466  Trantow-Barrows  ...   1849.98 2014-01-03 11:29:02\n",
              "\n",
              "[5 rows x 7 columns]"
            ]
          },
          "metadata": {
            "tags": []
          },
          "execution_count": 29
        }
      ]
    },
    {
      "cell_type": "markdown",
      "metadata": {
        "id": "RV7oj28GNv9k",
        "colab_type": "text"
      },
      "source": [
        "Pandas supports another function called query which allows you to efficiently select subsets of data. It does require the installation of numexpr so make sure you have it installed before trying this step.\n",
        "\n",
        "If you would like to get a list of customers by name, you can do that with a query, similar to the python syntax shown above."
      ]
    },
    {
      "cell_type": "code",
      "metadata": {
        "id": "PMwDwCFmN89c",
        "colab_type": "code",
        "outputId": "19e40978-2238-471f-995f-91598f0ca4ee",
        "colab": {
          "base_uri": "https://localhost:8080/",
          "height": 0
        }
      },
      "source": [
        "!pip install numexpr"
      ],
      "execution_count": 30,
      "outputs": [
        {
          "output_type": "stream",
          "text": [
            "Requirement already satisfied: numexpr in /usr/local/lib/python3.6/dist-packages (2.7.1)\n",
            "Requirement already satisfied: numpy>=1.7 in /usr/local/lib/python3.6/dist-packages (from numexpr) (1.17.5)\n"
          ],
          "name": "stdout"
        }
      ]
    },
    {
      "cell_type": "code",
      "metadata": {
        "id": "-kJ5TbKhNygY",
        "colab_type": "code",
        "outputId": "5815f56a-3bac-447a-a1db-6991c0fedd6b",
        "colab": {
          "base_uri": "https://localhost:8080/",
          "height": 0
        }
      },
      "source": [
        "df.query('name == [\"Kulas Inc\",\"Barton LLC\"]').head()"
      ],
      "execution_count": 31,
      "outputs": [
        {
          "output_type": "execute_result",
          "data": {
            "text/html": [
              "<div>\n",
              "<style scoped>\n",
              "    .dataframe tbody tr th:only-of-type {\n",
              "        vertical-align: middle;\n",
              "    }\n",
              "\n",
              "    .dataframe tbody tr th {\n",
              "        vertical-align: top;\n",
              "    }\n",
              "\n",
              "    .dataframe thead th {\n",
              "        text-align: right;\n",
              "    }\n",
              "</style>\n",
              "<table border=\"1\" class=\"dataframe\">\n",
              "  <thead>\n",
              "    <tr style=\"text-align: right;\">\n",
              "      <th></th>\n",
              "      <th>account number</th>\n",
              "      <th>name</th>\n",
              "      <th>sku</th>\n",
              "      <th>quantity</th>\n",
              "      <th>unit price</th>\n",
              "      <th>ext price</th>\n",
              "      <th>date</th>\n",
              "    </tr>\n",
              "  </thead>\n",
              "  <tbody>\n",
              "    <tr>\n",
              "      <th>0</th>\n",
              "      <td>740150</td>\n",
              "      <td>Barton LLC</td>\n",
              "      <td>B1-20000</td>\n",
              "      <td>39</td>\n",
              "      <td>86.69</td>\n",
              "      <td>3380.91</td>\n",
              "      <td>2014-01-01 07:21:51</td>\n",
              "    </tr>\n",
              "    <tr>\n",
              "      <th>2</th>\n",
              "      <td>218895</td>\n",
              "      <td>Kulas Inc</td>\n",
              "      <td>B1-69924</td>\n",
              "      <td>23</td>\n",
              "      <td>90.70</td>\n",
              "      <td>2086.10</td>\n",
              "      <td>2014-01-01 13:24:58</td>\n",
              "    </tr>\n",
              "    <tr>\n",
              "      <th>6</th>\n",
              "      <td>218895</td>\n",
              "      <td>Kulas Inc</td>\n",
              "      <td>B1-65551</td>\n",
              "      <td>2</td>\n",
              "      <td>31.10</td>\n",
              "      <td>62.20</td>\n",
              "      <td>2014-01-02 10:57:23</td>\n",
              "    </tr>\n",
              "    <tr>\n",
              "      <th>33</th>\n",
              "      <td>218895</td>\n",
              "      <td>Kulas Inc</td>\n",
              "      <td>S1-06532</td>\n",
              "      <td>3</td>\n",
              "      <td>22.36</td>\n",
              "      <td>67.08</td>\n",
              "      <td>2014-01-09 23:58:27</td>\n",
              "    </tr>\n",
              "    <tr>\n",
              "      <th>36</th>\n",
              "      <td>218895</td>\n",
              "      <td>Kulas Inc</td>\n",
              "      <td>S2-34077</td>\n",
              "      <td>16</td>\n",
              "      <td>73.04</td>\n",
              "      <td>1168.64</td>\n",
              "      <td>2014-01-10 12:07:30</td>\n",
              "    </tr>\n",
              "  </tbody>\n",
              "</table>\n",
              "</div>"
            ],
            "text/plain": [
              "    account number        name  ... ext price                date\n",
              "0           740150  Barton LLC  ...   3380.91 2014-01-01 07:21:51\n",
              "2           218895   Kulas Inc  ...   2086.10 2014-01-01 13:24:58\n",
              "6           218895   Kulas Inc  ...     62.20 2014-01-02 10:57:23\n",
              "33          218895   Kulas Inc  ...     67.08 2014-01-09 23:58:27\n",
              "36          218895   Kulas Inc  ...   1168.64 2014-01-10 12:07:30\n",
              "\n",
              "[5 rows x 7 columns]"
            ]
          },
          "metadata": {
            "tags": []
          },
          "execution_count": 31
        }
      ]
    },
    {
      "cell_type": "markdown",
      "metadata": {
        "id": "kDWMNOgWOFP2",
        "colab_type": "text"
      },
      "source": [
        "The query function allows you do more than just this simple example but for the purposes of this discussion, I’m showing it so you are aware that it is out there for your needs."
      ]
    },
    {
      "cell_type": "markdown",
      "metadata": {
        "id": "x63M2kPLOHE0",
        "colab_type": "text"
      },
      "source": [
        "#### Working with Dates"
      ]
    },
    {
      "cell_type": "markdown",
      "metadata": {
        "id": "8LbYb12WOJrB",
        "colab_type": "text"
      },
      "source": [
        "Using pandas, you can do complex filtering on dates. Before doing anything with dates, I encourage you to sort by the date column to make sure the results return what you are expecting."
      ]
    },
    {
      "cell_type": "code",
      "metadata": {
        "id": "oPsB8-VsOMll",
        "colab_type": "code",
        "outputId": "eba85801-0398-4516-f95e-4e71199ad3e7",
        "colab": {
          "base_uri": "https://localhost:8080/",
          "height": 0
        }
      },
      "source": [
        "df = df.sort_values('date')\n",
        "df.head()"
      ],
      "execution_count": 32,
      "outputs": [
        {
          "output_type": "execute_result",
          "data": {
            "text/html": [
              "<div>\n",
              "<style scoped>\n",
              "    .dataframe tbody tr th:only-of-type {\n",
              "        vertical-align: middle;\n",
              "    }\n",
              "\n",
              "    .dataframe tbody tr th {\n",
              "        vertical-align: top;\n",
              "    }\n",
              "\n",
              "    .dataframe thead th {\n",
              "        text-align: right;\n",
              "    }\n",
              "</style>\n",
              "<table border=\"1\" class=\"dataframe\">\n",
              "  <thead>\n",
              "    <tr style=\"text-align: right;\">\n",
              "      <th></th>\n",
              "      <th>account number</th>\n",
              "      <th>name</th>\n",
              "      <th>sku</th>\n",
              "      <th>quantity</th>\n",
              "      <th>unit price</th>\n",
              "      <th>ext price</th>\n",
              "      <th>date</th>\n",
              "    </tr>\n",
              "  </thead>\n",
              "  <tbody>\n",
              "    <tr>\n",
              "      <th>0</th>\n",
              "      <td>740150</td>\n",
              "      <td>Barton LLC</td>\n",
              "      <td>B1-20000</td>\n",
              "      <td>39</td>\n",
              "      <td>86.69</td>\n",
              "      <td>3380.91</td>\n",
              "      <td>2014-01-01 07:21:51</td>\n",
              "    </tr>\n",
              "    <tr>\n",
              "      <th>1</th>\n",
              "      <td>714466</td>\n",
              "      <td>Trantow-Barrows</td>\n",
              "      <td>S2-77896</td>\n",
              "      <td>-1</td>\n",
              "      <td>63.16</td>\n",
              "      <td>-63.16</td>\n",
              "      <td>2014-01-01 10:00:47</td>\n",
              "    </tr>\n",
              "    <tr>\n",
              "      <th>2</th>\n",
              "      <td>218895</td>\n",
              "      <td>Kulas Inc</td>\n",
              "      <td>B1-69924</td>\n",
              "      <td>23</td>\n",
              "      <td>90.70</td>\n",
              "      <td>2086.10</td>\n",
              "      <td>2014-01-01 13:24:58</td>\n",
              "    </tr>\n",
              "    <tr>\n",
              "      <th>3</th>\n",
              "      <td>307599</td>\n",
              "      <td>Kassulke, Ondricka and Metz</td>\n",
              "      <td>S1-65481</td>\n",
              "      <td>41</td>\n",
              "      <td>21.05</td>\n",
              "      <td>863.05</td>\n",
              "      <td>2014-01-01 15:05:22</td>\n",
              "    </tr>\n",
              "    <tr>\n",
              "      <th>4</th>\n",
              "      <td>412290</td>\n",
              "      <td>Jerde-Hilpert</td>\n",
              "      <td>S2-34077</td>\n",
              "      <td>6</td>\n",
              "      <td>83.21</td>\n",
              "      <td>499.26</td>\n",
              "      <td>2014-01-01 23:26:55</td>\n",
              "    </tr>\n",
              "  </tbody>\n",
              "</table>\n",
              "</div>"
            ],
            "text/plain": [
              "   account number                         name  ... ext price                date\n",
              "0          740150                   Barton LLC  ...   3380.91 2014-01-01 07:21:51\n",
              "1          714466              Trantow-Barrows  ...    -63.16 2014-01-01 10:00:47\n",
              "2          218895                    Kulas Inc  ...   2086.10 2014-01-01 13:24:58\n",
              "3          307599  Kassulke, Ondricka and Metz  ...    863.05 2014-01-01 15:05:22\n",
              "4          412290                Jerde-Hilpert  ...    499.26 2014-01-01 23:26:55\n",
              "\n",
              "[5 rows x 7 columns]"
            ]
          },
          "metadata": {
            "tags": []
          },
          "execution_count": 32
        }
      ]
    },
    {
      "cell_type": "markdown",
      "metadata": {
        "id": "MKgHBq7vOVCV",
        "colab_type": "text"
      },
      "source": [
        "The python filtering syntax shown before works with dates."
      ]
    },
    {
      "cell_type": "code",
      "metadata": {
        "id": "URB8fukrOXWd",
        "colab_type": "code",
        "outputId": "86e18067-1153-4968-f86c-d0a0928b64a0",
        "colab": {
          "base_uri": "https://localhost:8080/",
          "height": 0
        }
      },
      "source": [
        "df[df['date'] >='20140905'].head()"
      ],
      "execution_count": 33,
      "outputs": [
        {
          "output_type": "execute_result",
          "data": {
            "text/html": [
              "<div>\n",
              "<style scoped>\n",
              "    .dataframe tbody tr th:only-of-type {\n",
              "        vertical-align: middle;\n",
              "    }\n",
              "\n",
              "    .dataframe tbody tr th {\n",
              "        vertical-align: top;\n",
              "    }\n",
              "\n",
              "    .dataframe thead th {\n",
              "        text-align: right;\n",
              "    }\n",
              "</style>\n",
              "<table border=\"1\" class=\"dataframe\">\n",
              "  <thead>\n",
              "    <tr style=\"text-align: right;\">\n",
              "      <th></th>\n",
              "      <th>account number</th>\n",
              "      <th>name</th>\n",
              "      <th>sku</th>\n",
              "      <th>quantity</th>\n",
              "      <th>unit price</th>\n",
              "      <th>ext price</th>\n",
              "      <th>date</th>\n",
              "    </tr>\n",
              "  </thead>\n",
              "  <tbody>\n",
              "    <tr>\n",
              "      <th>1042</th>\n",
              "      <td>163416</td>\n",
              "      <td>Purdy-Kunde</td>\n",
              "      <td>B1-38851</td>\n",
              "      <td>41</td>\n",
              "      <td>98.69</td>\n",
              "      <td>4046.29</td>\n",
              "      <td>2014-09-05 01:52:32</td>\n",
              "    </tr>\n",
              "    <tr>\n",
              "      <th>1043</th>\n",
              "      <td>714466</td>\n",
              "      <td>Trantow-Barrows</td>\n",
              "      <td>S1-30248</td>\n",
              "      <td>1</td>\n",
              "      <td>37.16</td>\n",
              "      <td>37.16</td>\n",
              "      <td>2014-09-05 06:17:19</td>\n",
              "    </tr>\n",
              "    <tr>\n",
              "      <th>1044</th>\n",
              "      <td>729833</td>\n",
              "      <td>Koepp Ltd</td>\n",
              "      <td>S1-65481</td>\n",
              "      <td>48</td>\n",
              "      <td>16.04</td>\n",
              "      <td>769.92</td>\n",
              "      <td>2014-09-05 08:54:41</td>\n",
              "    </tr>\n",
              "    <tr>\n",
              "      <th>1045</th>\n",
              "      <td>729833</td>\n",
              "      <td>Koepp Ltd</td>\n",
              "      <td>S2-11481</td>\n",
              "      <td>6</td>\n",
              "      <td>26.50</td>\n",
              "      <td>159.00</td>\n",
              "      <td>2014-09-05 16:33:15</td>\n",
              "    </tr>\n",
              "    <tr>\n",
              "      <th>1046</th>\n",
              "      <td>737550</td>\n",
              "      <td>Fritsch, Russel and Anderson</td>\n",
              "      <td>B1-33364</td>\n",
              "      <td>4</td>\n",
              "      <td>76.44</td>\n",
              "      <td>305.76</td>\n",
              "      <td>2014-09-06 08:59:08</td>\n",
              "    </tr>\n",
              "  </tbody>\n",
              "</table>\n",
              "</div>"
            ],
            "text/plain": [
              "      account number  ...                date\n",
              "1042          163416  ... 2014-09-05 01:52:32\n",
              "1043          714466  ... 2014-09-05 06:17:19\n",
              "1044          729833  ... 2014-09-05 08:54:41\n",
              "1045          729833  ... 2014-09-05 16:33:15\n",
              "1046          737550  ... 2014-09-06 08:59:08\n",
              "\n",
              "[5 rows x 7 columns]"
            ]
          },
          "metadata": {
            "tags": []
          },
          "execution_count": 33
        }
      ]
    },
    {
      "cell_type": "markdown",
      "metadata": {
        "id": "7gEyETZlOakg",
        "colab_type": "text"
      },
      "source": [
        "One of the really nice features of pandas is that it understands dates so it will allow us to do partial filtering. If we want to only look for data more recent than a specific month, we can do so."
      ]
    },
    {
      "cell_type": "code",
      "metadata": {
        "id": "8pqlHoJoOdAJ",
        "colab_type": "code",
        "outputId": "cd391e80-288d-410c-862e-5b55f00b1c97",
        "colab": {
          "base_uri": "https://localhost:8080/",
          "height": 0
        }
      },
      "source": [
        "df[df['date'] >='2014-03'].head()"
      ],
      "execution_count": 34,
      "outputs": [
        {
          "output_type": "execute_result",
          "data": {
            "text/html": [
              "<div>\n",
              "<style scoped>\n",
              "    .dataframe tbody tr th:only-of-type {\n",
              "        vertical-align: middle;\n",
              "    }\n",
              "\n",
              "    .dataframe tbody tr th {\n",
              "        vertical-align: top;\n",
              "    }\n",
              "\n",
              "    .dataframe thead th {\n",
              "        text-align: right;\n",
              "    }\n",
              "</style>\n",
              "<table border=\"1\" class=\"dataframe\">\n",
              "  <thead>\n",
              "    <tr style=\"text-align: right;\">\n",
              "      <th></th>\n",
              "      <th>account number</th>\n",
              "      <th>name</th>\n",
              "      <th>sku</th>\n",
              "      <th>quantity</th>\n",
              "      <th>unit price</th>\n",
              "      <th>ext price</th>\n",
              "      <th>date</th>\n",
              "    </tr>\n",
              "  </thead>\n",
              "  <tbody>\n",
              "    <tr>\n",
              "      <th>242</th>\n",
              "      <td>163416</td>\n",
              "      <td>Purdy-Kunde</td>\n",
              "      <td>S1-30248</td>\n",
              "      <td>19</td>\n",
              "      <td>65.03</td>\n",
              "      <td>1235.57</td>\n",
              "      <td>2014-03-01 16:07:40</td>\n",
              "    </tr>\n",
              "    <tr>\n",
              "      <th>243</th>\n",
              "      <td>527099</td>\n",
              "      <td>Sanford and Sons</td>\n",
              "      <td>S2-82423</td>\n",
              "      <td>3</td>\n",
              "      <td>76.21</td>\n",
              "      <td>228.63</td>\n",
              "      <td>2014-03-01 17:18:01</td>\n",
              "    </tr>\n",
              "    <tr>\n",
              "      <th>244</th>\n",
              "      <td>527099</td>\n",
              "      <td>Sanford and Sons</td>\n",
              "      <td>B1-50809</td>\n",
              "      <td>8</td>\n",
              "      <td>70.78</td>\n",
              "      <td>566.24</td>\n",
              "      <td>2014-03-01 18:53:09</td>\n",
              "    </tr>\n",
              "    <tr>\n",
              "      <th>245</th>\n",
              "      <td>737550</td>\n",
              "      <td>Fritsch, Russel and Anderson</td>\n",
              "      <td>B1-50809</td>\n",
              "      <td>20</td>\n",
              "      <td>50.11</td>\n",
              "      <td>1002.20</td>\n",
              "      <td>2014-03-01 23:47:17</td>\n",
              "    </tr>\n",
              "    <tr>\n",
              "      <th>246</th>\n",
              "      <td>688981</td>\n",
              "      <td>Keeling LLC</td>\n",
              "      <td>B1-86481</td>\n",
              "      <td>-1</td>\n",
              "      <td>97.16</td>\n",
              "      <td>-97.16</td>\n",
              "      <td>2014-03-02 01:46:44</td>\n",
              "    </tr>\n",
              "  </tbody>\n",
              "</table>\n",
              "</div>"
            ],
            "text/plain": [
              "     account number  ...                date\n",
              "242          163416  ... 2014-03-01 16:07:40\n",
              "243          527099  ... 2014-03-01 17:18:01\n",
              "244          527099  ... 2014-03-01 18:53:09\n",
              "245          737550  ... 2014-03-01 23:47:17\n",
              "246          688981  ... 2014-03-02 01:46:44\n",
              "\n",
              "[5 rows x 7 columns]"
            ]
          },
          "metadata": {
            "tags": []
          },
          "execution_count": 34
        }
      ]
    },
    {
      "cell_type": "markdown",
      "metadata": {
        "id": "sjIIB0zDOfV0",
        "colab_type": "text"
      },
      "source": [
        "Of course, you can chain the criteria."
      ]
    },
    {
      "cell_type": "code",
      "metadata": {
        "id": "jaEGo3NjOhqo",
        "colab_type": "code",
        "outputId": "1bdd86b4-6839-4475-83f9-7758304cd7a3",
        "colab": {
          "base_uri": "https://localhost:8080/",
          "height": 0
        }
      },
      "source": [
        "df[(df['date'] >='20140701') & (df['date'] <= '20140715')].head()"
      ],
      "execution_count": 35,
      "outputs": [
        {
          "output_type": "execute_result",
          "data": {
            "text/html": [
              "<div>\n",
              "<style scoped>\n",
              "    .dataframe tbody tr th:only-of-type {\n",
              "        vertical-align: middle;\n",
              "    }\n",
              "\n",
              "    .dataframe tbody tr th {\n",
              "        vertical-align: top;\n",
              "    }\n",
              "\n",
              "    .dataframe thead th {\n",
              "        text-align: right;\n",
              "    }\n",
              "</style>\n",
              "<table border=\"1\" class=\"dataframe\">\n",
              "  <thead>\n",
              "    <tr style=\"text-align: right;\">\n",
              "      <th></th>\n",
              "      <th>account number</th>\n",
              "      <th>name</th>\n",
              "      <th>sku</th>\n",
              "      <th>quantity</th>\n",
              "      <th>unit price</th>\n",
              "      <th>ext price</th>\n",
              "      <th>date</th>\n",
              "    </tr>\n",
              "  </thead>\n",
              "  <tbody>\n",
              "    <tr>\n",
              "      <th>778</th>\n",
              "      <td>737550</td>\n",
              "      <td>Fritsch, Russel and Anderson</td>\n",
              "      <td>S1-65481</td>\n",
              "      <td>35</td>\n",
              "      <td>70.51</td>\n",
              "      <td>2467.85</td>\n",
              "      <td>2014-07-01 00:21:58</td>\n",
              "    </tr>\n",
              "    <tr>\n",
              "      <th>779</th>\n",
              "      <td>218895</td>\n",
              "      <td>Kulas Inc</td>\n",
              "      <td>S1-30248</td>\n",
              "      <td>9</td>\n",
              "      <td>16.56</td>\n",
              "      <td>149.04</td>\n",
              "      <td>2014-07-01 00:52:38</td>\n",
              "    </tr>\n",
              "    <tr>\n",
              "      <th>780</th>\n",
              "      <td>163416</td>\n",
              "      <td>Purdy-Kunde</td>\n",
              "      <td>S2-82423</td>\n",
              "      <td>44</td>\n",
              "      <td>68.27</td>\n",
              "      <td>3003.88</td>\n",
              "      <td>2014-07-01 08:15:52</td>\n",
              "    </tr>\n",
              "    <tr>\n",
              "      <th>781</th>\n",
              "      <td>672390</td>\n",
              "      <td>Kuhn-Gusikowski</td>\n",
              "      <td>B1-04202</td>\n",
              "      <td>48</td>\n",
              "      <td>99.39</td>\n",
              "      <td>4770.72</td>\n",
              "      <td>2014-07-01 11:12:13</td>\n",
              "    </tr>\n",
              "    <tr>\n",
              "      <th>782</th>\n",
              "      <td>642753</td>\n",
              "      <td>Pollich LLC</td>\n",
              "      <td>S2-23246</td>\n",
              "      <td>1</td>\n",
              "      <td>51.29</td>\n",
              "      <td>51.29</td>\n",
              "      <td>2014-07-02 04:02:39</td>\n",
              "    </tr>\n",
              "  </tbody>\n",
              "</table>\n",
              "</div>"
            ],
            "text/plain": [
              "     account number  ...                date\n",
              "778          737550  ... 2014-07-01 00:21:58\n",
              "779          218895  ... 2014-07-01 00:52:38\n",
              "780          163416  ... 2014-07-01 08:15:52\n",
              "781          672390  ... 2014-07-01 11:12:13\n",
              "782          642753  ... 2014-07-02 04:02:39\n",
              "\n",
              "[5 rows x 7 columns]"
            ]
          },
          "metadata": {
            "tags": []
          },
          "execution_count": 35
        }
      ]
    },
    {
      "cell_type": "markdown",
      "metadata": {
        "id": "bgTqHS4COju8",
        "colab_type": "text"
      },
      "source": [
        "Because pandas understands date columns, you can express the date value in multiple formats and it will give you the results you expect."
      ]
    },
    {
      "cell_type": "code",
      "metadata": {
        "id": "xGKYF5rYOmf3",
        "colab_type": "code",
        "outputId": "1867dac3-5a27-4980-d103-820c6e7b7725",
        "colab": {
          "base_uri": "https://localhost:8080/",
          "height": 0
        }
      },
      "source": [
        "df[df['date'] >= 'Oct-2014'].head()"
      ],
      "execution_count": 36,
      "outputs": [
        {
          "output_type": "execute_result",
          "data": {
            "text/html": [
              "<div>\n",
              "<style scoped>\n",
              "    .dataframe tbody tr th:only-of-type {\n",
              "        vertical-align: middle;\n",
              "    }\n",
              "\n",
              "    .dataframe tbody tr th {\n",
              "        vertical-align: top;\n",
              "    }\n",
              "\n",
              "    .dataframe thead th {\n",
              "        text-align: right;\n",
              "    }\n",
              "</style>\n",
              "<table border=\"1\" class=\"dataframe\">\n",
              "  <thead>\n",
              "    <tr style=\"text-align: right;\">\n",
              "      <th></th>\n",
              "      <th>account number</th>\n",
              "      <th>name</th>\n",
              "      <th>sku</th>\n",
              "      <th>quantity</th>\n",
              "      <th>unit price</th>\n",
              "      <th>ext price</th>\n",
              "      <th>date</th>\n",
              "    </tr>\n",
              "  </thead>\n",
              "  <tbody>\n",
              "    <tr>\n",
              "      <th>1141</th>\n",
              "      <td>307599</td>\n",
              "      <td>Kassulke, Ondricka and Metz</td>\n",
              "      <td>B1-50809</td>\n",
              "      <td>25</td>\n",
              "      <td>56.63</td>\n",
              "      <td>1415.75</td>\n",
              "      <td>2014-10-01 10:56:32</td>\n",
              "    </tr>\n",
              "    <tr>\n",
              "      <th>1142</th>\n",
              "      <td>737550</td>\n",
              "      <td>Fritsch, Russel and Anderson</td>\n",
              "      <td>S2-82423</td>\n",
              "      <td>38</td>\n",
              "      <td>45.17</td>\n",
              "      <td>1716.46</td>\n",
              "      <td>2014-10-01 16:17:24</td>\n",
              "    </tr>\n",
              "    <tr>\n",
              "      <th>1143</th>\n",
              "      <td>737550</td>\n",
              "      <td>Fritsch, Russel and Anderson</td>\n",
              "      <td>S1-47412</td>\n",
              "      <td>6</td>\n",
              "      <td>68.68</td>\n",
              "      <td>412.08</td>\n",
              "      <td>2014-10-01 22:28:49</td>\n",
              "    </tr>\n",
              "    <tr>\n",
              "      <th>1144</th>\n",
              "      <td>146832</td>\n",
              "      <td>Kiehn-Spinka</td>\n",
              "      <td>S2-11481</td>\n",
              "      <td>13</td>\n",
              "      <td>18.80</td>\n",
              "      <td>244.40</td>\n",
              "      <td>2014-10-02 00:31:01</td>\n",
              "    </tr>\n",
              "    <tr>\n",
              "      <th>1145</th>\n",
              "      <td>424914</td>\n",
              "      <td>White-Trantow</td>\n",
              "      <td>B1-53102</td>\n",
              "      <td>9</td>\n",
              "      <td>94.47</td>\n",
              "      <td>850.23</td>\n",
              "      <td>2014-10-02 02:48:26</td>\n",
              "    </tr>\n",
              "  </tbody>\n",
              "</table>\n",
              "</div>"
            ],
            "text/plain": [
              "      account number  ...                date\n",
              "1141          307599  ... 2014-10-01 10:56:32\n",
              "1142          737550  ... 2014-10-01 16:17:24\n",
              "1143          737550  ... 2014-10-01 22:28:49\n",
              "1144          146832  ... 2014-10-02 00:31:01\n",
              "1145          424914  ... 2014-10-02 02:48:26\n",
              "\n",
              "[5 rows x 7 columns]"
            ]
          },
          "metadata": {
            "tags": []
          },
          "execution_count": 36
        }
      ]
    },
    {
      "cell_type": "code",
      "metadata": {
        "id": "gOqYK8RhOsmB",
        "colab_type": "code",
        "outputId": "99783f14-6988-4685-9e93-dbea10b5c5e8",
        "colab": {
          "base_uri": "https://localhost:8080/",
          "height": 0
        }
      },
      "source": [
        "df[df['date'] >= '10-10-2014'].head()"
      ],
      "execution_count": 37,
      "outputs": [
        {
          "output_type": "execute_result",
          "data": {
            "text/html": [
              "<div>\n",
              "<style scoped>\n",
              "    .dataframe tbody tr th:only-of-type {\n",
              "        vertical-align: middle;\n",
              "    }\n",
              "\n",
              "    .dataframe tbody tr th {\n",
              "        vertical-align: top;\n",
              "    }\n",
              "\n",
              "    .dataframe thead th {\n",
              "        text-align: right;\n",
              "    }\n",
              "</style>\n",
              "<table border=\"1\" class=\"dataframe\">\n",
              "  <thead>\n",
              "    <tr style=\"text-align: right;\">\n",
              "      <th></th>\n",
              "      <th>account number</th>\n",
              "      <th>name</th>\n",
              "      <th>sku</th>\n",
              "      <th>quantity</th>\n",
              "      <th>unit price</th>\n",
              "      <th>ext price</th>\n",
              "      <th>date</th>\n",
              "    </tr>\n",
              "  </thead>\n",
              "  <tbody>\n",
              "    <tr>\n",
              "      <th>1174</th>\n",
              "      <td>257198</td>\n",
              "      <td>Cronin, Oberbrunner and Spencer</td>\n",
              "      <td>S2-34077</td>\n",
              "      <td>13</td>\n",
              "      <td>12.24</td>\n",
              "      <td>159.12</td>\n",
              "      <td>2014-10-10 02:59:06</td>\n",
              "    </tr>\n",
              "    <tr>\n",
              "      <th>1175</th>\n",
              "      <td>740150</td>\n",
              "      <td>Barton LLC</td>\n",
              "      <td>S1-65481</td>\n",
              "      <td>28</td>\n",
              "      <td>53.00</td>\n",
              "      <td>1484.00</td>\n",
              "      <td>2014-10-10 15:08:53</td>\n",
              "    </tr>\n",
              "    <tr>\n",
              "      <th>1176</th>\n",
              "      <td>146832</td>\n",
              "      <td>Kiehn-Spinka</td>\n",
              "      <td>S1-27722</td>\n",
              "      <td>15</td>\n",
              "      <td>64.39</td>\n",
              "      <td>965.85</td>\n",
              "      <td>2014-10-10 18:24:01</td>\n",
              "    </tr>\n",
              "    <tr>\n",
              "      <th>1177</th>\n",
              "      <td>257198</td>\n",
              "      <td>Cronin, Oberbrunner and Spencer</td>\n",
              "      <td>S2-16558</td>\n",
              "      <td>3</td>\n",
              "      <td>35.34</td>\n",
              "      <td>106.02</td>\n",
              "      <td>2014-10-11 01:48:13</td>\n",
              "    </tr>\n",
              "    <tr>\n",
              "      <th>1178</th>\n",
              "      <td>737550</td>\n",
              "      <td>Fritsch, Russel and Anderson</td>\n",
              "      <td>B1-53636</td>\n",
              "      <td>10</td>\n",
              "      <td>56.95</td>\n",
              "      <td>569.50</td>\n",
              "      <td>2014-10-11 10:25:53</td>\n",
              "    </tr>\n",
              "  </tbody>\n",
              "</table>\n",
              "</div>"
            ],
            "text/plain": [
              "      account number  ...                date\n",
              "1174          257198  ... 2014-10-10 02:59:06\n",
              "1175          740150  ... 2014-10-10 15:08:53\n",
              "1176          146832  ... 2014-10-10 18:24:01\n",
              "1177          257198  ... 2014-10-11 01:48:13\n",
              "1178          737550  ... 2014-10-11 10:25:53\n",
              "\n",
              "[5 rows x 7 columns]"
            ]
          },
          "metadata": {
            "tags": []
          },
          "execution_count": 37
        }
      ]
    },
    {
      "cell_type": "markdown",
      "metadata": {
        "id": "uCLDqN4ROxm6",
        "colab_type": "text"
      },
      "source": [
        "When working with time series data, if we convert the data to use the date as as the index, we can do some more filtering variations.\n",
        "Set the new index using set_index ."
      ]
    },
    {
      "cell_type": "code",
      "metadata": {
        "id": "7WkOxa2aO11K",
        "colab_type": "code",
        "outputId": "d26a2da8-425d-4eba-d958-c5a55cb1c1e7",
        "colab": {
          "base_uri": "https://localhost:8080/",
          "height": 0
        }
      },
      "source": [
        "df2 = df.set_index(['date'])\n",
        "df2.head()"
      ],
      "execution_count": 38,
      "outputs": [
        {
          "output_type": "execute_result",
          "data": {
            "text/html": [
              "<div>\n",
              "<style scoped>\n",
              "    .dataframe tbody tr th:only-of-type {\n",
              "        vertical-align: middle;\n",
              "    }\n",
              "\n",
              "    .dataframe tbody tr th {\n",
              "        vertical-align: top;\n",
              "    }\n",
              "\n",
              "    .dataframe thead th {\n",
              "        text-align: right;\n",
              "    }\n",
              "</style>\n",
              "<table border=\"1\" class=\"dataframe\">\n",
              "  <thead>\n",
              "    <tr style=\"text-align: right;\">\n",
              "      <th></th>\n",
              "      <th>account number</th>\n",
              "      <th>name</th>\n",
              "      <th>sku</th>\n",
              "      <th>quantity</th>\n",
              "      <th>unit price</th>\n",
              "      <th>ext price</th>\n",
              "    </tr>\n",
              "    <tr>\n",
              "      <th>date</th>\n",
              "      <th></th>\n",
              "      <th></th>\n",
              "      <th></th>\n",
              "      <th></th>\n",
              "      <th></th>\n",
              "      <th></th>\n",
              "    </tr>\n",
              "  </thead>\n",
              "  <tbody>\n",
              "    <tr>\n",
              "      <th>2014-01-01 07:21:51</th>\n",
              "      <td>740150</td>\n",
              "      <td>Barton LLC</td>\n",
              "      <td>B1-20000</td>\n",
              "      <td>39</td>\n",
              "      <td>86.69</td>\n",
              "      <td>3380.91</td>\n",
              "    </tr>\n",
              "    <tr>\n",
              "      <th>2014-01-01 10:00:47</th>\n",
              "      <td>714466</td>\n",
              "      <td>Trantow-Barrows</td>\n",
              "      <td>S2-77896</td>\n",
              "      <td>-1</td>\n",
              "      <td>63.16</td>\n",
              "      <td>-63.16</td>\n",
              "    </tr>\n",
              "    <tr>\n",
              "      <th>2014-01-01 13:24:58</th>\n",
              "      <td>218895</td>\n",
              "      <td>Kulas Inc</td>\n",
              "      <td>B1-69924</td>\n",
              "      <td>23</td>\n",
              "      <td>90.70</td>\n",
              "      <td>2086.10</td>\n",
              "    </tr>\n",
              "    <tr>\n",
              "      <th>2014-01-01 15:05:22</th>\n",
              "      <td>307599</td>\n",
              "      <td>Kassulke, Ondricka and Metz</td>\n",
              "      <td>S1-65481</td>\n",
              "      <td>41</td>\n",
              "      <td>21.05</td>\n",
              "      <td>863.05</td>\n",
              "    </tr>\n",
              "    <tr>\n",
              "      <th>2014-01-01 23:26:55</th>\n",
              "      <td>412290</td>\n",
              "      <td>Jerde-Hilpert</td>\n",
              "      <td>S2-34077</td>\n",
              "      <td>6</td>\n",
              "      <td>83.21</td>\n",
              "      <td>499.26</td>\n",
              "    </tr>\n",
              "  </tbody>\n",
              "</table>\n",
              "</div>"
            ],
            "text/plain": [
              "                     account number  ... ext price\n",
              "date                                 ...          \n",
              "2014-01-01 07:21:51          740150  ...   3380.91\n",
              "2014-01-01 10:00:47          714466  ...    -63.16\n",
              "2014-01-01 13:24:58          218895  ...   2086.10\n",
              "2014-01-01 15:05:22          307599  ...    863.05\n",
              "2014-01-01 23:26:55          412290  ...    499.26\n",
              "\n",
              "[5 rows x 6 columns]"
            ]
          },
          "metadata": {
            "tags": []
          },
          "execution_count": 38
        }
      ]
    },
    {
      "cell_type": "markdown",
      "metadata": {
        "id": "MF_MQRMIO6Q4",
        "colab_type": "text"
      },
      "source": [
        "We can slice the data to get a range."
      ]
    },
    {
      "cell_type": "code",
      "metadata": {
        "id": "85GtHg3LO8I4",
        "colab_type": "code",
        "outputId": "fc88a5c5-692c-43e7-8fd5-9263af477a22",
        "colab": {
          "base_uri": "https://localhost:8080/",
          "height": 0
        }
      },
      "source": [
        "df2[\"20140101\":\"20140201\"].head()"
      ],
      "execution_count": 39,
      "outputs": [
        {
          "output_type": "execute_result",
          "data": {
            "text/html": [
              "<div>\n",
              "<style scoped>\n",
              "    .dataframe tbody tr th:only-of-type {\n",
              "        vertical-align: middle;\n",
              "    }\n",
              "\n",
              "    .dataframe tbody tr th {\n",
              "        vertical-align: top;\n",
              "    }\n",
              "\n",
              "    .dataframe thead th {\n",
              "        text-align: right;\n",
              "    }\n",
              "</style>\n",
              "<table border=\"1\" class=\"dataframe\">\n",
              "  <thead>\n",
              "    <tr style=\"text-align: right;\">\n",
              "      <th></th>\n",
              "      <th>account number</th>\n",
              "      <th>name</th>\n",
              "      <th>sku</th>\n",
              "      <th>quantity</th>\n",
              "      <th>unit price</th>\n",
              "      <th>ext price</th>\n",
              "    </tr>\n",
              "    <tr>\n",
              "      <th>date</th>\n",
              "      <th></th>\n",
              "      <th></th>\n",
              "      <th></th>\n",
              "      <th></th>\n",
              "      <th></th>\n",
              "      <th></th>\n",
              "    </tr>\n",
              "  </thead>\n",
              "  <tbody>\n",
              "    <tr>\n",
              "      <th>2014-01-01 07:21:51</th>\n",
              "      <td>740150</td>\n",
              "      <td>Barton LLC</td>\n",
              "      <td>B1-20000</td>\n",
              "      <td>39</td>\n",
              "      <td>86.69</td>\n",
              "      <td>3380.91</td>\n",
              "    </tr>\n",
              "    <tr>\n",
              "      <th>2014-01-01 10:00:47</th>\n",
              "      <td>714466</td>\n",
              "      <td>Trantow-Barrows</td>\n",
              "      <td>S2-77896</td>\n",
              "      <td>-1</td>\n",
              "      <td>63.16</td>\n",
              "      <td>-63.16</td>\n",
              "    </tr>\n",
              "    <tr>\n",
              "      <th>2014-01-01 13:24:58</th>\n",
              "      <td>218895</td>\n",
              "      <td>Kulas Inc</td>\n",
              "      <td>B1-69924</td>\n",
              "      <td>23</td>\n",
              "      <td>90.70</td>\n",
              "      <td>2086.10</td>\n",
              "    </tr>\n",
              "    <tr>\n",
              "      <th>2014-01-01 15:05:22</th>\n",
              "      <td>307599</td>\n",
              "      <td>Kassulke, Ondricka and Metz</td>\n",
              "      <td>S1-65481</td>\n",
              "      <td>41</td>\n",
              "      <td>21.05</td>\n",
              "      <td>863.05</td>\n",
              "    </tr>\n",
              "    <tr>\n",
              "      <th>2014-01-01 23:26:55</th>\n",
              "      <td>412290</td>\n",
              "      <td>Jerde-Hilpert</td>\n",
              "      <td>S2-34077</td>\n",
              "      <td>6</td>\n",
              "      <td>83.21</td>\n",
              "      <td>499.26</td>\n",
              "    </tr>\n",
              "  </tbody>\n",
              "</table>\n",
              "</div>"
            ],
            "text/plain": [
              "                     account number  ... ext price\n",
              "date                                 ...          \n",
              "2014-01-01 07:21:51          740150  ...   3380.91\n",
              "2014-01-01 10:00:47          714466  ...    -63.16\n",
              "2014-01-01 13:24:58          218895  ...   2086.10\n",
              "2014-01-01 15:05:22          307599  ...    863.05\n",
              "2014-01-01 23:26:55          412290  ...    499.26\n",
              "\n",
              "[5 rows x 6 columns]"
            ]
          },
          "metadata": {
            "tags": []
          },
          "execution_count": 39
        }
      ]
    },
    {
      "cell_type": "markdown",
      "metadata": {
        "id": "lzv96KKxPAPm",
        "colab_type": "text"
      },
      "source": [
        "Once again, we can use various date representations to remove any ambiguity around date naming conventions."
      ]
    },
    {
      "cell_type": "code",
      "metadata": {
        "id": "Q1poAUXvPCYf",
        "colab_type": "code",
        "outputId": "72b6f03c-2a97-4737-9222-277784cc93fb",
        "colab": {
          "base_uri": "https://localhost:8080/",
          "height": 0
        }
      },
      "source": [
        "df2[\"2014-Jan-1\":\"2014-Feb-1\"].head()"
      ],
      "execution_count": 40,
      "outputs": [
        {
          "output_type": "execute_result",
          "data": {
            "text/html": [
              "<div>\n",
              "<style scoped>\n",
              "    .dataframe tbody tr th:only-of-type {\n",
              "        vertical-align: middle;\n",
              "    }\n",
              "\n",
              "    .dataframe tbody tr th {\n",
              "        vertical-align: top;\n",
              "    }\n",
              "\n",
              "    .dataframe thead th {\n",
              "        text-align: right;\n",
              "    }\n",
              "</style>\n",
              "<table border=\"1\" class=\"dataframe\">\n",
              "  <thead>\n",
              "    <tr style=\"text-align: right;\">\n",
              "      <th></th>\n",
              "      <th>account number</th>\n",
              "      <th>name</th>\n",
              "      <th>sku</th>\n",
              "      <th>quantity</th>\n",
              "      <th>unit price</th>\n",
              "      <th>ext price</th>\n",
              "    </tr>\n",
              "    <tr>\n",
              "      <th>date</th>\n",
              "      <th></th>\n",
              "      <th></th>\n",
              "      <th></th>\n",
              "      <th></th>\n",
              "      <th></th>\n",
              "      <th></th>\n",
              "    </tr>\n",
              "  </thead>\n",
              "  <tbody>\n",
              "    <tr>\n",
              "      <th>2014-01-01 07:21:51</th>\n",
              "      <td>740150</td>\n",
              "      <td>Barton LLC</td>\n",
              "      <td>B1-20000</td>\n",
              "      <td>39</td>\n",
              "      <td>86.69</td>\n",
              "      <td>3380.91</td>\n",
              "    </tr>\n",
              "    <tr>\n",
              "      <th>2014-01-01 10:00:47</th>\n",
              "      <td>714466</td>\n",
              "      <td>Trantow-Barrows</td>\n",
              "      <td>S2-77896</td>\n",
              "      <td>-1</td>\n",
              "      <td>63.16</td>\n",
              "      <td>-63.16</td>\n",
              "    </tr>\n",
              "    <tr>\n",
              "      <th>2014-01-01 13:24:58</th>\n",
              "      <td>218895</td>\n",
              "      <td>Kulas Inc</td>\n",
              "      <td>B1-69924</td>\n",
              "      <td>23</td>\n",
              "      <td>90.70</td>\n",
              "      <td>2086.10</td>\n",
              "    </tr>\n",
              "    <tr>\n",
              "      <th>2014-01-01 15:05:22</th>\n",
              "      <td>307599</td>\n",
              "      <td>Kassulke, Ondricka and Metz</td>\n",
              "      <td>S1-65481</td>\n",
              "      <td>41</td>\n",
              "      <td>21.05</td>\n",
              "      <td>863.05</td>\n",
              "    </tr>\n",
              "    <tr>\n",
              "      <th>2014-01-01 23:26:55</th>\n",
              "      <td>412290</td>\n",
              "      <td>Jerde-Hilpert</td>\n",
              "      <td>S2-34077</td>\n",
              "      <td>6</td>\n",
              "      <td>83.21</td>\n",
              "      <td>499.26</td>\n",
              "    </tr>\n",
              "  </tbody>\n",
              "</table>\n",
              "</div>"
            ],
            "text/plain": [
              "                     account number  ... ext price\n",
              "date                                 ...          \n",
              "2014-01-01 07:21:51          740150  ...   3380.91\n",
              "2014-01-01 10:00:47          714466  ...    -63.16\n",
              "2014-01-01 13:24:58          218895  ...   2086.10\n",
              "2014-01-01 15:05:22          307599  ...    863.05\n",
              "2014-01-01 23:26:55          412290  ...    499.26\n",
              "\n",
              "[5 rows x 6 columns]"
            ]
          },
          "metadata": {
            "tags": []
          },
          "execution_count": 40
        }
      ]
    },
    {
      "cell_type": "code",
      "metadata": {
        "id": "FbZmsrudPFCN",
        "colab_type": "code",
        "outputId": "14fe63a8-4411-4adc-9af2-ac96dae95b97",
        "colab": {
          "base_uri": "https://localhost:8080/",
          "height": 0
        }
      },
      "source": [
        "df2[\"2014-Jan-1\":\"2014-Feb-1\"].tail()"
      ],
      "execution_count": 41,
      "outputs": [
        {
          "output_type": "execute_result",
          "data": {
            "text/html": [
              "<div>\n",
              "<style scoped>\n",
              "    .dataframe tbody tr th:only-of-type {\n",
              "        vertical-align: middle;\n",
              "    }\n",
              "\n",
              "    .dataframe tbody tr th {\n",
              "        vertical-align: top;\n",
              "    }\n",
              "\n",
              "    .dataframe thead th {\n",
              "        text-align: right;\n",
              "    }\n",
              "</style>\n",
              "<table border=\"1\" class=\"dataframe\">\n",
              "  <thead>\n",
              "    <tr style=\"text-align: right;\">\n",
              "      <th></th>\n",
              "      <th>account number</th>\n",
              "      <th>name</th>\n",
              "      <th>sku</th>\n",
              "      <th>quantity</th>\n",
              "      <th>unit price</th>\n",
              "      <th>ext price</th>\n",
              "    </tr>\n",
              "    <tr>\n",
              "      <th>date</th>\n",
              "      <th></th>\n",
              "      <th></th>\n",
              "      <th></th>\n",
              "      <th></th>\n",
              "      <th></th>\n",
              "      <th></th>\n",
              "    </tr>\n",
              "  </thead>\n",
              "  <tbody>\n",
              "    <tr>\n",
              "      <th>2014-01-31 22:51:18</th>\n",
              "      <td>383080</td>\n",
              "      <td>Will LLC</td>\n",
              "      <td>B1-05914</td>\n",
              "      <td>43</td>\n",
              "      <td>80.17</td>\n",
              "      <td>3447.31</td>\n",
              "    </tr>\n",
              "    <tr>\n",
              "      <th>2014-02-01 09:04:59</th>\n",
              "      <td>383080</td>\n",
              "      <td>Will LLC</td>\n",
              "      <td>B1-20000</td>\n",
              "      <td>7</td>\n",
              "      <td>33.69</td>\n",
              "      <td>235.83</td>\n",
              "    </tr>\n",
              "    <tr>\n",
              "      <th>2014-02-01 11:51:46</th>\n",
              "      <td>412290</td>\n",
              "      <td>Jerde-Hilpert</td>\n",
              "      <td>S1-27722</td>\n",
              "      <td>11</td>\n",
              "      <td>21.12</td>\n",
              "      <td>232.32</td>\n",
              "    </tr>\n",
              "    <tr>\n",
              "      <th>2014-02-01 17:24:32</th>\n",
              "      <td>412290</td>\n",
              "      <td>Jerde-Hilpert</td>\n",
              "      <td>B1-86481</td>\n",
              "      <td>3</td>\n",
              "      <td>35.99</td>\n",
              "      <td>107.97</td>\n",
              "    </tr>\n",
              "    <tr>\n",
              "      <th>2014-02-01 19:56:48</th>\n",
              "      <td>412290</td>\n",
              "      <td>Jerde-Hilpert</td>\n",
              "      <td>B1-20000</td>\n",
              "      <td>23</td>\n",
              "      <td>78.90</td>\n",
              "      <td>1814.70</td>\n",
              "    </tr>\n",
              "  </tbody>\n",
              "</table>\n",
              "</div>"
            ],
            "text/plain": [
              "                     account number           name  ... unit price  ext price\n",
              "date                                                ...                      \n",
              "2014-01-31 22:51:18          383080       Will LLC  ...      80.17    3447.31\n",
              "2014-02-01 09:04:59          383080       Will LLC  ...      33.69     235.83\n",
              "2014-02-01 11:51:46          412290  Jerde-Hilpert  ...      21.12     232.32\n",
              "2014-02-01 17:24:32          412290  Jerde-Hilpert  ...      35.99     107.97\n",
              "2014-02-01 19:56:48          412290  Jerde-Hilpert  ...      78.90    1814.70\n",
              "\n",
              "[5 rows x 6 columns]"
            ]
          },
          "metadata": {
            "tags": []
          },
          "execution_count": 41
        }
      ]
    },
    {
      "cell_type": "code",
      "metadata": {
        "id": "QikKbSePPH-Q",
        "colab_type": "code",
        "outputId": "d769dbf3-2427-4deb-e542-f4adeb974ff1",
        "colab": {
          "base_uri": "https://localhost:8080/",
          "height": 0
        }
      },
      "source": [
        "df2[\"2014\"].head()"
      ],
      "execution_count": 42,
      "outputs": [
        {
          "output_type": "execute_result",
          "data": {
            "text/html": [
              "<div>\n",
              "<style scoped>\n",
              "    .dataframe tbody tr th:only-of-type {\n",
              "        vertical-align: middle;\n",
              "    }\n",
              "\n",
              "    .dataframe tbody tr th {\n",
              "        vertical-align: top;\n",
              "    }\n",
              "\n",
              "    .dataframe thead th {\n",
              "        text-align: right;\n",
              "    }\n",
              "</style>\n",
              "<table border=\"1\" class=\"dataframe\">\n",
              "  <thead>\n",
              "    <tr style=\"text-align: right;\">\n",
              "      <th></th>\n",
              "      <th>account number</th>\n",
              "      <th>name</th>\n",
              "      <th>sku</th>\n",
              "      <th>quantity</th>\n",
              "      <th>unit price</th>\n",
              "      <th>ext price</th>\n",
              "    </tr>\n",
              "    <tr>\n",
              "      <th>date</th>\n",
              "      <th></th>\n",
              "      <th></th>\n",
              "      <th></th>\n",
              "      <th></th>\n",
              "      <th></th>\n",
              "      <th></th>\n",
              "    </tr>\n",
              "  </thead>\n",
              "  <tbody>\n",
              "    <tr>\n",
              "      <th>2014-01-01 07:21:51</th>\n",
              "      <td>740150</td>\n",
              "      <td>Barton LLC</td>\n",
              "      <td>B1-20000</td>\n",
              "      <td>39</td>\n",
              "      <td>86.69</td>\n",
              "      <td>3380.91</td>\n",
              "    </tr>\n",
              "    <tr>\n",
              "      <th>2014-01-01 10:00:47</th>\n",
              "      <td>714466</td>\n",
              "      <td>Trantow-Barrows</td>\n",
              "      <td>S2-77896</td>\n",
              "      <td>-1</td>\n",
              "      <td>63.16</td>\n",
              "      <td>-63.16</td>\n",
              "    </tr>\n",
              "    <tr>\n",
              "      <th>2014-01-01 13:24:58</th>\n",
              "      <td>218895</td>\n",
              "      <td>Kulas Inc</td>\n",
              "      <td>B1-69924</td>\n",
              "      <td>23</td>\n",
              "      <td>90.70</td>\n",
              "      <td>2086.10</td>\n",
              "    </tr>\n",
              "    <tr>\n",
              "      <th>2014-01-01 15:05:22</th>\n",
              "      <td>307599</td>\n",
              "      <td>Kassulke, Ondricka and Metz</td>\n",
              "      <td>S1-65481</td>\n",
              "      <td>41</td>\n",
              "      <td>21.05</td>\n",
              "      <td>863.05</td>\n",
              "    </tr>\n",
              "    <tr>\n",
              "      <th>2014-01-01 23:26:55</th>\n",
              "      <td>412290</td>\n",
              "      <td>Jerde-Hilpert</td>\n",
              "      <td>S2-34077</td>\n",
              "      <td>6</td>\n",
              "      <td>83.21</td>\n",
              "      <td>499.26</td>\n",
              "    </tr>\n",
              "  </tbody>\n",
              "</table>\n",
              "</div>"
            ],
            "text/plain": [
              "                     account number  ... ext price\n",
              "date                                 ...          \n",
              "2014-01-01 07:21:51          740150  ...   3380.91\n",
              "2014-01-01 10:00:47          714466  ...    -63.16\n",
              "2014-01-01 13:24:58          218895  ...   2086.10\n",
              "2014-01-01 15:05:22          307599  ...    863.05\n",
              "2014-01-01 23:26:55          412290  ...    499.26\n",
              "\n",
              "[5 rows x 6 columns]"
            ]
          },
          "metadata": {
            "tags": []
          },
          "execution_count": 42
        }
      ]
    },
    {
      "cell_type": "code",
      "metadata": {
        "id": "Wn7OFKNrPaGs",
        "colab_type": "code",
        "outputId": "d3480349-90fb-4efd-b91d-9864e2a1c326",
        "colab": {
          "base_uri": "https://localhost:8080/",
          "height": 0
        }
      },
      "source": [
        "df2[\"2014-Dec\"].head()"
      ],
      "execution_count": 43,
      "outputs": [
        {
          "output_type": "execute_result",
          "data": {
            "text/html": [
              "<div>\n",
              "<style scoped>\n",
              "    .dataframe tbody tr th:only-of-type {\n",
              "        vertical-align: middle;\n",
              "    }\n",
              "\n",
              "    .dataframe tbody tr th {\n",
              "        vertical-align: top;\n",
              "    }\n",
              "\n",
              "    .dataframe thead th {\n",
              "        text-align: right;\n",
              "    }\n",
              "</style>\n",
              "<table border=\"1\" class=\"dataframe\">\n",
              "  <thead>\n",
              "    <tr style=\"text-align: right;\">\n",
              "      <th></th>\n",
              "      <th>account number</th>\n",
              "      <th>name</th>\n",
              "      <th>sku</th>\n",
              "      <th>quantity</th>\n",
              "      <th>unit price</th>\n",
              "      <th>ext price</th>\n",
              "    </tr>\n",
              "    <tr>\n",
              "      <th>date</th>\n",
              "      <th></th>\n",
              "      <th></th>\n",
              "      <th></th>\n",
              "      <th></th>\n",
              "      <th></th>\n",
              "      <th></th>\n",
              "    </tr>\n",
              "  </thead>\n",
              "  <tbody>\n",
              "    <tr>\n",
              "      <th>2014-12-01 20:15:34</th>\n",
              "      <td>714466</td>\n",
              "      <td>Trantow-Barrows</td>\n",
              "      <td>S1-82801</td>\n",
              "      <td>3</td>\n",
              "      <td>77.97</td>\n",
              "      <td>233.91</td>\n",
              "    </tr>\n",
              "    <tr>\n",
              "      <th>2014-12-02 20:00:04</th>\n",
              "      <td>146832</td>\n",
              "      <td>Kiehn-Spinka</td>\n",
              "      <td>S2-23246</td>\n",
              "      <td>37</td>\n",
              "      <td>57.81</td>\n",
              "      <td>2138.97</td>\n",
              "    </tr>\n",
              "    <tr>\n",
              "      <th>2014-12-03 04:43:53</th>\n",
              "      <td>218895</td>\n",
              "      <td>Kulas Inc</td>\n",
              "      <td>S2-77896</td>\n",
              "      <td>30</td>\n",
              "      <td>77.44</td>\n",
              "      <td>2323.20</td>\n",
              "    </tr>\n",
              "    <tr>\n",
              "      <th>2014-12-03 06:05:43</th>\n",
              "      <td>141962</td>\n",
              "      <td>Herman LLC</td>\n",
              "      <td>B1-53102</td>\n",
              "      <td>20</td>\n",
              "      <td>26.12</td>\n",
              "      <td>522.40</td>\n",
              "    </tr>\n",
              "    <tr>\n",
              "      <th>2014-12-03 14:17:34</th>\n",
              "      <td>642753</td>\n",
              "      <td>Pollich LLC</td>\n",
              "      <td>B1-53636</td>\n",
              "      <td>19</td>\n",
              "      <td>71.21</td>\n",
              "      <td>1352.99</td>\n",
              "    </tr>\n",
              "  </tbody>\n",
              "</table>\n",
              "</div>"
            ],
            "text/plain": [
              "                     account number             name  ... unit price  ext price\n",
              "date                                                  ...                      \n",
              "2014-12-01 20:15:34          714466  Trantow-Barrows  ...      77.97     233.91\n",
              "2014-12-02 20:00:04          146832     Kiehn-Spinka  ...      57.81    2138.97\n",
              "2014-12-03 04:43:53          218895        Kulas Inc  ...      77.44    2323.20\n",
              "2014-12-03 06:05:43          141962       Herman LLC  ...      26.12     522.40\n",
              "2014-12-03 14:17:34          642753      Pollich LLC  ...      71.21    1352.99\n",
              "\n",
              "[5 rows x 6 columns]"
            ]
          },
          "metadata": {
            "tags": []
          },
          "execution_count": 43
        }
      ]
    },
    {
      "cell_type": "markdown",
      "metadata": {
        "id": "AeBSMHLLPcoC",
        "colab_type": "text"
      },
      "source": [
        "As you can see, there are a lot of options when it comes to sorting and filtering based on dates."
      ]
    },
    {
      "cell_type": "markdown",
      "metadata": {
        "id": "bC8Lem9XPfQn",
        "colab_type": "text"
      },
      "source": [
        "#### Additional String Functions"
      ]
    },
    {
      "cell_type": "markdown",
      "metadata": {
        "id": "mj_-KzIuPh1E",
        "colab_type": "text"
      },
      "source": [
        "Pandas has support for vectorized string functions as well.\n",
        "\n",
        "If we want to identify all the sku’s that contain a certain value, we can use str.contains . In this case, we know that the sku is always represented in the same way, so B1 only shows up in the front of the sku. You need to understand your data to make sure you are getting back what you expected."
      ]
    },
    {
      "cell_type": "code",
      "metadata": {
        "id": "TI5VzbmgQTQU",
        "colab_type": "code",
        "outputId": "5c0b4804-eb1c-4400-d86c-fbd0f3cd8ae6",
        "colab": {
          "base_uri": "https://localhost:8080/",
          "height": 0
        }
      },
      "source": [
        "df[df['sku'].str.contains('B1')].head()"
      ],
      "execution_count": 44,
      "outputs": [
        {
          "output_type": "execute_result",
          "data": {
            "text/html": [
              "<div>\n",
              "<style scoped>\n",
              "    .dataframe tbody tr th:only-of-type {\n",
              "        vertical-align: middle;\n",
              "    }\n",
              "\n",
              "    .dataframe tbody tr th {\n",
              "        vertical-align: top;\n",
              "    }\n",
              "\n",
              "    .dataframe thead th {\n",
              "        text-align: right;\n",
              "    }\n",
              "</style>\n",
              "<table border=\"1\" class=\"dataframe\">\n",
              "  <thead>\n",
              "    <tr style=\"text-align: right;\">\n",
              "      <th></th>\n",
              "      <th>account number</th>\n",
              "      <th>name</th>\n",
              "      <th>sku</th>\n",
              "      <th>quantity</th>\n",
              "      <th>unit price</th>\n",
              "      <th>ext price</th>\n",
              "      <th>date</th>\n",
              "    </tr>\n",
              "  </thead>\n",
              "  <tbody>\n",
              "    <tr>\n",
              "      <th>0</th>\n",
              "      <td>740150</td>\n",
              "      <td>Barton LLC</td>\n",
              "      <td>B1-20000</td>\n",
              "      <td>39</td>\n",
              "      <td>86.69</td>\n",
              "      <td>3380.91</td>\n",
              "      <td>2014-01-01 07:21:51</td>\n",
              "    </tr>\n",
              "    <tr>\n",
              "      <th>2</th>\n",
              "      <td>218895</td>\n",
              "      <td>Kulas Inc</td>\n",
              "      <td>B1-69924</td>\n",
              "      <td>23</td>\n",
              "      <td>90.70</td>\n",
              "      <td>2086.10</td>\n",
              "      <td>2014-01-01 13:24:58</td>\n",
              "    </tr>\n",
              "    <tr>\n",
              "      <th>6</th>\n",
              "      <td>218895</td>\n",
              "      <td>Kulas Inc</td>\n",
              "      <td>B1-65551</td>\n",
              "      <td>2</td>\n",
              "      <td>31.10</td>\n",
              "      <td>62.20</td>\n",
              "      <td>2014-01-02 10:57:23</td>\n",
              "    </tr>\n",
              "    <tr>\n",
              "      <th>14</th>\n",
              "      <td>737550</td>\n",
              "      <td>Fritsch, Russel and Anderson</td>\n",
              "      <td>B1-53102</td>\n",
              "      <td>23</td>\n",
              "      <td>71.56</td>\n",
              "      <td>1645.88</td>\n",
              "      <td>2014-01-04 08:57:48</td>\n",
              "    </tr>\n",
              "    <tr>\n",
              "      <th>17</th>\n",
              "      <td>239344</td>\n",
              "      <td>Stokes LLC</td>\n",
              "      <td>B1-50809</td>\n",
              "      <td>14</td>\n",
              "      <td>16.23</td>\n",
              "      <td>227.22</td>\n",
              "      <td>2014-01-04 22:14:32</td>\n",
              "    </tr>\n",
              "  </tbody>\n",
              "</table>\n",
              "</div>"
            ],
            "text/plain": [
              "    account number                          name  ... ext price                date\n",
              "0           740150                    Barton LLC  ...   3380.91 2014-01-01 07:21:51\n",
              "2           218895                     Kulas Inc  ...   2086.10 2014-01-01 13:24:58\n",
              "6           218895                     Kulas Inc  ...     62.20 2014-01-02 10:57:23\n",
              "14          737550  Fritsch, Russel and Anderson  ...   1645.88 2014-01-04 08:57:48\n",
              "17          239344                    Stokes LLC  ...    227.22 2014-01-04 22:14:32\n",
              "\n",
              "[5 rows x 7 columns]"
            ]
          },
          "metadata": {
            "tags": []
          },
          "execution_count": 44
        }
      ]
    },
    {
      "cell_type": "markdown",
      "metadata": {
        "id": "48ktdWJMQWzN",
        "colab_type": "text"
      },
      "source": [
        "We can string queries together and use sort to control how the data is ordered."
      ]
    },
    {
      "cell_type": "code",
      "metadata": {
        "id": "oCrQ5Mj7QZH1",
        "colab_type": "code",
        "outputId": "5a3f6d9d-2600-4712-bf82-d1a198aab596",
        "colab": {
          "base_uri": "https://localhost:8080/",
          "height": 0
        }
      },
      "source": [
        "df[\n",
        "   (df['sku'].str.contains('B1-531')) & \n",
        "   (df['quantity']>40)].sort_values(by=['quantity','name'],ascending=[0,1])"
      ],
      "execution_count": 45,
      "outputs": [
        {
          "output_type": "execute_result",
          "data": {
            "text/html": [
              "<div>\n",
              "<style scoped>\n",
              "    .dataframe tbody tr th:only-of-type {\n",
              "        vertical-align: middle;\n",
              "    }\n",
              "\n",
              "    .dataframe tbody tr th {\n",
              "        vertical-align: top;\n",
              "    }\n",
              "\n",
              "    .dataframe thead th {\n",
              "        text-align: right;\n",
              "    }\n",
              "</style>\n",
              "<table border=\"1\" class=\"dataframe\">\n",
              "  <thead>\n",
              "    <tr style=\"text-align: right;\">\n",
              "      <th></th>\n",
              "      <th>account number</th>\n",
              "      <th>name</th>\n",
              "      <th>sku</th>\n",
              "      <th>quantity</th>\n",
              "      <th>unit price</th>\n",
              "      <th>ext price</th>\n",
              "      <th>date</th>\n",
              "    </tr>\n",
              "  </thead>\n",
              "  <tbody>\n",
              "    <tr>\n",
              "      <th>684</th>\n",
              "      <td>642753</td>\n",
              "      <td>Pollich LLC</td>\n",
              "      <td>B1-53102</td>\n",
              "      <td>46</td>\n",
              "      <td>26.07</td>\n",
              "      <td>1199.22</td>\n",
              "      <td>2014-06-08 19:33:33</td>\n",
              "    </tr>\n",
              "    <tr>\n",
              "      <th>792</th>\n",
              "      <td>688981</td>\n",
              "      <td>Keeling LLC</td>\n",
              "      <td>B1-53102</td>\n",
              "      <td>45</td>\n",
              "      <td>41.19</td>\n",
              "      <td>1853.55</td>\n",
              "      <td>2014-07-04 21:42:22</td>\n",
              "    </tr>\n",
              "    <tr>\n",
              "      <th>176</th>\n",
              "      <td>383080</td>\n",
              "      <td>Will LLC</td>\n",
              "      <td>B1-53102</td>\n",
              "      <td>45</td>\n",
              "      <td>89.22</td>\n",
              "      <td>4014.90</td>\n",
              "      <td>2014-02-11 04:14:09</td>\n",
              "    </tr>\n",
              "    <tr>\n",
              "      <th>1213</th>\n",
              "      <td>604255</td>\n",
              "      <td>Halvorson, Crona and Champlin</td>\n",
              "      <td>B1-53102</td>\n",
              "      <td>41</td>\n",
              "      <td>55.05</td>\n",
              "      <td>2257.05</td>\n",
              "      <td>2014-10-18 19:27:01</td>\n",
              "    </tr>\n",
              "    <tr>\n",
              "      <th>1215</th>\n",
              "      <td>307599</td>\n",
              "      <td>Kassulke, Ondricka and Metz</td>\n",
              "      <td>B1-53102</td>\n",
              "      <td>41</td>\n",
              "      <td>93.70</td>\n",
              "      <td>3841.70</td>\n",
              "      <td>2014-10-18 23:25:10</td>\n",
              "    </tr>\n",
              "    <tr>\n",
              "      <th>1128</th>\n",
              "      <td>714466</td>\n",
              "      <td>Trantow-Barrows</td>\n",
              "      <td>B1-53102</td>\n",
              "      <td>41</td>\n",
              "      <td>55.68</td>\n",
              "      <td>2282.88</td>\n",
              "      <td>2014-09-27 10:42:48</td>\n",
              "    </tr>\n",
              "    <tr>\n",
              "      <th>1001</th>\n",
              "      <td>424914</td>\n",
              "      <td>White-Trantow</td>\n",
              "      <td>B1-53102</td>\n",
              "      <td>41</td>\n",
              "      <td>81.25</td>\n",
              "      <td>3331.25</td>\n",
              "      <td>2014-08-26 11:44:30</td>\n",
              "    </tr>\n",
              "  </tbody>\n",
              "</table>\n",
              "</div>"
            ],
            "text/plain": [
              "      account number  ...                date\n",
              "684           642753  ... 2014-06-08 19:33:33\n",
              "792           688981  ... 2014-07-04 21:42:22\n",
              "176           383080  ... 2014-02-11 04:14:09\n",
              "1213          604255  ... 2014-10-18 19:27:01\n",
              "1215          307599  ... 2014-10-18 23:25:10\n",
              "1128          714466  ... 2014-09-27 10:42:48\n",
              "1001          424914  ... 2014-08-26 11:44:30\n",
              "\n",
              "[7 rows x 7 columns]"
            ]
          },
          "metadata": {
            "tags": []
          },
          "execution_count": 45
        }
      ]
    },
    {
      "cell_type": "markdown",
      "metadata": {
        "id": "p4cUGoauQkgG",
        "colab_type": "text"
      },
      "source": [
        "#### Bonus Task"
      ]
    },
    {
      "cell_type": "markdown",
      "metadata": {
        "id": "DiBg74LlQpyI",
        "colab_type": "text"
      },
      "source": [
        "I frequently find myself trying to get a list of unique items in a long list within Excel. It is a multi-step process to do this in Excel but is fairly simple in pandas. Here is one way to do this using the Advanced Filter in Excel.\n",
        "\n",
        "<img src=\"https://pbpython.com/images/excel-filter3.png\">\n",
        "\n",
        "In pandas, we use the unique function on a column to get the list."
      ]
    },
    {
      "cell_type": "code",
      "metadata": {
        "id": "cC4zxzGDRC8F",
        "colab_type": "code",
        "outputId": "dc970630-5430-4ea0-c009-4479dddbb86c",
        "colab": {
          "base_uri": "https://localhost:8080/",
          "height": 0
        }
      },
      "source": [
        "df[\"name\"].unique()"
      ],
      "execution_count": 46,
      "outputs": [
        {
          "output_type": "execute_result",
          "data": {
            "text/plain": [
              "array(['Barton LLC', 'Trantow-Barrows', 'Kulas Inc',\n",
              "       'Kassulke, Ondricka and Metz', 'Jerde-Hilpert', 'Koepp Ltd',\n",
              "       'Fritsch, Russel and Anderson', 'Kiehn-Spinka', 'Keeling LLC',\n",
              "       'Frami, Hills and Schmidt', 'Stokes LLC', 'Kuhn-Gusikowski',\n",
              "       'Herman LLC', 'White-Trantow', 'Sanford and Sons', 'Pollich LLC',\n",
              "       'Will LLC', 'Cronin, Oberbrunner and Spencer',\n",
              "       'Halvorson, Crona and Champlin', 'Purdy-Kunde'], dtype=object)"
            ]
          },
          "metadata": {
            "tags": []
          },
          "execution_count": 46
        }
      ]
    },
    {
      "cell_type": "markdown",
      "metadata": {
        "id": "A4ZkFNwdRnvg",
        "colab_type": "text"
      },
      "source": [
        "If we wanted to include the account number, we could use drop_duplicates ."
      ]
    },
    {
      "cell_type": "code",
      "metadata": {
        "id": "wekCnLmeRqLI",
        "colab_type": "code",
        "outputId": "f1415260-0bfa-4996-ea5d-99f19bdc3364",
        "colab": {
          "base_uri": "https://localhost:8080/",
          "height": 0
        }
      },
      "source": [
        "df.drop_duplicates(subset=[\"account number\",\"name\"]).head()"
      ],
      "execution_count": 47,
      "outputs": [
        {
          "output_type": "execute_result",
          "data": {
            "text/html": [
              "<div>\n",
              "<style scoped>\n",
              "    .dataframe tbody tr th:only-of-type {\n",
              "        vertical-align: middle;\n",
              "    }\n",
              "\n",
              "    .dataframe tbody tr th {\n",
              "        vertical-align: top;\n",
              "    }\n",
              "\n",
              "    .dataframe thead th {\n",
              "        text-align: right;\n",
              "    }\n",
              "</style>\n",
              "<table border=\"1\" class=\"dataframe\">\n",
              "  <thead>\n",
              "    <tr style=\"text-align: right;\">\n",
              "      <th></th>\n",
              "      <th>account number</th>\n",
              "      <th>name</th>\n",
              "      <th>sku</th>\n",
              "      <th>quantity</th>\n",
              "      <th>unit price</th>\n",
              "      <th>ext price</th>\n",
              "      <th>date</th>\n",
              "    </tr>\n",
              "  </thead>\n",
              "  <tbody>\n",
              "    <tr>\n",
              "      <th>0</th>\n",
              "      <td>740150</td>\n",
              "      <td>Barton LLC</td>\n",
              "      <td>B1-20000</td>\n",
              "      <td>39</td>\n",
              "      <td>86.69</td>\n",
              "      <td>3380.91</td>\n",
              "      <td>2014-01-01 07:21:51</td>\n",
              "    </tr>\n",
              "    <tr>\n",
              "      <th>1</th>\n",
              "      <td>714466</td>\n",
              "      <td>Trantow-Barrows</td>\n",
              "      <td>S2-77896</td>\n",
              "      <td>-1</td>\n",
              "      <td>63.16</td>\n",
              "      <td>-63.16</td>\n",
              "      <td>2014-01-01 10:00:47</td>\n",
              "    </tr>\n",
              "    <tr>\n",
              "      <th>2</th>\n",
              "      <td>218895</td>\n",
              "      <td>Kulas Inc</td>\n",
              "      <td>B1-69924</td>\n",
              "      <td>23</td>\n",
              "      <td>90.70</td>\n",
              "      <td>2086.10</td>\n",
              "      <td>2014-01-01 13:24:58</td>\n",
              "    </tr>\n",
              "    <tr>\n",
              "      <th>3</th>\n",
              "      <td>307599</td>\n",
              "      <td>Kassulke, Ondricka and Metz</td>\n",
              "      <td>S1-65481</td>\n",
              "      <td>41</td>\n",
              "      <td>21.05</td>\n",
              "      <td>863.05</td>\n",
              "      <td>2014-01-01 15:05:22</td>\n",
              "    </tr>\n",
              "    <tr>\n",
              "      <th>4</th>\n",
              "      <td>412290</td>\n",
              "      <td>Jerde-Hilpert</td>\n",
              "      <td>S2-34077</td>\n",
              "      <td>6</td>\n",
              "      <td>83.21</td>\n",
              "      <td>499.26</td>\n",
              "      <td>2014-01-01 23:26:55</td>\n",
              "    </tr>\n",
              "  </tbody>\n",
              "</table>\n",
              "</div>"
            ],
            "text/plain": [
              "   account number                         name  ... ext price                date\n",
              "0          740150                   Barton LLC  ...   3380.91 2014-01-01 07:21:51\n",
              "1          714466              Trantow-Barrows  ...    -63.16 2014-01-01 10:00:47\n",
              "2          218895                    Kulas Inc  ...   2086.10 2014-01-01 13:24:58\n",
              "3          307599  Kassulke, Ondricka and Metz  ...    863.05 2014-01-01 15:05:22\n",
              "4          412290                Jerde-Hilpert  ...    499.26 2014-01-01 23:26:55\n",
              "\n",
              "[5 rows x 7 columns]"
            ]
          },
          "metadata": {
            "tags": []
          },
          "execution_count": 47
        }
      ]
    },
    {
      "cell_type": "markdown",
      "metadata": {
        "id": "3UI7P1acRuKS",
        "colab_type": "text"
      },
      "source": [
        "We are obviously pulling in more data than we need and getting some non-useful information, so select only the first and second columns using ix ."
      ]
    },
    {
      "cell_type": "code",
      "metadata": {
        "id": "IOiHqkJWRwTl",
        "colab_type": "code",
        "outputId": "be8d4eff-61bd-4a13-bbbc-d6f039d276cb",
        "colab": {
          "base_uri": "https://localhost:8080/",
          "height": 0
        }
      },
      "source": [
        "df.drop_duplicates(subset=[\"account number\",\"name\"]).iloc[:,[0,1]]"
      ],
      "execution_count": 48,
      "outputs": [
        {
          "output_type": "execute_result",
          "data": {
            "text/html": [
              "<div>\n",
              "<style scoped>\n",
              "    .dataframe tbody tr th:only-of-type {\n",
              "        vertical-align: middle;\n",
              "    }\n",
              "\n",
              "    .dataframe tbody tr th {\n",
              "        vertical-align: top;\n",
              "    }\n",
              "\n",
              "    .dataframe thead th {\n",
              "        text-align: right;\n",
              "    }\n",
              "</style>\n",
              "<table border=\"1\" class=\"dataframe\">\n",
              "  <thead>\n",
              "    <tr style=\"text-align: right;\">\n",
              "      <th></th>\n",
              "      <th>account number</th>\n",
              "      <th>name</th>\n",
              "    </tr>\n",
              "  </thead>\n",
              "  <tbody>\n",
              "    <tr>\n",
              "      <th>0</th>\n",
              "      <td>740150</td>\n",
              "      <td>Barton LLC</td>\n",
              "    </tr>\n",
              "    <tr>\n",
              "      <th>1</th>\n",
              "      <td>714466</td>\n",
              "      <td>Trantow-Barrows</td>\n",
              "    </tr>\n",
              "    <tr>\n",
              "      <th>2</th>\n",
              "      <td>218895</td>\n",
              "      <td>Kulas Inc</td>\n",
              "    </tr>\n",
              "    <tr>\n",
              "      <th>3</th>\n",
              "      <td>307599</td>\n",
              "      <td>Kassulke, Ondricka and Metz</td>\n",
              "    </tr>\n",
              "    <tr>\n",
              "      <th>4</th>\n",
              "      <td>412290</td>\n",
              "      <td>Jerde-Hilpert</td>\n",
              "    </tr>\n",
              "    <tr>\n",
              "      <th>7</th>\n",
              "      <td>729833</td>\n",
              "      <td>Koepp Ltd</td>\n",
              "    </tr>\n",
              "    <tr>\n",
              "      <th>9</th>\n",
              "      <td>737550</td>\n",
              "      <td>Fritsch, Russel and Anderson</td>\n",
              "    </tr>\n",
              "    <tr>\n",
              "      <th>10</th>\n",
              "      <td>146832</td>\n",
              "      <td>Kiehn-Spinka</td>\n",
              "    </tr>\n",
              "    <tr>\n",
              "      <th>11</th>\n",
              "      <td>688981</td>\n",
              "      <td>Keeling LLC</td>\n",
              "    </tr>\n",
              "    <tr>\n",
              "      <th>12</th>\n",
              "      <td>786968</td>\n",
              "      <td>Frami, Hills and Schmidt</td>\n",
              "    </tr>\n",
              "    <tr>\n",
              "      <th>15</th>\n",
              "      <td>239344</td>\n",
              "      <td>Stokes LLC</td>\n",
              "    </tr>\n",
              "    <tr>\n",
              "      <th>16</th>\n",
              "      <td>672390</td>\n",
              "      <td>Kuhn-Gusikowski</td>\n",
              "    </tr>\n",
              "    <tr>\n",
              "      <th>18</th>\n",
              "      <td>141962</td>\n",
              "      <td>Herman LLC</td>\n",
              "    </tr>\n",
              "    <tr>\n",
              "      <th>20</th>\n",
              "      <td>424914</td>\n",
              "      <td>White-Trantow</td>\n",
              "    </tr>\n",
              "    <tr>\n",
              "      <th>21</th>\n",
              "      <td>527099</td>\n",
              "      <td>Sanford and Sons</td>\n",
              "    </tr>\n",
              "    <tr>\n",
              "      <th>30</th>\n",
              "      <td>642753</td>\n",
              "      <td>Pollich LLC</td>\n",
              "    </tr>\n",
              "    <tr>\n",
              "      <th>37</th>\n",
              "      <td>383080</td>\n",
              "      <td>Will LLC</td>\n",
              "    </tr>\n",
              "    <tr>\n",
              "      <th>51</th>\n",
              "      <td>257198</td>\n",
              "      <td>Cronin, Oberbrunner and Spencer</td>\n",
              "    </tr>\n",
              "    <tr>\n",
              "      <th>67</th>\n",
              "      <td>604255</td>\n",
              "      <td>Halvorson, Crona and Champlin</td>\n",
              "    </tr>\n",
              "    <tr>\n",
              "      <th>106</th>\n",
              "      <td>163416</td>\n",
              "      <td>Purdy-Kunde</td>\n",
              "    </tr>\n",
              "  </tbody>\n",
              "</table>\n",
              "</div>"
            ],
            "text/plain": [
              "     account number                             name\n",
              "0            740150                       Barton LLC\n",
              "1            714466                  Trantow-Barrows\n",
              "2            218895                        Kulas Inc\n",
              "3            307599      Kassulke, Ondricka and Metz\n",
              "4            412290                    Jerde-Hilpert\n",
              "7            729833                        Koepp Ltd\n",
              "9            737550     Fritsch, Russel and Anderson\n",
              "10           146832                     Kiehn-Spinka\n",
              "11           688981                      Keeling LLC\n",
              "12           786968         Frami, Hills and Schmidt\n",
              "15           239344                       Stokes LLC\n",
              "16           672390                  Kuhn-Gusikowski\n",
              "18           141962                       Herman LLC\n",
              "20           424914                    White-Trantow\n",
              "21           527099                 Sanford and Sons\n",
              "30           642753                      Pollich LLC\n",
              "37           383080                         Will LLC\n",
              "51           257198  Cronin, Oberbrunner and Spencer\n",
              "67           604255    Halvorson, Crona and Champlin\n",
              "106          163416                      Purdy-Kunde"
            ]
          },
          "metadata": {
            "tags": []
          },
          "execution_count": 48
        }
      ]
    },
    {
      "cell_type": "markdown",
      "metadata": {
        "id": "c_y75lZaSkyL",
        "colab_type": "text"
      },
      "source": [
        "#### Combining Data From Multiple Excel Files [link](https://pbpython.com/excel-file-combine.html)"
      ]
    },
    {
      "cell_type": "markdown",
      "metadata": {
        "id": "ZuUe25QaSmmK",
        "colab_type": "text"
      },
      "source": [
        "A common task for python and pandas is to automate the process of aggregating data from multiple files and spreadsheets.\n",
        "\n",
        "This article will walk through the basic flow required to parse multiple Excel files, combine the data, clean it up and analyze it. The combination of python + pandas can be extremely powerful for these activities and can be a very useful alternative to the manual processes or painful VBA scripts frequently used in business settings today."
      ]
    },
    {
      "cell_type": "markdown",
      "metadata": {
        "id": "iJrMvghDSsbS",
        "colab_type": "text"
      },
      "source": [
        "#### The Problem\n"
      ]
    },
    {
      "cell_type": "markdown",
      "metadata": {
        "id": "DirCTrPdSvn8",
        "colab_type": "text"
      },
      "source": [
        "Before, I get into the examples, here is a simple diagram showing the challenges with the common process used in businesses all over the world to consolidate data from multiple Excel files, clean it up and perform some analysis.\n",
        "\n",
        "<img src=\"https://pbpython.com/images/Excel-File-Processing.png\">\n",
        "\n",
        "Python + pandas can be a great alternative that is much more scaleable and powerful.\n",
        "\n",
        "<img src=\"https://pbpython.com/images/Excel-File-Processing-pandas.png\">\n",
        "\n",
        "By using a python script, you can develop a more streamlined and repeatable solution to your data processing needs. The rest of this article will show a simple example of how this process works. I hope it will give you ideas of how to apply these tools to your unique situation."
      ]
    },
    {
      "cell_type": "code",
      "metadata": {
        "id": "FUsANTd5TiiP",
        "colab_type": "code",
        "colab": {}
      },
      "source": [
        "files = ['https://github.com/chris1610/pbpython/blob/master/data/sales-jan-2014.xlsx?raw=true',\n",
        "'https://github.com/chris1610/pbpython/blob/master/data/sales-feb-2014.xlsx?raw=true',\n",
        "'https://github.com/chris1610/pbpython/blob/master/data/sales-mar-2014.xlsx?raw=true']"
      ],
      "execution_count": 0,
      "outputs": []
    },
    {
      "cell_type": "code",
      "metadata": {
        "id": "fCfuiQgcSl7S",
        "colab_type": "code",
        "outputId": "c18dde17-6a41-4a92-dd61-fe54cc1015a6",
        "colab": {
          "base_uri": "https://localhost:8080/",
          "height": 0
        }
      },
      "source": [
        "all_data = pd.DataFrame()\n",
        "for f in files:\n",
        "    df = pd.read_excel(f)\n",
        "    print(df.shape)\n",
        "    all_data = all_data.append(df,ignore_index=True,sort=True)"
      ],
      "execution_count": 50,
      "outputs": [
        {
          "output_type": "stream",
          "text": [
            "(134, 7)\n",
            "(108, 7)\n",
            "(142, 7)\n"
          ],
          "name": "stdout"
        }
      ]
    },
    {
      "cell_type": "markdown",
      "metadata": {
        "id": "L77cvkhKUgN9",
        "colab_type": "text"
      },
      "source": [
        "Now we have all the data in our all_data DataFrame. You can use describe to look at it and make sure you data looks good."
      ]
    },
    {
      "cell_type": "code",
      "metadata": {
        "id": "D6zp9cOhUiLq",
        "colab_type": "code",
        "outputId": "c3874ed4-ccf3-44c6-a4ec-27f1d8768ead",
        "colab": {
          "base_uri": "https://localhost:8080/",
          "height": 0
        }
      },
      "source": [
        "all_data.describe()"
      ],
      "execution_count": 51,
      "outputs": [
        {
          "output_type": "execute_result",
          "data": {
            "text/html": [
              "<div>\n",
              "<style scoped>\n",
              "    .dataframe tbody tr th:only-of-type {\n",
              "        vertical-align: middle;\n",
              "    }\n",
              "\n",
              "    .dataframe tbody tr th {\n",
              "        vertical-align: top;\n",
              "    }\n",
              "\n",
              "    .dataframe thead th {\n",
              "        text-align: right;\n",
              "    }\n",
              "</style>\n",
              "<table border=\"1\" class=\"dataframe\">\n",
              "  <thead>\n",
              "    <tr style=\"text-align: right;\">\n",
              "      <th></th>\n",
              "      <th>account number</th>\n",
              "      <th>ext price</th>\n",
              "      <th>quantity</th>\n",
              "      <th>unit price</th>\n",
              "    </tr>\n",
              "  </thead>\n",
              "  <tbody>\n",
              "    <tr>\n",
              "      <th>count</th>\n",
              "      <td>384.000000</td>\n",
              "      <td>384.000000</td>\n",
              "      <td>384.000000</td>\n",
              "      <td>384.000000</td>\n",
              "    </tr>\n",
              "    <tr>\n",
              "      <th>mean</th>\n",
              "      <td>478125.989583</td>\n",
              "      <td>1394.517344</td>\n",
              "      <td>24.372396</td>\n",
              "      <td>56.651406</td>\n",
              "    </tr>\n",
              "    <tr>\n",
              "      <th>std</th>\n",
              "      <td>220902.947401</td>\n",
              "      <td>1117.809743</td>\n",
              "      <td>14.373219</td>\n",
              "      <td>27.075883</td>\n",
              "    </tr>\n",
              "    <tr>\n",
              "      <th>min</th>\n",
              "      <td>141962.000000</td>\n",
              "      <td>-97.160000</td>\n",
              "      <td>-1.000000</td>\n",
              "      <td>10.210000</td>\n",
              "    </tr>\n",
              "    <tr>\n",
              "      <th>25%</th>\n",
              "      <td>257198.000000</td>\n",
              "      <td>482.745000</td>\n",
              "      <td>12.000000</td>\n",
              "      <td>32.612500</td>\n",
              "    </tr>\n",
              "    <tr>\n",
              "      <th>50%</th>\n",
              "      <td>424914.000000</td>\n",
              "      <td>1098.710000</td>\n",
              "      <td>23.500000</td>\n",
              "      <td>58.160000</td>\n",
              "    </tr>\n",
              "    <tr>\n",
              "      <th>75%</th>\n",
              "      <td>714466.000000</td>\n",
              "      <td>2132.260000</td>\n",
              "      <td>37.000000</td>\n",
              "      <td>80.965000</td>\n",
              "    </tr>\n",
              "    <tr>\n",
              "      <th>max</th>\n",
              "      <td>786968.000000</td>\n",
              "      <td>4590.810000</td>\n",
              "      <td>49.000000</td>\n",
              "      <td>99.730000</td>\n",
              "    </tr>\n",
              "  </tbody>\n",
              "</table>\n",
              "</div>"
            ],
            "text/plain": [
              "       account number    ext price    quantity  unit price\n",
              "count      384.000000   384.000000  384.000000  384.000000\n",
              "mean    478125.989583  1394.517344   24.372396   56.651406\n",
              "std     220902.947401  1117.809743   14.373219   27.075883\n",
              "min     141962.000000   -97.160000   -1.000000   10.210000\n",
              "25%     257198.000000   482.745000   12.000000   32.612500\n",
              "50%     424914.000000  1098.710000   23.500000   58.160000\n",
              "75%     714466.000000  2132.260000   37.000000   80.965000\n",
              "max     786968.000000  4590.810000   49.000000   99.730000"
            ]
          },
          "metadata": {
            "tags": []
          },
          "execution_count": 51
        }
      ]
    },
    {
      "cell_type": "markdown",
      "metadata": {
        "id": "BgeYKsK9WPAW",
        "colab_type": "text"
      },
      "source": [
        "A lot of this data may not make much sense for this data set but I’m most interested in the count row to make sure the number of data elements makes sense. In this case, I see all the data rows I expect."
      ]
    },
    {
      "cell_type": "code",
      "metadata": {
        "id": "FXo88CTQWN2t",
        "colab_type": "code",
        "outputId": "5638d58a-848c-4c49-f6f9-2a59908c0678",
        "colab": {
          "base_uri": "https://localhost:8080/",
          "height": 0
        }
      },
      "source": [
        "all_data.head()"
      ],
      "execution_count": 52,
      "outputs": [
        {
          "output_type": "execute_result",
          "data": {
            "text/html": [
              "<div>\n",
              "<style scoped>\n",
              "    .dataframe tbody tr th:only-of-type {\n",
              "        vertical-align: middle;\n",
              "    }\n",
              "\n",
              "    .dataframe tbody tr th {\n",
              "        vertical-align: top;\n",
              "    }\n",
              "\n",
              "    .dataframe thead th {\n",
              "        text-align: right;\n",
              "    }\n",
              "</style>\n",
              "<table border=\"1\" class=\"dataframe\">\n",
              "  <thead>\n",
              "    <tr style=\"text-align: right;\">\n",
              "      <th></th>\n",
              "      <th>account number</th>\n",
              "      <th>date</th>\n",
              "      <th>ext price</th>\n",
              "      <th>name</th>\n",
              "      <th>quantity</th>\n",
              "      <th>sku</th>\n",
              "      <th>unit price</th>\n",
              "    </tr>\n",
              "  </thead>\n",
              "  <tbody>\n",
              "    <tr>\n",
              "      <th>0</th>\n",
              "      <td>740150</td>\n",
              "      <td>2014-01-01 07:21:51</td>\n",
              "      <td>3380.91</td>\n",
              "      <td>Barton LLC</td>\n",
              "      <td>39</td>\n",
              "      <td>B1-20000</td>\n",
              "      <td>86.69</td>\n",
              "    </tr>\n",
              "    <tr>\n",
              "      <th>1</th>\n",
              "      <td>714466</td>\n",
              "      <td>2014-01-01 10:00:47</td>\n",
              "      <td>-63.16</td>\n",
              "      <td>Trantow-Barrows</td>\n",
              "      <td>-1</td>\n",
              "      <td>S2-77896</td>\n",
              "      <td>63.16</td>\n",
              "    </tr>\n",
              "    <tr>\n",
              "      <th>2</th>\n",
              "      <td>218895</td>\n",
              "      <td>2014-01-01 13:24:58</td>\n",
              "      <td>2086.10</td>\n",
              "      <td>Kulas Inc</td>\n",
              "      <td>23</td>\n",
              "      <td>B1-69924</td>\n",
              "      <td>90.70</td>\n",
              "    </tr>\n",
              "    <tr>\n",
              "      <th>3</th>\n",
              "      <td>307599</td>\n",
              "      <td>2014-01-01 15:05:22</td>\n",
              "      <td>863.05</td>\n",
              "      <td>Kassulke, Ondricka and Metz</td>\n",
              "      <td>41</td>\n",
              "      <td>S1-65481</td>\n",
              "      <td>21.05</td>\n",
              "    </tr>\n",
              "    <tr>\n",
              "      <th>4</th>\n",
              "      <td>412290</td>\n",
              "      <td>2014-01-01 23:26:55</td>\n",
              "      <td>499.26</td>\n",
              "      <td>Jerde-Hilpert</td>\n",
              "      <td>6</td>\n",
              "      <td>S2-34077</td>\n",
              "      <td>83.21</td>\n",
              "    </tr>\n",
              "  </tbody>\n",
              "</table>\n",
              "</div>"
            ],
            "text/plain": [
              "   account number                 date  ...       sku unit price\n",
              "0          740150  2014-01-01 07:21:51  ...  B1-20000      86.69\n",
              "1          714466  2014-01-01 10:00:47  ...  S2-77896      63.16\n",
              "2          218895  2014-01-01 13:24:58  ...  B1-69924      90.70\n",
              "3          307599  2014-01-01 15:05:22  ...  S1-65481      21.05\n",
              "4          412290  2014-01-01 23:26:55  ...  S2-34077      83.21\n",
              "\n",
              "[5 rows x 7 columns]"
            ]
          },
          "metadata": {
            "tags": []
          },
          "execution_count": 52
        }
      ]
    },
    {
      "cell_type": "markdown",
      "metadata": {
        "id": "2bwPLFCpWY06",
        "colab_type": "text"
      },
      "source": [
        "It is not critical in this example but the best practice is to convert the date column to a date time object."
      ]
    },
    {
      "cell_type": "code",
      "metadata": {
        "id": "ZsopsAmRWbFx",
        "colab_type": "code",
        "colab": {}
      },
      "source": [
        "all_data['date'] = pd.to_datetime(all_data['date'])"
      ],
      "execution_count": 0,
      "outputs": []
    },
    {
      "cell_type": "markdown",
      "metadata": {
        "id": "uxyMtOW7Wdj7",
        "colab_type": "text"
      },
      "source": [
        "#### Combining Data"
      ]
    },
    {
      "cell_type": "markdown",
      "metadata": {
        "id": "zyKQUPMDWgAe",
        "colab_type": "text"
      },
      "source": [
        "Now that we have all of the data into one DataFrame, we can do any manipulations the DataFrame supports. In this case, the next thing we want to do is read in another file that contains the customer status by account. You can think of this as a company’s customer segmentation strategy or some other mechanism for identifying their customers.\n",
        "\n",
        "First, we read in the data."
      ]
    },
    {
      "cell_type": "code",
      "metadata": {
        "id": "HZ-Bvup7WjkM",
        "colab_type": "code",
        "outputId": "ca402d9d-efd0-4c81-ecd6-b70f31fcc414",
        "colab": {
          "base_uri": "https://localhost:8080/",
          "height": 0
        }
      },
      "source": [
        "status = pd.read_excel(\"https://pbpython.com/extras/customer-status.xlsx\")\n",
        "status"
      ],
      "execution_count": 54,
      "outputs": [
        {
          "output_type": "execute_result",
          "data": {
            "text/html": [
              "<div>\n",
              "<style scoped>\n",
              "    .dataframe tbody tr th:only-of-type {\n",
              "        vertical-align: middle;\n",
              "    }\n",
              "\n",
              "    .dataframe tbody tr th {\n",
              "        vertical-align: top;\n",
              "    }\n",
              "\n",
              "    .dataframe thead th {\n",
              "        text-align: right;\n",
              "    }\n",
              "</style>\n",
              "<table border=\"1\" class=\"dataframe\">\n",
              "  <thead>\n",
              "    <tr style=\"text-align: right;\">\n",
              "      <th></th>\n",
              "      <th>account number</th>\n",
              "      <th>name</th>\n",
              "      <th>status</th>\n",
              "    </tr>\n",
              "  </thead>\n",
              "  <tbody>\n",
              "    <tr>\n",
              "      <th>0</th>\n",
              "      <td>740150</td>\n",
              "      <td>Barton LLC</td>\n",
              "      <td>gold</td>\n",
              "    </tr>\n",
              "    <tr>\n",
              "      <th>1</th>\n",
              "      <td>714466</td>\n",
              "      <td>Trantow-Barrows</td>\n",
              "      <td>silver</td>\n",
              "    </tr>\n",
              "    <tr>\n",
              "      <th>2</th>\n",
              "      <td>218895</td>\n",
              "      <td>Kulas Inc</td>\n",
              "      <td>bronze</td>\n",
              "    </tr>\n",
              "    <tr>\n",
              "      <th>3</th>\n",
              "      <td>307599</td>\n",
              "      <td>Kassulke, Ondricka and Metz</td>\n",
              "      <td>bronze</td>\n",
              "    </tr>\n",
              "    <tr>\n",
              "      <th>4</th>\n",
              "      <td>412290</td>\n",
              "      <td>Jerde-Hilpert</td>\n",
              "      <td>bronze</td>\n",
              "    </tr>\n",
              "    <tr>\n",
              "      <th>5</th>\n",
              "      <td>729833</td>\n",
              "      <td>Koepp Ltd</td>\n",
              "      <td>silver</td>\n",
              "    </tr>\n",
              "    <tr>\n",
              "      <th>6</th>\n",
              "      <td>146832</td>\n",
              "      <td>Kiehn-Spinka</td>\n",
              "      <td>silver</td>\n",
              "    </tr>\n",
              "    <tr>\n",
              "      <th>7</th>\n",
              "      <td>688981</td>\n",
              "      <td>Keeling LLC</td>\n",
              "      <td>silver</td>\n",
              "    </tr>\n",
              "    <tr>\n",
              "      <th>8</th>\n",
              "      <td>786968</td>\n",
              "      <td>Frami, Hills and Schmidt</td>\n",
              "      <td>silver</td>\n",
              "    </tr>\n",
              "    <tr>\n",
              "      <th>9</th>\n",
              "      <td>239344</td>\n",
              "      <td>Stokes LLC</td>\n",
              "      <td>gold</td>\n",
              "    </tr>\n",
              "    <tr>\n",
              "      <th>10</th>\n",
              "      <td>672390</td>\n",
              "      <td>Kuhn-Gusikowski</td>\n",
              "      <td>silver</td>\n",
              "    </tr>\n",
              "    <tr>\n",
              "      <th>11</th>\n",
              "      <td>141962</td>\n",
              "      <td>Herman LLC</td>\n",
              "      <td>gold</td>\n",
              "    </tr>\n",
              "    <tr>\n",
              "      <th>12</th>\n",
              "      <td>424914</td>\n",
              "      <td>White-Trantow</td>\n",
              "      <td>silver</td>\n",
              "    </tr>\n",
              "    <tr>\n",
              "      <th>13</th>\n",
              "      <td>527099</td>\n",
              "      <td>Sanford and Sons</td>\n",
              "      <td>bronze</td>\n",
              "    </tr>\n",
              "    <tr>\n",
              "      <th>14</th>\n",
              "      <td>642753</td>\n",
              "      <td>Pollich LLC</td>\n",
              "      <td>bronze</td>\n",
              "    </tr>\n",
              "    <tr>\n",
              "      <th>15</th>\n",
              "      <td>257198</td>\n",
              "      <td>Cronin, Oberbrunner and Spencer</td>\n",
              "      <td>gold</td>\n",
              "    </tr>\n",
              "  </tbody>\n",
              "</table>\n",
              "</div>"
            ],
            "text/plain": [
              "    account number                             name  status\n",
              "0           740150                       Barton LLC    gold\n",
              "1           714466                  Trantow-Barrows  silver\n",
              "2           218895                        Kulas Inc  bronze\n",
              "3           307599      Kassulke, Ondricka and Metz  bronze\n",
              "4           412290                    Jerde-Hilpert  bronze\n",
              "5           729833                        Koepp Ltd  silver\n",
              "6           146832                     Kiehn-Spinka  silver\n",
              "7           688981                      Keeling LLC  silver\n",
              "8           786968         Frami, Hills and Schmidt  silver\n",
              "9           239344                       Stokes LLC    gold\n",
              "10          672390                  Kuhn-Gusikowski  silver\n",
              "11          141962                       Herman LLC    gold\n",
              "12          424914                    White-Trantow  silver\n",
              "13          527099                 Sanford and Sons  bronze\n",
              "14          642753                      Pollich LLC  bronze\n",
              "15          257198  Cronin, Oberbrunner and Spencer    gold"
            ]
          },
          "metadata": {
            "tags": []
          },
          "execution_count": 54
        }
      ]
    },
    {
      "cell_type": "markdown",
      "metadata": {
        "id": "NHZ013shW3E_",
        "colab_type": "text"
      },
      "source": [
        "We want to merge this data with our concatenated data set of sales. Use panda’s merge function and tell it to do a left join which is similar to Excel’s vlookup function."
      ]
    },
    {
      "cell_type": "code",
      "metadata": {
        "id": "GN1ujrX1W6Gp",
        "colab_type": "code",
        "outputId": "ccc70583-7559-47a6-e241-5379e0c9625f",
        "colab": {
          "base_uri": "https://localhost:8080/",
          "height": 0
        }
      },
      "source": [
        "all_data_st = pd.merge(all_data, status, how='left')\n",
        "all_data_st.head()"
      ],
      "execution_count": 55,
      "outputs": [
        {
          "output_type": "execute_result",
          "data": {
            "text/html": [
              "<div>\n",
              "<style scoped>\n",
              "    .dataframe tbody tr th:only-of-type {\n",
              "        vertical-align: middle;\n",
              "    }\n",
              "\n",
              "    .dataframe tbody tr th {\n",
              "        vertical-align: top;\n",
              "    }\n",
              "\n",
              "    .dataframe thead th {\n",
              "        text-align: right;\n",
              "    }\n",
              "</style>\n",
              "<table border=\"1\" class=\"dataframe\">\n",
              "  <thead>\n",
              "    <tr style=\"text-align: right;\">\n",
              "      <th></th>\n",
              "      <th>account number</th>\n",
              "      <th>date</th>\n",
              "      <th>ext price</th>\n",
              "      <th>name</th>\n",
              "      <th>quantity</th>\n",
              "      <th>sku</th>\n",
              "      <th>unit price</th>\n",
              "      <th>status</th>\n",
              "    </tr>\n",
              "  </thead>\n",
              "  <tbody>\n",
              "    <tr>\n",
              "      <th>0</th>\n",
              "      <td>740150</td>\n",
              "      <td>2014-01-01 07:21:51</td>\n",
              "      <td>3380.91</td>\n",
              "      <td>Barton LLC</td>\n",
              "      <td>39</td>\n",
              "      <td>B1-20000</td>\n",
              "      <td>86.69</td>\n",
              "      <td>gold</td>\n",
              "    </tr>\n",
              "    <tr>\n",
              "      <th>1</th>\n",
              "      <td>714466</td>\n",
              "      <td>2014-01-01 10:00:47</td>\n",
              "      <td>-63.16</td>\n",
              "      <td>Trantow-Barrows</td>\n",
              "      <td>-1</td>\n",
              "      <td>S2-77896</td>\n",
              "      <td>63.16</td>\n",
              "      <td>silver</td>\n",
              "    </tr>\n",
              "    <tr>\n",
              "      <th>2</th>\n",
              "      <td>218895</td>\n",
              "      <td>2014-01-01 13:24:58</td>\n",
              "      <td>2086.10</td>\n",
              "      <td>Kulas Inc</td>\n",
              "      <td>23</td>\n",
              "      <td>B1-69924</td>\n",
              "      <td>90.70</td>\n",
              "      <td>bronze</td>\n",
              "    </tr>\n",
              "    <tr>\n",
              "      <th>3</th>\n",
              "      <td>307599</td>\n",
              "      <td>2014-01-01 15:05:22</td>\n",
              "      <td>863.05</td>\n",
              "      <td>Kassulke, Ondricka and Metz</td>\n",
              "      <td>41</td>\n",
              "      <td>S1-65481</td>\n",
              "      <td>21.05</td>\n",
              "      <td>bronze</td>\n",
              "    </tr>\n",
              "    <tr>\n",
              "      <th>4</th>\n",
              "      <td>412290</td>\n",
              "      <td>2014-01-01 23:26:55</td>\n",
              "      <td>499.26</td>\n",
              "      <td>Jerde-Hilpert</td>\n",
              "      <td>6</td>\n",
              "      <td>S2-34077</td>\n",
              "      <td>83.21</td>\n",
              "      <td>bronze</td>\n",
              "    </tr>\n",
              "  </tbody>\n",
              "</table>\n",
              "</div>"
            ],
            "text/plain": [
              "   account number                date  ext price  ...       sku  unit price  status\n",
              "0          740150 2014-01-01 07:21:51    3380.91  ...  B1-20000       86.69    gold\n",
              "1          714466 2014-01-01 10:00:47     -63.16  ...  S2-77896       63.16  silver\n",
              "2          218895 2014-01-01 13:24:58    2086.10  ...  B1-69924       90.70  bronze\n",
              "3          307599 2014-01-01 15:05:22     863.05  ...  S1-65481       21.05  bronze\n",
              "4          412290 2014-01-01 23:26:55     499.26  ...  S2-34077       83.21  bronze\n",
              "\n",
              "[5 rows x 8 columns]"
            ]
          },
          "metadata": {
            "tags": []
          },
          "execution_count": 55
        }
      ]
    },
    {
      "cell_type": "markdown",
      "metadata": {
        "id": "jEuNEM81W9wM",
        "colab_type": "text"
      },
      "source": [
        "This looks pretty good but let’s look at a specific account."
      ]
    },
    {
      "cell_type": "code",
      "metadata": {
        "id": "nO6jOZM-Xekh",
        "colab_type": "code",
        "outputId": "aa08fb8a-9d7f-4977-f481-3554211ecd55",
        "colab": {
          "base_uri": "https://localhost:8080/",
          "height": 0
        }
      },
      "source": [
        "all_data_st[all_data_st[\"account number\"]==737550].head()"
      ],
      "execution_count": 56,
      "outputs": [
        {
          "output_type": "execute_result",
          "data": {
            "text/html": [
              "<div>\n",
              "<style scoped>\n",
              "    .dataframe tbody tr th:only-of-type {\n",
              "        vertical-align: middle;\n",
              "    }\n",
              "\n",
              "    .dataframe tbody tr th {\n",
              "        vertical-align: top;\n",
              "    }\n",
              "\n",
              "    .dataframe thead th {\n",
              "        text-align: right;\n",
              "    }\n",
              "</style>\n",
              "<table border=\"1\" class=\"dataframe\">\n",
              "  <thead>\n",
              "    <tr style=\"text-align: right;\">\n",
              "      <th></th>\n",
              "      <th>account number</th>\n",
              "      <th>date</th>\n",
              "      <th>ext price</th>\n",
              "      <th>name</th>\n",
              "      <th>quantity</th>\n",
              "      <th>sku</th>\n",
              "      <th>unit price</th>\n",
              "      <th>status</th>\n",
              "    </tr>\n",
              "  </thead>\n",
              "  <tbody>\n",
              "    <tr>\n",
              "      <th>9</th>\n",
              "      <td>737550</td>\n",
              "      <td>2014-01-03 19:07:37</td>\n",
              "      <td>1146.88</td>\n",
              "      <td>Fritsch, Russel and Anderson</td>\n",
              "      <td>14</td>\n",
              "      <td>S2-82423</td>\n",
              "      <td>81.92</td>\n",
              "      <td>NaN</td>\n",
              "    </tr>\n",
              "    <tr>\n",
              "      <th>14</th>\n",
              "      <td>737550</td>\n",
              "      <td>2014-01-04 08:57:48</td>\n",
              "      <td>1645.88</td>\n",
              "      <td>Fritsch, Russel and Anderson</td>\n",
              "      <td>23</td>\n",
              "      <td>B1-53102</td>\n",
              "      <td>71.56</td>\n",
              "      <td>NaN</td>\n",
              "    </tr>\n",
              "    <tr>\n",
              "      <th>26</th>\n",
              "      <td>737550</td>\n",
              "      <td>2014-01-08 00:02:11</td>\n",
              "      <td>1766.52</td>\n",
              "      <td>Fritsch, Russel and Anderson</td>\n",
              "      <td>42</td>\n",
              "      <td>B1-53636</td>\n",
              "      <td>42.06</td>\n",
              "      <td>NaN</td>\n",
              "    </tr>\n",
              "    <tr>\n",
              "      <th>32</th>\n",
              "      <td>737550</td>\n",
              "      <td>2014-01-09 13:20:40</td>\n",
              "      <td>590.80</td>\n",
              "      <td>Fritsch, Russel and Anderson</td>\n",
              "      <td>20</td>\n",
              "      <td>S1-27722</td>\n",
              "      <td>29.54</td>\n",
              "      <td>NaN</td>\n",
              "    </tr>\n",
              "    <tr>\n",
              "      <th>42</th>\n",
              "      <td>737550</td>\n",
              "      <td>2014-01-11 23:47:36</td>\n",
              "      <td>1576.96</td>\n",
              "      <td>Fritsch, Russel and Anderson</td>\n",
              "      <td>22</td>\n",
              "      <td>S1-93683</td>\n",
              "      <td>71.68</td>\n",
              "      <td>NaN</td>\n",
              "    </tr>\n",
              "  </tbody>\n",
              "</table>\n",
              "</div>"
            ],
            "text/plain": [
              "    account number                date  ext price  ...       sku  unit price status\n",
              "9           737550 2014-01-03 19:07:37    1146.88  ...  S2-82423       81.92    NaN\n",
              "14          737550 2014-01-04 08:57:48    1645.88  ...  B1-53102       71.56    NaN\n",
              "26          737550 2014-01-08 00:02:11    1766.52  ...  B1-53636       42.06    NaN\n",
              "32          737550 2014-01-09 13:20:40     590.80  ...  S1-27722       29.54    NaN\n",
              "42          737550 2014-01-11 23:47:36    1576.96  ...  S1-93683       71.68    NaN\n",
              "\n",
              "[5 rows x 8 columns]"
            ]
          },
          "metadata": {
            "tags": []
          },
          "execution_count": 56
        }
      ]
    },
    {
      "cell_type": "markdown",
      "metadata": {
        "id": "V9xcKTU8XhXk",
        "colab_type": "text"
      },
      "source": [
        "This account number was not in our status file, so we have a bunch of NaN’s. We can decide how we want to handle this situation. For this specific case, let’s label all missing accounts as bronze. Use the fillna function to easily accomplish this on the status column."
      ]
    },
    {
      "cell_type": "code",
      "metadata": {
        "id": "cnl4YuE6Xko_",
        "colab_type": "code",
        "outputId": "09378dd8-bfa4-4ab0-f5ae-5c073f98c65f",
        "colab": {
          "base_uri": "https://localhost:8080/",
          "height": 0
        }
      },
      "source": [
        "all_data_st['status'].fillna('bronze',inplace=True)\n",
        "all_data_st.head()"
      ],
      "execution_count": 57,
      "outputs": [
        {
          "output_type": "execute_result",
          "data": {
            "text/html": [
              "<div>\n",
              "<style scoped>\n",
              "    .dataframe tbody tr th:only-of-type {\n",
              "        vertical-align: middle;\n",
              "    }\n",
              "\n",
              "    .dataframe tbody tr th {\n",
              "        vertical-align: top;\n",
              "    }\n",
              "\n",
              "    .dataframe thead th {\n",
              "        text-align: right;\n",
              "    }\n",
              "</style>\n",
              "<table border=\"1\" class=\"dataframe\">\n",
              "  <thead>\n",
              "    <tr style=\"text-align: right;\">\n",
              "      <th></th>\n",
              "      <th>account number</th>\n",
              "      <th>date</th>\n",
              "      <th>ext price</th>\n",
              "      <th>name</th>\n",
              "      <th>quantity</th>\n",
              "      <th>sku</th>\n",
              "      <th>unit price</th>\n",
              "      <th>status</th>\n",
              "    </tr>\n",
              "  </thead>\n",
              "  <tbody>\n",
              "    <tr>\n",
              "      <th>0</th>\n",
              "      <td>740150</td>\n",
              "      <td>2014-01-01 07:21:51</td>\n",
              "      <td>3380.91</td>\n",
              "      <td>Barton LLC</td>\n",
              "      <td>39</td>\n",
              "      <td>B1-20000</td>\n",
              "      <td>86.69</td>\n",
              "      <td>gold</td>\n",
              "    </tr>\n",
              "    <tr>\n",
              "      <th>1</th>\n",
              "      <td>714466</td>\n",
              "      <td>2014-01-01 10:00:47</td>\n",
              "      <td>-63.16</td>\n",
              "      <td>Trantow-Barrows</td>\n",
              "      <td>-1</td>\n",
              "      <td>S2-77896</td>\n",
              "      <td>63.16</td>\n",
              "      <td>silver</td>\n",
              "    </tr>\n",
              "    <tr>\n",
              "      <th>2</th>\n",
              "      <td>218895</td>\n",
              "      <td>2014-01-01 13:24:58</td>\n",
              "      <td>2086.10</td>\n",
              "      <td>Kulas Inc</td>\n",
              "      <td>23</td>\n",
              "      <td>B1-69924</td>\n",
              "      <td>90.70</td>\n",
              "      <td>bronze</td>\n",
              "    </tr>\n",
              "    <tr>\n",
              "      <th>3</th>\n",
              "      <td>307599</td>\n",
              "      <td>2014-01-01 15:05:22</td>\n",
              "      <td>863.05</td>\n",
              "      <td>Kassulke, Ondricka and Metz</td>\n",
              "      <td>41</td>\n",
              "      <td>S1-65481</td>\n",
              "      <td>21.05</td>\n",
              "      <td>bronze</td>\n",
              "    </tr>\n",
              "    <tr>\n",
              "      <th>4</th>\n",
              "      <td>412290</td>\n",
              "      <td>2014-01-01 23:26:55</td>\n",
              "      <td>499.26</td>\n",
              "      <td>Jerde-Hilpert</td>\n",
              "      <td>6</td>\n",
              "      <td>S2-34077</td>\n",
              "      <td>83.21</td>\n",
              "      <td>bronze</td>\n",
              "    </tr>\n",
              "  </tbody>\n",
              "</table>\n",
              "</div>"
            ],
            "text/plain": [
              "   account number                date  ext price  ...       sku  unit price  status\n",
              "0          740150 2014-01-01 07:21:51    3380.91  ...  B1-20000       86.69    gold\n",
              "1          714466 2014-01-01 10:00:47     -63.16  ...  S2-77896       63.16  silver\n",
              "2          218895 2014-01-01 13:24:58    2086.10  ...  B1-69924       90.70  bronze\n",
              "3          307599 2014-01-01 15:05:22     863.05  ...  S1-65481       21.05  bronze\n",
              "4          412290 2014-01-01 23:26:55     499.26  ...  S2-34077       83.21  bronze\n",
              "\n",
              "[5 rows x 8 columns]"
            ]
          },
          "metadata": {
            "tags": []
          },
          "execution_count": 57
        }
      ]
    },
    {
      "cell_type": "markdown",
      "metadata": {
        "id": "ndVkwKeNXwSp",
        "colab_type": "text"
      },
      "source": [
        "Check the data just to make sure we’re all good."
      ]
    },
    {
      "cell_type": "code",
      "metadata": {
        "id": "5CGCNuSkXyau",
        "colab_type": "code",
        "outputId": "bc15b8bd-4c93-467e-a47a-5c9badf557ab",
        "colab": {
          "base_uri": "https://localhost:8080/",
          "height": 0
        }
      },
      "source": [
        "all_data_st[all_data_st[\"account number\"]==737550].head()"
      ],
      "execution_count": 58,
      "outputs": [
        {
          "output_type": "execute_result",
          "data": {
            "text/html": [
              "<div>\n",
              "<style scoped>\n",
              "    .dataframe tbody tr th:only-of-type {\n",
              "        vertical-align: middle;\n",
              "    }\n",
              "\n",
              "    .dataframe tbody tr th {\n",
              "        vertical-align: top;\n",
              "    }\n",
              "\n",
              "    .dataframe thead th {\n",
              "        text-align: right;\n",
              "    }\n",
              "</style>\n",
              "<table border=\"1\" class=\"dataframe\">\n",
              "  <thead>\n",
              "    <tr style=\"text-align: right;\">\n",
              "      <th></th>\n",
              "      <th>account number</th>\n",
              "      <th>date</th>\n",
              "      <th>ext price</th>\n",
              "      <th>name</th>\n",
              "      <th>quantity</th>\n",
              "      <th>sku</th>\n",
              "      <th>unit price</th>\n",
              "      <th>status</th>\n",
              "    </tr>\n",
              "  </thead>\n",
              "  <tbody>\n",
              "    <tr>\n",
              "      <th>9</th>\n",
              "      <td>737550</td>\n",
              "      <td>2014-01-03 19:07:37</td>\n",
              "      <td>1146.88</td>\n",
              "      <td>Fritsch, Russel and Anderson</td>\n",
              "      <td>14</td>\n",
              "      <td>S2-82423</td>\n",
              "      <td>81.92</td>\n",
              "      <td>bronze</td>\n",
              "    </tr>\n",
              "    <tr>\n",
              "      <th>14</th>\n",
              "      <td>737550</td>\n",
              "      <td>2014-01-04 08:57:48</td>\n",
              "      <td>1645.88</td>\n",
              "      <td>Fritsch, Russel and Anderson</td>\n",
              "      <td>23</td>\n",
              "      <td>B1-53102</td>\n",
              "      <td>71.56</td>\n",
              "      <td>bronze</td>\n",
              "    </tr>\n",
              "    <tr>\n",
              "      <th>26</th>\n",
              "      <td>737550</td>\n",
              "      <td>2014-01-08 00:02:11</td>\n",
              "      <td>1766.52</td>\n",
              "      <td>Fritsch, Russel and Anderson</td>\n",
              "      <td>42</td>\n",
              "      <td>B1-53636</td>\n",
              "      <td>42.06</td>\n",
              "      <td>bronze</td>\n",
              "    </tr>\n",
              "    <tr>\n",
              "      <th>32</th>\n",
              "      <td>737550</td>\n",
              "      <td>2014-01-09 13:20:40</td>\n",
              "      <td>590.80</td>\n",
              "      <td>Fritsch, Russel and Anderson</td>\n",
              "      <td>20</td>\n",
              "      <td>S1-27722</td>\n",
              "      <td>29.54</td>\n",
              "      <td>bronze</td>\n",
              "    </tr>\n",
              "    <tr>\n",
              "      <th>42</th>\n",
              "      <td>737550</td>\n",
              "      <td>2014-01-11 23:47:36</td>\n",
              "      <td>1576.96</td>\n",
              "      <td>Fritsch, Russel and Anderson</td>\n",
              "      <td>22</td>\n",
              "      <td>S1-93683</td>\n",
              "      <td>71.68</td>\n",
              "      <td>bronze</td>\n",
              "    </tr>\n",
              "  </tbody>\n",
              "</table>\n",
              "</div>"
            ],
            "text/plain": [
              "    account number                date  ext price  ...       sku  unit price  status\n",
              "9           737550 2014-01-03 19:07:37    1146.88  ...  S2-82423       81.92  bronze\n",
              "14          737550 2014-01-04 08:57:48    1645.88  ...  B1-53102       71.56  bronze\n",
              "26          737550 2014-01-08 00:02:11    1766.52  ...  B1-53636       42.06  bronze\n",
              "32          737550 2014-01-09 13:20:40     590.80  ...  S1-27722       29.54  bronze\n",
              "42          737550 2014-01-11 23:47:36    1576.96  ...  S1-93683       71.68  bronze\n",
              "\n",
              "[5 rows x 8 columns]"
            ]
          },
          "metadata": {
            "tags": []
          },
          "execution_count": 58
        }
      ]
    },
    {
      "cell_type": "markdown",
      "metadata": {
        "id": "eyxGlcNwX1iS",
        "colab_type": "text"
      },
      "source": [
        "Now we have all of the data along with the status column filled in. We can do our normal data manipulations using the full suite of pandas capability."
      ]
    },
    {
      "cell_type": "markdown",
      "metadata": {
        "id": "V-M_JWqGbOZx",
        "colab_type": "text"
      },
      "source": [
        "#### Using Categories"
      ]
    },
    {
      "cell_type": "markdown",
      "metadata": {
        "id": "3vxMjDO4bSd9",
        "colab_type": "text"
      },
      "source": [
        "First, we typecast it the column to a category using astype ."
      ]
    },
    {
      "cell_type": "code",
      "metadata": {
        "id": "zPtb_aqDbUcE",
        "colab_type": "code",
        "colab": {}
      },
      "source": [
        "all_data_st[\"status\"] = all_data_st[\"status\"].astype(\"category\")"
      ],
      "execution_count": 0,
      "outputs": []
    },
    {
      "cell_type": "markdown",
      "metadata": {
        "id": "14n49G2RbbHW",
        "colab_type": "text"
      },
      "source": [
        "This doesn’t immediately appear to change anything yet."
      ]
    },
    {
      "cell_type": "code",
      "metadata": {
        "id": "ywPGLqSsbcRh",
        "colab_type": "code",
        "outputId": "f7c6c389-4a61-49c4-91b5-06a871fbec78",
        "colab": {
          "base_uri": "https://localhost:8080/",
          "height": 0
        }
      },
      "source": [
        "all_data_st.head()"
      ],
      "execution_count": 60,
      "outputs": [
        {
          "output_type": "execute_result",
          "data": {
            "text/html": [
              "<div>\n",
              "<style scoped>\n",
              "    .dataframe tbody tr th:only-of-type {\n",
              "        vertical-align: middle;\n",
              "    }\n",
              "\n",
              "    .dataframe tbody tr th {\n",
              "        vertical-align: top;\n",
              "    }\n",
              "\n",
              "    .dataframe thead th {\n",
              "        text-align: right;\n",
              "    }\n",
              "</style>\n",
              "<table border=\"1\" class=\"dataframe\">\n",
              "  <thead>\n",
              "    <tr style=\"text-align: right;\">\n",
              "      <th></th>\n",
              "      <th>account number</th>\n",
              "      <th>date</th>\n",
              "      <th>ext price</th>\n",
              "      <th>name</th>\n",
              "      <th>quantity</th>\n",
              "      <th>sku</th>\n",
              "      <th>unit price</th>\n",
              "      <th>status</th>\n",
              "    </tr>\n",
              "  </thead>\n",
              "  <tbody>\n",
              "    <tr>\n",
              "      <th>0</th>\n",
              "      <td>740150</td>\n",
              "      <td>2014-01-01 07:21:51</td>\n",
              "      <td>3380.91</td>\n",
              "      <td>Barton LLC</td>\n",
              "      <td>39</td>\n",
              "      <td>B1-20000</td>\n",
              "      <td>86.69</td>\n",
              "      <td>gold</td>\n",
              "    </tr>\n",
              "    <tr>\n",
              "      <th>1</th>\n",
              "      <td>714466</td>\n",
              "      <td>2014-01-01 10:00:47</td>\n",
              "      <td>-63.16</td>\n",
              "      <td>Trantow-Barrows</td>\n",
              "      <td>-1</td>\n",
              "      <td>S2-77896</td>\n",
              "      <td>63.16</td>\n",
              "      <td>silver</td>\n",
              "    </tr>\n",
              "    <tr>\n",
              "      <th>2</th>\n",
              "      <td>218895</td>\n",
              "      <td>2014-01-01 13:24:58</td>\n",
              "      <td>2086.10</td>\n",
              "      <td>Kulas Inc</td>\n",
              "      <td>23</td>\n",
              "      <td>B1-69924</td>\n",
              "      <td>90.70</td>\n",
              "      <td>bronze</td>\n",
              "    </tr>\n",
              "    <tr>\n",
              "      <th>3</th>\n",
              "      <td>307599</td>\n",
              "      <td>2014-01-01 15:05:22</td>\n",
              "      <td>863.05</td>\n",
              "      <td>Kassulke, Ondricka and Metz</td>\n",
              "      <td>41</td>\n",
              "      <td>S1-65481</td>\n",
              "      <td>21.05</td>\n",
              "      <td>bronze</td>\n",
              "    </tr>\n",
              "    <tr>\n",
              "      <th>4</th>\n",
              "      <td>412290</td>\n",
              "      <td>2014-01-01 23:26:55</td>\n",
              "      <td>499.26</td>\n",
              "      <td>Jerde-Hilpert</td>\n",
              "      <td>6</td>\n",
              "      <td>S2-34077</td>\n",
              "      <td>83.21</td>\n",
              "      <td>bronze</td>\n",
              "    </tr>\n",
              "  </tbody>\n",
              "</table>\n",
              "</div>"
            ],
            "text/plain": [
              "   account number                date  ext price  ...       sku  unit price  status\n",
              "0          740150 2014-01-01 07:21:51    3380.91  ...  B1-20000       86.69    gold\n",
              "1          714466 2014-01-01 10:00:47     -63.16  ...  S2-77896       63.16  silver\n",
              "2          218895 2014-01-01 13:24:58    2086.10  ...  B1-69924       90.70  bronze\n",
              "3          307599 2014-01-01 15:05:22     863.05  ...  S1-65481       21.05  bronze\n",
              "4          412290 2014-01-01 23:26:55     499.26  ...  S2-34077       83.21  bronze\n",
              "\n",
              "[5 rows x 8 columns]"
            ]
          },
          "metadata": {
            "tags": []
          },
          "execution_count": 60
        }
      ]
    },
    {
      "cell_type": "code",
      "metadata": {
        "id": "1zWeTboQbkIH",
        "colab_type": "code",
        "outputId": "a3c2c9b8-d9a8-451a-cb6b-0b45ba075ac1",
        "colab": {
          "base_uri": "https://localhost:8080/",
          "height": 0
        }
      },
      "source": [
        "all_data_st.dtypes"
      ],
      "execution_count": 61,
      "outputs": [
        {
          "output_type": "execute_result",
          "data": {
            "text/plain": [
              "account number             int64\n",
              "date              datetime64[ns]\n",
              "ext price                float64\n",
              "name                      object\n",
              "quantity                   int64\n",
              "sku                       object\n",
              "unit price               float64\n",
              "status                  category\n",
              "dtype: object"
            ]
          },
          "metadata": {
            "tags": []
          },
          "execution_count": 61
        }
      ]
    },
    {
      "cell_type": "markdown",
      "metadata": {
        "id": "Q6qBvqR2boE_",
        "colab_type": "text"
      },
      "source": [
        "Categories get more interesting when you assign order to the categories. Right now, if we call sort on the column, it will sort alphabetically."
      ]
    },
    {
      "cell_type": "code",
      "metadata": {
        "id": "uir7aiIpbqNu",
        "colab_type": "code",
        "outputId": "582a59d0-66d5-4662-98fa-60f98d4057b2",
        "colab": {
          "base_uri": "https://localhost:8080/",
          "height": 0
        }
      },
      "source": [
        "all_data_st.sort_values(by=[\"status\"]).head()"
      ],
      "execution_count": 62,
      "outputs": [
        {
          "output_type": "execute_result",
          "data": {
            "text/html": [
              "<div>\n",
              "<style scoped>\n",
              "    .dataframe tbody tr th:only-of-type {\n",
              "        vertical-align: middle;\n",
              "    }\n",
              "\n",
              "    .dataframe tbody tr th {\n",
              "        vertical-align: top;\n",
              "    }\n",
              "\n",
              "    .dataframe thead th {\n",
              "        text-align: right;\n",
              "    }\n",
              "</style>\n",
              "<table border=\"1\" class=\"dataframe\">\n",
              "  <thead>\n",
              "    <tr style=\"text-align: right;\">\n",
              "      <th></th>\n",
              "      <th>account number</th>\n",
              "      <th>date</th>\n",
              "      <th>ext price</th>\n",
              "      <th>name</th>\n",
              "      <th>quantity</th>\n",
              "      <th>sku</th>\n",
              "      <th>unit price</th>\n",
              "      <th>status</th>\n",
              "    </tr>\n",
              "  </thead>\n",
              "  <tbody>\n",
              "    <tr>\n",
              "      <th>102</th>\n",
              "      <td>218895</td>\n",
              "      <td>2014-01-22 23:49:39</td>\n",
              "      <td>1041.39</td>\n",
              "      <td>Kulas Inc</td>\n",
              "      <td>21</td>\n",
              "      <td>S1-93683</td>\n",
              "      <td>49.59</td>\n",
              "      <td>bronze</td>\n",
              "    </tr>\n",
              "    <tr>\n",
              "      <th>187</th>\n",
              "      <td>412290</td>\n",
              "      <td>2014-02-13 12:35:26</td>\n",
              "      <td>820.23</td>\n",
              "      <td>Jerde-Hilpert</td>\n",
              "      <td>19</td>\n",
              "      <td>S2-78676</td>\n",
              "      <td>43.17</td>\n",
              "      <td>bronze</td>\n",
              "    </tr>\n",
              "    <tr>\n",
              "      <th>279</th>\n",
              "      <td>527099</td>\n",
              "      <td>2014-03-09 19:13:20</td>\n",
              "      <td>3330.95</td>\n",
              "      <td>Sanford and Sons</td>\n",
              "      <td>35</td>\n",
              "      <td>S1-82801</td>\n",
              "      <td>95.17</td>\n",
              "      <td>bronze</td>\n",
              "    </tr>\n",
              "    <tr>\n",
              "      <th>114</th>\n",
              "      <td>163416</td>\n",
              "      <td>2014-01-26 20:08:00</td>\n",
              "      <td>3005.45</td>\n",
              "      <td>Purdy-Kunde</td>\n",
              "      <td>35</td>\n",
              "      <td>B1-05914</td>\n",
              "      <td>85.87</td>\n",
              "      <td>bronze</td>\n",
              "    </tr>\n",
              "    <tr>\n",
              "      <th>115</th>\n",
              "      <td>737550</td>\n",
              "      <td>2014-01-27 01:59:54</td>\n",
              "      <td>937.86</td>\n",
              "      <td>Fritsch, Russel and Anderson</td>\n",
              "      <td>49</td>\n",
              "      <td>B1-65551</td>\n",
              "      <td>19.14</td>\n",
              "      <td>bronze</td>\n",
              "    </tr>\n",
              "  </tbody>\n",
              "</table>\n",
              "</div>"
            ],
            "text/plain": [
              "     account number                date  ...  unit price  status\n",
              "102          218895 2014-01-22 23:49:39  ...       49.59  bronze\n",
              "187          412290 2014-02-13 12:35:26  ...       43.17  bronze\n",
              "279          527099 2014-03-09 19:13:20  ...       95.17  bronze\n",
              "114          163416 2014-01-26 20:08:00  ...       85.87  bronze\n",
              "115          737550 2014-01-27 01:59:54  ...       19.14  bronze\n",
              "\n",
              "[5 rows x 8 columns]"
            ]
          },
          "metadata": {
            "tags": []
          },
          "execution_count": 62
        }
      ]
    },
    {
      "cell_type": "markdown",
      "metadata": {
        "id": "bwkvsYWubytZ",
        "colab_type": "text"
      },
      "source": [
        "We use set_categories to tell it the order we want to use for this category object. In this case, we use the Olympic medal ordering."
      ]
    },
    {
      "cell_type": "code",
      "metadata": {
        "id": "JeFfuedxb20F",
        "colab_type": "code",
        "colab": {}
      },
      "source": [
        "all_data_st[\"status\"].cat.set_categories([ \"gold\",\"silver\",\"bronze\"],inplace=True)"
      ],
      "execution_count": 0,
      "outputs": []
    },
    {
      "cell_type": "markdown",
      "metadata": {
        "id": "NjofY36Ub5Fk",
        "colab_type": "text"
      },
      "source": [
        "Now, we can sort it so that gold shows on top."
      ]
    },
    {
      "cell_type": "code",
      "metadata": {
        "id": "5RKmOA4rb7Z5",
        "colab_type": "code",
        "outputId": "155b42f3-9ef0-4341-ddd7-c5b2baf4148d",
        "colab": {
          "base_uri": "https://localhost:8080/",
          "height": 0
        }
      },
      "source": [
        "all_data_st.sort_values(by=[\"status\"]).head()\n"
      ],
      "execution_count": 64,
      "outputs": [
        {
          "output_type": "execute_result",
          "data": {
            "text/html": [
              "<div>\n",
              "<style scoped>\n",
              "    .dataframe tbody tr th:only-of-type {\n",
              "        vertical-align: middle;\n",
              "    }\n",
              "\n",
              "    .dataframe tbody tr th {\n",
              "        vertical-align: top;\n",
              "    }\n",
              "\n",
              "    .dataframe thead th {\n",
              "        text-align: right;\n",
              "    }\n",
              "</style>\n",
              "<table border=\"1\" class=\"dataframe\">\n",
              "  <thead>\n",
              "    <tr style=\"text-align: right;\">\n",
              "      <th></th>\n",
              "      <th>account number</th>\n",
              "      <th>date</th>\n",
              "      <th>ext price</th>\n",
              "      <th>name</th>\n",
              "      <th>quantity</th>\n",
              "      <th>sku</th>\n",
              "      <th>unit price</th>\n",
              "      <th>status</th>\n",
              "    </tr>\n",
              "  </thead>\n",
              "  <tbody>\n",
              "    <tr>\n",
              "      <th>0</th>\n",
              "      <td>740150</td>\n",
              "      <td>2014-01-01 07:21:51</td>\n",
              "      <td>3380.91</td>\n",
              "      <td>Barton LLC</td>\n",
              "      <td>39</td>\n",
              "      <td>B1-20000</td>\n",
              "      <td>86.69</td>\n",
              "      <td>gold</td>\n",
              "    </tr>\n",
              "    <tr>\n",
              "      <th>204</th>\n",
              "      <td>141962</td>\n",
              "      <td>2014-02-18 13:55:44</td>\n",
              "      <td>1116.28</td>\n",
              "      <td>Herman LLC</td>\n",
              "      <td>44</td>\n",
              "      <td>B1-33364</td>\n",
              "      <td>25.37</td>\n",
              "      <td>gold</td>\n",
              "    </tr>\n",
              "    <tr>\n",
              "      <th>202</th>\n",
              "      <td>740150</td>\n",
              "      <td>2014-02-17 17:12:16</td>\n",
              "      <td>1380.74</td>\n",
              "      <td>Barton LLC</td>\n",
              "      <td>17</td>\n",
              "      <td>B1-38851</td>\n",
              "      <td>81.22</td>\n",
              "      <td>gold</td>\n",
              "    </tr>\n",
              "    <tr>\n",
              "      <th>197</th>\n",
              "      <td>257198</td>\n",
              "      <td>2014-02-15 17:27:44</td>\n",
              "      <td>285.88</td>\n",
              "      <td>Cronin, Oberbrunner and Spencer</td>\n",
              "      <td>28</td>\n",
              "      <td>S1-27722</td>\n",
              "      <td>10.21</td>\n",
              "      <td>gold</td>\n",
              "    </tr>\n",
              "    <tr>\n",
              "      <th>195</th>\n",
              "      <td>740150</td>\n",
              "      <td>2014-02-15 07:45:16</td>\n",
              "      <td>2278.92</td>\n",
              "      <td>Barton LLC</td>\n",
              "      <td>28</td>\n",
              "      <td>B1-20000</td>\n",
              "      <td>81.39</td>\n",
              "      <td>gold</td>\n",
              "    </tr>\n",
              "  </tbody>\n",
              "</table>\n",
              "</div>"
            ],
            "text/plain": [
              "     account number                date  ext price  ...       sku  unit price status\n",
              "0            740150 2014-01-01 07:21:51    3380.91  ...  B1-20000       86.69   gold\n",
              "204          141962 2014-02-18 13:55:44    1116.28  ...  B1-33364       25.37   gold\n",
              "202          740150 2014-02-17 17:12:16    1380.74  ...  B1-38851       81.22   gold\n",
              "197          257198 2014-02-15 17:27:44     285.88  ...  S1-27722       10.21   gold\n",
              "195          740150 2014-02-15 07:45:16    2278.92  ...  B1-20000       81.39   gold\n",
              "\n",
              "[5 rows x 8 columns]"
            ]
          },
          "metadata": {
            "tags": []
          },
          "execution_count": 64
        }
      ]
    },
    {
      "cell_type": "markdown",
      "metadata": {
        "id": "2cExFiMOcBPS",
        "colab_type": "text"
      },
      "source": [
        "#### Analyze Data"
      ]
    },
    {
      "cell_type": "markdown",
      "metadata": {
        "id": "cNsKwD9LcDrT",
        "colab_type": "text"
      },
      "source": [
        "The final step in the process is to analyze the data. Now that it is consolidated and cleaned, we can see if there are any insights to be learned."
      ]
    },
    {
      "cell_type": "code",
      "metadata": {
        "id": "FxQY0qmecF77",
        "colab_type": "code",
        "outputId": "20f9f041-8b52-48df-f8a3-bb4806333da1",
        "colab": {
          "base_uri": "https://localhost:8080/",
          "height": 0
        }
      },
      "source": [
        "all_data_st[\"status\"].describe()"
      ],
      "execution_count": 65,
      "outputs": [
        {
          "output_type": "execute_result",
          "data": {
            "text/plain": [
              "count        384\n",
              "unique         3\n",
              "top       bronze\n",
              "freq         172\n",
              "Name: status, dtype: object"
            ]
          },
          "metadata": {
            "tags": []
          },
          "execution_count": 65
        }
      ]
    },
    {
      "cell_type": "markdown",
      "metadata": {
        "id": "yiFOe9mdcLHN",
        "colab_type": "text"
      },
      "source": [
        "For instance, if you want to take a quick look at how your top tier customers are performaing compared to the bottom. Use groupby to get the average of the values."
      ]
    },
    {
      "cell_type": "code",
      "metadata": {
        "id": "b-IVtXqtcNgC",
        "colab_type": "code",
        "outputId": "46b2ade0-364f-4955-99c5-a7356312cf99",
        "colab": {
          "base_uri": "https://localhost:8080/",
          "height": 0
        }
      },
      "source": [
        "all_data_st.groupby([\"status\"])[\"quantity\",\"unit price\",\"ext price\"].mean()"
      ],
      "execution_count": 66,
      "outputs": [
        {
          "output_type": "execute_result",
          "data": {
            "text/html": [
              "<div>\n",
              "<style scoped>\n",
              "    .dataframe tbody tr th:only-of-type {\n",
              "        vertical-align: middle;\n",
              "    }\n",
              "\n",
              "    .dataframe tbody tr th {\n",
              "        vertical-align: top;\n",
              "    }\n",
              "\n",
              "    .dataframe thead th {\n",
              "        text-align: right;\n",
              "    }\n",
              "</style>\n",
              "<table border=\"1\" class=\"dataframe\">\n",
              "  <thead>\n",
              "    <tr style=\"text-align: right;\">\n",
              "      <th></th>\n",
              "      <th>quantity</th>\n",
              "      <th>unit price</th>\n",
              "      <th>ext price</th>\n",
              "    </tr>\n",
              "    <tr>\n",
              "      <th>status</th>\n",
              "      <th></th>\n",
              "      <th></th>\n",
              "      <th></th>\n",
              "    </tr>\n",
              "  </thead>\n",
              "  <tbody>\n",
              "    <tr>\n",
              "      <th>gold</th>\n",
              "      <td>24.375000</td>\n",
              "      <td>53.723889</td>\n",
              "      <td>1351.944583</td>\n",
              "    </tr>\n",
              "    <tr>\n",
              "      <th>silver</th>\n",
              "      <td>22.842857</td>\n",
              "      <td>57.272714</td>\n",
              "      <td>1320.032214</td>\n",
              "    </tr>\n",
              "    <tr>\n",
              "      <th>bronze</th>\n",
              "      <td>25.616279</td>\n",
              "      <td>57.371163</td>\n",
              "      <td>1472.965930</td>\n",
              "    </tr>\n",
              "  </tbody>\n",
              "</table>\n",
              "</div>"
            ],
            "text/plain": [
              "         quantity  unit price    ext price\n",
              "status                                    \n",
              "gold    24.375000   53.723889  1351.944583\n",
              "silver  22.842857   57.272714  1320.032214\n",
              "bronze  25.616279   57.371163  1472.965930"
            ]
          },
          "metadata": {
            "tags": []
          },
          "execution_count": 66
        }
      ]
    },
    {
      "cell_type": "markdown",
      "metadata": {
        "id": "8BWKk13RcVSs",
        "colab_type": "text"
      },
      "source": [
        "Of course, you can run multiple aggregation functions on the data to get really useful information"
      ]
    },
    {
      "cell_type": "code",
      "metadata": {
        "id": "HZBc1WAjcXQ6",
        "colab_type": "code",
        "outputId": "8aa0036f-0a06-4060-906a-b3f4e7946fb3",
        "colab": {
          "base_uri": "https://localhost:8080/",
          "height": 0
        }
      },
      "source": [
        "all_data_st.groupby([\"status\"])[\"quantity\",\"unit price\",\"ext price\"].agg([np.sum,np.mean, np.std])"
      ],
      "execution_count": 67,
      "outputs": [
        {
          "output_type": "execute_result",
          "data": {
            "text/html": [
              "<div>\n",
              "<style scoped>\n",
              "    .dataframe tbody tr th:only-of-type {\n",
              "        vertical-align: middle;\n",
              "    }\n",
              "\n",
              "    .dataframe tbody tr th {\n",
              "        vertical-align: top;\n",
              "    }\n",
              "\n",
              "    .dataframe thead tr th {\n",
              "        text-align: left;\n",
              "    }\n",
              "\n",
              "    .dataframe thead tr:last-of-type th {\n",
              "        text-align: right;\n",
              "    }\n",
              "</style>\n",
              "<table border=\"1\" class=\"dataframe\">\n",
              "  <thead>\n",
              "    <tr>\n",
              "      <th></th>\n",
              "      <th colspan=\"3\" halign=\"left\">quantity</th>\n",
              "      <th colspan=\"3\" halign=\"left\">unit price</th>\n",
              "      <th colspan=\"3\" halign=\"left\">ext price</th>\n",
              "    </tr>\n",
              "    <tr>\n",
              "      <th></th>\n",
              "      <th>sum</th>\n",
              "      <th>mean</th>\n",
              "      <th>std</th>\n",
              "      <th>sum</th>\n",
              "      <th>mean</th>\n",
              "      <th>std</th>\n",
              "      <th>sum</th>\n",
              "      <th>mean</th>\n",
              "      <th>std</th>\n",
              "    </tr>\n",
              "    <tr>\n",
              "      <th>status</th>\n",
              "      <th></th>\n",
              "      <th></th>\n",
              "      <th></th>\n",
              "      <th></th>\n",
              "      <th></th>\n",
              "      <th></th>\n",
              "      <th></th>\n",
              "      <th></th>\n",
              "      <th></th>\n",
              "    </tr>\n",
              "  </thead>\n",
              "  <tbody>\n",
              "    <tr>\n",
              "      <th>gold</th>\n",
              "      <td>1755</td>\n",
              "      <td>24.375000</td>\n",
              "      <td>14.575145</td>\n",
              "      <td>3868.12</td>\n",
              "      <td>53.723889</td>\n",
              "      <td>28.740080</td>\n",
              "      <td>97340.01</td>\n",
              "      <td>1351.944583</td>\n",
              "      <td>1182.657312</td>\n",
              "    </tr>\n",
              "    <tr>\n",
              "      <th>silver</th>\n",
              "      <td>3198</td>\n",
              "      <td>22.842857</td>\n",
              "      <td>14.512843</td>\n",
              "      <td>8018.18</td>\n",
              "      <td>57.272714</td>\n",
              "      <td>26.556242</td>\n",
              "      <td>184804.51</td>\n",
              "      <td>1320.032214</td>\n",
              "      <td>1086.384051</td>\n",
              "    </tr>\n",
              "    <tr>\n",
              "      <th>bronze</th>\n",
              "      <td>4406</td>\n",
              "      <td>25.616279</td>\n",
              "      <td>14.136071</td>\n",
              "      <td>9867.84</td>\n",
              "      <td>57.371163</td>\n",
              "      <td>26.857370</td>\n",
              "      <td>253350.14</td>\n",
              "      <td>1472.965930</td>\n",
              "      <td>1116.683843</td>\n",
              "    </tr>\n",
              "  </tbody>\n",
              "</table>\n",
              "</div>"
            ],
            "text/plain": [
              "       quantity                        ...  ext price                          \n",
              "            sum       mean        std  ...        sum         mean          std\n",
              "status                                 ...                                     \n",
              "gold       1755  24.375000  14.575145  ...   97340.01  1351.944583  1182.657312\n",
              "silver     3198  22.842857  14.512843  ...  184804.51  1320.032214  1086.384051\n",
              "bronze     4406  25.616279  14.136071  ...  253350.14  1472.965930  1116.683843\n",
              "\n",
              "[3 rows x 9 columns]"
            ]
          },
          "metadata": {
            "tags": []
          },
          "execution_count": 67
        }
      ]
    },
    {
      "cell_type": "markdown",
      "metadata": {
        "id": "0rVLnKvjcb_S",
        "colab_type": "text"
      },
      "source": [
        "So, what does this tell you? Well, the data is completely random but my first observation is that we sell more units to our bronze customers than gold. Even when you look at the total dollar value associated with bronze vs. gold, it looks odd that we sell more to bronze customers than gold.\n",
        "\n",
        "Maybe we should look at how many bronze customers we have and see what is going on?\n",
        "\n",
        "What I plan to do is filter out the unique accounts and see how many gold, silver and bronze customers there are.\n",
        "\n",
        "I’m purposely stringing a lot of commands together which is not necessarily best practice but does show how powerful pandas can be. Feel free to review my previous article here and here to understand it better. Play with this command yourself to understand how the commands interact."
      ]
    },
    {
      "cell_type": "code",
      "metadata": {
        "id": "KtaI8nOhchuJ",
        "colab_type": "code",
        "outputId": "7130898d-78c7-416e-8208-2a39c2ee2674",
        "colab": {
          "base_uri": "https://localhost:8080/",
          "height": 0
        }
      },
      "source": [
        "all_data_st.drop_duplicates(subset=[\"account number\",\"name\"]).groupby([\"status\"])[\"name\"].count()"
      ],
      "execution_count": 68,
      "outputs": [
        {
          "output_type": "execute_result",
          "data": {
            "text/plain": [
              "status\n",
              "gold      4\n",
              "silver    7\n",
              "bronze    9\n",
              "Name: name, dtype: int64"
            ]
          },
          "metadata": {
            "tags": []
          },
          "execution_count": 68
        }
      ]
    },
    {
      "cell_type": "markdown",
      "metadata": {
        "id": "AIRdL5WrdPHj",
        "colab_type": "text"
      },
      "source": [
        "#### Pandas Pivot Table Explained [link](https://pbpython.com/pandas-pivot-table-explained.html)"
      ]
    },
    {
      "cell_type": "markdown",
      "metadata": {
        "id": "Rcv412ntdYtj",
        "colab_type": "text"
      },
      "source": [
        "##### Introduction"
      ]
    },
    {
      "cell_type": "markdown",
      "metadata": {
        "id": "_DeZWimpdekb",
        "colab_type": "text"
      },
      "source": [
        "Most people likely have experience with pivot tables in Excel. Pandas provides a similar function called (appropriately enough) pivot_table.\n",
        "\n",
        "As an added bonus, I’ve created a simple cheat sheet that summarizes the pivot_table. You can find it at the end of this post and I hope it serves as a useful reference. Let me know if it is helpful."
      ]
    },
    {
      "cell_type": "markdown",
      "metadata": {
        "id": "pmpD0GVZdtSD",
        "colab_type": "text"
      },
      "source": [
        "##### The Data"
      ]
    },
    {
      "cell_type": "markdown",
      "metadata": {
        "id": "J8g_lst9d0Nb",
        "colab_type": "text"
      },
      "source": [
        "Read in the data"
      ]
    },
    {
      "cell_type": "code",
      "metadata": {
        "id": "o9qkhDWxd4DQ",
        "colab_type": "code",
        "outputId": "6c072ad2-050b-48ca-9c0a-6ecb7b4adfdb",
        "colab": {
          "base_uri": "https://localhost:8080/",
          "height": 0
        }
      },
      "source": [
        "df = pd.read_excel(\"https://github.com/chris1610/pbpython/blob/master/data/salesfunnel.xlsx?raw=true\")\n",
        "df.head()"
      ],
      "execution_count": 69,
      "outputs": [
        {
          "output_type": "execute_result",
          "data": {
            "text/html": [
              "<div>\n",
              "<style scoped>\n",
              "    .dataframe tbody tr th:only-of-type {\n",
              "        vertical-align: middle;\n",
              "    }\n",
              "\n",
              "    .dataframe tbody tr th {\n",
              "        vertical-align: top;\n",
              "    }\n",
              "\n",
              "    .dataframe thead th {\n",
              "        text-align: right;\n",
              "    }\n",
              "</style>\n",
              "<table border=\"1\" class=\"dataframe\">\n",
              "  <thead>\n",
              "    <tr style=\"text-align: right;\">\n",
              "      <th></th>\n",
              "      <th>Account</th>\n",
              "      <th>Name</th>\n",
              "      <th>Rep</th>\n",
              "      <th>Manager</th>\n",
              "      <th>Product</th>\n",
              "      <th>Quantity</th>\n",
              "      <th>Price</th>\n",
              "      <th>Status</th>\n",
              "    </tr>\n",
              "  </thead>\n",
              "  <tbody>\n",
              "    <tr>\n",
              "      <th>0</th>\n",
              "      <td>714466</td>\n",
              "      <td>Trantow-Barrows</td>\n",
              "      <td>Craig Booker</td>\n",
              "      <td>Debra Henley</td>\n",
              "      <td>CPU</td>\n",
              "      <td>1</td>\n",
              "      <td>30000</td>\n",
              "      <td>presented</td>\n",
              "    </tr>\n",
              "    <tr>\n",
              "      <th>1</th>\n",
              "      <td>714466</td>\n",
              "      <td>Trantow-Barrows</td>\n",
              "      <td>Craig Booker</td>\n",
              "      <td>Debra Henley</td>\n",
              "      <td>Software</td>\n",
              "      <td>1</td>\n",
              "      <td>10000</td>\n",
              "      <td>presented</td>\n",
              "    </tr>\n",
              "    <tr>\n",
              "      <th>2</th>\n",
              "      <td>714466</td>\n",
              "      <td>Trantow-Barrows</td>\n",
              "      <td>Craig Booker</td>\n",
              "      <td>Debra Henley</td>\n",
              "      <td>Maintenance</td>\n",
              "      <td>2</td>\n",
              "      <td>5000</td>\n",
              "      <td>pending</td>\n",
              "    </tr>\n",
              "    <tr>\n",
              "      <th>3</th>\n",
              "      <td>737550</td>\n",
              "      <td>Fritsch, Russel and Anderson</td>\n",
              "      <td>Craig Booker</td>\n",
              "      <td>Debra Henley</td>\n",
              "      <td>CPU</td>\n",
              "      <td>1</td>\n",
              "      <td>35000</td>\n",
              "      <td>declined</td>\n",
              "    </tr>\n",
              "    <tr>\n",
              "      <th>4</th>\n",
              "      <td>146832</td>\n",
              "      <td>Kiehn-Spinka</td>\n",
              "      <td>Daniel Hilton</td>\n",
              "      <td>Debra Henley</td>\n",
              "      <td>CPU</td>\n",
              "      <td>2</td>\n",
              "      <td>65000</td>\n",
              "      <td>won</td>\n",
              "    </tr>\n",
              "  </tbody>\n",
              "</table>\n",
              "</div>"
            ],
            "text/plain": [
              "   Account                          Name  ...  Price     Status\n",
              "0   714466               Trantow-Barrows  ...  30000  presented\n",
              "1   714466               Trantow-Barrows  ...  10000  presented\n",
              "2   714466               Trantow-Barrows  ...   5000    pending\n",
              "3   737550  Fritsch, Russel and Anderson  ...  35000   declined\n",
              "4   146832                  Kiehn-Spinka  ...  65000        won\n",
              "\n",
              "[5 rows x 8 columns]"
            ]
          },
          "metadata": {
            "tags": []
          },
          "execution_count": 69
        }
      ]
    },
    {
      "cell_type": "markdown",
      "metadata": {
        "id": "NJSZ1rz2eGoV",
        "colab_type": "text"
      },
      "source": [
        "For convenience sake, let’s define the status column as a category and set the order we want to view.\n",
        "\n",
        "This isn’t strictly required but helps us keep the order we want as we work through analyzing the data."
      ]
    },
    {
      "cell_type": "code",
      "metadata": {
        "id": "lIvZCfGDeDxV",
        "colab_type": "code",
        "colab": {}
      },
      "source": [
        "df[\"Status\"] = df[\"Status\"].astype(\"category\")\n",
        "df[\"Status\"].cat.set_categories([\"won\",\"pending\",\"presented\",\"declined\"],inplace=True)"
      ],
      "execution_count": 0,
      "outputs": []
    },
    {
      "cell_type": "markdown",
      "metadata": {
        "id": "_gEmXJLpeRBP",
        "colab_type": "text"
      },
      "source": [
        "##### Pivot the data\n",
        "As we build up the pivot table, I think it’s easiest to take it one step at a time. Add items and check each step to verify you are getting the results you expect. Don’t be afraid to play with the order and the variables to see what presentation makes the most sense for your needs.\n",
        "\n",
        "The simplest pivot table must have a dataframe and an index . In this case, let’s use the Name as our index."
      ]
    },
    {
      "cell_type": "code",
      "metadata": {
        "id": "j6TEeO-9eVW5",
        "colab_type": "code",
        "outputId": "8f915ed3-dd03-4c84-abd4-013062b5bb0c",
        "colab": {
          "base_uri": "https://localhost:8080/",
          "height": 0
        }
      },
      "source": [
        "pd.pivot_table(df,index=[\"Name\"])"
      ],
      "execution_count": 71,
      "outputs": [
        {
          "output_type": "execute_result",
          "data": {
            "text/html": [
              "<div>\n",
              "<style scoped>\n",
              "    .dataframe tbody tr th:only-of-type {\n",
              "        vertical-align: middle;\n",
              "    }\n",
              "\n",
              "    .dataframe tbody tr th {\n",
              "        vertical-align: top;\n",
              "    }\n",
              "\n",
              "    .dataframe thead th {\n",
              "        text-align: right;\n",
              "    }\n",
              "</style>\n",
              "<table border=\"1\" class=\"dataframe\">\n",
              "  <thead>\n",
              "    <tr style=\"text-align: right;\">\n",
              "      <th></th>\n",
              "      <th>Account</th>\n",
              "      <th>Price</th>\n",
              "      <th>Quantity</th>\n",
              "    </tr>\n",
              "    <tr>\n",
              "      <th>Name</th>\n",
              "      <th></th>\n",
              "      <th></th>\n",
              "      <th></th>\n",
              "    </tr>\n",
              "  </thead>\n",
              "  <tbody>\n",
              "    <tr>\n",
              "      <th>Barton LLC</th>\n",
              "      <td>740150</td>\n",
              "      <td>35000</td>\n",
              "      <td>1.000000</td>\n",
              "    </tr>\n",
              "    <tr>\n",
              "      <th>Fritsch, Russel and Anderson</th>\n",
              "      <td>737550</td>\n",
              "      <td>35000</td>\n",
              "      <td>1.000000</td>\n",
              "    </tr>\n",
              "    <tr>\n",
              "      <th>Herman LLC</th>\n",
              "      <td>141962</td>\n",
              "      <td>65000</td>\n",
              "      <td>2.000000</td>\n",
              "    </tr>\n",
              "    <tr>\n",
              "      <th>Jerde-Hilpert</th>\n",
              "      <td>412290</td>\n",
              "      <td>5000</td>\n",
              "      <td>2.000000</td>\n",
              "    </tr>\n",
              "    <tr>\n",
              "      <th>Kassulke, Ondricka and Metz</th>\n",
              "      <td>307599</td>\n",
              "      <td>7000</td>\n",
              "      <td>3.000000</td>\n",
              "    </tr>\n",
              "    <tr>\n",
              "      <th>Keeling LLC</th>\n",
              "      <td>688981</td>\n",
              "      <td>100000</td>\n",
              "      <td>5.000000</td>\n",
              "    </tr>\n",
              "    <tr>\n",
              "      <th>Kiehn-Spinka</th>\n",
              "      <td>146832</td>\n",
              "      <td>65000</td>\n",
              "      <td>2.000000</td>\n",
              "    </tr>\n",
              "    <tr>\n",
              "      <th>Koepp Ltd</th>\n",
              "      <td>729833</td>\n",
              "      <td>35000</td>\n",
              "      <td>2.000000</td>\n",
              "    </tr>\n",
              "    <tr>\n",
              "      <th>Kulas Inc</th>\n",
              "      <td>218895</td>\n",
              "      <td>25000</td>\n",
              "      <td>1.500000</td>\n",
              "    </tr>\n",
              "    <tr>\n",
              "      <th>Purdy-Kunde</th>\n",
              "      <td>163416</td>\n",
              "      <td>30000</td>\n",
              "      <td>1.000000</td>\n",
              "    </tr>\n",
              "    <tr>\n",
              "      <th>Stokes LLC</th>\n",
              "      <td>239344</td>\n",
              "      <td>7500</td>\n",
              "      <td>1.000000</td>\n",
              "    </tr>\n",
              "    <tr>\n",
              "      <th>Trantow-Barrows</th>\n",
              "      <td>714466</td>\n",
              "      <td>15000</td>\n",
              "      <td>1.333333</td>\n",
              "    </tr>\n",
              "  </tbody>\n",
              "</table>\n",
              "</div>"
            ],
            "text/plain": [
              "                              Account   Price  Quantity\n",
              "Name                                                   \n",
              "Barton LLC                     740150   35000  1.000000\n",
              "Fritsch, Russel and Anderson   737550   35000  1.000000\n",
              "Herman LLC                     141962   65000  2.000000\n",
              "Jerde-Hilpert                  412290    5000  2.000000\n",
              "Kassulke, Ondricka and Metz    307599    7000  3.000000\n",
              "Keeling LLC                    688981  100000  5.000000\n",
              "Kiehn-Spinka                   146832   65000  2.000000\n",
              "Koepp Ltd                      729833   35000  2.000000\n",
              "Kulas Inc                      218895   25000  1.500000\n",
              "Purdy-Kunde                    163416   30000  1.000000\n",
              "Stokes LLC                     239344    7500  1.000000\n",
              "Trantow-Barrows                714466   15000  1.333333"
            ]
          },
          "metadata": {
            "tags": []
          },
          "execution_count": 71
        }
      ]
    },
    {
      "cell_type": "code",
      "metadata": {
        "id": "GTvafeMgech4",
        "colab_type": "code",
        "outputId": "f8d1fc86-a998-49d1-bd5e-cf4a7731a63f",
        "colab": {
          "base_uri": "https://localhost:8080/",
          "height": 0
        }
      },
      "source": [
        "pd.pivot_table(df,index=[\"Name\",\"Rep\",\"Manager\"])"
      ],
      "execution_count": 72,
      "outputs": [
        {
          "output_type": "execute_result",
          "data": {
            "text/html": [
              "<div>\n",
              "<style scoped>\n",
              "    .dataframe tbody tr th:only-of-type {\n",
              "        vertical-align: middle;\n",
              "    }\n",
              "\n",
              "    .dataframe tbody tr th {\n",
              "        vertical-align: top;\n",
              "    }\n",
              "\n",
              "    .dataframe thead th {\n",
              "        text-align: right;\n",
              "    }\n",
              "</style>\n",
              "<table border=\"1\" class=\"dataframe\">\n",
              "  <thead>\n",
              "    <tr style=\"text-align: right;\">\n",
              "      <th></th>\n",
              "      <th></th>\n",
              "      <th></th>\n",
              "      <th>Account</th>\n",
              "      <th>Price</th>\n",
              "      <th>Quantity</th>\n",
              "    </tr>\n",
              "    <tr>\n",
              "      <th>Name</th>\n",
              "      <th>Rep</th>\n",
              "      <th>Manager</th>\n",
              "      <th></th>\n",
              "      <th></th>\n",
              "      <th></th>\n",
              "    </tr>\n",
              "  </thead>\n",
              "  <tbody>\n",
              "    <tr>\n",
              "      <th>Barton LLC</th>\n",
              "      <th>John Smith</th>\n",
              "      <th>Debra Henley</th>\n",
              "      <td>740150</td>\n",
              "      <td>35000</td>\n",
              "      <td>1.000000</td>\n",
              "    </tr>\n",
              "    <tr>\n",
              "      <th>Fritsch, Russel and Anderson</th>\n",
              "      <th>Craig Booker</th>\n",
              "      <th>Debra Henley</th>\n",
              "      <td>737550</td>\n",
              "      <td>35000</td>\n",
              "      <td>1.000000</td>\n",
              "    </tr>\n",
              "    <tr>\n",
              "      <th>Herman LLC</th>\n",
              "      <th>Cedric Moss</th>\n",
              "      <th>Fred Anderson</th>\n",
              "      <td>141962</td>\n",
              "      <td>65000</td>\n",
              "      <td>2.000000</td>\n",
              "    </tr>\n",
              "    <tr>\n",
              "      <th>Jerde-Hilpert</th>\n",
              "      <th>John Smith</th>\n",
              "      <th>Debra Henley</th>\n",
              "      <td>412290</td>\n",
              "      <td>5000</td>\n",
              "      <td>2.000000</td>\n",
              "    </tr>\n",
              "    <tr>\n",
              "      <th>Kassulke, Ondricka and Metz</th>\n",
              "      <th>Wendy Yule</th>\n",
              "      <th>Fred Anderson</th>\n",
              "      <td>307599</td>\n",
              "      <td>7000</td>\n",
              "      <td>3.000000</td>\n",
              "    </tr>\n",
              "    <tr>\n",
              "      <th>Keeling LLC</th>\n",
              "      <th>Wendy Yule</th>\n",
              "      <th>Fred Anderson</th>\n",
              "      <td>688981</td>\n",
              "      <td>100000</td>\n",
              "      <td>5.000000</td>\n",
              "    </tr>\n",
              "    <tr>\n",
              "      <th>Kiehn-Spinka</th>\n",
              "      <th>Daniel Hilton</th>\n",
              "      <th>Debra Henley</th>\n",
              "      <td>146832</td>\n",
              "      <td>65000</td>\n",
              "      <td>2.000000</td>\n",
              "    </tr>\n",
              "    <tr>\n",
              "      <th>Koepp Ltd</th>\n",
              "      <th>Wendy Yule</th>\n",
              "      <th>Fred Anderson</th>\n",
              "      <td>729833</td>\n",
              "      <td>35000</td>\n",
              "      <td>2.000000</td>\n",
              "    </tr>\n",
              "    <tr>\n",
              "      <th>Kulas Inc</th>\n",
              "      <th>Daniel Hilton</th>\n",
              "      <th>Debra Henley</th>\n",
              "      <td>218895</td>\n",
              "      <td>25000</td>\n",
              "      <td>1.500000</td>\n",
              "    </tr>\n",
              "    <tr>\n",
              "      <th>Purdy-Kunde</th>\n",
              "      <th>Cedric Moss</th>\n",
              "      <th>Fred Anderson</th>\n",
              "      <td>163416</td>\n",
              "      <td>30000</td>\n",
              "      <td>1.000000</td>\n",
              "    </tr>\n",
              "    <tr>\n",
              "      <th>Stokes LLC</th>\n",
              "      <th>Cedric Moss</th>\n",
              "      <th>Fred Anderson</th>\n",
              "      <td>239344</td>\n",
              "      <td>7500</td>\n",
              "      <td>1.000000</td>\n",
              "    </tr>\n",
              "    <tr>\n",
              "      <th>Trantow-Barrows</th>\n",
              "      <th>Craig Booker</th>\n",
              "      <th>Debra Henley</th>\n",
              "      <td>714466</td>\n",
              "      <td>15000</td>\n",
              "      <td>1.333333</td>\n",
              "    </tr>\n",
              "  </tbody>\n",
              "</table>\n",
              "</div>"
            ],
            "text/plain": [
              "                                                          Account  ...  Quantity\n",
              "Name                         Rep           Manager                 ...          \n",
              "Barton LLC                   John Smith    Debra Henley    740150  ...  1.000000\n",
              "Fritsch, Russel and Anderson Craig Booker  Debra Henley    737550  ...  1.000000\n",
              "Herman LLC                   Cedric Moss   Fred Anderson   141962  ...  2.000000\n",
              "Jerde-Hilpert                John Smith    Debra Henley    412290  ...  2.000000\n",
              "Kassulke, Ondricka and Metz  Wendy Yule    Fred Anderson   307599  ...  3.000000\n",
              "Keeling LLC                  Wendy Yule    Fred Anderson   688981  ...  5.000000\n",
              "Kiehn-Spinka                 Daniel Hilton Debra Henley    146832  ...  2.000000\n",
              "Koepp Ltd                    Wendy Yule    Fred Anderson   729833  ...  2.000000\n",
              "Kulas Inc                    Daniel Hilton Debra Henley    218895  ...  1.500000\n",
              "Purdy-Kunde                  Cedric Moss   Fred Anderson   163416  ...  1.000000\n",
              "Stokes LLC                   Cedric Moss   Fred Anderson   239344  ...  1.000000\n",
              "Trantow-Barrows              Craig Booker  Debra Henley    714466  ...  1.333333\n",
              "\n",
              "[12 rows x 3 columns]"
            ]
          },
          "metadata": {
            "tags": []
          },
          "execution_count": 72
        }
      ]
    },
    {
      "cell_type": "markdown",
      "metadata": {
        "id": "ZItvmpc3e776",
        "colab_type": "text"
      },
      "source": [
        "This is interesting but not particularly useful. What we probably want to do is look at this by Manager and Rep. It’s easy enough to do by changing the index ."
      ]
    },
    {
      "cell_type": "code",
      "metadata": {
        "id": "bFk1nOJ-e1M1",
        "colab_type": "code",
        "outputId": "fc212d96-6c2b-460a-c5f5-444300234e54",
        "colab": {
          "base_uri": "https://localhost:8080/",
          "height": 0
        }
      },
      "source": [
        "pd.pivot_table(df,index=[\"Manager\",\"Rep\"])"
      ],
      "execution_count": 73,
      "outputs": [
        {
          "output_type": "execute_result",
          "data": {
            "text/html": [
              "<div>\n",
              "<style scoped>\n",
              "    .dataframe tbody tr th:only-of-type {\n",
              "        vertical-align: middle;\n",
              "    }\n",
              "\n",
              "    .dataframe tbody tr th {\n",
              "        vertical-align: top;\n",
              "    }\n",
              "\n",
              "    .dataframe thead th {\n",
              "        text-align: right;\n",
              "    }\n",
              "</style>\n",
              "<table border=\"1\" class=\"dataframe\">\n",
              "  <thead>\n",
              "    <tr style=\"text-align: right;\">\n",
              "      <th></th>\n",
              "      <th></th>\n",
              "      <th>Account</th>\n",
              "      <th>Price</th>\n",
              "      <th>Quantity</th>\n",
              "    </tr>\n",
              "    <tr>\n",
              "      <th>Manager</th>\n",
              "      <th>Rep</th>\n",
              "      <th></th>\n",
              "      <th></th>\n",
              "      <th></th>\n",
              "    </tr>\n",
              "  </thead>\n",
              "  <tbody>\n",
              "    <tr>\n",
              "      <th rowspan=\"3\" valign=\"top\">Debra Henley</th>\n",
              "      <th>Craig Booker</th>\n",
              "      <td>720237.0</td>\n",
              "      <td>20000.000000</td>\n",
              "      <td>1.250000</td>\n",
              "    </tr>\n",
              "    <tr>\n",
              "      <th>Daniel Hilton</th>\n",
              "      <td>194874.0</td>\n",
              "      <td>38333.333333</td>\n",
              "      <td>1.666667</td>\n",
              "    </tr>\n",
              "    <tr>\n",
              "      <th>John Smith</th>\n",
              "      <td>576220.0</td>\n",
              "      <td>20000.000000</td>\n",
              "      <td>1.500000</td>\n",
              "    </tr>\n",
              "    <tr>\n",
              "      <th rowspan=\"2\" valign=\"top\">Fred Anderson</th>\n",
              "      <th>Cedric Moss</th>\n",
              "      <td>196016.5</td>\n",
              "      <td>27500.000000</td>\n",
              "      <td>1.250000</td>\n",
              "    </tr>\n",
              "    <tr>\n",
              "      <th>Wendy Yule</th>\n",
              "      <td>614061.5</td>\n",
              "      <td>44250.000000</td>\n",
              "      <td>3.000000</td>\n",
              "    </tr>\n",
              "  </tbody>\n",
              "</table>\n",
              "</div>"
            ],
            "text/plain": [
              "                              Account         Price  Quantity\n",
              "Manager       Rep                                            \n",
              "Debra Henley  Craig Booker   720237.0  20000.000000  1.250000\n",
              "              Daniel Hilton  194874.0  38333.333333  1.666667\n",
              "              John Smith     576220.0  20000.000000  1.500000\n",
              "Fred Anderson Cedric Moss    196016.5  27500.000000  1.250000\n",
              "              Wendy Yule     614061.5  44250.000000  3.000000"
            ]
          },
          "metadata": {
            "tags": []
          },
          "execution_count": 73
        }
      ]
    },
    {
      "cell_type": "markdown",
      "metadata": {
        "id": "i2sBZdROeoM6",
        "colab_type": "text"
      },
      "source": [
        "You can see that the pivot table is smart enough to start aggregating the data and summarizing it by grouping the reps with their managers. Now we start to get a glimpse of what a pivot table can do for us.\n",
        "\n",
        "For this purpose, the Account and Quantity columns aren’t really useful. Let’s remove it by explicitly defining the columns we care about using the values field."
      ]
    },
    {
      "cell_type": "code",
      "metadata": {
        "id": "i6YukTGbekAM",
        "colab_type": "code",
        "outputId": "338f8e67-b396-4680-d3fe-971982da398d",
        "colab": {
          "base_uri": "https://localhost:8080/",
          "height": 0
        }
      },
      "source": [
        "pd.pivot_table(df,index=[\"Manager\",\"Rep\"],values=[\"Price\"])"
      ],
      "execution_count": 74,
      "outputs": [
        {
          "output_type": "execute_result",
          "data": {
            "text/html": [
              "<div>\n",
              "<style scoped>\n",
              "    .dataframe tbody tr th:only-of-type {\n",
              "        vertical-align: middle;\n",
              "    }\n",
              "\n",
              "    .dataframe tbody tr th {\n",
              "        vertical-align: top;\n",
              "    }\n",
              "\n",
              "    .dataframe thead th {\n",
              "        text-align: right;\n",
              "    }\n",
              "</style>\n",
              "<table border=\"1\" class=\"dataframe\">\n",
              "  <thead>\n",
              "    <tr style=\"text-align: right;\">\n",
              "      <th></th>\n",
              "      <th></th>\n",
              "      <th>Price</th>\n",
              "    </tr>\n",
              "    <tr>\n",
              "      <th>Manager</th>\n",
              "      <th>Rep</th>\n",
              "      <th></th>\n",
              "    </tr>\n",
              "  </thead>\n",
              "  <tbody>\n",
              "    <tr>\n",
              "      <th rowspan=\"3\" valign=\"top\">Debra Henley</th>\n",
              "      <th>Craig Booker</th>\n",
              "      <td>20000.000000</td>\n",
              "    </tr>\n",
              "    <tr>\n",
              "      <th>Daniel Hilton</th>\n",
              "      <td>38333.333333</td>\n",
              "    </tr>\n",
              "    <tr>\n",
              "      <th>John Smith</th>\n",
              "      <td>20000.000000</td>\n",
              "    </tr>\n",
              "    <tr>\n",
              "      <th rowspan=\"2\" valign=\"top\">Fred Anderson</th>\n",
              "      <th>Cedric Moss</th>\n",
              "      <td>27500.000000</td>\n",
              "    </tr>\n",
              "    <tr>\n",
              "      <th>Wendy Yule</th>\n",
              "      <td>44250.000000</td>\n",
              "    </tr>\n",
              "  </tbody>\n",
              "</table>\n",
              "</div>"
            ],
            "text/plain": [
              "                                    Price\n",
              "Manager       Rep                        \n",
              "Debra Henley  Craig Booker   20000.000000\n",
              "              Daniel Hilton  38333.333333\n",
              "              John Smith     20000.000000\n",
              "Fred Anderson Cedric Moss    27500.000000\n",
              "              Wendy Yule     44250.000000"
            ]
          },
          "metadata": {
            "tags": []
          },
          "execution_count": 74
        }
      ]
    },
    {
      "cell_type": "markdown",
      "metadata": {
        "id": "NrFZOheKfCjw",
        "colab_type": "text"
      },
      "source": [
        "The price column automatically averages the data but we can do a count or a sum. Adding them is simple using aggfunc and np.sum ."
      ]
    },
    {
      "cell_type": "code",
      "metadata": {
        "id": "xTyLQX_xfElQ",
        "colab_type": "code",
        "outputId": "9519e730-5326-4e0d-9c16-57f2678ef787",
        "colab": {
          "base_uri": "https://localhost:8080/",
          "height": 0
        }
      },
      "source": [
        "pd.pivot_table(df,index=[\"Manager\",\"Rep\"],values=[\"Price\"],aggfunc=np.sum)"
      ],
      "execution_count": 75,
      "outputs": [
        {
          "output_type": "execute_result",
          "data": {
            "text/html": [
              "<div>\n",
              "<style scoped>\n",
              "    .dataframe tbody tr th:only-of-type {\n",
              "        vertical-align: middle;\n",
              "    }\n",
              "\n",
              "    .dataframe tbody tr th {\n",
              "        vertical-align: top;\n",
              "    }\n",
              "\n",
              "    .dataframe thead th {\n",
              "        text-align: right;\n",
              "    }\n",
              "</style>\n",
              "<table border=\"1\" class=\"dataframe\">\n",
              "  <thead>\n",
              "    <tr style=\"text-align: right;\">\n",
              "      <th></th>\n",
              "      <th></th>\n",
              "      <th>Price</th>\n",
              "    </tr>\n",
              "    <tr>\n",
              "      <th>Manager</th>\n",
              "      <th>Rep</th>\n",
              "      <th></th>\n",
              "    </tr>\n",
              "  </thead>\n",
              "  <tbody>\n",
              "    <tr>\n",
              "      <th rowspan=\"3\" valign=\"top\">Debra Henley</th>\n",
              "      <th>Craig Booker</th>\n",
              "      <td>80000</td>\n",
              "    </tr>\n",
              "    <tr>\n",
              "      <th>Daniel Hilton</th>\n",
              "      <td>115000</td>\n",
              "    </tr>\n",
              "    <tr>\n",
              "      <th>John Smith</th>\n",
              "      <td>40000</td>\n",
              "    </tr>\n",
              "    <tr>\n",
              "      <th rowspan=\"2\" valign=\"top\">Fred Anderson</th>\n",
              "      <th>Cedric Moss</th>\n",
              "      <td>110000</td>\n",
              "    </tr>\n",
              "    <tr>\n",
              "      <th>Wendy Yule</th>\n",
              "      <td>177000</td>\n",
              "    </tr>\n",
              "  </tbody>\n",
              "</table>\n",
              "</div>"
            ],
            "text/plain": [
              "                              Price\n",
              "Manager       Rep                  \n",
              "Debra Henley  Craig Booker    80000\n",
              "              Daniel Hilton  115000\n",
              "              John Smith      40000\n",
              "Fred Anderson Cedric Moss    110000\n",
              "              Wendy Yule     177000"
            ]
          },
          "metadata": {
            "tags": []
          },
          "execution_count": 75
        }
      ]
    },
    {
      "cell_type": "markdown",
      "metadata": {
        "id": "BbFzjxt7fP01",
        "colab_type": "text"
      },
      "source": [
        "aggfunc can take a list of functions. Let’s try a mean using the numpy mean function and len to get a count."
      ]
    },
    {
      "cell_type": "code",
      "metadata": {
        "id": "KwhzdnAlfR0W",
        "colab_type": "code",
        "outputId": "5f2317e1-a431-478d-f455-2cd1f58aba5a",
        "colab": {
          "base_uri": "https://localhost:8080/",
          "height": 0
        }
      },
      "source": [
        "pd.pivot_table(df,index=[\"Manager\",\"Rep\"],values=[\"Price\"],aggfunc=[np.mean,len])"
      ],
      "execution_count": 76,
      "outputs": [
        {
          "output_type": "execute_result",
          "data": {
            "text/html": [
              "<div>\n",
              "<style scoped>\n",
              "    .dataframe tbody tr th:only-of-type {\n",
              "        vertical-align: middle;\n",
              "    }\n",
              "\n",
              "    .dataframe tbody tr th {\n",
              "        vertical-align: top;\n",
              "    }\n",
              "\n",
              "    .dataframe thead tr th {\n",
              "        text-align: left;\n",
              "    }\n",
              "\n",
              "    .dataframe thead tr:last-of-type th {\n",
              "        text-align: right;\n",
              "    }\n",
              "</style>\n",
              "<table border=\"1\" class=\"dataframe\">\n",
              "  <thead>\n",
              "    <tr>\n",
              "      <th></th>\n",
              "      <th></th>\n",
              "      <th>mean</th>\n",
              "      <th>len</th>\n",
              "    </tr>\n",
              "    <tr>\n",
              "      <th></th>\n",
              "      <th></th>\n",
              "      <th>Price</th>\n",
              "      <th>Price</th>\n",
              "    </tr>\n",
              "    <tr>\n",
              "      <th>Manager</th>\n",
              "      <th>Rep</th>\n",
              "      <th></th>\n",
              "      <th></th>\n",
              "    </tr>\n",
              "  </thead>\n",
              "  <tbody>\n",
              "    <tr>\n",
              "      <th rowspan=\"3\" valign=\"top\">Debra Henley</th>\n",
              "      <th>Craig Booker</th>\n",
              "      <td>20000.000000</td>\n",
              "      <td>4</td>\n",
              "    </tr>\n",
              "    <tr>\n",
              "      <th>Daniel Hilton</th>\n",
              "      <td>38333.333333</td>\n",
              "      <td>3</td>\n",
              "    </tr>\n",
              "    <tr>\n",
              "      <th>John Smith</th>\n",
              "      <td>20000.000000</td>\n",
              "      <td>2</td>\n",
              "    </tr>\n",
              "    <tr>\n",
              "      <th rowspan=\"2\" valign=\"top\">Fred Anderson</th>\n",
              "      <th>Cedric Moss</th>\n",
              "      <td>27500.000000</td>\n",
              "      <td>4</td>\n",
              "    </tr>\n",
              "    <tr>\n",
              "      <th>Wendy Yule</th>\n",
              "      <td>44250.000000</td>\n",
              "      <td>4</td>\n",
              "    </tr>\n",
              "  </tbody>\n",
              "</table>\n",
              "</div>"
            ],
            "text/plain": [
              "                                     mean   len\n",
              "                                    Price Price\n",
              "Manager       Rep                              \n",
              "Debra Henley  Craig Booker   20000.000000     4\n",
              "              Daniel Hilton  38333.333333     3\n",
              "              John Smith     20000.000000     2\n",
              "Fred Anderson Cedric Moss    27500.000000     4\n",
              "              Wendy Yule     44250.000000     4"
            ]
          },
          "metadata": {
            "tags": []
          },
          "execution_count": 76
        }
      ]
    },
    {
      "cell_type": "markdown",
      "metadata": {
        "id": "AQIv5YwKfV7r",
        "colab_type": "text"
      },
      "source": [
        "If we want to see sales broken down by the products, the columns variable allows us to define one or more columns.\n",
        "\n",
        "Columns vs. Values\n",
        "I think one of the confusing points with the pivot_table is the use of columns and values . Remember, columns are optional - they provide an additional way to segment the actual values you care about. The aggregation functions are applied to the values you list."
      ]
    },
    {
      "cell_type": "code",
      "metadata": {
        "id": "ydFaxZqtfYP9",
        "colab_type": "code",
        "outputId": "f1b1b30e-d9a7-426f-ef23-ea431afd78ef",
        "colab": {
          "base_uri": "https://localhost:8080/",
          "height": 0
        }
      },
      "source": [
        "pd.pivot_table(df,index=[\"Manager\",\"Rep\"],values=[\"Price\"],\n",
        "               columns=[\"Product\"],aggfunc=[np.sum])"
      ],
      "execution_count": 77,
      "outputs": [
        {
          "output_type": "execute_result",
          "data": {
            "text/html": [
              "<div>\n",
              "<style scoped>\n",
              "    .dataframe tbody tr th:only-of-type {\n",
              "        vertical-align: middle;\n",
              "    }\n",
              "\n",
              "    .dataframe tbody tr th {\n",
              "        vertical-align: top;\n",
              "    }\n",
              "\n",
              "    .dataframe thead tr th {\n",
              "        text-align: left;\n",
              "    }\n",
              "\n",
              "    .dataframe thead tr:last-of-type th {\n",
              "        text-align: right;\n",
              "    }\n",
              "</style>\n",
              "<table border=\"1\" class=\"dataframe\">\n",
              "  <thead>\n",
              "    <tr>\n",
              "      <th></th>\n",
              "      <th></th>\n",
              "      <th colspan=\"4\" halign=\"left\">sum</th>\n",
              "    </tr>\n",
              "    <tr>\n",
              "      <th></th>\n",
              "      <th></th>\n",
              "      <th colspan=\"4\" halign=\"left\">Price</th>\n",
              "    </tr>\n",
              "    <tr>\n",
              "      <th></th>\n",
              "      <th>Product</th>\n",
              "      <th>CPU</th>\n",
              "      <th>Maintenance</th>\n",
              "      <th>Monitor</th>\n",
              "      <th>Software</th>\n",
              "    </tr>\n",
              "    <tr>\n",
              "      <th>Manager</th>\n",
              "      <th>Rep</th>\n",
              "      <th></th>\n",
              "      <th></th>\n",
              "      <th></th>\n",
              "      <th></th>\n",
              "    </tr>\n",
              "  </thead>\n",
              "  <tbody>\n",
              "    <tr>\n",
              "      <th rowspan=\"3\" valign=\"top\">Debra Henley</th>\n",
              "      <th>Craig Booker</th>\n",
              "      <td>65000.0</td>\n",
              "      <td>5000.0</td>\n",
              "      <td>NaN</td>\n",
              "      <td>10000.0</td>\n",
              "    </tr>\n",
              "    <tr>\n",
              "      <th>Daniel Hilton</th>\n",
              "      <td>105000.0</td>\n",
              "      <td>NaN</td>\n",
              "      <td>NaN</td>\n",
              "      <td>10000.0</td>\n",
              "    </tr>\n",
              "    <tr>\n",
              "      <th>John Smith</th>\n",
              "      <td>35000.0</td>\n",
              "      <td>5000.0</td>\n",
              "      <td>NaN</td>\n",
              "      <td>NaN</td>\n",
              "    </tr>\n",
              "    <tr>\n",
              "      <th rowspan=\"2\" valign=\"top\">Fred Anderson</th>\n",
              "      <th>Cedric Moss</th>\n",
              "      <td>95000.0</td>\n",
              "      <td>5000.0</td>\n",
              "      <td>NaN</td>\n",
              "      <td>10000.0</td>\n",
              "    </tr>\n",
              "    <tr>\n",
              "      <th>Wendy Yule</th>\n",
              "      <td>165000.0</td>\n",
              "      <td>7000.0</td>\n",
              "      <td>5000.0</td>\n",
              "      <td>NaN</td>\n",
              "    </tr>\n",
              "  </tbody>\n",
              "</table>\n",
              "</div>"
            ],
            "text/plain": [
              "                                  sum                             \n",
              "                                Price                             \n",
              "Product                           CPU Maintenance Monitor Software\n",
              "Manager       Rep                                                 \n",
              "Debra Henley  Craig Booker    65000.0      5000.0     NaN  10000.0\n",
              "              Daniel Hilton  105000.0         NaN     NaN  10000.0\n",
              "              John Smith      35000.0      5000.0     NaN      NaN\n",
              "Fred Anderson Cedric Moss     95000.0      5000.0     NaN  10000.0\n",
              "              Wendy Yule     165000.0      7000.0  5000.0      NaN"
            ]
          },
          "metadata": {
            "tags": []
          },
          "execution_count": 77
        }
      ]
    },
    {
      "cell_type": "markdown",
      "metadata": {
        "id": "tn4tSPQ1fdEz",
        "colab_type": "text"
      },
      "source": [
        "The NaN’s are a bit distracting. If we want to remove them, we could use fill_value to set them to 0."
      ]
    },
    {
      "cell_type": "code",
      "metadata": {
        "id": "2azniqcEffY6",
        "colab_type": "code",
        "outputId": "415a68c8-da15-4052-de18-7354b9966992",
        "colab": {
          "base_uri": "https://localhost:8080/",
          "height": 0
        }
      },
      "source": [
        "pd.pivot_table(df,index=[\"Manager\",\"Rep\"],values=[\"Price\"],\n",
        "               columns=[\"Product\"],aggfunc=[np.sum],fill_value=0)"
      ],
      "execution_count": 78,
      "outputs": [
        {
          "output_type": "execute_result",
          "data": {
            "text/html": [
              "<div>\n",
              "<style scoped>\n",
              "    .dataframe tbody tr th:only-of-type {\n",
              "        vertical-align: middle;\n",
              "    }\n",
              "\n",
              "    .dataframe tbody tr th {\n",
              "        vertical-align: top;\n",
              "    }\n",
              "\n",
              "    .dataframe thead tr th {\n",
              "        text-align: left;\n",
              "    }\n",
              "\n",
              "    .dataframe thead tr:last-of-type th {\n",
              "        text-align: right;\n",
              "    }\n",
              "</style>\n",
              "<table border=\"1\" class=\"dataframe\">\n",
              "  <thead>\n",
              "    <tr>\n",
              "      <th></th>\n",
              "      <th></th>\n",
              "      <th colspan=\"4\" halign=\"left\">sum</th>\n",
              "    </tr>\n",
              "    <tr>\n",
              "      <th></th>\n",
              "      <th></th>\n",
              "      <th colspan=\"4\" halign=\"left\">Price</th>\n",
              "    </tr>\n",
              "    <tr>\n",
              "      <th></th>\n",
              "      <th>Product</th>\n",
              "      <th>CPU</th>\n",
              "      <th>Maintenance</th>\n",
              "      <th>Monitor</th>\n",
              "      <th>Software</th>\n",
              "    </tr>\n",
              "    <tr>\n",
              "      <th>Manager</th>\n",
              "      <th>Rep</th>\n",
              "      <th></th>\n",
              "      <th></th>\n",
              "      <th></th>\n",
              "      <th></th>\n",
              "    </tr>\n",
              "  </thead>\n",
              "  <tbody>\n",
              "    <tr>\n",
              "      <th rowspan=\"3\" valign=\"top\">Debra Henley</th>\n",
              "      <th>Craig Booker</th>\n",
              "      <td>65000</td>\n",
              "      <td>5000</td>\n",
              "      <td>0</td>\n",
              "      <td>10000</td>\n",
              "    </tr>\n",
              "    <tr>\n",
              "      <th>Daniel Hilton</th>\n",
              "      <td>105000</td>\n",
              "      <td>0</td>\n",
              "      <td>0</td>\n",
              "      <td>10000</td>\n",
              "    </tr>\n",
              "    <tr>\n",
              "      <th>John Smith</th>\n",
              "      <td>35000</td>\n",
              "      <td>5000</td>\n",
              "      <td>0</td>\n",
              "      <td>0</td>\n",
              "    </tr>\n",
              "    <tr>\n",
              "      <th rowspan=\"2\" valign=\"top\">Fred Anderson</th>\n",
              "      <th>Cedric Moss</th>\n",
              "      <td>95000</td>\n",
              "      <td>5000</td>\n",
              "      <td>0</td>\n",
              "      <td>10000</td>\n",
              "    </tr>\n",
              "    <tr>\n",
              "      <th>Wendy Yule</th>\n",
              "      <td>165000</td>\n",
              "      <td>7000</td>\n",
              "      <td>5000</td>\n",
              "      <td>0</td>\n",
              "    </tr>\n",
              "  </tbody>\n",
              "</table>\n",
              "</div>"
            ],
            "text/plain": [
              "                                sum                             \n",
              "                              Price                             \n",
              "Product                         CPU Maintenance Monitor Software\n",
              "Manager       Rep                                               \n",
              "Debra Henley  Craig Booker    65000        5000       0    10000\n",
              "              Daniel Hilton  105000           0       0    10000\n",
              "              John Smith      35000        5000       0        0\n",
              "Fred Anderson Cedric Moss     95000        5000       0    10000\n",
              "              Wendy Yule     165000        7000    5000        0"
            ]
          },
          "metadata": {
            "tags": []
          },
          "execution_count": 78
        }
      ]
    },
    {
      "cell_type": "markdown",
      "metadata": {
        "id": "Cs1_RyOXfmGc",
        "colab_type": "text"
      },
      "source": [
        "I think it would be useful to add the quantity as well. Add Quantity to the values list."
      ]
    },
    {
      "cell_type": "code",
      "metadata": {
        "id": "GTwBLuFafoMi",
        "colab_type": "code",
        "outputId": "d58d9803-9fc8-412c-bdb8-112d14047d9e",
        "colab": {
          "base_uri": "https://localhost:8080/",
          "height": 0
        }
      },
      "source": [
        "pd.pivot_table(df,index=[\"Manager\",\"Rep\"],values=[\"Price\",\"Quantity\"],\n",
        "               columns=[\"Product\"],aggfunc=[np.sum],fill_value=0)"
      ],
      "execution_count": 79,
      "outputs": [
        {
          "output_type": "execute_result",
          "data": {
            "text/html": [
              "<div>\n",
              "<style scoped>\n",
              "    .dataframe tbody tr th:only-of-type {\n",
              "        vertical-align: middle;\n",
              "    }\n",
              "\n",
              "    .dataframe tbody tr th {\n",
              "        vertical-align: top;\n",
              "    }\n",
              "\n",
              "    .dataframe thead tr th {\n",
              "        text-align: left;\n",
              "    }\n",
              "\n",
              "    .dataframe thead tr:last-of-type th {\n",
              "        text-align: right;\n",
              "    }\n",
              "</style>\n",
              "<table border=\"1\" class=\"dataframe\">\n",
              "  <thead>\n",
              "    <tr>\n",
              "      <th></th>\n",
              "      <th></th>\n",
              "      <th colspan=\"8\" halign=\"left\">sum</th>\n",
              "    </tr>\n",
              "    <tr>\n",
              "      <th></th>\n",
              "      <th></th>\n",
              "      <th colspan=\"4\" halign=\"left\">Price</th>\n",
              "      <th colspan=\"4\" halign=\"left\">Quantity</th>\n",
              "    </tr>\n",
              "    <tr>\n",
              "      <th></th>\n",
              "      <th>Product</th>\n",
              "      <th>CPU</th>\n",
              "      <th>Maintenance</th>\n",
              "      <th>Monitor</th>\n",
              "      <th>Software</th>\n",
              "      <th>CPU</th>\n",
              "      <th>Maintenance</th>\n",
              "      <th>Monitor</th>\n",
              "      <th>Software</th>\n",
              "    </tr>\n",
              "    <tr>\n",
              "      <th>Manager</th>\n",
              "      <th>Rep</th>\n",
              "      <th></th>\n",
              "      <th></th>\n",
              "      <th></th>\n",
              "      <th></th>\n",
              "      <th></th>\n",
              "      <th></th>\n",
              "      <th></th>\n",
              "      <th></th>\n",
              "    </tr>\n",
              "  </thead>\n",
              "  <tbody>\n",
              "    <tr>\n",
              "      <th rowspan=\"3\" valign=\"top\">Debra Henley</th>\n",
              "      <th>Craig Booker</th>\n",
              "      <td>65000</td>\n",
              "      <td>5000</td>\n",
              "      <td>0</td>\n",
              "      <td>10000</td>\n",
              "      <td>2</td>\n",
              "      <td>2</td>\n",
              "      <td>0</td>\n",
              "      <td>1</td>\n",
              "    </tr>\n",
              "    <tr>\n",
              "      <th>Daniel Hilton</th>\n",
              "      <td>105000</td>\n",
              "      <td>0</td>\n",
              "      <td>0</td>\n",
              "      <td>10000</td>\n",
              "      <td>4</td>\n",
              "      <td>0</td>\n",
              "      <td>0</td>\n",
              "      <td>1</td>\n",
              "    </tr>\n",
              "    <tr>\n",
              "      <th>John Smith</th>\n",
              "      <td>35000</td>\n",
              "      <td>5000</td>\n",
              "      <td>0</td>\n",
              "      <td>0</td>\n",
              "      <td>1</td>\n",
              "      <td>2</td>\n",
              "      <td>0</td>\n",
              "      <td>0</td>\n",
              "    </tr>\n",
              "    <tr>\n",
              "      <th rowspan=\"2\" valign=\"top\">Fred Anderson</th>\n",
              "      <th>Cedric Moss</th>\n",
              "      <td>95000</td>\n",
              "      <td>5000</td>\n",
              "      <td>0</td>\n",
              "      <td>10000</td>\n",
              "      <td>3</td>\n",
              "      <td>1</td>\n",
              "      <td>0</td>\n",
              "      <td>1</td>\n",
              "    </tr>\n",
              "    <tr>\n",
              "      <th>Wendy Yule</th>\n",
              "      <td>165000</td>\n",
              "      <td>7000</td>\n",
              "      <td>5000</td>\n",
              "      <td>0</td>\n",
              "      <td>7</td>\n",
              "      <td>3</td>\n",
              "      <td>2</td>\n",
              "      <td>0</td>\n",
              "    </tr>\n",
              "  </tbody>\n",
              "</table>\n",
              "</div>"
            ],
            "text/plain": [
              "                                sum              ...                  \n",
              "                              Price              ... Quantity         \n",
              "Product                         CPU Maintenance  ...  Monitor Software\n",
              "Manager       Rep                                ...                  \n",
              "Debra Henley  Craig Booker    65000        5000  ...        0        1\n",
              "              Daniel Hilton  105000           0  ...        0        1\n",
              "              John Smith      35000        5000  ...        0        0\n",
              "Fred Anderson Cedric Moss     95000        5000  ...        0        1\n",
              "              Wendy Yule     165000        7000  ...        2        0\n",
              "\n",
              "[5 rows x 8 columns]"
            ]
          },
          "metadata": {
            "tags": []
          },
          "execution_count": 79
        }
      ]
    },
    {
      "cell_type": "markdown",
      "metadata": {
        "id": "cDCSvRIZfwiw",
        "colab_type": "text"
      },
      "source": [
        "What’s interesting is that you can move items to the index to get a different visual representation. Remove Product from the columns and add to the index ."
      ]
    },
    {
      "cell_type": "code",
      "metadata": {
        "id": "uNaY_NeEfzI_",
        "colab_type": "code",
        "outputId": "c9ab0909-f808-4c45-c767-0c791dc03597",
        "colab": {
          "base_uri": "https://localhost:8080/",
          "height": 0
        }
      },
      "source": [
        "pd.pivot_table(df,index=[\"Manager\",\"Rep\",\"Product\"],\n",
        "               values=[\"Price\",\"Quantity\"],aggfunc=[np.sum],fill_value=0)"
      ],
      "execution_count": 80,
      "outputs": [
        {
          "output_type": "execute_result",
          "data": {
            "text/html": [
              "<div>\n",
              "<style scoped>\n",
              "    .dataframe tbody tr th:only-of-type {\n",
              "        vertical-align: middle;\n",
              "    }\n",
              "\n",
              "    .dataframe tbody tr th {\n",
              "        vertical-align: top;\n",
              "    }\n",
              "\n",
              "    .dataframe thead tr th {\n",
              "        text-align: left;\n",
              "    }\n",
              "\n",
              "    .dataframe thead tr:last-of-type th {\n",
              "        text-align: right;\n",
              "    }\n",
              "</style>\n",
              "<table border=\"1\" class=\"dataframe\">\n",
              "  <thead>\n",
              "    <tr>\n",
              "      <th></th>\n",
              "      <th></th>\n",
              "      <th></th>\n",
              "      <th colspan=\"2\" halign=\"left\">sum</th>\n",
              "    </tr>\n",
              "    <tr>\n",
              "      <th></th>\n",
              "      <th></th>\n",
              "      <th></th>\n",
              "      <th>Price</th>\n",
              "      <th>Quantity</th>\n",
              "    </tr>\n",
              "    <tr>\n",
              "      <th>Manager</th>\n",
              "      <th>Rep</th>\n",
              "      <th>Product</th>\n",
              "      <th></th>\n",
              "      <th></th>\n",
              "    </tr>\n",
              "  </thead>\n",
              "  <tbody>\n",
              "    <tr>\n",
              "      <th rowspan=\"7\" valign=\"top\">Debra Henley</th>\n",
              "      <th rowspan=\"3\" valign=\"top\">Craig Booker</th>\n",
              "      <th>CPU</th>\n",
              "      <td>65000</td>\n",
              "      <td>2</td>\n",
              "    </tr>\n",
              "    <tr>\n",
              "      <th>Maintenance</th>\n",
              "      <td>5000</td>\n",
              "      <td>2</td>\n",
              "    </tr>\n",
              "    <tr>\n",
              "      <th>Software</th>\n",
              "      <td>10000</td>\n",
              "      <td>1</td>\n",
              "    </tr>\n",
              "    <tr>\n",
              "      <th rowspan=\"2\" valign=\"top\">Daniel Hilton</th>\n",
              "      <th>CPU</th>\n",
              "      <td>105000</td>\n",
              "      <td>4</td>\n",
              "    </tr>\n",
              "    <tr>\n",
              "      <th>Software</th>\n",
              "      <td>10000</td>\n",
              "      <td>1</td>\n",
              "    </tr>\n",
              "    <tr>\n",
              "      <th rowspan=\"2\" valign=\"top\">John Smith</th>\n",
              "      <th>CPU</th>\n",
              "      <td>35000</td>\n",
              "      <td>1</td>\n",
              "    </tr>\n",
              "    <tr>\n",
              "      <th>Maintenance</th>\n",
              "      <td>5000</td>\n",
              "      <td>2</td>\n",
              "    </tr>\n",
              "    <tr>\n",
              "      <th rowspan=\"6\" valign=\"top\">Fred Anderson</th>\n",
              "      <th rowspan=\"3\" valign=\"top\">Cedric Moss</th>\n",
              "      <th>CPU</th>\n",
              "      <td>95000</td>\n",
              "      <td>3</td>\n",
              "    </tr>\n",
              "    <tr>\n",
              "      <th>Maintenance</th>\n",
              "      <td>5000</td>\n",
              "      <td>1</td>\n",
              "    </tr>\n",
              "    <tr>\n",
              "      <th>Software</th>\n",
              "      <td>10000</td>\n",
              "      <td>1</td>\n",
              "    </tr>\n",
              "    <tr>\n",
              "      <th rowspan=\"3\" valign=\"top\">Wendy Yule</th>\n",
              "      <th>CPU</th>\n",
              "      <td>165000</td>\n",
              "      <td>7</td>\n",
              "    </tr>\n",
              "    <tr>\n",
              "      <th>Maintenance</th>\n",
              "      <td>7000</td>\n",
              "      <td>3</td>\n",
              "    </tr>\n",
              "    <tr>\n",
              "      <th>Monitor</th>\n",
              "      <td>5000</td>\n",
              "      <td>2</td>\n",
              "    </tr>\n",
              "  </tbody>\n",
              "</table>\n",
              "</div>"
            ],
            "text/plain": [
              "                                            sum         \n",
              "                                          Price Quantity\n",
              "Manager       Rep           Product                     \n",
              "Debra Henley  Craig Booker  CPU           65000        2\n",
              "                            Maintenance    5000        2\n",
              "                            Software      10000        1\n",
              "              Daniel Hilton CPU          105000        4\n",
              "                            Software      10000        1\n",
              "              John Smith    CPU           35000        1\n",
              "                            Maintenance    5000        2\n",
              "Fred Anderson Cedric Moss   CPU           95000        3\n",
              "                            Maintenance    5000        1\n",
              "                            Software      10000        1\n",
              "              Wendy Yule    CPU          165000        7\n",
              "                            Maintenance    7000        3\n",
              "                            Monitor        5000        2"
            ]
          },
          "metadata": {
            "tags": []
          },
          "execution_count": 80
        }
      ]
    },
    {
      "cell_type": "markdown",
      "metadata": {
        "id": "DQxQ4mFKf3bn",
        "colab_type": "text"
      },
      "source": [
        "For this data set, this representation makes more sense. Now, what if I want to see some totals? margins=True does that for us."
      ]
    },
    {
      "cell_type": "code",
      "metadata": {
        "id": "c1dhKtKWf5c3",
        "colab_type": "code",
        "outputId": "d0ce545e-b1d3-4791-8b37-547c073d84b0",
        "colab": {
          "base_uri": "https://localhost:8080/",
          "height": 0
        }
      },
      "source": [
        "pd.pivot_table(df,index=[\"Manager\",\"Rep\",\"Product\"],\n",
        "               values=[\"Price\",\"Quantity\"],\n",
        "               aggfunc=[np.sum,np.mean],fill_value=0,margins=True)"
      ],
      "execution_count": 81,
      "outputs": [
        {
          "output_type": "execute_result",
          "data": {
            "text/html": [
              "<div>\n",
              "<style scoped>\n",
              "    .dataframe tbody tr th:only-of-type {\n",
              "        vertical-align: middle;\n",
              "    }\n",
              "\n",
              "    .dataframe tbody tr th {\n",
              "        vertical-align: top;\n",
              "    }\n",
              "\n",
              "    .dataframe thead tr th {\n",
              "        text-align: left;\n",
              "    }\n",
              "\n",
              "    .dataframe thead tr:last-of-type th {\n",
              "        text-align: right;\n",
              "    }\n",
              "</style>\n",
              "<table border=\"1\" class=\"dataframe\">\n",
              "  <thead>\n",
              "    <tr>\n",
              "      <th></th>\n",
              "      <th></th>\n",
              "      <th></th>\n",
              "      <th colspan=\"2\" halign=\"left\">sum</th>\n",
              "      <th colspan=\"2\" halign=\"left\">mean</th>\n",
              "    </tr>\n",
              "    <tr>\n",
              "      <th></th>\n",
              "      <th></th>\n",
              "      <th></th>\n",
              "      <th>Price</th>\n",
              "      <th>Quantity</th>\n",
              "      <th>Price</th>\n",
              "      <th>Quantity</th>\n",
              "    </tr>\n",
              "    <tr>\n",
              "      <th>Manager</th>\n",
              "      <th>Rep</th>\n",
              "      <th>Product</th>\n",
              "      <th></th>\n",
              "      <th></th>\n",
              "      <th></th>\n",
              "      <th></th>\n",
              "    </tr>\n",
              "  </thead>\n",
              "  <tbody>\n",
              "    <tr>\n",
              "      <th rowspan=\"7\" valign=\"top\">Debra Henley</th>\n",
              "      <th rowspan=\"3\" valign=\"top\">Craig Booker</th>\n",
              "      <th>CPU</th>\n",
              "      <td>65000</td>\n",
              "      <td>2</td>\n",
              "      <td>32500</td>\n",
              "      <td>1.000000</td>\n",
              "    </tr>\n",
              "    <tr>\n",
              "      <th>Maintenance</th>\n",
              "      <td>5000</td>\n",
              "      <td>2</td>\n",
              "      <td>5000</td>\n",
              "      <td>2.000000</td>\n",
              "    </tr>\n",
              "    <tr>\n",
              "      <th>Software</th>\n",
              "      <td>10000</td>\n",
              "      <td>1</td>\n",
              "      <td>10000</td>\n",
              "      <td>1.000000</td>\n",
              "    </tr>\n",
              "    <tr>\n",
              "      <th rowspan=\"2\" valign=\"top\">Daniel Hilton</th>\n",
              "      <th>CPU</th>\n",
              "      <td>105000</td>\n",
              "      <td>4</td>\n",
              "      <td>52500</td>\n",
              "      <td>2.000000</td>\n",
              "    </tr>\n",
              "    <tr>\n",
              "      <th>Software</th>\n",
              "      <td>10000</td>\n",
              "      <td>1</td>\n",
              "      <td>10000</td>\n",
              "      <td>1.000000</td>\n",
              "    </tr>\n",
              "    <tr>\n",
              "      <th rowspan=\"2\" valign=\"top\">John Smith</th>\n",
              "      <th>CPU</th>\n",
              "      <td>35000</td>\n",
              "      <td>1</td>\n",
              "      <td>35000</td>\n",
              "      <td>1.000000</td>\n",
              "    </tr>\n",
              "    <tr>\n",
              "      <th>Maintenance</th>\n",
              "      <td>5000</td>\n",
              "      <td>2</td>\n",
              "      <td>5000</td>\n",
              "      <td>2.000000</td>\n",
              "    </tr>\n",
              "    <tr>\n",
              "      <th rowspan=\"6\" valign=\"top\">Fred Anderson</th>\n",
              "      <th rowspan=\"3\" valign=\"top\">Cedric Moss</th>\n",
              "      <th>CPU</th>\n",
              "      <td>95000</td>\n",
              "      <td>3</td>\n",
              "      <td>47500</td>\n",
              "      <td>1.500000</td>\n",
              "    </tr>\n",
              "    <tr>\n",
              "      <th>Maintenance</th>\n",
              "      <td>5000</td>\n",
              "      <td>1</td>\n",
              "      <td>5000</td>\n",
              "      <td>1.000000</td>\n",
              "    </tr>\n",
              "    <tr>\n",
              "      <th>Software</th>\n",
              "      <td>10000</td>\n",
              "      <td>1</td>\n",
              "      <td>10000</td>\n",
              "      <td>1.000000</td>\n",
              "    </tr>\n",
              "    <tr>\n",
              "      <th rowspan=\"3\" valign=\"top\">Wendy Yule</th>\n",
              "      <th>CPU</th>\n",
              "      <td>165000</td>\n",
              "      <td>7</td>\n",
              "      <td>82500</td>\n",
              "      <td>3.500000</td>\n",
              "    </tr>\n",
              "    <tr>\n",
              "      <th>Maintenance</th>\n",
              "      <td>7000</td>\n",
              "      <td>3</td>\n",
              "      <td>7000</td>\n",
              "      <td>3.000000</td>\n",
              "    </tr>\n",
              "    <tr>\n",
              "      <th>Monitor</th>\n",
              "      <td>5000</td>\n",
              "      <td>2</td>\n",
              "      <td>5000</td>\n",
              "      <td>2.000000</td>\n",
              "    </tr>\n",
              "    <tr>\n",
              "      <th>All</th>\n",
              "      <th></th>\n",
              "      <th></th>\n",
              "      <td>522000</td>\n",
              "      <td>30</td>\n",
              "      <td>30705</td>\n",
              "      <td>1.764706</td>\n",
              "    </tr>\n",
              "  </tbody>\n",
              "</table>\n",
              "</div>"
            ],
            "text/plain": [
              "                                            sum            mean          \n",
              "                                          Price Quantity  Price  Quantity\n",
              "Manager       Rep           Product                                      \n",
              "Debra Henley  Craig Booker  CPU           65000        2  32500  1.000000\n",
              "                            Maintenance    5000        2   5000  2.000000\n",
              "                            Software      10000        1  10000  1.000000\n",
              "              Daniel Hilton CPU          105000        4  52500  2.000000\n",
              "                            Software      10000        1  10000  1.000000\n",
              "              John Smith    CPU           35000        1  35000  1.000000\n",
              "                            Maintenance    5000        2   5000  2.000000\n",
              "Fred Anderson Cedric Moss   CPU           95000        3  47500  1.500000\n",
              "                            Maintenance    5000        1   5000  1.000000\n",
              "                            Software      10000        1  10000  1.000000\n",
              "              Wendy Yule    CPU          165000        7  82500  3.500000\n",
              "                            Maintenance    7000        3   7000  3.000000\n",
              "                            Monitor        5000        2   5000  2.000000\n",
              "All                                      522000       30  30705  1.764706"
            ]
          },
          "metadata": {
            "tags": []
          },
          "execution_count": 81
        }
      ]
    },
    {
      "cell_type": "markdown",
      "metadata": {
        "id": "pi_BrXiJf9ba",
        "colab_type": "text"
      },
      "source": [
        "Let’s move the analysis up a level and look at our pipeline at the manager level. Notice how the status is ordered based on our earlier category definition."
      ]
    },
    {
      "cell_type": "code",
      "metadata": {
        "id": "QFKUaHnpf80r",
        "colab_type": "code",
        "outputId": "84263208-5945-4750-e26f-5823904abfdf",
        "colab": {
          "base_uri": "https://localhost:8080/",
          "height": 0
        }
      },
      "source": [
        "pd.pivot_table(df,index=[\"Manager\",\"Status\"],values=[\"Price\"],\n",
        "               aggfunc=[np.sum],fill_value=0,margins=True)"
      ],
      "execution_count": 82,
      "outputs": [
        {
          "output_type": "execute_result",
          "data": {
            "text/html": [
              "<div>\n",
              "<style scoped>\n",
              "    .dataframe tbody tr th:only-of-type {\n",
              "        vertical-align: middle;\n",
              "    }\n",
              "\n",
              "    .dataframe tbody tr th {\n",
              "        vertical-align: top;\n",
              "    }\n",
              "\n",
              "    .dataframe thead tr th {\n",
              "        text-align: left;\n",
              "    }\n",
              "\n",
              "    .dataframe thead tr:last-of-type th {\n",
              "        text-align: right;\n",
              "    }\n",
              "</style>\n",
              "<table border=\"1\" class=\"dataframe\">\n",
              "  <thead>\n",
              "    <tr>\n",
              "      <th></th>\n",
              "      <th></th>\n",
              "      <th>sum</th>\n",
              "    </tr>\n",
              "    <tr>\n",
              "      <th></th>\n",
              "      <th></th>\n",
              "      <th>Price</th>\n",
              "    </tr>\n",
              "    <tr>\n",
              "      <th>Manager</th>\n",
              "      <th>Status</th>\n",
              "      <th></th>\n",
              "    </tr>\n",
              "  </thead>\n",
              "  <tbody>\n",
              "    <tr>\n",
              "      <th rowspan=\"4\" valign=\"top\">Debra Henley</th>\n",
              "      <th>won</th>\n",
              "      <td>65000</td>\n",
              "    </tr>\n",
              "    <tr>\n",
              "      <th>pending</th>\n",
              "      <td>50000</td>\n",
              "    </tr>\n",
              "    <tr>\n",
              "      <th>presented</th>\n",
              "      <td>50000</td>\n",
              "    </tr>\n",
              "    <tr>\n",
              "      <th>declined</th>\n",
              "      <td>70000</td>\n",
              "    </tr>\n",
              "    <tr>\n",
              "      <th rowspan=\"4\" valign=\"top\">Fred Anderson</th>\n",
              "      <th>won</th>\n",
              "      <td>172000</td>\n",
              "    </tr>\n",
              "    <tr>\n",
              "      <th>pending</th>\n",
              "      <td>5000</td>\n",
              "    </tr>\n",
              "    <tr>\n",
              "      <th>presented</th>\n",
              "      <td>45000</td>\n",
              "    </tr>\n",
              "    <tr>\n",
              "      <th>declined</th>\n",
              "      <td>65000</td>\n",
              "    </tr>\n",
              "    <tr>\n",
              "      <th>All</th>\n",
              "      <th></th>\n",
              "      <td>522000</td>\n",
              "    </tr>\n",
              "  </tbody>\n",
              "</table>\n",
              "</div>"
            ],
            "text/plain": [
              "                            sum\n",
              "                          Price\n",
              "Manager       Status           \n",
              "Debra Henley  won         65000\n",
              "              pending     50000\n",
              "              presented   50000\n",
              "              declined    70000\n",
              "Fred Anderson won        172000\n",
              "              pending      5000\n",
              "              presented   45000\n",
              "              declined    65000\n",
              "All                      522000"
            ]
          },
          "metadata": {
            "tags": []
          },
          "execution_count": 82
        }
      ]
    },
    {
      "cell_type": "markdown",
      "metadata": {
        "id": "HP-6AHfhgImZ",
        "colab_type": "text"
      },
      "source": [
        "A really handy feature is the ability to pass a dictionary to the aggfunc so you can perform different functions on each of the values you select. This has a side-effect of making the labels a little cleaner."
      ]
    },
    {
      "cell_type": "code",
      "metadata": {
        "id": "WEQPK1TQgNmZ",
        "colab_type": "code",
        "outputId": "949c68ae-88cf-4d07-a5ba-55e82279447c",
        "colab": {
          "base_uri": "https://localhost:8080/",
          "height": 0
        }
      },
      "source": [
        "pd.pivot_table(df,\n",
        "               index=[\"Manager\",\"Status\"],\n",
        "               columns=[\"Product\"],\n",
        "               values=[\"Quantity\",\"Price\"],\n",
        "               aggfunc={\"Quantity\":len,\"Price\":np.sum},\n",
        "               fill_value=0)"
      ],
      "execution_count": 83,
      "outputs": [
        {
          "output_type": "execute_result",
          "data": {
            "text/html": [
              "<div>\n",
              "<style scoped>\n",
              "    .dataframe tbody tr th:only-of-type {\n",
              "        vertical-align: middle;\n",
              "    }\n",
              "\n",
              "    .dataframe tbody tr th {\n",
              "        vertical-align: top;\n",
              "    }\n",
              "\n",
              "    .dataframe thead tr th {\n",
              "        text-align: left;\n",
              "    }\n",
              "\n",
              "    .dataframe thead tr:last-of-type th {\n",
              "        text-align: right;\n",
              "    }\n",
              "</style>\n",
              "<table border=\"1\" class=\"dataframe\">\n",
              "  <thead>\n",
              "    <tr>\n",
              "      <th></th>\n",
              "      <th></th>\n",
              "      <th colspan=\"4\" halign=\"left\">Price</th>\n",
              "      <th colspan=\"4\" halign=\"left\">Quantity</th>\n",
              "    </tr>\n",
              "    <tr>\n",
              "      <th></th>\n",
              "      <th>Product</th>\n",
              "      <th>CPU</th>\n",
              "      <th>Maintenance</th>\n",
              "      <th>Monitor</th>\n",
              "      <th>Software</th>\n",
              "      <th>CPU</th>\n",
              "      <th>Maintenance</th>\n",
              "      <th>Monitor</th>\n",
              "      <th>Software</th>\n",
              "    </tr>\n",
              "    <tr>\n",
              "      <th>Manager</th>\n",
              "      <th>Status</th>\n",
              "      <th></th>\n",
              "      <th></th>\n",
              "      <th></th>\n",
              "      <th></th>\n",
              "      <th></th>\n",
              "      <th></th>\n",
              "      <th></th>\n",
              "      <th></th>\n",
              "    </tr>\n",
              "  </thead>\n",
              "  <tbody>\n",
              "    <tr>\n",
              "      <th rowspan=\"4\" valign=\"top\">Debra Henley</th>\n",
              "      <th>won</th>\n",
              "      <td>65000</td>\n",
              "      <td>0</td>\n",
              "      <td>0</td>\n",
              "      <td>0</td>\n",
              "      <td>1</td>\n",
              "      <td>0</td>\n",
              "      <td>0</td>\n",
              "      <td>0</td>\n",
              "    </tr>\n",
              "    <tr>\n",
              "      <th>pending</th>\n",
              "      <td>40000</td>\n",
              "      <td>10000</td>\n",
              "      <td>0</td>\n",
              "      <td>0</td>\n",
              "      <td>1</td>\n",
              "      <td>2</td>\n",
              "      <td>0</td>\n",
              "      <td>0</td>\n",
              "    </tr>\n",
              "    <tr>\n",
              "      <th>presented</th>\n",
              "      <td>30000</td>\n",
              "      <td>0</td>\n",
              "      <td>0</td>\n",
              "      <td>20000</td>\n",
              "      <td>1</td>\n",
              "      <td>0</td>\n",
              "      <td>0</td>\n",
              "      <td>2</td>\n",
              "    </tr>\n",
              "    <tr>\n",
              "      <th>declined</th>\n",
              "      <td>70000</td>\n",
              "      <td>0</td>\n",
              "      <td>0</td>\n",
              "      <td>0</td>\n",
              "      <td>2</td>\n",
              "      <td>0</td>\n",
              "      <td>0</td>\n",
              "      <td>0</td>\n",
              "    </tr>\n",
              "    <tr>\n",
              "      <th rowspan=\"4\" valign=\"top\">Fred Anderson</th>\n",
              "      <th>won</th>\n",
              "      <td>165000</td>\n",
              "      <td>7000</td>\n",
              "      <td>0</td>\n",
              "      <td>0</td>\n",
              "      <td>2</td>\n",
              "      <td>1</td>\n",
              "      <td>0</td>\n",
              "      <td>0</td>\n",
              "    </tr>\n",
              "    <tr>\n",
              "      <th>pending</th>\n",
              "      <td>0</td>\n",
              "      <td>5000</td>\n",
              "      <td>0</td>\n",
              "      <td>0</td>\n",
              "      <td>0</td>\n",
              "      <td>1</td>\n",
              "      <td>0</td>\n",
              "      <td>0</td>\n",
              "    </tr>\n",
              "    <tr>\n",
              "      <th>presented</th>\n",
              "      <td>30000</td>\n",
              "      <td>0</td>\n",
              "      <td>5000</td>\n",
              "      <td>10000</td>\n",
              "      <td>1</td>\n",
              "      <td>0</td>\n",
              "      <td>1</td>\n",
              "      <td>1</td>\n",
              "    </tr>\n",
              "    <tr>\n",
              "      <th>declined</th>\n",
              "      <td>65000</td>\n",
              "      <td>0</td>\n",
              "      <td>0</td>\n",
              "      <td>0</td>\n",
              "      <td>1</td>\n",
              "      <td>0</td>\n",
              "      <td>0</td>\n",
              "      <td>0</td>\n",
              "    </tr>\n",
              "  </tbody>\n",
              "</table>\n",
              "</div>"
            ],
            "text/plain": [
              "                          Price              ... Quantity         \n",
              "Product                     CPU Maintenance  ...  Monitor Software\n",
              "Manager       Status                         ...                  \n",
              "Debra Henley  won         65000           0  ...        0        0\n",
              "              pending     40000       10000  ...        0        0\n",
              "              presented   30000           0  ...        0        2\n",
              "              declined    70000           0  ...        0        0\n",
              "Fred Anderson won        165000        7000  ...        0        0\n",
              "              pending         0        5000  ...        0        0\n",
              "              presented   30000           0  ...        1        1\n",
              "              declined    65000           0  ...        0        0\n",
              "\n",
              "[8 rows x 8 columns]"
            ]
          },
          "metadata": {
            "tags": []
          },
          "execution_count": 83
        }
      ]
    },
    {
      "cell_type": "markdown",
      "metadata": {
        "id": "Hg3Dw11BgWK8",
        "colab_type": "text"
      },
      "source": [
        "You can provide a list of aggfunctions to apply to each value too:"
      ]
    },
    {
      "cell_type": "code",
      "metadata": {
        "id": "7BzHU7NlgYcm",
        "colab_type": "code",
        "outputId": "6de64794-67b2-4263-91bf-2492dca811ec",
        "colab": {
          "base_uri": "https://localhost:8080/",
          "height": 0
        }
      },
      "source": [
        "table = pd.pivot_table(df,\n",
        "                       index=[\"Manager\",\"Status\"],\n",
        "                       columns=[\"Product\"],\n",
        "                       values=[\"Quantity\",\"Price\"],\n",
        "                       aggfunc={\n",
        "                           \"Quantity\":len,\n",
        "                           \"Price\":[np.sum,np.mean]},\n",
        "                       fill_value=0)\n",
        "table"
      ],
      "execution_count": 84,
      "outputs": [
        {
          "output_type": "execute_result",
          "data": {
            "text/html": [
              "<div>\n",
              "<style scoped>\n",
              "    .dataframe tbody tr th:only-of-type {\n",
              "        vertical-align: middle;\n",
              "    }\n",
              "\n",
              "    .dataframe tbody tr th {\n",
              "        vertical-align: top;\n",
              "    }\n",
              "\n",
              "    .dataframe thead tr th {\n",
              "        text-align: left;\n",
              "    }\n",
              "\n",
              "    .dataframe thead tr:last-of-type th {\n",
              "        text-align: right;\n",
              "    }\n",
              "</style>\n",
              "<table border=\"1\" class=\"dataframe\">\n",
              "  <thead>\n",
              "    <tr>\n",
              "      <th></th>\n",
              "      <th></th>\n",
              "      <th colspan=\"8\" halign=\"left\">Price</th>\n",
              "      <th colspan=\"4\" halign=\"left\">Quantity</th>\n",
              "    </tr>\n",
              "    <tr>\n",
              "      <th></th>\n",
              "      <th></th>\n",
              "      <th colspan=\"4\" halign=\"left\">mean</th>\n",
              "      <th colspan=\"4\" halign=\"left\">sum</th>\n",
              "      <th colspan=\"4\" halign=\"left\">len</th>\n",
              "    </tr>\n",
              "    <tr>\n",
              "      <th></th>\n",
              "      <th>Product</th>\n",
              "      <th>CPU</th>\n",
              "      <th>Maintenance</th>\n",
              "      <th>Monitor</th>\n",
              "      <th>Software</th>\n",
              "      <th>CPU</th>\n",
              "      <th>Maintenance</th>\n",
              "      <th>Monitor</th>\n",
              "      <th>Software</th>\n",
              "      <th>CPU</th>\n",
              "      <th>Maintenance</th>\n",
              "      <th>Monitor</th>\n",
              "      <th>Software</th>\n",
              "    </tr>\n",
              "    <tr>\n",
              "      <th>Manager</th>\n",
              "      <th>Status</th>\n",
              "      <th></th>\n",
              "      <th></th>\n",
              "      <th></th>\n",
              "      <th></th>\n",
              "      <th></th>\n",
              "      <th></th>\n",
              "      <th></th>\n",
              "      <th></th>\n",
              "      <th></th>\n",
              "      <th></th>\n",
              "      <th></th>\n",
              "      <th></th>\n",
              "    </tr>\n",
              "  </thead>\n",
              "  <tbody>\n",
              "    <tr>\n",
              "      <th rowspan=\"4\" valign=\"top\">Debra Henley</th>\n",
              "      <th>won</th>\n",
              "      <td>65000</td>\n",
              "      <td>0</td>\n",
              "      <td>0</td>\n",
              "      <td>0</td>\n",
              "      <td>65000</td>\n",
              "      <td>0</td>\n",
              "      <td>0</td>\n",
              "      <td>0</td>\n",
              "      <td>1</td>\n",
              "      <td>0</td>\n",
              "      <td>0</td>\n",
              "      <td>0</td>\n",
              "    </tr>\n",
              "    <tr>\n",
              "      <th>pending</th>\n",
              "      <td>40000</td>\n",
              "      <td>5000</td>\n",
              "      <td>0</td>\n",
              "      <td>0</td>\n",
              "      <td>40000</td>\n",
              "      <td>10000</td>\n",
              "      <td>0</td>\n",
              "      <td>0</td>\n",
              "      <td>1</td>\n",
              "      <td>2</td>\n",
              "      <td>0</td>\n",
              "      <td>0</td>\n",
              "    </tr>\n",
              "    <tr>\n",
              "      <th>presented</th>\n",
              "      <td>30000</td>\n",
              "      <td>0</td>\n",
              "      <td>0</td>\n",
              "      <td>10000</td>\n",
              "      <td>30000</td>\n",
              "      <td>0</td>\n",
              "      <td>0</td>\n",
              "      <td>20000</td>\n",
              "      <td>1</td>\n",
              "      <td>0</td>\n",
              "      <td>0</td>\n",
              "      <td>2</td>\n",
              "    </tr>\n",
              "    <tr>\n",
              "      <th>declined</th>\n",
              "      <td>35000</td>\n",
              "      <td>0</td>\n",
              "      <td>0</td>\n",
              "      <td>0</td>\n",
              "      <td>70000</td>\n",
              "      <td>0</td>\n",
              "      <td>0</td>\n",
              "      <td>0</td>\n",
              "      <td>2</td>\n",
              "      <td>0</td>\n",
              "      <td>0</td>\n",
              "      <td>0</td>\n",
              "    </tr>\n",
              "    <tr>\n",
              "      <th rowspan=\"4\" valign=\"top\">Fred Anderson</th>\n",
              "      <th>won</th>\n",
              "      <td>82500</td>\n",
              "      <td>7000</td>\n",
              "      <td>0</td>\n",
              "      <td>0</td>\n",
              "      <td>165000</td>\n",
              "      <td>7000</td>\n",
              "      <td>0</td>\n",
              "      <td>0</td>\n",
              "      <td>2</td>\n",
              "      <td>1</td>\n",
              "      <td>0</td>\n",
              "      <td>0</td>\n",
              "    </tr>\n",
              "    <tr>\n",
              "      <th>pending</th>\n",
              "      <td>0</td>\n",
              "      <td>5000</td>\n",
              "      <td>0</td>\n",
              "      <td>0</td>\n",
              "      <td>0</td>\n",
              "      <td>5000</td>\n",
              "      <td>0</td>\n",
              "      <td>0</td>\n",
              "      <td>0</td>\n",
              "      <td>1</td>\n",
              "      <td>0</td>\n",
              "      <td>0</td>\n",
              "    </tr>\n",
              "    <tr>\n",
              "      <th>presented</th>\n",
              "      <td>30000</td>\n",
              "      <td>0</td>\n",
              "      <td>5000</td>\n",
              "      <td>10000</td>\n",
              "      <td>30000</td>\n",
              "      <td>0</td>\n",
              "      <td>5000</td>\n",
              "      <td>10000</td>\n",
              "      <td>1</td>\n",
              "      <td>0</td>\n",
              "      <td>1</td>\n",
              "      <td>1</td>\n",
              "    </tr>\n",
              "    <tr>\n",
              "      <th>declined</th>\n",
              "      <td>65000</td>\n",
              "      <td>0</td>\n",
              "      <td>0</td>\n",
              "      <td>0</td>\n",
              "      <td>65000</td>\n",
              "      <td>0</td>\n",
              "      <td>0</td>\n",
              "      <td>0</td>\n",
              "      <td>1</td>\n",
              "      <td>0</td>\n",
              "      <td>0</td>\n",
              "      <td>0</td>\n",
              "    </tr>\n",
              "  </tbody>\n",
              "</table>\n",
              "</div>"
            ],
            "text/plain": [
              "                         Price                      ...    Quantity                 \n",
              "                          mean                      ...         len                 \n",
              "Product                    CPU Maintenance Monitor  ... Maintenance Monitor Software\n",
              "Manager       Status                                ...                             \n",
              "Debra Henley  won        65000           0       0  ...           0       0        0\n",
              "              pending    40000        5000       0  ...           2       0        0\n",
              "              presented  30000           0       0  ...           0       0        2\n",
              "              declined   35000           0       0  ...           0       0        0\n",
              "Fred Anderson won        82500        7000       0  ...           1       0        0\n",
              "              pending        0        5000       0  ...           1       0        0\n",
              "              presented  30000           0    5000  ...           0       1        1\n",
              "              declined   65000           0       0  ...           0       0        0\n",
              "\n",
              "[8 rows x 12 columns]"
            ]
          },
          "metadata": {
            "tags": []
          },
          "execution_count": 84
        }
      ]
    },
    {
      "cell_type": "markdown",
      "metadata": {
        "id": "UNFiR2Qygjys",
        "colab_type": "text"
      },
      "source": [
        "It can look daunting to try to pull this all together at one time but as soon as you start playing with the data and slowly add the items, you can get a feel for how it works. My general rule of thumb is that once you use multiple grouby you should evaluate whether a pivot table is a useful approach."
      ]
    },
    {
      "cell_type": "markdown",
      "metadata": {
        "id": "KmEttwrTgmBn",
        "colab_type": "text"
      },
      "source": [
        "##### Advanced Pivot Table Filtering"
      ]
    },
    {
      "cell_type": "markdown",
      "metadata": {
        "id": "U3r6B39OgoX6",
        "colab_type": "text"
      },
      "source": [
        "Once you have generated your data, it is in a DataFrame so you can filter on it using your standard DataFrame functions.\n",
        "\n",
        "If you want to look at just one manager:"
      ]
    },
    {
      "cell_type": "code",
      "metadata": {
        "id": "lR6wfQ8qgqWI",
        "colab_type": "code",
        "outputId": "3baaeb1b-9877-469a-cfc4-36bd794a15d8",
        "colab": {
          "base_uri": "https://localhost:8080/",
          "height": 0
        }
      },
      "source": [
        "table.query('Manager == [\"Debra Henley\"]')"
      ],
      "execution_count": 85,
      "outputs": [
        {
          "output_type": "execute_result",
          "data": {
            "text/html": [
              "<div>\n",
              "<style scoped>\n",
              "    .dataframe tbody tr th:only-of-type {\n",
              "        vertical-align: middle;\n",
              "    }\n",
              "\n",
              "    .dataframe tbody tr th {\n",
              "        vertical-align: top;\n",
              "    }\n",
              "\n",
              "    .dataframe thead tr th {\n",
              "        text-align: left;\n",
              "    }\n",
              "\n",
              "    .dataframe thead tr:last-of-type th {\n",
              "        text-align: right;\n",
              "    }\n",
              "</style>\n",
              "<table border=\"1\" class=\"dataframe\">\n",
              "  <thead>\n",
              "    <tr>\n",
              "      <th></th>\n",
              "      <th></th>\n",
              "      <th colspan=\"8\" halign=\"left\">Price</th>\n",
              "      <th colspan=\"4\" halign=\"left\">Quantity</th>\n",
              "    </tr>\n",
              "    <tr>\n",
              "      <th></th>\n",
              "      <th></th>\n",
              "      <th colspan=\"4\" halign=\"left\">mean</th>\n",
              "      <th colspan=\"4\" halign=\"left\">sum</th>\n",
              "      <th colspan=\"4\" halign=\"left\">len</th>\n",
              "    </tr>\n",
              "    <tr>\n",
              "      <th></th>\n",
              "      <th>Product</th>\n",
              "      <th>CPU</th>\n",
              "      <th>Maintenance</th>\n",
              "      <th>Monitor</th>\n",
              "      <th>Software</th>\n",
              "      <th>CPU</th>\n",
              "      <th>Maintenance</th>\n",
              "      <th>Monitor</th>\n",
              "      <th>Software</th>\n",
              "      <th>CPU</th>\n",
              "      <th>Maintenance</th>\n",
              "      <th>Monitor</th>\n",
              "      <th>Software</th>\n",
              "    </tr>\n",
              "    <tr>\n",
              "      <th>Manager</th>\n",
              "      <th>Status</th>\n",
              "      <th></th>\n",
              "      <th></th>\n",
              "      <th></th>\n",
              "      <th></th>\n",
              "      <th></th>\n",
              "      <th></th>\n",
              "      <th></th>\n",
              "      <th></th>\n",
              "      <th></th>\n",
              "      <th></th>\n",
              "      <th></th>\n",
              "      <th></th>\n",
              "    </tr>\n",
              "  </thead>\n",
              "  <tbody>\n",
              "    <tr>\n",
              "      <th rowspan=\"4\" valign=\"top\">Debra Henley</th>\n",
              "      <th>won</th>\n",
              "      <td>65000</td>\n",
              "      <td>0</td>\n",
              "      <td>0</td>\n",
              "      <td>0</td>\n",
              "      <td>65000</td>\n",
              "      <td>0</td>\n",
              "      <td>0</td>\n",
              "      <td>0</td>\n",
              "      <td>1</td>\n",
              "      <td>0</td>\n",
              "      <td>0</td>\n",
              "      <td>0</td>\n",
              "    </tr>\n",
              "    <tr>\n",
              "      <th>pending</th>\n",
              "      <td>40000</td>\n",
              "      <td>5000</td>\n",
              "      <td>0</td>\n",
              "      <td>0</td>\n",
              "      <td>40000</td>\n",
              "      <td>10000</td>\n",
              "      <td>0</td>\n",
              "      <td>0</td>\n",
              "      <td>1</td>\n",
              "      <td>2</td>\n",
              "      <td>0</td>\n",
              "      <td>0</td>\n",
              "    </tr>\n",
              "    <tr>\n",
              "      <th>presented</th>\n",
              "      <td>30000</td>\n",
              "      <td>0</td>\n",
              "      <td>0</td>\n",
              "      <td>10000</td>\n",
              "      <td>30000</td>\n",
              "      <td>0</td>\n",
              "      <td>0</td>\n",
              "      <td>20000</td>\n",
              "      <td>1</td>\n",
              "      <td>0</td>\n",
              "      <td>0</td>\n",
              "      <td>2</td>\n",
              "    </tr>\n",
              "    <tr>\n",
              "      <th>declined</th>\n",
              "      <td>35000</td>\n",
              "      <td>0</td>\n",
              "      <td>0</td>\n",
              "      <td>0</td>\n",
              "      <td>70000</td>\n",
              "      <td>0</td>\n",
              "      <td>0</td>\n",
              "      <td>0</td>\n",
              "      <td>2</td>\n",
              "      <td>0</td>\n",
              "      <td>0</td>\n",
              "      <td>0</td>\n",
              "    </tr>\n",
              "  </tbody>\n",
              "</table>\n",
              "</div>"
            ],
            "text/plain": [
              "                        Price                      ...    Quantity                 \n",
              "                         mean                      ...         len                 \n",
              "Product                   CPU Maintenance Monitor  ... Maintenance Monitor Software\n",
              "Manager      Status                                ...                             \n",
              "Debra Henley won        65000           0       0  ...           0       0        0\n",
              "             pending    40000        5000       0  ...           2       0        0\n",
              "             presented  30000           0       0  ...           0       0        2\n",
              "             declined   35000           0       0  ...           0       0        0\n",
              "\n",
              "[4 rows x 12 columns]"
            ]
          },
          "metadata": {
            "tags": []
          },
          "execution_count": 85
        }
      ]
    },
    {
      "cell_type": "markdown",
      "metadata": {
        "id": "7QA5ZzfnguXC",
        "colab_type": "text"
      },
      "source": [
        "We can look at all of our pending and won deals."
      ]
    },
    {
      "cell_type": "code",
      "metadata": {
        "id": "JvZcwZQYgwvu",
        "colab_type": "code",
        "outputId": "35617131-2b4f-407b-ae60-28877feea4cd",
        "colab": {
          "base_uri": "https://localhost:8080/",
          "height": 0
        }
      },
      "source": [
        "table.query('Status == [\"pending\",\"won\"]')"
      ],
      "execution_count": 86,
      "outputs": [
        {
          "output_type": "execute_result",
          "data": {
            "text/html": [
              "<div>\n",
              "<style scoped>\n",
              "    .dataframe tbody tr th:only-of-type {\n",
              "        vertical-align: middle;\n",
              "    }\n",
              "\n",
              "    .dataframe tbody tr th {\n",
              "        vertical-align: top;\n",
              "    }\n",
              "\n",
              "    .dataframe thead tr th {\n",
              "        text-align: left;\n",
              "    }\n",
              "\n",
              "    .dataframe thead tr:last-of-type th {\n",
              "        text-align: right;\n",
              "    }\n",
              "</style>\n",
              "<table border=\"1\" class=\"dataframe\">\n",
              "  <thead>\n",
              "    <tr>\n",
              "      <th></th>\n",
              "      <th></th>\n",
              "      <th colspan=\"8\" halign=\"left\">Price</th>\n",
              "      <th colspan=\"4\" halign=\"left\">Quantity</th>\n",
              "    </tr>\n",
              "    <tr>\n",
              "      <th></th>\n",
              "      <th></th>\n",
              "      <th colspan=\"4\" halign=\"left\">mean</th>\n",
              "      <th colspan=\"4\" halign=\"left\">sum</th>\n",
              "      <th colspan=\"4\" halign=\"left\">len</th>\n",
              "    </tr>\n",
              "    <tr>\n",
              "      <th></th>\n",
              "      <th>Product</th>\n",
              "      <th>CPU</th>\n",
              "      <th>Maintenance</th>\n",
              "      <th>Monitor</th>\n",
              "      <th>Software</th>\n",
              "      <th>CPU</th>\n",
              "      <th>Maintenance</th>\n",
              "      <th>Monitor</th>\n",
              "      <th>Software</th>\n",
              "      <th>CPU</th>\n",
              "      <th>Maintenance</th>\n",
              "      <th>Monitor</th>\n",
              "      <th>Software</th>\n",
              "    </tr>\n",
              "    <tr>\n",
              "      <th>Manager</th>\n",
              "      <th>Status</th>\n",
              "      <th></th>\n",
              "      <th></th>\n",
              "      <th></th>\n",
              "      <th></th>\n",
              "      <th></th>\n",
              "      <th></th>\n",
              "      <th></th>\n",
              "      <th></th>\n",
              "      <th></th>\n",
              "      <th></th>\n",
              "      <th></th>\n",
              "      <th></th>\n",
              "    </tr>\n",
              "  </thead>\n",
              "  <tbody>\n",
              "    <tr>\n",
              "      <th rowspan=\"2\" valign=\"top\">Debra Henley</th>\n",
              "      <th>won</th>\n",
              "      <td>65000</td>\n",
              "      <td>0</td>\n",
              "      <td>0</td>\n",
              "      <td>0</td>\n",
              "      <td>65000</td>\n",
              "      <td>0</td>\n",
              "      <td>0</td>\n",
              "      <td>0</td>\n",
              "      <td>1</td>\n",
              "      <td>0</td>\n",
              "      <td>0</td>\n",
              "      <td>0</td>\n",
              "    </tr>\n",
              "    <tr>\n",
              "      <th>pending</th>\n",
              "      <td>40000</td>\n",
              "      <td>5000</td>\n",
              "      <td>0</td>\n",
              "      <td>0</td>\n",
              "      <td>40000</td>\n",
              "      <td>10000</td>\n",
              "      <td>0</td>\n",
              "      <td>0</td>\n",
              "      <td>1</td>\n",
              "      <td>2</td>\n",
              "      <td>0</td>\n",
              "      <td>0</td>\n",
              "    </tr>\n",
              "    <tr>\n",
              "      <th rowspan=\"2\" valign=\"top\">Fred Anderson</th>\n",
              "      <th>won</th>\n",
              "      <td>82500</td>\n",
              "      <td>7000</td>\n",
              "      <td>0</td>\n",
              "      <td>0</td>\n",
              "      <td>165000</td>\n",
              "      <td>7000</td>\n",
              "      <td>0</td>\n",
              "      <td>0</td>\n",
              "      <td>2</td>\n",
              "      <td>1</td>\n",
              "      <td>0</td>\n",
              "      <td>0</td>\n",
              "    </tr>\n",
              "    <tr>\n",
              "      <th>pending</th>\n",
              "      <td>0</td>\n",
              "      <td>5000</td>\n",
              "      <td>0</td>\n",
              "      <td>0</td>\n",
              "      <td>0</td>\n",
              "      <td>5000</td>\n",
              "      <td>0</td>\n",
              "      <td>0</td>\n",
              "      <td>0</td>\n",
              "      <td>1</td>\n",
              "      <td>0</td>\n",
              "      <td>0</td>\n",
              "    </tr>\n",
              "  </tbody>\n",
              "</table>\n",
              "</div>"
            ],
            "text/plain": [
              "                       Price                      ...    Quantity                 \n",
              "                        mean                      ...         len                 \n",
              "Product                  CPU Maintenance Monitor  ... Maintenance Monitor Software\n",
              "Manager       Status                              ...                             \n",
              "Debra Henley  won      65000           0       0  ...           0       0        0\n",
              "              pending  40000        5000       0  ...           2       0        0\n",
              "Fred Anderson won      82500        7000       0  ...           1       0        0\n",
              "              pending      0        5000       0  ...           1       0        0\n",
              "\n",
              "[4 rows x 12 columns]"
            ]
          },
          "metadata": {
            "tags": []
          },
          "execution_count": 86
        }
      ]
    },
    {
      "cell_type": "markdown",
      "metadata": {
        "id": "JQcbdUzgg1om",
        "colab_type": "text"
      },
      "source": [
        "his a poweful feature of the pivot_table so do not forget that you have the full power of pandas once you get your data into the pivot_table format you need.\n",
        "\n",
        "<img src=\"https://pbpython.com/images/pivot-table-datasheet.png\">"
      ]
    },
    {
      "cell_type": "markdown",
      "metadata": {
        "id": "tpT7X8tSQJGd",
        "colab_type": "text"
      },
      "source": [
        "## 3. Data Science Methdology"
      ]
    },
    {
      "cell_type": "markdown",
      "metadata": {
        "id": "fIHoyAj6Qy6s",
        "colab_type": "text"
      },
      "source": [
        "## 4. SQL"
      ]
    },
    {
      "cell_type": "markdown",
      "metadata": {
        "id": "-hmoGcjZQ0br",
        "colab_type": "text"
      },
      "source": [
        "## 5. Data Visualization (with Power BI / Tableau / Python)"
      ]
    },
    {
      "cell_type": "markdown",
      "metadata": {
        "id": "1cm8buFhQ5v2",
        "colab_type": "text"
      },
      "source": [
        "## 6. Maths Foundations for AI\n"
      ]
    },
    {
      "cell_type": "markdown",
      "metadata": {
        "id": "dxeFE2C5Q7fY",
        "colab_type": "text"
      },
      "source": [
        "## 7. Artificial Intelligence (for non Programmers)\n"
      ]
    },
    {
      "cell_type": "markdown",
      "metadata": {
        "id": "UPWwz3bZQ8if",
        "colab_type": "text"
      },
      "source": [
        "## 8. Machine Learning with Scikit\n"
      ]
    },
    {
      "cell_type": "markdown",
      "metadata": {
        "id": "7bi3ihthQ9mW",
        "colab_type": "text"
      },
      "source": [
        "## 9. Web Scrapping\n"
      ]
    },
    {
      "cell_type": "markdown",
      "metadata": {
        "id": "NRXhdz9rQ-_l",
        "colab_type": "text"
      },
      "source": [
        "## 10. Deep Learning\n"
      ]
    },
    {
      "cell_type": "markdown",
      "metadata": {
        "id": "uqMhE9FIRADT",
        "colab_type": "text"
      },
      "source": [
        "## 11. Cloud Services (Azure, AWS, Google)\n"
      ]
    },
    {
      "cell_type": "markdown",
      "metadata": {
        "id": "Z0N3ruN9RBHT",
        "colab_type": "text"
      },
      "source": [
        "## 12. Tensorflow\n"
      ]
    },
    {
      "cell_type": "markdown",
      "metadata": {
        "id": "G1hJ_v8uRFeu",
        "colab_type": "text"
      },
      "source": [
        "## 13. Pytorch\n"
      ]
    },
    {
      "cell_type": "markdown",
      "metadata": {
        "id": "mqpKTYX8RGh0",
        "colab_type": "text"
      },
      "source": [
        "## 14. FastAI\n"
      ]
    },
    {
      "cell_type": "markdown",
      "metadata": {
        "id": "W4U1dw2WRHyk",
        "colab_type": "text"
      },
      "source": [
        "## 15. Reinforcement Learning"
      ]
    }
  ]
}