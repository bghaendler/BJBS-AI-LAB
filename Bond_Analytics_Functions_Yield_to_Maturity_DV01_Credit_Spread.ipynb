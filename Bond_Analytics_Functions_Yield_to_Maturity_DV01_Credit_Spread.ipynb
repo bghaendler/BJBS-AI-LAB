{
  "nbformat": 4,
  "nbformat_minor": 0,
  "metadata": {
    "colab": {
      "provenance": [],
      "authorship_tag": "ABX9TyPoI9lFnTHoiTeGuoCYBZBC",
      "include_colab_link": true
    },
    "kernelspec": {
      "name": "python3",
      "display_name": "Python 3"
    },
    "language_info": {
      "name": "python"
    }
  },
  "cells": [
    {
      "cell_type": "markdown",
      "metadata": {
        "id": "view-in-github",
        "colab_type": "text"
      },
      "source": [
        "<a href=\"https://colab.research.google.com/github/bghaendler/BJBS-AI-Lab/blob/master/Bond_Analytics_Functions_Yield_to_Maturity_DV01_Credit_Spread.ipynb\" target=\"_parent\"><img src=\"https://colab.research.google.com/assets/colab-badge.svg\" alt=\"Open In Colab\"/></a>"
      ]
    },
    {
      "cell_type": "markdown",
      "source": [
        "## Bond Analytics Functions\n",
        "\n",
        "This code provides three functions to calculate various analytics measures for a bond:\n",
        "\n",
        "1. `calculate_ytm(price, coupon, face_value, time_to_maturity, frequency)`: Calculates the Yield to Maturity (YTM) for a bond.\n",
        "2. `calculate_dv01(price, coupon, face_value, time_to_maturity, frequency)`: Calculates the DV01 (dollar value of a basis point) for a bond.\n",
        "3. `calculate_credit_spread(price, coupon, face_value, time_to_maturity, frequency, risk_free_rate)`: Calculates the Credit Spread for a bond.\n",
        "\n",
        "### Input Parameters:\n",
        "\n",
        "- `price`: The current price of the bond.\n",
        "- `coupon`: The coupon payment received per period.\n",
        "- `face_value`: The face value or par value of the bond.\n",
        "- `time_to_maturity`: The time to maturity of the bond in years.\n",
        "- `frequency`: The number of coupon payments per year.\n",
        "- `risk_free_rate`: The risk-free interest rate used to calculate the credit spread.\n",
        "\n",
        "### Calculating Yield to Maturity (YTM):\n",
        "\n",
        "The YTM represents the internal rate of return (IRR) of a bond, which equates the present value of all future cash flows (coupon payments and face value) to the current market price. The YTM is calculated iteratively using the Newton-Raphson method.\n",
        "\n",
        "The formula to calculate the YTM for a bond is:\n",
        "\n",
        "$$\n",
        "\\text{Present Value} = \\sum_{t=1}^{n} \\frac{{C / F}}{{(1 + r / F)^t}} + \\frac{{F}}{{(1 + r / F)^n}}\n",
        "$$\n",
        "\n",
        "where:\n",
        "- $C$ is the coupon payment per period.\n",
        "- $F$ is the face value of the bond.\n",
        "- $r$ is the yield to maturity (YTM).\n",
        "- $n$ is the total number of periods until maturity.\n",
        "- $t$ is the current period.\n",
        "\n",
        "The function `calculate_ytm` uses this formula to calculate the YTM for a given bond.\n",
        "\n",
        "### Calculating DV01:\n",
        "\n",
        "The DV01 (dollar value of a basis point) measures the change in the bond price for a 0.01% (1 basis point) change in yield to maturity. It is an important measure for bond risk management.\n",
        "\n",
        "The DV01 is calculated as the numerical derivative of the bond price with respect to the yield to maturity (YTM). It represents the change in price per basis point change in YTM.\n",
        "\n",
        "The formula to calculate the DV01 for a bond is:\n",
        "\n",
        "$$\n",
        "\\text{DV01} = \\frac{{P - P'}}{{0.0001}}\n",
        "$$\n",
        "\n",
        "where:\n",
        "- $P$ is the current bond price.\n",
        "- $P'$ is the bond price for a slightly higher YTM (YTM + 0.0001).\n",
        "\n",
        "The function `calculate_dv01` uses this formula to calculate the DV01 for a given bond.\n",
        "\n",
        "### Calculating Credit Spread:\n",
        "\n",
        "The Credit Spread represents the additional yield above the risk-free rate that investors demand for bearing the credit risk of the bond issuer. It measures the compensation for default risk.\n",
        "\n",
        "The Credit Spread is calculated as the difference between the bond's YTM and the risk-free interest rate.\n",
        "\n",
        "The formula to calculate the Credit Spread for a bond is:\n",
        "\n",
        "$$\n",
        "\\text{Credit Spread} = \\text{YTM} - \\text{Risk-Free Rate}\n",
        "$$\n",
        "\n",
        "where:\n",
        "- `YTM` is the yield to maturity of the bond.\n",
        "- `Risk-Free Rate` is the risk-free interest rate used as a benchmark.\n",
        "\n",
        "The function `calculate_credit_spread`\n",
        "\n",
        " uses this formula to calculate the Credit Spread for a given bond.\n",
        "\n",
        "---\n",
        "\n",
        "I hope this documentation helps clarify the usage and functionality of the provided code. Let me know if you have any further questions!"
      ],
      "metadata": {
        "id": "zQxlIi6xUK6n"
      }
    },
    {
      "cell_type": "code",
      "execution_count": 1,
      "metadata": {
        "colab": {
          "base_uri": "https://localhost:8080/"
        },
        "id": "lm0fH79mUKJm",
        "outputId": "2887a60e-6146-48c3-933f-59f2c01d387c"
      },
      "outputs": [
        {
          "output_type": "stream",
          "name": "stdout",
          "text": [
            "Yield to Maturity (YTM): 4.45%\n",
            "DV01: 4384.65\n",
            "Credit Spread: 2.45%\n"
          ]
        }
      ],
      "source": [
        "def calculate_ytm(price, coupon, face_value, time_to_maturity, frequency):\n",
        "    guess = 0.05  # Initial guess for YTM\n",
        "    ytm = guess\n",
        "    epsilon = 0.0001  # Precision of YTM calculation\n",
        "    max_iterations = 100  # Maximum number of iterations for convergence\n",
        "\n",
        "    for _ in range(max_iterations):\n",
        "        present_value = 0.0\n",
        "        derivative = 0.0\n",
        "\n",
        "        for t in range(1, time_to_maturity * frequency + 1):\n",
        "            present_value += coupon / frequency / (1 + ytm / frequency) ** t\n",
        "            derivative -= t * coupon / frequency / (1 + ytm / frequency) ** (t + 1)\n",
        "\n",
        "        present_value += face_value / (1 + ytm / frequency) ** (time_to_maturity * frequency)\n",
        "        derivative -= time_to_maturity * face_value / frequency / (1 + ytm / frequency) ** (time_to_maturity * frequency + 1)\n",
        "\n",
        "        error = price - present_value\n",
        "\n",
        "        if abs(error) < epsilon:\n",
        "            return ytm\n",
        "\n",
        "        ytm += error / derivative\n",
        "\n",
        "    raise ValueError(\"YTM calculation did not converge\")\n",
        "\n",
        "\n",
        "def calculate_dv01(price, coupon, face_value, time_to_maturity, frequency):\n",
        "    ytm = calculate_ytm(price, coupon, face_value, time_to_maturity, frequency)\n",
        "    price_change = price - calculate_price(coupon, face_value, time_to_maturity, frequency, ytm + 0.0001)\n",
        "    dv01 = price_change / 0.0001\n",
        "    return dv01\n",
        "\n",
        "\n",
        "def calculate_price(coupon, face_value, time_to_maturity, frequency, ytm):\n",
        "    present_value = 0.0\n",
        "\n",
        "    for t in range(1, time_to_maturity * frequency + 1):\n",
        "        present_value += coupon / frequency / (1 + ytm / frequency) ** t\n",
        "\n",
        "    present_value += face_value / (1 + ytm / frequency) ** (time_to_maturity * frequency)\n",
        "    return present_value\n",
        "\n",
        "\n",
        "def calculate_credit_spread(price, coupon, face_value, time_to_maturity, frequency, risk_free_rate):\n",
        "    ytm = calculate_ytm(price, coupon, face_value, time_to_maturity, frequency)\n",
        "    credit_spread = ytm - risk_free_rate\n",
        "    return credit_spread\n",
        "\n",
        "\n",
        "# Example usage\n",
        "bond_price = 980.0\n",
        "coupon_payment = 40.0\n",
        "face_value = 1000.0\n",
        "time_to_maturity = 5\n",
        "coupon_frequency = 2\n",
        "risk_free_rate = 0.02\n",
        "\n",
        "ytm = calculate_ytm(bond_price, coupon_payment, face_value, time_to_maturity, coupon_frequency)\n",
        "dv01 = calculate_dv01(bond_price, coupon_payment, face_value, time_to_maturity, coupon_frequency)\n",
        "credit_spread = calculate_credit_spread(bond_price, coupon_payment, face_value, time_to_maturity,\n",
        "                                        coupon_frequency, risk_free_rate)\n",
        "\n",
        "print(\"Yield to Maturity (YTM): {:.2%}\".format(ytm))\n",
        "print(\"DV01: {:.2f}\".format(dv01))\n",
        "print(\"Credit Spread: {:.2%}\".format(credit_spread))\n"
      ]
    },
    {
      "cell_type": "markdown",
      "source": [
        "## How to calculate Yield To Maturity with Python\n",
        "\n",
        "https://medium.com/@gennadii.turutin/how-to-calculate-yield-to-maturity-with-python-65a9a34d56f3"
      ],
      "metadata": {
        "id": "5-AECO45zuKA"
      }
    },
    {
      "cell_type": "markdown",
      "source": [
        "In this article we are going to analyze one of the most common operations in Finance to build a simple Python YTM calculator.\n",
        "\n",
        "### Introduction\n",
        "\n",
        "Yield to Maturity is the most accurate way of comparing interest rates of different debt instruments. \n",
        "- It allows to account for specific payment periods and has a concept of Present Value behind its calculation, which implies that 100 “today” is worth more than 100 “tomorrow”, as it can be invested with interest. \n",
        "- If you are promised 110 in a year, Present Value might be very useful in analyzing your loan. \n",
        "\n",
        "- The formula for Present Value is quite trivial:\n",
        "\n",
        "$PV = CF / (1 + i)^n$\n",
        "\n",
        "$PV$ — present value ,\n",
        "\n",
        "$CF$ — cash flow (or what you will get tomorrow),\n",
        "\n",
        "$i$ — annual interest rate,\n",
        "\n",
        "$n$ — number of years\n",
        "\n"
      ],
      "metadata": {
        "id": "Z-_aF-p0z2Du"
      }
    },
    {
      "cell_type": "markdown",
      "source": [
        "But how would you get interest rate?\n",
        "\n",
        "Let’s put it in the real context. You have 100 that you are ready to invest. Somebody wants to borrow your money and promises to pay back 103 in a year. \n",
        "- How can you calculate what it’s worth today? Here is where risk-free rate of return comes in handy. \n",
        "- This is the rate of return from safest investment available. \n",
        "- For instance, if you buy a U.S. Treasury bond, you may have 2% yearly interest rate. Thus\n",
        "\n",
        "$103 / (1 + 0.02)¹ = $100.98$,\n",
        "\n",
        "which is better than 100, but don’t forget about inflation, risks, alternative investments, and taxes, which we are going to skip here. \n",
        "\n",
        "- It is actually more complicated, but I hope we clarified the basic concepts here.\n",
        "\n",
        "Note: You might be wondering what the difference between interest rate and yield to maturity is. While writing this article I came across different definitions, that don’t seem to be very helpful. \n",
        "  - I would prefer to stick to terminology used in the book “The economics of Money, Banking and Financial markets” by Frederic Mishkin. \n",
        "  - According to this book YTM is one the methods of calculating interest rates [page 70]. \n",
        "  Nevertheless, in the same book you can see that interest rate and yield to maturity are used interchangeably.\n"
      ],
      "metadata": {
        "id": "JjnQ-tXW0f_U"
      }
    },
    {
      "cell_type": "markdown",
      "source": [
        "Four types of Credit Market Instruments\n",
        "In general there are 4 types of Credit Market Instruments:\n",
        "\n",
        "### 1. Simple loan\n",
        "\n",
        "- You lend 100 and expect 110 in 2 years (the maturity date), where 10 is an additional payment for interest.\n",
        "\n",
        "- Formula:\n",
        "\n",
        "$PV =CF/(1 + i)^n$,\n",
        "\n",
        "$PV$ — present value or loan value\n",
        "\n",
        "$CF$ — cash flow,\n",
        "\n",
        "$n$ — number of years until maturity,\n",
        "\n",
        "$i$ — annual interest rate\n",
        "\n",
        "What is the present value of the loan that you made above?\n",
        "\n",
        "$PV = 110 / (1 + i)²$\n",
        "\n",
        "Let’s find the safest investment and use its interest rate. Say, it is U.S. Treasury bonds with 2% annual interest.\n",
        "\n",
        "$PV = 110 / (1 + 0.02)² = 105.77$\n",
        "\n",
        "Looks like it’s worth lending money."
      ],
      "metadata": {
        "id": "j7ubPKs70z-_"
      }
    },
    {
      "cell_type": "markdown",
      "source": [
        "### 2. Fixed payment loan\n",
        "\n",
        "You lend 100 and expect 50 yearly payments for the next 3 years.\n",
        "\n",
        "Formula:\n",
        "\n",
        "$LV = FP / (1 + i)¹ + FP / (1 + i)² + … + FP / (1 + i)^n$,\n",
        "\n",
        "$LV$ — present value or loan value\n",
        "\n",
        "$FP$ — fixed yearly payment,\n",
        "\n",
        "$n$ — number of years until maturity,\n",
        "\n",
        "$i$ — annual interest rate\n",
        "\n",
        "Note: For simplicity we use frequency of payments as once a year. If you have more frequent payments, you should use the following formula:\n",
        "\n",
        "$PV = FP / (1 + i/f)^(f) + FP / (1 + i/f)^(2f) + … + FP / (1 + i)^n$,\n",
        "\n",
        "$f$ — frequency of payments\n",
        "\n",
        "Bonds may have semi-annual payments. It affects interest compounding and and makes these bonds more attractive.\n",
        "\n"
      ],
      "metadata": {
        "id": "LbDEHiAK1nFa"
      }
    },
    {
      "cell_type": "markdown",
      "source": [
        "What is the yield for the above mentioned loan?\n",
        "\n",
        "$100 = $10 / (1 + i) + $10 / (1 + i)² + 10 / (1 + i)³$\n",
        "\n",
        "The equation looks daunting right now. Let’s solve it for i with Python later in the article using Newton’s method.\n"
      ],
      "metadata": {
        "id": "IiwhZ1mk2-nF"
      }
    },
    {
      "cell_type": "markdown",
      "source": [
        "\n",
        "### 3. Coupon bond\n",
        "\n",
        "You buy a bond for 100. The borrower promises to make yearly payments of 5% off the par (face value) and to pay the bond’s face value (100) at the maturity date.\n",
        "\n",
        "Formula:\n",
        "\n",
        "$PV = C / (1 + i)¹ + C / (1 + i)² + … + C / (1 + i)^n + F / (1 + i)^n$,\n",
        "\n",
        "$PV$ — present value or bond price,\n",
        "\n",
        "$C$ — fixed yearly coupon payments/coupon rate,\n",
        "$n$ — number of years until maturity,\n",
        "$i$ — interest rate\n",
        "\n",
        "Note: Have you noticed that bond price and interest rate have a negative correlation? When interest rate goes up, bond price goes down. Keep it in mind. We’ll explore this correlation in greater detail later.\n",
        "\n",
        "What’s the yield for the bond with face value 1000, annual coupon payments of $50 and maturity date in 3 years? The bond was purchased for 1000.\n",
        "\n",
        "$1000 = 50 / (1 + i) + 50 / (1 + i)² + 50 / (1 + i)³ + 1000 / (1 + i)³$\n",
        "\n",
        "$i = 5 %$ — this is your yield to maturity\n",
        "\n",
        "Note: haven’t you noticed anything suspicious? The coupon rate is equal to YTM! What does it actually mean? 3 things:\n",
        "\n",
        "1. If bond price is equal to its face value, YTM is equal to the coupon rate.\n",
        "\n",
        "2. If the bond price is lower than the the face value, YTM is greater than the coupon rate\n",
        "\n",
        "3. If the bond price is higher than the face value (premium bonds), than YTM is lower than the coupon rate.\n",
        "Important to understand, that interest rates change first and bond prices follow, not vice-versa.\n",
        "\n"
      ],
      "metadata": {
        "id": "9A4xIYBQoNn_"
      }
    },
    {
      "cell_type": "markdown",
      "source": [
        "### 4. a discount bound\n",
        "\n",
        "For 90 you buy a bond with a face value of 100 and expect the face value to be paid at the maturity date.\n",
        "\n",
        "Formula:\n",
        "\n",
        "$PV = F / (1 + i)^n$,\n",
        "\n",
        "$PV$ — present value or loan value,\n",
        "$F% — face value,\n",
        "$i$ — interest rate\n",
        "\n",
        "The calculations here seem to be quite simple. Assuming we have annual interest rate 2% and maturity date in 2 years, what is the bond price?\n",
        "\n",
        "$PV = 100 / (1.02)² = 96.12$"
      ],
      "metadata": {
        "id": "NWkwrOhloPoV"
      }
    },
    {
      "cell_type": "markdown",
      "source": [
        "## Code implementation\n",
        "To calculate YTM for each debt instrument we’ll use risk-neutral measure, according to which the discounted payments expected in the future should be exactly equal to the bond price. You’ve probably already noticed it before, that we equalize bond prices to discounted payments. Now you know why.\n",
        "\n",
        "### Simple loan implementation\n",
        "\n",
        "The function for simple loan YTM is straightforward:"
      ],
      "metadata": {
        "id": "SnJgJfXDo5qL"
      }
    },
    {
      "cell_type": "code",
      "source": [
        "class Simple_Loan:\n",
        "  def get_pv(self, flow, int_rate, maturity):\n",
        "    pv = flow / (1+ int_rate)**maturity\n",
        "    return pv\n",
        "\n",
        "  def get_ytm(self, flow, pv, maturity):\n",
        "    ytm = (flow / pv)**(1/maturity) -1\n",
        "    return ytm"
      ],
      "metadata": {
        "id": "mxegMg2l2svH"
      },
      "execution_count": 1,
      "outputs": []
    },
    {
      "cell_type": "code",
      "source": [
        "simple_loan_calculator = Simple_Loan()"
      ],
      "metadata": {
        "id": "oMBJ6BmhpiQn"
      },
      "execution_count": 2,
      "outputs": []
    },
    {
      "cell_type": "code",
      "source": [
        "simple_loan_calculator.get_ytm(110,105.77,2)"
      ],
      "metadata": {
        "colab": {
          "base_uri": "https://localhost:8080/"
        },
        "id": "Cn4GHEbBpnyf",
        "outputId": "042e3853-b606-458b-de4b-196fa8305f84"
      },
      "execution_count": 4,
      "outputs": [
        {
          "output_type": "execute_result",
          "data": {
            "text/plain": [
              "0.019800194360956258"
            ]
          },
          "metadata": {},
          "execution_count": 4
        }
      ]
    },
    {
      "cell_type": "code",
      "source": [
        "simple_loan_calculator.get_pv(110,0.02,2)"
      ],
      "metadata": {
        "colab": {
          "base_uri": "https://localhost:8080/"
        },
        "id": "Tw-46QZopw04",
        "outputId": "3345796c-f665-4f55-a2e4-01378f2dc303"
      },
      "execution_count": 6,
      "outputs": [
        {
          "output_type": "execute_result",
          "data": {
            "text/plain": [
              "105.7285659361784"
            ]
          },
          "metadata": {},
          "execution_count": 6
        }
      ]
    },
    {
      "cell_type": "markdown",
      "source": [
        "## Discount bond implementation\n",
        "\n",
        "Discount bond calculations don’t seem to be much more sophisticated:"
      ],
      "metadata": {
        "id": "sdhhPpj3qM9k"
      }
    },
    {
      "cell_type": "code",
      "source": [
        "class Discount_Bond:\n",
        "  def get_pv(self, face_value, int_rate, years):\n",
        "    pv = face_value / (1+int_rate)**years\n",
        "    return pv\n",
        "  @staticmethod\n",
        "  def get_ytm(bond_price, face_price, years):\n",
        "    ytm = (face_price / bond_price)**(1/years) -1\n",
        "    return ytm\n",
        "  "
      ],
      "metadata": {
        "id": "yToAcL85qPU-"
      },
      "execution_count": 24,
      "outputs": []
    },
    {
      "cell_type": "code",
      "source": [
        "discount_calculator = Discount_Bond()"
      ],
      "metadata": {
        "id": "gcY7bFukqweb"
      },
      "execution_count": 27,
      "outputs": []
    },
    {
      "cell_type": "code",
      "source": [
        "discount_calculator.get_pv(100, 0.5, 5)"
      ],
      "metadata": {
        "colab": {
          "base_uri": "https://localhost:8080/"
        },
        "id": "gFuFRjRuq1bP",
        "outputId": "b9afd762-458c-493e-cf2b-996caee7c554"
      },
      "execution_count": 28,
      "outputs": [
        {
          "output_type": "execute_result",
          "data": {
            "text/plain": [
              "13.168724279835391"
            ]
          },
          "metadata": {},
          "execution_count": 28
        }
      ]
    },
    {
      "cell_type": "code",
      "source": [
        "discount_calculator.get_ytm(13, 100, 5)"
      ],
      "metadata": {
        "colab": {
          "base_uri": "https://localhost:8080/"
        },
        "id": "frjmLCdbq8v3",
        "outputId": "fcd86a70-4f08-443a-d72b-e41b8bbbd384"
      },
      "execution_count": 29,
      "outputs": [
        {
          "output_type": "execute_result",
          "data": {
            "text/plain": [
              "0.5038735793407285"
            ]
          },
          "metadata": {},
          "execution_count": 29
        }
      ]
    },
    {
      "cell_type": "markdown",
      "source": [
        "`Note: maturity and years are used interchangeably here. Feel free to use your parameter names. By the way, as get_ytm doesn’t really require access to the class instance, I made it staticmethod. The same could have been done for the simple loan calculator.`\n",
        "\n"
      ],
      "metadata": {
        "id": "wd_1SUdGr7Pa"
      }
    },
    {
      "cell_type": "markdown",
      "source": [
        "## Fixed Loan"
      ],
      "metadata": {
        "id": "1v46RfLusqlb"
      }
    },
    {
      "cell_type": "code",
      "source": [
        "class Fixed_Loan:\n",
        "    @staticmethod\n",
        "    def get_pv(fixed_price, int_rate, years):\n",
        "        pv = sum([fixed_price / (1 + int_rate)**y for y in range(years)])\n",
        "        \n",
        "        return pv\n",
        "    \n",
        "    def get_ytm(self, bond_price, fixed_price, years, estimate=0.55):\n",
        "        import scipy\n",
        "        from scipy import optimize\n",
        "        \n",
        "        get_yield = lambda int_rate: self.get_pv(fixed_price, int_rate, years) - bond_price\n",
        "        \n",
        "        return optimize.newton(get_yield, estimate)"
      ],
      "metadata": {
        "id": "z0Emy6C5srFh"
      },
      "execution_count": 30,
      "outputs": []
    },
    {
      "cell_type": "code",
      "source": [
        "fixed_loan_calculator = Fixed_Loan()\n"
      ],
      "metadata": {
        "id": "yUoN5h7isxaE"
      },
      "execution_count": 31,
      "outputs": []
    },
    {
      "cell_type": "code",
      "source": [
        "fixed_loan_calculator.get_pv(100, 10, 3)\n"
      ],
      "metadata": {
        "colab": {
          "base_uri": "https://localhost:8080/"
        },
        "id": "qpIbZAG4szfR",
        "outputId": "99c13968-702c-41e7-e7c6-7dd4bb3a6559"
      },
      "execution_count": 32,
      "outputs": [
        {
          "output_type": "execute_result",
          "data": {
            "text/plain": [
              "109.91735537190083"
            ]
          },
          "metadata": {},
          "execution_count": 32
        }
      ]
    },
    {
      "cell_type": "code",
      "source": [
        "fixed_loan_calculator.get_ytm(100, 50, 3)\n"
      ],
      "metadata": {
        "colab": {
          "base_uri": "https://localhost:8080/"
        },
        "id": "LYUnq9RSs1Hl",
        "outputId": "edd3aec8-08a1-48b2-c3ab-1f1df5a367b8"
      },
      "execution_count": 33,
      "outputs": [
        {
          "output_type": "execute_result",
          "data": {
            "text/plain": [
              "0.618033988749895"
            ]
          },
          "metadata": {},
          "execution_count": 33
        }
      ]
    },
    {
      "cell_type": "markdown",
      "source": [],
      "metadata": {
        "id": "0oW2GE2qsqfo"
      }
    },
    {
      "cell_type": "markdown",
      "source": [
        "## Coupon bond implementation\n",
        "\n",
        "I will remind you of the formula for coupon bond:\n",
        "\n",
        "$PV = C / (1 + i)¹ + C / (1 + i)² + … + C / (1 + i)^n + F / (1 + i)^n$,\n",
        "\n",
        "$PV$ — present value or bond price,\n",
        "\n",
        "$C$ — fixed yearly coupon payments/coupon rate,\n",
        "\n",
        "$n$ — number of years until maturity,\n",
        "\n",
        "$i$ — interest rate\n",
        "\n",
        "The coupon bond YTM cannot be calculated that easily. At least I wasn’t able to get an equation to solve for i. Fortunately, there are different mathematical methods that can come in handy. We are going to use Newton’s method, which comes as part of scipy package."
      ],
      "metadata": {
        "id": "CCtEOndUspqx"
      }
    },
    {
      "cell_type": "code",
      "source": [
        "class Coupon_Bond:\n",
        "    def get_price(self, coupon, face_value, int_rate, years, freq=1):\n",
        "        total_coupons_pv = self.get_coupons_pv(coupon, int_rate, years, freq)\n",
        "        face_value_pv    = self.get_face_value_pv(face_value, int_rate, years)\n",
        "        result           = total_coupons_pv + face_value_pv\n",
        "        return result\n",
        "    \n",
        "    @staticmethod\n",
        "    def get_face_value_pv(face_value, int_rate, years):\n",
        "        fvpv = face_value / (1 + int_rate)**years\n",
        "        return fvpv\n",
        "    \n",
        "    def get_coupons_pv(self, coupon, int_rate, years, freq=1):\n",
        "        pv = 0\n",
        "        for period in range(years*freq):\n",
        "            pv += self.get_coupon_pv(coupon, int_rate, period+1, freq)\n",
        "        return pv\n",
        "    \n",
        "    @staticmethod\n",
        "    def get_coupon_pv(coupon, int_rate, period, freq):\n",
        "        pv = coupon /(1 + int_rate/freq)**period\n",
        "        return pv\n",
        "    \n",
        "    def get_ytm(self, bond_price, face_value, coupon, years, freq=1, estimate=0.05):\n",
        "        import scipy\n",
        "        from scipy import optimize\n",
        "        get_yield = lambda int_rate: self.get_price(coupon, face_value, int_rate, years, freq) - bond_price\n",
        "        return optimize.newton(get_yield, estimate)"
      ],
      "metadata": {
        "id": "j7lzRimLsEfn"
      },
      "execution_count": 34,
      "outputs": []
    },
    {
      "cell_type": "code",
      "source": [
        "coupon_bond_calculator = Coupon_Bond()"
      ],
      "metadata": {
        "id": "u5auI5Vps8w6"
      },
      "execution_count": 35,
      "outputs": []
    },
    {
      "cell_type": "code",
      "source": [
        "coupon_bond_calculator.get_ytm(bond_price=95.05, face_value=100, coupon=5.75, years=2, freq=1)\n"
      ],
      "metadata": {
        "colab": {
          "base_uri": "https://localhost:8080/"
        },
        "id": "hJevsAX3s-m3",
        "outputId": "c8856234-9dce-406c-bce2-4ea71d6fb5e7"
      },
      "execution_count": 36,
      "outputs": [
        {
          "output_type": "execute_result",
          "data": {
            "text/plain": [
              "0.0854662799059332"
            ]
          },
          "metadata": {},
          "execution_count": 36
        }
      ]
    },
    {
      "cell_type": "code",
      "source": [
        "coupon_bond_calculator.get_price(coupon=5.75, face_value=100, int_rate=0.078, years=2, freq=1)\n"
      ],
      "metadata": {
        "colab": {
          "base_uri": "https://localhost:8080/"
        },
        "id": "R1GrHSxltA3q",
        "outputId": "ab26f0ad-3773-465b-ede7-f47615a96d0b"
      },
      "execution_count": 37,
      "outputs": [
        {
          "output_type": "execute_result",
          "data": {
            "text/plain": [
              "96.33425810870814"
            ]
          },
          "metadata": {},
          "execution_count": 37
        }
      ]
    },
    {
      "cell_type": "code",
      "source": [
        "coupon_bond_calculator.get_price(coupon=5.75, face_value=100, int_rate=0.078, years=2, freq=2)\n"
      ],
      "metadata": {
        "colab": {
          "base_uri": "https://localhost:8080/"
        },
        "id": "0Htbk-XutChp",
        "outputId": "512db94d-60b2-4c1d-913e-ef79c42d6e11"
      },
      "execution_count": 38,
      "outputs": [
        {
          "output_type": "execute_result",
          "data": {
            "text/plain": [
              "106.97347985047101"
            ]
          },
          "metadata": {},
          "execution_count": 38
        }
      ]
    },
    {
      "cell_type": "markdown",
      "source": [
        "## Visualization"
      ],
      "metadata": {
        "id": "8Hf04gcGtF2u"
      }
    },
    {
      "cell_type": "code",
      "source": [
        "import numpy as np\n",
        "import seaborn as sns\n",
        "from scipy import stats\n",
        "\n",
        "interest_rates = np.arange(0, 1, 0.01).tolist()"
      ],
      "metadata": {
        "id": "54BrqvFGtI0P"
      },
      "execution_count": 40,
      "outputs": []
    },
    {
      "cell_type": "markdown",
      "source": [
        "## Interest rate vs Bond Price"
      ],
      "metadata": {
        "id": "CMSoFEWEtLEy"
      }
    },
    {
      "cell_type": "code",
      "source": [
        "import seaborn as sns\n",
        "\n",
        "\n",
        "interest_rates = np.arange(0, 1, 0.01).tolist()\n",
        "bond_prices    = []\n",
        "for int_rate in interest_rates:\n",
        "    bond_price = coupon_bond_calculator.get_price(\n",
        "        coupon=5.75, \n",
        "        face_value=100, \n",
        "        int_rate=int_rate, \n",
        "        years=2, \n",
        "        freq=1\n",
        "    )\n",
        "    bond_prices.append(bond_price)"
      ],
      "metadata": {
        "id": "VkMl22sItN10"
      },
      "execution_count": 41,
      "outputs": []
    },
    {
      "cell_type": "code",
      "source": [
        "sns.lineplot(x=bond_prices, y=interest_rates)\n"
      ],
      "metadata": {
        "colab": {
          "base_uri": "https://localhost:8080/",
          "height": 447
        },
        "id": "EM_STVA7tTdP",
        "outputId": "2bf25ca2-9942-46a2-8268-beb89e87a0cb"
      },
      "execution_count": 42,
      "outputs": [
        {
          "output_type": "execute_result",
          "data": {
            "text/plain": [
              "<Axes: >"
            ]
          },
          "metadata": {},
          "execution_count": 42
        },
        {
          "output_type": "display_data",
          "data": {
            "text/plain": [
              "<Figure size 640x480 with 1 Axes>"
            ],
            "image/png": "[encoded data removed]"
          },
          "metadata": {}
        }
      ]
    }
  ]
}