{
  "nbformat": 4,
  "nbformat_minor": 0,
  "metadata": {
    "colab": {
      "provenance": [],
      "authorship_tag": "ABX9TyO8ufGefrgFsSW9Fbu1VY02",
      "include_colab_link": true
    },
    "kernelspec": {
      "name": "python3",
      "display_name": "Python 3"
    },
    "language_info": {
      "name": "python"
    }
  },
  "cells": [
    {
      "cell_type": "markdown",
      "metadata": {
        "id": "view-in-github",
        "colab_type": "text"
      },
      "source": [
        "<a href=\"https://colab.research.google.com/github/bghaendler/BJBS-AI-Lab/blob/master/Regression_Tech_Test.ipynb\" target=\"_parent\"><img src=\"https://colab.research.google.com/assets/colab-badge.svg\" alt=\"Open In Colab\"/></a>"
      ]
    },
    {
      "cell_type": "code",
      "execution_count": null,
      "metadata": {
        "id": "7By8cOMv-Ygs"
      },
      "outputs": [],
      "source": [
        "import pandas as pd\n",
        "import os\n",
        "\n",
        "def regression_testing(folder_before, folder_after):\n",
        "    \"\"\"\n",
        "    Performs regression testing on files in two folders, checking technical details of files produced are not changed.\n",
        "    :param folder_before: path to folder containing 'before' files\n",
        "    :param folder_after: path to folder containing 'after' files\n",
        "    :return: None\n",
        "    \"\"\"\n",
        "    # Get list of file names in both folders\n",
        "    files_before = os.listdir(folder_before)\n",
        "    files_after = os.listdir(folder_after)\n",
        "\n",
        "    # Loop through each file in 'before' folder\n",
        "    for file_name in files_before:\n",
        "        # Check if file exists in 'after' folder\n",
        "        if file_name in files_after:\n",
        "            # Load both files into dataframes\n",
        "            df_before = pd.read_csv(os.path.join(folder_before, file_name))\n",
        "            df_after = pd.read_csv(os.path.join(folder_after, file_name))\n",
        "\n",
        "            # Compare technical details of both dataframes\n",
        "            if df_before.shape == df_after.shape and list(df_before.columns) == list(df_after.columns) and \\\n",
        "                    all(df_before.dtypes == df_after.dtypes):\n",
        "                print(f\"{file_name} passed regression testing.\")\n",
        "            else:\n",
        "                print(f\"{file_name} failed regression testing.\")\n",
        "        else:\n",
        "            print(f\"{file_name} does not exist in 'after' folder.\")\n",
        "\n",
        "    # Check for files in 'after' folder that are not in 'before' folder\n",
        "    for file_name in files_after:\n",
        "        if file_name not in files_before:\n",
        "            print(f\"{file_name} does not exist in 'before' folder.\")\n"
      ]
    }
  ]
}