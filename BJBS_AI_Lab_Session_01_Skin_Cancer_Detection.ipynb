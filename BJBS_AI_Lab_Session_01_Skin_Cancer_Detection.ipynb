{
  "nbformat": 4,
  "nbformat_minor": 0,
  "metadata": {
    "colab": {
      "name": "BJBS AI_Lab Session 01 Skin Cancer Detection.ipynb",
      "provenance": [],
      "collapsed_sections": [],
      "authorship_tag": "ABX9TyMzkWy3pJHXTBeqhrmPQ51n",
      "include_colab_link": true
    },
    "kernelspec": {
      "name": "python3",
      "display_name": "Python 3"
    },
    "accelerator": "TPU",
    "widgets": {
      "application/vnd.jupyter.widget-state+json": {
        "3633c5310bd24e048eb811225ac834d9": {
          "model_module": "@jupyter-widgets/controls",
          "model_name": "HBoxModel",
          "state": {
            "_view_name": "HBoxView",
            "_dom_classes": [],
            "_model_name": "HBoxModel",
            "_view_module": "@jupyter-widgets/controls",
            "_model_module_version": "1.5.0",
            "_view_count": null,
            "_view_module_version": "1.5.0",
            "box_style": "",
            "layout": "IPY_MODEL_e446a8f1760f403f97a610dfa91d55fd",
            "_model_module": "@jupyter-widgets/controls",
            "children": [
              "IPY_MODEL_ce6636710d404989a0dd58a0d8c5045b",
              "IPY_MODEL_a8d3d06dee5e440a90f063787e1edcb5"
            ]
          }
        },
        "e446a8f1760f403f97a610dfa91d55fd": {
          "model_module": "@jupyter-widgets/base",
          "model_name": "LayoutModel",
          "state": {
            "_view_name": "LayoutView",
            "grid_template_rows": null,
            "right": null,
            "justify_content": null,
            "_view_module": "@jupyter-widgets/base",
            "overflow": null,
            "_model_module_version": "1.2.0",
            "_view_count": null,
            "flex_flow": null,
            "width": null,
            "min_width": null,
            "border": null,
            "align_items": null,
            "bottom": null,
            "_model_module": "@jupyter-widgets/base",
            "top": null,
            "grid_column": null,
            "overflow_y": null,
            "overflow_x": null,
            "grid_auto_flow": null,
            "grid_area": null,
            "grid_template_columns": null,
            "flex": null,
            "_model_name": "LayoutModel",
            "justify_items": null,
            "grid_row": null,
            "max_height": null,
            "align_content": null,
            "visibility": null,
            "align_self": null,
            "height": null,
            "min_height": null,
            "padding": null,
            "grid_auto_rows": null,
            "grid_gap": null,
            "max_width": null,
            "order": null,
            "_view_module_version": "1.2.0",
            "grid_template_areas": null,
            "object_position": null,
            "object_fit": null,
            "grid_auto_columns": null,
            "margin": null,
            "display": null,
            "left": null
          }
        },
        "ce6636710d404989a0dd58a0d8c5045b": {
          "model_module": "@jupyter-widgets/controls",
          "model_name": "IntProgressModel",
          "state": {
            "_view_name": "ProgressView",
            "style": "IPY_MODEL_273e8d7135fd4e5d83885f046670d42d",
            "_dom_classes": [],
            "description": "",
            "_model_name": "IntProgressModel",
            "bar_style": "success",
            "max": 102502400,
            "_view_module": "@jupyter-widgets/controls",
            "_model_module_version": "1.5.0",
            "value": 102502400,
            "_view_count": null,
            "_view_module_version": "1.5.0",
            "orientation": "horizontal",
            "min": 0,
            "description_tooltip": null,
            "_model_module": "@jupyter-widgets/controls",
            "layout": "IPY_MODEL_4b42ad55993c483e941b4df8d210c183"
          }
        },
        "a8d3d06dee5e440a90f063787e1edcb5": {
          "model_module": "@jupyter-widgets/controls",
          "model_name": "HTMLModel",
          "state": {
            "_view_name": "HTMLView",
            "style": "IPY_MODEL_7d3b9becc4974577a5ee3c91fc0d311b",
            "_dom_classes": [],
            "description": "",
            "_model_name": "HTMLModel",
            "placeholder": "​",
            "_view_module": "@jupyter-widgets/controls",
            "_model_module_version": "1.5.0",
            "value": "100% 97.8M/97.8M [00:06&lt;00:00, 15.5MB/s]",
            "_view_count": null,
            "_view_module_version": "1.5.0",
            "description_tooltip": null,
            "_model_module": "@jupyter-widgets/controls",
            "layout": "IPY_MODEL_11f17fd922c84a2ba5dc00c9963a0b89"
          }
        },
        "273e8d7135fd4e5d83885f046670d42d": {
          "model_module": "@jupyter-widgets/controls",
          "model_name": "ProgressStyleModel",
          "state": {
            "_view_name": "StyleView",
            "_model_name": "ProgressStyleModel",
            "description_width": "",
            "_view_module": "@jupyter-widgets/base",
            "_model_module_version": "1.5.0",
            "_view_count": null,
            "_view_module_version": "1.2.0",
            "bar_color": null,
            "_model_module": "@jupyter-widgets/controls"
          }
        },
        "4b42ad55993c483e941b4df8d210c183": {
          "model_module": "@jupyter-widgets/base",
          "model_name": "LayoutModel",
          "state": {
            "_view_name": "LayoutView",
            "grid_template_rows": null,
            "right": null,
            "justify_content": null,
            "_view_module": "@jupyter-widgets/base",
            "overflow": null,
            "_model_module_version": "1.2.0",
            "_view_count": null,
            "flex_flow": null,
            "width": null,
            "min_width": null,
            "border": null,
            "align_items": null,
            "bottom": null,
            "_model_module": "@jupyter-widgets/base",
            "top": null,
            "grid_column": null,
            "overflow_y": null,
            "overflow_x": null,
            "grid_auto_flow": null,
            "grid_area": null,
            "grid_template_columns": null,
            "flex": null,
            "_model_name": "LayoutModel",
            "justify_items": null,
            "grid_row": null,
            "max_height": null,
            "align_content": null,
            "visibility": null,
            "align_self": null,
            "height": null,
            "min_height": null,
            "padding": null,
            "grid_auto_rows": null,
            "grid_gap": null,
            "max_width": null,
            "order": null,
            "_view_module_version": "1.2.0",
            "grid_template_areas": null,
            "object_position": null,
            "object_fit": null,
            "grid_auto_columns": null,
            "margin": null,
            "display": null,
            "left": null
          }
        },
        "7d3b9becc4974577a5ee3c91fc0d311b": {
          "model_module": "@jupyter-widgets/controls",
          "model_name": "DescriptionStyleModel",
          "state": {
            "_view_name": "StyleView",
            "_model_name": "DescriptionStyleModel",
            "description_width": "",
            "_view_module": "@jupyter-widgets/base",
            "_model_module_version": "1.5.0",
            "_view_count": null,
            "_view_module_version": "1.2.0",
            "_model_module": "@jupyter-widgets/controls"
          }
        },
        "11f17fd922c84a2ba5dc00c9963a0b89": {
          "model_module": "@jupyter-widgets/base",
          "model_name": "LayoutModel",
          "state": {
            "_view_name": "LayoutView",
            "grid_template_rows": null,
            "right": null,
            "justify_content": null,
            "_view_module": "@jupyter-widgets/base",
            "overflow": null,
            "_model_module_version": "1.2.0",
            "_view_count": null,
            "flex_flow": null,
            "width": null,
            "min_width": null,
            "border": null,
            "align_items": null,
            "bottom": null,
            "_model_module": "@jupyter-widgets/base",
            "top": null,
            "grid_column": null,
            "overflow_y": null,
            "overflow_x": null,
            "grid_auto_flow": null,
            "grid_area": null,
            "grid_template_columns": null,
            "flex": null,
            "_model_name": "LayoutModel",
            "justify_items": null,
            "grid_row": null,
            "max_height": null,
            "align_content": null,
            "visibility": null,
            "align_self": null,
            "height": null,
            "min_height": null,
            "padding": null,
            "grid_auto_rows": null,
            "grid_gap": null,
            "max_width": null,
            "order": null,
            "_view_module_version": "1.2.0",
            "grid_template_areas": null,
            "object_position": null,
            "object_fit": null,
            "grid_auto_columns": null,
            "margin": null,
            "display": null,
            "left": null
          }
        }
      }
    }
  },
  "cells": [
    {
      "cell_type": "markdown",
      "metadata": {
        "id": "view-in-github",
        "colab_type": "text"
      },
      "source": [
        "<a href=\"https://colab.research.google.com/github/bghaendler/BJBS-AI-LAB/blob/master/BJBS_AI_Lab_Session_01_Skin_Cancer_Detection.ipynb\" target=\"_parent\"><img src=\"https://colab.research.google.com/assets/colab-badge.svg\" alt=\"Open In Colab\"/></a>"
      ]
    },
    {
      "cell_type": "markdown",
      "metadata": {
        "id": "2MdjIzJrgtCa",
        "colab_type": "text"
      },
      "source": [
        "<img width=\"300\" src=\"https://raw.githubusercontent.com/bghaendler/BJBS-AI-LAB/master/img/BJBSAILogo.png\" align=\"right\"> \n",
        "# Session 1: Skin Cancer Detection"
      ]
    },
    {
      "cell_type": "markdown",
      "metadata": {
        "id": "CbSIcQyHjzce",
        "colab_type": "text"
      },
      "source": [
        "## Downloading the data from Kaggle"
      ]
    },
    {
      "cell_type": "code",
      "metadata": {
        "id": "2mZDWlVbhNOd",
        "colab_type": "code",
        "outputId": "ba286455-6517-47a9-f563-d3ef8e864425",
        "colab": {
          "base_uri": "https://localhost:8080/",
          "height": 66
        }
      },
      "source": [
        "import os\n",
        "\n",
        "!kaggle datasets download -d kmader/skin-cancer-mnist-ham10000 # api copied from kaggle"
      ],
      "execution_count": 1,
      "outputs": [
        {
          "output_type": "stream",
          "text": [
            "Downloading skin-cancer-mnist-ham10000.zip to /content\n",
            "100% 5.19G/5.20G [01:11<00:00, 79.5MB/s]\n",
            "100% 5.20G/5.20G [01:11<00:00, 77.6MB/s]\n"
          ],
          "name": "stdout"
        }
      ]
    },
    {
      "cell_type": "code",
      "metadata": {
        "id": "WJxR-rKvieuL",
        "colab_type": "code",
        "colab": {}
      },
      "source": [
        "import zipfile\n",
        "with zipfile.ZipFile(\"/content/skin-cancer-mnist-ham10000.zip\",\"r\") as zip_ref:\n",
        "    zip_ref.extractall(\"input\")"
      ],
      "execution_count": 0,
      "outputs": []
    },
    {
      "cell_type": "markdown",
      "metadata": {
        "id": "E8g1g3kUghoR",
        "colab_type": "text"
      },
      "source": [
        "1. Skin Cancer Detector\n",
        " 1. https://www.kaggle.com/vbookshelf/skin-lesion-analyzer-tensorflow-js-web-app\n",
        " 2. https://www.kaggle.com/ingbiodanielh/skin-cancer-classification-with-resnet-50-fastai"
      ]
    },
    {
      "cell_type": "markdown",
      "metadata": {
        "id": "OjQhLua2jvns",
        "colab_type": "text"
      },
      "source": [
        "## Libraries"
      ]
    },
    {
      "cell_type": "markdown",
      "metadata": {
        "id": "zbpTbFCCsazO",
        "colab_type": "text"
      },
      "source": [
        "We import all the necessary packages. We are going to work with the fastai V1 library which sits on top of Pytorch 1.0. The fastai library provides many useful functions that enable us to quickly and easily build neural networks and train our models."
      ]
    },
    {
      "cell_type": "code",
      "metadata": {
        "id": "ECiM3TiyjxVr",
        "colab_type": "code",
        "colab": {}
      },
      "source": [
        "from fastai import *\n",
        "from fastai.vision import *\n",
        "from fastai.callbacks.hooks import *\n",
        "from fastai.metrics import error_rate\n",
        "from glob import glob\n",
        "\n",
        "import numpy as np \n",
        "import pandas as pd \n",
        "import seaborn as sns\n",
        "import matplotlib.pyplot as plt\n",
        "from sklearn.metrics import auc,roc_curve"
      ],
      "execution_count": 0,
      "outputs": []
    },
    {
      "cell_type": "code",
      "metadata": {
        "id": "O1mju9bhj7qf",
        "colab_type": "code",
        "outputId": "bda03609-f579-4eae-8de1-dd630f149fee",
        "colab": {
          "base_uri": "https://localhost:8080/",
          "height": 53
        }
      },
      "source": [
        "import os\n",
        "print(os.listdir(\"input\"))"
      ],
      "execution_count": 4,
      "outputs": [
        {
          "output_type": "stream",
          "text": [
            "['hmnist_28_28_L.csv', 'hmnist_8_8_L.csv', 'hmnist_28_28_RGB.csv', 'ham10000_images_part_2', 'hmnist_8_8_RGB.csv', 'HAM10000_images_part_1', 'ham10000_images_part_1', 'HAM10000_metadata.csv', 'HAM10000_images_part_2']\n"
          ],
          "name": "stdout"
        }
      ]
    },
    {
      "cell_type": "markdown",
      "metadata": {
        "id": "K2eFTfGPi-7F",
        "colab_type": "text"
      },
      "source": [
        "## Exploratory Data Analysis"
      ]
    },
    {
      "cell_type": "markdown",
      "metadata": {
        "id": "pSSbq1SFlno_",
        "colab_type": "text"
      },
      "source": [
        "<img width=\"800\" src=\"https://image.ibb.co/n8PBkL/cover.png\">\n"
      ]
    },
    {
      "cell_type": "markdown",
      "metadata": {
        "id": "P1BWJ1tljDT6",
        "colab_type": "text"
      },
      "source": [
        "- Training of neural networks for automated diagnosis of pigmented skin lesions is hampered by the small size and lack of diversity of available dataset of dermatoscopic images. \n",
        "- We tackle this problem by releasing the HAM10000 (\"Human Against Machine with 10000 training images\") dataset. \n",
        "- We collected dermatoscopic images from different populations, acquired and stored by different modalities. \n",
        "- The final dataset consists of 10015 dermatoscopic images which can serve as a training set for academic machine learning purposes. \n",
        "- Cases include a representative collection of all important diagnostic categories in the realm of pigmented lesions: \n",
        " - Actinic keratoses and intraepithelial carcinoma / Bowen's disease (akiec), \n",
        " - basal cell carcinoma (bcc), \n",
        " - benign keratosis-like lesions (solar lentigines / seborrheic keratoses and lichen-planus like keratoses, bkl), \n",
        " - dermatofibroma (df), \n",
        " - melanoma (mel), \n",
        " - melanocytic nevi (nv) and \n",
        " - vascular lesions (angiomas, angiokeratomas, pyogenic granulomas and hemorrhage, vasc).\n",
        "\n",
        "- More than 50% of lesions are confirmed through histopathology (histo), \n",
        " - the ground truth for the rest of the cases is either \n",
        "  - follow-up examination (follow_up), \n",
        "  - expert consensus (consensus), or \n",
        "  - confirmation by in-vivo confocal microscopy (confocal). \n",
        "- The dataset includes lesions with multiple images, which can be tracked by the lesion_id-column within the HAM10000_metadata file.\n",
        "<img width=\"500px\" src=\"http://www.justscience.in/wp-content/uploads/2017/12/what-causes-skin-cancer.jpg\">"
      ]
    },
    {
      "cell_type": "code",
      "metadata": {
        "id": "ybYmdWsokMF7",
        "colab_type": "code",
        "colab": {}
      },
      "source": [
        "image_dir = \"input\"\n",
        "\n",
        "imageid_path_dict = {os.path.splitext(os.path.basename(x))[0]: x\n",
        "                     for x in glob(os.path.join(image_dir, '*', '*.jpg'))}\n",
        "\n",
        "lesion_type_dict = {\n",
        "    'nv': 'Melanocytic nevi',\n",
        "    'mel': 'dermatofibroma',\n",
        "    'bkl': 'Benign keratosis-like lesions ',\n",
        "    'bcc': 'Basal cell carcinoma',\n",
        "    'akiec': 'Actinic keratoses',\n",
        "    'vasc': 'Vascular lesions',\n",
        "    'df': 'Dermatofibroma'\n",
        "}"
      ],
      "execution_count": 0,
      "outputs": []
    },
    {
      "cell_type": "code",
      "metadata": {
        "id": "1GXBtfr6kPH4",
        "colab_type": "code",
        "outputId": "2f07febe-519f-447d-ae5b-e95d72203981",
        "colab": {
          "base_uri": "https://localhost:8080/",
          "height": 191
        }
      },
      "source": [
        "image_dataframe = pd.read_csv(os.path.join('input/', 'HAM10000_metadata.csv'))\n",
        "image_dataframe.sample(5)"
      ],
      "execution_count": 6,
      "outputs": [
        {
          "output_type": "execute_result",
          "data": {
            "text/html": [
              "<div>\n",
              "<style scoped>\n",
              "    .dataframe tbody tr th:only-of-type {\n",
              "        vertical-align: middle;\n",
              "    }\n",
              "\n",
              "    .dataframe tbody tr th {\n",
              "        vertical-align: top;\n",
              "    }\n",
              "\n",
              "    .dataframe thead th {\n",
              "        text-align: right;\n",
              "    }\n",
              "</style>\n",
              "<table border=\"1\" class=\"dataframe\">\n",
              "  <thead>\n",
              "    <tr style=\"text-align: right;\">\n",
              "      <th></th>\n",
              "      <th>lesion_id</th>\n",
              "      <th>image_id</th>\n",
              "      <th>dx</th>\n",
              "      <th>dx_type</th>\n",
              "      <th>age</th>\n",
              "      <th>sex</th>\n",
              "      <th>localization</th>\n",
              "    </tr>\n",
              "  </thead>\n",
              "  <tbody>\n",
              "    <tr>\n",
              "      <th>2834</th>\n",
              "      <td>HAM_0003826</td>\n",
              "      <td>ISIC_0026433</td>\n",
              "      <td>bcc</td>\n",
              "      <td>histo</td>\n",
              "      <td>70.0</td>\n",
              "      <td>male</td>\n",
              "      <td>chest</td>\n",
              "    </tr>\n",
              "    <tr>\n",
              "      <th>5675</th>\n",
              "      <td>HAM_0007200</td>\n",
              "      <td>ISIC_0026304</td>\n",
              "      <td>nv</td>\n",
              "      <td>follow_up</td>\n",
              "      <td>50.0</td>\n",
              "      <td>male</td>\n",
              "      <td>back</td>\n",
              "    </tr>\n",
              "    <tr>\n",
              "      <th>3425</th>\n",
              "      <td>HAM_0001918</td>\n",
              "      <td>ISIC_0031291</td>\n",
              "      <td>nv</td>\n",
              "      <td>follow_up</td>\n",
              "      <td>45.0</td>\n",
              "      <td>female</td>\n",
              "      <td>back</td>\n",
              "    </tr>\n",
              "    <tr>\n",
              "      <th>2588</th>\n",
              "      <td>HAM_0003186</td>\n",
              "      <td>ISIC_0027297</td>\n",
              "      <td>bcc</td>\n",
              "      <td>histo</td>\n",
              "      <td>70.0</td>\n",
              "      <td>male</td>\n",
              "      <td>face</td>\n",
              "    </tr>\n",
              "    <tr>\n",
              "      <th>7782</th>\n",
              "      <td>HAM_0007494</td>\n",
              "      <td>ISIC_0033136</td>\n",
              "      <td>nv</td>\n",
              "      <td>histo</td>\n",
              "      <td>25.0</td>\n",
              "      <td>female</td>\n",
              "      <td>face</td>\n",
              "    </tr>\n",
              "  </tbody>\n",
              "</table>\n",
              "</div>"
            ],
            "text/plain": [
              "        lesion_id      image_id   dx    dx_type   age     sex localization\n",
              "2834  HAM_0003826  ISIC_0026433  bcc      histo  70.0    male        chest\n",
              "5675  HAM_0007200  ISIC_0026304   nv  follow_up  50.0    male         back\n",
              "3425  HAM_0001918  ISIC_0031291   nv  follow_up  45.0  female         back\n",
              "2588  HAM_0003186  ISIC_0027297  bcc      histo  70.0    male         face\n",
              "7782  HAM_0007494  ISIC_0033136   nv      histo  25.0  female         face"
            ]
          },
          "metadata": {
            "tags": []
          },
          "execution_count": 6
        }
      ]
    },
    {
      "cell_type": "code",
      "metadata": {
        "id": "3yIK9-kGofup",
        "colab_type": "code",
        "outputId": "a477a0e0-f01b-4e36-f8f7-b390bc796c17",
        "colab": {
          "base_uri": "https://localhost:8080/",
          "height": 191
        }
      },
      "source": [
        "image_dataframe['path'] = image_dataframe['image_id'].map(imageid_path_dict.get)\n",
        "image_dataframe['cell_type'] = image_dataframe['dx'].map(lesion_type_dict.get) \n",
        "image_dataframe['cell_type_idx'] = pd.Categorical(image_dataframe['cell_type']).codes\n",
        "image_dataframe.head(5)"
      ],
      "execution_count": 7,
      "outputs": [
        {
          "output_type": "execute_result",
          "data": {
            "text/html": [
              "<div>\n",
              "<style scoped>\n",
              "    .dataframe tbody tr th:only-of-type {\n",
              "        vertical-align: middle;\n",
              "    }\n",
              "\n",
              "    .dataframe tbody tr th {\n",
              "        vertical-align: top;\n",
              "    }\n",
              "\n",
              "    .dataframe thead th {\n",
              "        text-align: right;\n",
              "    }\n",
              "</style>\n",
              "<table border=\"1\" class=\"dataframe\">\n",
              "  <thead>\n",
              "    <tr style=\"text-align: right;\">\n",
              "      <th></th>\n",
              "      <th>lesion_id</th>\n",
              "      <th>image_id</th>\n",
              "      <th>dx</th>\n",
              "      <th>dx_type</th>\n",
              "      <th>age</th>\n",
              "      <th>sex</th>\n",
              "      <th>localization</th>\n",
              "      <th>path</th>\n",
              "      <th>cell_type</th>\n",
              "      <th>cell_type_idx</th>\n",
              "    </tr>\n",
              "  </thead>\n",
              "  <tbody>\n",
              "    <tr>\n",
              "      <th>0</th>\n",
              "      <td>HAM_0000118</td>\n",
              "      <td>ISIC_0027419</td>\n",
              "      <td>bkl</td>\n",
              "      <td>histo</td>\n",
              "      <td>80.0</td>\n",
              "      <td>male</td>\n",
              "      <td>scalp</td>\n",
              "      <td>input/ham10000_images_part_1/ISIC_0027419.jpg</td>\n",
              "      <td>Benign keratosis-like lesions</td>\n",
              "      <td>2</td>\n",
              "    </tr>\n",
              "    <tr>\n",
              "      <th>1</th>\n",
              "      <td>HAM_0000118</td>\n",
              "      <td>ISIC_0025030</td>\n",
              "      <td>bkl</td>\n",
              "      <td>histo</td>\n",
              "      <td>80.0</td>\n",
              "      <td>male</td>\n",
              "      <td>scalp</td>\n",
              "      <td>input/ham10000_images_part_1/ISIC_0025030.jpg</td>\n",
              "      <td>Benign keratosis-like lesions</td>\n",
              "      <td>2</td>\n",
              "    </tr>\n",
              "    <tr>\n",
              "      <th>2</th>\n",
              "      <td>HAM_0002730</td>\n",
              "      <td>ISIC_0026769</td>\n",
              "      <td>bkl</td>\n",
              "      <td>histo</td>\n",
              "      <td>80.0</td>\n",
              "      <td>male</td>\n",
              "      <td>scalp</td>\n",
              "      <td>input/ham10000_images_part_1/ISIC_0026769.jpg</td>\n",
              "      <td>Benign keratosis-like lesions</td>\n",
              "      <td>2</td>\n",
              "    </tr>\n",
              "    <tr>\n",
              "      <th>3</th>\n",
              "      <td>HAM_0002730</td>\n",
              "      <td>ISIC_0025661</td>\n",
              "      <td>bkl</td>\n",
              "      <td>histo</td>\n",
              "      <td>80.0</td>\n",
              "      <td>male</td>\n",
              "      <td>scalp</td>\n",
              "      <td>input/ham10000_images_part_1/ISIC_0025661.jpg</td>\n",
              "      <td>Benign keratosis-like lesions</td>\n",
              "      <td>2</td>\n",
              "    </tr>\n",
              "    <tr>\n",
              "      <th>4</th>\n",
              "      <td>HAM_0001466</td>\n",
              "      <td>ISIC_0031633</td>\n",
              "      <td>bkl</td>\n",
              "      <td>histo</td>\n",
              "      <td>75.0</td>\n",
              "      <td>male</td>\n",
              "      <td>ear</td>\n",
              "      <td>input/HAM10000_images_part_2/ISIC_0031633.jpg</td>\n",
              "      <td>Benign keratosis-like lesions</td>\n",
              "      <td>2</td>\n",
              "    </tr>\n",
              "  </tbody>\n",
              "</table>\n",
              "</div>"
            ],
            "text/plain": [
              "     lesion_id      image_id  ...                       cell_type cell_type_idx\n",
              "0  HAM_0000118  ISIC_0027419  ...  Benign keratosis-like lesions              2\n",
              "1  HAM_0000118  ISIC_0025030  ...  Benign keratosis-like lesions              2\n",
              "2  HAM_0002730  ISIC_0026769  ...  Benign keratosis-like lesions              2\n",
              "3  HAM_0002730  ISIC_0025661  ...  Benign keratosis-like lesions              2\n",
              "4  HAM_0001466  ISIC_0031633  ...  Benign keratosis-like lesions              2\n",
              "\n",
              "[5 rows x 10 columns]"
            ]
          },
          "metadata": {
            "tags": []
          },
          "execution_count": 7
        }
      ]
    },
    {
      "cell_type": "code",
      "metadata": {
        "id": "eDRcxpoRkdnV",
        "colab_type": "code",
        "outputId": "b1ef868c-db75-4e98-d7f8-2160f3f8a4df",
        "colab": {
          "base_uri": "https://localhost:8080/",
          "height": 147
        }
      },
      "source": [
        "print(image_dataframe.cell_type.value_counts())"
      ],
      "execution_count": 8,
      "outputs": [
        {
          "output_type": "stream",
          "text": [
            "Melanocytic nevi                  6705\n",
            "dermatofibroma                    1113\n",
            "Benign keratosis-like lesions     1099\n",
            "Basal cell carcinoma               514\n",
            "Actinic keratoses                  327\n",
            "Vascular lesions                   142\n",
            "Dermatofibroma                     115\n",
            "Name: cell_type, dtype: int64\n"
          ],
          "name": "stdout"
        }
      ]
    },
    {
      "cell_type": "markdown",
      "metadata": {
        "id": "SpAgrbkxkkxn",
        "colab_type": "text"
      },
      "source": [
        "## Plot"
      ]
    },
    {
      "cell_type": "code",
      "metadata": {
        "id": "FHAn7RffmDjk",
        "colab_type": "code",
        "outputId": "4d2cd635-2340-4dca-87c5-5a8248179d36",
        "colab": {
          "base_uri": "https://localhost:8080/",
          "height": 473
        }
      },
      "source": [
        "fig, ax1 = plt.subplots(1, 1, figsize= (10, 5))\n",
        "image_dataframe['cell_type'].value_counts().plot(kind='bar', ax=ax1)"
      ],
      "execution_count": 9,
      "outputs": [
        {
          "output_type": "execute_result",
          "data": {
            "text/plain": [
              "<matplotlib.axes._subplots.AxesSubplot at 0x7f6e67544ac8>"
            ]
          },
          "metadata": {
            "tags": []
          },
          "execution_count": 9
        },
        {
          "output_type": "display_data",
          "data": {
            "image/png": "[encoded data removed]",
            "text/plain": [
              "<Figure size 720x360 with 1 Axes>"
            ]
          },
          "metadata": {
            "tags": []
          }
        }
      ]
    },
    {
      "cell_type": "code",
      "metadata": {
        "id": "HDmG-5VWknMn",
        "colab_type": "code",
        "outputId": "22e8fddf-fe82-4e80-dc3e-773d6a7e318b",
        "colab": {
          "base_uri": "https://localhost:8080/",
          "height": 350
        }
      },
      "source": [
        "fig, ax1 = plt.subplots(1, 1, figsize = (10, 5))\n",
        "sns.countplot(y='cell_type',data=image_dataframe, hue=\"cell_type\",ax=ax1)\n",
        "\n",
        "\n"
      ],
      "execution_count": 10,
      "outputs": [
        {
          "output_type": "execute_result",
          "data": {
            "text/plain": [
              "<matplotlib.axes._subplots.AxesSubplot at 0x7f6e6744dc50>"
            ]
          },
          "metadata": {
            "tags": []
          },
          "execution_count": 10
        },
        {
          "output_type": "display_data",
          "data": {
            "image/png": "[encoded data removed]",
            "text/plain": [
              "<Figure size 720x360 with 1 Axes>"
            ]
          },
          "metadata": {
            "tags": []
          }
        }
      ]
    },
    {
      "cell_type": "markdown",
      "metadata": {
        "id": "IOUZ8LNCktrS",
        "colab_type": "text"
      },
      "source": [
        "Here we notice tha we have data imbalance"
      ]
    },
    {
      "cell_type": "code",
      "metadata": {
        "id": "0K6c2ulWn6ub",
        "colab_type": "code",
        "outputId": "c29e55dc-29f1-4985-f479-f1e45318d016",
        "colab": {
          "base_uri": "https://localhost:8080/",
          "height": 191
        }
      },
      "source": [
        "image_dataset = pd.concat([image_dataframe['path'], image_dataframe['cell_type']], axis=1, keys=['name', 'label'])\n",
        "\n",
        "image_dataset.head(5)"
      ],
      "execution_count": 11,
      "outputs": [
        {
          "output_type": "execute_result",
          "data": {
            "text/html": [
              "<div>\n",
              "<style scoped>\n",
              "    .dataframe tbody tr th:only-of-type {\n",
              "        vertical-align: middle;\n",
              "    }\n",
              "\n",
              "    .dataframe tbody tr th {\n",
              "        vertical-align: top;\n",
              "    }\n",
              "\n",
              "    .dataframe thead th {\n",
              "        text-align: right;\n",
              "    }\n",
              "</style>\n",
              "<table border=\"1\" class=\"dataframe\">\n",
              "  <thead>\n",
              "    <tr style=\"text-align: right;\">\n",
              "      <th></th>\n",
              "      <th>name</th>\n",
              "      <th>label</th>\n",
              "    </tr>\n",
              "  </thead>\n",
              "  <tbody>\n",
              "    <tr>\n",
              "      <th>0</th>\n",
              "      <td>input/ham10000_images_part_1/ISIC_0027419.jpg</td>\n",
              "      <td>Benign keratosis-like lesions</td>\n",
              "    </tr>\n",
              "    <tr>\n",
              "      <th>1</th>\n",
              "      <td>input/ham10000_images_part_1/ISIC_0025030.jpg</td>\n",
              "      <td>Benign keratosis-like lesions</td>\n",
              "    </tr>\n",
              "    <tr>\n",
              "      <th>2</th>\n",
              "      <td>input/ham10000_images_part_1/ISIC_0026769.jpg</td>\n",
              "      <td>Benign keratosis-like lesions</td>\n",
              "    </tr>\n",
              "    <tr>\n",
              "      <th>3</th>\n",
              "      <td>input/ham10000_images_part_1/ISIC_0025661.jpg</td>\n",
              "      <td>Benign keratosis-like lesions</td>\n",
              "    </tr>\n",
              "    <tr>\n",
              "      <th>4</th>\n",
              "      <td>input/HAM10000_images_part_2/ISIC_0031633.jpg</td>\n",
              "      <td>Benign keratosis-like lesions</td>\n",
              "    </tr>\n",
              "  </tbody>\n",
              "</table>\n",
              "</div>"
            ],
            "text/plain": [
              "                                            name                           label\n",
              "0  input/ham10000_images_part_1/ISIC_0027419.jpg  Benign keratosis-like lesions \n",
              "1  input/ham10000_images_part_1/ISIC_0025030.jpg  Benign keratosis-like lesions \n",
              "2  input/ham10000_images_part_1/ISIC_0026769.jpg  Benign keratosis-like lesions \n",
              "3  input/ham10000_images_part_1/ISIC_0025661.jpg  Benign keratosis-like lesions \n",
              "4  input/HAM10000_images_part_2/ISIC_0031633.jpg  Benign keratosis-like lesions "
            ]
          },
          "metadata": {
            "tags": []
          },
          "execution_count": 11
        }
      ]
    },
    {
      "cell_type": "code",
      "metadata": {
        "id": "FfgHOrYLhuoz",
        "colab_type": "code",
        "outputId": "bb4d24c2-d3a3-4c4f-9e18-065a4ec76988",
        "colab": {
          "base_uri": "https://localhost:8080/",
          "height": 350
        }
      },
      "source": [
        "f, ax1 = plt.subplots(1,1, figsize=(10,5))\n",
        "sns.boxplot(\n",
        "    x=image_dataframe['sex'], \n",
        "    y=image_dataframe['age'], \n",
        "    #hue=image_dataframe['sex'], \n",
        "    ax=ax1)\n",
        "plt.title('Diagnosis by gender')\n",
        "plt.show()"
      ],
      "execution_count": 12,
      "outputs": [
        {
          "output_type": "display_data",
          "data": {
            "image/png": "[encoded data removed]",
            "text/plain": [
              "<Figure size 720x360 with 1 Axes>"
            ]
          },
          "metadata": {
            "tags": []
          }
        }
      ]
    },
    {
      "cell_type": "code",
      "metadata": {
        "id": "zyMxb06Wijvi",
        "colab_type": "code",
        "outputId": "151a505a-0c9d-4cf6-cd82-85ad8e18a7ed",
        "colab": {
          "base_uri": "https://localhost:8080/",
          "height": 350
        }
      },
      "source": [
        "f, ax1 = plt.subplots(1,1, figsize=(10,5))\n",
        "sns.boxplot(x=image_dataframe['sex'], y=image_dataframe['age'], hue=image_dataframe['dx'], ax=ax1)\n",
        "plt.title('Diagnosis by gender')\n",
        "plt.show()"
      ],
      "execution_count": 13,
      "outputs": [
        {
          "output_type": "display_data",
          "data": {
            "image/png": "[encoded data removed]",
            "text/plain": [
              "<Figure size 720x360 with 1 Axes>"
            ]
          },
          "metadata": {
            "tags": []
          }
        }
      ]
    },
    {
      "cell_type": "code",
      "metadata": {
        "id": "1vkl1m06bsNM",
        "colab_type": "code",
        "outputId": "306503a2-bb00-4c5d-db68-c0e52bde6955",
        "colab": {
          "base_uri": "https://localhost:8080/",
          "height": 350
        }
      },
      "source": [
        "f, ax1 = plt.subplots(1,1, figsize=(10,5))\n",
        "sns.boxplot(x=image_dataframe['localization'], y=image_dataframe['age'], ax=ax1)\n",
        "plt.title('Diagnosis by gender')\n",
        "plt.show()"
      ],
      "execution_count": 14,
      "outputs": [
        {
          "output_type": "display_data",
          "data": {
            "image/png": "[encoded data removed]",
            "text/plain": [
              "<Figure size 720x360 with 1 Axes>"
            ]
          },
          "metadata": {
            "tags": []
          }
        }
      ]
    },
    {
      "cell_type": "code",
      "metadata": {
        "id": "_F6csTuMg4Mb",
        "colab_type": "code",
        "outputId": "bdd09241-4cf2-45a4-8c5c-a26a4834d10d",
        "colab": {
          "base_uri": "https://localhost:8080/",
          "height": 350
        }
      },
      "source": [
        "f, ax1 = plt.subplots(1,1, figsize=(10,5))\n",
        "sns.boxplot(x=image_dataframe['dx'], y=image_dataframe['age'], hue=image_dataframe['sex'], ax=ax1)\n",
        "plt.title('Diagnosis by gender')\n",
        "plt.show()"
      ],
      "execution_count": 15,
      "outputs": [
        {
          "output_type": "display_data",
          "data": {
            "image/png": "[encoded data removed]",
            "text/plain": [
              "<Figure size 720x360 with 1 Axes>"
            ]
          },
          "metadata": {
            "tags": []
          }
        }
      ]
    },
    {
      "cell_type": "code",
      "metadata": {
        "id": "fbB1oYG1pM9i",
        "colab_type": "code",
        "colab": {}
      },
      "source": [
        "bs = 64\n",
        "\n",
        "tfms = get_transforms(do_flip=False)\n",
        "data = ImageDataBunch.from_df(\".\", image_dataset, ds_tfms=tfms, size=28, bs=bs).normalize(imagenet_stats)"
      ],
      "execution_count": 0,
      "outputs": []
    },
    {
      "cell_type": "code",
      "metadata": {
        "id": "hFbqtKNipU4M",
        "colab_type": "code",
        "outputId": "351da28e-5016-4a39-f709-cd415c07b005",
        "colab": {
          "base_uri": "https://localhost:8080/",
          "height": 872
        }
      },
      "source": [
        "data.show_batch(rows=3, figsize=(12,12))"
      ],
      "execution_count": 17,
      "outputs": [
        {
          "output_type": "display_data",
          "data": {
            "image/png": "[encoded data removed]",
            "text/plain": [
              "<Figure size 864x864 with 9 Axes>"
            ]
          },
          "metadata": {
            "tags": []
          }
        }
      ]
    },
    {
      "cell_type": "markdown",
      "metadata": {
        "id": "1lixL2P5pkSY",
        "colab_type": "text"
      },
      "source": [
        "## Model Resnet 50"
      ]
    },
    {
      "cell_type": "markdown",
      "metadata": {
        "id": "2riV5ii9suye",
        "colab_type": "text"
      },
      "source": [
        "- Now we will train in the same way as before but with one caveat: instead of using resnet34 as our backbone we will use resnet50 (resnet34 is a 34 layer residual network while resnet50 has 50 layers. It will be explained later in the course and you can learn the details in the resnet paper).\n",
        "\n",
        "<img width=\"900\" src=\"https://i.stack.imgur.com/gI4zT.png\">\n",
        "\n",
        "https://arxiv.org/pdf/1512.03385.pdf\n",
        "\n",
        "- Basically, resnet50 usually performs better because it is a deeper network with more parameters. Let's see if we can achieve a higher performance here. To help it along, let's us use larger images too, since that way the network can see more detail. We reduce the batch size a bit since otherwise this larger network will require more GPU memory."
      ]
    },
    {
      "cell_type": "code",
      "metadata": {
        "id": "5q1gLuGIpm8m",
        "colab_type": "code",
        "outputId": "b46c5464-27ff-40bd-f505-505c88dc729d",
        "colab": {
          "base_uri": "https://localhost:8080/",
          "height": 113,
          "referenced_widgets": [
            "3633c5310bd24e048eb811225ac834d9",
            "e446a8f1760f403f97a610dfa91d55fd",
            "ce6636710d404989a0dd58a0d8c5045b",
            "a8d3d06dee5e440a90f063787e1edcb5",
            "273e8d7135fd4e5d83885f046670d42d",
            "4b42ad55993c483e941b4df8d210c183",
            "7d3b9becc4974577a5ee3c91fc0d311b",
            "11f17fd922c84a2ba5dc00c9963a0b89"
          ]
        }
      },
      "source": [
        "learner=create_cnn(data,models.resnet50,metrics=[accuracy], model_dir=\"/tmp/model/\")"
      ],
      "execution_count": 18,
      "outputs": [
        {
          "output_type": "stream",
          "text": [
            "/usr/local/lib/python3.6/dist-packages/fastai/vision/learner.py:106: UserWarning: `create_cnn` is deprecated and is now named `cnn_learner`.\n",
            "  warn(\"`create_cnn` is deprecated and is now named `cnn_learner`.\")\n",
            "Downloading: \"https://download.pytorch.org/models/resnet50-19c8e357.pth\" to /root/.cache/torch/checkpoints/resnet50-19c8e357.pth\n"
          ],
          "name": "stderr"
        },
        {
          "output_type": "display_data",
          "data": {
            "application/vnd.jupyter.widget-view+json": {
              "model_id": "3633c5310bd24e048eb811225ac834d9",
              "version_minor": 0,
              "version_major": 2
            },
            "text/plain": [
              "HBox(children=(IntProgress(value=0, max=102502400), HTML(value='')))"
            ]
          },
          "metadata": {
            "tags": []
          }
        },
        {
          "output_type": "stream",
          "text": [
            "\n"
          ],
          "name": "stdout"
        }
      ]
    },
    {
      "cell_type": "code",
      "metadata": {
        "id": "z5Of9i_AY6S5",
        "colab_type": "code",
        "colab": {}
      },
      "source": [
        "#learner.model"
      ],
      "execution_count": 0,
      "outputs": []
    },
    {
      "cell_type": "code",
      "metadata": {
        "id": "Lh6QDDCkprg8",
        "colab_type": "code",
        "colab": {}
      },
      "source": [
        "learner.loss_func=nn.CrossEntropyLoss()"
      ],
      "execution_count": 0,
      "outputs": []
    },
    {
      "cell_type": "code",
      "metadata": {
        "id": "Gr3RwA1ApuVk",
        "colab_type": "code",
        "outputId": "8eb4f93b-d152-4b1a-d1a1-d2c304b37a92",
        "colab": {
          "base_uri": "https://localhost:8080/",
          "height": 371
        }
      },
      "source": [
        "learner.lr_find()\n",
        "learner.recorder.plot()"
      ],
      "execution_count": 21,
      "outputs": [
        {
          "output_type": "display_data",
          "data": {
            "text/html": [
              "\n",
              "    <div>\n",
              "        <style>\n",
              "            /* Turns off some styling */\n",
              "            progress {\n",
              "                /* gets rid of default border in Firefox and Opera. */\n",
              "                border: none;\n",
              "                /* Needs to be in here for Safari polyfill so background images work as expected. */\n",
              "                background-size: auto;\n",
              "            }\n",
              "            .progress-bar-interrupted, .progress-bar-interrupted::-webkit-progress-bar {\n",
              "                background: #F44336;\n",
              "            }\n",
              "        </style>\n",
              "      <progress value='0' class='' max='1', style='width:300px; height:20px; vertical-align: middle;'></progress>\n",
              "      0.00% [0/1 00:00<00:00]\n",
              "    </div>\n",
              "    \n",
              "<table border=\"1\" class=\"dataframe\">\n",
              "  <thead>\n",
              "    <tr style=\"text-align: left;\">\n",
              "      <th>epoch</th>\n",
              "      <th>train_loss</th>\n",
              "      <th>valid_loss</th>\n",
              "      <th>accuracy</th>\n",
              "      <th>time</th>\n",
              "    </tr>\n",
              "  </thead>\n",
              "  <tbody>\n",
              "  </tbody>\n",
              "</table><p>\n",
              "\n",
              "    <div>\n",
              "        <style>\n",
              "            /* Turns off some styling */\n",
              "            progress {\n",
              "                /* gets rid of default border in Firefox and Opera. */\n",
              "                border: none;\n",
              "                /* Needs to be in here for Safari polyfill so background images work as expected. */\n",
              "                background-size: auto;\n",
              "            }\n",
              "            .progress-bar-interrupted, .progress-bar-interrupted::-webkit-progress-bar {\n",
              "                background: #F44336;\n",
              "            }\n",
              "        </style>\n",
              "      <progress value='91' class='' max='125', style='width:300px; height:20px; vertical-align: middle;'></progress>\n",
              "      72.80% [91/125 02:54<01:05 8.7809]\n",
              "    </div>\n",
              "    "
            ],
            "text/plain": [
              "<IPython.core.display.HTML object>"
            ]
          },
          "metadata": {
            "tags": []
          }
        },
        {
          "output_type": "stream",
          "text": [
            "LR Finder is complete, type {learner_name}.recorder.plot() to see the graph.\n"
          ],
          "name": "stdout"
        },
        {
          "output_type": "display_data",
          "data": {
            "image/png": "[encoded data removed]",
            "text/plain": [
              "<Figure size 432x288 with 1 Axes>"
            ]
          },
          "metadata": {
            "tags": []
          }
        }
      ]
    },
    {
      "cell_type": "code",
      "metadata": {
        "id": "3dcwgGnHp7Aw",
        "colab_type": "code",
        "outputId": "0082a303-8653-4e9d-af04-6801948b191b",
        "colab": {
          "base_uri": "https://localhost:8080/",
          "height": 335
        }
      },
      "source": [
        "learner.fit_one_cycle(10, 3e-3)"
      ],
      "execution_count": 22,
      "outputs": [
        {
          "output_type": "display_data",
          "data": {
            "text/html": [
              "<table border=\"1\" class=\"dataframe\">\n",
              "  <thead>\n",
              "    <tr style=\"text-align: left;\">\n",
              "      <th>epoch</th>\n",
              "      <th>train_loss</th>\n",
              "      <th>valid_loss</th>\n",
              "      <th>accuracy</th>\n",
              "      <th>time</th>\n",
              "    </tr>\n",
              "  </thead>\n",
              "  <tbody>\n",
              "    <tr>\n",
              "      <td>0</td>\n",
              "      <td>2.184469</td>\n",
              "      <td>1.591658</td>\n",
              "      <td>0.591113</td>\n",
              "      <td>04:28</td>\n",
              "    </tr>\n",
              "    <tr>\n",
              "      <td>1</td>\n",
              "      <td>1.293537</td>\n",
              "      <td>0.852202</td>\n",
              "      <td>0.721418</td>\n",
              "      <td>04:29</td>\n",
              "    </tr>\n",
              "    <tr>\n",
              "      <td>2</td>\n",
              "      <td>0.896790</td>\n",
              "      <td>0.724674</td>\n",
              "      <td>0.743884</td>\n",
              "      <td>04:30</td>\n",
              "    </tr>\n",
              "    <tr>\n",
              "      <td>3</td>\n",
              "      <td>0.795079</td>\n",
              "      <td>0.685139</td>\n",
              "      <td>0.755866</td>\n",
              "      <td>04:29</td>\n",
              "    </tr>\n",
              "    <tr>\n",
              "      <td>4</td>\n",
              "      <td>0.730610</td>\n",
              "      <td>0.680030</td>\n",
              "      <td>0.761358</td>\n",
              "      <td>04:30</td>\n",
              "    </tr>\n",
              "    <tr>\n",
              "      <td>5</td>\n",
              "      <td>0.708871</td>\n",
              "      <td>0.620983</td>\n",
              "      <td>0.776335</td>\n",
              "      <td>04:28</td>\n",
              "    </tr>\n",
              "    <tr>\n",
              "      <td>6</td>\n",
              "      <td>0.660156</td>\n",
              "      <td>0.629099</td>\n",
              "      <td>0.776335</td>\n",
              "      <td>04:27</td>\n",
              "    </tr>\n",
              "    <tr>\n",
              "      <td>7</td>\n",
              "      <td>0.640846</td>\n",
              "      <td>0.615372</td>\n",
              "      <td>0.782826</td>\n",
              "      <td>04:27</td>\n",
              "    </tr>\n",
              "    <tr>\n",
              "      <td>8</td>\n",
              "      <td>0.603497</td>\n",
              "      <td>0.603500</td>\n",
              "      <td>0.784324</td>\n",
              "      <td>04:26</td>\n",
              "    </tr>\n",
              "    <tr>\n",
              "      <td>9</td>\n",
              "      <td>0.600594</td>\n",
              "      <td>0.601409</td>\n",
              "      <td>0.785322</td>\n",
              "      <td>04:29</td>\n",
              "    </tr>\n",
              "  </tbody>\n",
              "</table>"
            ],
            "text/plain": [
              "<IPython.core.display.HTML object>"
            ]
          },
          "metadata": {
            "tags": []
          }
        }
      ]
    },
    {
      "cell_type": "code",
      "metadata": {
        "id": "ipp8N4enp9ho",
        "colab_type": "code",
        "colab": {}
      },
      "source": [
        "learner.unfreeze()"
      ],
      "execution_count": 0,
      "outputs": []
    },
    {
      "cell_type": "code",
      "metadata": {
        "id": "1n7FJogYqACy",
        "colab_type": "code",
        "outputId": "dc24a4c1-0969-419c-d9ca-981746c9dbe8",
        "colab": {
          "base_uri": "https://localhost:8080/",
          "height": 375
        }
      },
      "source": [
        "learner.lr_find()\n",
        "learner.recorder.plot()"
      ],
      "execution_count": 24,
      "outputs": [
        {
          "output_type": "display_data",
          "data": {
            "text/html": [
              "\n",
              "    <div>\n",
              "        <style>\n",
              "            /* Turns off some styling */\n",
              "            progress {\n",
              "                /* gets rid of default border in Firefox and Opera. */\n",
              "                border: none;\n",
              "                /* Needs to be in here for Safari polyfill so background images work as expected. */\n",
              "                background-size: auto;\n",
              "            }\n",
              "            .progress-bar-interrupted, .progress-bar-interrupted::-webkit-progress-bar {\n",
              "                background: #F44336;\n",
              "            }\n",
              "        </style>\n",
              "      <progress value='0' class='' max='1', style='width:300px; height:20px; vertical-align: middle;'></progress>\n",
              "      0.00% [0/1 00:00<00:00]\n",
              "    </div>\n",
              "    \n",
              "<table border=\"1\" class=\"dataframe\">\n",
              "  <thead>\n",
              "    <tr style=\"text-align: left;\">\n",
              "      <th>epoch</th>\n",
              "      <th>train_loss</th>\n",
              "      <th>valid_loss</th>\n",
              "      <th>accuracy</th>\n",
              "      <th>time</th>\n",
              "    </tr>\n",
              "  </thead>\n",
              "  <tbody>\n",
              "  </tbody>\n",
              "</table><p>\n",
              "\n",
              "    <div>\n",
              "        <style>\n",
              "            /* Turns off some styling */\n",
              "            progress {\n",
              "                /* gets rid of default border in Firefox and Opera. */\n",
              "                border: none;\n",
              "                /* Needs to be in here for Safari polyfill so background images work as expected. */\n",
              "                background-size: auto;\n",
              "            }\n",
              "            .progress-bar-interrupted, .progress-bar-interrupted::-webkit-progress-bar {\n",
              "                background: #F44336;\n",
              "            }\n",
              "        </style>\n",
              "      <progress value='83' class='' max='125', style='width:300px; height:20px; vertical-align: middle;'></progress>\n",
              "      66.40% [83/125 03:36<01:49 1.8455]\n",
              "    </div>\n",
              "    "
            ],
            "text/plain": [
              "<IPython.core.display.HTML object>"
            ]
          },
          "metadata": {
            "tags": []
          }
        },
        {
          "output_type": "stream",
          "text": [
            "LR Finder is complete, type {learner_name}.recorder.plot() to see the graph.\n"
          ],
          "name": "stdout"
        },
        {
          "output_type": "display_data",
          "data": {
            "image/png": "[encoded data removed]",
            "text/plain": [
              "<Figure size 432x288 with 1 Axes>"
            ]
          },
          "metadata": {
            "tags": []
          }
        }
      ]
    },
    {
      "cell_type": "code",
      "metadata": {
        "id": "oJ2_r5fcqDq7",
        "colab_type": "code",
        "outputId": "310094b6-5db5-4d07-ae9e-c3f8ddcf5a06",
        "colab": {
          "base_uri": "https://localhost:8080/",
          "height": 335
        }
      },
      "source": [
        "hhlr=1e-6\n",
        "learner.fit_one_cycle(10, slice(3*lr,10*lr))"
      ],
      "execution_count": 25,
      "outputs": [
        {
          "output_type": "display_data",
          "data": {
            "text/html": [
              "<table border=\"1\" class=\"dataframe\">\n",
              "  <thead>\n",
              "    <tr style=\"text-align: left;\">\n",
              "      <th>epoch</th>\n",
              "      <th>train_loss</th>\n",
              "      <th>valid_loss</th>\n",
              "      <th>accuracy</th>\n",
              "      <th>time</th>\n",
              "    </tr>\n",
              "  </thead>\n",
              "  <tbody>\n",
              "    <tr>\n",
              "      <td>0</td>\n",
              "      <td>0.598278</td>\n",
              "      <td>0.601659</td>\n",
              "      <td>0.781827</td>\n",
              "      <td>06:04</td>\n",
              "    </tr>\n",
              "    <tr>\n",
              "      <td>1</td>\n",
              "      <td>0.598382</td>\n",
              "      <td>0.602830</td>\n",
              "      <td>0.782826</td>\n",
              "      <td>06:04</td>\n",
              "    </tr>\n",
              "    <tr>\n",
              "      <td>2</td>\n",
              "      <td>0.597681</td>\n",
              "      <td>0.594052</td>\n",
              "      <td>0.788817</td>\n",
              "      <td>06:06</td>\n",
              "    </tr>\n",
              "    <tr>\n",
              "      <td>3</td>\n",
              "      <td>0.594235</td>\n",
              "      <td>0.592725</td>\n",
              "      <td>0.785322</td>\n",
              "      <td>06:10</td>\n",
              "    </tr>\n",
              "    <tr>\n",
              "      <td>4</td>\n",
              "      <td>0.574604</td>\n",
              "      <td>0.588350</td>\n",
              "      <td>0.789316</td>\n",
              "      <td>06:17</td>\n",
              "    </tr>\n",
              "    <tr>\n",
              "      <td>5</td>\n",
              "      <td>0.576153</td>\n",
              "      <td>0.584819</td>\n",
              "      <td>0.790814</td>\n",
              "      <td>06:15</td>\n",
              "    </tr>\n",
              "    <tr>\n",
              "      <td>6</td>\n",
              "      <td>0.551806</td>\n",
              "      <td>0.585444</td>\n",
              "      <td>0.789316</td>\n",
              "      <td>06:15</td>\n",
              "    </tr>\n",
              "    <tr>\n",
              "      <td>7</td>\n",
              "      <td>0.550358</td>\n",
              "      <td>0.588762</td>\n",
              "      <td>0.790814</td>\n",
              "      <td>06:14</td>\n",
              "    </tr>\n",
              "    <tr>\n",
              "      <td>8</td>\n",
              "      <td>0.543088</td>\n",
              "      <td>0.585403</td>\n",
              "      <td>0.787319</td>\n",
              "      <td>06:20</td>\n",
              "    </tr>\n",
              "    <tr>\n",
              "      <td>9</td>\n",
              "      <td>0.551631</td>\n",
              "      <td>0.586694</td>\n",
              "      <td>0.785821</td>\n",
              "      <td>06:21</td>\n",
              "    </tr>\n",
              "  </tbody>\n",
              "</table>"
            ],
            "text/plain": [
              "<IPython.core.display.HTML object>"
            ]
          },
          "metadata": {
            "tags": []
          }
        }
      ]
    },
    {
      "cell_type": "code",
      "metadata": {
        "id": "3M66wQaOqGCO",
        "colab_type": "code",
        "colab": {}
      },
      "source": [
        "learner.save('stage-1')"
      ],
      "execution_count": 0,
      "outputs": []
    },
    {
      "cell_type": "code",
      "metadata": {
        "id": "-X8WHuQ0qIto",
        "colab_type": "code",
        "colab": {
          "base_uri": "https://localhost:8080/",
          "height": 17
        },
        "outputId": "51d4a06f-02ae-4b0f-8e32-6adb91c8ef60"
      },
      "source": [
        "interp = ClassificationInterpretation.from_learner(learner)"
      ],
      "execution_count": 41,
      "outputs": [
        {
          "output_type": "display_data",
          "data": {
            "text/html": [
              ""
            ],
            "text/plain": [
              "<IPython.core.display.HTML object>"
            ]
          },
          "metadata": {
            "tags": []
          }
        }
      ]
    },
    {
      "cell_type": "code",
      "metadata": {
        "id": "LpSJgNjOZSkp",
        "colab_type": "code",
        "colab": {
          "base_uri": "https://localhost:8080/",
          "height": 33
        },
        "outputId": "9f3175ab-f8a1-4d96-bb3a-80fe7bac43f9"
      },
      "source": [
        "\n",
        "\n",
        "losses,idxs = interp.top_losses()\n",
        "\n",
        "len(data.valid_ds)==len(losses)==len(idxs)"
      ],
      "execution_count": 42,
      "outputs": [
        {
          "output_type": "execute_result",
          "data": {
            "text/plain": [
              "True"
            ]
          },
          "metadata": {
            "tags": []
          },
          "execution_count": 42
        }
      ]
    },
    {
      "cell_type": "code",
      "metadata": {
        "id": "ccXGRxwXZYBV",
        "colab_type": "code",
        "colab": {
          "base_uri": "https://localhost:8080/",
          "height": 707
        },
        "outputId": "a54c4a81-0847-4821-c8d9-a70f2f0dcef1"
      },
      "source": [
        "interp.plot_top_losses(4, figsize=(15,11))"
      ],
      "execution_count": 43,
      "outputs": [
        {
          "output_type": "display_data",
          "data": {
            "image/png": "[encoded data removed]",
            "text/plain": [
              "<Figure size 1080x792 with 4 Axes>"
            ]
          },
          "metadata": {
            "tags": []
          }
        }
      ]
    },
    {
      "cell_type": "code",
      "metadata": {
        "id": "uSjZviuJqK7x",
        "colab_type": "code",
        "colab": {
          "base_uri": "https://localhost:8080/",
          "height": 598
        },
        "outputId": "668e32bb-7913-482a-baad-68e566b6297b"
      },
      "source": [
        "interp.plot_confusion_matrix(figsize=(10,8))"
      ],
      "execution_count": 44,
      "outputs": [
        {
          "output_type": "display_data",
          "data": {
            "image/png": "[encoded data removed]",
            "text/plain": [
              "<Figure size 720x576 with 1 Axes>"
            ]
          },
          "metadata": {
            "tags": []
          }
        }
      ]
    },
    {
      "cell_type": "code",
      "metadata": {
        "id": "nVrKgCqtqN42",
        "colab_type": "code",
        "colab": {
          "base_uri": "https://localhost:8080/",
          "height": 98
        },
        "outputId": "eb1000f2-9c16-4cb4-8cd5-84aa8135f152"
      },
      "source": [
        "\n",
        "interp.most_confused(min_val=19)"
      ],
      "execution_count": 45,
      "outputs": [
        {
          "output_type": "execute_result",
          "data": {
            "text/plain": [
              "[('dermatofibroma', 'Melanocytic nevi', 101),\n",
              " ('Benign keratosis-like lesions ', 'Melanocytic nevi', 78),\n",
              " ('Melanocytic nevi', 'Benign keratosis-like lesions ', 28),\n",
              " ('dermatofibroma', 'Benign keratosis-like lesions ', 24),\n",
              " ('Melanocytic nevi', 'dermatofibroma', 21)]"
            ]
          },
          "metadata": {
            "tags": []
          },
          "execution_count": 45
        }
      ]
    },
    {
      "cell_type": "markdown",
      "metadata": {
        "id": "H3To7pQ8Zw11",
        "colab_type": "text"
      },
      "source": [
        "# Unfreeze"
      ]
    },
    {
      "cell_type": "code",
      "metadata": {
        "id": "9KN2ufzyZyf_",
        "colab_type": "code",
        "colab": {}
      },
      "source": [
        "\n",
        "learner.unfreeze()"
      ],
      "execution_count": 0,
      "outputs": []
    },
    {
      "cell_type": "code",
      "metadata": {
        "id": "dzTgJ8oVZ4hT",
        "colab_type": "code",
        "colab": {
          "base_uri": "https://localhost:8080/",
          "height": 76
        },
        "outputId": "bf1eaf8b-0bd2-486d-ce14-38fa9c8dbde5"
      },
      "source": [
        "learner.fit_one_cycle(1)"
      ],
      "execution_count": 47,
      "outputs": [
        {
          "output_type": "display_data",
          "data": {
            "text/html": [
              "<table border=\"1\" class=\"dataframe\">\n",
              "  <thead>\n",
              "    <tr style=\"text-align: left;\">\n",
              "      <th>epoch</th>\n",
              "      <th>train_loss</th>\n",
              "      <th>valid_loss</th>\n",
              "      <th>accuracy</th>\n",
              "      <th>time</th>\n",
              "    </tr>\n",
              "  </thead>\n",
              "  <tbody>\n",
              "    <tr>\n",
              "      <td>0</td>\n",
              "      <td>0.713477</td>\n",
              "      <td>0.637022</td>\n",
              "      <td>0.771343</td>\n",
              "      <td>06:14</td>\n",
              "    </tr>\n",
              "  </tbody>\n",
              "</table>"
            ],
            "text/plain": [
              "<IPython.core.display.HTML object>"
            ]
          },
          "metadata": {
            "tags": []
          }
        }
      ]
    },
    {
      "cell_type": "code",
      "metadata": {
        "id": "ya7fTA0ZZ8bT",
        "colab_type": "code",
        "colab": {}
      },
      "source": [
        "learner.load('stage-1');"
      ],
      "execution_count": 0,
      "outputs": []
    },
    {
      "cell_type": "code",
      "metadata": {
        "id": "DwJDERriZ_vD",
        "colab_type": "code",
        "colab": {
          "base_uri": "https://localhost:8080/",
          "height": 108
        },
        "outputId": "8ac3b3ae-5bf0-4db1-e0df-9f68be4c4d97"
      },
      "source": [
        "\n",
        "learner.lr_find()"
      ],
      "execution_count": 48,
      "outputs": [
        {
          "output_type": "display_data",
          "data": {
            "text/html": [
              "\n",
              "    <div>\n",
              "        <style>\n",
              "            /* Turns off some styling */\n",
              "            progress {\n",
              "                /* gets rid of default border in Firefox and Opera. */\n",
              "                border: none;\n",
              "                /* Needs to be in here for Safari polyfill so background images work as expected. */\n",
              "                background-size: auto;\n",
              "            }\n",
              "            .progress-bar-interrupted, .progress-bar-interrupted::-webkit-progress-bar {\n",
              "                background: #F44336;\n",
              "            }\n",
              "        </style>\n",
              "      <progress value='0' class='' max='1', style='width:300px; height:20px; vertical-align: middle;'></progress>\n",
              "      0.00% [0/1 00:00<00:00]\n",
              "    </div>\n",
              "    \n",
              "<table border=\"1\" class=\"dataframe\">\n",
              "  <thead>\n",
              "    <tr style=\"text-align: left;\">\n",
              "      <th>epoch</th>\n",
              "      <th>train_loss</th>\n",
              "      <th>valid_loss</th>\n",
              "      <th>accuracy</th>\n",
              "      <th>time</th>\n",
              "    </tr>\n",
              "  </thead>\n",
              "  <tbody>\n",
              "  </tbody>\n",
              "</table><p>\n",
              "\n",
              "    <div>\n",
              "        <style>\n",
              "            /* Turns off some styling */\n",
              "            progress {\n",
              "                /* gets rid of default border in Firefox and Opera. */\n",
              "                border: none;\n",
              "                /* Needs to be in here for Safari polyfill so background images work as expected. */\n",
              "                background-size: auto;\n",
              "            }\n",
              "            .progress-bar-interrupted, .progress-bar-interrupted::-webkit-progress-bar {\n",
              "                background: #F44336;\n",
              "            }\n",
              "        </style>\n",
              "      <progress value='84' class='' max='125', style='width:300px; height:20px; vertical-align: middle;'></progress>\n",
              "      67.20% [84/125 03:50<01:52 1.5128]\n",
              "    </div>\n",
              "    "
            ],
            "text/plain": [
              "<IPython.core.display.HTML object>"
            ]
          },
          "metadata": {
            "tags": []
          }
        },
        {
          "output_type": "stream",
          "text": [
            "LR Finder is complete, type {learner_name}.recorder.plot() to see the graph.\n"
          ],
          "name": "stdout"
        }
      ]
    },
    {
      "cell_type": "code",
      "metadata": {
        "id": "1UkSlZSfaChz",
        "colab_type": "code",
        "colab": {
          "base_uri": "https://localhost:8080/",
          "height": 278
        },
        "outputId": "77b99abc-f700-450b-d511-62990ed258a0"
      },
      "source": [
        "\n",
        "learner.recorder.plot()"
      ],
      "execution_count": 49,
      "outputs": [
        {
          "output_type": "display_data",
          "data": {
            "image/png": "[encoded data removed]",
            "text/plain": [
              "<Figure size 432x288 with 1 Axes>"
            ]
          },
          "metadata": {
            "tags": []
          }
        }
      ]
    },
    {
      "cell_type": "code",
      "metadata": {
        "id": "-B5yAXlQaGHk",
        "colab_type": "code",
        "colab": {
          "base_uri": "https://localhost:8080/",
          "height": 392
        },
        "outputId": "86d2c199-636b-442c-8ad5-acb4d5ba57bd"
      },
      "source": [
        "learner.unfreeze()\n",
        "learner.fit_one_cycle(12, max_lr=slice(1e-6,1e-4))"
      ],
      "execution_count": 50,
      "outputs": [
        {
          "output_type": "display_data",
          "data": {
            "text/html": [
              "<table border=\"1\" class=\"dataframe\">\n",
              "  <thead>\n",
              "    <tr style=\"text-align: left;\">\n",
              "      <th>epoch</th>\n",
              "      <th>train_loss</th>\n",
              "      <th>valid_loss</th>\n",
              "      <th>accuracy</th>\n",
              "      <th>time</th>\n",
              "    </tr>\n",
              "  </thead>\n",
              "  <tbody>\n",
              "    <tr>\n",
              "      <td>0</td>\n",
              "      <td>0.651260</td>\n",
              "      <td>0.622668</td>\n",
              "      <td>0.775337</td>\n",
              "      <td>06:08</td>\n",
              "    </tr>\n",
              "    <tr>\n",
              "      <td>1</td>\n",
              "      <td>0.639360</td>\n",
              "      <td>0.592865</td>\n",
              "      <td>0.791812</td>\n",
              "      <td>06:08</td>\n",
              "    </tr>\n",
              "    <tr>\n",
              "      <td>2</td>\n",
              "      <td>0.602414</td>\n",
              "      <td>0.577667</td>\n",
              "      <td>0.790315</td>\n",
              "      <td>06:04</td>\n",
              "    </tr>\n",
              "    <tr>\n",
              "      <td>3</td>\n",
              "      <td>0.583524</td>\n",
              "      <td>0.565835</td>\n",
              "      <td>0.788318</td>\n",
              "      <td>06:06</td>\n",
              "    </tr>\n",
              "    <tr>\n",
              "      <td>4</td>\n",
              "      <td>0.570742</td>\n",
              "      <td>0.560566</td>\n",
              "      <td>0.788817</td>\n",
              "      <td>06:09</td>\n",
              "    </tr>\n",
              "    <tr>\n",
              "      <td>5</td>\n",
              "      <td>0.549340</td>\n",
              "      <td>0.560362</td>\n",
              "      <td>0.789316</td>\n",
              "      <td>06:05</td>\n",
              "    </tr>\n",
              "    <tr>\n",
              "      <td>6</td>\n",
              "      <td>0.526281</td>\n",
              "      <td>0.562641</td>\n",
              "      <td>0.794808</td>\n",
              "      <td>06:05</td>\n",
              "    </tr>\n",
              "    <tr>\n",
              "      <td>7</td>\n",
              "      <td>0.521275</td>\n",
              "      <td>0.561590</td>\n",
              "      <td>0.797304</td>\n",
              "      <td>06:05</td>\n",
              "    </tr>\n",
              "    <tr>\n",
              "      <td>8</td>\n",
              "      <td>0.504029</td>\n",
              "      <td>0.559825</td>\n",
              "      <td>0.796306</td>\n",
              "      <td>06:08</td>\n",
              "    </tr>\n",
              "    <tr>\n",
              "      <td>9</td>\n",
              "      <td>0.500624</td>\n",
              "      <td>0.559403</td>\n",
              "      <td>0.795307</td>\n",
              "      <td>06:09</td>\n",
              "    </tr>\n",
              "    <tr>\n",
              "      <td>10</td>\n",
              "      <td>0.500272</td>\n",
              "      <td>0.561286</td>\n",
              "      <td>0.794808</td>\n",
              "      <td>06:05</td>\n",
              "    </tr>\n",
              "    <tr>\n",
              "      <td>11</td>\n",
              "      <td>0.492037</td>\n",
              "      <td>0.563701</td>\n",
              "      <td>0.795806</td>\n",
              "      <td>06:11</td>\n",
              "    </tr>\n",
              "  </tbody>\n",
              "</table>"
            ],
            "text/plain": [
              "<IPython.core.display.HTML object>"
            ]
          },
          "metadata": {
            "tags": []
          }
        }
      ]
    },
    {
      "cell_type": "markdown",
      "metadata": {
        "id": "0XVwzooCqn1A",
        "colab_type": "text"
      },
      "source": [
        "## Predictions"
      ]
    },
    {
      "cell_type": "code",
      "metadata": {
        "id": "5KZdEDAVqrEh",
        "colab_type": "code",
        "colab": {
          "base_uri": "https://localhost:8080/",
          "height": 17
        },
        "outputId": "008be9ef-4823-44bd-8fd0-f23d8e87c0f0"
      },
      "source": [
        "# Predictions of the validation data\n",
        "preds_val, y_val=learner.get_preds()"
      ],
      "execution_count": 51,
      "outputs": [
        {
          "output_type": "display_data",
          "data": {
            "text/html": [
              ""
            ],
            "text/plain": [
              "<IPython.core.display.HTML object>"
            ]
          },
          "metadata": {
            "tags": []
          }
        }
      ]
    },
    {
      "cell_type": "code",
      "metadata": {
        "id": "QR43umMoaz4M",
        "colab_type": "code",
        "colab": {
          "base_uri": "https://localhost:8080/",
          "height": 158
        },
        "outputId": "2f5f729d-5775-4ec9-df6e-2e06d36da046"
      },
      "source": [
        "predictor = create_cnn(pred_data, models.resnet50, model_dir=\"/tmp/model/\").load('stage-1')"
      ],
      "execution_count": 52,
      "outputs": [
        {
          "output_type": "error",
          "ename": "NameError",
          "evalue": "ignored",
          "traceback": [
            "\u001b[0;31m---------------------------------------------------------------------------\u001b[0m",
            "\u001b[0;31mNameError\u001b[0m                                 Traceback (most recent call last)",
            "\u001b[0;32m<ipython-input-52-449b06aee9e8>\u001b[0m in \u001b[0;36m<module>\u001b[0;34m()\u001b[0m\n\u001b[0;32m----> 1\u001b[0;31m \u001b[0mpredictor\u001b[0m \u001b[0;34m=\u001b[0m \u001b[0mcreate_cnn\u001b[0m\u001b[0;34m(\u001b[0m\u001b[0mpred_data\u001b[0m\u001b[0;34m,\u001b[0m \u001b[0mmodels\u001b[0m\u001b[0;34m.\u001b[0m\u001b[0mresnet50\u001b[0m\u001b[0;34m,\u001b[0m \u001b[0mmodel_dir\u001b[0m\u001b[0;34m=\u001b[0m\u001b[0;34m\"/tmp/model/\"\u001b[0m\u001b[0;34m)\u001b[0m\u001b[0;34m.\u001b[0m\u001b[0mload\u001b[0m\u001b[0;34m(\u001b[0m\u001b[0;34m'stage-1'\u001b[0m\u001b[0;34m)\u001b[0m\u001b[0;34m\u001b[0m\u001b[0;34m\u001b[0m\u001b[0m\n\u001b[0m",
            "\u001b[0;31mNameError\u001b[0m: name 'pred_data' is not defined"
          ]
        }
      ]
    },
    {
      "cell_type": "markdown",
      "metadata": {
        "id": "YOwqYRjYqt1g",
        "colab_type": "text"
      },
      "source": [
        "### Roc Curve\n",
        "With the ROC curve we will mesuare how good it's our model"
      ]
    },
    {
      "cell_type": "markdown",
      "metadata": {
        "id": "wTIHGPQWjKQP",
        "colab_type": "text"
      },
      "source": [
        "- A receiver operating characteristic curve, or ROC curve, is a graphical plot that illustrates the diagnostic ability of a binary classifier system as its discrimination threshold is varied. \n",
        "- The ROC curve is created by plotting the true positive rate against the false positive rate at various threshold settings.\n",
        "<img width=\"800\" src=\"https://st3.ning.com/topology/rest/1.0/file/get/1341805045?profile=original\">"
      ]
    },
    {
      "cell_type": "markdown",
      "metadata": {
        "id": "vHsi4yJ3joXQ",
        "colab_type": "text"
      },
      "source": [
        "- With a ROC curve, you're trying to find a good model that optimizes the trade off between the False Positive Rate (FPR) and True Positive Rate (TPR).  \n",
        "- What counts here is how much area is under the curve (Area under the Curve = AuC). \n",
        "- The ideal curve in the left image fills in 100%, which means that you're going to be able to distinguish between negative results and positive results 100% of the time (which is almost impossible in real life). \n",
        "- The further you go to the right, the worse the detection. \n",
        "- The ROC curve to the far right does a worse job than chance, mixing up the negatives and positives (which means you likely have an error in your setup)."
      ]
    },
    {
      "cell_type": "code",
      "metadata": {
        "id": "troMY6VPqyge",
        "colab_type": "code",
        "colab": {
          "base_uri": "https://localhost:8080/",
          "height": 33
        },
        "outputId": "fb1f6d01-3184-49cf-978e-f4b3530c1d0f"
      },
      "source": [
        "#  ROC curve\n",
        "fpr, tpr, thresholds = roc_curve(y_val.numpy(), preds_val.numpy()[:,1], pos_label=1)\n",
        "\n",
        "#  ROC area\n",
        "pred_score = auc(fpr, tpr)\n",
        "print(f'ROC area is {pred_score}')"
      ],
      "execution_count": 53,
      "outputs": [
        {
          "output_type": "stream",
          "text": [
            "ROC area is 0.9623904077786578\n"
          ],
          "name": "stdout"
        }
      ]
    },
    {
      "cell_type": "code",
      "metadata": {
        "id": "y_QUITp0q0q-",
        "colab_type": "code",
        "colab": {
          "base_uri": "https://localhost:8080/",
          "height": 311
        },
        "outputId": "60edfa1e-e1f1-402a-c310-4bce2b788df5"
      },
      "source": [
        "plt.figure()\n",
        "plt.plot(fpr, tpr, color='orange', label='ROC curve (area = %0.2f)' % pred_score)\n",
        "plt.plot([0, 1], [0, 1], color='navy', linestyle='--')\n",
        "plt.xlim([-0.01, 1.0])\n",
        "plt.ylim([0.0, 1.01])\n",
        "plt.xlabel('False Positive Rate')\n",
        "plt.ylabel('True Positive Rate')\n",
        "plt.title('Receiver Operating Characteristic')\n",
        "plt.legend(loc=\"lower right\")"
      ],
      "execution_count": 54,
      "outputs": [
        {
          "output_type": "execute_result",
          "data": {
            "text/plain": [
              "<matplotlib.legend.Legend at 0x7f6e668bcf98>"
            ]
          },
          "metadata": {
            "tags": []
          },
          "execution_count": 54
        },
        {
          "output_type": "display_data",
          "data": {
            "image/png": "[encoded data removed]",
            "text/plain": [
              "<Figure size 432x288 with 1 Axes>"
            ]
          },
          "metadata": {
            "tags": []
          }
        }
      ]
    },
    {
      "cell_type": "markdown",
      "metadata": {
        "id": "MGEzNrzcem_N",
        "colab_type": "text"
      },
      "source": [
        "# Prediction"
      ]
    },
    {
      "cell_type": "code",
      "metadata": {
        "id": "IjSuhSOoeV8V",
        "colab_type": "code",
        "colab": {
          "base_uri": "https://localhost:8080/",
          "height": 17
        },
        "outputId": "da99e8da-a36c-4270-9cff-c04cf2272f4a"
      },
      "source": [
        "learner.to_fp32()   #I think that in latest version of fastai you don't have to come back \n",
        "                    #from half_precision, but here gives me an error when running TTA.\n",
        "int=learner.interpret(tta=True)"
      ],
      "execution_count": 55,
      "outputs": [
        {
          "output_type": "display_data",
          "data": {
            "text/html": [
              ""
            ],
            "text/plain": [
              "<IPython.core.display.HTML object>"
            ]
          },
          "metadata": {
            "tags": []
          }
        },
        {
          "output_type": "display_data",
          "data": {
            "text/html": [
              ""
            ],
            "text/plain": [
              "<IPython.core.display.HTML object>"
            ]
          },
          "metadata": {
            "tags": []
          }
        }
      ]
    },
    {
      "cell_type": "code",
      "metadata": {
        "id": "okuuRTlOewCr",
        "colab_type": "code",
        "colab": {
          "base_uri": "https://localhost:8080/",
          "height": 455
        },
        "outputId": "33760f54-22a1-42c3-d533-5684252740cf"
      },
      "source": [
        "int.plot_confusion_matrix(figsize=(6,6))"
      ],
      "execution_count": 56,
      "outputs": [
        {
          "output_type": "display_data",
          "data": {
            "image/png": "[encoded data removed]",
            "text/plain": [
              "<Figure size 432x432 with 1 Axes>"
            ]
          },
          "metadata": {
            "tags": []
          }
        }
      ]
    },
    {
      "cell_type": "code",
      "metadata": {
        "id": "7-pJVqcFezL9",
        "colab_type": "code",
        "colab": {
          "base_uri": "https://localhost:8080/",
          "height": 1000
        },
        "outputId": "2a90c50e-3400-405f-f2ef-b0dbc22374c4"
      },
      "source": [
        "int.plot_top_losses(4, figsize=(17,17), heatmap=True)"
      ],
      "execution_count": 57,
      "outputs": [
        {
          "output_type": "display_data",
          "data": {
            "image/png": "[encoded data removed]",
            "text/plain": [
              "<Figure size 1224x1224 with 4 Axes>"
            ]
          },
          "metadata": {
            "tags": []
          }
        }
      ]
    }
  ]
}